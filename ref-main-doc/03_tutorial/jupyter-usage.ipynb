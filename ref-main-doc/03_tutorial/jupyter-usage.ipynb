{
 "cells": [
  {
   "cell_type": "markdown",
   "id": "referenced-motion",
   "metadata": {},
   "source": [
    "# JupterLab Shortcut\n",
    "\n",
    "|단축키|설명|\n",
    "|:---:|:---:|\n",
    "|ESC (Ctrl + M)|Command Mode|\n",
    "|ENTER|Edit Mode|\n",
    "|A|prepend cell|\n",
    "|B|append cell|\n",
    "|M|Change cell to markdown|\n",
    "|Y|Change cell to code|\n",
    "|Ctrl + Enter|해당 셀 실행|\n",
    "|Alt + Enter|해당 셀 실행 후 append cell|\n",
    "|C|복사|\n",
    "|X|자르기|\n",
    "|V|아래에 붙여넣기|\n",
    "|D + D|선택 셀 삭제|\n",
    "|Ctrl + Z|Cell 내 되돌리기|\n",
    "|Ctrl + Y|Cell 내 다시실행|\n",
    "|Shift + M|아래 셀 합치기|\n",
    "|Ctrl+ Shift + -|셀 나누기|\n",
    "|Z|되돌리기|\n",
    "|Shift + L|셀 라인 표시|\n",
    "\n"
   ]
  },
  {
   "cell_type": "code",
   "execution_count": 6,
   "id": "loving-variety",
   "metadata": {},
   "outputs": [
    {
     "name": "stdout",
     "output_type": "stream",
     "text": [
      "Hello World\n"
     ]
    }
   ],
   "source": [
    "print(\"Hello World\")"
   ]
  },
  {
   "cell_type": "code",
   "execution_count": 9,
   "id": "handy-reminder",
   "metadata": {},
   "outputs": [
    {
     "data": {
      "text/plain": [
       "30"
      ]
     },
     "execution_count": 9,
     "metadata": {},
     "output_type": "execute_result"
    }
   ],
   "source": [
    "num1 = 10\n",
    "num2 = 20\n",
    "num1 + num2"
   ]
  },
  {
   "cell_type": "markdown",
   "id": "interstate-trader",
   "metadata": {},
   "source": [
    "## is, is not\n",
    " - identity 연산자\n",
    " - reference comparison\n",
    "\n",
    "## ==, !=\n",
    " - 비교 연산자\n",
    " - value comparison"
   ]
  },
  {
   "cell_type": "code",
   "execution_count": 20,
   "id": "young-survey",
   "metadata": {},
   "outputs": [
    {
     "ename": "NameError",
     "evalue": "name 'verboseOf' is not defined",
     "output_type": "error",
     "traceback": [
      "\u001b[1;31m---------------------------------------------------------------------------\u001b[0m",
      "\u001b[1;31mNameError\u001b[0m                                 Traceback (most recent call last)",
      "\u001b[1;32m<ipython-input-20-b074c93e53fd>\u001b[0m in \u001b[0;36m<module>\u001b[1;34m\u001b[0m\n\u001b[0;32m      1\u001b[0m \u001b[1;32mfrom\u001b[0m \u001b[0mmypac\u001b[0m\u001b[1;33m.\u001b[0m\u001b[0mutil\u001b[0m\u001b[1;33m.\u001b[0m\u001b[0mof\u001b[0m \u001b[1;32mimport\u001b[0m \u001b[1;33m*\u001b[0m\u001b[1;33m\u001b[0m\u001b[1;33m\u001b[0m\u001b[0m\n\u001b[0;32m      2\u001b[0m \u001b[1;33m\u001b[0m\u001b[0m\n\u001b[1;32m----> 3\u001b[1;33m verboseOf(values(1,2,3,4,5,6,7,8,9,10),\n\u001b[0m\u001b[0;32m      4\u001b[0m    \u001b[0mmapping\u001b[0m \u001b[1;33m=\u001b[0m \u001b[1;32mlambda\u001b[0m \u001b[0mx\u001b[0m \u001b[1;33m:\u001b[0m \u001b[0mx\u001b[0m \u001b[1;33m*\u001b[0m \u001b[1;36m10\u001b[0m\u001b[1;33m,\u001b[0m\u001b[1;33m\u001b[0m\u001b[1;33m\u001b[0m\u001b[0m\n\u001b[0;32m      5\u001b[0m    \u001b[0mfiltering\u001b[0m \u001b[1;33m=\u001b[0m \u001b[1;32mlambda\u001b[0m \u001b[0mx\u001b[0m \u001b[1;33m:\u001b[0m \u001b[0mx\u001b[0m \u001b[1;33m%\u001b[0m \u001b[1;36m2\u001b[0m \u001b[1;33m==\u001b[0m \u001b[1;36m0\u001b[0m\u001b[1;33m,\u001b[0m\u001b[1;33m\u001b[0m\u001b[1;33m\u001b[0m\u001b[0m\n",
      "\u001b[1;31mNameError\u001b[0m: name 'verboseOf' is not defined"
     ]
    }
   ],
   "source": [
    "from mypac.util.of import *\n",
    "\n",
    "verboseOf(values(1,2,3,4,5,6,7,8,9,10),\n",
    "   mapping = lambda x : x * 10,\n",
    "   filtering = lambda x : x % 2 == 0,\n",
    "   reducing = lambda x, y : x + y)"
   ]
  },
  {
   "cell_type": "code",
   "execution_count": null,
   "id": "thrown-termination",
   "metadata": {},
   "outputs": [],
   "source": []
  }
 ],
 "metadata": {
  "kernelspec": {
   "display_name": "Python 3",
   "language": "python",
   "name": "python3"
  },
  "language_info": {
   "codemirror_mode": {
    "name": "ipython",
    "version": 3
   },
   "file_extension": ".py",
   "mimetype": "text/x-python",
   "name": "python",
   "nbconvert_exporter": "python",
   "pygments_lexer": "ipython3",
   "version": "3.9.2"
  }
 },
 "nbformat": 4,
 "nbformat_minor": 5
}
