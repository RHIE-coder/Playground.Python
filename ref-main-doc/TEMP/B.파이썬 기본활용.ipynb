{
 "cells": [
  {
   "cell_type": "markdown",
   "id": "altered-secondary",
   "metadata": {},
   "source": [
    "### 튜플\n",
    " - Tuple is immutable"
   ]
  },
  {
   "cell_type": "markdown",
   "id": "green-allah",
   "metadata": {},
   "source": [
    "### Set\n",
    " - 중복제거"
   ]
  },
  {
   "cell_type": "markdown",
   "id": "genetic-validation",
   "metadata": {},
   "source": [
    "### 딕셔너리 Dictionaries"
   ]
  },
  {
   "cell_type": "markdown",
   "id": "center-uganda",
   "metadata": {},
   "source": [
    "### Looping Skills"
   ]
  },
  {
   "cell_type": "markdown",
   "id": "familiar-hundred",
   "metadata": {},
   "source": [
    "<hr>"
   ]
  },
  {
   "cell_type": "markdown",
   "id": "colored-franklin",
   "metadata": {},
   "source": [
    "<hr>"
   ]
  },
  {
   "cell_type": "markdown",
   "id": "legendary-dealer",
   "metadata": {},
   "source": [
    "<hr>"
   ]
  },
  {
   "cell_type": "markdown",
   "id": "threaded-ideal",
   "metadata": {},
   "source": [
    "<hr>\n",
    "\n",
    "# 사이클 스터디 완료\n",
    "\n",
    "## 이후에 관심이 가는 공부\n",
    "\n",
    " - [10. Brief Tour of the Standard Library](https://docs.python.org/3/tutorial/stdlib.html)\n",
    " - [11. Brief Tour of the Standard Library — Part II](https://docs.python.org/3/tutorial/stdlib2.html)\n",
    " - [12. Virtual Environments and Packages](https://docs.python.org/3/tutorial/venv.html)\n",
    " \n",
    "## 재밌는 블로그\n",
    "\n",
    " - [핵심만 간단히 Hello World 파이썬](https://wikidocs.net/21050)"
   ]
  }
 ],
 "metadata": {
  "kernelspec": {
   "display_name": "Python 3",
   "language": "python",
   "name": "python3"
  },
  "language_info": {
   "codemirror_mode": {
    "name": "ipython",
    "version": 3
   },
   "file_extension": ".py",
   "mimetype": "text/x-python",
   "name": "python",
   "nbconvert_exporter": "python",
   "pygments_lexer": "ipython3",
   "version": "3.9.2"
  }
 },
 "nbformat": 4,
 "nbformat_minor": 5
}
