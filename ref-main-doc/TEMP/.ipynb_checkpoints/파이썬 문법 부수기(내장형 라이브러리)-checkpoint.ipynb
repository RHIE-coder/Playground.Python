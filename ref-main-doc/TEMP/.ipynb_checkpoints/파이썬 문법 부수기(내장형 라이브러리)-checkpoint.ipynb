{
 "cells": [
  {
   "cell_type": "markdown",
   "metadata": {},
   "source": [
    "일부 컬렉션 클래스는 가변입니다. 제자리에서 멤버를 추가, 삭제 또는 재배치하고 특정 항목을 반환하지 않는 메서드는 컬렉션 인스턴스 자체를 반환하지 않고 None 을 반환합니다."
   ]
  },
  {
   "cell_type": "markdown",
   "metadata": {},
   "source": [
    "### 논리값 검사\n",
    " - 모든 객체는 논리값을 검사할 수 있음\n",
    " - 기본적으로 객체는 클래스가 그 객체에 대해 호출될 때 False 를 돌려주는 __bool__() 메서드나 0을 돌려주는 __len__() 메서드를 정의하지 않는 한 참으로 간주합니다\n",
    "     \n",
    "    거짓으로 정의된 상수: None 과 False.\n",
    "\n",
    "    모든 숫자 형들의 영: 0, 0.0, 0j, Decimal(0), Fraction(0, 1)\n",
    "\n",
    "    빈 시퀀스와 컬렉션: '', (), [], {}, set(), range(0)"
   ]
  },
  {
   "cell_type": "markdown",
   "metadata": {},
   "source": [
    "### 논리 연산 - and, or, not\n",
    "|연산|특징|\n",
    "|:---:|:---|\n",
    "|`x or y`| 첫 번째 인자가 거짓일 때만 두 번째의 값을 구한다.|\n",
    "|`x and y`| 첫 번째 인자가 참일 때만 두 번째의 값을 구한다.|\n",
    "|`not x`| 낮은 우선순위, not a == b는 not (a == b)로 해석된다.|"
   ]
  },
  {
   "cell_type": "markdown",
   "metadata": {},
   "source": [
    "### 비교\n",
    " - 파이썬에는 8가지 비교 연산이 있습니다. 이들 모두는 같은 우선순위를 가집니다 (논리 연산보다는 높습니다).\n",
    "  - x < y <= z 는 x < y and y <= z와 동등, 그러나 x < y 가 거짓으로 밝혀지면 z 의 값을 구하지 않는다.\n",
    "   - `<`\n",
    "   - `<=`\n",
    "   - `>`\n",
    "   - `>=`\n",
    "   - `==` : 같다 ... `!=` : 같지 않다\n",
    "   - `is` : 객체 아이덴티티\n",
    "   - `is not` : 부정된 객체 아이덴티티\n",
    "   \n",
    " - 클래스의 같지 않은 인스턴스들은 그 클래스가 __eq__() 메서드를 정의하지 않는 이상 보통 같지 않다고 비교됩니다.\n",
    " \n",
    " - 클래스가 `__lt__()`, `__le__()`, `__gt__()`, `__ge__()` 메서드들을 충분히 정의하지 않는 이상, 클래스의 인스턴스들은 같은 클래스의 다른 인스턴스나 다른 형의 객체와의 순서가 정해지지 않습니다 (일반적으로, 여러분이 비교 연산자의 관습적인 의미를 원한다면 `__lt__()` 와 `__eq__()` 만으로 충분합니다)."
   ]
  },
  {
   "cell_type": "code",
   "execution_count": 7,
   "metadata": {},
   "outputs": [
    {
     "name": "stdout",
     "output_type": "stream",
     "text": [
      "True\n",
      "True\n",
      "140726038146544\n",
      "140726038146544\n"
     ]
    }
   ],
   "source": [
    "# == 와 is의 차이\n",
    "x = 100\n",
    "y = 100\n",
    "print(x == y)\n",
    "print(x is y)\n",
    "print(id(x)) #주소값 확인 id()\n",
    "print(id(y))"
   ]
  },
  {
   "cell_type": "code",
   "execution_count": 8,
   "metadata": {},
   "outputs": [
    {
     "name": "stdout",
     "output_type": "stream",
     "text": [
      "True\n",
      "False\n",
      "1379534921328\n",
      "1379534921296\n"
     ]
    }
   ],
   "source": [
    "x = 257\n",
    "y = 257\n",
    "print(x == y)\n",
    "print(x is y)\n",
    "print(id(x))\n",
    "print(id(y))"
   ]
  },
  {
   "cell_type": "markdown",
   "metadata": {},
   "source": [
    " - int로 따지면 -5~256 까지의 작은 숫자는 파이썬 내부적으로 캐시돼있어서 다른 변수에 같은 값을 넣어도 같은 메모리 주소를 참조\n",
    " - 257이상의 숫자는 다른변수에 정의하면 값이 같아도 다른 주소에 할당\n",
    " - string도 짧은 문자열은 같은 주소에 할당되나, 긴 문자열은 다른 주소에 할당된다"
   ]
  },
  {
   "cell_type": "markdown",
   "metadata": {},
   "source": []
  },
  {
   "cell_type": "markdown",
   "metadata": {},
   "source": []
  },
  {
   "cell_type": "markdown",
   "metadata": {},
   "source": []
  },
  {
   "cell_type": "markdown",
   "metadata": {},
   "source": []
  },
  {
   "cell_type": "markdown",
   "metadata": {},
   "source": []
  },
  {
   "cell_type": "markdown",
   "metadata": {},
   "source": []
  },
  {
   "cell_type": "markdown",
   "metadata": {},
   "source": []
  },
  {
   "cell_type": "markdown",
   "metadata": {},
   "source": []
  },
  {
   "cell_type": "markdown",
   "metadata": {},
   "source": []
  },
  {
   "cell_type": "code",
   "execution_count": null,
   "metadata": {},
   "outputs": [],
   "source": []
  },
  {
   "cell_type": "code",
   "execution_count": null,
   "metadata": {},
   "outputs": [],
   "source": []
  }
 ],
 "metadata": {
  "kernelspec": {
   "display_name": "Python 3",
   "language": "python",
   "name": "python3"
  },
  "language_info": {
   "codemirror_mode": {
    "name": "ipython",
    "version": 3
   },
   "file_extension": ".py",
   "mimetype": "text/x-python",
   "name": "python",
   "nbconvert_exporter": "python",
   "pygments_lexer": "ipython3",
   "version": "3.7.6"
  }
 },
 "nbformat": 4,
 "nbformat_minor": 4
}
