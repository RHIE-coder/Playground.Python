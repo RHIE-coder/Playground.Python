{
 "cells": [
  {
   "cell_type": "markdown",
   "id": "green-bolivia",
   "metadata": {},
   "source": [
    "# JupterLab Shortcut\n",
    "\n",
    "|단축키|설명|\n",
    "|:---:|:---:|\n",
    "|ESC (Ctrl + M)|Command Mode|\n",
    "|ENTER|Edit Mode|\n",
    "|A|prepend cell|\n",
    "|B|append cell|\n",
    "|M|Change cell to markdown|\n",
    "|Y|Change cell to code|\n",
    "|Ctrl + Enter|해당 셀 실행|\n",
    "|Alt + Enter|해당 셀 실행 후 append cell|\n",
    "|C|복사|\n",
    "|X|자르기|\n",
    "|V|아래에 붙여넣기|\n",
    "|D + D|선택 셀 삭제|\n",
    "|Ctrl + Z|Cell 내 되돌리기|\n",
    "|Ctrl + Y|Cell 내 다시실행|\n",
    "|Shift + M|아래 셀 합치기|\n",
    "|Ctrl+ Shift + -|셀 나누기|\n",
    "|Z|되돌리기|\n",
    "|Shift + L|셀 라인 표시|\n",
    "\n"
   ]
  },
  {
   "cell_type": "code",
   "execution_count": 6,
   "id": "understood-enclosure",
   "metadata": {},
   "outputs": [
    {
     "name": "stdout",
     "output_type": "stream",
     "text": [
      "Hello World\n"
     ]
    }
   ],
   "source": [
    "print(\"Hello World\")"
   ]
  },
  {
   "cell_type": "code",
   "execution_count": 9,
   "id": "academic-spring",
   "metadata": {},
   "outputs": [
    {
     "data": {
      "text/plain": [
       "30"
      ]
     },
     "execution_count": 9,
     "metadata": {},
     "output_type": "execute_result"
    }
   ],
   "source": [
    "num1 = 10\n",
    "num2 = 20\n",
    "num1 + num2"
   ]
  },
  {
   "cell_type": "markdown",
   "id": "other-oasis",
   "metadata": {},
   "source": [
    "https://docs.python.org/ko/3/tutorial/index.html\n",
    "\n",
    "https://wikidocs.net/64"
   ]
  },
  {
   "cell_type": "markdown",
   "id": "assured-density",
   "metadata": {},
   "source": [
    "## is, is not\n",
    " - identity 연산자\n",
    " - reference comparison\n",
    "\n",
    "## ==, !=\n",
    " - 비교 연산자\n",
    " - value comparison"
   ]
  },
  {
   "cell_type": "code",
   "execution_count": 12,
   "id": "serial-camcorder",
   "metadata": {},
   "outputs": [],
   "source": [
    "from functools import reduce\n",
    "from collections import deque\n",
    "\n",
    "def values(*args):\n",
    "    return args\n",
    "\n",
    "def of(values, *, mapping = None, filtering = None, reducing = None):\n",
    "    queue = deque([mapping, filtering, reducing])\n",
    "    source = list(values)\n",
    "    x = queue.popleft()\n",
    "    if x != None:\n",
    "        source = list(map(x,source))\n",
    "    x = queue.popleft()\n",
    "    if x != None:\n",
    "        source = filter(x, source)\n",
    "    x = queue.popleft()            \n",
    "    if x != None:\n",
    "        source = reduce(x, source)\n",
    "                \n",
    "    return source"
   ]
  },
  {
   "cell_type": "code",
   "execution_count": 14,
   "id": "celtic-synthesis",
   "metadata": {},
   "outputs": [
    {
     "data": {
      "text/plain": [
       "(1, 2, 3, 4, 5, 6)"
      ]
     },
     "execution_count": 14,
     "metadata": {},
     "output_type": "execute_result"
    }
   ],
   "source": [
    "of(values(1,2,3,4,5,6,7,8,9,10),\n",
    "   mapping = lambda x : x * 10,\n",
    "   \n",
    ")"
   ]
  },
  {
   "cell_type": "code",
   "execution_count": null,
   "id": "nonprofit-technical",
   "metadata": {},
   "outputs": [],
   "source": []
  }
 ],
 "metadata": {
  "kernelspec": {
   "display_name": "Python 3",
   "language": "python",
   "name": "python3"
  },
  "language_info": {
   "codemirror_mode": {
    "name": "ipython",
    "version": 3
   },
   "file_extension": ".py",
   "mimetype": "text/x-python",
   "name": "python",
   "nbconvert_exporter": "python",
   "pygments_lexer": "ipython3",
   "version": "3.9.2"
  }
 },
 "nbformat": 4,
 "nbformat_minor": 5
}
