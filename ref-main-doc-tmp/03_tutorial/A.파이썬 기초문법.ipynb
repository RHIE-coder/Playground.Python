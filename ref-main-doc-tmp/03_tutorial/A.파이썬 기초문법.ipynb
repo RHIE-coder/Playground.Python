{
 "cells": [
  {
   "cell_type": "markdown",
   "id": "eight-gateway",
   "metadata": {},
   "source": [
    "# 파이썬 기본문법"
   ]
  },
  {
   "cell_type": "markdown",
   "id": "greek-center",
   "metadata": {},
   "source": [
    "## 소스 코드 인코딩"
   ]
  },
  {
   "cell_type": "code",
   "execution_count": 75,
   "id": "verified-stock",
   "metadata": {},
   "outputs": [],
   "source": [
    "# -*- coding: UTF-8 -*-"
   ]
  },
  {
   "cell_type": "markdown",
   "id": "sharing-investment",
   "metadata": {},
   "source": [
    "<hr>"
   ]
  },
  {
   "cell_type": "markdown",
   "id": "invisible-arrest",
   "metadata": {},
   "source": [
    "## 숫자 계산\n",
    "\n",
    "### `+`, `-`, `*`, `**`, `/`, `//`,  `%`"
   ]
  },
  {
   "cell_type": "markdown",
   "id": "latin-sterling",
   "metadata": {},
   "source": [
    "<hr>"
   ]
  },
  {
   "cell_type": "markdown",
   "id": "fossil-narrow",
   "metadata": {},
   "source": [
    "## 문자열\n",
    " - 기본 인코딩 : `utf-8`"
   ]
  },
  {
   "cell_type": "markdown",
   "id": "personalized-humanitarian",
   "metadata": {},
   "source": [
    "### Escape and Raw"
   ]
  },
  {
   "cell_type": "code",
   "execution_count": 6,
   "id": "increased-motor",
   "metadata": {},
   "outputs": [
    {
     "name": "stdout",
     "output_type": "stream",
     "text": [
      "I'am \"Iron Man\"\n"
     ]
    }
   ],
   "source": [
    "print(\"I'am \\\"Iron Man\\\"\") #Escape"
   ]
  },
  {
   "cell_type": "code",
   "execution_count": 7,
   "id": "injured-kruger",
   "metadata": {},
   "outputs": [
    {
     "name": "stdout",
     "output_type": "stream",
     "text": [
      "c:\\Program Files\\Python39\n"
     ]
    }
   ],
   "source": [
    "print(r'c:\\Program Files\\Python39') #Raw"
   ]
  },
  {
   "cell_type": "markdown",
   "id": "cosmetic-berlin",
   "metadata": {},
   "source": [
    "### 문자 합체와 반복"
   ]
  },
  {
   "cell_type": "code",
   "execution_count": 10,
   "id": "wireless-matrix",
   "metadata": {},
   "outputs": [
    {
     "data": {
      "text/plain": [
       "'Python'"
      ]
     },
     "execution_count": 10,
     "metadata": {},
     "output_type": "execute_result"
    }
   ],
   "source": [
    "'Py'\"thon\""
   ]
  },
  {
   "cell_type": "code",
   "execution_count": 12,
   "id": "premium-repository",
   "metadata": {},
   "outputs": [
    {
     "data": {
      "text/plain": [
       "'Hi Hi Hi Welcome'"
      ]
     },
     "execution_count": 12,
     "metadata": {},
     "output_type": "execute_result"
    }
   ],
   "source": [
    "3 * 'Hi ' + 'Welcome'"
   ]
  },
  {
   "cell_type": "markdown",
   "id": "moving-entity",
   "metadata": {},
   "source": [
    "### 문자열 Literal 확장"
   ]
  },
  {
   "cell_type": "code",
   "execution_count": 8,
   "id": "reliable-latex",
   "metadata": {},
   "outputs": [
    {
     "name": "stdout",
     "output_type": "stream",
     "text": [
      "\n",
      "Usage: python\n",
      "    --version\n",
      "\n"
     ]
    }
   ],
   "source": [
    "print('''\n",
    "Usage: python\n",
    "    --version\n",
    "''') "
   ]
  },
  {
   "cell_type": "code",
   "execution_count": 14,
   "id": "proper-browser",
   "metadata": {},
   "outputs": [
    {
     "name": "stdout",
     "output_type": "stream",
     "text": [
      "Usage: python\n",
      "    --version\n",
      "\n"
     ]
    }
   ],
   "source": [
    "# 개행 없애기\n",
    "print('''\\\n",
    "Usage: python\n",
    "    --version\n",
    "''') "
   ]
  },
  {
   "cell_type": "markdown",
   "id": "informed-technician",
   "metadata": {},
   "source": [
    "### 문자열과 리스트 문법 적용"
   ]
  },
  {
   "cell_type": "code",
   "execution_count": 15,
   "id": "fresh-sleeping",
   "metadata": {},
   "outputs": [],
   "source": [
    "word = \"hello world\""
   ]
  },
  {
   "cell_type": "code",
   "execution_count": 16,
   "id": "wicked-mayor",
   "metadata": {},
   "outputs": [
    {
     "data": {
      "text/plain": [
       "'h'"
      ]
     },
     "execution_count": 16,
     "metadata": {},
     "output_type": "execute_result"
    }
   ],
   "source": [
    "word[0]"
   ]
  },
  {
   "cell_type": "code",
   "execution_count": 17,
   "id": "meaningful-subsection",
   "metadata": {},
   "outputs": [
    {
     "data": {
      "text/plain": [
       "'ell'"
      ]
     },
     "execution_count": 17,
     "metadata": {},
     "output_type": "execute_result"
    }
   ],
   "source": [
    "word[1:4]"
   ]
  },
  {
   "cell_type": "code",
   "execution_count": 18,
   "id": "negative-latvia",
   "metadata": {},
   "outputs": [
    {
     "ename": "TypeError",
     "evalue": "'str' object does not support item assignment",
     "output_type": "error",
     "traceback": [
      "\u001b[1;31m---------------------------------------------------------------------------\u001b[0m",
      "\u001b[1;31mTypeError\u001b[0m                                 Traceback (most recent call last)",
      "\u001b[1;32m<ipython-input-18-46ce295bb6eb>\u001b[0m in \u001b[0;36m<module>\u001b[1;34m\u001b[0m\n\u001b[0;32m      1\u001b[0m \u001b[1;31m#문자는 immutable하다\u001b[0m\u001b[1;33m\u001b[0m\u001b[1;33m\u001b[0m\u001b[1;33m\u001b[0m\u001b[0m\n\u001b[1;32m----> 2\u001b[1;33m \u001b[0mword\u001b[0m\u001b[1;33m[\u001b[0m\u001b[1;36m0\u001b[0m\u001b[1;33m]\u001b[0m \u001b[1;33m=\u001b[0m \u001b[1;34m'H'\u001b[0m\u001b[1;33m\u001b[0m\u001b[1;33m\u001b[0m\u001b[0m\n\u001b[0m",
      "\u001b[1;31mTypeError\u001b[0m: 'str' object does not support item assignment"
     ]
    }
   ],
   "source": [
    "#문자는 immutable하다\n",
    "word[0] = 'H'"
   ]
  },
  {
   "cell_type": "code",
   "execution_count": 19,
   "id": "occupational-stationery",
   "metadata": {},
   "outputs": [
    {
     "data": {
      "text/plain": [
       "11"
      ]
     },
     "execution_count": 19,
     "metadata": {},
     "output_type": "execute_result"
    }
   ],
   "source": [
    "len(word)"
   ]
  },
  {
   "cell_type": "markdown",
   "id": "detailed-river",
   "metadata": {},
   "source": [
    "### 문자열 함수(보충 필요)\n",
    " - https://docs.python.org/ko/3/library/stdtypes.html#string-methods"
   ]
  },
  {
   "cell_type": "code",
   "execution_count": 39,
   "id": "proved-render",
   "metadata": {},
   "outputs": [
    {
     "data": {
      "text/plain": [
       "'Word'"
      ]
     },
     "execution_count": 39,
     "metadata": {},
     "output_type": "execute_result"
    }
   ],
   "source": [
    "'word'.capitalize() #첫번째는 대문자"
   ]
  },
  {
   "cell_type": "code",
   "execution_count": 30,
   "id": "presidential-impossible",
   "metadata": {},
   "outputs": [
    {
     "data": {
      "text/plain": [
       "' word '"
      ]
     },
     "execution_count": 30,
     "metadata": {},
     "output_type": "execute_result"
    }
   ],
   "source": [
    "'word'.center(len('word')+2)"
   ]
  },
  {
   "cell_type": "code",
   "execution_count": 33,
   "id": "conventional-romance",
   "metadata": {},
   "outputs": [
    {
     "data": {
      "text/plain": [
       "4"
      ]
     },
     "execution_count": 33,
     "metadata": {},
     "output_type": "execute_result"
    }
   ],
   "source": [
    "'woowoo'.count('o')"
   ]
  },
  {
   "cell_type": "code",
   "execution_count": 43,
   "id": "material-connection",
   "metadata": {},
   "outputs": [
    {
     "data": {
      "text/plain": [
       "True"
      ]
     },
     "execution_count": 43,
     "metadata": {},
     "output_type": "execute_result"
    }
   ],
   "source": [
    "str(123).endswith('3')"
   ]
  },
  {
   "cell_type": "code",
   "execution_count": 45,
   "id": "fatal-messaging",
   "metadata": {},
   "outputs": [
    {
     "data": {
      "text/plain": [
       "'hello               World'"
      ]
     },
     "execution_count": 45,
     "metadata": {},
     "output_type": "execute_result"
    }
   ],
   "source": [
    "'hello\\tWorld'.expandtabs(tabsize=20)"
   ]
  },
  {
   "cell_type": "code",
   "execution_count": 50,
   "id": "lovely-alliance",
   "metadata": {},
   "outputs": [
    {
     "data": {
      "text/plain": [
       "1"
      ]
     },
     "execution_count": 50,
     "metadata": {},
     "output_type": "execute_result"
    }
   ],
   "source": [
    "'woowoo'.find('o')"
   ]
  },
  {
   "cell_type": "code",
   "execution_count": 115,
   "id": "quick-scheme",
   "metadata": {},
   "outputs": [
    {
     "data": {
      "text/plain": [
       "True"
      ]
     },
     "execution_count": 115,
     "metadata": {},
     "output_type": "execute_result"
    }
   ],
   "source": [
    "'py' in 'python'"
   ]
  },
  {
   "cell_type": "code",
   "execution_count": 118,
   "id": "subjective-modern",
   "metadata": {},
   "outputs": [
    {
     "data": {
      "text/plain": [
       "'a, b, c'"
      ]
     },
     "execution_count": 118,
     "metadata": {},
     "output_type": "execute_result"
    }
   ],
   "source": [
    "'{}, {}, {}'.format('a', 'b', 'c')"
   ]
  },
  {
   "cell_type": "code",
   "execution_count": 119,
   "id": "prostate-george",
   "metadata": {},
   "outputs": [
    {
     "data": {
      "text/plain": [
       "'c, b, a'"
      ]
     },
     "execution_count": 119,
     "metadata": {},
     "output_type": "execute_result"
    }
   ],
   "source": [
    "'{2}, {1}, {0}'.format('a', 'b', 'c')"
   ]
  },
  {
   "cell_type": "code",
   "execution_count": 126,
   "id": "christian-september",
   "metadata": {},
   "outputs": [
    {
     "name": "stdout",
     "output_type": "stream",
     "text": [
      "name : James\n",
      "age : 10\n",
      "\n"
     ]
    }
   ],
   "source": [
    "member={\n",
    "    'name':'James',\n",
    "    'age':10,\n",
    "    'phone':'010-5441-4992'\n",
    "}\n",
    "\n",
    "\n",
    "info = \"\"\"\\\n",
    "name : {name}\n",
    "age : {age}\n",
    "\"\"\".format(**member)\n",
    "\n",
    "print(info)"
   ]
  },
  {
   "cell_type": "code",
   "execution_count": 54,
   "id": "starting-laundry",
   "metadata": {},
   "outputs": [],
   "source": [
    "#----------생략----------#"
   ]
  },
  {
   "cell_type": "markdown",
   "id": "desperate-swiss",
   "metadata": {},
   "source": [
    "<hr>"
   ]
  },
  {
   "cell_type": "markdown",
   "id": "demanding-shelter",
   "metadata": {},
   "source": [
    "## 제어 흐름"
   ]
  },
  {
   "cell_type": "markdown",
   "id": "mexican-teens",
   "metadata": {},
   "source": [
    "### if문"
   ]
  },
  {
   "cell_type": "code",
   "execution_count": 69,
   "id": "overhead-agenda",
   "metadata": {},
   "outputs": [],
   "source": [
    "x = 10"
   ]
  },
  {
   "cell_type": "code",
   "execution_count": 71,
   "id": "defined-linux",
   "metadata": {},
   "outputs": [
    {
     "name": "stdout",
     "output_type": "stream",
     "text": [
      "true\n"
     ]
    }
   ],
   "source": [
    "if x == 10:\n",
    "    print(\"true\")\n",
    "else:\n",
    "    print(\"false\")"
   ]
  },
  {
   "cell_type": "code",
   "execution_count": 74,
   "id": "conventional-probability",
   "metadata": {},
   "outputs": [
    {
     "data": {
      "text/plain": [
       "True"
      ]
     },
     "execution_count": 74,
     "metadata": {},
     "output_type": "execute_result"
    }
   ],
   "source": [
    "isAllFail = True\n",
    "\n",
    "if x <= 1:\n",
    "    isAllFail = False\n",
    "elif x <= 2:\n",
    "    isAllFail = False\n",
    "elif x <= 3:\n",
    "    isAllFail = False\n",
    "else:\n",
    "    isAllFail = True\n",
    "\n",
    "isAllFail"
   ]
  },
  {
   "cell_type": "markdown",
   "id": "missing-vampire",
   "metadata": {},
   "source": [
    "### for문"
   ]
  },
  {
   "cell_type": "code",
   "execution_count": 59,
   "id": "portable-heart",
   "metadata": {},
   "outputs": [
    {
     "name": "stdout",
     "output_type": "stream",
     "text": [
      "cat 3\n",
      "window 6\n",
      "defenestrate 12\n"
     ]
    }
   ],
   "source": [
    "words = ['cat', 'window', 'defenestrate']\n",
    "for w in words:\n",
    "    print(w, len(w))"
   ]
  },
  {
   "cell_type": "code",
   "execution_count": 60,
   "id": "vertical-career",
   "metadata": {},
   "outputs": [
    {
     "name": "stdout",
     "output_type": "stream",
     "text": [
      "0\n",
      "1\n",
      "2\n",
      "3\n",
      "4\n",
      "5\n",
      "6\n",
      "7\n",
      "8\n",
      "9\n"
     ]
    }
   ],
   "source": [
    "for i in range(10):\n",
    "    print(i)"
   ]
  },
  {
   "cell_type": "code",
   "execution_count": 64,
   "id": "premier-referral",
   "metadata": {},
   "outputs": [
    {
     "name": "stdout",
     "output_type": "stream",
     "text": [
      "5\n",
      "7\n",
      "9\n"
     ]
    }
   ],
   "source": [
    "for i in range(5, 10, 2):\n",
    "    print(i)"
   ]
  },
  {
   "cell_type": "markdown",
   "id": "smoking-aging",
   "metadata": {},
   "source": [
    "- range()는 리스트가 아니라 iterate시 원하는 시퀀스 항목들을 순서대로 돌려주는 개체이나 실제로 리스트를 만들지는 않아서 공간이 절약됨\n",
    "- 이러한 객체를 iterable이라고 한다"
   ]
  },
  {
   "cell_type": "code",
   "execution_count": 66,
   "id": "physical-telephone",
   "metadata": {},
   "outputs": [
    {
     "name": "stdout",
     "output_type": "stream",
     "text": [
      "range(0, 10)\n"
     ]
    }
   ],
   "source": [
    "print(range(10))"
   ]
  },
  {
   "cell_type": "code",
   "execution_count": 67,
   "id": "complimentary-checklist",
   "metadata": {},
   "outputs": [
    {
     "data": {
      "text/plain": [
       "55"
      ]
     },
     "execution_count": 67,
     "metadata": {},
     "output_type": "execute_result"
    }
   ],
   "source": [
    "sum(range(1,11))"
   ]
  },
  {
   "cell_type": "code",
   "execution_count": 68,
   "id": "infinite-loading",
   "metadata": {},
   "outputs": [
    {
     "data": {
      "text/plain": [
       "[0, 1, 2, 3, 4]"
      ]
     },
     "execution_count": 68,
     "metadata": {},
     "output_type": "execute_result"
    }
   ],
   "source": [
    "list(range(5))"
   ]
  },
  {
   "cell_type": "markdown",
   "id": "broad-repository",
   "metadata": {},
   "source": [
    "### break, continue : PASS~"
   ]
  },
  {
   "cell_type": "markdown",
   "id": "toxic-blanket",
   "metadata": {},
   "source": [
    "### pass문 : 아무것도 하지 않음, 문법적으로 문장이 필요하지만 프로그램이 특별히 할 일이 없을 때 사용"
   ]
  },
  {
   "cell_type": "markdown",
   "id": "greater-runner",
   "metadata": {},
   "source": [
    "### 함수 정의"
   ]
  },
  {
   "cell_type": "code",
   "execution_count": 76,
   "id": "ancient-alfred",
   "metadata": {},
   "outputs": [],
   "source": [
    "def fib(n):\n",
    "    \"\"\"Print Fibonacci\"\"\"\n",
    "    a, b = 0, 1\n",
    "    while a < n:\n",
    "        print(a, end=' ')\n",
    "        a, b = b, a+b\n",
    "    print()"
   ]
  },
  {
   "cell_type": "code",
   "execution_count": 77,
   "id": "analyzed-commitment",
   "metadata": {},
   "outputs": [
    {
     "name": "stdout",
     "output_type": "stream",
     "text": [
      "0 1 1 2 3 5 8 13 21 34 55 89 144 233 377 610 987 1597 \n"
     ]
    }
   ],
   "source": [
    "fib(2000)"
   ]
  },
  {
   "cell_type": "code",
   "execution_count": 79,
   "id": "buried-prior",
   "metadata": {},
   "outputs": [
    {
     "data": {
      "text/plain": [
       "<function __main__.fib(n)>"
      ]
     },
     "execution_count": 79,
     "metadata": {},
     "output_type": "execute_result"
    }
   ],
   "source": [
    "fib"
   ]
  },
  {
   "cell_type": "code",
   "execution_count": 80,
   "id": "supported-university",
   "metadata": {},
   "outputs": [],
   "source": [
    "f = fib"
   ]
  },
  {
   "cell_type": "code",
   "execution_count": 83,
   "id": "healthy-mambo",
   "metadata": {},
   "outputs": [
    {
     "name": "stdout",
     "output_type": "stream",
     "text": [
      "0 1 1 2 3 5 8 13 21 34 55 89 \n",
      "None\n"
     ]
    }
   ],
   "source": [
    "print(f(100)) #None == Null"
   ]
  },
  {
   "cell_type": "code",
   "execution_count": 89,
   "id": "associate-standing",
   "metadata": {},
   "outputs": [],
   "source": [
    "def ask_ok(prompt, retries=2, reminder=\"Please try again!\"):\n",
    "    while True:\n",
    "        ok = input(prompt)\n",
    "        if ok in ('y','ye','yes'):\n",
    "            return True\n",
    "        if ok in ('n','no','nop','nope'):\n",
    "            return False\n",
    "        retries = retries - 1\n",
    "        if retries < 0:\n",
    "            raise ValueError('invalid user response')\n",
    "        print(reminder)"
   ]
  },
  {
   "cell_type": "code",
   "execution_count": 91,
   "id": "extraordinary-assistant",
   "metadata": {},
   "outputs": [
    {
     "name": "stdin",
     "output_type": "stream",
     "text": [
      "are you sure? 1\n"
     ]
    },
    {
     "name": "stdout",
     "output_type": "stream",
     "text": [
      "Please try again!\n"
     ]
    },
    {
     "name": "stdin",
     "output_type": "stream",
     "text": [
      "are you sure? 2\n"
     ]
    },
    {
     "name": "stdout",
     "output_type": "stream",
     "text": [
      "Please try again!\n"
     ]
    },
    {
     "name": "stdin",
     "output_type": "stream",
     "text": [
      "are you sure? 3\n"
     ]
    },
    {
     "ename": "ValueError",
     "evalue": "invalid user response",
     "output_type": "error",
     "traceback": [
      "\u001b[1;31m---------------------------------------------------------------------------\u001b[0m",
      "\u001b[1;31mValueError\u001b[0m                                Traceback (most recent call last)",
      "\u001b[1;32m<ipython-input-91-89dc0a36a02d>\u001b[0m in \u001b[0;36m<module>\u001b[1;34m\u001b[0m\n\u001b[1;32m----> 1\u001b[1;33m \u001b[0mask_ok\u001b[0m\u001b[1;33m(\u001b[0m\u001b[1;34m'are you sure?'\u001b[0m\u001b[1;33m)\u001b[0m\u001b[1;33m\u001b[0m\u001b[1;33m\u001b[0m\u001b[0m\n\u001b[0m\u001b[0;32m      2\u001b[0m \u001b[0mprint\u001b[0m\u001b[1;33m(\u001b[0m\u001b[1;34m\"---end---\"\u001b[0m\u001b[1;33m)\u001b[0m \u001b[1;31m# raise로부터 Exception이 발생함으로 no print\u001b[0m\u001b[1;33m\u001b[0m\u001b[1;33m\u001b[0m\u001b[0m\n",
      "\u001b[1;32m<ipython-input-89-4be08c523450>\u001b[0m in \u001b[0;36mask_ok\u001b[1;34m(prompt, retries, reminder)\u001b[0m\n\u001b[0;32m      8\u001b[0m         \u001b[0mretries\u001b[0m \u001b[1;33m=\u001b[0m \u001b[0mretries\u001b[0m \u001b[1;33m-\u001b[0m \u001b[1;36m1\u001b[0m\u001b[1;33m\u001b[0m\u001b[1;33m\u001b[0m\u001b[0m\n\u001b[0;32m      9\u001b[0m         \u001b[1;32mif\u001b[0m \u001b[0mretries\u001b[0m \u001b[1;33m<\u001b[0m \u001b[1;36m0\u001b[0m\u001b[1;33m:\u001b[0m\u001b[1;33m\u001b[0m\u001b[1;33m\u001b[0m\u001b[0m\n\u001b[1;32m---> 10\u001b[1;33m             \u001b[1;32mraise\u001b[0m \u001b[0mValueError\u001b[0m\u001b[1;33m(\u001b[0m\u001b[1;34m'invalid user response'\u001b[0m\u001b[1;33m)\u001b[0m\u001b[1;33m\u001b[0m\u001b[1;33m\u001b[0m\u001b[0m\n\u001b[0m\u001b[0;32m     11\u001b[0m         \u001b[0mprint\u001b[0m\u001b[1;33m(\u001b[0m\u001b[0mreminder\u001b[0m\u001b[1;33m)\u001b[0m\u001b[1;33m\u001b[0m\u001b[1;33m\u001b[0m\u001b[0m\n",
      "\u001b[1;31mValueError\u001b[0m: invalid user response"
     ]
    }
   ],
   "source": [
    "ask_ok('are you sure?')\n",
    "print(\"---end---\") # raise로부터 Exception이 발생함으로 no print"
   ]
  },
  {
   "cell_type": "code",
   "execution_count": 92,
   "id": "hollow-overview",
   "metadata": {},
   "outputs": [
    {
     "name": "stdout",
     "output_type": "stream",
     "text": [
      "5\n"
     ]
    }
   ],
   "source": [
    "i = 5\n",
    "\n",
    "def f(arg=i):\n",
    "    print(arg)\n",
    "    \n",
    "i = 6\n",
    "f()"
   ]
  },
  {
   "cell_type": "code",
   "execution_count": 102,
   "id": "revised-transparency",
   "metadata": {},
   "outputs": [
    {
     "name": "stdout",
     "output_type": "stream",
     "text": [
      "[1]\n",
      "[1, 2]\n",
      "[1, 2, 3]\n"
     ]
    }
   ],
   "source": [
    "def f(a, L=[]):\n",
    "    L.append(a)\n",
    "    return L\n",
    "\n",
    "print(f(1))\n",
    "print(f(2))\n",
    "print(f(3))"
   ]
  },
  {
   "cell_type": "code",
   "execution_count": 103,
   "id": "powered-quality",
   "metadata": {},
   "outputs": [
    {
     "name": "stdout",
     "output_type": "stream",
     "text": [
      "[]\n",
      "-----\n",
      "[1, 2, 3, 4]\n"
     ]
    }
   ],
   "source": [
    "def another(L=[]):\n",
    "    return L\n",
    "\n",
    "print(another())\n",
    "print(\"-----\")\n",
    "print(f(4))"
   ]
  },
  {
   "cell_type": "markdown",
   "id": "honey-median",
   "metadata": {},
   "source": [
    " - 연속된 호출 간에 기본값이 공유되지 않기를 원한다면 아래와 같이"
   ]
  },
  {
   "cell_type": "code",
   "execution_count": 107,
   "id": "satisfactory-flash",
   "metadata": {},
   "outputs": [
    {
     "name": "stdout",
     "output_type": "stream",
     "text": [
      "[1]\n",
      "[2]\n",
      "[3]\n"
     ]
    }
   ],
   "source": [
    "def f(a, L=None):\n",
    "    if L is None:\n",
    "        L = []\n",
    "    L.append(a)\n",
    "    return L\n",
    "\n",
    "print(f(1))\n",
    "print(f(2))\n",
    "print(f(3))"
   ]
  },
  {
   "cell_type": "code",
   "execution_count": 113,
   "id": "infectious-uruguay",
   "metadata": {},
   "outputs": [],
   "source": [
    "def keywordFunc(a, b=\"BBB\", c=\"CCC\",d=\"DDD\"):\n",
    "    print(\"One\", a, end=' || ')\n",
    "    print(b, c, d, sep=' % ')"
   ]
  },
  {
   "cell_type": "code",
   "execution_count": 114,
   "id": "exposed-offer",
   "metadata": {},
   "outputs": [
    {
     "name": "stdout",
     "output_type": "stream",
     "text": [
      "One 1000 || BBB % CCC % DDD\n"
     ]
    }
   ],
   "source": [
    "keywordFunc(1000)"
   ]
  },
  {
   "cell_type": "code",
   "execution_count": 127,
   "id": "greatest-temperature",
   "metadata": {},
   "outputs": [
    {
     "name": "stdout",
     "output_type": "stream",
     "text": [
      "One 1000 || bbb % CCC % test\n"
     ]
    }
   ],
   "source": [
    "keywordFunc(1000,\"bbb\",d=\"test\")"
   ]
  },
  {
   "cell_type": "code",
   "execution_count": 128,
   "id": "parallel-cedar",
   "metadata": {},
   "outputs": [
    {
     "ename": "SyntaxError",
     "evalue": "positional argument follows keyword argument (<ipython-input-128-cfd65bc36625>, line 1)",
     "output_type": "error",
     "traceback": [
      "\u001b[1;36m  File \u001b[1;32m\"<ipython-input-128-cfd65bc36625>\"\u001b[1;36m, line \u001b[1;32m1\u001b[0m\n\u001b[1;33m    keywordFunc(b=\"bbbbb\", 2000)\u001b[0m\n\u001b[1;37m                               ^\u001b[0m\n\u001b[1;31mSyntaxError\u001b[0m\u001b[1;31m:\u001b[0m positional argument follows keyword argument\n"
     ]
    }
   ],
   "source": [
    "keywordFunc(b=\"bbbbb\", 2000)"
   ]
  },
  {
   "cell_type": "code",
   "execution_count": 129,
   "id": "comic-walker",
   "metadata": {},
   "outputs": [
    {
     "ename": "TypeError",
     "evalue": "keywordFunc() got multiple values for argument 'a'",
     "output_type": "error",
     "traceback": [
      "\u001b[1;31m---------------------------------------------------------------------------\u001b[0m",
      "\u001b[1;31mTypeError\u001b[0m                                 Traceback (most recent call last)",
      "\u001b[1;32m<ipython-input-129-46d86be4c008>\u001b[0m in \u001b[0;36m<module>\u001b[1;34m\u001b[0m\n\u001b[1;32m----> 1\u001b[1;33m \u001b[0mkeywordFunc\u001b[0m\u001b[1;33m(\u001b[0m\u001b[1;36m2000\u001b[0m\u001b[1;33m,\u001b[0m\u001b[0ma\u001b[0m\u001b[1;33m=\u001b[0m\u001b[1;36m3000\u001b[0m\u001b[1;33m)\u001b[0m\u001b[1;33m\u001b[0m\u001b[1;33m\u001b[0m\u001b[0m\n\u001b[0m",
      "\u001b[1;31mTypeError\u001b[0m: keywordFunc() got multiple values for argument 'a'"
     ]
    }
   ],
   "source": [
    "keywordFunc(2000,a=3000)"
   ]
  },
  {
   "cell_type": "markdown",
   "id": "compressed-tuition",
   "metadata": {},
   "source": [
    " - *arg는 **arg 앞으로 와야 한다"
   ]
  },
  {
   "cell_type": "code",
   "execution_count": 132,
   "id": "outstanding-november",
   "metadata": {},
   "outputs": [],
   "source": [
    "tupVar = (1,10,100,1000)\n",
    "\n",
    "dicVar = {\n",
    "    'key A' : 1515,\n",
    "    'key B' : 5832\n",
    "}\n",
    "\n",
    "def showArgs(a, *b, **c):\n",
    "    print(a)\n",
    "    print(\"-\"*10)\n",
    "    for i in b:\n",
    "        print(i)\n",
    "    print()\n",
    "    print(\"-\"*10)\n",
    "    for k, v in c:\n",
    "        print(k, v)"
   ]
  },
  {
   "cell_type": "code",
   "execution_count": 154,
   "id": "breeding-calvin",
   "metadata": {},
   "outputs": [],
   "source": [
    "tupVar = (1,10,100,1000)\n",
    "\n",
    "dicVar = {\n",
    "    'key A' : 1515,\n",
    "    'key B' : 5832\n",
    "}\n",
    "\n",
    "def showArgs(a, *b, **c):\n",
    "    print(a)\n",
    "    print(\"-\"*10)\n",
    "    print(b)\n",
    "    print(\"-\"*10)\n",
    "    print(c)"
   ]
  },
  {
   "cell_type": "code",
   "execution_count": 155,
   "id": "cutting-visitor",
   "metadata": {},
   "outputs": [
    {
     "name": "stdout",
     "output_type": "stream",
     "text": [
      "안녕하세요\n",
      "----------\n",
      "(10, 100, 1000)\n",
      "----------\n",
      "{'A': 'mic', 'B': '394'}\n"
     ]
    }
   ],
   "source": [
    "showArgs(\"안녕하세요\" ,10,100,1000, A=\"mic\",B=\"394\")"
   ]
  },
  {
   "cell_type": "code",
   "execution_count": 164,
   "id": "filled-invention",
   "metadata": {},
   "outputs": [
    {
     "name": "stdout",
     "output_type": "stream",
     "text": [
      "이건 좀 다른 이야기\n",
      "----------\n",
      "((1, 10, 100, 1000), {'key A': 1515, 'key B': 5832})\n",
      "----------\n",
      "{}\n"
     ]
    }
   ],
   "source": [
    "showArgs(\"이건 좀 다른 이야기\", tupVar, dicVar)"
   ]
  },
  {
   "cell_type": "code",
   "execution_count": 169,
   "id": "adult-granny",
   "metadata": {},
   "outputs": [
    {
     "name": "stdout",
     "output_type": "stream",
     "text": [
      "이렇게 넘겨주면 된다\n",
      "----------\n",
      "(1, 10, 100, 1000)\n",
      "----------\n",
      "{'key A': 1515, 'key B': 5832}\n"
     ]
    }
   ],
   "source": [
    "showArgs(\"이렇게 넘겨주면 된다\", *tupVar, **dicVar)"
   ]
  },
  {
   "cell_type": "markdown",
   "id": "purple-projection",
   "metadata": {},
   "source": [
    " - 특수 매개 변수"
   ]
  },
  {
   "cell_type": "code",
   "execution_count": 160,
   "id": "played-skirt",
   "metadata": {},
   "outputs": [],
   "source": [
    "def standard_arg(arg):\n",
    "    print(\"standard arg : \", arg)\n",
    "\n",
    "def pos_only_arg(arg, /):\n",
    "    print(\"pos only arg : \", arg)\n",
    "    \n",
    "def kwd_only_arg(*, arg):\n",
    "    print(\"kwd only arg: \", arg)\n",
    "\n",
    "def combined_example(pos_only, /, standard, *, kwd_only):\n",
    "    print(pos_only, standard, kwd_only)"
   ]
  },
  {
   "cell_type": "code",
   "execution_count": 161,
   "id": "freelance-george",
   "metadata": {},
   "outputs": [
    {
     "name": "stdout",
     "output_type": "stream",
     "text": [
      "standard arg :  10\n",
      "standard arg :  20\n"
     ]
    }
   ],
   "source": [
    "standard_arg(10)\n",
    "standard_arg(arg=20)"
   ]
  },
  {
   "cell_type": "code",
   "execution_count": 163,
   "id": "neural-bandwidth",
   "metadata": {},
   "outputs": [
    {
     "name": "stdout",
     "output_type": "stream",
     "text": [
      "pos only arg :  30\n"
     ]
    },
    {
     "ename": "TypeError",
     "evalue": "pos_only_arg() got some positional-only arguments passed as keyword arguments: 'arg'",
     "output_type": "error",
     "traceback": [
      "\u001b[1;31m---------------------------------------------------------------------------\u001b[0m",
      "\u001b[1;31mTypeError\u001b[0m                                 Traceback (most recent call last)",
      "\u001b[1;32m<ipython-input-163-59d6613af994>\u001b[0m in \u001b[0;36m<module>\u001b[1;34m\u001b[0m\n\u001b[0;32m      1\u001b[0m \u001b[0mpos_only_arg\u001b[0m\u001b[1;33m(\u001b[0m\u001b[1;36m30\u001b[0m\u001b[1;33m)\u001b[0m\u001b[1;33m\u001b[0m\u001b[1;33m\u001b[0m\u001b[0m\n\u001b[1;32m----> 2\u001b[1;33m \u001b[0mpos_only_arg\u001b[0m\u001b[1;33m(\u001b[0m\u001b[0marg\u001b[0m\u001b[1;33m=\u001b[0m\u001b[1;36m40\u001b[0m\u001b[1;33m)\u001b[0m\u001b[1;33m\u001b[0m\u001b[1;33m\u001b[0m\u001b[0m\n\u001b[0m",
      "\u001b[1;31mTypeError\u001b[0m: pos_only_arg() got some positional-only arguments passed as keyword arguments: 'arg'"
     ]
    }
   ],
   "source": [
    "pos_only_arg(30)\n",
    "pos_only_arg(arg=40)"
   ]
  },
  {
   "cell_type": "code",
   "execution_count": 171,
   "id": "worse-tolerance",
   "metadata": {},
   "outputs": [
    {
     "name": "stdout",
     "output_type": "stream",
     "text": [
      "kwd only arg:  50\n"
     ]
    },
    {
     "ename": "TypeError",
     "evalue": "kwd_only_arg() takes 0 positional arguments but 1 was given",
     "output_type": "error",
     "traceback": [
      "\u001b[1;31m---------------------------------------------------------------------------\u001b[0m",
      "\u001b[1;31mTypeError\u001b[0m                                 Traceback (most recent call last)",
      "\u001b[1;32m<ipython-input-171-94039e5aaaf2>\u001b[0m in \u001b[0;36m<module>\u001b[1;34m\u001b[0m\n\u001b[0;32m      1\u001b[0m \u001b[0mkwd_only_arg\u001b[0m\u001b[1;33m(\u001b[0m\u001b[0marg\u001b[0m\u001b[1;33m=\u001b[0m\u001b[1;36m50\u001b[0m\u001b[1;33m)\u001b[0m\u001b[1;33m\u001b[0m\u001b[1;33m\u001b[0m\u001b[0m\n\u001b[1;32m----> 2\u001b[1;33m \u001b[0mkwd_only_arg\u001b[0m\u001b[1;33m(\u001b[0m\u001b[1;36m60\u001b[0m\u001b[1;33m)\u001b[0m\u001b[1;33m\u001b[0m\u001b[1;33m\u001b[0m\u001b[0m\n\u001b[0m",
      "\u001b[1;31mTypeError\u001b[0m: kwd_only_arg() takes 0 positional arguments but 1 was given"
     ]
    }
   ],
   "source": [
    "kwd_only_arg(arg=50)\n",
    "kwd_only_arg(60)"
   ]
  },
  {
   "cell_type": "code",
   "execution_count": 172,
   "id": "saved-sterling",
   "metadata": {},
   "outputs": [
    {
     "name": "stdout",
     "output_type": "stream",
     "text": [
      "1 2 3\n"
     ]
    }
   ],
   "source": [
    "combined_example(1, 2, kwd_only=3)"
   ]
  },
  {
   "cell_type": "code",
   "execution_count": 176,
   "id": "super-indication",
   "metadata": {},
   "outputs": [
    {
     "name": "stdout",
     "output_type": "stream",
     "text": [
      "True\n",
      "False\n"
     ]
    }
   ],
   "source": [
    "member={\n",
    "    'name':'James',\n",
    "    'age':10,\n",
    "    'phone':'010-5441-4992'\n",
    "}\n",
    "\n",
    "print('name' in member)\n",
    "print('password' in member)"
   ]
  },
  {
   "cell_type": "code",
   "execution_count": 177,
   "id": "finnish-easter",
   "metadata": {},
   "outputs": [],
   "source": [
    "def foo(key, **kwds):\n",
    "    return key in kwds"
   ]
  },
  {
   "cell_type": "code",
   "execution_count": 178,
   "id": "associate-twins",
   "metadata": {},
   "outputs": [
    {
     "data": {
      "text/plain": [
       "True"
      ]
     },
     "execution_count": 178,
     "metadata": {},
     "output_type": "execute_result"
    }
   ],
   "source": [
    "foo('name', **member)"
   ]
  },
  {
   "cell_type": "markdown",
   "id": "senior-literature",
   "metadata": {},
   "source": [
    " - 주의! 딕셔너리의 키와 함수 매개변수의 충돌"
   ]
  },
  {
   "cell_type": "code",
   "execution_count": 180,
   "id": "after-certificate",
   "metadata": {},
   "outputs": [],
   "source": [
    "def foo(name, **kwds):\n",
    "    return name in kwds"
   ]
  },
  {
   "cell_type": "code",
   "execution_count": 181,
   "id": "absent-gates",
   "metadata": {},
   "outputs": [
    {
     "ename": "TypeError",
     "evalue": "foo() got multiple values for argument 'name'",
     "output_type": "error",
     "traceback": [
      "\u001b[1;31m---------------------------------------------------------------------------\u001b[0m",
      "\u001b[1;31mTypeError\u001b[0m                                 Traceback (most recent call last)",
      "\u001b[1;32m<ipython-input-181-2293fe3678a1>\u001b[0m in \u001b[0;36m<module>\u001b[1;34m\u001b[0m\n\u001b[1;32m----> 1\u001b[1;33m \u001b[0mfoo\u001b[0m\u001b[1;33m(\u001b[0m\u001b[1;34m'name'\u001b[0m\u001b[1;33m,\u001b[0m \u001b[1;33m**\u001b[0m\u001b[0mmember\u001b[0m\u001b[1;33m)\u001b[0m\u001b[1;33m\u001b[0m\u001b[1;33m\u001b[0m\u001b[0m\n\u001b[0m",
      "\u001b[1;31mTypeError\u001b[0m: foo() got multiple values for argument 'name'"
     ]
    }
   ],
   "source": [
    "foo('name', **member)"
   ]
  },
  {
   "cell_type": "markdown",
   "id": "funded-constitutional",
   "metadata": {},
   "source": [
    " - 그러므로 딕셔너리의 키이름과의 충돌을 피하기위해 특수 매개 변수를 사용할 필요가 있다."
   ]
  },
  {
   "cell_type": "code",
   "execution_count": 183,
   "id": "naked-episode",
   "metadata": {},
   "outputs": [],
   "source": [
    "def foo(name, /, **kwds):\n",
    "    return name in kwds"
   ]
  },
  {
   "cell_type": "code",
   "execution_count": 186,
   "id": "chief-mobility",
   "metadata": {},
   "outputs": [
    {
     "data": {
      "text/plain": [
       "True"
      ]
     },
     "execution_count": 186,
     "metadata": {},
     "output_type": "execute_result"
    }
   ],
   "source": [
    "foo('name',**member)"
   ]
  },
  {
   "cell_type": "markdown",
   "id": "verified-plenty",
   "metadata": {},
   "source": [
    " - `/` : 위치 전용 인자\n",
    " - `*` : 키워드 전용 인자"
   ]
  },
  {
   "cell_type": "code",
   "execution_count": 191,
   "id": "neutral-morocco",
   "metadata": {},
   "outputs": [
    {
     "data": {
      "text/plain": [
       "[3, 4, 5]"
      ]
     },
     "execution_count": 191,
     "metadata": {},
     "output_type": "execute_result"
    }
   ],
   "source": [
    "args = [3, 6]\n",
    "list(range(*args))"
   ]
  },
  {
   "cell_type": "markdown",
   "id": "bronze-listing",
   "metadata": {},
   "source": [
    "<hr>"
   ]
  },
  {
   "cell_type": "markdown",
   "id": "organizational-second",
   "metadata": {},
   "source": [
    "## Lambda, Documentation, Annotation"
   ]
  },
  {
   "cell_type": "markdown",
   "id": "thick-coordinator",
   "metadata": {},
   "source": [
    "### Lambda "
   ]
  },
  {
   "cell_type": "code",
   "execution_count": 195,
   "id": "documented-mitchell",
   "metadata": {},
   "outputs": [
    {
     "name": "stdout",
     "output_type": "stream",
     "text": [
      "9\n"
     ]
    }
   ],
   "source": [
    "f = lambda x : print(x)\n",
    "f((lambda x : x ** 2)(3))"
   ]
  },
  {
   "cell_type": "markdown",
   "id": "ahead-angola",
   "metadata": {},
   "source": [
    "### Documentation"
   ]
  },
  {
   "cell_type": "code",
   "execution_count": 197,
   "id": "assumed-weekend",
   "metadata": {},
   "outputs": [
    {
     "name": "stdout",
     "output_type": "stream",
     "text": [
      "    이 my_function 함수는 어떻게 Documentation을 하는지\n",
      "    알리기 위해서 사용되어졌습니다.\n",
      "    \n",
      "    오예~\n",
      "    \n"
     ]
    }
   ],
   "source": [
    "def my_function():\n",
    "    \"\"\"\\\n",
    "    이 my_function 함수는 어떻게 Documentation을 하는지\n",
    "    알리기 위해서 사용되어졌습니다.\n",
    "    \n",
    "    오예~\n",
    "    \"\"\"\n",
    "    pass\n",
    "\n",
    "print(my_function.__doc__)"
   ]
  },
  {
   "cell_type": "markdown",
   "id": "healthy-talent",
   "metadata": {},
   "source": [
    "### Annotation\n",
    " - 어노테이션은 메타데이터 정보\n",
    " - `__annotation__`에 dict로 저장됨\n",
    " - 매개변수 뒤 `:`으로 정의됨"
   ]
  },
  {
   "cell_type": "code",
   "execution_count": 201,
   "id": "engaging-brooklyn",
   "metadata": {},
   "outputs": [
    {
     "name": "stdout",
     "output_type": "stream",
     "text": [
      "Annotations: {'ham': <class 'str'>, 'eggs': <class 'str'>, 'return': '0이 리턴됩니다'}\n",
      "Arguments: spam eggs\n"
     ]
    },
    {
     "data": {
      "text/plain": [
       "0"
      ]
     },
     "execution_count": 201,
     "metadata": {},
     "output_type": "execute_result"
    }
   ],
   "source": [
    "def f(ham: str, eggs: str = 'eggs') -> \"0이 리턴됩니다\":\n",
    "    print(\"Annotations:\", f.__annotations__)\n",
    "    print(\"Arguments:\", ham, eggs)\n",
    "    return 0\n",
    "f('spam')"
   ]
  },
  {
   "cell_type": "markdown",
   "id": "passing-sessions",
   "metadata": {},
   "source": [
    "<hr>"
   ]
  },
  {
   "cell_type": "markdown",
   "id": "indie-keyboard",
   "metadata": {},
   "source": [
    "## 코딩 스타일"
   ]
  },
  {
   "cell_type": "markdown",
   "id": "skilled-device",
   "metadata": {},
   "source": [
    " - indent는 4space로하며 tab은 사용을 금한다\n",
    " - 한 줄에 79자를 넘기지 않는다\n",
    " - 독스트리을 사용하자\n",
    " - 연산자들 주변과 콤마 뒤에 스페이스를 넣고 괄호는 붙인다\n",
    " - 클래스는 UpperCamelCase, 함수와 메서드는 lowercase_with_underscores\n",
    " - UTF-8을 지키자"
   ]
  },
  {
   "cell_type": "markdown",
   "id": "norwegian-flexibility",
   "metadata": {},
   "source": [
    "<hr>"
   ]
  }
 ],
 "metadata": {
  "kernelspec": {
   "display_name": "Python 3",
   "language": "python",
   "name": "python3"
  },
  "language_info": {
   "codemirror_mode": {
    "name": "ipython",
    "version": 3
   },
   "file_extension": ".py",
   "mimetype": "text/x-python",
   "name": "python",
   "nbconvert_exporter": "python",
   "pygments_lexer": "ipython3",
   "version": "3.9.2"
  }
 },
 "nbformat": 4,
 "nbformat_minor": 5
}
