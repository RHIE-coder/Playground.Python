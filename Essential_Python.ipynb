{
 "cells": [
  {
   "cell_type": "markdown",
   "id": "comic-pakistan",
   "metadata": {},
   "source": [
    "# 01. About Python"
   ]
  },
  {
   "cell_type": "markdown",
   "id": "sized-bruce",
   "metadata": {},
   "source": [
    "## - History"
   ]
  },
  {
   "cell_type": "markdown",
   "id": "quantitative-antigua",
   "metadata": {},
   "source": [
    "파이썬 이라는 이름은 Monty Python's Flying Circus라는 BBC쇼에서 따온 것, 파충류와는 아무 관련이 없음\n",
    "\n",
    "1994년 귀도 반 로섬(Guido Van Rossum)에 의해 시작. 크리스마스 떄 취미로 만듬."
   ]
  },
  {
   "cell_type": "markdown",
   "id": "extraordinary-minutes",
   "metadata": {},
   "source": [
    "## - Structure"
   ]
  },
  {
   "cell_type": "markdown",
   "id": "understood-junction",
   "metadata": {},
   "source": [
    "인터프리터 언어"
   ]
  },
  {
   "cell_type": "markdown",
   "id": "judicial-kinase",
   "metadata": {},
   "source": [
    "## - Before Python Programming, You Should Know:"
   ]
  },
  {
   "cell_type": "markdown",
   "id": "heard-obligation",
   "metadata": {},
   "source": [
    "### * 파이썬의 기본 인코딩은 UTF-8이다."
   ]
  },
  {
   "cell_type": "code",
   "execution_count": 1,
   "id": "dynamic-drill",
   "metadata": {},
   "outputs": [],
   "source": [
    "# -*- coding: UTF-8 -*-"
   ]
  },
  {
   "cell_type": "markdown",
   "id": "every-arbor",
   "metadata": {},
   "source": [
    "인코딩을 기본값 외의 것으로 선언시 : "
   ]
  },
  {
   "cell_type": "code",
   "execution_count": 1,
   "id": "forward-directive",
   "metadata": {},
   "outputs": [],
   "source": [
    "# -*- coding: cp1252 -*-"
   ]
  },
  {
   "cell_type": "markdown",
   "id": "settled-monthly",
   "metadata": {},
   "source": [
    "### * 파이썬은 모두 객체다."
   ]
  },
  {
   "cell_type": "markdown",
   "id": "optimum-desert",
   "metadata": {},
   "source": [
    " - id()"
   ]
  },
  {
   "cell_type": "code",
   "execution_count": 14,
   "id": "about-marathon",
   "metadata": {},
   "outputs": [
    {
     "data": {
      "text/plain": [
       "2868174285392"
      ]
     },
     "execution_count": 14,
     "metadata": {},
     "output_type": "execute_result"
    }
   ],
   "source": [
    "a = 10\n",
    "id(a) # 객체 고유의 값"
   ]
  },
  {
   "cell_type": "markdown",
   "id": "sound-watch",
   "metadata": {},
   "source": [
    " - dir()"
   ]
  },
  {
   "cell_type": "code",
   "execution_count": 16,
   "id": "constant-terry",
   "metadata": {},
   "outputs": [
    {
     "data": {
      "text/plain": [
       "['__abs__',\n",
       " '__add__',\n",
       " '__and__',\n",
       " '__bool__',\n",
       " '__ceil__',\n",
       " '__class__',\n",
       " '__delattr__',\n",
       " '__dir__',\n",
       " '__divmod__',\n",
       " '__doc__',\n",
       " '__eq__',\n",
       " '__float__',\n",
       " '__floor__',\n",
       " '__floordiv__',\n",
       " '__format__',\n",
       " '__ge__',\n",
       " '__getattribute__',\n",
       " '__getnewargs__',\n",
       " '__gt__',\n",
       " '__hash__',\n",
       " '__index__',\n",
       " '__init__',\n",
       " '__init_subclass__',\n",
       " '__int__',\n",
       " '__invert__',\n",
       " '__le__',\n",
       " '__lshift__',\n",
       " '__lt__',\n",
       " '__mod__',\n",
       " '__mul__',\n",
       " '__ne__',\n",
       " '__neg__',\n",
       " '__new__',\n",
       " '__or__',\n",
       " '__pos__',\n",
       " '__pow__',\n",
       " '__radd__',\n",
       " '__rand__',\n",
       " '__rdivmod__',\n",
       " '__reduce__',\n",
       " '__reduce_ex__',\n",
       " '__repr__',\n",
       " '__rfloordiv__',\n",
       " '__rlshift__',\n",
       " '__rmod__',\n",
       " '__rmul__',\n",
       " '__ror__',\n",
       " '__round__',\n",
       " '__rpow__',\n",
       " '__rrshift__',\n",
       " '__rshift__',\n",
       " '__rsub__',\n",
       " '__rtruediv__',\n",
       " '__rxor__',\n",
       " '__setattr__',\n",
       " '__sizeof__',\n",
       " '__str__',\n",
       " '__sub__',\n",
       " '__subclasshook__',\n",
       " '__truediv__',\n",
       " '__trunc__',\n",
       " '__xor__',\n",
       " 'as_integer_ratio',\n",
       " 'bit_length',\n",
       " 'conjugate',\n",
       " 'denominator',\n",
       " 'from_bytes',\n",
       " 'imag',\n",
       " 'numerator',\n",
       " 'real',\n",
       " 'to_bytes']"
      ]
     },
     "execution_count": 16,
     "metadata": {},
     "output_type": "execute_result"
    }
   ],
   "source": [
    "dir(int)"
   ]
  },
  {
   "cell_type": "markdown",
   "id": "alive-trainer",
   "metadata": {
    "tags": []
   },
   "source": [
    "### * help()"
   ]
  },
  {
   "cell_type": "code",
   "execution_count": 1,
   "id": "likely-ceremony",
   "metadata": {},
   "outputs": [
    {
     "name": "stdout",
     "output_type": "stream",
     "text": [
      "Help on built-in function dir in module builtins:\n",
      "\n",
      "dir(...)\n",
      "    dir([object]) -> list of strings\n",
      "    \n",
      "    If called without an argument, return the names in the current scope.\n",
      "    Else, return an alphabetized list of names comprising (some of) the attributes\n",
      "    of the given object, and of attributes reachable from it.\n",
      "    If the object supplies a method named __dir__, it will be used; otherwise\n",
      "    the default dir() logic is used and returns:\n",
      "      for a module object: the module's attributes.\n",
      "      for a class object:  its attributes, and recursively the attributes\n",
      "        of its bases.\n",
      "      for any other object: its attributes, its class's attributes, and\n",
      "        recursively the attributes of its class's base classes.\n",
      "\n"
     ]
    }
   ],
   "source": [
    "help(dir)"
   ]
  },
  {
   "cell_type": "markdown",
   "id": "federal-profile",
   "metadata": {},
   "source": [
    "### * 코딩스타일"
   ]
  },
  {
   "cell_type": "markdown",
   "id": "defensive-sender",
   "metadata": {},
   "source": [
    " - indent는 4space로하며 tab은 사용을 금한다\n",
    " - 한 줄에 79자를 넘기지 않는다\n",
    " - 독스트링을 사용하자\n",
    " - 연산자들 주변과 콤마 뒤에 스페이스를 넣고 괄호는 붙인다\n",
    " - 클래스는 UpperCamelCase, 함수와 메서드는 lowercase_with_underscores\n",
    " - UTF-8을 지키자"
   ]
  },
  {
   "cell_type": "markdown",
   "id": "caroline-universal",
   "metadata": {},
   "source": [
    "### * 주석"
   ]
  },
  {
   "cell_type": "code",
   "execution_count": 29,
   "id": "behavioral-coordination",
   "metadata": {},
   "outputs": [],
   "source": [
    "# This is comment"
   ]
  },
  {
   "cell_type": "markdown",
   "id": "differential-voluntary",
   "metadata": {},
   "source": [
    "### * print()"
   ]
  },
  {
   "cell_type": "code",
   "execution_count": 1,
   "id": "noticed-porcelain",
   "metadata": {},
   "outputs": [
    {
     "name": "stdout",
     "output_type": "stream",
     "text": [
      "123\n",
      "출력 함수\n",
      "1# 2# 이렇게# 3# 4# 여러가지# 출력\n",
      "Hello  World! | 321\n"
     ]
    }
   ],
   "source": [
    "a = 123\n",
    "print(a)\n",
    "print(\"출력 함수\")\n",
    "print(1, 2, \"이렇게\", 3, 4, \"여러가지\", \"출력\", sep=\"# \")\n",
    "print(\"Hello \", \"World!\", end=\" | \")\n",
    "print(321)"
   ]
  },
  {
   "cell_type": "markdown",
   "id": "frozen-theology",
   "metadata": {},
   "source": [
    "<br>\n",
    "<br>\n",
    "<br>\n",
    "<br>\n",
    "<br>\n",
    "<br>\n",
    "<hr>\n",
    "<br>\n",
    "<br>\n",
    "<br>\n",
    "<br>\n",
    "<br>\n",
    "<br>"
   ]
  },
  {
   "cell_type": "markdown",
   "id": "classified-barcelona",
   "metadata": {},
   "source": [
    "# 02. 변수와 자료형"
   ]
  },
  {
   "cell_type": "markdown",
   "id": "collectible-privilege",
   "metadata": {},
   "source": [
    "## - 자료형\n",
    "\n",
    " - int\n",
    " - float\n",
    " - string\n",
    " - boolean\n",
    " - list\n",
    " - dict\n",
    " - tuple\n",
    " - None\n",
    " \n",
    "\n",
    "long형은 존재하지 않는다"
   ]
  },
  {
   "cell_type": "markdown",
   "id": "legislative-million",
   "metadata": {},
   "source": [
    "### * type()"
   ]
  },
  {
   "cell_type": "code",
   "execution_count": 5,
   "id": "according-enterprise",
   "metadata": {},
   "outputs": [
    {
     "data": {
      "text/plain": [
       "str"
      ]
     },
     "execution_count": 5,
     "metadata": {},
     "output_type": "execute_result"
    }
   ],
   "source": [
    "type(\"hello\")"
   ]
  },
  {
   "cell_type": "code",
   "execution_count": 6,
   "id": "permanent-coalition",
   "metadata": {},
   "outputs": [
    {
     "data": {
      "text/plain": [
       "int"
      ]
     },
     "execution_count": 6,
     "metadata": {},
     "output_type": "execute_result"
    }
   ],
   "source": [
    "type(10)"
   ]
  },
  {
   "cell_type": "markdown",
   "id": "oriented-sympathy",
   "metadata": {},
   "source": [
    "## - 변수"
   ]
  },
  {
   "cell_type": "markdown",
   "id": "emerging-chocolate",
   "metadata": {},
   "source": [
    "### * input()\n",
    "\n",
    "입력받기. string 타입."
   ]
  },
  {
   "cell_type": "code",
   "execution_count": 5,
   "id": "incident-welsh",
   "metadata": {},
   "outputs": [
    {
     "name": "stdin",
     "output_type": "stream",
     "text": [
      " 10\n"
     ]
    },
    {
     "name": "stdout",
     "output_type": "stream",
     "text": [
      "10 <class 'str'>\n"
     ]
    }
   ],
   "source": [
    "a = input()\n",
    "print(a, type(a))"
   ]
  },
  {
   "cell_type": "markdown",
   "id": "explicit-suspect",
   "metadata": {},
   "source": [
    "### * 캐스팅"
   ]
  },
  {
   "cell_type": "code",
   "execution_count": 9,
   "id": "streaming-scanner",
   "metadata": {},
   "outputs": [
    {
     "name": "stdin",
     "output_type": "stream",
     "text": [
      " 10\n"
     ]
    },
    {
     "name": "stdout",
     "output_type": "stream",
     "text": [
      "<class 'str'>\n",
      "<class 'int'>\n"
     ]
    }
   ],
   "source": [
    "a = input()\n",
    "print(type(a))\n",
    "a = int(a)\n",
    "print(type(a))"
   ]
  },
  {
   "cell_type": "markdown",
   "id": "frank-height",
   "metadata": {},
   "source": [
    "### * del"
   ]
  },
  {
   "cell_type": "code",
   "execution_count": 11,
   "id": "imposed-directory",
   "metadata": {},
   "outputs": [
    {
     "name": "stdout",
     "output_type": "stream",
     "text": [
      "hello world\n"
     ]
    },
    {
     "ename": "NameError",
     "evalue": "name 'a' is not defined",
     "output_type": "error",
     "traceback": [
      "\u001b[1;31m---------------------------------------------------------------------------\u001b[0m",
      "\u001b[1;31mNameError\u001b[0m                                 Traceback (most recent call last)",
      "\u001b[1;32m<ipython-input-11-765facf5dd62>\u001b[0m in \u001b[0;36m<module>\u001b[1;34m\u001b[0m\n\u001b[0;32m      2\u001b[0m \u001b[0mprint\u001b[0m\u001b[1;33m(\u001b[0m\u001b[0ma\u001b[0m\u001b[1;33m)\u001b[0m\u001b[1;33m\u001b[0m\u001b[1;33m\u001b[0m\u001b[0m\n\u001b[0;32m      3\u001b[0m \u001b[1;32mdel\u001b[0m \u001b[0ma\u001b[0m\u001b[1;33m\u001b[0m\u001b[1;33m\u001b[0m\u001b[0m\n\u001b[1;32m----> 4\u001b[1;33m \u001b[0mprint\u001b[0m\u001b[1;33m(\u001b[0m\u001b[0ma\u001b[0m\u001b[1;33m)\u001b[0m\u001b[1;33m\u001b[0m\u001b[1;33m\u001b[0m\u001b[0m\n\u001b[0m",
      "\u001b[1;31mNameError\u001b[0m: name 'a' is not defined"
     ]
    }
   ],
   "source": [
    "a = \"hello world\"\n",
    "print(a)\n",
    "del a\n",
    "print(a)"
   ]
  },
  {
   "cell_type": "markdown",
   "id": "above-supplier",
   "metadata": {},
   "source": [
    "### * mutable and immutable"
   ]
  },
  {
   "cell_type": "markdown",
   "id": "smaller-baseline",
   "metadata": {},
   "source": [
    "예륻 들어, 문자열과 정수는 immutable하다"
   ]
  },
  {
   "cell_type": "code",
   "execution_count": 33,
   "id": "genetic-importance",
   "metadata": {},
   "outputs": [
    {
     "name": "stdout",
     "output_type": "stream",
     "text": [
      "2868174285392 2868174285392\n",
      "2868174285392 2868174285712\n"
     ]
    }
   ],
   "source": [
    "num = 10\n",
    "copy_num = num\n",
    "print(id(num), id(copy_num)) # 두 개의 정수 값의 주소값이 같다.\n",
    "copy_num = 20\n",
    "print(id(num), id(copy_num)) # 두 개의 정수 값의 주소값이 다르다."
   ]
  },
  {
   "cell_type": "code",
   "execution_count": 36,
   "id": "destroyed-oliver",
   "metadata": {},
   "outputs": [
    {
     "name": "stdout",
     "output_type": "stream",
     "text": [
      "2868247916592 2868247916592\n",
      "2868247916592 2868247920496\n"
     ]
    }
   ],
   "source": [
    "string = \"Hi\"\n",
    "copy_string = string\n",
    "print(id(string), id(copy_string)) # 두 개의 문자열 값의 주소값이 같다.\n",
    "copy_string = \"Hello\"\n",
    "print(id(string), id(copy_string)) # 두 개의 문자열 값의 주소값이 다르다."
   ]
  },
  {
   "cell_type": "markdown",
   "id": "considered-virtue",
   "metadata": {},
   "source": [
    "예를 들어, 리스트는 mutable하다"
   ]
  },
  {
   "cell_type": "code",
   "execution_count": 37,
   "id": "temporal-frame",
   "metadata": {},
   "outputs": [
    {
     "name": "stdout",
     "output_type": "stream",
     "text": [
      "[100, 2, 3, 'This is List'] [100, 2, 3, 'This is List']\n"
     ]
    }
   ],
   "source": [
    "objs = [1, 2, 3, \"This is List\"]\n",
    "copy_objs = objs\n",
    "objs[0] = 100 # 첫번째 값을 100으로 변경\n",
    "print(objs, copy_objs)"
   ]
  },
  {
   "cell_type": "markdown",
   "id": "written-performer",
   "metadata": {},
   "source": [
    "<br>\n",
    "<br>\n",
    "<br>\n",
    "<br>\n",
    "<br>\n",
    "<br>\n",
    "<hr>\n",
    "<br>\n",
    "<br>\n",
    "<br>\n",
    "<br>\n",
    "<br>\n",
    "<br>"
   ]
  },
  {
   "cell_type": "markdown",
   "id": "different-testimony",
   "metadata": {},
   "source": [
    "# 03. 연산자"
   ]
  },
  {
   "cell_type": "markdown",
   "id": "included-expert",
   "metadata": {},
   "source": [
    "## - 산술연산 `+`, `-`, `*`, `**`, `/`, `//`, `%`"
   ]
  },
  {
   "cell_type": "code",
   "execution_count": 2,
   "id": "insured-tracy",
   "metadata": {},
   "outputs": [
    {
     "data": {
      "text/plain": [
       "8"
      ]
     },
     "execution_count": 2,
     "metadata": {},
     "output_type": "execute_result"
    }
   ],
   "source": [
    "3 + 5"
   ]
  },
  {
   "cell_type": "code",
   "execution_count": 3,
   "id": "exterior-senior",
   "metadata": {},
   "outputs": [
    {
     "data": {
      "text/plain": [
       "7"
      ]
     },
     "execution_count": 3,
     "metadata": {},
     "output_type": "execute_result"
    }
   ],
   "source": [
    "10 - 3"
   ]
  },
  {
   "cell_type": "code",
   "execution_count": 5,
   "id": "oriented-dealing",
   "metadata": {},
   "outputs": [
    {
     "data": {
      "text/plain": [
       "80"
      ]
     },
     "execution_count": 5,
     "metadata": {},
     "output_type": "execute_result"
    }
   ],
   "source": [
    "40 * 2"
   ]
  },
  {
   "cell_type": "code",
   "execution_count": 7,
   "id": "dependent-chemical",
   "metadata": {},
   "outputs": [
    {
     "data": {
      "text/plain": [
       "8"
      ]
     },
     "execution_count": 7,
     "metadata": {},
     "output_type": "execute_result"
    }
   ],
   "source": [
    "2 ** 3"
   ]
  },
  {
   "cell_type": "code",
   "execution_count": 8,
   "id": "commercial-plastic",
   "metadata": {},
   "outputs": [
    {
     "data": {
      "text/plain": [
       "3.3333333333333335"
      ]
     },
     "execution_count": 8,
     "metadata": {},
     "output_type": "execute_result"
    }
   ],
   "source": [
    "10 / 3"
   ]
  },
  {
   "cell_type": "code",
   "execution_count": 9,
   "id": "infinite-movement",
   "metadata": {},
   "outputs": [
    {
     "data": {
      "text/plain": [
       "3"
      ]
     },
     "execution_count": 9,
     "metadata": {},
     "output_type": "execute_result"
    }
   ],
   "source": [
    "10 // 3"
   ]
  },
  {
   "cell_type": "code",
   "execution_count": 10,
   "id": "worldwide-column",
   "metadata": {},
   "outputs": [
    {
     "data": {
      "text/plain": [
       "1"
      ]
     },
     "execution_count": 10,
     "metadata": {},
     "output_type": "execute_result"
    }
   ],
   "source": [
    "10 % 3"
   ]
  },
  {
   "cell_type": "markdown",
   "id": "distant-success",
   "metadata": {},
   "source": [
    "## - 할당연산 `+=`, `-=`, `*=`, `**=`, `/=`, `//=`, `%=`"
   ]
  },
  {
   "cell_type": "code",
   "execution_count": 12,
   "id": "apparent-explanation",
   "metadata": {},
   "outputs": [
    {
     "name": "stdout",
     "output_type": "stream",
     "text": [
      "50\n"
     ]
    }
   ],
   "source": [
    "num = 10\n",
    "num = num + 20\n",
    "num += 20\n",
    "print(num)"
   ]
  },
  {
   "cell_type": "code",
   "execution_count": 13,
   "id": "external-sphere",
   "metadata": {},
   "outputs": [
    {
     "name": "stdout",
     "output_type": "stream",
     "text": [
      "10\n"
     ]
    }
   ],
   "source": [
    "num = 20\n",
    "num -= 10\n",
    "print(num)"
   ]
  },
  {
   "cell_type": "code",
   "execution_count": 14,
   "id": "looking-orientation",
   "metadata": {},
   "outputs": [
    {
     "name": "stdout",
     "output_type": "stream",
     "text": [
      "100\n"
     ]
    }
   ],
   "source": [
    "num = 10\n",
    "num *= 10\n",
    "print(num)"
   ]
  },
  {
   "cell_type": "code",
   "execution_count": 15,
   "id": "static-collaboration",
   "metadata": {},
   "outputs": [
    {
     "name": "stdout",
     "output_type": "stream",
     "text": [
      "1000\n"
     ]
    }
   ],
   "source": [
    "num = 10\n",
    "num **= 3\n",
    "print(num)"
   ]
  },
  {
   "cell_type": "code",
   "execution_count": 16,
   "id": "appointed-vinyl",
   "metadata": {},
   "outputs": [
    {
     "name": "stdout",
     "output_type": "stream",
     "text": [
      "3.3333333333333335\n"
     ]
    }
   ],
   "source": [
    "num = 10\n",
    "num /= 3\n",
    "print(num)"
   ]
  },
  {
   "cell_type": "code",
   "execution_count": 17,
   "id": "present-anchor",
   "metadata": {},
   "outputs": [
    {
     "name": "stdout",
     "output_type": "stream",
     "text": [
      "3\n"
     ]
    }
   ],
   "source": [
    "num = 10\n",
    "num //= 3\n",
    "print(num)"
   ]
  },
  {
   "cell_type": "code",
   "execution_count": 42,
   "id": "seventh-diploma",
   "metadata": {},
   "outputs": [
    {
     "name": "stdout",
     "output_type": "stream",
     "text": [
      "1\n"
     ]
    }
   ],
   "source": [
    "num = 10\n",
    "num %= 3\n",
    "print(num)"
   ]
  },
  {
   "cell_type": "markdown",
   "id": "artistic-voltage",
   "metadata": {},
   "source": [
    "파이썬에는 증감연산 `++`, `--` 이 없다"
   ]
  },
  {
   "cell_type": "markdown",
   "id": "alone-external",
   "metadata": {},
   "source": [
    "## - 비교연산 `<=`, `>=`, `<`, `>`, `==`, `!=`"
   ]
  },
  {
   "cell_type": "code",
   "execution_count": 23,
   "id": "banner-darwin",
   "metadata": {},
   "outputs": [
    {
     "data": {
      "text/plain": [
       "True"
      ]
     },
     "execution_count": 23,
     "metadata": {},
     "output_type": "execute_result"
    }
   ],
   "source": [
    "5 <= 5"
   ]
  },
  {
   "cell_type": "code",
   "execution_count": 25,
   "id": "pharmaceutical-billion",
   "metadata": {},
   "outputs": [
    {
     "data": {
      "text/plain": [
       "False"
      ]
     },
     "execution_count": 25,
     "metadata": {},
     "output_type": "execute_result"
    }
   ],
   "source": [
    "5 < 5"
   ]
  },
  {
   "cell_type": "code",
   "execution_count": 27,
   "id": "behind-turkey",
   "metadata": {},
   "outputs": [
    {
     "data": {
      "text/plain": [
       "True"
      ]
     },
     "execution_count": 27,
     "metadata": {},
     "output_type": "execute_result"
    }
   ],
   "source": [
    "4 > 2"
   ]
  },
  {
   "cell_type": "code",
   "execution_count": 28,
   "id": "defensive-morgan",
   "metadata": {},
   "outputs": [
    {
     "data": {
      "text/plain": [
       "True"
      ]
     },
     "execution_count": 28,
     "metadata": {},
     "output_type": "execute_result"
    }
   ],
   "source": [
    "3 >= 0"
   ]
  },
  {
   "cell_type": "code",
   "execution_count": 29,
   "id": "alone-doctrine",
   "metadata": {},
   "outputs": [
    {
     "data": {
      "text/plain": [
       "True"
      ]
     },
     "execution_count": 29,
     "metadata": {},
     "output_type": "execute_result"
    }
   ],
   "source": [
    "10 == 10"
   ]
  },
  {
   "cell_type": "code",
   "execution_count": 30,
   "id": "demanding-element",
   "metadata": {},
   "outputs": [
    {
     "data": {
      "text/plain": [
       "False"
      ]
     },
     "execution_count": 30,
     "metadata": {},
     "output_type": "execute_result"
    }
   ],
   "source": [
    "1 != 1"
   ]
  },
  {
   "cell_type": "markdown",
   "id": "herbal-recognition",
   "metadata": {},
   "source": [
    "## - 식별(Identity)연산 `is`, `is not`\n",
    "\n",
    "값을 비교하는 것이 아니라 메모리 주소값을 비교\n",
    "\n",
    "파이썬은 정수 -5~256까지 이미 객체를 만들어 보관(메모리가 일정함)\n",
    "\n",
    "string도 짧은 문자열은 같은 주소에 할당되나, 긴 문자열은 다른 주소에 할당됨"
   ]
  },
  {
   "cell_type": "code",
   "execution_count": 32,
   "id": "second-things",
   "metadata": {},
   "outputs": [
    {
     "name": "stdout",
     "output_type": "stream",
     "text": [
      "True\n",
      "True\n",
      "2485052593616\n",
      "2485052593616\n"
     ]
    }
   ],
   "source": [
    "# == 와 is의 차이\n",
    "x = 100\n",
    "y = 100\n",
    "print(x == y)\n",
    "print(x is y)\n",
    "print(id(x)) #주소값 확인 id()\n",
    "print(id(y))"
   ]
  },
  {
   "cell_type": "code",
   "execution_count": 33,
   "id": "bizarre-resolution",
   "metadata": {},
   "outputs": [
    {
     "name": "stdout",
     "output_type": "stream",
     "text": [
      "True\n",
      "False\n",
      "2485124322192\n",
      "2485124322448\n"
     ]
    }
   ],
   "source": [
    "x = 257\n",
    "y = 257\n",
    "print(x == y)\n",
    "print(x is y)\n",
    "print(id(x))\n",
    "print(id(y))"
   ]
  },
  {
   "cell_type": "markdown",
   "id": "nominated-progress",
   "metadata": {},
   "source": [
    "## - 논리 연산 `not`, `and`, `or`"
   ]
  },
  {
   "cell_type": "code",
   "execution_count": 38,
   "id": "beautiful-character",
   "metadata": {},
   "outputs": [
    {
     "name": "stdout",
     "output_type": "stream",
     "text": [
      "True\n",
      "False\n",
      "False\n",
      "False\n"
     ]
    }
   ],
   "source": [
    "print(True and True)\n",
    "print(True and False)\n",
    "print(False and True)\n",
    "print(False and False)"
   ]
  },
  {
   "cell_type": "code",
   "execution_count": 40,
   "id": "specialized-capability",
   "metadata": {},
   "outputs": [
    {
     "name": "stdout",
     "output_type": "stream",
     "text": [
      "True\n",
      "True\n",
      "True\n",
      "False\n"
     ]
    }
   ],
   "source": [
    "print(True or True)\n",
    "print(True or False)\n",
    "print(False or True)\n",
    "print(False or False)"
   ]
  },
  {
   "cell_type": "code",
   "execution_count": 41,
   "id": "cardiovascular-programmer",
   "metadata": {},
   "outputs": [
    {
     "data": {
      "text/plain": [
       "False"
      ]
     },
     "execution_count": 41,
     "metadata": {},
     "output_type": "execute_result"
    }
   ],
   "source": [
    "not True"
   ]
  },
  {
   "cell_type": "markdown",
   "id": "desirable-mercy",
   "metadata": {},
   "source": [
    "## - 비트연산 `<<`, `>>`, `^`, `|`, `&`, `~`"
   ]
  },
  {
   "cell_type": "code",
   "execution_count": 55,
   "id": "remarkable-crisis",
   "metadata": {},
   "outputs": [],
   "source": [
    "# PASS"
   ]
  },
  {
   "cell_type": "markdown",
   "id": "representative-abuse",
   "metadata": {},
   "source": [
    "### * 진법 활용 "
   ]
  },
  {
   "cell_type": "code",
   "execution_count": 19,
   "id": "gothic-witness",
   "metadata": {},
   "outputs": [
    {
     "data": {
      "text/plain": [
       "('0b1010', '0o12', '0xa')"
      ]
     },
     "execution_count": 19,
     "metadata": {},
     "output_type": "execute_result"
    }
   ],
   "source": [
    "bin(10), oct(10), hex(10)"
   ]
  },
  {
   "cell_type": "code",
   "execution_count": 31,
   "id": "straight-speed",
   "metadata": {},
   "outputs": [
    {
     "data": {
      "text/plain": [
       "(10, 10, 10)"
      ]
     },
     "execution_count": 31,
     "metadata": {},
     "output_type": "execute_result"
    }
   ],
   "source": [
    "int('0b1010', 2), int('0o12', 8), int('0xa', 16)"
   ]
  },
  {
   "cell_type": "markdown",
   "id": "nutritional-mileage",
   "metadata": {},
   "source": [
    "<br>\n",
    "<br>\n",
    "<br>\n",
    "<br>\n",
    "<br>\n",
    "<br>\n",
    "<hr>\n",
    "<br>\n",
    "<br>\n",
    "<br>\n",
    "<br>\n",
    "<br>\n",
    "<br>"
   ]
  },
  {
   "cell_type": "markdown",
   "id": "entertaining-plant",
   "metadata": {},
   "source": [
    "# 04. 조건문"
   ]
  },
  {
   "cell_type": "markdown",
   "id": "reserved-television",
   "metadata": {},
   "source": [
    "## - if ~ else"
   ]
  },
  {
   "cell_type": "code",
   "execution_count": 5,
   "id": "structural-calibration",
   "metadata": {},
   "outputs": [
    {
     "name": "stdin",
     "output_type": "stream",
     "text": [
      "정수 입력 10\n"
     ]
    },
    {
     "name": "stdout",
     "output_type": "stream",
     "text": [
      "짝수\n"
     ]
    }
   ],
   "source": [
    "num = int(input(\"정수 입력\"))\n",
    "if num % 2 == 0:\n",
    "    print(\"짝수\")\n",
    "else:\n",
    "    print(\"홀수\")"
   ]
  },
  {
   "cell_type": "code",
   "execution_count": 9,
   "id": "every-contract",
   "metadata": {},
   "outputs": [
    {
     "name": "stdin",
     "output_type": "stream",
     "text": [
      "Input the score :  76\n"
     ]
    },
    {
     "name": "stdout",
     "output_type": "stream",
     "text": [
      "미\n",
      "양\n"
     ]
    }
   ],
   "source": [
    "score = int(input(\"Input the score : \"))\n",
    "if score > 90:\n",
    "    print(\"수\")\n",
    "if score > 80:\n",
    "    print(\"우\")\n",
    "if score > 70:\n",
    "    print(\"미\")\n",
    "if score > 60:\n",
    "    print(\"양\")\n",
    "else:\n",
    "    print(\"가\")"
   ]
  },
  {
   "cell_type": "code",
   "execution_count": 12,
   "id": "southern-function",
   "metadata": {},
   "outputs": [
    {
     "name": "stdin",
     "output_type": "stream",
     "text": [
      "Input the score :  76\n"
     ]
    },
    {
     "name": "stdout",
     "output_type": "stream",
     "text": [
      "미\n",
      "가\n"
     ]
    }
   ],
   "source": [
    "score = int(input(\"Input the score : \"))\n",
    "if score > 90:\n",
    "    print(\"수\")\n",
    "if score > 80 and score <= 90:\n",
    "    print(\"우\")\n",
    "if score > 70 and score <= 80:\n",
    "    print(\"미\")\n",
    "if score > 60 and score <= 70:\n",
    "    print(\"양\")\n",
    "else:\n",
    "    print(\"가\")"
   ]
  },
  {
   "cell_type": "markdown",
   "id": "needed-investing",
   "metadata": {},
   "source": [
    "## -elif"
   ]
  },
  {
   "cell_type": "code",
   "execution_count": 13,
   "id": "behavioral-produce",
   "metadata": {},
   "outputs": [
    {
     "name": "stdin",
     "output_type": "stream",
     "text": [
      "Input the score :  76\n"
     ]
    },
    {
     "name": "stdout",
     "output_type": "stream",
     "text": [
      "미\n"
     ]
    }
   ],
   "source": [
    "score = int(input(\"Input the score : \"))\n",
    "if score > 90:\n",
    "    print(\"수\")\n",
    "elif score > 80:\n",
    "    print(\"우\")\n",
    "elif score > 70:\n",
    "    print(\"미\")\n",
    "elif score > 60:\n",
    "    print(\"양\")\n",
    "else:\n",
    "    print(\"가\")"
   ]
  },
  {
   "cell_type": "markdown",
   "id": "viral-spain",
   "metadata": {},
   "source": [
    "파이썬은 switch~case문이 없다.\n",
    "\n",
    "https://www.python.org/dev/peps/pep-3103/"
   ]
  },
  {
   "cell_type": "markdown",
   "id": "constant-spain",
   "metadata": {},
   "source": [
    "<br>\n",
    "<br>\n",
    "<br>\n",
    "<br>\n",
    "<br>\n",
    "<br>\n",
    "<hr>\n",
    "<br>\n",
    "<br>\n",
    "<br>\n",
    "<br>\n",
    "<br>\n",
    "<br>"
   ]
  },
  {
   "cell_type": "markdown",
   "id": "separate-wages",
   "metadata": {},
   "source": [
    "# 05. 반복문"
   ]
  },
  {
   "cell_type": "code",
   "execution_count": 16,
   "id": "fifth-greensboro",
   "metadata": {},
   "outputs": [],
   "source": [
    "a_student_score1 = 87\n",
    "b_student_score1 = 66\n",
    "c_student_score1 = 94\n",
    "d_student_score1 = 56\n",
    "e_student_score1 = 88"
   ]
  },
  {
   "cell_type": "code",
   "execution_count": 19,
   "id": "talented-installation",
   "metadata": {},
   "outputs": [
    {
     "name": "stdout",
     "output_type": "stream",
     "text": [
      "우\n",
      "양\n",
      "수\n",
      "가\n",
      "우\n"
     ]
    }
   ],
   "source": [
    "scores = [87, 66, 94, 56, 88] # 리스트(List)\n",
    "#-----------------------------------------#\n",
    "score = scores[0]\n",
    "\n",
    "if score > 90:\n",
    "    print(\"수\")\n",
    "elif score > 80:\n",
    "    print(\"우\")\n",
    "elif score > 70:\n",
    "    print(\"미\")\n",
    "elif score > 60:\n",
    "    print(\"양\")\n",
    "else:\n",
    "    print(\"가\")\n",
    "#-----------------------------------------#\n",
    "score = scores[1]\n",
    "\n",
    "if score > 90:\n",
    "    print(\"수\")\n",
    "elif score > 80:\n",
    "    print(\"우\")\n",
    "elif score > 70:\n",
    "    print(\"미\")\n",
    "elif score > 60:\n",
    "    print(\"양\")\n",
    "else:\n",
    "    print(\"가\")\n",
    "#-----------------------------------------#\n",
    "score = scores[2]\n",
    "\n",
    "if score > 90:\n",
    "    print(\"수\")\n",
    "elif score > 80:\n",
    "    print(\"우\")\n",
    "elif score > 70:\n",
    "    print(\"미\")\n",
    "elif score > 60:\n",
    "    print(\"양\")\n",
    "else:\n",
    "    print(\"가\")\n",
    "#-----------------------------------------#\n",
    "score = scores[3]\n",
    "\n",
    "if score > 90:\n",
    "    print(\"수\")\n",
    "elif score > 80:\n",
    "    print(\"우\")\n",
    "elif score > 70:\n",
    "    print(\"미\")\n",
    "elif score > 60:\n",
    "    print(\"양\")\n",
    "else:\n",
    "    print(\"가\")\n",
    "#-----------------------------------------#\n",
    "score = scores[4]\n",
    "\n",
    "if score > 90:\n",
    "    print(\"수\")\n",
    "elif score > 80:\n",
    "    print(\"우\")\n",
    "elif score > 70:\n",
    "    print(\"미\")\n",
    "elif score > 60:\n",
    "    print(\"양\")\n",
    "else:\n",
    "    print(\"가\")"
   ]
  },
  {
   "cell_type": "markdown",
   "id": "compact-argument",
   "metadata": {},
   "source": [
    "## - for"
   ]
  },
  {
   "cell_type": "code",
   "execution_count": 2,
   "id": "dominant-complement",
   "metadata": {},
   "outputs": [
    {
     "name": "stdout",
     "output_type": "stream",
     "text": [
      "우\n",
      "양\n",
      "수\n",
      "가\n",
      "우\n"
     ]
    }
   ],
   "source": [
    "scores = [87, 66, 94, 56, 88] # 리스트(List)\n",
    "\n",
    "for score in scores:\n",
    "    if score > 90:\n",
    "        print(\"수\")\n",
    "    elif score > 80:\n",
    "        print(\"우\")\n",
    "    elif score > 70:\n",
    "        print(\"미\")\n",
    "    elif score > 60:\n",
    "        print(\"양\")\n",
    "    else:\n",
    "        print(\"가\")"
   ]
  },
  {
   "cell_type": "code",
   "execution_count": 6,
   "id": "vital-lambda",
   "metadata": {},
   "outputs": [
    {
     "name": "stdout",
     "output_type": "stream",
     "text": [
      "1 2 3 4 5 "
     ]
    }
   ],
   "source": [
    "for i in 1, 2, 3, 4, 5:\n",
    "    print(i, end=\" \");"
   ]
  },
  {
   "cell_type": "markdown",
   "id": "grave-treat",
   "metadata": {},
   "source": [
    "### * range()"
   ]
  },
  {
   "cell_type": "code",
   "execution_count": 21,
   "id": "decreased-ground",
   "metadata": {},
   "outputs": [
    {
     "name": "stdout",
     "output_type": "stream",
     "text": [
      "0 1 2 3 4 5 6 7 8 9 "
     ]
    }
   ],
   "source": [
    "for i in range(10):\n",
    "    print(i, end=\" \")"
   ]
  },
  {
   "cell_type": "code",
   "execution_count": 24,
   "id": "durable-constitutional",
   "metadata": {},
   "outputs": [
    {
     "name": "stdout",
     "output_type": "stream",
     "text": [
      "1 2 3 4 5 6 7 8 9 "
     ]
    }
   ],
   "source": [
    "for i in range(1, 10):\n",
    "    print(i, end=\" \")"
   ]
  },
  {
   "cell_type": "code",
   "execution_count": 26,
   "id": "offshore-packing",
   "metadata": {},
   "outputs": [
    {
     "name": "stdout",
     "output_type": "stream",
     "text": [
      "1 3 5 7 9 "
     ]
    }
   ],
   "source": [
    "for i in range(1, 10, 2):\n",
    "    print(i, end=\" \")"
   ]
  },
  {
   "cell_type": "markdown",
   "id": "reduced-indicator",
   "metadata": {
    "tags": []
   },
   "source": [
    "- range()는 리스트가 아니라 iterate시 원하는 시퀀스 항목들을 순서대로 돌려주는 개체이나 실제로 리스트를 만들지는 않아서 공간이 절약됨\n",
    "- 이러한 객체를 iterable이라고 한다"
   ]
  },
  {
   "cell_type": "code",
   "execution_count": 28,
   "id": "studied-snowboard",
   "metadata": {},
   "outputs": [
    {
     "name": "stdout",
     "output_type": "stream",
     "text": [
      "range(0, 10)\n"
     ]
    }
   ],
   "source": [
    "# range(10) === [0, 1, 2, 3, 4, 5, 6, 7, 8, 9] ?\n",
    "print(range(10))"
   ]
  },
  {
   "cell_type": "code",
   "execution_count": 29,
   "id": "existing-convertible",
   "metadata": {},
   "outputs": [
    {
     "data": {
      "text/plain": [
       "[0, 1, 2, 3, 4, 5, 6, 7, 8, 9]"
      ]
     },
     "execution_count": 29,
     "metadata": {},
     "output_type": "execute_result"
    }
   ],
   "source": [
    "list(range(10))"
   ]
  },
  {
   "cell_type": "markdown",
   "id": "passive-greeting",
   "metadata": {},
   "source": [
    "## - while"
   ]
  },
  {
   "cell_type": "code",
   "execution_count": 31,
   "id": "suited-apartment",
   "metadata": {},
   "outputs": [
    {
     "name": "stdout",
     "output_type": "stream",
     "text": [
      "0 1 2 3 4 5 6 7 8 9 "
     ]
    }
   ],
   "source": [
    "i = 0\n",
    "\n",
    "while i < 10:\n",
    "    print(i, end=\" \")\n",
    "    i += 1"
   ]
  },
  {
   "cell_type": "markdown",
   "id": "graphic-diploma",
   "metadata": {},
   "source": [
    "## - continue & break"
   ]
  },
  {
   "cell_type": "code",
   "execution_count": 35,
   "id": "disciplinary-brooks",
   "metadata": {},
   "outputs": [
    {
     "name": "stdout",
     "output_type": "stream",
     "text": [
      "0 2 4 6 8 "
     ]
    }
   ],
   "source": [
    "for i in range(10):\n",
    "    if i % 2 != 0:\n",
    "        continue\n",
    "    print(i, end = \" \")"
   ]
  },
  {
   "cell_type": "code",
   "execution_count": 37,
   "id": "strange-remainder",
   "metadata": {},
   "outputs": [
    {
     "name": "stdout",
     "output_type": "stream",
     "text": [
      "1 2 3 4 5 6 7 "
     ]
    }
   ],
   "source": [
    "i = 0\n",
    "\n",
    "while i < 10:\n",
    "    if i == 7:\n",
    "        break\n",
    "    i += 1\n",
    "    print(i, end = \" \")"
   ]
  },
  {
   "cell_type": "markdown",
   "id": "brave-tooth",
   "metadata": {},
   "source": [
    "## - pass문"
   ]
  },
  {
   "cell_type": "code",
   "execution_count": 39,
   "id": "proud-retirement",
   "metadata": {},
   "outputs": [],
   "source": [
    "for i in range(100):\n",
    "    pass"
   ]
  },
  {
   "cell_type": "markdown",
   "id": "combined-auditor",
   "metadata": {},
   "source": [
    "<br>\n",
    "<br>\n",
    "<br>\n",
    "<br>\n",
    "<br>\n",
    "<br>\n",
    "<hr>\n",
    "<br>\n",
    "<br>\n",
    "<br>\n",
    "<br>\n",
    "<br>\n",
    "<br>"
   ]
  },
  {
   "cell_type": "markdown",
   "id": "studied-opera",
   "metadata": {},
   "source": [
    "<br>\n",
    "<br>\n",
    "<br>\n",
    "<br>\n",
    "<br>\n",
    "<br>\n",
    "<hr>\n",
    "<br>\n",
    "<br>\n",
    "<br>\n",
    "<br>\n",
    "<br>\n",
    "<br>"
   ]
  },
  {
   "cell_type": "markdown",
   "id": "preceding-fundamentals",
   "metadata": {},
   "source": [
    "# 06. 함수(Basic)"
   ]
  },
  {
   "cell_type": "markdown",
   "id": "fewer-geometry",
   "metadata": {},
   "source": [
    "## - 함수 선언과 호출"
   ]
  },
  {
   "cell_type": "code",
   "execution_count": 18,
   "id": "binary-silicon",
   "metadata": {},
   "outputs": [],
   "source": [
    "def my_add_func(num1, num2): # num1과 num2는 파라미터(Parameter) 혹은 매개변수라고 한다\n",
    "    print(\"더하기 완료!\")\n",
    "    return num1 + num2"
   ]
  },
  {
   "cell_type": "code",
   "execution_count": 20,
   "id": "racial-oxford",
   "metadata": {},
   "outputs": [
    {
     "name": "stdout",
     "output_type": "stream",
     "text": [
      "<function my_add_func at 0x000001FADFFBE4C0>\n",
      "더하기 완료!\n",
      "30\n"
     ]
    }
   ],
   "source": [
    "func = my_add_func\n",
    "print(func) # 함수를 변수로 받을 수도 있다.\n",
    "result = func(10, 20)\n",
    "print(result)"
   ]
  },
  {
   "cell_type": "markdown",
   "id": "oriental-poison",
   "metadata": {},
   "source": [
    "## - Lambda"
   ]
  },
  {
   "cell_type": "code",
   "execution_count": 21,
   "id": "outside-editor",
   "metadata": {},
   "outputs": [
    {
     "name": "stdout",
     "output_type": "stream",
     "text": [
      "484\n"
     ]
    }
   ],
   "source": [
    "# 기존\n",
    "def my_mul(num1, num2):\n",
    "    return num1 * num2\n",
    "print(my_mul(22,22))"
   ]
  },
  {
   "cell_type": "code",
   "execution_count": 24,
   "id": "impaired-cheese",
   "metadata": {},
   "outputs": [
    {
     "name": "stdout",
     "output_type": "stream",
     "text": [
      "484\n"
     ]
    }
   ],
   "source": [
    "# 람다(Lambda)\n",
    "func = lambda num1, num2 : num1 * num2\n",
    "print(func(22,22))"
   ]
  },
  {
   "cell_type": "code",
   "execution_count": 25,
   "id": "bright-pension",
   "metadata": {},
   "outputs": [
    {
     "name": "stdout",
     "output_type": "stream",
     "text": [
      "9\n"
     ]
    }
   ],
   "source": [
    "f = lambda x : print(x)\n",
    "f((lambda x : x ** 2)(3))"
   ]
  },
  {
   "cell_type": "markdown",
   "id": "laughing-lecture",
   "metadata": {},
   "source": [
    "<br>\n",
    "<br>\n",
    "<br>\n",
    "<br>\n",
    "<br>\n",
    "<br>\n",
    "<hr>\n",
    "<br>\n",
    "<br>\n",
    "<br>\n",
    "<br>\n",
    "<br>\n",
    "<br>"
   ]
  },
  {
   "cell_type": "markdown",
   "id": "german-enemy",
   "metadata": {},
   "source": [
    "# 07. 자료구조( List, Tuple, Set, Dictionary )"
   ]
  },
  {
   "cell_type": "markdown",
   "id": "minor-ottawa",
   "metadata": {},
   "source": [
    "## - List"
   ]
  },
  {
   "cell_type": "markdown",
   "id": "appreciated-venezuela",
   "metadata": {},
   "source": [
    "### * List Methods"
   ]
  },
  {
   "cell_type": "markdown",
   "id": "separated-riding",
   "metadata": {},
   "source": [
    "#### => list.append(x)\n",
    " - 리스트의 끝에 항목을 더합니다. a[len(a):] = [x] 와 동등합니다.\n",
    "\n",
    "#### => list.extend(iterable)\n",
    " - 리스트의 끝에 이터러블의 모든 항목을 덧붙여서 확장합니다. a[len(a):] = iterable 와 동등합니다.\n",
    "\n",
    "#### => list.insert(i, x)\n",
    " - 주어진 위치에 항목을 삽입합니다. 첫 번째 인자는 삽입되는 요소가 갖게 될 인덱스입니다. 그래서 a.insert(0, x) 는 리스트의 처음에 삽입하고, a.insert(len(a), x) 는 a.append(x) 와 동등합니다.\n",
    "\n",
    "#### => list.remove(x)\n",
    " - 리스트에서 값이 x 와 같은 첫 번째 항목을 삭제합니다. 그런 항목이 없으면 ValueError를 일으킵니다.\n",
    "\n",
    "#### => list.pop([i])\n",
    " - 리스트에서 주어진 위치에 있는 항목을 삭제하고, 그 항목을 돌려줍니다. 인덱스를 지정하지 않으면, a.pop() 은 리스트의 마지막 항목을 삭제하고 돌려줍니다. (메서드 시그니처에서 i 를 둘러싼 대괄호는 매개변수가 선택적임을 나타냅니다. 그 위치에 대괄호를 입력해야 한다는 뜻이 아닙니다. 이 표기법은 파이썬 라이브러리 레퍼런스에서 지주 등장합니다.)\n",
    "\n",
    "#### => list.clear()\n",
    " - 리스트의 모든 항목을 삭제합니다. del a[:] 와 동등합니다.\n",
    "\n",
    "#### => list.index(x[, start[, end]])\n",
    " - 리스트에 있는 항목 중 값이 x 와 같은 첫 번째 것의 0부터 시작하는 인덱스를 돌려줍니다. 그런 항목이 없으면 ValueError 를 일으킵니다.\n",
    " - 선택적인 인자 start 와 end 는 슬라이스 표기법처럼 해석되고, 검색을 리스트의 특별한 서브 시퀀스로 제한하는 데 사용됩니다. 돌려주는 인덱스는 start 인자가 아니라 전체 시퀀스의 시작을 기준으로 합니다.\n",
    "\n",
    "#### => list.count(x)\n",
    " - 리스트에서 x 가 등장하는 횟수를 돌려줍니다.\n",
    "\n",
    "#### => list.sort(*, key=None, reverse=False)\n",
    " - 리스트의 항목들을 제자리에서 정렬합니다 (인자들은 정렬 커스터마이제이션에 사용될 수 있습니다. 설명은 sorted() 를 보세요).\n",
    "\n",
    "#### => list.reverse()\n",
    " - 리스트의 요소들을 제자리에서 뒤집습니다.\n",
    "\n",
    "#### => list.copy()\n",
    " - 리스트의 얕은 사본을 돌려줍니다. a[:] 와 동등합니다."
   ]
  },
  {
   "cell_type": "markdown",
   "id": "empirical-toyota",
   "metadata": {},
   "source": [
    "### * Shallow Copy, Deep Copy"
   ]
  },
  {
   "cell_type": "code",
   "execution_count": 1,
   "id": "professional-antique",
   "metadata": {},
   "outputs": [
    {
     "name": "stdout",
     "output_type": "stream",
     "text": [
      "[1, 2, 3, 4, 5]\n",
      "[100, 2, 3, 4, 5]\n"
     ]
    }
   ],
   "source": [
    "a = [1, 2, 3, 4, 5]\n",
    "b = a.copy()\n",
    "b[0] = 100\n",
    "print(a)\n",
    "print(b)"
   ]
  },
  {
   "cell_type": "code",
   "execution_count": 51,
   "id": "united-block",
   "metadata": {},
   "outputs": [
    {
     "name": "stdout",
     "output_type": "stream",
     "text": [
      "[[100, 2], [3, 4]]\n",
      "[[100, 2], [3, 4]]\n"
     ]
    }
   ],
   "source": [
    "a = [[1, 2], [3, 4]]\n",
    "b = a.copy()\n",
    "b[0][0] = 100\n",
    "print(a)\n",
    "print(b)"
   ]
  },
  {
   "cell_type": "code",
   "execution_count": 52,
   "id": "included-barrier",
   "metadata": {},
   "outputs": [
    {
     "name": "stdout",
     "output_type": "stream",
     "text": [
      "[[1, 2], [3, 4]]\n",
      "[[100, 2], [3, 4]]\n"
     ]
    }
   ],
   "source": [
    "import copy\n",
    "a = [[1, 2], [3, 4]]\n",
    "b = copy.deepcopy(a)\n",
    "b[0][0] = 100\n",
    "print(a)\n",
    "print(b)"
   ]
  },
  {
   "cell_type": "markdown",
   "id": "german-carolina",
   "metadata": {},
   "source": [
    "### * Stack"
   ]
  },
  {
   "cell_type": "code",
   "execution_count": 3,
   "id": "continental-ranking",
   "metadata": {},
   "outputs": [
    {
     "data": {
      "text/plain": [
       "[3, 4, 5, 6, 7]"
      ]
     },
     "execution_count": 3,
     "metadata": {},
     "output_type": "execute_result"
    }
   ],
   "source": [
    "stack = [3, 4, 5]\n",
    "stack.append(6)\n",
    "stack.append(7)\n",
    "stack"
   ]
  },
  {
   "cell_type": "code",
   "execution_count": 4,
   "id": "referenced-attachment",
   "metadata": {},
   "outputs": [
    {
     "name": "stdout",
     "output_type": "stream",
     "text": [
      "[3, 4, 5, 6] removed :  7\n"
     ]
    }
   ],
   "source": [
    "removed = stack.pop()\n",
    "print(stack, \"removed : \", removed)"
   ]
  },
  {
   "cell_type": "markdown",
   "id": "superior-presentation",
   "metadata": {},
   "source": [
    "### * Queue"
   ]
  },
  {
   "cell_type": "markdown",
   "id": "thick-tyler",
   "metadata": {},
   "source": [
    "List 자료구조 특성상  큐(Queue)로 구현하면 성능이 떨어지므로 `collections.deque`를 사용"
   ]
  },
  {
   "cell_type": "code",
   "execution_count": 5,
   "id": "developed-ambassador",
   "metadata": {},
   "outputs": [
    {
     "data": {
      "text/plain": [
       "deque([1, 2, 3, 4, 5])"
      ]
     },
     "execution_count": 5,
     "metadata": {},
     "output_type": "execute_result"
    }
   ],
   "source": [
    "from collections import deque\n",
    "queue = deque([1, 2, 3])\n",
    "queue.append(4)\n",
    "queue.append(5)\n",
    "queue"
   ]
  },
  {
   "cell_type": "code",
   "execution_count": 6,
   "id": "spare-battlefield",
   "metadata": {},
   "outputs": [
    {
     "data": {
      "text/plain": [
       "deque([3, 4, 5])"
      ]
     },
     "execution_count": 6,
     "metadata": {},
     "output_type": "execute_result"
    }
   ],
   "source": [
    "queue.popleft()\n",
    "queue.popleft()\n",
    "queue"
   ]
  },
  {
   "cell_type": "markdown",
   "id": "formed-shoot",
   "metadata": {
    "tags": []
   },
   "source": [
    "### * Comprehensions"
   ]
  },
  {
   "cell_type": "code",
   "execution_count": 7,
   "id": "related-stephen",
   "metadata": {},
   "outputs": [
    {
     "data": {
      "text/plain": [
       "[0, 1, 4, 9, 16, 25, 36, 49, 64, 81]"
      ]
     },
     "execution_count": 7,
     "metadata": {},
     "output_type": "execute_result"
    }
   ],
   "source": [
    "squares = []\n",
    "for x in range(10):\n",
    "    squares.append(x**2)\n",
    "    \n",
    "squares"
   ]
  },
  {
   "cell_type": "code",
   "execution_count": 8,
   "id": "positive-parts",
   "metadata": {},
   "outputs": [
    {
     "data": {
      "text/plain": [
       "[0, 1, 4, 9, 16, 25, 36, 49, 64, 81]"
      ]
     },
     "execution_count": 8,
     "metadata": {},
     "output_type": "execute_result"
    }
   ],
   "source": [
    "list(map(lambda x: x**2, range(10)))"
   ]
  },
  {
   "cell_type": "code",
   "execution_count": 9,
   "id": "figured-preservation",
   "metadata": {},
   "outputs": [
    {
     "data": {
      "text/plain": [
       "[0, 1, 4, 9, 16, 25, 36, 49, 64, 81]"
      ]
     },
     "execution_count": 9,
     "metadata": {},
     "output_type": "execute_result"
    }
   ],
   "source": [
    "[x**2 for x in range(10)]"
   ]
  },
  {
   "cell_type": "code",
   "execution_count": 10,
   "id": "superb-scoop",
   "metadata": {},
   "outputs": [
    {
     "data": {
      "text/plain": [
       "[(1, 3), (1, 4), (2, 3), (2, 1), (2, 4), (3, 1), (3, 4)]"
      ]
     },
     "execution_count": 10,
     "metadata": {},
     "output_type": "execute_result"
    }
   ],
   "source": [
    "combs = []\n",
    "for x in [1, 2, 3]:\n",
    "    for y in [3, 1, 4]:\n",
    "        if x != y:\n",
    "            combs.append((x, y))\n",
    "            \n",
    "combs"
   ]
  },
  {
   "cell_type": "code",
   "execution_count": 11,
   "id": "funny-outside",
   "metadata": {},
   "outputs": [
    {
     "data": {
      "text/plain": [
       "[(1, 3), (1, 4), (2, 3), (2, 1), (2, 4), (3, 1), (3, 4)]"
      ]
     },
     "execution_count": 11,
     "metadata": {},
     "output_type": "execute_result"
    }
   ],
   "source": [
    "[(x, y) for x in [1, 2, 3] for y in [3, 1, 4] if x != y]"
   ]
  },
  {
   "cell_type": "code",
   "execution_count": 12,
   "id": "great-albuquerque",
   "metadata": {},
   "outputs": [],
   "source": [
    "vec = [-4, -2, 0, 2, 4]"
   ]
  },
  {
   "cell_type": "code",
   "execution_count": 13,
   "id": "shared-reputation",
   "metadata": {},
   "outputs": [
    {
     "data": {
      "text/plain": [
       "[-8, -4, 0, 4, 8]"
      ]
     },
     "execution_count": 13,
     "metadata": {},
     "output_type": "execute_result"
    }
   ],
   "source": [
    "[x*2 for x in vec]"
   ]
  },
  {
   "cell_type": "code",
   "execution_count": 14,
   "id": "intelligent-fighter",
   "metadata": {},
   "outputs": [
    {
     "data": {
      "text/plain": [
       "[0, 2, 4]"
      ]
     },
     "execution_count": 14,
     "metadata": {},
     "output_type": "execute_result"
    }
   ],
   "source": [
    "[x for x in vec if x >= 0]"
   ]
  },
  {
   "cell_type": "code",
   "execution_count": 53,
   "id": "engaging-clark",
   "metadata": {},
   "outputs": [],
   "source": [
    "vec = [[1, 2, 3], [4, 5, 6], [7, 8, 9]]"
   ]
  },
  {
   "cell_type": "code",
   "execution_count": 55,
   "id": "oriented-nation",
   "metadata": {},
   "outputs": [
    {
     "data": {
      "text/plain": [
       "[1, 2, 3, 4, 5, 6, 7, 8, 9]"
      ]
     },
     "execution_count": 55,
     "metadata": {},
     "output_type": "execute_result"
    }
   ],
   "source": [
    "# Flatting list using list comprehensions\n",
    "[num for elem in vec for num in elem]"
   ]
  },
  {
   "cell_type": "code",
   "execution_count": 17,
   "id": "ordered-player",
   "metadata": {},
   "outputs": [
    {
     "data": {
      "text/plain": [
       "[1, 2, 3, 4, 5, 6, 7, 8, 9]"
      ]
     },
     "execution_count": 17,
     "metadata": {},
     "output_type": "execute_result"
    }
   ],
   "source": [
    "result=[]\n",
    "for elem in vec:\n",
    "    for num in elem:\n",
    "        result.append(num)\n",
    "\n",
    "result"
   ]
  },
  {
   "cell_type": "code",
   "execution_count": 56,
   "id": "animal-superintendent",
   "metadata": {},
   "outputs": [],
   "source": [
    "matrix = [\n",
    "    [1, 2, 3, 4],\n",
    "    [5, 6, 7, 8],\n",
    "    [9, 10, 11, 12]\n",
    "]"
   ]
  },
  {
   "cell_type": "code",
   "execution_count": 58,
   "id": "accepted-writer",
   "metadata": {},
   "outputs": [
    {
     "data": {
      "text/plain": [
       "[[1, 5, 9], [2, 6, 10], [3, 7, 11], [4, 8, 12]]"
      ]
     },
     "execution_count": 58,
     "metadata": {},
     "output_type": "execute_result"
    }
   ],
   "source": [
    "[[row[i] for row in matrix] for i in range(4)]"
   ]
  },
  {
   "cell_type": "code",
   "execution_count": 20,
   "id": "advanced-supplier",
   "metadata": {},
   "outputs": [
    {
     "data": {
      "text/plain": [
       "[[1, 5, 9], [2, 6, 10], [3, 7, 11], [4, 8, 12]]"
      ]
     },
     "execution_count": 20,
     "metadata": {},
     "output_type": "execute_result"
    }
   ],
   "source": [
    "transposed = []\n",
    "for i in range(4):\n",
    "    transposed.append([row[i] for row in matrix])\n",
    "    \n",
    "transposed"
   ]
  },
  {
   "cell_type": "code",
   "execution_count": 63,
   "id": "biological-grammar",
   "metadata": {},
   "outputs": [
    {
     "data": {
      "text/plain": [
       "[(1, 5, 9), (2, 6, 10), (3, 7, 11), (4, 8, 12)]"
      ]
     },
     "execution_count": 63,
     "metadata": {},
     "output_type": "execute_result"
    }
   ],
   "source": [
    "list(zip(*matrix))"
   ]
  },
  {
   "cell_type": "code",
   "execution_count": 22,
   "id": "interpreted-chest",
   "metadata": {},
   "outputs": [],
   "source": [
    "a = [1, 2, 3, 4, 5, 6]\n",
    "del a[2:]"
   ]
  },
  {
   "cell_type": "code",
   "execution_count": 23,
   "id": "infinite-prairie",
   "metadata": {},
   "outputs": [
    {
     "data": {
      "text/plain": [
       "[1, 2]"
      ]
     },
     "execution_count": 23,
     "metadata": {},
     "output_type": "execute_result"
    }
   ],
   "source": [
    "a"
   ]
  },
  {
   "cell_type": "markdown",
   "id": "dangerous-homework",
   "metadata": {},
   "source": [
    "## - Tuple"
   ]
  },
  {
   "cell_type": "code",
   "execution_count": 26,
   "id": "standing-neighbor",
   "metadata": {},
   "outputs": [
    {
     "data": {
      "text/plain": [
       "(1234, 'hello', 3.14)"
      ]
     },
     "execution_count": 26,
     "metadata": {},
     "output_type": "execute_result"
    }
   ],
   "source": [
    "t = 1234, \"hello\", 3.14\n",
    "t"
   ]
  },
  {
   "cell_type": "code",
   "execution_count": 26,
   "id": "cordless-compromise",
   "metadata": {},
   "outputs": [
    {
     "name": "stdout",
     "output_type": "stream",
     "text": [
      "0\n",
      "1\n"
     ]
    }
   ],
   "source": [
    "empty = ()\n",
    "singleton = 'hello', # 튜플 요소(Element)가 하나일 때는 맨 끝에 ,를 붙여줘야 한다.\n",
    "print(len(empty))\n",
    "print(len(singleton))"
   ]
  },
  {
   "cell_type": "code",
   "execution_count": 28,
   "id": "radio-dividend",
   "metadata": {},
   "outputs": [],
   "source": [
    "x, y, z = t"
   ]
  },
  {
   "cell_type": "code",
   "execution_count": 29,
   "id": "pressed-terminology",
   "metadata": {},
   "outputs": [
    {
     "name": "stdout",
     "output_type": "stream",
     "text": [
      "1234\n",
      "hello\n",
      "3.14\n"
     ]
    }
   ],
   "source": [
    "print(x)\n",
    "print(y)\n",
    "print(z)"
   ]
  },
  {
   "cell_type": "markdown",
   "id": "downtown-sleeping",
   "metadata": {},
   "source": [
    "## - Set"
   ]
  },
  {
   "cell_type": "code",
   "execution_count": 30,
   "id": "coastal-introduction",
   "metadata": {},
   "outputs": [
    {
     "data": {
      "text/plain": [
       "{'a', 'b', 'c', 'd'}"
      ]
     },
     "execution_count": 30,
     "metadata": {},
     "output_type": "execute_result"
    }
   ],
   "source": [
    "basket = {'a', 'b', 'a', 'c', 'd', 'b'}\n",
    "basket"
   ]
  },
  {
   "cell_type": "code",
   "execution_count": 31,
   "id": "natural-dublin",
   "metadata": {},
   "outputs": [
    {
     "data": {
      "text/plain": [
       "True"
      ]
     },
     "execution_count": 31,
     "metadata": {},
     "output_type": "execute_result"
    }
   ],
   "source": [
    "'a' in basket"
   ]
  },
  {
   "cell_type": "code",
   "execution_count": 32,
   "id": "advisory-homework",
   "metadata": {},
   "outputs": [
    {
     "name": "stdout",
     "output_type": "stream",
     "text": [
      "{'r', 'b', 'd', 'c', 'a'}\n",
      "{'m', 'l', 'c', 'z', 'a'}\n"
     ]
    }
   ],
   "source": [
    "a = set(\"abracadabra\")\n",
    "b = set(\"alacazam\")\n",
    "print(a)\n",
    "print(b)"
   ]
  },
  {
   "cell_type": "code",
   "execution_count": 33,
   "id": "diverse-hindu",
   "metadata": {},
   "outputs": [
    {
     "data": {
      "text/plain": [
       "{'b', 'd', 'r'}"
      ]
     },
     "execution_count": 33,
     "metadata": {},
     "output_type": "execute_result"
    }
   ],
   "source": [
    "a - b"
   ]
  },
  {
   "cell_type": "code",
   "execution_count": 34,
   "id": "worse-doctrine",
   "metadata": {},
   "outputs": [
    {
     "data": {
      "text/plain": [
       "{'a', 'b', 'c', 'd', 'l', 'm', 'r', 'z'}"
      ]
     },
     "execution_count": 34,
     "metadata": {},
     "output_type": "execute_result"
    }
   ],
   "source": [
    "a | b"
   ]
  },
  {
   "cell_type": "code",
   "execution_count": 35,
   "id": "medium-grace",
   "metadata": {},
   "outputs": [
    {
     "data": {
      "text/plain": [
       "{'a', 'c'}"
      ]
     },
     "execution_count": 35,
     "metadata": {},
     "output_type": "execute_result"
    }
   ],
   "source": [
    "a & b"
   ]
  },
  {
   "cell_type": "code",
   "execution_count": 36,
   "id": "executive-disease",
   "metadata": {},
   "outputs": [
    {
     "data": {
      "text/plain": [
       "{'b', 'd', 'l', 'm', 'r', 'z'}"
      ]
     },
     "execution_count": 36,
     "metadata": {},
     "output_type": "execute_result"
    }
   ],
   "source": [
    "a ^ b #letters in a or b but not both"
   ]
  },
  {
   "cell_type": "code",
   "execution_count": 37,
   "id": "dimensional-warning",
   "metadata": {},
   "outputs": [
    {
     "data": {
      "text/plain": [
       "{'d', 'r'}"
      ]
     },
     "execution_count": 37,
     "metadata": {},
     "output_type": "execute_result"
    }
   ],
   "source": [
    "{x for x in 'abracadabra' if x not in 'abc'}"
   ]
  },
  {
   "cell_type": "markdown",
   "id": "statewide-helen",
   "metadata": {},
   "source": [
    "## - Dictionary"
   ]
  },
  {
   "cell_type": "code",
   "execution_count": 38,
   "id": "former-drive",
   "metadata": {},
   "outputs": [],
   "source": [
    "tel = {'jack' : 4098, 'sape' : 4139}"
   ]
  },
  {
   "cell_type": "code",
   "execution_count": 39,
   "id": "balanced-killing",
   "metadata": {},
   "outputs": [
    {
     "data": {
      "text/plain": [
       "4098"
      ]
     },
     "execution_count": 39,
     "metadata": {},
     "output_type": "execute_result"
    }
   ],
   "source": [
    "tel['jack']"
   ]
  },
  {
   "cell_type": "code",
   "execution_count": 40,
   "id": "hollywood-hands",
   "metadata": {},
   "outputs": [],
   "source": [
    "del tel['sape']"
   ]
  },
  {
   "cell_type": "code",
   "execution_count": 41,
   "id": "boolean-permission",
   "metadata": {},
   "outputs": [],
   "source": [
    "tel['irv'] = 4127"
   ]
  },
  {
   "cell_type": "code",
   "execution_count": 42,
   "id": "induced-ground",
   "metadata": {},
   "outputs": [
    {
     "data": {
      "text/plain": [
       "{'jack': 4098, 'irv': 4127}"
      ]
     },
     "execution_count": 42,
     "metadata": {},
     "output_type": "execute_result"
    }
   ],
   "source": [
    "tel"
   ]
  },
  {
   "cell_type": "code",
   "execution_count": 43,
   "id": "adaptive-tampa",
   "metadata": {},
   "outputs": [
    {
     "data": {
      "text/plain": [
       "['jack', 'irv']"
      ]
     },
     "execution_count": 43,
     "metadata": {},
     "output_type": "execute_result"
    }
   ],
   "source": [
    "list(tel)"
   ]
  },
  {
   "cell_type": "code",
   "execution_count": 44,
   "id": "legendary-adoption",
   "metadata": {},
   "outputs": [
    {
     "data": {
      "text/plain": [
       "{'sape': 4139, 'guido': 4127, 'jack': 4098}"
      ]
     },
     "execution_count": 44,
     "metadata": {},
     "output_type": "execute_result"
    }
   ],
   "source": [
    "dict([('sape', 4139), ('guido', 4127), ('jack', 4098)])"
   ]
  },
  {
   "cell_type": "code",
   "execution_count": 45,
   "id": "tight-contrary",
   "metadata": {},
   "outputs": [
    {
     "data": {
      "text/plain": [
       "{2: 4, 4: 16, 6: 36}"
      ]
     },
     "execution_count": 45,
     "metadata": {},
     "output_type": "execute_result"
    }
   ],
   "source": [
    "{x: x**2 for x in (2, 4, 6)}"
   ]
  },
  {
   "cell_type": "code",
   "execution_count": 46,
   "id": "searching-sunglasses",
   "metadata": {},
   "outputs": [
    {
     "data": {
      "text/plain": [
       "{'sape': 4139, 'guido': 4127, 'jack': 4098}"
      ]
     },
     "execution_count": 46,
     "metadata": {},
     "output_type": "execute_result"
    }
   ],
   "source": [
    "dict(sape=4139, guido=4127, jack=4098)"
   ]
  },
  {
   "cell_type": "markdown",
   "id": "latter-stationery",
   "metadata": {},
   "source": [
    "## - Looping Skills"
   ]
  },
  {
   "cell_type": "code",
   "execution_count": 66,
   "id": "cheap-socket",
   "metadata": {},
   "outputs": [
    {
     "data": {
      "text/plain": [
       "[('name', 'lancelot'), ('quest', 'the holy grail'), ('favorite color', 'blue')]"
      ]
     },
     "execution_count": 66,
     "metadata": {},
     "output_type": "execute_result"
    }
   ],
   "source": [
    "questions = ['name', 'quest', 'favorite color']\n",
    "answers = ['lancelot', 'the holy grail', 'blue']\n",
    "\n",
    "result = []\n",
    "\n",
    "for i in range(3):\n",
    "    result.append((questions[i], answers[i]))\n",
    "\n",
    "result"
   ]
  },
  {
   "cell_type": "code",
   "execution_count": 67,
   "id": "boxed-police",
   "metadata": {},
   "outputs": [
    {
     "name": "stdout",
     "output_type": "stream",
     "text": [
      "What is your name? It is lancelot.\n",
      "What is your quest? It is the holy grail.\n",
      "What is your favorite color? It is blue.\n"
     ]
    }
   ],
   "source": [
    "for q, a in [(questions[i], answers[i]) for i in range(3)]:\n",
    "    print('What is your {0}? It is {1}.'.format(q, a))"
   ]
  },
  {
   "cell_type": "code",
   "execution_count": 68,
   "id": "guided-stylus",
   "metadata": {},
   "outputs": [
    {
     "name": "stdout",
     "output_type": "stream",
     "text": [
      "What is your name? It is lancelot.\n",
      "What is your quest? It is the holy grail.\n",
      "What is your favorite color? It is blue.\n"
     ]
    }
   ],
   "source": [
    "for q, a in zip(questions, answers):\n",
    "    print('What is your {0}? It is {1}.'.format(q, a))"
   ]
  },
  {
   "cell_type": "code",
   "execution_count": 69,
   "id": "biblical-wings",
   "metadata": {},
   "outputs": [],
   "source": [
    "mem = dict(\n",
    "    name=\"John\",\n",
    "    age=20,\n",
    "    phone=\"010-1234-5678\"\n",
    ")"
   ]
  },
  {
   "cell_type": "code",
   "execution_count": 70,
   "id": "cloudy-primary",
   "metadata": {},
   "outputs": [
    {
     "name": "stdout",
     "output_type": "stream",
     "text": [
      "name John\n",
      "age 20\n",
      "phone 010-1234-5678\n"
     ]
    }
   ],
   "source": [
    "for k, v in mem.items():\n",
    "    print(k, v)"
   ]
  },
  {
   "cell_type": "code",
   "execution_count": 71,
   "id": "suspected-controversy",
   "metadata": {},
   "outputs": [
    {
     "name": "stdout",
     "output_type": "stream",
     "text": [
      "0 name\n",
      "1 age\n",
      "2 phone\n"
     ]
    }
   ],
   "source": [
    "for i, v in enumerate(mem):\n",
    "    print(i, v)"
   ]
  },
  {
   "cell_type": "code",
   "execution_count": 72,
   "id": "expired-assistant",
   "metadata": {},
   "outputs": [
    {
     "data": {
      "text/plain": [
       "[56.2, 51.7, 55.3, 52.5, 47.8]"
      ]
     },
     "execution_count": 72,
     "metadata": {},
     "output_type": "execute_result"
    }
   ],
   "source": [
    "import math\n",
    "raw_data = [56.2, float('NaN'), 51.7, 55.3, 52.5, float('NaN'), 47.8]\n",
    "filtered_data = [value for value in raw_data if not math.isnan(value)]\n",
    "filtered_data"
   ]
  },
  {
   "cell_type": "markdown",
   "id": "reflected-uniform",
   "metadata": {},
   "source": [
    "### * 정렬"
   ]
  },
  {
   "cell_type": "code",
   "execution_count": 73,
   "id": "comfortable-adams",
   "metadata": {},
   "outputs": [
    {
     "name": "stdout",
     "output_type": "stream",
     "text": [
      "apple\n",
      "apple\n",
      "banana\n",
      "orange\n",
      "orange\n",
      "pear\n"
     ]
    }
   ],
   "source": [
    "basket = ['apple', 'orange', 'apple', 'pear', 'orange', 'banana']\n",
    "\n",
    "for i in sorted(basket):\n",
    "    print(i)"
   ]
  },
  {
   "cell_type": "code",
   "execution_count": 74,
   "id": "super-little",
   "metadata": {},
   "outputs": [
    {
     "name": "stdout",
     "output_type": "stream",
     "text": [
      "apple\n",
      "banana\n",
      "orange\n",
      "pear\n"
     ]
    }
   ],
   "source": [
    "for i in sorted(set(basket)):\n",
    "    print(i)"
   ]
  },
  {
   "cell_type": "code",
   "execution_count": 75,
   "id": "undefined-valley",
   "metadata": {},
   "outputs": [
    {
     "name": "stdout",
     "output_type": "stream",
     "text": [
      "9\n",
      "7\n",
      "5\n",
      "3\n",
      "1\n"
     ]
    }
   ],
   "source": [
    "for i in reversed(range(1, 10, 2)):\n",
    "    print(i)"
   ]
  },
  {
   "cell_type": "markdown",
   "id": "harmful-nicholas",
   "metadata": {},
   "source": [
    "<br>\n",
    "<br>\n",
    "<br>\n",
    "<br>\n",
    "<br>\n",
    "<br>\n",
    "<hr>\n",
    "<br>\n",
    "<br>\n",
    "<br>\n",
    "<br>\n",
    "<br>\n",
    "<br>"
   ]
  },
  {
   "cell_type": "markdown",
   "id": "silent-halloween",
   "metadata": {},
   "source": [
    "# 08. 함수활용"
   ]
  },
  {
   "cell_type": "markdown",
   "id": "regulated-landscape",
   "metadata": {},
   "source": [
    "## - Scope"
   ]
  },
  {
   "cell_type": "code",
   "execution_count": 92,
   "id": "alone-membrane",
   "metadata": {},
   "outputs": [
    {
     "name": "stdout",
     "output_type": "stream",
     "text": [
      "5\n"
     ]
    }
   ],
   "source": [
    "i = 5\n",
    "\n",
    "def f(arg=i):\n",
    "    print(arg)\n",
    "    \n",
    "i = 6\n",
    "f()"
   ]
  },
  {
   "cell_type": "markdown",
   "id": "infinite-expert",
   "metadata": {},
   "source": [
    "## - Default Value"
   ]
  },
  {
   "cell_type": "code",
   "execution_count": 31,
   "id": "determined-reflection",
   "metadata": {},
   "outputs": [],
   "source": [
    "def ask_ok(prompt, retries=2, reminder=\"Please try again!\"):\n",
    "    while True:\n",
    "        ok = input(prompt)\n",
    "        if ok in ('y','ye','yes'):\n",
    "            return True\n",
    "        if ok in ('n','no','nop','nope'):\n",
    "            return False\n",
    "        retries = retries - 1\n",
    "        if retries < 0:\n",
    "            raise ValueError('invalid user response')\n",
    "        print(reminder)"
   ]
  },
  {
   "cell_type": "code",
   "execution_count": 33,
   "id": "superb-westminster",
   "metadata": {},
   "outputs": [
    {
     "name": "stdin",
     "output_type": "stream",
     "text": [
      "are you sure? \n"
     ]
    },
    {
     "name": "stdout",
     "output_type": "stream",
     "text": [
      "다시 시도해주세요\n"
     ]
    },
    {
     "name": "stdin",
     "output_type": "stream",
     "text": [
      "are you sure? \n"
     ]
    },
    {
     "name": "stdout",
     "output_type": "stream",
     "text": [
      "다시 시도해주세요\n"
     ]
    },
    {
     "name": "stdin",
     "output_type": "stream",
     "text": [
      "are you sure? \n"
     ]
    },
    {
     "ename": "ValueError",
     "evalue": "invalid user response",
     "output_type": "error",
     "traceback": [
      "\u001b[1;31m---------------------------------------------------------------------------\u001b[0m",
      "\u001b[1;31mValueError\u001b[0m                                Traceback (most recent call last)",
      "\u001b[1;32m<ipython-input-33-2fe995d85976>\u001b[0m in \u001b[0;36m<module>\u001b[1;34m\u001b[0m\n\u001b[1;32m----> 1\u001b[1;33m \u001b[0mask_ok\u001b[0m\u001b[1;33m(\u001b[0m\u001b[1;34m'are you sure?'\u001b[0m\u001b[1;33m,\u001b[0m \u001b[0mreminder\u001b[0m\u001b[1;33m=\u001b[0m\u001b[1;34m\"다시 시도해주세요\"\u001b[0m\u001b[1;33m)\u001b[0m\u001b[1;33m\u001b[0m\u001b[1;33m\u001b[0m\u001b[0m\n\u001b[0m\u001b[0;32m      2\u001b[0m \u001b[0mprint\u001b[0m\u001b[1;33m(\u001b[0m\u001b[1;34m\"---end---\"\u001b[0m\u001b[1;33m)\u001b[0m \u001b[1;31m# raise로부터 Exception이 발생함으로 no print\u001b[0m\u001b[1;33m\u001b[0m\u001b[1;33m\u001b[0m\u001b[0m\n",
      "\u001b[1;32m<ipython-input-31-4be08c523450>\u001b[0m in \u001b[0;36mask_ok\u001b[1;34m(prompt, retries, reminder)\u001b[0m\n\u001b[0;32m      8\u001b[0m         \u001b[0mretries\u001b[0m \u001b[1;33m=\u001b[0m \u001b[0mretries\u001b[0m \u001b[1;33m-\u001b[0m \u001b[1;36m1\u001b[0m\u001b[1;33m\u001b[0m\u001b[1;33m\u001b[0m\u001b[0m\n\u001b[0;32m      9\u001b[0m         \u001b[1;32mif\u001b[0m \u001b[0mretries\u001b[0m \u001b[1;33m<\u001b[0m \u001b[1;36m0\u001b[0m\u001b[1;33m:\u001b[0m\u001b[1;33m\u001b[0m\u001b[1;33m\u001b[0m\u001b[0m\n\u001b[1;32m---> 10\u001b[1;33m             \u001b[1;32mraise\u001b[0m \u001b[0mValueError\u001b[0m\u001b[1;33m(\u001b[0m\u001b[1;34m'invalid user response'\u001b[0m\u001b[1;33m)\u001b[0m\u001b[1;33m\u001b[0m\u001b[1;33m\u001b[0m\u001b[0m\n\u001b[0m\u001b[0;32m     11\u001b[0m         \u001b[0mprint\u001b[0m\u001b[1;33m(\u001b[0m\u001b[0mreminder\u001b[0m\u001b[1;33m)\u001b[0m\u001b[1;33m\u001b[0m\u001b[1;33m\u001b[0m\u001b[0m\n",
      "\u001b[1;31mValueError\u001b[0m: invalid user response"
     ]
    }
   ],
   "source": [
    "ask_ok('are you sure?', reminder=\"다시 시도해주세요\")\n",
    "print(\"---end---\") # raise로부터 Exception이 발생함으로 no print"
   ]
  },
  {
   "cell_type": "markdown",
   "id": "useful-magic",
   "metadata": {},
   "source": [
    "### * 기본값 활용시 주의해야할 점"
   ]
  },
  {
   "cell_type": "code",
   "execution_count": 102,
   "id": "governmental-excitement",
   "metadata": {},
   "outputs": [
    {
     "name": "stdout",
     "output_type": "stream",
     "text": [
      "[1]\n",
      "[1, 2]\n",
      "[1, 2, 3]\n"
     ]
    }
   ],
   "source": [
    "def f(a, L=[]):\n",
    "    L.append(a)\n",
    "    return L\n",
    "\n",
    "print(f(1))\n",
    "print(f(2))\n",
    "print(f(3))"
   ]
  },
  {
   "cell_type": "code",
   "execution_count": 103,
   "id": "unexpected-tractor",
   "metadata": {},
   "outputs": [
    {
     "name": "stdout",
     "output_type": "stream",
     "text": [
      "[]\n",
      "-----\n",
      "[1, 2, 3, 4]\n"
     ]
    }
   ],
   "source": [
    "def another(L=[]):\n",
    "    return L\n",
    "\n",
    "print(another())\n",
    "print(\"-----\")\n",
    "print(f(4))"
   ]
  },
  {
   "cell_type": "markdown",
   "id": "presidential-royal",
   "metadata": {},
   "source": [
    " - 연속된 호출 간에 기본값이 공유되지 않기를 원한다면 아래와 같이"
   ]
  },
  {
   "cell_type": "code",
   "execution_count": 107,
   "id": "failing-holocaust",
   "metadata": {},
   "outputs": [
    {
     "name": "stdout",
     "output_type": "stream",
     "text": [
      "[1]\n",
      "[2]\n",
      "[3]\n"
     ]
    }
   ],
   "source": [
    "def f(a, L=None):\n",
    "    if L is None:\n",
    "        L = []\n",
    "    L.append(a)\n",
    "    return L\n",
    "\n",
    "print(f(1))\n",
    "print(f(2))\n",
    "print(f(3))"
   ]
  },
  {
   "cell_type": "markdown",
   "id": "resistant-freedom",
   "metadata": {},
   "source": [
    "### * `*arg`와 `**arg`"
   ]
  },
  {
   "cell_type": "markdown",
   "id": "structured-owner",
   "metadata": {},
   "source": [
    " - `*arg`는 매개변수를 제한 없이 여러개를 받을 수 있음 : 튜플\n",
    " - `**arg`는 딕셔너리를 매개변수로 받음\n",
    " - `*arg`는 `**arg` 앞으로 와야 한다"
   ]
  },
  {
   "cell_type": "code",
   "execution_count": 37,
   "id": "blank-interface",
   "metadata": {},
   "outputs": [],
   "source": [
    "def showArgs(a, *b, **c):\n",
    "    print(a)\n",
    "    print(\"-\"*10)\n",
    "    print(b)\n",
    "    print(\"-\"*10)\n",
    "    print(c)"
   ]
  },
  {
   "cell_type": "code",
   "execution_count": 38,
   "id": "fiscal-denmark",
   "metadata": {},
   "outputs": [],
   "source": [
    "tupVar = (1,10,100,1000)\n",
    "\n",
    "dicVar = {\n",
    "    'key A' : 1515,\n",
    "    'key B' : 5832\n",
    "}"
   ]
  },
  {
   "cell_type": "code",
   "execution_count": 39,
   "id": "overall-project",
   "metadata": {},
   "outputs": [
    {
     "name": "stdout",
     "output_type": "stream",
     "text": [
      "안녕하세요\n",
      "----------\n",
      "(10, 100, 1000)\n",
      "----------\n",
      "{'A': 'mic', 'B': '394'}\n"
     ]
    }
   ],
   "source": [
    "showArgs(\"안녕하세요\" ,10,100,1000, A=\"mic\",B=\"394\")"
   ]
  },
  {
   "cell_type": "code",
   "execution_count": 40,
   "id": "military-legislature",
   "metadata": {},
   "outputs": [
    {
     "name": "stdout",
     "output_type": "stream",
     "text": [
      "이건 좀 다른 이야기\n",
      "----------\n",
      "((1, 10, 100, 1000), {'key A': 1515, 'key B': 5832})\n",
      "----------\n",
      "{}\n"
     ]
    }
   ],
   "source": [
    "showArgs(\"이건 좀 다른 이야기\", tupVar, dicVar)"
   ]
  },
  {
   "cell_type": "code",
   "execution_count": 41,
   "id": "complete-holmes",
   "metadata": {},
   "outputs": [
    {
     "name": "stdout",
     "output_type": "stream",
     "text": [
      "이렇게 넘겨주면 된다\n",
      "----------\n",
      "(1, 10, 100, 1000)\n",
      "----------\n",
      "{'key A': 1515, 'key B': 5832}\n"
     ]
    }
   ],
   "source": [
    "showArgs(\"이렇게 넘겨주면 된다\", *tupVar, **dicVar)"
   ]
  },
  {
   "cell_type": "markdown",
   "id": "minor-indiana",
   "metadata": {},
   "source": [
    "### * 특수 매개 변수"
   ]
  },
  {
   "cell_type": "code",
   "execution_count": 160,
   "id": "surface-configuration",
   "metadata": {},
   "outputs": [],
   "source": [
    "def standard_arg(arg):\n",
    "    print(\"standard arg : \", arg)\n",
    "\n",
    "def pos_only_arg(arg, /):\n",
    "    print(\"pos only arg : \", arg)\n",
    "    \n",
    "def kwd_only_arg(*, arg):\n",
    "    print(\"kwd only arg: \", arg)\n",
    "\n",
    "def combined_example(pos_only, /, standard, *, kwd_only):\n",
    "    print(pos_only, standard, kwd_only)"
   ]
  },
  {
   "cell_type": "code",
   "execution_count": 161,
   "id": "stainless-democracy",
   "metadata": {},
   "outputs": [
    {
     "name": "stdout",
     "output_type": "stream",
     "text": [
      "standard arg :  10\n",
      "standard arg :  20\n"
     ]
    }
   ],
   "source": [
    "standard_arg(10)\n",
    "standard_arg(arg=20)"
   ]
  },
  {
   "cell_type": "code",
   "execution_count": 163,
   "id": "structural-chassis",
   "metadata": {},
   "outputs": [
    {
     "name": "stdout",
     "output_type": "stream",
     "text": [
      "pos only arg :  30\n"
     ]
    },
    {
     "ename": "TypeError",
     "evalue": "pos_only_arg() got some positional-only arguments passed as keyword arguments: 'arg'",
     "output_type": "error",
     "traceback": [
      "\u001b[1;31m---------------------------------------------------------------------------\u001b[0m",
      "\u001b[1;31mTypeError\u001b[0m                                 Traceback (most recent call last)",
      "\u001b[1;32m<ipython-input-163-59d6613af994>\u001b[0m in \u001b[0;36m<module>\u001b[1;34m\u001b[0m\n\u001b[0;32m      1\u001b[0m \u001b[0mpos_only_arg\u001b[0m\u001b[1;33m(\u001b[0m\u001b[1;36m30\u001b[0m\u001b[1;33m)\u001b[0m\u001b[1;33m\u001b[0m\u001b[1;33m\u001b[0m\u001b[0m\n\u001b[1;32m----> 2\u001b[1;33m \u001b[0mpos_only_arg\u001b[0m\u001b[1;33m(\u001b[0m\u001b[0marg\u001b[0m\u001b[1;33m=\u001b[0m\u001b[1;36m40\u001b[0m\u001b[1;33m)\u001b[0m\u001b[1;33m\u001b[0m\u001b[1;33m\u001b[0m\u001b[0m\n\u001b[0m",
      "\u001b[1;31mTypeError\u001b[0m: pos_only_arg() got some positional-only arguments passed as keyword arguments: 'arg'"
     ]
    }
   ],
   "source": [
    "pos_only_arg(30)\n",
    "pos_only_arg(arg=40)"
   ]
  },
  {
   "cell_type": "code",
   "execution_count": 171,
   "id": "proved-tsunami",
   "metadata": {},
   "outputs": [
    {
     "name": "stdout",
     "output_type": "stream",
     "text": [
      "kwd only arg:  50\n"
     ]
    },
    {
     "ename": "TypeError",
     "evalue": "kwd_only_arg() takes 0 positional arguments but 1 was given",
     "output_type": "error",
     "traceback": [
      "\u001b[1;31m---------------------------------------------------------------------------\u001b[0m",
      "\u001b[1;31mTypeError\u001b[0m                                 Traceback (most recent call last)",
      "\u001b[1;32m<ipython-input-171-94039e5aaaf2>\u001b[0m in \u001b[0;36m<module>\u001b[1;34m\u001b[0m\n\u001b[0;32m      1\u001b[0m \u001b[0mkwd_only_arg\u001b[0m\u001b[1;33m(\u001b[0m\u001b[0marg\u001b[0m\u001b[1;33m=\u001b[0m\u001b[1;36m50\u001b[0m\u001b[1;33m)\u001b[0m\u001b[1;33m\u001b[0m\u001b[1;33m\u001b[0m\u001b[0m\n\u001b[1;32m----> 2\u001b[1;33m \u001b[0mkwd_only_arg\u001b[0m\u001b[1;33m(\u001b[0m\u001b[1;36m60\u001b[0m\u001b[1;33m)\u001b[0m\u001b[1;33m\u001b[0m\u001b[1;33m\u001b[0m\u001b[0m\n\u001b[0m",
      "\u001b[1;31mTypeError\u001b[0m: kwd_only_arg() takes 0 positional arguments but 1 was given"
     ]
    }
   ],
   "source": [
    "kwd_only_arg(arg=50)\n",
    "kwd_only_arg(60)"
   ]
  },
  {
   "cell_type": "code",
   "execution_count": 172,
   "id": "continent-luxury",
   "metadata": {},
   "outputs": [
    {
     "name": "stdout",
     "output_type": "stream",
     "text": [
      "1 2 3\n"
     ]
    }
   ],
   "source": [
    "combined_example(1, 2, kwd_only=3)"
   ]
  },
  {
   "cell_type": "code",
   "execution_count": 176,
   "id": "wanted-melissa",
   "metadata": {},
   "outputs": [
    {
     "name": "stdout",
     "output_type": "stream",
     "text": [
      "True\n",
      "False\n"
     ]
    }
   ],
   "source": [
    "member={\n",
    "    'name':'James',\n",
    "    'age':10,\n",
    "    'phone':'010-5441-4992'\n",
    "}\n",
    "\n",
    "print('name' in member)\n",
    "print('password' in member)"
   ]
  },
  {
   "cell_type": "code",
   "execution_count": 177,
   "id": "divine-pierce",
   "metadata": {},
   "outputs": [],
   "source": [
    "def foo(key, **kwds):\n",
    "    return key in kwds"
   ]
  },
  {
   "cell_type": "code",
   "execution_count": 178,
   "id": "powerful-valentine",
   "metadata": {},
   "outputs": [
    {
     "data": {
      "text/plain": [
       "True"
      ]
     },
     "execution_count": 178,
     "metadata": {},
     "output_type": "execute_result"
    }
   ],
   "source": [
    "foo('name', **member)"
   ]
  },
  {
   "cell_type": "markdown",
   "id": "least-stevens",
   "metadata": {},
   "source": [
    " - 주의! 딕셔너리의 키와 함수 매개변수의 충돌"
   ]
  },
  {
   "cell_type": "code",
   "execution_count": 180,
   "id": "naughty-wheel",
   "metadata": {},
   "outputs": [],
   "source": [
    "def foo(name, **kwds):\n",
    "    return name in kwds"
   ]
  },
  {
   "cell_type": "code",
   "execution_count": 181,
   "id": "applicable-vector",
   "metadata": {},
   "outputs": [
    {
     "ename": "TypeError",
     "evalue": "foo() got multiple values for argument 'name'",
     "output_type": "error",
     "traceback": [
      "\u001b[1;31m---------------------------------------------------------------------------\u001b[0m",
      "\u001b[1;31mTypeError\u001b[0m                                 Traceback (most recent call last)",
      "\u001b[1;32m<ipython-input-181-2293fe3678a1>\u001b[0m in \u001b[0;36m<module>\u001b[1;34m\u001b[0m\n\u001b[1;32m----> 1\u001b[1;33m \u001b[0mfoo\u001b[0m\u001b[1;33m(\u001b[0m\u001b[1;34m'name'\u001b[0m\u001b[1;33m,\u001b[0m \u001b[1;33m**\u001b[0m\u001b[0mmember\u001b[0m\u001b[1;33m)\u001b[0m\u001b[1;33m\u001b[0m\u001b[1;33m\u001b[0m\u001b[0m\n\u001b[0m",
      "\u001b[1;31mTypeError\u001b[0m: foo() got multiple values for argument 'name'"
     ]
    }
   ],
   "source": [
    "foo('name', **member)"
   ]
  },
  {
   "cell_type": "markdown",
   "id": "dominant-survivor",
   "metadata": {},
   "source": [
    " - 그러므로 딕셔너리의 키이름과의 충돌을 피하기위해 특수 매개 변수를 사용할 필요가 있다."
   ]
  },
  {
   "cell_type": "code",
   "execution_count": 183,
   "id": "minute-motivation",
   "metadata": {},
   "outputs": [],
   "source": [
    "def foo(name, /, **kwds):\n",
    "    return name in kwds"
   ]
  },
  {
   "cell_type": "code",
   "execution_count": 186,
   "id": "paperback-budapest",
   "metadata": {},
   "outputs": [
    {
     "data": {
      "text/plain": [
       "True"
      ]
     },
     "execution_count": 186,
     "metadata": {},
     "output_type": "execute_result"
    }
   ],
   "source": [
    "foo('name',**member)"
   ]
  },
  {
   "cell_type": "markdown",
   "id": "legal-security",
   "metadata": {},
   "source": [
    " - `/` : 위치 전용 인자\n",
    " - `*` : 키워드 전용 인자"
   ]
  },
  {
   "cell_type": "code",
   "execution_count": 191,
   "id": "dominican-layout",
   "metadata": {},
   "outputs": [
    {
     "data": {
      "text/plain": [
       "[3, 4, 5]"
      ]
     },
     "execution_count": 191,
     "metadata": {},
     "output_type": "execute_result"
    }
   ],
   "source": [
    "args = [3, 6]\n",
    "list(range(*args))"
   ]
  },
  {
   "cell_type": "markdown",
   "id": "incorrect-thread",
   "metadata": {},
   "source": [
    "## - Documentation"
   ]
  },
  {
   "cell_type": "code",
   "execution_count": 76,
   "id": "dying-looking",
   "metadata": {},
   "outputs": [
    {
     "name": "stdout",
     "output_type": "stream",
     "text": [
      "    이 my_function 함수는 어떻게 Documentation을 하는지\n",
      "    알리기 위해서 사용되어졌습니다.\n",
      "    \n",
      "    오예~\n",
      "    \n"
     ]
    }
   ],
   "source": [
    "def my_function():\n",
    "    \"\"\"\\\n",
    "    이 my_function 함수는 어떻게 Documentation을 하는지\n",
    "    알리기 위해서 사용되어졌습니다.\n",
    "    \n",
    "    오예~\n",
    "    \"\"\"\n",
    "    pass\n",
    "\n",
    "print(my_function.__doc__)"
   ]
  },
  {
   "cell_type": "markdown",
   "id": "favorite-wesley",
   "metadata": {},
   "source": [
    "## - Annotation\n",
    " - 어노테이션은 메타데이터 정보\n",
    " - `__annotation__`에 dict로 저장됨\n",
    " - 매개변수 뒤 `:`으로 정의됨\n",
    " - Java와 달리 Python에서의 어노테이션은 사용자에게 인자값의 형태와 반환값을 알려주는 것"
   ]
  },
  {
   "cell_type": "code",
   "execution_count": 82,
   "id": "passive-customs",
   "metadata": {},
   "outputs": [
    {
     "data": {
      "text/plain": [
       "{'score': int}"
      ]
     },
     "execution_count": 82,
     "metadata": {},
     "output_type": "execute_result"
    }
   ],
   "source": [
    "score: int = 91\n",
    "__annotations__"
   ]
  },
  {
   "cell_type": "code",
   "execution_count": 84,
   "id": "color-fairy",
   "metadata": {},
   "outputs": [
    {
     "name": "stdout",
     "output_type": "stream",
     "text": [
      "Annotations: {'ham': <class 'str'>, 'eggs': <class 'str'>, 'return': '0이 리턴됩니다'}\n",
      "Arguments: spam eggs\n"
     ]
    },
    {
     "data": {
      "text/plain": [
       "0"
      ]
     },
     "execution_count": 84,
     "metadata": {},
     "output_type": "execute_result"
    }
   ],
   "source": [
    "def f(ham: str, eggs: str = 'eggs') -> \"0이 리턴됩니다\":\n",
    "    print(\"Annotations:\", f.__annotations__)\n",
    "    print(\"Arguments:\", ham, eggs)\n",
    "    return 0\n",
    "f('spam')"
   ]
  },
  {
   "cell_type": "markdown",
   "id": "cordless-algeria",
   "metadata": {},
   "source": [
    "## - `map`, `filter`, `reduce`"
   ]
  },
  {
   "cell_type": "code",
   "execution_count": 9,
   "id": "distinguished-speaking",
   "metadata": {},
   "outputs": [
    {
     "name": "stdout",
     "output_type": "stream",
     "text": [
      "after mapping :  [11, 12, 13, 14, 15, 16, 17, 18, 19, 20]\n",
      "after filtering :  [12, 14, 16, 18, 20]\n"
     ]
    },
    {
     "ename": "NameError",
     "evalue": "name 'printf' is not defined",
     "output_type": "error",
     "traceback": [
      "\u001b[1;31m---------------------------------------------------------------------------\u001b[0m",
      "\u001b[1;31mNameError\u001b[0m                                 Traceback (most recent call last)",
      "\u001b[1;32m<ipython-input-9-8e5133d44a50>\u001b[0m in \u001b[0;36m<module>\u001b[1;34m\u001b[0m\n\u001b[0;32m     13\u001b[0m \u001b[1;33m\u001b[0m\u001b[0m\n\u001b[0;32m     14\u001b[0m \u001b[0mdatas\u001b[0m \u001b[1;33m=\u001b[0m \u001b[0mreduce\u001b[0m\u001b[1;33m(\u001b[0m\u001b[1;32mlambda\u001b[0m \u001b[0mx\u001b[0m\u001b[1;33m,\u001b[0m \u001b[0my\u001b[0m \u001b[1;33m:\u001b[0m \u001b[0mx\u001b[0m \u001b[1;33m+\u001b[0m \u001b[0my\u001b[0m\u001b[1;33m,\u001b[0m \u001b[0mdatas\u001b[0m\u001b[1;33m)\u001b[0m\u001b[1;33m\u001b[0m\u001b[1;33m\u001b[0m\u001b[0m\n\u001b[1;32m---> 15\u001b[1;33m \u001b[0mprintf\u001b[0m\u001b[1;33m(\u001b[0m\u001b[1;34m\"after reducing : \"\u001b[0m\u001b[1;33m,\u001b[0m \u001b[0mdatas\u001b[0m\u001b[1;33m)\u001b[0m\u001b[1;33m\u001b[0m\u001b[1;33m\u001b[0m\u001b[0m\n\u001b[0m",
      "\u001b[1;31mNameError\u001b[0m: name 'printf' is not defined"
     ]
    }
   ],
   "source": [
    "from functools import reduce\n",
    "\n",
    "datas = [1, 2, 3, 4, 5, 6, 7, 8, 9, 10]\n",
    "\n",
    "def mappingFunc(x):\n",
    "    return x + 10\n",
    "\n",
    "datas = list(map(mappingFunc, datas))\n",
    "print(\"after mapping : \", datas)\n",
    "\n",
    "datas = list(filter(lambda x : x % 2 == 0, datas))\n",
    "print(\"after filtering : \", datas)\n",
    "\n",
    "datas = reduce(lambda x, y : x + y, datas)\n",
    "printf(\"after reducing : \", datas)"
   ]
  },
  {
   "cell_type": "markdown",
   "id": "lasting-router",
   "metadata": {},
   "source": [
    "<br>\n",
    "<br>\n",
    "<br>\n",
    "<br>\n",
    "<br>\n",
    "<br>\n",
    "<hr>\n",
    "<br>\n",
    "<br>\n",
    "<br>\n",
    "<br>\n",
    "<br>\n",
    "<br>"
   ]
  },
  {
   "cell_type": "markdown",
   "id": "immediate-antique",
   "metadata": {},
   "source": [
    "# 09. 모듈과 패키지"
   ]
  },
  {
   "cell_type": "markdown",
   "id": "indian-hardware",
   "metadata": {},
   "source": [
    "## - 모듈"
   ]
  },
  {
   "cell_type": "code",
   "execution_count": 57,
   "id": "vocal-provider",
   "metadata": {},
   "outputs": [
    {
     "name": "stdout",
     "output_type": "stream",
     "text": [
      "0 1 1 2 3 5 8 13 21 34 55 89 144 233 377 610 987 \n"
     ]
    }
   ],
   "source": [
    "import fibo\n",
    "\n",
    "fibo.fib(1000)"
   ]
  },
  {
   "cell_type": "code",
   "execution_count": 58,
   "id": "freelance-parish",
   "metadata": {},
   "outputs": [
    {
     "data": {
      "text/plain": [
       "[0, 1, 1, 2, 3, 5, 8, 13, 21, 34, 55, 89]"
      ]
     },
     "execution_count": 58,
     "metadata": {},
     "output_type": "execute_result"
    }
   ],
   "source": [
    "fibo.fib2(100)"
   ]
  },
  {
   "cell_type": "code",
   "execution_count": 59,
   "id": "multiple-darwin",
   "metadata": {},
   "outputs": [
    {
     "data": {
      "text/plain": [
       "'fibo'"
      ]
     },
     "execution_count": 59,
     "metadata": {},
     "output_type": "execute_result"
    }
   ],
   "source": [
    "fibo.__name__"
   ]
  },
  {
   "cell_type": "code",
   "execution_count": 60,
   "id": "mental-reward",
   "metadata": {},
   "outputs": [
    {
     "name": "stdout",
     "output_type": "stream",
     "text": [
      "0 1 1 2 3 5 8 13 21 34 55 89 144 233 377 \n"
     ]
    }
   ],
   "source": [
    "fib = fibo.fib\n",
    "fib(500)"
   ]
  },
  {
   "cell_type": "code",
   "execution_count": 61,
   "id": "seven-texas",
   "metadata": {},
   "outputs": [
    {
     "name": "stdout",
     "output_type": "stream",
     "text": [
      "0 1 1 2 3 5 8 13 21 34 55 89 144 233 377 \n"
     ]
    }
   ],
   "source": [
    "from fibo import fib, fib2\n",
    "fib(500)"
   ]
  },
  {
   "cell_type": "code",
   "execution_count": 62,
   "id": "soviet-extra",
   "metadata": {},
   "outputs": [
    {
     "name": "stdout",
     "output_type": "stream",
     "text": [
      "0 1 1 2 3 5 8 13 21 34 55 89 144 233 377 \n"
     ]
    }
   ],
   "source": [
    "from fibo import *\n",
    "fib(500)"
   ]
  },
  {
   "cell_type": "code",
   "execution_count": 63,
   "id": "rotary-bristol",
   "metadata": {},
   "outputs": [
    {
     "name": "stdout",
     "output_type": "stream",
     "text": [
      "0 1 1 2 3 5 8 13 21 34 55 89 144 233 377 \n"
     ]
    }
   ],
   "source": [
    "import fibo as fib\n",
    "fib.fib(500)"
   ]
  },
  {
   "cell_type": "code",
   "execution_count": 64,
   "id": "peaceful-holly",
   "metadata": {},
   "outputs": [
    {
     "name": "stdout",
     "output_type": "stream",
     "text": [
      "0 1 1 2 3 5 8 13 21 34 55 89 144 233 377 \n"
     ]
    }
   ],
   "source": [
    "from fibo import fib as fibonacci\n",
    "fibonacci(400)"
   ]
  },
  {
   "cell_type": "markdown",
   "id": "legendary-companion",
   "metadata": {},
   "source": [
    " - 효율성의 이유로, 각 모듈은 인터프리터 세션마다 한 번만 임포트됩니다. 그래서, 여러분이 모듈을 수정하면, 인터프리터를 다시 시작시켜야 합니다 — 또는, 대화형으로 시험하는 모듈이 하나뿐이라면, `importlib.reload()` 를 사용하세요. 예를 들어, `import importlib; importlib.reload(modulename)`."
   ]
  },
  {
   "cell_type": "code",
   "execution_count": 65,
   "id": "institutional-medicare",
   "metadata": {},
   "outputs": [
    {
     "data": {
      "text/plain": [
       "<module 'fibo' from 'C:\\\\Users\\\\quoti\\\\Desktop\\\\LocalRepo\\\\__PROGRAMMING__\\\\CodeCloud\\\\Playground.Python\\\\ref-main-doc\\\\03_tutorial\\\\fibo.py'>"
      ]
     },
     "execution_count": 65,
     "metadata": {},
     "output_type": "execute_result"
    }
   ],
   "source": [
    "import importlib\n",
    "importlib.reload(fibo)"
   ]
  },
  {
   "cell_type": "markdown",
   "id": "public-porter",
   "metadata": {},
   "source": [
    "```python\n",
    "python fibo.py <arguments>\n",
    "```\n",
    "모듈에 있는 코드는, 그것을 임포트할 때처럼 실행됩니다. 하지만 __name__ 은 \"__main__\" 로 설정됩니다. \n",
    "\n",
    "```python\n",
    "if __name__ == \"__main__\":\n",
    "    import sys\n",
    "    fib(int(sys.argv[1]))\n",
    "```\n",
    "파일을 임포트할 수 있는 모듈뿐만 아니라 스크립트로도 사용할 수 있도록 만들 수 있음을 의미하는데, 오직 모듈이 《메인》 파일로 실행될 때만 명령행을 파싱하는 코드가 실행되기 때문입니다:\n",
    "```python\n",
    "$ python fibo.py 50\n",
    "0 1 1 2 3 5 8 13 21 34\n",
    "```\n",
    "\n",
    "spam 이라는 이름의 모듈이 임포트될 때, 인터프리터는 먼저 그 이름의 내장 모듈을 찾습니다. 발견되지 않으면, 변수 sys.path 로 주어지는 디렉터리들에서 spam.py 라는 이름의 파일을 찾습니다. sys.path 는 이 위치들로 초기화됩니다:\n",
    "\n",
    " - 입력 스크립트를 포함하는 디렉터리 (또는 파일이 지정되지 않았을 때는 현재 디렉터리).\n",
    " - PYTHONPATH (디렉터리 이름들의 목록, 셸 변수 PATH 와 같은 문법).\n",
    " - 설치 의존적인 기본값\n",
    " \n",
    "#### 파이썬 컴파일\n",
    "\n",
    "모듈 로딩을 빠르게 하려고, 파이썬은 __pycache__ 디렉터리에 각 모듈의 컴파일된 버전을 module.version.pyc 라는 이름으로 캐싱합니다. version 은 컴파일된 파일의 형식을 지정합니다; 일반적으로 파이썬의 버전 번호를 포함합니다. 예를 들어, CPython 배포 3.3 에서 spam.py 의 컴파일된 버전은 __pycache__/spam.cpython-33.pyc 로 캐싱 됩니다. 이 명명법은 서로 다른 파이썬 배포와 버전의 컴파일된 모듈들이 공존할 수 있도록 합니다.\n",
    "\n",
    ".py 파일에서 읽을 때보다 .pyc 파일에서 읽을 때 프로그램이 더 빨리 실행되지는 않습니다; .pyc 파일에서 더 빨라지는 것은 로드되는 속도뿐입니다."
   ]
  },
  {
   "cell_type": "code",
   "execution_count": 66,
   "id": "empirical-dayton",
   "metadata": {},
   "outputs": [
    {
     "data": {
      "text/plain": [
       "['__builtins__',\n",
       " '__cached__',\n",
       " '__doc__',\n",
       " '__file__',\n",
       " '__loader__',\n",
       " '__name__',\n",
       " '__package__',\n",
       " '__spec__',\n",
       " 'fib',\n",
       " 'fib2']"
      ]
     },
     "execution_count": 66,
     "metadata": {},
     "output_type": "execute_result"
    }
   ],
   "source": [
    "import fibo\n",
    "dir(fibo) #인자가 없으면, dir() 는 현재 정의한 이름들을 나열합니다:"
   ]
  },
  {
   "cell_type": "markdown",
   "id": "distributed-haiti",
   "metadata": {},
   "source": [
    " - dir() 은 내장 함수와 변수들의 이름을 나열하지 않습니다. 그것들의 목록을 원한다면, 표준 모듈 builtins 에 정의되어 있습니다:"
   ]
  },
  {
   "cell_type": "code",
   "execution_count": 67,
   "id": "tutorial-ceramic",
   "metadata": {},
   "outputs": [
    {
     "data": {
      "text/plain": [
       "['ArithmeticError',\n",
       " 'AssertionError',\n",
       " 'AttributeError',\n",
       " 'BaseException',\n",
       " 'BlockingIOError',\n",
       " 'BrokenPipeError',\n",
       " 'BufferError',\n",
       " 'BytesWarning',\n",
       " 'ChildProcessError',\n",
       " 'ConnectionAbortedError',\n",
       " 'ConnectionError',\n",
       " 'ConnectionRefusedError',\n",
       " 'ConnectionResetError',\n",
       " 'DeprecationWarning',\n",
       " 'EOFError',\n",
       " 'Ellipsis',\n",
       " 'EnvironmentError',\n",
       " 'Exception',\n",
       " 'False',\n",
       " 'FileExistsError',\n",
       " 'FileNotFoundError',\n",
       " 'FloatingPointError',\n",
       " 'FutureWarning',\n",
       " 'GeneratorExit',\n",
       " 'IOError',\n",
       " 'ImportError',\n",
       " 'ImportWarning',\n",
       " 'IndentationError',\n",
       " 'IndexError',\n",
       " 'InterruptedError',\n",
       " 'IsADirectoryError',\n",
       " 'KeyError',\n",
       " 'KeyboardInterrupt',\n",
       " 'LookupError',\n",
       " 'MemoryError',\n",
       " 'ModuleNotFoundError',\n",
       " 'NameError',\n",
       " 'None',\n",
       " 'NotADirectoryError',\n",
       " 'NotImplemented',\n",
       " 'NotImplementedError',\n",
       " 'OSError',\n",
       " 'OverflowError',\n",
       " 'PendingDeprecationWarning',\n",
       " 'PermissionError',\n",
       " 'ProcessLookupError',\n",
       " 'RecursionError',\n",
       " 'ReferenceError',\n",
       " 'ResourceWarning',\n",
       " 'RuntimeError',\n",
       " 'RuntimeWarning',\n",
       " 'StopAsyncIteration',\n",
       " 'StopIteration',\n",
       " 'SyntaxError',\n",
       " 'SyntaxWarning',\n",
       " 'SystemError',\n",
       " 'SystemExit',\n",
       " 'TabError',\n",
       " 'TimeoutError',\n",
       " 'True',\n",
       " 'TypeError',\n",
       " 'UnboundLocalError',\n",
       " 'UnicodeDecodeError',\n",
       " 'UnicodeEncodeError',\n",
       " 'UnicodeError',\n",
       " 'UnicodeTranslateError',\n",
       " 'UnicodeWarning',\n",
       " 'UserWarning',\n",
       " 'ValueError',\n",
       " 'Warning',\n",
       " 'WindowsError',\n",
       " 'ZeroDivisionError',\n",
       " '__IPYTHON__',\n",
       " '__build_class__',\n",
       " '__debug__',\n",
       " '__doc__',\n",
       " '__import__',\n",
       " '__loader__',\n",
       " '__name__',\n",
       " '__package__',\n",
       " '__spec__',\n",
       " 'abs',\n",
       " 'all',\n",
       " 'any',\n",
       " 'ascii',\n",
       " 'bin',\n",
       " 'bool',\n",
       " 'breakpoint',\n",
       " 'bytearray',\n",
       " 'bytes',\n",
       " 'callable',\n",
       " 'chr',\n",
       " 'classmethod',\n",
       " 'compile',\n",
       " 'complex',\n",
       " 'copyright',\n",
       " 'credits',\n",
       " 'delattr',\n",
       " 'dict',\n",
       " 'dir',\n",
       " 'display',\n",
       " 'divmod',\n",
       " 'enumerate',\n",
       " 'eval',\n",
       " 'exec',\n",
       " 'filter',\n",
       " 'float',\n",
       " 'format',\n",
       " 'frozenset',\n",
       " 'get_ipython',\n",
       " 'getattr',\n",
       " 'globals',\n",
       " 'hasattr',\n",
       " 'hash',\n",
       " 'help',\n",
       " 'hex',\n",
       " 'id',\n",
       " 'input',\n",
       " 'int',\n",
       " 'isinstance',\n",
       " 'issubclass',\n",
       " 'iter',\n",
       " 'len',\n",
       " 'license',\n",
       " 'list',\n",
       " 'locals',\n",
       " 'map',\n",
       " 'max',\n",
       " 'memoryview',\n",
       " 'min',\n",
       " 'next',\n",
       " 'object',\n",
       " 'oct',\n",
       " 'open',\n",
       " 'ord',\n",
       " 'pow',\n",
       " 'print',\n",
       " 'property',\n",
       " 'range',\n",
       " 'repr',\n",
       " 'reversed',\n",
       " 'round',\n",
       " 'set',\n",
       " 'setattr',\n",
       " 'slice',\n",
       " 'sorted',\n",
       " 'staticmethod',\n",
       " 'str',\n",
       " 'sum',\n",
       " 'super',\n",
       " 'tuple',\n",
       " 'type',\n",
       " 'vars',\n",
       " 'zip']"
      ]
     },
     "execution_count": 67,
     "metadata": {},
     "output_type": "execute_result"
    }
   ],
   "source": [
    "import builtins\n",
    "dir(builtins)"
   ]
  },
  {
   "cell_type": "markdown",
   "id": "lonely-curtis",
   "metadata": {},
   "source": [
    "## - 패키지"
   ]
  },
  {
   "cell_type": "markdown",
   "id": "constitutional-fairy",
   "metadata": {},
   "source": [
    "`from package import item` 를 사용할 때, item은 패키지의 서브 모듈 (또는 서브 패키지)일 수도 있고 함수, 클래스, 변수 등 패키지에 정의된 다른 이름들일 수도 있음에 유의하세요. import 문은 먼저 item이 패키지에 정의되어 있는지 검사하고, 그렇지 않으면 모듈이라고 가정하고 로드를 시도합니다. 찾지 못한다면, ImportError 예외를 일으킵니다.\n",
    "\n",
    "이에 반하여, `import item.subitem.subsubitem` 와 같은 문법을 사용할 때, 마지막 것을 제외한 각 항목은 반드시 패키지여야 합니다; 마지막 항목은 모듈이나 패키지가 될 수 있지만, 앞의 항목에서 정의된 클래스, 함수, 변수 등이 될 수는 없습니다."
   ]
  },
  {
   "cell_type": "code",
   "execution_count": 82,
   "id": "fifteen-skirt",
   "metadata": {},
   "outputs": [],
   "source": [
    "from mypac import util_before_all"
   ]
  },
  {
   "cell_type": "code",
   "execution_count": 83,
   "id": "amended-uniform",
   "metadata": {},
   "outputs": [
    {
     "data": {
      "text/plain": [
       "['__builtins__',\n",
       " '__cached__',\n",
       " '__doc__',\n",
       " '__file__',\n",
       " '__loader__',\n",
       " '__name__',\n",
       " '__package__',\n",
       " '__path__',\n",
       " '__spec__']"
      ]
     },
     "execution_count": 83,
     "metadata": {},
     "output_type": "execute_result"
    }
   ],
   "source": [
    "dir(util_before_all)"
   ]
  },
  {
   "cell_type": "code",
   "execution_count": 84,
   "id": "foreign-permission",
   "metadata": {},
   "outputs": [
    {
     "ename": "AttributeError",
     "evalue": "module 'mypac.util_before_all' has no attribute 'calc'",
     "output_type": "error",
     "traceback": [
      "\u001b[1;31m---------------------------------------------------------------------------\u001b[0m",
      "\u001b[1;31mAttributeError\u001b[0m                            Traceback (most recent call last)",
      "\u001b[1;32m<ipython-input-84-4418125e290a>\u001b[0m in \u001b[0;36m<module>\u001b[1;34m\u001b[0m\n\u001b[1;32m----> 1\u001b[1;33m \u001b[0mutil_before_all\u001b[0m\u001b[1;33m.\u001b[0m\u001b[0mcalc\u001b[0m\u001b[1;33m.\u001b[0m\u001b[0madd\u001b[0m\u001b[1;33m(\u001b[0m\u001b[1;36m100\u001b[0m\u001b[1;33m,\u001b[0m \u001b[1;36m200\u001b[0m\u001b[1;33m)\u001b[0m\u001b[1;33m\u001b[0m\u001b[1;33m\u001b[0m\u001b[0m\n\u001b[0m",
      "\u001b[1;31mAttributeError\u001b[0m: module 'mypac.util_before_all' has no attribute 'calc'"
     ]
    }
   ],
   "source": [
    "util_before_all.calc.add(100, 200)"
   ]
  },
  {
   "cell_type": "code",
   "execution_count": 85,
   "id": "fatty-litigation",
   "metadata": {},
   "outputs": [],
   "source": [
    "from mypac import util"
   ]
  },
  {
   "cell_type": "code",
   "execution_count": 86,
   "id": "transsexual-lithuania",
   "metadata": {},
   "outputs": [
    {
     "data": {
      "text/plain": [
       "['__all__',\n",
       " '__builtins__',\n",
       " '__cached__',\n",
       " '__doc__',\n",
       " '__file__',\n",
       " '__loader__',\n",
       " '__name__',\n",
       " '__package__',\n",
       " '__path__',\n",
       " '__spec__',\n",
       " 'calc',\n",
       " 'of']"
      ]
     },
     "execution_count": 86,
     "metadata": {},
     "output_type": "execute_result"
    }
   ],
   "source": [
    "dir(util)"
   ]
  },
  {
   "cell_type": "code",
   "execution_count": 87,
   "id": "dynamic-utility",
   "metadata": {},
   "outputs": [
    {
     "data": {
      "text/plain": [
       "1000"
      ]
     },
     "execution_count": 87,
     "metadata": {},
     "output_type": "execute_result"
    }
   ],
   "source": [
    "util.calc.add(100,200,300,400)"
   ]
  },
  {
   "cell_type": "code",
   "execution_count": 88,
   "id": "looking-converter",
   "metadata": {},
   "outputs": [],
   "source": [
    "from mypac.util import *"
   ]
  },
  {
   "cell_type": "code",
   "execution_count": 89,
   "id": "smaller-pantyhose",
   "metadata": {},
   "outputs": [
    {
     "name": "stdout",
     "output_type": "stream",
     "text": [
      "True\n",
      "True\n"
     ]
    }
   ],
   "source": [
    "print('calc' in dir())\n",
    "print('of' in dir())"
   ]
  },
  {
   "cell_type": "code",
   "execution_count": 90,
   "id": "buried-companion",
   "metadata": {},
   "outputs": [
    {
     "data": {
      "text/plain": [
       "600"
      ]
     },
     "execution_count": 90,
     "metadata": {},
     "output_type": "execute_result"
    }
   ],
   "source": [
    "calc.add(100,200,300)"
   ]
  },
  {
   "cell_type": "code",
   "execution_count": 91,
   "id": "indoor-stevens",
   "metadata": {},
   "outputs": [
    {
     "data": {
      "text/plain": [
       "550"
      ]
     },
     "execution_count": 91,
     "metadata": {},
     "output_type": "execute_result"
    }
   ],
   "source": [
    "of.of(values(1,2,3,4,5,6,7,8,9,10),\n",
    "   mapping = lambda x : x * 10,\n",
    "   filtering = lambda x : x % 2 == 0,\n",
    "   reducing = lambda x, y : x + y)"
   ]
  },
  {
   "cell_type": "code",
   "execution_count": 92,
   "id": "automated-attraction",
   "metadata": {},
   "outputs": [
    {
     "data": {
      "text/plain": [
       "['__builtins__',\n",
       " '__cached__',\n",
       " '__doc__',\n",
       " '__file__',\n",
       " '__loader__',\n",
       " '__name__',\n",
       " '__package__',\n",
       " '__spec__',\n",
       " 'deque',\n",
       " 'of',\n",
       " 'reduce',\n",
       " 'values']"
      ]
     },
     "execution_count": 92,
     "metadata": {},
     "output_type": "execute_result"
    }
   ],
   "source": [
    "dir(of)"
   ]
  },
  {
   "cell_type": "code",
   "execution_count": 93,
   "id": "brazilian-question",
   "metadata": {
    "tags": []
   },
   "outputs": [
    {
     "data": {
      "text/plain": [
       "<module 'mypac.util.of' from 'C:\\\\Users\\\\quoti\\\\Desktop\\\\LocalRepo\\\\__PROGRAMMING__\\\\CodeCloud\\\\Playground.Python\\\\ref-main-doc\\\\03_tutorial\\\\mypac\\\\util\\\\of.py'>"
      ]
     },
     "execution_count": 93,
     "metadata": {},
     "output_type": "execute_result"
    }
   ],
   "source": [
    "import importlib\n",
    "importlib.reload(of)"
   ]
  },
  {
   "cell_type": "code",
   "execution_count": 94,
   "id": "national-surveillance",
   "metadata": {},
   "outputs": [
    {
     "data": {
      "text/plain": [
       "550"
      ]
     },
     "execution_count": 94,
     "metadata": {},
     "output_type": "execute_result"
    }
   ],
   "source": [
    "from mypac.util.of import *\n",
    "\n",
    "\n",
    "of(values(1,2,3,4,5,6,7,8,9,10),\n",
    "   mapping = lambda x : x * 10,\n",
    "   filtering = lambda x : x % 2 == 0,\n",
    "   reducing = lambda x, y : x + y)"
   ]
  },
  {
   "cell_type": "code",
   "execution_count": 95,
   "id": "thick-width",
   "metadata": {},
   "outputs": [
    {
     "name": "stdout",
     "output_type": "stream",
     "text": [
      "Parsing Target :  (1, 2, 3, 4, 5, 6, 7, 8, 9, 10)\n",
      "Parsing Steps :  deque([<function <lambda> at 0x000001F56A405E50>, <function <lambda> at 0x000001F56A405D30>, <function <lambda> at 0x000001F56A3F98B0>])\n",
      "Mapping Steps :  <function <lambda> at 0x000001F56A405E50>\n",
      "Mapping After:  [10, 20, 30, 40, 50, 60, 70, 80, 90, 100]\n",
      "Filtering Steps :  <function <lambda> at 0x000001F56A405D30>\n",
      "Filtering After:  <filter object at 0x000001F56A40E700>\n",
      "Reducing Steps :  <function <lambda> at 0x000001F56A3F98B0>\n",
      "Reducing After:  550\n",
      "Result :  550\n"
     ]
    },
    {
     "data": {
      "text/plain": [
       "550"
      ]
     },
     "execution_count": 95,
     "metadata": {},
     "output_type": "execute_result"
    }
   ],
   "source": [
    "verboseOf(values(1,2,3,4,5,6,7,8,9,10),\n",
    "   mapping = lambda x : x * 10,\n",
    "   filtering = lambda x : x % 2 == 0,\n",
    "   reducing = lambda x, y : x + y)"
   ]
  },
  {
   "cell_type": "markdown",
   "id": "congressional-essay",
   "metadata": {},
   "source": [
    "<br>\n",
    "<br>\n",
    "<br>\n",
    "<br>\n",
    "<br>\n",
    "<br>\n",
    "<hr>\n",
    "<br>\n",
    "<br>\n",
    "<br>\n",
    "<br>\n",
    "<br>\n",
    "<br>"
   ]
  },
  {
   "cell_type": "markdown",
   "id": "colonial-siemens",
   "metadata": {},
   "source": [
    "# 10. 문자열\n",
    "\n",
    "https://docs.python.org/ko/3/library/stdtypes.html#string-methods"
   ]
  },
  {
   "cell_type": "markdown",
   "id": "confidential-brief",
   "metadata": {},
   "source": [
    "### * Escape and Raw"
   ]
  },
  {
   "cell_type": "code",
   "execution_count": 6,
   "id": "minute-witness",
   "metadata": {},
   "outputs": [
    {
     "name": "stdout",
     "output_type": "stream",
     "text": [
      "I'am \"Iron Man\"\n"
     ]
    }
   ],
   "source": [
    "print(\"I'am \\\"Iron Man\\\"\") #Escape"
   ]
  },
  {
   "cell_type": "code",
   "execution_count": 7,
   "id": "recreational-sudan",
   "metadata": {},
   "outputs": [
    {
     "name": "stdout",
     "output_type": "stream",
     "text": [
      "c:\\Program Files\\Python39\n"
     ]
    }
   ],
   "source": [
    "print(r'c:\\Program Files\\Python39') #Raw"
   ]
  },
  {
   "cell_type": "markdown",
   "id": "rough-audio",
   "metadata": {},
   "source": [
    "### * 문자 합체와 반복"
   ]
  },
  {
   "cell_type": "code",
   "execution_count": 44,
   "id": "based-vegetation",
   "metadata": {},
   "outputs": [
    {
     "data": {
      "text/plain": [
       "'Python'"
      ]
     },
     "execution_count": 44,
     "metadata": {},
     "output_type": "execute_result"
    }
   ],
   "source": [
    "'Py'\"thon\""
   ]
  },
  {
   "cell_type": "code",
   "execution_count": 42,
   "id": "prompt-arrival",
   "metadata": {},
   "outputs": [
    {
     "data": {
      "text/plain": [
       "'Put several strings within parentheses to have them joined together.'"
      ]
     },
     "execution_count": 42,
     "metadata": {},
     "output_type": "execute_result"
    }
   ],
   "source": [
    "#  - 두 개 이상의 문자열 리터럴 (즉, 따옴표로 둘러싸인 것들) 가 연속해서 나타나면 자동으로 이어 붙여집니다.\n",
    "text = ('Put several strings within parentheses '\n",
    "        'to have them joined together.')\n",
    "text\n",
    "# 이것은 오직 두 개의 리터럴에만 적용될 뿐 변수나 표현식에는 해당하지 않습니다: prefix 'thon' -- Error\n",
    "# 변수들끼리 혹은 변수와 문자열 리터럴을 이어붙이려면 + 를 사용해야 합니다: prefix + 'thon'"
   ]
  },
  {
   "cell_type": "code",
   "execution_count": 43,
   "id": "powerful-excellence",
   "metadata": {},
   "outputs": [
    {
     "data": {
      "text/plain": [
       "'Hi Hi Hi Welcome'"
      ]
     },
     "execution_count": 43,
     "metadata": {},
     "output_type": "execute_result"
    }
   ],
   "source": [
    "3 * 'Hi ' + 'Welcome'"
   ]
  },
  {
   "cell_type": "markdown",
   "id": "forty-curtis",
   "metadata": {},
   "source": [
    "### 문자열 Literal 확장"
   ]
  },
  {
   "cell_type": "code",
   "execution_count": 5,
   "id": "little-complexity",
   "metadata": {},
   "outputs": [],
   "source": [
    "# 'word' or \"word\", escape = \\\n",
    "# 여러줄 \"\"\"글글글\"\"\" 또는 '''글글글'''"
   ]
  },
  {
   "cell_type": "code",
   "execution_count": 8,
   "id": "vanilla-episode",
   "metadata": {},
   "outputs": [
    {
     "name": "stdout",
     "output_type": "stream",
     "text": [
      "\n",
      "Usage: python\n",
      "    --version\n",
      "\n"
     ]
    }
   ],
   "source": [
    "print('''\n",
    "Usage: python\n",
    "    --version\n",
    "''') "
   ]
  },
  {
   "cell_type": "code",
   "execution_count": 45,
   "id": "centered-winter",
   "metadata": {},
   "outputs": [
    {
     "name": "stdout",
     "output_type": "stream",
     "text": [
      "Usage: python\n",
      "    --version\n",
      "\n"
     ]
    }
   ],
   "source": [
    "# 개행 없애기\n",
    "print(\"\"\"\\\n",
    "Usage: python\n",
    "    --version\n",
    "\"\"\") "
   ]
  },
  {
   "cell_type": "code",
   "execution_count": 9,
   "id": "minute-possible",
   "metadata": {},
   "outputs": [
    {
     "name": "stdout",
     "output_type": "stream",
     "text": [
      "P\n",
      "n\n"
     ]
    }
   ],
   "source": [
    "# 문자 인덱스\n",
    "word = 'Python'\n",
    "print(word[0])\n",
    "print(word[-1]) # 0과 -0은 같음. 그래서 맨 끝 숫자는 -1"
   ]
  },
  {
   "cell_type": "code",
   "execution_count": 10,
   "id": "configured-toddler",
   "metadata": {},
   "outputs": [
    {
     "name": "stdout",
     "output_type": "stream",
     "text": [
      "Python\n",
      "Py\n"
     ]
    }
   ],
   "source": [
    "print(word[:2] + word[2:])\n",
    "print(word[:2] )"
   ]
  },
  {
   "cell_type": "code",
   "execution_count": 11,
   "id": "charged-housing",
   "metadata": {},
   "outputs": [
    {
     "ename": "IndexError",
     "evalue": "string index out of range",
     "output_type": "error",
     "traceback": [
      "\u001b[1;31m---------------------------------------------------------------------------\u001b[0m",
      "\u001b[1;31mIndexError\u001b[0m                                Traceback (most recent call last)",
      "\u001b[1;32m<ipython-input-11-d7e1dec2886d>\u001b[0m in \u001b[0;36m<module>\u001b[1;34m\u001b[0m\n\u001b[1;32m----> 1\u001b[1;33m \u001b[0mword\u001b[0m\u001b[1;33m[\u001b[0m\u001b[1;36m100\u001b[0m\u001b[1;33m]\u001b[0m \u001b[1;31m# 문자 인덱스를 넘을 시 에러\u001b[0m\u001b[1;33m\u001b[0m\u001b[1;33m\u001b[0m\u001b[0m\n\u001b[0m",
      "\u001b[1;31mIndexError\u001b[0m: string index out of range"
     ]
    }
   ],
   "source": [
    "word[100] # 문자 인덱스를 넘을 시 에러"
   ]
  },
  {
   "cell_type": "code",
   "execution_count": 12,
   "id": "prostate-candle",
   "metadata": {},
   "outputs": [
    {
     "data": {
      "text/plain": [
       "'on'"
      ]
     },
     "execution_count": 12,
     "metadata": {},
     "output_type": "execute_result"
    }
   ],
   "source": [
    "# 하지만, 범위를 벗어나는 슬라이스 인덱스는 슬라이싱할 때 부드럽게 처리됨\n",
    "word[4:42]"
   ]
  },
  {
   "cell_type": "markdown",
   "id": "accepting-portland",
   "metadata": {},
   "source": [
    "파이썬 문자열은 변경할 수 없다 — 불변(immutable) 이라고 합니다. 그래서 문자열의 인덱스로 참조한 위치에 대입하려고 하면 에러를 일으킵니다:"
   ]
  },
  {
   "cell_type": "code",
   "execution_count": 13,
   "id": "wireless-cover",
   "metadata": {},
   "outputs": [
    {
     "ename": "TypeError",
     "evalue": "'str' object does not support item assignment",
     "output_type": "error",
     "traceback": [
      "\u001b[1;31m---------------------------------------------------------------------------\u001b[0m",
      "\u001b[1;31mTypeError\u001b[0m                                 Traceback (most recent call last)",
      "\u001b[1;32m<ipython-input-13-91a956888ca7>\u001b[0m in \u001b[0;36m<module>\u001b[1;34m\u001b[0m\n\u001b[1;32m----> 1\u001b[1;33m \u001b[0mword\u001b[0m\u001b[1;33m[\u001b[0m\u001b[1;36m0\u001b[0m\u001b[1;33m]\u001b[0m \u001b[1;33m=\u001b[0m \u001b[1;34m'J'\u001b[0m\u001b[1;33m\u001b[0m\u001b[1;33m\u001b[0m\u001b[0m\n\u001b[0m",
      "\u001b[1;31mTypeError\u001b[0m: 'str' object does not support item assignment"
     ]
    }
   ],
   "source": [
    "word[0] = 'J'"
   ]
  },
  {
   "cell_type": "markdown",
   "id": "ignored-eligibility",
   "metadata": {},
   "source": [
    "다른 문자열이 필요하면, 새로 만들어야 합니다:"
   ]
  },
  {
   "cell_type": "code",
   "execution_count": 14,
   "id": "agricultural-beatles",
   "metadata": {},
   "outputs": [
    {
     "data": {
      "text/plain": [
       "'Jython'"
      ]
     },
     "execution_count": 14,
     "metadata": {},
     "output_type": "execute_result"
    }
   ],
   "source": [
    "'J' + word[1:]"
   ]
  },
  {
   "cell_type": "code",
   "execution_count": 15,
   "id": "starting-pakistan",
   "metadata": {},
   "outputs": [
    {
     "data": {
      "text/plain": [
       "34"
      ]
     },
     "execution_count": 15,
     "metadata": {},
     "output_type": "execute_result"
    }
   ],
   "source": [
    "s = 'supercalifragilisticexpialidocious' \n",
    "len(s) # 문자열의 길이를 돌려줌"
   ]
  },
  {
   "cell_type": "markdown",
   "id": "fixed-nursery",
   "metadata": {},
   "source": [
    "<br>\n",
    "<br>\n",
    "<br>\n",
    "<br>\n",
    "<br>\n",
    "<br>\n",
    "<hr>\n",
    "<br>\n",
    "<br>\n",
    "<br>\n",
    "<br>\n",
    "<br>\n",
    "<br>"
   ]
  },
  {
   "cell_type": "code",
   "execution_count": null,
   "id": "upper-daisy",
   "metadata": {},
   "outputs": [],
   "source": []
  },
  {
   "cell_type": "code",
   "execution_count": null,
   "id": "round-fitness",
   "metadata": {},
   "outputs": [],
   "source": []
  },
  {
   "cell_type": "code",
   "execution_count": null,
   "id": "printable-forward",
   "metadata": {},
   "outputs": [],
   "source": []
  },
  {
   "cell_type": "code",
   "execution_count": null,
   "id": "defined-applicant",
   "metadata": {},
   "outputs": [],
   "source": []
  },
  {
   "cell_type": "code",
   "execution_count": null,
   "id": "preliminary-frontier",
   "metadata": {},
   "outputs": [],
   "source": []
  },
  {
   "cell_type": "code",
   "execution_count": null,
   "id": "structured-puzzle",
   "metadata": {},
   "outputs": [],
   "source": []
  },
  {
   "cell_type": "markdown",
   "id": "improving-italian",
   "metadata": {},
   "source": [
    "<br>\n",
    "<br>\n",
    "<br>\n",
    "<br>\n",
    "<br>\n",
    "<br>\n",
    "<hr>\n",
    "<br>\n",
    "<br>\n",
    "<br>\n",
    "<br>\n",
    "<br>\n",
    "<br>"
   ]
  },
  {
   "cell_type": "markdown",
   "id": "capable-cemetery",
   "metadata": {},
   "source": [
    "# Built-in 함수\n",
    "\n",
    "https://docs.python.org/3/library/functions.html"
   ]
  },
  {
   "cell_type": "markdown",
   "id": "missing-service",
   "metadata": {},
   "source": [
    "### * sum"
   ]
  },
  {
   "cell_type": "code",
   "execution_count": 22,
   "id": "possible-correction",
   "metadata": {},
   "outputs": [
    {
     "data": {
      "text/plain": [
       "145"
      ]
     },
     "execution_count": 22,
     "metadata": {},
     "output_type": "execute_result"
    }
   ],
   "source": [
    "sum(range(10,20))"
   ]
  },
  {
   "cell_type": "code",
   "execution_count": 20,
   "id": "confused-desperate",
   "metadata": {},
   "outputs": [
    {
     "data": {
      "text/plain": [
       "100"
      ]
     },
     "execution_count": 20,
     "metadata": {},
     "output_type": "execute_result"
    }
   ],
   "source": [
    "sum([10, 20, 30, 40])"
   ]
  },
  {
   "cell_type": "markdown",
   "id": "static-address",
   "metadata": {},
   "source": [
    "### * max"
   ]
  },
  {
   "cell_type": "markdown",
   "id": "muslim-juvenile",
   "metadata": {},
   "source": []
  },
  {
   "cell_type": "markdown",
   "id": "intense-crash",
   "metadata": {},
   "source": [
    "### * min"
   ]
  },
  {
   "cell_type": "markdown",
   "id": "final-jurisdiction",
   "metadata": {},
   "source": []
  },
  {
   "cell_type": "markdown",
   "id": "short-spencer",
   "metadata": {},
   "source": [
    "### * abs"
   ]
  },
  {
   "cell_type": "markdown",
   "id": "tutorial-finding",
   "metadata": {},
   "source": []
  },
  {
   "cell_type": "markdown",
   "id": "sought-toolbox",
   "metadata": {},
   "source": [
    "### * pow"
   ]
  },
  {
   "cell_type": "markdown",
   "id": "judicial-rhythm",
   "metadata": {},
   "source": []
  },
  {
   "cell_type": "markdown",
   "id": "mature-africa",
   "metadata": {},
   "source": [
    "### * divmod"
   ]
  },
  {
   "cell_type": "code",
   "execution_count": 11,
   "id": "personal-imaging",
   "metadata": {},
   "outputs": [
    {
     "data": {
      "text/plain": [
       "(3, 1)"
      ]
     },
     "execution_count": 11,
     "metadata": {},
     "output_type": "execute_result"
    }
   ],
   "source": [
    "divmod(10, 3)"
   ]
  },
  {
   "cell_type": "code",
   "execution_count": 13,
   "id": "deadly-trash",
   "metadata": {},
   "outputs": [
    {
     "data": {
      "text/plain": [
       "(3, 1)"
      ]
     },
     "execution_count": 13,
     "metadata": {},
     "output_type": "execute_result"
    }
   ],
   "source": [
    "10 // 3, 10 % 3"
   ]
  },
  {
   "cell_type": "markdown",
   "id": "fourth-report",
   "metadata": {},
   "source": [
    "### * round"
   ]
  },
  {
   "cell_type": "code",
   "execution_count": 15,
   "id": "distinct-utility",
   "metadata": {},
   "outputs": [
    {
     "data": {
      "text/plain": [
       "6"
      ]
     },
     "execution_count": 15,
     "metadata": {},
     "output_type": "execute_result"
    }
   ],
   "source": [
    "round(5.5)"
   ]
  },
  {
   "cell_type": "code",
   "execution_count": 17,
   "id": "dense-laundry",
   "metadata": {},
   "outputs": [
    {
     "data": {
      "text/plain": [
       "6"
      ]
     },
     "execution_count": 17,
     "metadata": {},
     "output_type": "execute_result"
    }
   ],
   "source": [
    "round(6.5)"
   ]
  },
  {
   "cell_type": "markdown",
   "id": "negative-anime",
   "metadata": {},
   "source": [
    "짝수일 경우 내리고 홀수일 경우 올린다"
   ]
  },
  {
   "cell_type": "markdown",
   "id": "refined-collar",
   "metadata": {},
   "source": [
    "<br>\n",
    "<br>\n",
    "<br>\n",
    "<br>\n",
    "<br>\n",
    "<br>\n",
    "<hr>\n",
    "<br>\n",
    "<br>\n",
    "<br>\n",
    "<br>\n",
    "<br>\n",
    "<br>"
   ]
  },
  {
   "cell_type": "code",
   "execution_count": null,
   "id": "institutional-developer",
   "metadata": {},
   "outputs": [],
   "source": []
  }
 ],
 "metadata": {
  "kernelspec": {
   "display_name": "Python 3",
   "language": "python",
   "name": "python3"
  },
  "language_info": {
   "codemirror_mode": {
    "name": "ipython",
    "version": 3
   },
   "file_extension": ".py",
   "mimetype": "text/x-python",
   "name": "python",
   "nbconvert_exporter": "python",
   "pygments_lexer": "ipython3",
   "version": "3.9.2"
  }
 },
 "nbformat": 4,
 "nbformat_minor": 5
}
