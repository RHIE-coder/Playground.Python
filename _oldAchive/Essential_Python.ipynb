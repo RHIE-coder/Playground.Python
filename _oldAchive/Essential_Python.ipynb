{
 "cells": [
  {
   "cell_type": "markdown",
   "id": "spatial-mineral",
   "metadata": {},
   "source": [
    "# 14. 더 나은 파이썬 활용"
   ]
  },
  {
   "cell_type": "markdown",
   "id": "postal-hawaii",
   "metadata": {},
   "source": [
    "## - 파일 입출력"
   ]
  },
  {
   "cell_type": "markdown",
   "id": "accredited-address",
   "metadata": {},
   "source": [
    "### * 파일 읽기"
   ]
  },
  {
   "cell_type": "code",
   "execution_count": 95,
   "id": "confidential-enlargement",
   "metadata": {},
   "outputs": [],
   "source": [
    "readsrc = \"read_sample.txt\""
   ]
  },
  {
   "cell_type": "code",
   "execution_count": 96,
   "id": "available-degree",
   "metadata": {},
   "outputs": [
    {
     "ename": "UnicodeDecodeError",
     "evalue": "'cp949' codec can't decode byte 0xab in position 2: illegal multibyte sequence",
     "output_type": "error",
     "traceback": [
      "\u001b[1;31m---------------------------------------------------------------------------\u001b[0m",
      "\u001b[1;31mUnicodeDecodeError\u001b[0m                        Traceback (most recent call last)",
      "\u001b[1;32m<ipython-input-96-45323e3e2c64>\u001b[0m in \u001b[0;36m<module>\u001b[1;34m\u001b[0m\n\u001b[0;32m      1\u001b[0m \u001b[0mf\u001b[0m \u001b[1;33m=\u001b[0m \u001b[0mopen\u001b[0m\u001b[1;33m(\u001b[0m\u001b[0mreadsrc\u001b[0m\u001b[1;33m,\u001b[0m\u001b[1;34m'r'\u001b[0m\u001b[1;33m)\u001b[0m\u001b[1;33m\u001b[0m\u001b[1;33m\u001b[0m\u001b[0m\n\u001b[1;32m----> 2\u001b[1;33m \u001b[0mprint\u001b[0m\u001b[1;33m(\u001b[0m\u001b[0mf\u001b[0m\u001b[1;33m.\u001b[0m\u001b[0mreadline\u001b[0m\u001b[1;33m(\u001b[0m\u001b[1;33m)\u001b[0m\u001b[1;33m)\u001b[0m\u001b[1;33m\u001b[0m\u001b[1;33m\u001b[0m\u001b[0m\n\u001b[0m\u001b[0;32m      3\u001b[0m \u001b[0mf\u001b[0m\u001b[1;33m.\u001b[0m\u001b[0mclose\u001b[0m\u001b[1;33m(\u001b[0m\u001b[1;33m)\u001b[0m\u001b[1;33m\u001b[0m\u001b[1;33m\u001b[0m\u001b[0m\n",
      "\u001b[1;31mUnicodeDecodeError\u001b[0m: 'cp949' codec can't decode byte 0xab in position 2: illegal multibyte sequence"
     ]
    }
   ],
   "source": [
    "f = open(readsrc,'r')\n",
    "print(f.readline())\n",
    "f.close()"
   ]
  },
  {
   "cell_type": "code",
   "execution_count": 97,
   "id": "funky-vertex",
   "metadata": {},
   "outputs": [
    {
     "name": "stdout",
     "output_type": "stream",
     "text": [
      "첫 번째 인자는 파일 이름을 담은 문자열입니다. \n",
      "\n"
     ]
    }
   ],
   "source": [
    "f = open(readsrc,'r', encoding='UTF8')\n",
    "print(f.readline())\n",
    "f.close()"
   ]
  },
  {
   "cell_type": "code",
   "execution_count": 98,
   "id": "reasonable-yellow",
   "metadata": {},
   "outputs": [
    {
     "name": "stdout",
     "output_type": "stream",
     "text": [
      "첫 번째 인자는 파일 이름을 담은 문자열입니다. \n",
      "\n",
      "두 번째 인자는 파일이 사용될 방식을 설명하는 몇 개의 문자들을 담은 또 하나의 문자열입니다.\n",
      "\n"
     ]
    }
   ],
   "source": [
    "f = open(readsrc,'r', encoding='UTF8')\n",
    "print(f.readline())\n",
    "print(f.readline())\n",
    "f.close()"
   ]
  },
  {
   "cell_type": "markdown",
   "id": "international-accessory",
   "metadata": {},
   "source": [
    " - 여러줄 읽기 `readlines()` ==> 리스트"
   ]
  },
  {
   "cell_type": "code",
   "execution_count": 99,
   "id": "organic-level",
   "metadata": {},
   "outputs": [
    {
     "name": "stdout",
     "output_type": "stream",
     "text": [
      "['첫 번째 인자는 파일 이름을 담은 문자열입니다. \\n', '두 번째 인자는 파일이 사용될 방식을 설명하는 몇 개의 문자들을 담은 또 하나의 문자열입니다.\\n', \"mode 는 파일을 읽기만 하면 'r', 쓰기만 하면 'w' (같은 이름의 이미 존재하는 파일은 삭제됩니다) 가 되고, 'a' 는 파일을 덧붙이기 위해 엽니다\\n\", '파일에 기록되는 모든 데이터는 자동으로 끝에 붙습니다. \\n', \"'r+' 는 파일을 읽고 쓰기 위해 엽니다. \\n\", \"mode 인자는 선택적인데, 생략하면 'r' 이 가정됩니다.\\n\", '\\n', '보통, 파일은 텍스트 모드 (text mode) 로 열리는데, \\n', '이 뜻은, 파일에 문자열을 읽고 쓰고, 파일에는 특정한 인코딩으로 저장된다는 것입니다. \\n', '인코딩이 지정되지 않으면 기본값은 플랫폼 의존적입니다. \\n', \"mode 에 덧붙여진 'b' 는 파일을 바이너리 모드 (binary mode) 로 엽니다: 이제 데이터는 바이트열 객체의 형태로 읽고 쓰입니다. \\n\", '텍스트를 포함하지 않는 모든 파일에는 이 모드를 사용해야 합니다.\\n', '\\n', '텍스트 모드에서, 읽을 때의 기본 동작은 플랫폼 의존적인 줄 종료 (유닉스에서 \\\\n, 윈도우에서 \\\\r\\\\n) 를 단지 \\\\n 로 변경하는 것입니다. \\n', '텍스트 모드로 쓸 때, 기본 동작은 \\\\n 를 다시 플랫폼 의존적인 줄 종료로 변환하는 것입니다.\\n', '이 파일 데이터에 대한 무대 뒤의 수정은 텍스트 파일의 경우는 문제가 안 되지만, JPEG 이나 EXE 파일과 같은 바이너리 데이터를 망치게 됩니다. \\n', '그런 파일을 읽고 쓸 때 바이너리 모드를 사용하도록 주의하세요.\\n', '\\n', '파일 객체를 다룰 때 with 키워드를 사용하는 것은 좋은 습관입니다. \\n', '혜택은 도중 예외가 발생하더라도 스위트가 종료될 때 파일이 올바르게 닫힌다는 것입니다. \\n', 'with 를 사용하는 것은 동등한 try-finally 블록을 쓰는 것에 비교해 훨씬 짧기도 합니다.']\n"
     ]
    }
   ],
   "source": [
    "f = open(readsrc,'r', encoding='UTF8')\n",
    "print(f.readlines())\n",
    "f.close()"
   ]
  },
  {
   "cell_type": "markdown",
   "id": "illegal-pound",
   "metadata": {},
   "source": [
    " - 여러줄 읽기 `read()` ==> 문자"
   ]
  },
  {
   "cell_type": "code",
   "execution_count": 100,
   "id": "fifth-maine",
   "metadata": {},
   "outputs": [
    {
     "name": "stdout",
     "output_type": "stream",
     "text": [
      "첫 번째 인자는 파일 이름을 담은 문자열입니다. \n",
      "두 번째 인자는 파일이 사용될 방식을 설명하는 몇 개의 문자들을 담은 또 하나의 문자열입니다.\n",
      "mode 는 파일을 읽기만 하면 'r', 쓰기만 하면 'w' (같은 이름의 이미 존재하는 파일은 삭제됩니다) 가 되고, 'a' 는 파일을 덧붙이기 위해 엽니다\n",
      "파일에 기록되는 모든 데이터는 자동으로 끝에 붙습니다. \n",
      "'r+' 는 파일을 읽고 쓰기 위해 엽니다. \n",
      "mode 인자는 선택적인데, 생략하면 'r' 이 가정됩니다.\n",
      "\n",
      "보통, 파일은 텍스트 모드 (text mode) 로 열리는데, \n",
      "이 뜻은, 파일에 문자열을 읽고 쓰고, 파일에는 특정한 인코딩으로 저장된다는 것입니다. \n",
      "인코딩이 지정되지 않으면 기본값은 플랫폼 의존적입니다. \n",
      "mode 에 덧붙여진 'b' 는 파일을 바이너리 모드 (binary mode) 로 엽니다: 이제 데이터는 바이트열 객체의 형태로 읽고 쓰입니다. \n",
      "텍스트를 포함하지 않는 모든 파일에는 이 모드를 사용해야 합니다.\n",
      "\n",
      "텍스트 모드에서, 읽을 때의 기본 동작은 플랫폼 의존적인 줄 종료 (유닉스에서 \\n, 윈도우에서 \\r\\n) 를 단지 \\n 로 변경하는 것입니다. \n",
      "텍스트 모드로 쓸 때, 기본 동작은 \\n 를 다시 플랫폼 의존적인 줄 종료로 변환하는 것입니다.\n",
      "이 파일 데이터에 대한 무대 뒤의 수정은 텍스트 파일의 경우는 문제가 안 되지만, JPEG 이나 EXE 파일과 같은 바이너리 데이터를 망치게 됩니다. \n",
      "그런 파일을 읽고 쓸 때 바이너리 모드를 사용하도록 주의하세요.\n",
      "\n",
      "파일 객체를 다룰 때 with 키워드를 사용하는 것은 좋은 습관입니다. \n",
      "혜택은 도중 예외가 발생하더라도 스위트가 종료될 때 파일이 올바르게 닫힌다는 것입니다. \n",
      "with 를 사용하는 것은 동등한 try-finally 블록을 쓰는 것에 비교해 훨씬 짧기도 합니다.\n"
     ]
    }
   ],
   "source": [
    "f = open(readsrc,'r', encoding='UTF8')\n",
    "print(f.read())\n",
    "f.close()"
   ]
  },
  {
   "cell_type": "markdown",
   "id": "beautiful-signal",
   "metadata": {},
   "source": [
    "### * 파일 쓰기"
   ]
  },
  {
   "cell_type": "code",
   "execution_count": 111,
   "id": "personalized-apache",
   "metadata": {},
   "outputs": [],
   "source": [
    "writesrc = \"write_sample.txt\""
   ]
  },
  {
   "cell_type": "code",
   "execution_count": 118,
   "id": "separate-starter",
   "metadata": {},
   "outputs": [],
   "source": [
    "f = open(writesrc, 'w')\n",
    "f.write(\"Hello World!\")\n",
    "f.write(\"Hello World!\")\n",
    "f.write(\"Hello World!\")\n",
    "f.close()"
   ]
  },
  {
   "cell_type": "markdown",
   "id": "clean-ending",
   "metadata": {},
   "source": [
    "덮어쓰기가 되어 Hello World! 한줄만 적힘"
   ]
  },
  {
   "cell_type": "markdown",
   "id": "exempt-meter",
   "metadata": {},
   "source": [
    "```txt\n",
    "Hello World!\n",
    "```"
   ]
  },
  {
   "cell_type": "markdown",
   "id": "toxic-spring",
   "metadata": {},
   "source": [
    "- 여러 줄 쓰기"
   ]
  },
  {
   "cell_type": "code",
   "execution_count": 116,
   "id": "artificial-rogers",
   "metadata": {},
   "outputs": [],
   "source": [
    "datas = list()\n",
    "datas.append(\"Hello World!\\n\")\n",
    "datas.append(\"Hello World!!\\n\")\n",
    "datas.append(\"Hello World!!!\\n\")\n",
    "f = open(writesrc, 'w')\n",
    "f.writelines(datas)\n",
    "f.close()"
   ]
  },
  {
   "cell_type": "markdown",
   "id": "proper-interaction",
   "metadata": {},
   "source": [
    "```txt\n",
    "Hello World!\n",
    "Hello World!!\n",
    "Hello World!!!\n",
    "```"
   ]
  },
  {
   "cell_type": "markdown",
   "id": "whole-launch",
   "metadata": {},
   "source": [
    " - 내용 추가하기"
   ]
  },
  {
   "cell_type": "code",
   "execution_count": 117,
   "id": "creative-cylinder",
   "metadata": {},
   "outputs": [],
   "source": [
    "f = open(writesrc, 'a')\n",
    "f.write(\"Hello @\\n\")\n",
    "f.write(\"Hello @@\\n\")\n",
    "f.write(\"Hello @@@\\n\")\n",
    "f.close()"
   ]
  },
  {
   "cell_type": "markdown",
   "id": "flexible-brunswick",
   "metadata": {},
   "source": [
    "```txt\n",
    "Hello World!\n",
    "Hello World!!\n",
    "Hello World!!!\n",
    "Hello @\n",
    "Hello @@\n",
    "Hello @@@\n",
    "```"
   ]
  },
  {
   "cell_type": "markdown",
   "id": "bound-interface",
   "metadata": {},
   "source": [
    "### * with ~ as"
   ]
  },
  {
   "cell_type": "markdown",
   "id": "dated-blend",
   "metadata": {},
   "source": [
    "자동으로 파일 객체를 닫아줘서 안전함"
   ]
  },
  {
   "cell_type": "code",
   "execution_count": 121,
   "id": "palestinian-overview",
   "metadata": {},
   "outputs": [
    {
     "name": "stdout",
     "output_type": "stream",
     "text": [
      "첫 번째 인자는 파일 이름을 담은 문자열입니다. \n",
      "두 번째 인자는 파일이 사용될 방식을 설명하는 몇 개의 문자들을 담은 또 하나의 문자열입니다.\n",
      "mode 는 파일을 읽기만 하면 'r', 쓰기만 하면 'w' (같은 이름의 이미 존재하는 파일은 삭제됩니다) 가 되고, 'a' 는 파일을 덧붙이기 위해 엽니다\n",
      "파일에 기록되는 모든 데이터는 자동으로 끝에 붙습니다. \n",
      "'r+' 는 파일을 읽고 쓰기 위해 엽니다. \n",
      "mode 인자는 선택적인데, 생략하면 'r' 이 가정됩니다.\n",
      "\n",
      "보통, 파일은 텍스트 모드 (text mode) 로 열리는데, \n",
      "이 뜻은, 파일에 문자열을 읽고 쓰고, 파일에는 특정한 인코딩으로 저장된다는 것입니다. \n",
      "인코딩이 지정되지 않으면 기본값은 플랫폼 의존적입니다. \n",
      "mode 에 덧붙여진 'b' 는 파일을 바이너리 모드 (binary mode) 로 엽니다: 이제 데이터는 바이트열 객체의 형태로 읽고 쓰입니다. \n",
      "텍스트를 포함하지 않는 모든 파일에는 이 모드를 사용해야 합니다.\n",
      "\n",
      "텍스트 모드에서, 읽을 때의 기본 동작은 플랫폼 의존적인 줄 종료 (유닉스에서 \\n, 윈도우에서 \\r\\n) 를 단지 \\n 로 변경하는 것입니다. \n",
      "텍스트 모드로 쓸 때, 기본 동작은 \\n 를 다시 플랫폼 의존적인 줄 종료로 변환하는 것입니다.\n",
      "이 파일 데이터에 대한 무대 뒤의 수정은 텍스트 파일의 경우는 문제가 안 되지만, JPEG 이나 EXE 파일과 같은 바이너리 데이터를 망치게 됩니다. \n",
      "그런 파일을 읽고 쓸 때 바이너리 모드를 사용하도록 주의하세요.\n",
      "\n",
      "파일 객체를 다룰 때 with 키워드를 사용하는 것은 좋은 습관입니다. \n",
      "혜택은 도중 예외가 발생하더라도 스위트가 종료될 때 파일이 올바르게 닫힌다는 것입니다. \n",
      "with 를 사용하는 것은 동등한 try-finally 블록을 쓰는 것에 비교해 훨씬 짧기도 합니다.\n"
     ]
    }
   ],
   "source": [
    "with open(readsrc, 'r', encoding=\"UTF8\") as f:\n",
    "    d = f.read()\n",
    "    print(d)"
   ]
  },
  {
   "cell_type": "markdown",
   "id": "operational-dependence",
   "metadata": {},
   "source": [
    " - with ~ as 만들기"
   ]
  },
  {
   "cell_type": "code",
   "execution_count": 130,
   "id": "african-firmware",
   "metadata": {},
   "outputs": [
    {
     "name": "stdout",
     "output_type": "stream",
     "text": [
      "__init__ invoked\n",
      "\n",
      "\n",
      "\n",
      "\n",
      "첫 번째 인자는 파일 이름을 담은 문자열입니다. \n",
      "두 번째 인자는 파일이 사용될 방식을 설명하는 몇 개의 문자들을 담은 또 하나의 문자열입니다.\n",
      "mode 는 파일을 읽기만 하면 'r', 쓰기만 하면 'w' (같은 이름의 이미 존재하는 파일은 삭제됩니다) 가 되고, 'a' 는 파일을 덧붙이기 위해 엽니다\n",
      "파일에 기록되는 모든 데이터는 자동으로 끝에 붙습니다. \n",
      "'r+' 는 파일을 읽고 쓰기 위해 엽니다. \n",
      "mode 인자는 선택적인데, 생략하면 'r' 이 가정됩니다.\n",
      "\n",
      "보통, 파일은 텍스트 모드 (text mode) 로 열리는데, \n",
      "이 뜻은, 파일에 문자열을 읽고 쓰고, 파일에는 특정한 인코딩으로 저장된다는 것입니다. \n",
      "인코딩이 지정되지 않으면 기본값은 플랫폼 의존적입니다. \n",
      "mode 에 덧붙여진 'b' 는 파일을 바이너리 모드 (binary mode) 로 엽니다: 이제 데이터는 바이트열 객체의 형태로 읽고 쓰입니다. \n",
      "텍스트를 포함하지 않는 모든 파일에는 이 모드를 사용해야 합니다.\n",
      "\n",
      "텍스트 모드에서, 읽을 때의 기본 동작은 플랫폼 의존적인 줄 종료 (유닉스에서 \\n, 윈도우에서 \\r\\n) 를 단지 \\n 로 변경하는 것입니다. \n",
      "텍스트 모드로 쓸 때, 기본 동작은 \\n 를 다시 플랫폼 의존적인 줄 종료로 변환하는 것입니다.\n",
      "이 파일 데이터에 대한 무대 뒤의 수정은 텍스트 파일의 경우는 문제가 안 되지만, JPEG 이나 EXE 파일과 같은 바이너리 데이터를 망치게 됩니다. \n",
      "그런 파일을 읽고 쓸 때 바이너리 모드를 사용하도록 주의하세요.\n",
      "\n",
      "파일 객체를 다룰 때 with 키워드를 사용하는 것은 좋은 습관입니다. \n",
      "혜택은 도중 예외가 발생하더라도 스위트가 종료될 때 파일이 올바르게 닫힌다는 것입니다. \n",
      "with 를 사용하는 것은 동등한 try-finally 블록을 쓰는 것에 비교해 훨씬 짧기도 합니다.\n",
      "\n",
      "\n",
      "\n",
      "\n",
      "AutoReader is good\n"
     ]
    }
   ],
   "source": [
    "class AutoUTF8Reader:\n",
    "    \n",
    "    def __init__(self, readsrc):\n",
    "        print(\"__init__ invoked\\n\\n\\n\\n\")\n",
    "        self.readsrc = readsrc\n",
    "    \n",
    "    def __enter__(self):\n",
    "        self.f = open(self.readsrc, 'r', encoding=\"UTF8\")\n",
    "        print(self.f.read())\n",
    "        return \"\\n\\n\\n\\nAutoReader is good\"\n",
    "    \n",
    "    def __exit__(self, exc_type, exc_value, traceback):\n",
    "        self.f.close()\n",
    "        \n",
    "with AutoUTF8Reader(readsrc) as result:\n",
    "    print(result)"
   ]
  },
  {
   "cell_type": "markdown",
   "id": "humanitarian-garlic",
   "metadata": {},
   "source": [
    "### * json"
   ]
  },
  {
   "cell_type": "code",
   "execution_count": 131,
   "id": "turned-uganda",
   "metadata": {},
   "outputs": [
    {
     "data": {
      "text/plain": [
       "[{'age': 15, 'name': 'Jackson'},\n",
       " {'age': 28, 'name': 'Eddie'},\n",
       " {'age': 27, 'name': 'kha'}]"
      ]
     },
     "execution_count": 131,
     "metadata": {},
     "output_type": "execute_result"
    }
   ],
   "source": [
    "import json\n",
    "data1 = dict(\n",
    "    name = \"Jackson\",\n",
    "    age = 15\n",
    ")\n",
    "data2 = dict(\n",
    "    name = \"Eddie\",\n",
    "    age = 28\n",
    ")\n",
    "data3 = dict(\n",
    "    name = \"kha\",\n",
    "    age = 27\n",
    ")\n",
    "dumped_json = json.dumps([data1, data2, data3], sort_keys=True, indent=4)\n",
    "with open(\"json_module_test.json\", 'w', encoding='UTF8') as f:\n",
    "    f.write(dumped_json)\n",
    "    \n",
    "with open(\"json_module_test.json\", 'r', encoding='UTF8') as f:\n",
    "    result_data = json.load(f)\n",
    "    \n",
    "result_data"
   ]
  },
  {
   "cell_type": "markdown",
   "id": "first-specialist",
   "metadata": {},
   "source": [
    "## - 이터레이터와 제너레이터"
   ]
  },
  {
   "cell_type": "markdown",
   "id": "nonprofit-warner",
   "metadata": {},
   "source": [
    "### * 이터레이터(iterator)"
   ]
  },
  {
   "cell_type": "markdown",
   "id": "invalid-immunology",
   "metadata": {},
   "source": [
    " - 기본 사용법"
   ]
  },
  {
   "cell_type": "code",
   "execution_count": 132,
   "id": "million-terminology",
   "metadata": {},
   "outputs": [],
   "source": [
    "s = 'abc'\n",
    "it = iter(s)"
   ]
  },
  {
   "cell_type": "code",
   "execution_count": 133,
   "id": "secure-score",
   "metadata": {},
   "outputs": [
    {
     "data": {
      "text/plain": [
       "<str_iterator at 0x1fc32afecd0>"
      ]
     },
     "execution_count": 133,
     "metadata": {},
     "output_type": "execute_result"
    }
   ],
   "source": [
    "it"
   ]
  },
  {
   "cell_type": "code",
   "execution_count": 134,
   "id": "behind-michael",
   "metadata": {},
   "outputs": [
    {
     "data": {
      "text/plain": [
       "'a'"
      ]
     },
     "execution_count": 134,
     "metadata": {},
     "output_type": "execute_result"
    }
   ],
   "source": [
    "next(it)"
   ]
  },
  {
   "cell_type": "code",
   "execution_count": 135,
   "id": "organized-commodity",
   "metadata": {},
   "outputs": [
    {
     "data": {
      "text/plain": [
       "'b'"
      ]
     },
     "execution_count": 135,
     "metadata": {},
     "output_type": "execute_result"
    }
   ],
   "source": [
    "next(it)"
   ]
  },
  {
   "cell_type": "code",
   "execution_count": 136,
   "id": "loving-excuse",
   "metadata": {},
   "outputs": [
    {
     "data": {
      "text/plain": [
       "'c'"
      ]
     },
     "execution_count": 136,
     "metadata": {},
     "output_type": "execute_result"
    }
   ],
   "source": [
    "next(it)"
   ]
  },
  {
   "cell_type": "code",
   "execution_count": 137,
   "id": "streaming-luxury",
   "metadata": {},
   "outputs": [
    {
     "ename": "StopIteration",
     "evalue": "",
     "output_type": "error",
     "traceback": [
      "\u001b[1;31m---------------------------------------------------------------------------\u001b[0m",
      "\u001b[1;31mStopIteration\u001b[0m                             Traceback (most recent call last)",
      "\u001b[1;32m<ipython-input-137-bc1ab118995a>\u001b[0m in \u001b[0;36m<module>\u001b[1;34m\u001b[0m\n\u001b[1;32m----> 1\u001b[1;33m \u001b[0mnext\u001b[0m\u001b[1;33m(\u001b[0m\u001b[0mit\u001b[0m\u001b[1;33m)\u001b[0m\u001b[1;33m\u001b[0m\u001b[1;33m\u001b[0m\u001b[0m\n\u001b[0m",
      "\u001b[1;31mStopIteration\u001b[0m: "
     ]
    }
   ],
   "source": [
    "next(it)"
   ]
  },
  {
   "cell_type": "markdown",
   "id": "opposed-bracelet",
   "metadata": {},
   "source": [
    " - 다른 초기화법"
   ]
  },
  {
   "cell_type": "code",
   "execution_count": 142,
   "id": "arabic-robinson",
   "metadata": {},
   "outputs": [
    {
     "name": "stdout",
     "output_type": "stream",
     "text": [
      "a\n",
      "b\n",
      "c\n"
     ]
    }
   ],
   "source": [
    "s = 'abc'\n",
    "it = s.__iter__()\n",
    "print(it.__next__())\n",
    "print(it.__next__())\n",
    "print(it.__next__())"
   ]
  },
  {
   "cell_type": "code",
   "execution_count": 14,
   "id": "auburn-royalty",
   "metadata": {},
   "outputs": [],
   "source": [
    "class Reverse:\n",
    "    \n",
    "    def __init__(self, data):\n",
    "        self.data = data\n",
    "        self.index = len(data)\n",
    "        \n",
    "    def __iter__(self):\n",
    "        return self\n",
    "    \n",
    "    def __next__(self):\n",
    "        if self.index == 0:\n",
    "            raise StopIteration\n",
    "        self.index = self.index - 1\n",
    "        return self.data[self.index]"
   ]
  },
  {
   "cell_type": "code",
   "execution_count": 15,
   "id": "attended-magnet",
   "metadata": {},
   "outputs": [
    {
     "name": "stdout",
     "output_type": "stream",
     "text": [
      "m\n",
      "a\n",
      "p\n",
      "s\n"
     ]
    }
   ],
   "source": [
    "rev = Reverse('spam')\n",
    "for char in rev:\n",
    "    print(char)"
   ]
  },
  {
   "cell_type": "markdown",
   "id": "occupied-christianity",
   "metadata": {},
   "source": [
    "### * 제너레이터(generator)"
   ]
  },
  {
   "cell_type": "code",
   "execution_count": 139,
   "id": "lonely-adaptation",
   "metadata": {},
   "outputs": [
    {
     "name": "stdout",
     "output_type": "stream",
     "text": [
      "3\n",
      "2\n",
      "1\n"
     ]
    }
   ],
   "source": [
    "def count3():\n",
    "    yield 3\n",
    "    yield 2\n",
    "    yield 1\n",
    "    \n",
    "for i in count3():\n",
    "    print(i)"
   ]
  },
  {
   "cell_type": "code",
   "execution_count": 143,
   "id": "frequent-christopher",
   "metadata": {},
   "outputs": [
    {
     "name": "stdout",
     "output_type": "stream",
     "text": [
      "3\n",
      "2\n",
      "1\n"
     ]
    }
   ],
   "source": [
    "cnt = count3()\n",
    "print(next(cnt))\n",
    "print(next(cnt))\n",
    "print(next(cnt))"
   ]
  },
  {
   "cell_type": "markdown",
   "id": "cultural-school",
   "metadata": {},
   "source": [
    " - 이터레이터와 제너레이터의 관계\n",
    "\n",
    "`Generator` --> `__iter__()` --> `__next__()` --> `yield`"
   ]
  },
  {
   "cell_type": "code",
   "execution_count": 144,
   "id": "intermediate-edgar",
   "metadata": {},
   "outputs": [],
   "source": [
    "def reverse(data):\n",
    "    for index in range(len(data)-1, -1, -1):\n",
    "        yield data[index]"
   ]
  },
  {
   "cell_type": "code",
   "execution_count": 145,
   "id": "ignored-medicaid",
   "metadata": {},
   "outputs": [
    {
     "name": "stdout",
     "output_type": "stream",
     "text": [
      "f\n",
      "l\n",
      "o\n",
      "g\n"
     ]
    }
   ],
   "source": [
    "for char in reverse('golf'):\n",
    "    print(char)"
   ]
  },
  {
   "cell_type": "code",
   "execution_count": 146,
   "id": "dependent-cannon",
   "metadata": {},
   "outputs": [
    {
     "data": {
      "text/plain": [
       "['f', 'l', 'o', 'g']"
      ]
     },
     "execution_count": 146,
     "metadata": {},
     "output_type": "execute_result"
    }
   ],
   "source": [
    "list(char for char in reverse('golf'))"
   ]
  },
  {
   "cell_type": "markdown",
   "id": "developing-catalog",
   "metadata": {},
   "source": [
    "## - 비동기 async"
   ]
  },
  {
   "cell_type": "code",
   "execution_count": null,
   "id": "christian-classification",
   "metadata": {},
   "outputs": [],
   "source": [
    "pass"
   ]
  },
  {
   "cell_type": "markdown",
   "id": "subject-eleven",
   "metadata": {},
   "source": [
    "## - 가상환경"
   ]
  },
  {
   "cell_type": "code",
   "execution_count": 149,
   "id": "wired-genre",
   "metadata": {},
   "outputs": [],
   "source": [
    "pass"
   ]
  },
  {
   "cell_type": "markdown",
   "id": "adjustable-disney",
   "metadata": {},
   "source": [
    "## - 빌트인 함수와 표준 라이브러리"
   ]
  },
  {
   "cell_type": "code",
   "execution_count": 147,
   "id": "legislative-surge",
   "metadata": {},
   "outputs": [],
   "source": [
    "pass"
   ]
  },
  {
   "cell_type": "markdown",
   "id": "defensive-blogger",
   "metadata": {},
   "source": [
    "## - 날짜 다루기"
   ]
  },
  {
   "cell_type": "code",
   "execution_count": 148,
   "id": "large-justice",
   "metadata": {},
   "outputs": [],
   "source": [
    "pass"
   ]
  },
  {
   "cell_type": "markdown",
   "id": "closing-anchor",
   "metadata": {},
   "source": [
    "<br>\n",
    "<br>\n",
    "<br>\n",
    "<br>\n",
    "<br>\n",
    "<br>\n",
    "<hr>\n",
    "<br>\n",
    "<br>\n",
    "<br>\n",
    "<br>\n",
    "<br>\n",
    "<br>"
   ]
  },
  {
   "cell_type": "markdown",
   "id": "extreme-quantity",
   "metadata": {},
   "source": [
    "<br><hr><br><hr><br><hr><br><hr><br><hr><br><hr><br><hr><br><hr><br><hr><br><hr>"
   ]
  },
  {
   "cell_type": "markdown",
   "id": "secure-desperate",
   "metadata": {},
   "source": [
    "# Built-in 함수\n",
    "\n",
    "https://docs.python.org/3/library/functions.html"
   ]
  },
  {
   "cell_type": "markdown",
   "id": "primary-pantyhose",
   "metadata": {},
   "source": [
    "### * sum"
   ]
  },
  {
   "cell_type": "code",
   "execution_count": 22,
   "id": "exterior-reservation",
   "metadata": {},
   "outputs": [
    {
     "data": {
      "text/plain": [
       "145"
      ]
     },
     "execution_count": 22,
     "metadata": {},
     "output_type": "execute_result"
    }
   ],
   "source": [
    "sum(range(10,20))"
   ]
  },
  {
   "cell_type": "code",
   "execution_count": 20,
   "id": "cultural-pharmaceutical",
   "metadata": {},
   "outputs": [
    {
     "data": {
      "text/plain": [
       "100"
      ]
     },
     "execution_count": 20,
     "metadata": {},
     "output_type": "execute_result"
    }
   ],
   "source": [
    "sum([10, 20, 30, 40])"
   ]
  },
  {
   "cell_type": "markdown",
   "id": "breeding-problem",
   "metadata": {},
   "source": [
    "### * max"
   ]
  },
  {
   "cell_type": "markdown",
   "id": "martial-captain",
   "metadata": {},
   "source": []
  },
  {
   "cell_type": "markdown",
   "id": "consolidated-display",
   "metadata": {},
   "source": [
    "### * min"
   ]
  },
  {
   "cell_type": "markdown",
   "id": "abstract-daughter",
   "metadata": {},
   "source": []
  },
  {
   "cell_type": "markdown",
   "id": "specific-helen",
   "metadata": {},
   "source": [
    "### * abs"
   ]
  },
  {
   "cell_type": "markdown",
   "id": "genetic-hundred",
   "metadata": {},
   "source": []
  },
  {
   "cell_type": "markdown",
   "id": "gross-gregory",
   "metadata": {},
   "source": [
    "### * pow"
   ]
  },
  {
   "cell_type": "markdown",
   "id": "coral-laser",
   "metadata": {},
   "source": []
  },
  {
   "cell_type": "markdown",
   "id": "weighted-roots",
   "metadata": {},
   "source": [
    "### * divmod"
   ]
  },
  {
   "cell_type": "code",
   "execution_count": 11,
   "id": "scientific-condition",
   "metadata": {},
   "outputs": [
    {
     "data": {
      "text/plain": [
       "(3, 1)"
      ]
     },
     "execution_count": 11,
     "metadata": {},
     "output_type": "execute_result"
    }
   ],
   "source": [
    "divmod(10, 3)"
   ]
  },
  {
   "cell_type": "code",
   "execution_count": 13,
   "id": "inner-acting",
   "metadata": {},
   "outputs": [
    {
     "data": {
      "text/plain": [
       "(3, 1)"
      ]
     },
     "execution_count": 13,
     "metadata": {},
     "output_type": "execute_result"
    }
   ],
   "source": [
    "10 // 3, 10 % 3"
   ]
  },
  {
   "cell_type": "markdown",
   "id": "aware-multimedia",
   "metadata": {},
   "source": [
    "### * round"
   ]
  },
  {
   "cell_type": "code",
   "execution_count": 15,
   "id": "textile-trauma",
   "metadata": {},
   "outputs": [
    {
     "data": {
      "text/plain": [
       "6"
      ]
     },
     "execution_count": 15,
     "metadata": {},
     "output_type": "execute_result"
    }
   ],
   "source": [
    "round(5.5)"
   ]
  },
  {
   "cell_type": "code",
   "execution_count": 17,
   "id": "operating-arrow",
   "metadata": {},
   "outputs": [
    {
     "data": {
      "text/plain": [
       "6"
      ]
     },
     "execution_count": 17,
     "metadata": {},
     "output_type": "execute_result"
    }
   ],
   "source": [
    "round(6.5)"
   ]
  },
  {
   "cell_type": "markdown",
   "id": "accompanied-murray",
   "metadata": {},
   "source": [
    "짝수일 경우 내리고 홀수일 경우 올린다"
   ]
  },
  {
   "cell_type": "markdown",
   "id": "published-desert",
   "metadata": {},
   "source": [
    "<br>\n",
    "<br>\n",
    "<br>\n",
    "<br>\n",
    "<br>\n",
    "<br>\n",
    "<hr>\n",
    "<br>\n",
    "<br>\n",
    "<br>\n",
    "<br>\n",
    "<br>\n",
    "<br>"
   ]
  },
  {
   "cell_type": "markdown",
   "id": "fitted-worst",
   "metadata": {},
   "source": []
  },
  {
   "cell_type": "code",
   "execution_count": null,
   "id": "labeled-swift",
   "metadata": {},
   "outputs": [],
   "source": []
  },
  {
   "cell_type": "markdown",
   "id": "assured-stretch",
   "metadata": {},
   "source": [
    "### 정규표현식\n",
    "### 크롤링"
   ]
  },
  {
   "cell_type": "code",
   "execution_count": null,
   "id": "developmental-token",
   "metadata": {},
   "outputs": [],
   "source": []
  },
  {
   "cell_type": "markdown",
   "id": "advanced-protest",
   "metadata": {},
   "source": [
    "### Numpy\n",
    "### Pandas\n",
    "### Matplotlib"
   ]
  },
  {
   "cell_type": "code",
   "execution_count": null,
   "id": "crazy-president",
   "metadata": {},
   "outputs": [],
   "source": []
  }
 ],
 "metadata": {
  "kernelspec": {
   "display_name": "Python 3 (ipykernel)",
   "language": "python",
   "name": "python3"
  },
  "language_info": {
   "codemirror_mode": {
    "name": "ipython",
    "version": 3
   },
   "file_extension": ".py",
   "mimetype": "text/x-python",
   "name": "python",
   "nbconvert_exporter": "python",
   "pygments_lexer": "ipython3",
   "version": "3.9.6"
  }
 },
 "nbformat": 4,
 "nbformat_minor": 5
}
