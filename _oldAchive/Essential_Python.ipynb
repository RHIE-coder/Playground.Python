{
 "cells": [
  {
   "cell_type": "markdown",
   "id": "mediterranean-gambling",
   "metadata": {},
   "source": [
    "# 09. 모듈과 패키지"
   ]
  },
  {
   "cell_type": "markdown",
   "id": "dated-separate",
   "metadata": {},
   "source": [
    "## - 모듈"
   ]
  },
  {
   "cell_type": "code",
   "execution_count": 57,
   "id": "analyzed-identification",
   "metadata": {},
   "outputs": [
    {
     "name": "stdout",
     "output_type": "stream",
     "text": [
      "0 1 1 2 3 5 8 13 21 34 55 89 144 233 377 610 987 \n"
     ]
    }
   ],
   "source": [
    "import fibo\n",
    "\n",
    "fibo.fib(1000)"
   ]
  },
  {
   "cell_type": "code",
   "execution_count": 58,
   "id": "awful-removal",
   "metadata": {},
   "outputs": [
    {
     "data": {
      "text/plain": [
       "[0, 1, 1, 2, 3, 5, 8, 13, 21, 34, 55, 89]"
      ]
     },
     "execution_count": 58,
     "metadata": {},
     "output_type": "execute_result"
    }
   ],
   "source": [
    "fibo.fib2(100)"
   ]
  },
  {
   "cell_type": "code",
   "execution_count": 59,
   "id": "impressed-oracle",
   "metadata": {},
   "outputs": [
    {
     "data": {
      "text/plain": [
       "'fibo'"
      ]
     },
     "execution_count": 59,
     "metadata": {},
     "output_type": "execute_result"
    }
   ],
   "source": [
    "fibo.__name__"
   ]
  },
  {
   "cell_type": "code",
   "execution_count": 60,
   "id": "addressed-cancellation",
   "metadata": {},
   "outputs": [
    {
     "name": "stdout",
     "output_type": "stream",
     "text": [
      "0 1 1 2 3 5 8 13 21 34 55 89 144 233 377 \n"
     ]
    }
   ],
   "source": [
    "fib = fibo.fib\n",
    "fib(500)"
   ]
  },
  {
   "cell_type": "code",
   "execution_count": 61,
   "id": "sublime-ballet",
   "metadata": {},
   "outputs": [
    {
     "name": "stdout",
     "output_type": "stream",
     "text": [
      "0 1 1 2 3 5 8 13 21 34 55 89 144 233 377 \n"
     ]
    }
   ],
   "source": [
    "from fibo import fib, fib2\n",
    "fib(500)"
   ]
  },
  {
   "cell_type": "code",
   "execution_count": 62,
   "id": "unlike-selection",
   "metadata": {},
   "outputs": [
    {
     "name": "stdout",
     "output_type": "stream",
     "text": [
      "0 1 1 2 3 5 8 13 21 34 55 89 144 233 377 \n"
     ]
    }
   ],
   "source": [
    "from fibo import *\n",
    "fib(500)"
   ]
  },
  {
   "cell_type": "code",
   "execution_count": 63,
   "id": "opening-webcam",
   "metadata": {},
   "outputs": [
    {
     "name": "stdout",
     "output_type": "stream",
     "text": [
      "0 1 1 2 3 5 8 13 21 34 55 89 144 233 377 \n"
     ]
    }
   ],
   "source": [
    "import fibo as fib\n",
    "fib.fib(500)"
   ]
  },
  {
   "cell_type": "code",
   "execution_count": 64,
   "id": "alpine-vegetarian",
   "metadata": {},
   "outputs": [
    {
     "name": "stdout",
     "output_type": "stream",
     "text": [
      "0 1 1 2 3 5 8 13 21 34 55 89 144 233 377 \n"
     ]
    }
   ],
   "source": [
    "from fibo import fib as fibonacci\n",
    "fibonacci(400)"
   ]
  },
  {
   "cell_type": "markdown",
   "id": "binary-buddy",
   "metadata": {},
   "source": [
    " - 효율성의 이유로, 각 모듈은 인터프리터 세션마다 한 번만 임포트됩니다. 그래서, 여러분이 모듈을 수정하면, 인터프리터를 다시 시작시켜야 합니다 — 또는, 대화형으로 시험하는 모듈이 하나뿐이라면, `importlib.reload()` 를 사용하세요. 예를 들어, `import importlib; importlib.reload(modulename)`."
   ]
  },
  {
   "cell_type": "code",
   "execution_count": 65,
   "id": "popular-height",
   "metadata": {},
   "outputs": [
    {
     "data": {
      "text/plain": [
       "<module 'fibo' from 'C:\\\\Users\\\\quoti\\\\Desktop\\\\LocalRepo\\\\__PROGRAMMING__\\\\CodeCloud\\\\Playground.Python\\\\ref-main-doc\\\\03_tutorial\\\\fibo.py'>"
      ]
     },
     "execution_count": 65,
     "metadata": {},
     "output_type": "execute_result"
    }
   ],
   "source": [
    "import importlib\n",
    "importlib.reload(fibo)"
   ]
  },
  {
   "cell_type": "markdown",
   "id": "handy-classroom",
   "metadata": {},
   "source": [
    "```python\n",
    "python fibo.py <arguments>\n",
    "```\n",
    "모듈에 있는 코드는, 그것을 임포트할 때처럼 실행됩니다. 하지만 __name__ 은 \"__main__\" 로 설정됩니다. \n",
    "\n",
    "```python\n",
    "if __name__ == \"__main__\":\n",
    "    import sys\n",
    "    fib(int(sys.argv[1]))\n",
    "```\n",
    "파일을 임포트할 수 있는 모듈뿐만 아니라 스크립트로도 사용할 수 있도록 만들 수 있음을 의미하는데, 오직 모듈이 《메인》 파일로 실행될 때만 명령행을 파싱하는 코드가 실행되기 때문입니다:\n",
    "```python\n",
    "$ python fibo.py 50\n",
    "0 1 1 2 3 5 8 13 21 34\n",
    "```\n",
    "\n",
    "spam 이라는 이름의 모듈이 임포트될 때, 인터프리터는 먼저 그 이름의 내장 모듈을 찾습니다. 발견되지 않으면, 변수 sys.path 로 주어지는 디렉터리들에서 spam.py 라는 이름의 파일을 찾습니다. sys.path 는 이 위치들로 초기화됩니다:\n",
    "\n",
    " - 입력 스크립트를 포함하는 디렉터리 (또는 파일이 지정되지 않았을 때는 현재 디렉터리).\n",
    " - PYTHONPATH (디렉터리 이름들의 목록, 셸 변수 PATH 와 같은 문법).\n",
    " - 설치 의존적인 기본값\n",
    " \n",
    "#### 파이썬 컴파일\n",
    "\n",
    "모듈 로딩을 빠르게 하려고, 파이썬은 __pycache__ 디렉터리에 각 모듈의 컴파일된 버전을 module.version.pyc 라는 이름으로 캐싱합니다. version 은 컴파일된 파일의 형식을 지정합니다; 일반적으로 파이썬의 버전 번호를 포함합니다. 예를 들어, CPython 배포 3.3 에서 spam.py 의 컴파일된 버전은 __pycache__/spam.cpython-33.pyc 로 캐싱 됩니다. 이 명명법은 서로 다른 파이썬 배포와 버전의 컴파일된 모듈들이 공존할 수 있도록 합니다.\n",
    "\n",
    ".py 파일에서 읽을 때보다 .pyc 파일에서 읽을 때 프로그램이 더 빨리 실행되지는 않습니다; .pyc 파일에서 더 빨라지는 것은 로드되는 속도뿐입니다."
   ]
  },
  {
   "cell_type": "code",
   "execution_count": 66,
   "id": "rental-oakland",
   "metadata": {},
   "outputs": [
    {
     "data": {
      "text/plain": [
       "['__builtins__',\n",
       " '__cached__',\n",
       " '__doc__',\n",
       " '__file__',\n",
       " '__loader__',\n",
       " '__name__',\n",
       " '__package__',\n",
       " '__spec__',\n",
       " 'fib',\n",
       " 'fib2']"
      ]
     },
     "execution_count": 66,
     "metadata": {},
     "output_type": "execute_result"
    }
   ],
   "source": [
    "import fibo\n",
    "dir(fibo) #인자가 없으면, dir() 는 현재 정의한 이름들을 나열합니다:"
   ]
  },
  {
   "cell_type": "markdown",
   "id": "characteristic-sunrise",
   "metadata": {},
   "source": [
    " - dir() 은 내장 함수와 변수들의 이름을 나열하지 않습니다. 그것들의 목록을 원한다면, 표준 모듈 builtins 에 정의되어 있습니다:"
   ]
  },
  {
   "cell_type": "code",
   "execution_count": 20,
   "id": "harmful-incentive",
   "metadata": {},
   "outputs": [
    {
     "data": {
      "text/plain": [
       "['ArithmeticError',\n",
       " 'AssertionError',\n",
       " 'AttributeError',\n",
       " 'BaseException',\n",
       " 'BlockingIOError',\n",
       " 'BrokenPipeError',\n",
       " 'BufferError',\n",
       " 'BytesWarning',\n",
       " 'ChildProcessError',\n",
       " 'ConnectionAbortedError',\n",
       " 'ConnectionError',\n",
       " 'ConnectionRefusedError',\n",
       " 'ConnectionResetError',\n",
       " 'DeprecationWarning',\n",
       " 'EOFError',\n",
       " 'Ellipsis',\n",
       " 'EnvironmentError',\n",
       " 'Exception',\n",
       " 'False',\n",
       " 'FileExistsError',\n",
       " 'FileNotFoundError',\n",
       " 'FloatingPointError',\n",
       " 'FutureWarning',\n",
       " 'GeneratorExit',\n",
       " 'IOError',\n",
       " 'ImportError',\n",
       " 'ImportWarning',\n",
       " 'IndentationError',\n",
       " 'IndexError',\n",
       " 'InterruptedError',\n",
       " 'IsADirectoryError',\n",
       " 'KeyError',\n",
       " 'KeyboardInterrupt',\n",
       " 'LookupError',\n",
       " 'MemoryError',\n",
       " 'ModuleNotFoundError',\n",
       " 'NameError',\n",
       " 'None',\n",
       " 'NotADirectoryError',\n",
       " 'NotImplemented',\n",
       " 'NotImplementedError',\n",
       " 'OSError',\n",
       " 'OverflowError',\n",
       " 'PendingDeprecationWarning',\n",
       " 'PermissionError',\n",
       " 'ProcessLookupError',\n",
       " 'RecursionError',\n",
       " 'ReferenceError',\n",
       " 'ResourceWarning',\n",
       " 'RuntimeError',\n",
       " 'RuntimeWarning',\n",
       " 'StopAsyncIteration',\n",
       " 'StopIteration',\n",
       " 'SyntaxError',\n",
       " 'SyntaxWarning',\n",
       " 'SystemError',\n",
       " 'SystemExit',\n",
       " 'TabError',\n",
       " 'TimeoutError',\n",
       " 'True',\n",
       " 'TypeError',\n",
       " 'UnboundLocalError',\n",
       " 'UnicodeDecodeError',\n",
       " 'UnicodeEncodeError',\n",
       " 'UnicodeError',\n",
       " 'UnicodeTranslateError',\n",
       " 'UnicodeWarning',\n",
       " 'UserWarning',\n",
       " 'ValueError',\n",
       " 'Warning',\n",
       " 'WindowsError',\n",
       " 'ZeroDivisionError',\n",
       " '__IPYTHON__',\n",
       " '__build_class__',\n",
       " '__debug__',\n",
       " '__doc__',\n",
       " '__import__',\n",
       " '__loader__',\n",
       " '__name__',\n",
       " '__package__',\n",
       " '__spec__',\n",
       " 'abs',\n",
       " 'all',\n",
       " 'any',\n",
       " 'ascii',\n",
       " 'bin',\n",
       " 'bool',\n",
       " 'breakpoint',\n",
       " 'bytearray',\n",
       " 'bytes',\n",
       " 'callable',\n",
       " 'chr',\n",
       " 'classmethod',\n",
       " 'compile',\n",
       " 'complex',\n",
       " 'copyright',\n",
       " 'credits',\n",
       " 'delattr',\n",
       " 'dict',\n",
       " 'dir',\n",
       " 'display',\n",
       " 'divmod',\n",
       " 'enumerate',\n",
       " 'eval',\n",
       " 'exec',\n",
       " 'filter',\n",
       " 'float',\n",
       " 'format',\n",
       " 'frozenset',\n",
       " 'get_ipython',\n",
       " 'getattr',\n",
       " 'globals',\n",
       " 'hasattr',\n",
       " 'hash',\n",
       " 'help',\n",
       " 'hex',\n",
       " 'id',\n",
       " 'input',\n",
       " 'int',\n",
       " 'isinstance',\n",
       " 'issubclass',\n",
       " 'iter',\n",
       " 'len',\n",
       " 'license',\n",
       " 'list',\n",
       " 'locals',\n",
       " 'map',\n",
       " 'max',\n",
       " 'memoryview',\n",
       " 'min',\n",
       " 'next',\n",
       " 'object',\n",
       " 'oct',\n",
       " 'open',\n",
       " 'ord',\n",
       " 'pow',\n",
       " 'print',\n",
       " 'property',\n",
       " 'range',\n",
       " 'repr',\n",
       " 'reversed',\n",
       " 'round',\n",
       " 'set',\n",
       " 'setattr',\n",
       " 'slice',\n",
       " 'sorted',\n",
       " 'staticmethod',\n",
       " 'str',\n",
       " 'sum',\n",
       " 'super',\n",
       " 'tuple',\n",
       " 'type',\n",
       " 'vars',\n",
       " 'zip']"
      ]
     },
     "execution_count": 20,
     "metadata": {},
     "output_type": "execute_result"
    }
   ],
   "source": [
    "import builtins\n",
    "dir(builtins)"
   ]
  },
  {
   "cell_type": "markdown",
   "id": "thirty-taste",
   "metadata": {},
   "source": [
    "## - 패키지"
   ]
  },
  {
   "cell_type": "markdown",
   "id": "heavy-edinburgh",
   "metadata": {},
   "source": [
    "`from package import item` 를 사용할 때, item은 패키지의 서브 모듈 (또는 서브 패키지)일 수도 있고 함수, 클래스, 변수 등 패키지에 정의된 다른 이름들일 수도 있음에 유의하세요. import 문은 먼저 item이 패키지에 정의되어 있는지 검사하고, 그렇지 않으면 모듈이라고 가정하고 로드를 시도합니다. 찾지 못한다면, ImportError 예외를 일으킵니다.\n",
    "\n",
    "이에 반하여, `import item.subitem.subsubitem` 와 같은 문법을 사용할 때, 마지막 것을 제외한 각 항목은 반드시 패키지여야 합니다; 마지막 항목은 모듈이나 패키지가 될 수 있지만, 앞의 항목에서 정의된 클래스, 함수, 변수 등이 될 수는 없습니다."
   ]
  },
  {
   "cell_type": "code",
   "execution_count": 223,
   "id": "pursuant-jersey",
   "metadata": {
    "tags": []
   },
   "outputs": [],
   "source": [
    "from mypac import util_before_all"
   ]
  },
  {
   "cell_type": "code",
   "execution_count": 224,
   "id": "violent-belfast",
   "metadata": {},
   "outputs": [
    {
     "data": {
      "text/plain": [
       "['__builtins__',\n",
       " '__cached__',\n",
       " '__doc__',\n",
       " '__file__',\n",
       " '__loader__',\n",
       " '__name__',\n",
       " '__package__',\n",
       " '__path__',\n",
       " '__spec__']"
      ]
     },
     "execution_count": 224,
     "metadata": {},
     "output_type": "execute_result"
    }
   ],
   "source": [
    "dir(util_before_all)"
   ]
  },
  {
   "cell_type": "code",
   "execution_count": 225,
   "id": "egyptian-ultimate",
   "metadata": {},
   "outputs": [
    {
     "ename": "AttributeError",
     "evalue": "module 'mypac.util_before_all' has no attribute 'calc'",
     "output_type": "error",
     "traceback": [
      "\u001b[1;31m---------------------------------------------------------------------------\u001b[0m",
      "\u001b[1;31mAttributeError\u001b[0m                            Traceback (most recent call last)",
      "\u001b[1;32m<ipython-input-225-4418125e290a>\u001b[0m in \u001b[0;36m<module>\u001b[1;34m\u001b[0m\n\u001b[1;32m----> 1\u001b[1;33m \u001b[0mutil_before_all\u001b[0m\u001b[1;33m.\u001b[0m\u001b[0mcalc\u001b[0m\u001b[1;33m.\u001b[0m\u001b[0madd\u001b[0m\u001b[1;33m(\u001b[0m\u001b[1;36m100\u001b[0m\u001b[1;33m,\u001b[0m \u001b[1;36m200\u001b[0m\u001b[1;33m)\u001b[0m\u001b[1;33m\u001b[0m\u001b[1;33m\u001b[0m\u001b[0m\n\u001b[0m",
      "\u001b[1;31mAttributeError\u001b[0m: module 'mypac.util_before_all' has no attribute 'calc'"
     ]
    }
   ],
   "source": [
    "util_before_all.calc.add(100, 200)"
   ]
  },
  {
   "cell_type": "code",
   "execution_count": 226,
   "id": "geographic-vaccine",
   "metadata": {},
   "outputs": [],
   "source": [
    "from mypac import util"
   ]
  },
  {
   "cell_type": "code",
   "execution_count": 227,
   "id": "lined-satellite",
   "metadata": {},
   "outputs": [
    {
     "data": {
      "text/plain": [
       "['__all__',\n",
       " '__builtins__',\n",
       " '__cached__',\n",
       " '__doc__',\n",
       " '__file__',\n",
       " '__loader__',\n",
       " '__name__',\n",
       " '__package__',\n",
       " '__path__',\n",
       " '__spec__']"
      ]
     },
     "execution_count": 227,
     "metadata": {},
     "output_type": "execute_result"
    }
   ],
   "source": [
    "dir(util)"
   ]
  },
  {
   "cell_type": "code",
   "execution_count": 228,
   "id": "unsigned-japan",
   "metadata": {},
   "outputs": [
    {
     "ename": "AttributeError",
     "evalue": "module 'mypac.util' has no attribute 'calc'",
     "output_type": "error",
     "traceback": [
      "\u001b[1;31m---------------------------------------------------------------------------\u001b[0m",
      "\u001b[1;31mAttributeError\u001b[0m                            Traceback (most recent call last)",
      "\u001b[1;32m<ipython-input-228-9b512aa3f1d7>\u001b[0m in \u001b[0;36m<module>\u001b[1;34m\u001b[0m\n\u001b[1;32m----> 1\u001b[1;33m \u001b[0mutil\u001b[0m\u001b[1;33m.\u001b[0m\u001b[0mcalc\u001b[0m\u001b[1;33m.\u001b[0m\u001b[0madd\u001b[0m\u001b[1;33m(\u001b[0m\u001b[1;36m100\u001b[0m\u001b[1;33m,\u001b[0m\u001b[1;36m200\u001b[0m\u001b[1;33m,\u001b[0m\u001b[1;36m300\u001b[0m\u001b[1;33m,\u001b[0m\u001b[1;36m400\u001b[0m\u001b[1;33m)\u001b[0m\u001b[1;33m\u001b[0m\u001b[1;33m\u001b[0m\u001b[0m\n\u001b[0m",
      "\u001b[1;31mAttributeError\u001b[0m: module 'mypac.util' has no attribute 'calc'"
     ]
    }
   ],
   "source": [
    "util.calc.add(100,200,300,400)"
   ]
  },
  {
   "cell_type": "code",
   "execution_count": 229,
   "id": "ethical-browse",
   "metadata": {},
   "outputs": [],
   "source": [
    "from mypac.util import *"
   ]
  },
  {
   "cell_type": "code",
   "execution_count": 230,
   "id": "solar-express",
   "metadata": {},
   "outputs": [
    {
     "data": {
      "text/plain": [
       "['__all__',\n",
       " '__builtins__',\n",
       " '__cached__',\n",
       " '__doc__',\n",
       " '__file__',\n",
       " '__loader__',\n",
       " '__name__',\n",
       " '__package__',\n",
       " '__path__',\n",
       " '__spec__',\n",
       " 'calc',\n",
       " 'stream']"
      ]
     },
     "execution_count": 230,
     "metadata": {},
     "output_type": "execute_result"
    }
   ],
   "source": [
    "dir(util)"
   ]
  },
  {
   "cell_type": "code",
   "execution_count": 231,
   "id": "prescribed-nothing",
   "metadata": {},
   "outputs": [
    {
     "name": "stdout",
     "output_type": "stream",
     "text": [
      "True\n",
      "True\n",
      "False\n"
     ]
    }
   ],
   "source": [
    "print('calc' in dir())\n",
    "print('stream' in dir())\n",
    "print('of' in dir())"
   ]
  },
  {
   "cell_type": "code",
   "execution_count": 232,
   "id": "fixed-category",
   "metadata": {},
   "outputs": [
    {
     "data": {
      "text/plain": [
       "600"
      ]
     },
     "execution_count": 232,
     "metadata": {},
     "output_type": "execute_result"
    }
   ],
   "source": [
    "calc.add(100,200,300)"
   ]
  },
  {
   "cell_type": "code",
   "execution_count": 233,
   "id": "qualified-preservation",
   "metadata": {},
   "outputs": [
    {
     "data": {
      "text/plain": [
       "550"
      ]
     },
     "execution_count": 233,
     "metadata": {},
     "output_type": "execute_result"
    }
   ],
   "source": [
    "from mypac.util.stream import values\n",
    "stream.of(values(1,2,3,4,5,6,7,8,9,10),\n",
    "   mapping = lambda x : x * 10,\n",
    "   filtering = lambda x : x % 2 == 0,\n",
    "   reducing = lambda x, y : x + y)"
   ]
  },
  {
   "cell_type": "code",
   "execution_count": 235,
   "id": "imported-hamilton",
   "metadata": {},
   "outputs": [
    {
     "data": {
      "text/plain": [
       "['__builtins__',\n",
       " '__cached__',\n",
       " '__doc__',\n",
       " '__file__',\n",
       " '__loader__',\n",
       " '__name__',\n",
       " '__package__',\n",
       " '__spec__',\n",
       " 'deque',\n",
       " 'of',\n",
       " 'reduce',\n",
       " 'values',\n",
       " 'verboseOf']"
      ]
     },
     "execution_count": 235,
     "metadata": {},
     "output_type": "execute_result"
    }
   ],
   "source": [
    "dir(stream)"
   ]
  },
  {
   "cell_type": "code",
   "execution_count": 236,
   "id": "returning-tower",
   "metadata": {},
   "outputs": [
    {
     "data": {
      "text/plain": [
       "550"
      ]
     },
     "execution_count": 236,
     "metadata": {},
     "output_type": "execute_result"
    }
   ],
   "source": [
    "from mypac.util.stream import *\n",
    "\n",
    "\n",
    "of(values(1,2,3,4,5,6,7,8,9,10),\n",
    "   mapping = lambda x : x * 10,\n",
    "   filtering = lambda x : x % 2 == 0,\n",
    "   reducing = lambda x, y : x + y)"
   ]
  },
  {
   "cell_type": "code",
   "execution_count": 237,
   "id": "adjustable-valentine",
   "metadata": {},
   "outputs": [
    {
     "name": "stdout",
     "output_type": "stream",
     "text": [
      "Parsing Target :  (1, 2, 3, 4, 5, 6, 7, 8, 9, 10)\n",
      "Parsing Steps :  deque([<function <lambda> at 0x000001FC922DE550>, <function <lambda> at 0x000001FC922DE280>, <function <lambda> at 0x000001FC922DE3A0>])\n",
      "Mapping Steps :  <function <lambda> at 0x000001FC922DE550>\n",
      "Mapping After:  [10, 20, 30, 40, 50, 60, 70, 80, 90, 100]\n",
      "Filtering Steps :  <function <lambda> at 0x000001FC922DE280>\n",
      "Filtering After:  <filter object at 0x000001FC922F4130>\n",
      "Reducing Steps :  <function <lambda> at 0x000001FC922DE3A0>\n",
      "Reducing After:  550\n",
      "Result :  550\n"
     ]
    },
    {
     "data": {
      "text/plain": [
       "550"
      ]
     },
     "execution_count": 237,
     "metadata": {},
     "output_type": "execute_result"
    }
   ],
   "source": [
    "verboseOf(values(1,2,3,4,5,6,7,8,9,10),\n",
    "   mapping = lambda x : x * 10,\n",
    "   filtering = lambda x : x % 2 == 0,\n",
    "   reducing = lambda x, y : x + y)"
   ]
  },
  {
   "cell_type": "markdown",
   "id": "functional-savage",
   "metadata": {},
   "source": [
    "<br>\n",
    "<br>\n",
    "<br>\n",
    "<br>\n",
    "<br>\n",
    "<br>\n",
    "<hr>\n",
    "<br>\n",
    "<br>\n",
    "<br>\n",
    "<br>\n",
    "<br>\n",
    "<br>"
   ]
  },
  {
   "cell_type": "markdown",
   "id": "promising-lunch",
   "metadata": {},
   "source": [
    "## - 메타 클래스"
   ]
  },
  {
   "cell_type": "markdown",
   "id": "enhanced-commercial",
   "metadata": {},
   "source": [
    "Meta Class 클래스를 만드는 클래스입니다."
   ]
  },
  {
   "cell_type": "markdown",
   "id": "removable-processor",
   "metadata": {},
   "source": [
    "### * type을 사용하여 동적으로 클래스 생성"
   ]
  },
  {
   "cell_type": "markdown",
   "id": "equal-terry",
   "metadata": {},
   "source": [
    "클래스 = type(\"클래스이름\", Tuple:부모클래스, Dict:속성과 메서드)\n",
    "\n",
    "```python\n",
    "Calc = type(\"Calculator\", (), {})\n",
    "```"
   ]
  },
  {
   "cell_type": "code",
   "execution_count": 196,
   "id": "prompt-missile",
   "metadata": {},
   "outputs": [],
   "source": [
    "property_and_method = dict(\n",
    "    name = \"계산기\",\n",
    "    add = lambda self, x, y : x + y,\n",
    "    mul = lambda self, x, y : x * y\n",
    ")\n",
    "\n",
    "Calc = type(\"Calculator\", (), property_and_method)"
   ]
  },
  {
   "cell_type": "code",
   "execution_count": 197,
   "id": "heard-field",
   "metadata": {},
   "outputs": [
    {
     "data": {
      "text/plain": [
       "__main__.Calculator"
      ]
     },
     "execution_count": 197,
     "metadata": {},
     "output_type": "execute_result"
    }
   ],
   "source": [
    "Calc"
   ]
  },
  {
   "cell_type": "code",
   "execution_count": 198,
   "id": "continental-beijing",
   "metadata": {},
   "outputs": [
    {
     "name": "stdout",
     "output_type": "stream",
     "text": [
      "Help on class Calculator in module __main__:\n",
      "\n",
      "class Calculator(builtins.object)\n",
      " |  Methods defined here:\n",
      " |  \n",
      " |  add lambda self, x, y\n",
      " |  \n",
      " |  mul lambda self, x, y\n",
      " |  \n",
      " |  ----------------------------------------------------------------------\n",
      " |  Data descriptors defined here:\n",
      " |  \n",
      " |  __dict__\n",
      " |      dictionary for instance variables (if defined)\n",
      " |  \n",
      " |  __weakref__\n",
      " |      list of weak references to the object (if defined)\n",
      " |  \n",
      " |  ----------------------------------------------------------------------\n",
      " |  Data and other attributes defined here:\n",
      " |  \n",
      " |  name = '계산기'\n",
      "\n"
     ]
    }
   ],
   "source": [
    "help(Calc)"
   ]
  },
  {
   "cell_type": "code",
   "execution_count": 200,
   "id": "harmful-panama",
   "metadata": {},
   "outputs": [
    {
     "data": {
      "text/plain": [
       "30"
      ]
     },
     "execution_count": 200,
     "metadata": {},
     "output_type": "execute_result"
    }
   ],
   "source": [
    "Calc().add(10, 20)"
   ]
  },
  {
   "cell_type": "code",
   "execution_count": 275,
   "id": "interesting-alpha",
   "metadata": {},
   "outputs": [
    {
     "data": {
      "text/plain": [
       "200"
      ]
     },
     "execution_count": 275,
     "metadata": {},
     "output_type": "execute_result"
    }
   ],
   "source": [
    "Calc().mul(10,20)"
   ]
  },
  {
   "cell_type": "code",
   "execution_count": 286,
   "id": "further-campbell",
   "metadata": {},
   "outputs": [
    {
     "name": "stdout",
     "output_type": "stream",
     "text": [
      "[1, 2, 3, 4, 5, 6, 7, 8, 9, 10]\n"
     ]
    },
    {
     "data": {
      "text/plain": [
       "[2, 4, 6, 8, 10]"
      ]
     },
     "execution_count": 286,
     "metadata": {},
     "output_type": "execute_result"
    }
   ],
   "source": [
    "mylist = type(\"MyList\", (list,), {\n",
    "    \"info\" : lambda self : print(self),\n",
    "    \"even\" : lambda self : [num for num in self if num % 2 == 0]\n",
    "})\n",
    "added_list = mylist([1, 2, 3, 4, 5, 6, 7, 8, 9, 10])\n",
    "added_list.info()\n",
    "added_list.even()"
   ]
  },
  {
   "cell_type": "markdown",
   "id": "palestinian-trademark",
   "metadata": {},
   "source": [
    "### *  `__new__`"
   ]
  },
  {
   "cell_type": "markdown",
   "id": "composed-spirit",
   "metadata": {},
   "source": [
    "`__init__`보다 먼저 호출되는 함수.\n",
    "\n",
    "`__new__`를 이용해서 인스턴스를 먼저 생성한 다음 `__init__`을 통해 인스턴스에 값을 넣는다."
   ]
  },
  {
   "cell_type": "code",
   "execution_count": 308,
   "id": "about-memphis",
   "metadata": {},
   "outputs": [],
   "source": [
    "class Student:\n",
    "    def __new__(cls):\n",
    "        print('__new__가 호출되었습니다')\n",
    "    \n",
    "    def __init__(self):\n",
    "        print('__init__가 호출되었습니다')\n",
    "    \n",
    "    def study(self):\n",
    "        print(\"A student is studying\")"
   ]
  },
  {
   "cell_type": "code",
   "execution_count": 309,
   "id": "flexible-german",
   "metadata": {},
   "outputs": [
    {
     "name": "stdout",
     "output_type": "stream",
     "text": [
      "__new__가 호출되었습니다\n"
     ]
    }
   ],
   "source": [
    "stu = Student()"
   ]
  },
  {
   "cell_type": "code",
   "execution_count": 310,
   "id": "quarterly-fiber",
   "metadata": {},
   "outputs": [],
   "source": [
    "stu"
   ]
  },
  {
   "cell_type": "code",
   "execution_count": 311,
   "id": "engaging-kitchen",
   "metadata": {},
   "outputs": [
    {
     "ename": "AttributeError",
     "evalue": "'NoneType' object has no attribute 'study'",
     "output_type": "error",
     "traceback": [
      "\u001b[1;31m---------------------------------------------------------------------------\u001b[0m",
      "\u001b[1;31mAttributeError\u001b[0m                            Traceback (most recent call last)",
      "\u001b[1;32m<ipython-input-311-0638f564c4e9>\u001b[0m in \u001b[0;36m<module>\u001b[1;34m\u001b[0m\n\u001b[1;32m----> 1\u001b[1;33m \u001b[0mstu\u001b[0m\u001b[1;33m.\u001b[0m\u001b[0mstudy\u001b[0m\u001b[1;33m(\u001b[0m\u001b[1;33m)\u001b[0m\u001b[1;33m\u001b[0m\u001b[1;33m\u001b[0m\u001b[0m\n\u001b[0m",
      "\u001b[1;31mAttributeError\u001b[0m: 'NoneType' object has no attribute 'study'"
     ]
    }
   ],
   "source": [
    "stu.study()"
   ]
  },
  {
   "cell_type": "code",
   "execution_count": 313,
   "id": "infectious-force",
   "metadata": {},
   "outputs": [
    {
     "data": {
      "text/plain": [
       "NoneType"
      ]
     },
     "execution_count": 313,
     "metadata": {},
     "output_type": "execute_result"
    }
   ],
   "source": [
    "type(stu)"
   ]
  },
  {
   "cell_type": "markdown",
   "id": "unsigned-tobago",
   "metadata": {},
   "source": [
    "위 코드를 보면 알 수 있듯이 현재 `__new__`가 실행되어 인스턴스는 생성되었지만 인스턴스에 대한 정보가 아무것도 없다"
   ]
  },
  {
   "cell_type": "code",
   "execution_count": 314,
   "id": "scientific-native",
   "metadata": {},
   "outputs": [],
   "source": [
    "class Student:\n",
    "    def __new__(cls):\n",
    "        print('__new__가 호출되었습니다')\n",
    "        student = object.__new__(cls)\n",
    "        return student\n",
    "    \n",
    "    def __init__(self):\n",
    "        print('__init__가 호출되었습니다')\n",
    "    \n",
    "    def study(self):\n",
    "        print(\"A student is studying\")"
   ]
  },
  {
   "cell_type": "code",
   "execution_count": 315,
   "id": "offshore-burlington",
   "metadata": {},
   "outputs": [
    {
     "name": "stdout",
     "output_type": "stream",
     "text": [
      "__new__가 호출되었습니다\n",
      "__init__가 호출되었습니다\n"
     ]
    }
   ],
   "source": [
    "stu = Student()"
   ]
  },
  {
   "cell_type": "code",
   "execution_count": 316,
   "id": "demographic-donna",
   "metadata": {},
   "outputs": [
    {
     "data": {
      "text/plain": [
       "<__main__.Student at 0x1fc922f47f0>"
      ]
     },
     "execution_count": 316,
     "metadata": {},
     "output_type": "execute_result"
    }
   ],
   "source": [
    "stu"
   ]
  },
  {
   "cell_type": "code",
   "execution_count": 317,
   "id": "frank-touch",
   "metadata": {},
   "outputs": [
    {
     "name": "stdout",
     "output_type": "stream",
     "text": [
      "A student is studying\n"
     ]
    }
   ],
   "source": [
    "stu.study()"
   ]
  },
  {
   "cell_type": "code",
   "execution_count": 325,
   "id": "leading-ending",
   "metadata": {},
   "outputs": [
    {
     "data": {
      "text/plain": [
       "__main__.Student"
      ]
     },
     "execution_count": 325,
     "metadata": {},
     "output_type": "execute_result"
    }
   ],
   "source": [
    "type(stu)"
   ]
  },
  {
   "cell_type": "markdown",
   "id": "comprehensive-given",
   "metadata": {},
   "source": [
    " - `__new__`에 대한 오버라이딩의 목적은 클래스를 커스텀마이징하거나 클래스 생성 등에 대한 핸들링 등이 있다"
   ]
  },
  {
   "cell_type": "code",
   "execution_count": 338,
   "id": "beautiful-adelaide",
   "metadata": {},
   "outputs": [
    {
     "name": "stdout",
     "output_type": "stream",
     "text": [
      "3\n",
      "[]\n",
      "3\n",
      "[<__main__.LimitedInstances object at 0x000001FC922F4670>]\n",
      "3\n",
      "[<__main__.LimitedInstances object at 0x000001FC922F4670>, <__main__.LimitedInstances object at 0x000001FC922F4850>]\n",
      "3\n",
      "[<__main__.LimitedInstances object at 0x000001FC922F4670>, <__main__.LimitedInstances object at 0x000001FC922F4850>, <__main__.LimitedInstances object at 0x000001FC922F4C70>]\n"
     ]
    },
    {
     "ename": "RuntimeError",
     "evalue": "Count not create instance. Limit 3 reached",
     "output_type": "error",
     "traceback": [
      "\u001b[1;31m---------------------------------------------------------------------------\u001b[0m",
      "\u001b[1;31mRuntimeError\u001b[0m                              Traceback (most recent call last)",
      "\u001b[1;32m<ipython-input-338-4dbdad47afda>\u001b[0m in \u001b[0;36m<module>\u001b[1;34m\u001b[0m\n\u001b[0;32m     18\u001b[0m \u001b[0mLimitedInstances\u001b[0m\u001b[1;33m(\u001b[0m\u001b[1;33m)\u001b[0m\u001b[1;33m\u001b[0m\u001b[1;33m\u001b[0m\u001b[0m\n\u001b[0;32m     19\u001b[0m \u001b[0mLimitedInstances\u001b[0m\u001b[1;33m(\u001b[0m\u001b[1;33m)\u001b[0m\u001b[1;33m\u001b[0m\u001b[1;33m\u001b[0m\u001b[0m\n\u001b[1;32m---> 20\u001b[1;33m \u001b[0mLimitedInstances\u001b[0m\u001b[1;33m(\u001b[0m\u001b[1;33m)\u001b[0m\u001b[1;33m\u001b[0m\u001b[1;33m\u001b[0m\u001b[0m\n\u001b[0m",
      "\u001b[1;32m<ipython-input-338-4dbdad47afda>\u001b[0m in \u001b[0;36m__new__\u001b[1;34m(cls, *args, **kwargs)\u001b[0m\n\u001b[0;32m      6\u001b[0m         \u001b[0mprint\u001b[0m\u001b[1;33m(\u001b[0m\u001b[0mcls\u001b[0m\u001b[1;33m.\u001b[0m\u001b[0m_instances\u001b[0m\u001b[1;33m)\u001b[0m\u001b[1;33m\u001b[0m\u001b[1;33m\u001b[0m\u001b[0m\n\u001b[0;32m      7\u001b[0m         \u001b[1;32mif\u001b[0m \u001b[1;32mnot\u001b[0m \u001b[0mlen\u001b[0m\u001b[1;33m(\u001b[0m\u001b[0mcls\u001b[0m\u001b[1;33m.\u001b[0m\u001b[0m_instances\u001b[0m\u001b[1;33m)\u001b[0m \u001b[1;33m<\u001b[0m \u001b[0mcls\u001b[0m\u001b[1;33m.\u001b[0m\u001b[0mlimit\u001b[0m\u001b[1;33m:\u001b[0m\u001b[1;33m\u001b[0m\u001b[1;33m\u001b[0m\u001b[0m\n\u001b[1;32m----> 8\u001b[1;33m             \u001b[1;32mraise\u001b[0m \u001b[0mRuntimeError\u001b[0m\u001b[1;33m(\u001b[0m\u001b[1;34m\"Count not create instance. Limit {} reached\"\u001b[0m\u001b[1;33m.\u001b[0m\u001b[0mformat\u001b[0m\u001b[1;33m(\u001b[0m\u001b[0mcls\u001b[0m\u001b[1;33m.\u001b[0m\u001b[0mlimit\u001b[0m\u001b[1;33m)\u001b[0m\u001b[1;33m)\u001b[0m\u001b[1;33m\u001b[0m\u001b[1;33m\u001b[0m\u001b[0m\n\u001b[0m\u001b[0;32m      9\u001b[0m         \u001b[0minstance\u001b[0m \u001b[1;33m=\u001b[0m \u001b[0mobject\u001b[0m\u001b[1;33m.\u001b[0m\u001b[0m__new__\u001b[0m\u001b[1;33m(\u001b[0m\u001b[0mcls\u001b[0m\u001b[1;33m,\u001b[0m \u001b[1;33m*\u001b[0m\u001b[0margs\u001b[0m\u001b[1;33m,\u001b[0m \u001b[1;33m**\u001b[0m\u001b[0mkwargs\u001b[0m\u001b[1;33m)\u001b[0m\u001b[1;33m\u001b[0m\u001b[1;33m\u001b[0m\u001b[0m\n\u001b[0;32m     10\u001b[0m         \u001b[0mcls\u001b[0m\u001b[1;33m.\u001b[0m\u001b[0m_instances\u001b[0m\u001b[1;33m.\u001b[0m\u001b[0mappend\u001b[0m\u001b[1;33m(\u001b[0m\u001b[0minstance\u001b[0m\u001b[1;33m)\u001b[0m\u001b[1;33m\u001b[0m\u001b[1;33m\u001b[0m\u001b[0m\n",
      "\u001b[1;31mRuntimeError\u001b[0m: Count not create instance. Limit 3 reached"
     ]
    }
   ],
   "source": [
    "class LimitedInstances():\n",
    "    _instances = []  # Keep track of instance reference\n",
    "    limit = 3\n",
    "    def __new__(cls, *args, **kwargs):\n",
    "        print(cls.limit)\n",
    "        print(cls._instances)\n",
    "        if not len(cls._instances) < cls.limit:\n",
    "            raise RuntimeError(\"Count not create instance. Limit {} reached\".format(cls.limit))\n",
    "        instance = object.__new__(cls, *args, **kwargs)\n",
    "        cls._instances.append(instance)\n",
    "        return instance\n",
    "    \n",
    "    def __del__(self):\n",
    "        # Remove instance from _instances\n",
    "        self._instance.remove(self)\n",
    "\n",
    "a = LimitedInstances()\n",
    "LimitedInstances()\n",
    "LimitedInstances()\n",
    "LimitedInstances()"
   ]
  },
  {
   "cell_type": "code",
   "execution_count": 339,
   "id": "spiritual-barrier",
   "metadata": {},
   "outputs": [
    {
     "data": {
      "text/plain": [
       "3"
      ]
     },
     "execution_count": 339,
     "metadata": {},
     "output_type": "execute_result"
    }
   ],
   "source": [
    "a.limit"
   ]
  },
  {
   "cell_type": "code",
   "execution_count": 379,
   "id": "republican-malpractice",
   "metadata": {},
   "outputs": [
    {
     "data": {
      "text/plain": [
       "[<__main__.LimitedInstances at 0x1fc922f4670>,\n",
       " <__main__.LimitedInstances at 0x1fc922f4850>,\n",
       " <__main__.LimitedInstances at 0x1fc922f4c70>]"
      ]
     },
     "execution_count": 379,
     "metadata": {},
     "output_type": "execute_result"
    }
   ],
   "source": [
    "a._instances #__instances라고 선언해야됨"
   ]
  },
  {
   "cell_type": "markdown",
   "id": "chubby-executive",
   "metadata": {},
   "source": [
    "### * `__call__`"
   ]
  },
  {
   "cell_type": "markdown",
   "id": "imperial-kruger",
   "metadata": {},
   "source": [
    "`__new__`가 클래스 인스턴스를 생성해 메모리에 할당하고\n",
    "\n",
    "`__init__`이 인스턴스에 값들을 넣고 초기화하한다면\n",
    "\n",
    "`__call__`함수는 인스턴스가 실행될 때 호출되는 함수다.\n",
    "\n",
    "`__new__` ==> `__init__` ==> `__call__`"
   ]
  },
  {
   "cell_type": "code",
   "execution_count": 373,
   "id": "cutting-elements",
   "metadata": {},
   "outputs": [
    {
     "name": "stdout",
     "output_type": "stream",
     "text": [
      "11\n"
     ]
    },
    {
     "data": {
      "text/plain": [
       "['H', 'e', 'l', 'l', 'o', ' ', 'W', 'o', 'r', 'l', 'd']"
      ]
     },
     "execution_count": 373,
     "metadata": {},
     "output_type": "execute_result"
    }
   ],
   "source": [
    "class MyClass:\n",
    "    def __init__(self,msg):\n",
    "        self.__msg = msg\n",
    "        \n",
    "    def __call__(self):\n",
    "        print(len(self.__msg))\n",
    "        return [s for s in self.__msg]\n",
    "    \n",
    "mine = MyClass(\"Hello World\")\n",
    "mine()"
   ]
  },
  {
   "cell_type": "markdown",
   "id": "steady-planning",
   "metadata": {},
   "source": [
    "### * type을 상속받아 클래스를 만드는 클래스인 메타클래스가 구현하는 방식을 정하기"
   ]
  },
  {
   "cell_type": "markdown",
   "id": "cosmetic-official",
   "metadata": {},
   "source": [
    "```python\n",
    "class MetaClassName(type):\n",
    "    def __new__(metacls, name, bases, namespace):\n",
    "        #Statement\n",
    "```"
   ]
  },
  {
   "cell_type": "code",
   "execution_count": 378,
   "id": "extra-synthetic",
   "metadata": {},
   "outputs": [
    {
     "name": "stdout",
     "output_type": "stream",
     "text": [
      "55\n"
     ]
    }
   ],
   "source": [
    "class MakeCalc(type):\n",
    "    def __new__(matacls, name, bases, namespace):\n",
    "        namespace[\"add\"] = lambda self, *args : sum(args)\n",
    "        return type.__new__(matacls, name, bases, namespace)\n",
    "\n",
    "Calc = MakeCalc(\"Calculator\",(),{})\n",
    "c = Calc()\n",
    "print(c.add(1,2,3,4,5,6,7,8,9,10))"
   ]
  },
  {
   "cell_type": "markdown",
   "id": "concerned-statistics",
   "metadata": {},
   "source": [
    " - 활용 CASE : 싱글톤(Singleton)"
   ]
  },
  {
   "cell_type": "code",
   "execution_count": 384,
   "id": "confused-commodity",
   "metadata": {},
   "outputs": [
    {
     "name": "stdout",
     "output_type": "stream",
     "text": [
      "True\n",
      "Hello : Hello\n",
      "Hello World : Hello World\n"
     ]
    }
   ],
   "source": [
    "class Singleton(type):\n",
    "    __instances = {}\n",
    "    def __call__(cls, *args, **kwargs):\n",
    "        if cls not in cls.__instances:\n",
    "            cls.__instances[cls] = super().__call__(*args, **kwargs)\n",
    "        return cls.__instances[cls]\n",
    "    \n",
    "class Hello(metaclass=Singleton):\n",
    "    def __init__(self):\n",
    "        self.desc = \"Hello\"\n",
    "\n",
    "a = Hello()\n",
    "b = Hello()\n",
    "print(a is b)\n",
    "\n",
    "print(a.desc, \":\" ,b.desc)\n",
    "a.desc = \"Hello World\"\n",
    "print(a.desc, \":\" ,b.desc)"
   ]
  },
  {
   "cell_type": "markdown",
   "id": "dated-leadership",
   "metadata": {},
   "source": [
    " - 메타클래스와 new, init, call의 관계를 정리하자면 아래와 같다\n",
    " - `obj` == `MyClass()` == `(MyMetaClass())()`"
   ]
  },
  {
   "cell_type": "code",
   "execution_count": 355,
   "id": "primary-partition",
   "metadata": {},
   "outputs": [
    {
     "name": "stdout",
     "output_type": "stream",
     "text": [
      "MyMetaClass   __new__\n",
      "MyMetaClass   __init__\n",
      "====================\n",
      "MyMetaClass   __call__\n",
      "__new__가 호출되었습니다\n",
      "__init__가 호출되었습니다\n",
      "hello world\n",
      "__call__가 호출되었습니다\n"
     ]
    }
   ],
   "source": [
    "class MyMetaClass(type):\n",
    "    def __new__(cls, *args, **kwargs):\n",
    "        print(\"MyMetaClass   __new__\")\n",
    "        return super().__new__(cls,*args,**kwargs)\n",
    "    \n",
    "    def __init__(cls, *args, **kwargs):\n",
    "        print(\"MyMetaClass   __init__\")\n",
    "        return super().__init__(*args,**kwargs)  \n",
    "    \n",
    "    def __call__(cls, *args, **kwargs):\n",
    "        print(\"MyMetaClass   __call__\")\n",
    "        return super().__call__(*args,**kwargs)\n",
    "    \n",
    "class MyClass(metaclass=MyMetaClass):\n",
    "    def __new__(cls,*args, **kwargs):\n",
    "        print('__new__가 호출되었습니다')\n",
    "        mycls = object.__new__(cls,*args, **kwargs)\n",
    "        return mycls\n",
    "    \n",
    "    def __init__(self):\n",
    "        print('__init__가 호출되었습니다')\n",
    "    \n",
    "    def __call__(self):\n",
    "        print('__call__가 호출되었습니다')\n",
    "        \n",
    "    def hello(self):\n",
    "        print(\"hello world\")\n",
    "        \n",
    "print(\"=\"*20)\n",
    "obj = MyClass()\n",
    "obj.hello()\n",
    "obj()"
   ]
  },
  {
   "cell_type": "markdown",
   "id": "joint-heart",
   "metadata": {},
   "source": [
    "## - 연산자 오버로딩(Overloading)"
   ]
  },
  {
   "cell_type": "markdown",
   "id": "organized-validation",
   "metadata": {},
   "source": [
    "- `__add__(self, other)` : 이항 + 연산자(A + B, A += B)<br>\n",
    "- `__sub__(self, other)` : 이항 - 연산자(A - B, A -= B)<br>\n",
    "- `__mul__(self, other)` : 이항 * 연산자(A * B, A *= B)<br>\n",
    "- `__truediv__(self, other)` : 이항 / 연산자(A / B, A /= B)<br>\n",
    "- `__floordiv__(self, other)` : 이항 // 연산자(A // B, A //= B)<br>\n",
    "- `__mod__(self, other)` : 이항 % 연산자(A % B, A %= B)<br>\n",
    "- `__pow__(self, other)` : 이항 연산자(A B, pow(A, B))<br>\n",
    "- `__lshift__(self, other)` : 이항 << 연산자(A << B, A <<= B)<br>\n",
    "- `__rshift__(self, other)` : 이항 >> 연산자(A >> B, A >>= B)<br>\n",
    "- `__and__(self, other)` : 이항 & 연산자(A & B, A &= B)<br>\n",
    "- `__xor__(self, other)` : 이항 ^ 연산자(A ^ B, A ^= B)<br>\n",
    "- `__or__(self, other)` : 이항 | 연산자(A | B, A |= B)<br>\n",
    "- `__not__(self)` : 단항 ~ 연산자(~A)<br>\n",
    "- `__abs__(self)` : 단항 절대값 연산자(abs(A))<br>"
   ]
  },
  {
   "cell_type": "code",
   "execution_count": 385,
   "id": "asian-xerox",
   "metadata": {},
   "outputs": [
    {
     "ename": "TypeError",
     "evalue": "unsupported operand type(s) for +: 'NumBox' and 'int'",
     "output_type": "error",
     "traceback": [
      "\u001b[1;31m---------------------------------------------------------------------------\u001b[0m",
      "\u001b[1;31mTypeError\u001b[0m                                 Traceback (most recent call last)",
      "\u001b[1;32m<ipython-input-385-a3590ebb7306>\u001b[0m in \u001b[0;36m<module>\u001b[1;34m\u001b[0m\n\u001b[0;32m      5\u001b[0m \u001b[1;33m\u001b[0m\u001b[0m\n\u001b[0;32m      6\u001b[0m \u001b[0mn\u001b[0m \u001b[1;33m=\u001b[0m \u001b[0mNumBox\u001b[0m\u001b[1;33m(\u001b[0m\u001b[1;36m10\u001b[0m\u001b[1;33m)\u001b[0m\u001b[1;33m\u001b[0m\u001b[1;33m\u001b[0m\u001b[0m\n\u001b[1;32m----> 7\u001b[1;33m \u001b[0mn\u001b[0m \u001b[1;33m+\u001b[0m \u001b[1;36m10\u001b[0m\u001b[1;33m\u001b[0m\u001b[1;33m\u001b[0m\u001b[0m\n\u001b[0m",
      "\u001b[1;31mTypeError\u001b[0m: unsupported operand type(s) for +: 'NumBox' and 'int'"
     ]
    }
   ],
   "source": [
    "class NumBox:\n",
    "    def __init__(self, num):\n",
    "        self.num = num\n",
    "        \n",
    "\n",
    "n = NumBox(10)\n",
    "n + 10"
   ]
  },
  {
   "cell_type": "code",
   "execution_count": 386,
   "id": "careful-snapshot",
   "metadata": {},
   "outputs": [
    {
     "name": "stdout",
     "output_type": "stream",
     "text": [
      "60\n"
     ]
    }
   ],
   "source": [
    "class NumBox:\n",
    "    def __init__(self, num):\n",
    "        self.num = num\n",
    "    \n",
    "    def __add__(self, num):\n",
    "        self.num += num\n",
    "    \n",
    "    def __sub__(self, num):\n",
    "        self.num -= num\n",
    "    \n",
    "n = NumBox(10)\n",
    "n + 100\n",
    "n - 50\n",
    "print(n.num)"
   ]
  },
  {
   "cell_type": "code",
   "execution_count": 387,
   "id": "diverse-virus",
   "metadata": {},
   "outputs": [
    {
     "ename": "TypeError",
     "evalue": "unsupported operand type(s) for +: 'int' and 'NumBox'",
     "output_type": "error",
     "traceback": [
      "\u001b[1;31m---------------------------------------------------------------------------\u001b[0m",
      "\u001b[1;31mTypeError\u001b[0m                                 Traceback (most recent call last)",
      "\u001b[1;32m<ipython-input-387-edf5faa5951e>\u001b[0m in \u001b[0;36m<module>\u001b[1;34m\u001b[0m\n\u001b[1;32m----> 1\u001b[1;33m \u001b[1;36m100\u001b[0m \u001b[1;33m+\u001b[0m \u001b[0mn\u001b[0m\u001b[1;33m\u001b[0m\u001b[1;33m\u001b[0m\u001b[0m\n\u001b[0m\u001b[0;32m      2\u001b[0m \u001b[1;36m50\u001b[0m \u001b[1;33m-\u001b[0m \u001b[0mn\u001b[0m\u001b[1;33m\u001b[0m\u001b[1;33m\u001b[0m\u001b[0m\n",
      "\u001b[1;31mTypeError\u001b[0m: unsupported operand type(s) for +: 'int' and 'NumBox'"
     ]
    }
   ],
   "source": [
    "100 + n\n",
    "50 - n"
   ]
  },
  {
   "cell_type": "code",
   "execution_count": 388,
   "id": "presidential-swift",
   "metadata": {},
   "outputs": [
    {
     "name": "stdout",
     "output_type": "stream",
     "text": [
      "60\n"
     ]
    }
   ],
   "source": [
    "class NumBox:\n",
    "    def __init__(self, num):\n",
    "        self.num = num\n",
    "    \n",
    "    def __radd__(self, num):\n",
    "        self.num += num\n",
    "    \n",
    "    def __rsub__(self, num):\n",
    "        self.num -= num\n",
    "\n",
    "n = NumBox(10)\n",
    "100 + n\n",
    "50 - n\n",
    "print(n.num)"
   ]
  },
  {
   "cell_type": "markdown",
   "id": "presidential-glucose",
   "metadata": {},
   "source": [
    "## - decorator(데코레이터)"
   ]
  },
  {
   "cell_type": "markdown",
   "id": "announced-moral",
   "metadata": {},
   "source": [
    "`@`으로 시작하는 것\n",
    "\n",
    "함수를 장식함\n",
    "\n",
    "EXAMPLE : `@staticmethod`, `@classmethod`, `@abstractmethod`\n",
    "\n",
    "함수를 수정하지 않고 기능을 추가할 수 있음"
   ]
  },
  {
   "cell_type": "code",
   "execution_count": 396,
   "id": "arbitrary-mirror",
   "metadata": {},
   "outputs": [
    {
     "name": "stdout",
     "output_type": "stream",
     "text": [
      "hello\n"
     ]
    }
   ],
   "source": [
    "def hello():\n",
    "    print('hello')\n",
    "\n",
    "hello()"
   ]
  },
  {
   "cell_type": "code",
   "execution_count": 61,
   "id": "intimate-tension",
   "metadata": {},
   "outputs": [
    {
     "name": "stdout",
     "output_type": "stream",
     "text": [
      "decorator\n",
      "hello\n"
     ]
    }
   ],
   "source": [
    "def decorator(func):\n",
    "    def wrapper():\n",
    "        print('decorator')\n",
    "        func()\n",
    "    return wrapper\n",
    "\n",
    "def hello():\n",
    "    print('hello')\n",
    "\n",
    "decorator(hello)()"
   ]
  },
  {
   "cell_type": "code",
   "execution_count": 62,
   "id": "useful-death",
   "metadata": {},
   "outputs": [
    {
     "name": "stdout",
     "output_type": "stream",
     "text": [
      "decorator\n",
      "hello\n"
     ]
    }
   ],
   "source": [
    "def decorator(func):\n",
    "    def wrapper():\n",
    "        print('decorator')\n",
    "        func()\n",
    "    return wrapper\n",
    "\n",
    "@decorator\n",
    "def hello():\n",
    "    print('hello')\n",
    "\n",
    "hello()"
   ]
  },
  {
   "cell_type": "code",
   "execution_count": null,
   "id": "worthy-parameter",
   "metadata": {},
   "outputs": [],
   "source": [
    "def decorator1(func):\n",
    "    def wrapper():\n",
    "        print('decorator1')\n",
    "        func()\n",
    "    return wrapper\n",
    " \n",
    "def decorator2(func):\n",
    "    def wrapper():\n",
    "        print('decorator2')\n",
    "        func()\n",
    "    return wrapper\n",
    " \n",
    "# 데코레이터를 여러 개 지정\n",
    "@decorator1\n",
    "@decorator2\n",
    "def hello():\n",
    "    print('hello')\n",
    "    \n",
    "hello()"
   ]
  },
  {
   "cell_type": "markdown",
   "id": "graphic-parish",
   "metadata": {},
   "source": [
    "`decorator1(decorator2(hello))`"
   ]
  },
  {
   "cell_type": "code",
   "execution_count": 2,
   "id": "dietary-benchmark",
   "metadata": {},
   "outputs": [
    {
     "name": "stdout",
     "output_type": "stream",
     "text": [
      "wrap() 속에 들어왔습니다.\n",
      "데코레이터 후!\n",
      "sayHello() 콜 준비중.\n",
      "wrapped_f() 속에 들어왔습니다.\n",
      "데코레이터 arguments: hello world 42\n",
      "sayHello arguments: 안녕하세요 sayHello argument list\n",
      "f(*args) 후.\n",
      "sayHello() 첫번째 콜 후.\n",
      "wrapped_f() 속에 들어왔습니다.\n",
      "데코레이터 arguments: hello world 42\n",
      "sayHello arguments: 반갑습니다 sayHello의 다른 arguments\n",
      "f(*args) 후.\n",
      "sayHello() 두번째 콜 후.\n"
     ]
    }
   ],
   "source": [
    "def decoratorFunctionWithArguments(arg1, arg2, arg3):\n",
    "    def wrap(f):\n",
    "        print(\"wrap() 속에 들어왔습니다.\")\n",
    "        def wrapped_f(*args):\n",
    "            print(\"wrapped_f() 속에 들어왔습니다.\")\n",
    "            print(\"데코레이터 arguments:\", arg1, arg2, arg3)\n",
    "            f(*args)\n",
    "            print(\"f(*args) 후.\")\n",
    "        return wrapped_f\n",
    "    return wrap\n",
    "\n",
    "@decoratorFunctionWithArguments(\"hello\", \"world\", 42)\n",
    "def sayHello(a1, a2, a3, a4):\n",
    "    print('sayHello arguments:', a1, a2, a3, a4)\n",
    "\n",
    "print(\"데코레이터 후!\")\n",
    "\n",
    "print(\"sayHello() 콜 준비중.\")\n",
    "sayHello(\"안녕하세요\", \"sayHello\", \"argument\", \"list\")\n",
    "print(\"sayHello() 첫번째 콜 후.\")\n",
    "sayHello(\"반갑습니다\", \"sayHello의\", \"다른\", \"arguments\")\n",
    "print(\"sayHello() 두번째 콜 후.\")"
   ]
  },
  {
   "cell_type": "markdown",
   "id": "least-penetration",
   "metadata": {},
   "source": [
    "### * 매개변수와 반환이 있는 함수를 처리"
   ]
  },
  {
   "cell_type": "code",
   "execution_count": 19,
   "id": "excited-stability",
   "metadata": {},
   "outputs": [
    {
     "name": "stdout",
     "output_type": "stream",
     "text": [
      "DECO!!!\n",
      "매개변수 정보 10, 20\n"
     ]
    },
    {
     "data": {
      "text/plain": [
       "30"
      ]
     },
     "execution_count": 19,
     "metadata": {},
     "output_type": "execute_result"
    }
   ],
   "source": [
    "def deco(func):\n",
    "    print(\"DECO!!!\")\n",
    "    def wrapper(a, b):\n",
    "        print(f'매개변수 정보 {a}, {b}')\n",
    "        return func(a, b)\n",
    "    return wrapper\n",
    "\n",
    "\n",
    "def add(a, b):\n",
    "    return a + b\n",
    "\n",
    "deco(add)(10, 20)"
   ]
  },
  {
   "cell_type": "code",
   "execution_count": 20,
   "id": "catholic-smoke",
   "metadata": {},
   "outputs": [
    {
     "name": "stdout",
     "output_type": "stream",
     "text": [
      "DECO!!!\n",
      "매개변수 정보 10, 20\n"
     ]
    },
    {
     "data": {
      "text/plain": [
       "30"
      ]
     },
     "execution_count": 20,
     "metadata": {},
     "output_type": "execute_result"
    }
   ],
   "source": [
    "def deco(func):\n",
    "    print(\"DECO!!!\")\n",
    "    def wrapper(a, b):\n",
    "        print(f'매개변수 정보 {a}, {b}')\n",
    "        return func(a, b)\n",
    "    return wrapper\n",
    "\n",
    "@deco\n",
    "def add(a, b):\n",
    "    return a + b\n",
    "\n",
    "add(10, 20)"
   ]
  },
  {
   "cell_type": "markdown",
   "id": "sophisticated-shanghai",
   "metadata": {},
   "source": [
    "### * 데코레이터에 매개변수가 있을 때"
   ]
  },
  {
   "cell_type": "code",
   "execution_count": 54,
   "id": "automatic-investor",
   "metadata": {},
   "outputs": [
    {
     "name": "stdout",
     "output_type": "stream",
     "text": [
      "just do it : add\n",
      "just do it : nothing\n",
      "output1 : 15, output2 : Invaild\n"
     ]
    }
   ],
   "source": [
    "def paradeco(nums):\n",
    "    def deco(func):\n",
    "        def wrapper(*, do):\n",
    "            doWhat = None\n",
    "            param = dict(do = do) # param = {\"do\" : do}\n",
    "            if do == \"add\":\n",
    "                doWhat = lambda x : sum(x)\n",
    "            elif do == \"max\":\n",
    "                doWhat = lambda x : max(x)\n",
    "            else:\n",
    "                pass\n",
    "            func(**param)\n",
    "            return doWhat(nums) if doWhat != None else \"Invaild\"\n",
    "        return wrapper\n",
    "    return deco\n",
    "\n",
    "def result(*, do):\n",
    "    print(\"just do it :\", do)\n",
    "\n",
    "    \n",
    "output1 = paradeco([1,2,3,4,5])(result)(do=\"add\")\n",
    "output2 = paradeco([1,2,3,4,5])(result)(do=\"nothing\")\n",
    "print(f'output1 : {output1}, output2 : {output2}')"
   ]
  },
  {
   "cell_type": "code",
   "execution_count": 55,
   "id": "typical-characterization",
   "metadata": {},
   "outputs": [
    {
     "name": "stdout",
     "output_type": "stream",
     "text": [
      "just do it : add\n",
      "just do it : nothing\n",
      "output1 : 15, output2 : Invaild\n"
     ]
    }
   ],
   "source": [
    "def paradeco(nums):\n",
    "    def deco(func):\n",
    "        def wrapper(*, do):\n",
    "            doWhat = None\n",
    "            param = dict(do = do) # param = {\"do\" : do}\n",
    "            if do == \"add\":\n",
    "                doWhat = lambda x : sum(x)\n",
    "            elif do == \"max\":\n",
    "                doWhat = lambda x : max(x)\n",
    "            else:\n",
    "                pass\n",
    "            func(**param)\n",
    "            return doWhat(nums) if doWhat != None else \"Invaild\"\n",
    "        return wrapper\n",
    "    return deco\n",
    "\n",
    "@paradeco([1,2,3,4,5])\n",
    "def result(*, do):\n",
    "    print(\"just do it :\", do)\n",
    "\n",
    "    \n",
    "output1 = result(do=\"add\")\n",
    "output2 = result(do=\"nothing\")\n",
    "print(f'output1 : {output1}, output2 : {output2}')"
   ]
  },
  {
   "cell_type": "markdown",
   "id": "studied-selling",
   "metadata": {},
   "source": [
    "### * 클래스로 데코레이터 만들기"
   ]
  },
  {
   "cell_type": "markdown",
   "id": "judicial-green",
   "metadata": {},
   "source": [
    "함수로 데코레이터를 만들게 되면 콜백지옥과 같은 가독성이 않좋은 코드를 보게된다. 그러므로 클래스로 깔끔하게 만들어보자"
   ]
  },
  {
   "cell_type": "markdown",
   "id": "executed-morrison",
   "metadata": {},
   "source": [
    "#### case A"
   ]
  },
  {
   "cell_type": "code",
   "execution_count": 63,
   "id": "played-colorado",
   "metadata": {},
   "outputs": [
    {
     "name": "stdout",
     "output_type": "stream",
     "text": [
      "decorator\n",
      "hello\n"
     ]
    }
   ],
   "source": [
    "def decorator(func):\n",
    "    def wrapper():\n",
    "        print('decorator')\n",
    "        func()\n",
    "    return wrapper\n",
    "\n",
    "@decorator\n",
    "def hello():\n",
    "    print('hello')\n",
    "\n",
    "hello()"
   ]
  },
  {
   "cell_type": "code",
   "execution_count": 68,
   "id": "considered-tolerance",
   "metadata": {},
   "outputs": [
    {
     "name": "stdout",
     "output_type": "stream",
     "text": [
      "decorator\n",
      "hello\n"
     ]
    }
   ],
   "source": [
    "class Decorator:\n",
    "    def __init__(self, func):\n",
    "        self.func = func\n",
    "    \n",
    "    def __call__(self):\n",
    "        print(\"decorator\")\n",
    "        self.func()\n",
    "        \n",
    "@Decorator\n",
    "def hello():\n",
    "    print('hello')\n",
    "\n",
    "hello()"
   ]
  },
  {
   "cell_type": "markdown",
   "id": "normal-nevada",
   "metadata": {},
   "source": [
    "#### case B"
   ]
  },
  {
   "cell_type": "code",
   "execution_count": 70,
   "id": "orange-network",
   "metadata": {
    "tags": []
   },
   "outputs": [
    {
     "name": "stdout",
     "output_type": "stream",
     "text": [
      "DECO!!!\n",
      "======\n",
      "매개변수 정보 10, 20\n"
     ]
    },
    {
     "data": {
      "text/plain": [
       "30"
      ]
     },
     "execution_count": 70,
     "metadata": {},
     "output_type": "execute_result"
    }
   ],
   "source": [
    "def deco(func):\n",
    "    print(\"DECO!!!\")\n",
    "    def wrapper(a, b):\n",
    "        print(f'매개변수 정보 {a}, {b}')\n",
    "        return func(a, b)\n",
    "    return wrapper\n",
    "\n",
    "@deco\n",
    "def add(a, b):\n",
    "    return a + b\n",
    "print(\"======\")\n",
    "add(10, 20)"
   ]
  },
  {
   "cell_type": "code",
   "execution_count": 74,
   "id": "dangerous-receptor",
   "metadata": {},
   "outputs": [
    {
     "name": "stdout",
     "output_type": "stream",
     "text": [
      "DECO!!!\n",
      "======\n",
      "매개변수 정보 10, 20\n"
     ]
    },
    {
     "data": {
      "text/plain": [
       "30"
      ]
     },
     "execution_count": 74,
     "metadata": {},
     "output_type": "execute_result"
    }
   ],
   "source": [
    "class Deco:\n",
    "    def __init__(self, func):\n",
    "        self.func = func\n",
    "        print(\"DECO!!!\")\n",
    "        \n",
    "    def __call__(self, a, b):\n",
    "        print(f'매개변수 정보 {a}, {b}')\n",
    "        return self.func(a,b)\n",
    "    \n",
    "    \n",
    "\n",
    "@Deco\n",
    "def add(a, b):\n",
    "    return a + b\n",
    "\n",
    "print(\"======\")\n",
    "add(10, 20)"
   ]
  },
  {
   "cell_type": "code",
   "execution_count": 75,
   "id": "sustained-legend",
   "metadata": {},
   "outputs": [
    {
     "name": "stdout",
     "output_type": "stream",
     "text": [
      "DECO!!!\n",
      "======\n",
      "매개변수 정보 10, 20\n"
     ]
    },
    {
     "data": {
      "text/plain": [
       "30"
      ]
     },
     "execution_count": 75,
     "metadata": {},
     "output_type": "execute_result"
    }
   ],
   "source": [
    "class Deco:\n",
    "    def __init__(self, func):\n",
    "        self.func = func\n",
    "        print(\"DECO!!!\")\n",
    "        \n",
    "    def __call__(self, *args, **kwargs):\n",
    "        print(f'매개변수 정보 {args[0]}, {args[1]}')\n",
    "        return self.func(*args)\n",
    "    \n",
    "    \n",
    "\n",
    "@Deco\n",
    "def add(a, b):\n",
    "    return a + b\n",
    "\n",
    "print(\"======\")\n",
    "add(10, 20)"
   ]
  },
  {
   "cell_type": "markdown",
   "id": "joint-gauge",
   "metadata": {},
   "source": [
    "#### case C"
   ]
  },
  {
   "cell_type": "code",
   "execution_count": 57,
   "id": "coordinated-offer",
   "metadata": {},
   "outputs": [
    {
     "name": "stdout",
     "output_type": "stream",
     "text": [
      "just do it : add\n",
      "just do it : nothing\n",
      "output1 : 15, output2 : Invaild\n"
     ]
    }
   ],
   "source": [
    "def paradeco(nums):\n",
    "    def deco(func):\n",
    "        def wrapper(*, do):\n",
    "            doWhat = None\n",
    "            param = dict(do = do) # param = {\"do\" : do}\n",
    "            if do == \"add\":\n",
    "                doWhat = lambda x : sum(x)\n",
    "            elif do == \"max\":\n",
    "                doWhat = lambda x : max(x)\n",
    "            else:\n",
    "                pass\n",
    "            func(**param)\n",
    "            return doWhat(nums) if doWhat != None else \"Invaild\"\n",
    "        return wrapper\n",
    "    return deco\n",
    "\n",
    "@paradeco([1,2,3,4,5])\n",
    "def result(*, do):\n",
    "    print(\"just do it :\", do)\n",
    "\n",
    "    \n",
    "output1 = result(do=\"add\")\n",
    "output2 = result(do=\"nothing\")\n",
    "print(f'output1 : {output1}, output2 : {output2}')"
   ]
  },
  {
   "cell_type": "code",
   "execution_count": 77,
   "id": "rocky-method",
   "metadata": {},
   "outputs": [
    {
     "name": "stdout",
     "output_type": "stream",
     "text": [
      "just do it : add\n",
      "just do it : nothing\n",
      "output1 : 15, output2 : Invalid\n"
     ]
    }
   ],
   "source": [
    "class Paradeco:\n",
    "    def __init__(self, nums):\n",
    "        self.nums = nums\n",
    "        \n",
    "    def __call__(self, func):\n",
    "        def wrapper(*, do):\n",
    "            doWhat = None\n",
    "            param = dict(do = do)\n",
    "            if do == \"add\":\n",
    "                doWhat = lambda x : sum(x)\n",
    "            elif do == \"max\":\n",
    "                doWhat = lambda x : max(x)\n",
    "            func(**param)\n",
    "            return doWhat(self.nums) if doWhat != None else \"Invalid\"\n",
    "        return wrapper\n",
    "    \n",
    "    \n",
    "\n",
    "@Paradeco([1,2,3,4,5])\n",
    "def result(*, do):\n",
    "    print(\"just do it :\", do)\n",
    "\n",
    "    \n",
    "output1 = result(do=\"add\")\n",
    "output2 = result(do=\"nothing\")\n",
    "print(f'output1 : {output1}, output2 : {output2}')"
   ]
  },
  {
   "cell_type": "markdown",
   "id": "eleven-contrast",
   "metadata": {},
   "source": [
    "<br>\n",
    "<br>\n",
    "<br>\n",
    "<br>\n",
    "<br>\n",
    "<br>\n",
    "<hr>\n",
    "<br>\n",
    "<br>\n",
    "<br>\n",
    "<br>\n",
    "<br>\n",
    "<br>"
   ]
  },
  {
   "cell_type": "markdown",
   "id": "involved-engineering",
   "metadata": {},
   "source": [
    "# 13. 예외 처리와 assert"
   ]
  },
  {
   "cell_type": "markdown",
   "id": "primary-american",
   "metadata": {},
   "source": [
    "## - try ~ except"
   ]
  },
  {
   "cell_type": "code",
   "execution_count": 32,
   "id": "postal-progressive",
   "metadata": {},
   "outputs": [
    {
     "ename": "ZeroDivisionError",
     "evalue": "division by zero",
     "output_type": "error",
     "traceback": [
      "\u001b[1;31m---------------------------------------------------------------------------\u001b[0m",
      "\u001b[1;31mZeroDivisionError\u001b[0m                         Traceback (most recent call last)",
      "\u001b[1;32m<ipython-input-32-e574edb36883>\u001b[0m in \u001b[0;36m<module>\u001b[1;34m\u001b[0m\n\u001b[1;32m----> 1\u001b[1;33m \u001b[1;36m10\u001b[0m\u001b[1;33m/\u001b[0m\u001b[1;36m0\u001b[0m\u001b[1;33m\u001b[0m\u001b[1;33m\u001b[0m\u001b[0m\n\u001b[0m",
      "\u001b[1;31mZeroDivisionError\u001b[0m: division by zero"
     ]
    }
   ],
   "source": [
    "10/0"
   ]
  },
  {
   "cell_type": "code",
   "execution_count": 34,
   "id": "natural-romantic",
   "metadata": {},
   "outputs": [
    {
     "ename": "TypeError",
     "evalue": "can only concatenate str (not \"int\") to str",
     "output_type": "error",
     "traceback": [
      "\u001b[1;31m---------------------------------------------------------------------------\u001b[0m",
      "\u001b[1;31mTypeError\u001b[0m                                 Traceback (most recent call last)",
      "\u001b[1;32m<ipython-input-34-d2b23a1db757>\u001b[0m in \u001b[0;36m<module>\u001b[1;34m\u001b[0m\n\u001b[1;32m----> 1\u001b[1;33m \u001b[1;34m'2'\u001b[0m \u001b[1;33m+\u001b[0m \u001b[1;36m2\u001b[0m\u001b[1;33m\u001b[0m\u001b[1;33m\u001b[0m\u001b[0m\n\u001b[0m",
      "\u001b[1;31mTypeError\u001b[0m: can only concatenate str (not \"int\") to str"
     ]
    }
   ],
   "source": [
    "'2' + 2"
   ]
  },
  {
   "cell_type": "code",
   "execution_count": 35,
   "id": "introductory-consortium",
   "metadata": {},
   "outputs": [
    {
     "ename": "NameError",
     "evalue": "name 'undefined_var' is not defined",
     "output_type": "error",
     "traceback": [
      "\u001b[1;31m---------------------------------------------------------------------------\u001b[0m",
      "\u001b[1;31mNameError\u001b[0m                                 Traceback (most recent call last)",
      "\u001b[1;32m<ipython-input-35-18b5294d1a97>\u001b[0m in \u001b[0;36m<module>\u001b[1;34m\u001b[0m\n\u001b[1;32m----> 1\u001b[1;33m \u001b[0mundefined_var\u001b[0m \u001b[1;33m*\u001b[0m \u001b[1;36m10\u001b[0m\u001b[1;33m\u001b[0m\u001b[1;33m\u001b[0m\u001b[0m\n\u001b[0m",
      "\u001b[1;31mNameError\u001b[0m: name 'undefined_var' is not defined"
     ]
    }
   ],
   "source": [
    "undefined_var * 10"
   ]
  },
  {
   "cell_type": "code",
   "execution_count": 4,
   "id": "confirmed-campaign",
   "metadata": {},
   "outputs": [],
   "source": [
    "try:\n",
    "    10/0\n",
    "except:\n",
    "    pass"
   ]
  },
  {
   "cell_type": "code",
   "execution_count": 6,
   "id": "competitive-techno",
   "metadata": {},
   "outputs": [
    {
     "name": "stdout",
     "output_type": "stream",
     "text": [
      "before 10/0\n",
      "ERROR\n"
     ]
    }
   ],
   "source": [
    "try:\n",
    "    print(\"before 10/0\")\n",
    "    10/0\n",
    "    print(\"after 10/0\")\n",
    "except:\n",
    "    print(\"ERROR\")"
   ]
  },
  {
   "cell_type": "markdown",
   "id": "conventional-meeting",
   "metadata": {},
   "source": [
    "## - raise와 다중 except"
   ]
  },
  {
   "cell_type": "markdown",
   "id": "engaged-medication",
   "metadata": {},
   "source": [
    "raise 예약어를 통해 에러를 발생시킬 수 있고 다중 except를 통해 여러 특정 에러에 대한 처리를 선언할 수도 있다."
   ]
  },
  {
   "cell_type": "code",
   "execution_count": 20,
   "id": "married-least",
   "metadata": {},
   "outputs": [
    {
     "name": "stdout",
     "output_type": "stream",
     "text": [
      "NameError\n",
      "Name Error 발생\n"
     ]
    }
   ],
   "source": [
    "try:\n",
    "    raise NameError(\"Name Error 발생\");\n",
    "except ZeroDivisionError as zde:\n",
    "    print(\"ZeroDivisionError\")\n",
    "    print(zde)\n",
    "except NameError as ne:\n",
    "    print(\"NameError\")\n",
    "    print(ne)"
   ]
  },
  {
   "cell_type": "code",
   "execution_count": 23,
   "id": "olympic-bedroom",
   "metadata": {},
   "outputs": [
    {
     "name": "stdout",
     "output_type": "stream",
     "text": [
      "ZeroDivisionError or IndexError\n"
     ]
    }
   ],
   "source": [
    "try:\n",
    "    toError = [1, 2, 3]\n",
    "    toError[100]\n",
    "except NameError as e:\n",
    "    print(\"NameError\")\n",
    "except (ZeroDivisionError, IndexError) as e:\n",
    "    print(\"ZeroDivisionError or IndexError\")"
   ]
  },
  {
   "cell_type": "code",
   "execution_count": 36,
   "id": "unavailable-workshop",
   "metadata": {
    "tags": []
   },
   "outputs": [
    {
     "ename": "RuntimeError",
     "evalue": "",
     "output_type": "error",
     "traceback": [
      "\u001b[1;31m---------------------------------------------------------------------------\u001b[0m",
      "\u001b[1;31mOSError\u001b[0m                                   Traceback (most recent call last)",
      "\u001b[1;32m<ipython-input-36-c10cca62ed45>\u001b[0m in \u001b[0;36m<module>\u001b[1;34m\u001b[0m\n\u001b[0;32m      4\u001b[0m \u001b[1;32mtry\u001b[0m\u001b[1;33m:\u001b[0m\u001b[1;33m\u001b[0m\u001b[1;33m\u001b[0m\u001b[0m\n\u001b[1;32m----> 5\u001b[1;33m     \u001b[0mfunc\u001b[0m\u001b[1;33m(\u001b[0m\u001b[1;33m)\u001b[0m\u001b[1;33m\u001b[0m\u001b[1;33m\u001b[0m\u001b[0m\n\u001b[0m\u001b[0;32m      6\u001b[0m \u001b[1;32mexcept\u001b[0m \u001b[0mIOError\u001b[0m \u001b[1;32mas\u001b[0m \u001b[0mexc\u001b[0m\u001b[1;33m:\u001b[0m\u001b[1;33m\u001b[0m\u001b[1;33m\u001b[0m\u001b[0m\n",
      "\u001b[1;32m<ipython-input-36-c10cca62ed45>\u001b[0m in \u001b[0;36mfunc\u001b[1;34m()\u001b[0m\n\u001b[0;32m      1\u001b[0m \u001b[1;32mdef\u001b[0m \u001b[0mfunc\u001b[0m\u001b[1;33m(\u001b[0m\u001b[1;33m)\u001b[0m\u001b[1;33m:\u001b[0m\u001b[1;33m\u001b[0m\u001b[1;33m\u001b[0m\u001b[0m\n\u001b[1;32m----> 2\u001b[1;33m     \u001b[1;32mraise\u001b[0m \u001b[0mIOError\u001b[0m\u001b[1;33m\u001b[0m\u001b[1;33m\u001b[0m\u001b[0m\n\u001b[0m\u001b[0;32m      3\u001b[0m \u001b[1;33m\u001b[0m\u001b[0m\n",
      "\u001b[1;31mOSError\u001b[0m: ",
      "\nDuring handling of the above exception, another exception occurred:\n",
      "\u001b[1;31mRuntimeError\u001b[0m                              Traceback (most recent call last)",
      "\u001b[1;32m<ipython-input-36-c10cca62ed45>\u001b[0m in \u001b[0;36m<module>\u001b[1;34m\u001b[0m\n\u001b[0;32m      5\u001b[0m     \u001b[0mfunc\u001b[0m\u001b[1;33m(\u001b[0m\u001b[1;33m)\u001b[0m\u001b[1;33m\u001b[0m\u001b[1;33m\u001b[0m\u001b[0m\n\u001b[0;32m      6\u001b[0m \u001b[1;32mexcept\u001b[0m \u001b[0mIOError\u001b[0m \u001b[1;32mas\u001b[0m \u001b[0mexc\u001b[0m\u001b[1;33m:\u001b[0m\u001b[1;33m\u001b[0m\u001b[1;33m\u001b[0m\u001b[0m\n\u001b[1;32m----> 7\u001b[1;33m     \u001b[1;32mraise\u001b[0m \u001b[0mRuntimeError\u001b[0m\u001b[1;33m\u001b[0m\u001b[1;33m\u001b[0m\u001b[0m\n\u001b[0m",
      "\u001b[1;31mRuntimeError\u001b[0m: "
     ]
    }
   ],
   "source": [
    "def func():\n",
    "    raise IOErrorx\n",
    "    \n",
    "try:\n",
    "    func()\n",
    "except IOError as exc:\n",
    "    raise RuntimeError"
   ]
  },
  {
   "cell_type": "markdown",
   "id": "assured-touch",
   "metadata": {},
   "source": [
    " - raise문은 예외 연쇄를 만드는 선택적 from을 허용\n",
    " - 솔직히 이게 잘 이해도 안되고 오히려 코드 복잡성만 증가할 것 같아서 필요성을 아직 못느끼겠지만 그래도 알게되어서 적어본다"
   ]
  },
  {
   "cell_type": "code",
   "execution_count": 167,
   "id": "loaded-found",
   "metadata": {},
   "outputs": [
    {
     "ename": "RuntimeError",
     "evalue": "",
     "output_type": "error",
     "traceback": [
      "\u001b[1;31m---------------------------------------------------------------------------\u001b[0m",
      "\u001b[1;31mOSError\u001b[0m                                   Traceback (most recent call last)",
      "\u001b[1;32m<ipython-input-167-9d7ee3ab1fea>\u001b[0m in \u001b[0;36m<module>\u001b[1;34m\u001b[0m\n\u001b[0;32m      4\u001b[0m \u001b[1;32mtry\u001b[0m\u001b[1;33m:\u001b[0m\u001b[1;33m\u001b[0m\u001b[1;33m\u001b[0m\u001b[0m\n\u001b[1;32m----> 5\u001b[1;33m     \u001b[0mfunc\u001b[0m\u001b[1;33m(\u001b[0m\u001b[1;33m)\u001b[0m\u001b[1;33m\u001b[0m\u001b[1;33m\u001b[0m\u001b[0m\n\u001b[0m\u001b[0;32m      6\u001b[0m \u001b[1;32mexcept\u001b[0m \u001b[0mIOError\u001b[0m \u001b[1;32mas\u001b[0m \u001b[0mexc\u001b[0m\u001b[1;33m:\u001b[0m\u001b[1;33m\u001b[0m\u001b[1;33m\u001b[0m\u001b[0m\n",
      "\u001b[1;32m<ipython-input-167-9d7ee3ab1fea>\u001b[0m in \u001b[0;36mfunc\u001b[1;34m()\u001b[0m\n\u001b[0;32m      1\u001b[0m \u001b[1;32mdef\u001b[0m \u001b[0mfunc\u001b[0m\u001b[1;33m(\u001b[0m\u001b[1;33m)\u001b[0m\u001b[1;33m:\u001b[0m\u001b[1;33m\u001b[0m\u001b[1;33m\u001b[0m\u001b[0m\n\u001b[1;32m----> 2\u001b[1;33m     \u001b[1;32mraise\u001b[0m \u001b[0mIOError\u001b[0m\u001b[1;33m\u001b[0m\u001b[1;33m\u001b[0m\u001b[0m\n\u001b[0m\u001b[0;32m      3\u001b[0m \u001b[1;33m\u001b[0m\u001b[0m\n",
      "\u001b[1;31mOSError\u001b[0m: ",
      "\nThe above exception was the direct cause of the following exception:\n",
      "\u001b[1;31mRuntimeError\u001b[0m                              Traceback (most recent call last)",
      "\u001b[1;32m<ipython-input-167-9d7ee3ab1fea>\u001b[0m in \u001b[0;36m<module>\u001b[1;34m\u001b[0m\n\u001b[0;32m      5\u001b[0m     \u001b[0mfunc\u001b[0m\u001b[1;33m(\u001b[0m\u001b[1;33m)\u001b[0m\u001b[1;33m\u001b[0m\u001b[1;33m\u001b[0m\u001b[0m\n\u001b[0;32m      6\u001b[0m \u001b[1;32mexcept\u001b[0m \u001b[0mIOError\u001b[0m \u001b[1;32mas\u001b[0m \u001b[0mexc\u001b[0m\u001b[1;33m:\u001b[0m\u001b[1;33m\u001b[0m\u001b[1;33m\u001b[0m\u001b[0m\n\u001b[1;32m----> 7\u001b[1;33m     \u001b[1;32mraise\u001b[0m \u001b[0mRuntimeError\u001b[0m \u001b[1;32mfrom\u001b[0m \u001b[0mexc\u001b[0m\u001b[1;33m\u001b[0m\u001b[1;33m\u001b[0m\u001b[0m\n\u001b[0m",
      "\u001b[1;31mRuntimeError\u001b[0m: "
     ]
    }
   ],
   "source": [
    "def func():\n",
    "    raise IOError\n",
    "    \n",
    "try:\n",
    "    func()\n",
    "except IOError as exc:\n",
    "    raise RuntimeError from exc"
   ]
  },
  {
   "cell_type": "markdown",
   "id": "productive-border",
   "metadata": {},
   "source": [
    "## - try ~ except ~ else"
   ]
  },
  {
   "cell_type": "markdown",
   "id": "humanitarian-palestinian",
   "metadata": {},
   "source": [
    " - 에러가 발생한 경우와 발생하지 않은 경우를 나누어 처리할 수 있다"
   ]
  },
  {
   "cell_type": "code",
   "execution_count": 11,
   "id": "emerging-appraisal",
   "metadata": {},
   "outputs": [
    {
     "name": "stdout",
     "output_type": "stream",
     "text": [
      "GOOD\n"
     ]
    }
   ],
   "source": [
    "try:\n",
    "    10/1\n",
    "except:\n",
    "    print(\"ERROR\")\n",
    "else:\n",
    "    print(\"GOOD\")"
   ]
  },
  {
   "cell_type": "markdown",
   "id": "exact-fluid",
   "metadata": {},
   "source": [
    "## - try ~ except ~ else ~ finally"
   ]
  },
  {
   "cell_type": "markdown",
   "id": "auburn-bleeding",
   "metadata": {},
   "source": [
    " - finally는 에러가 걸리던 안 걸리던 최종적으로 실행시키는 예약어이다"
   ]
  },
  {
   "cell_type": "code",
   "execution_count": 13,
   "id": "moderate-inflation",
   "metadata": {},
   "outputs": [
    {
     "name": "stdout",
     "output_type": "stream",
     "text": [
      "GOOD\n",
      "DO THIS ANYWAY\n"
     ]
    }
   ],
   "source": [
    "try:\n",
    "    10/1\n",
    "except:\n",
    "    print(\"ERROR\")\n",
    "else:\n",
    "    print(\"GOOD\")\n",
    "finally:\n",
    "    print(\"DO THIS ANYWAY\")"
   ]
  },
  {
   "cell_type": "code",
   "execution_count": 17,
   "id": "seventh-carry",
   "metadata": {},
   "outputs": [
    {
     "name": "stdout",
     "output_type": "stream",
     "text": [
      "ERROR\n",
      "DO THIS ANYWAY\n"
     ]
    }
   ],
   "source": [
    "try:\n",
    "    10/0\n",
    "except:\n",
    "    print(\"ERROR\")\n",
    "else:\n",
    "    print(\"GOOD\")\n",
    "finally:\n",
    "    print(\"DO THIS ANYWAY\")"
   ]
  },
  {
   "cell_type": "markdown",
   "id": "micro-warehouse",
   "metadata": {},
   "source": [
    " - 함수의 return을 만나도 finally가 우선처리가 된다"
   ]
  },
  {
   "cell_type": "code",
   "execution_count": 16,
   "id": "satisfactory-constraint",
   "metadata": {},
   "outputs": [
    {
     "data": {
      "text/plain": [
       "'DO THIS ANYWAY'"
      ]
     },
     "execution_count": 16,
     "metadata": {},
     "output_type": "execute_result"
    }
   ],
   "source": [
    "def myFunc():\n",
    "    try:\n",
    "        return 10/0\n",
    "    except:\n",
    "        return \"ERROR\"\n",
    "    else:\n",
    "        return \"GOOD\"\n",
    "    finally:\n",
    "        return \"DO THIS ANYWAY\"\n",
    "\n",
    "myFunc()"
   ]
  },
  {
   "cell_type": "code",
   "execution_count": 24,
   "id": "indie-dependence",
   "metadata": {},
   "outputs": [
    {
     "name": "stdout",
     "output_type": "stream",
     "text": [
      "DO THIS ANYWAY\n"
     ]
    },
    {
     "data": {
      "text/plain": [
       "'ERROR'"
      ]
     },
     "execution_count": 24,
     "metadata": {},
     "output_type": "execute_result"
    }
   ],
   "source": [
    "def myFunc():\n",
    "    try:\n",
    "        return 10/0\n",
    "    except:\n",
    "        return \"ERROR\"\n",
    "    else:\n",
    "        return \"GOOD\"\n",
    "    finally:\n",
    "        print(\"DO THIS ANYWAY\")\n",
    "\n",
    "myFunc()"
   ]
  },
  {
   "cell_type": "markdown",
   "id": "planned-outreach",
   "metadata": {},
   "source": [
    "## - 사용자 정의 에러 처리"
   ]
  },
  {
   "cell_type": "code",
   "execution_count": 150,
   "id": "human-sandwich",
   "metadata": {},
   "outputs": [
    {
     "name": "stdout",
     "output_type": "stream",
     "text": [
      "B\n",
      "C\n",
      "D\n"
     ]
    }
   ],
   "source": [
    "class B(Exception):\n",
    "    pass\n",
    "\n",
    "class C(B):\n",
    "    pass\n",
    "\n",
    "class D(C):\n",
    "    pass\n",
    "\n",
    "for cls in [B, C, D]:\n",
    "    try:\n",
    "        raise cls()\n",
    "    except D:\n",
    "        print(\"D\")\n",
    "    except C:\n",
    "        print(\"C\")\n",
    "    except B:\n",
    "        print(\"B\")"
   ]
  },
  {
   "cell_type": "markdown",
   "id": "harmful-retention",
   "metadata": {},
   "source": [
    "## - assert"
   ]
  },
  {
   "cell_type": "markdown",
   "id": "prescription-organ",
   "metadata": {},
   "source": [
    "조건이 false면 AssertionError를 발생시킨다"
   ]
  },
  {
   "cell_type": "code",
   "execution_count": 26,
   "id": "enclosed-forth",
   "metadata": {},
   "outputs": [],
   "source": [
    "assert 2 == 2"
   ]
  },
  {
   "cell_type": "code",
   "execution_count": 28,
   "id": "every-receptor",
   "metadata": {},
   "outputs": [
    {
     "ename": "AssertionError",
     "evalue": "",
     "output_type": "error",
     "traceback": [
      "\u001b[1;31m---------------------------------------------------------------------------\u001b[0m",
      "\u001b[1;31mAssertionError\u001b[0m                            Traceback (most recent call last)",
      "\u001b[1;32m<ipython-input-28-ce781a32d075>\u001b[0m in \u001b[0;36m<module>\u001b[1;34m\u001b[0m\n\u001b[1;32m----> 1\u001b[1;33m \u001b[1;32massert\u001b[0m \u001b[1;36m1\u001b[0m \u001b[1;33m==\u001b[0m \u001b[1;36m2\u001b[0m\u001b[1;33m\u001b[0m\u001b[1;33m\u001b[0m\u001b[0m\n\u001b[0m",
      "\u001b[1;31mAssertionError\u001b[0m: "
     ]
    }
   ],
   "source": [
    "assert 1 == 2"
   ]
  },
  {
   "cell_type": "code",
   "execution_count": 31,
   "id": "irish-globe",
   "metadata": {},
   "outputs": [
    {
     "ename": "AssertionError",
     "evalue": "AssertionError 메시지 설정",
     "output_type": "error",
     "traceback": [
      "\u001b[1;31m---------------------------------------------------------------------------\u001b[0m",
      "\u001b[1;31mAssertionError\u001b[0m                            Traceback (most recent call last)",
      "\u001b[1;32m<ipython-input-31-d5c01840543a>\u001b[0m in \u001b[0;36m<module>\u001b[1;34m\u001b[0m\n\u001b[1;32m----> 1\u001b[1;33m \u001b[1;32massert\u001b[0m  \u001b[1;36m2\u001b[0m \u001b[1;33m!=\u001b[0m \u001b[1;36m2\u001b[0m \u001b[1;33m,\u001b[0m\u001b[1;34m\"AssertionError 메시지 설정\"\u001b[0m\u001b[1;33m\u001b[0m\u001b[1;33m\u001b[0m\u001b[0m\n\u001b[0m",
      "\u001b[1;31mAssertionError\u001b[0m: AssertionError 메시지 설정"
     ]
    }
   ],
   "source": [
    "assert  2 != 2 ,\"AssertionError 메시지 설정\""
   ]
  },
  {
   "cell_type": "markdown",
   "id": "attached-illinois",
   "metadata": {},
   "source": [
    "<br>\n",
    "<br>\n",
    "<br>\n",
    "<br>\n",
    "<br>\n",
    "<br>\n",
    "<hr>\n",
    "<br>\n",
    "<br>\n",
    "<br>\n",
    "<br>\n",
    "<br>\n",
    "<br>"
   ]
  },
  {
   "cell_type": "markdown",
   "id": "spatial-mineral",
   "metadata": {},
   "source": [
    "# 14. 더 나은 파이썬 활용"
   ]
  },
  {
   "cell_type": "markdown",
   "id": "postal-hawaii",
   "metadata": {},
   "source": [
    "## - 파일 입출력"
   ]
  },
  {
   "cell_type": "markdown",
   "id": "accredited-address",
   "metadata": {},
   "source": [
    "### * 파일 읽기"
   ]
  },
  {
   "cell_type": "code",
   "execution_count": 95,
   "id": "confidential-enlargement",
   "metadata": {},
   "outputs": [],
   "source": [
    "readsrc = \"read_sample.txt\""
   ]
  },
  {
   "cell_type": "code",
   "execution_count": 96,
   "id": "available-degree",
   "metadata": {},
   "outputs": [
    {
     "ename": "UnicodeDecodeError",
     "evalue": "'cp949' codec can't decode byte 0xab in position 2: illegal multibyte sequence",
     "output_type": "error",
     "traceback": [
      "\u001b[1;31m---------------------------------------------------------------------------\u001b[0m",
      "\u001b[1;31mUnicodeDecodeError\u001b[0m                        Traceback (most recent call last)",
      "\u001b[1;32m<ipython-input-96-45323e3e2c64>\u001b[0m in \u001b[0;36m<module>\u001b[1;34m\u001b[0m\n\u001b[0;32m      1\u001b[0m \u001b[0mf\u001b[0m \u001b[1;33m=\u001b[0m \u001b[0mopen\u001b[0m\u001b[1;33m(\u001b[0m\u001b[0mreadsrc\u001b[0m\u001b[1;33m,\u001b[0m\u001b[1;34m'r'\u001b[0m\u001b[1;33m)\u001b[0m\u001b[1;33m\u001b[0m\u001b[1;33m\u001b[0m\u001b[0m\n\u001b[1;32m----> 2\u001b[1;33m \u001b[0mprint\u001b[0m\u001b[1;33m(\u001b[0m\u001b[0mf\u001b[0m\u001b[1;33m.\u001b[0m\u001b[0mreadline\u001b[0m\u001b[1;33m(\u001b[0m\u001b[1;33m)\u001b[0m\u001b[1;33m)\u001b[0m\u001b[1;33m\u001b[0m\u001b[1;33m\u001b[0m\u001b[0m\n\u001b[0m\u001b[0;32m      3\u001b[0m \u001b[0mf\u001b[0m\u001b[1;33m.\u001b[0m\u001b[0mclose\u001b[0m\u001b[1;33m(\u001b[0m\u001b[1;33m)\u001b[0m\u001b[1;33m\u001b[0m\u001b[1;33m\u001b[0m\u001b[0m\n",
      "\u001b[1;31mUnicodeDecodeError\u001b[0m: 'cp949' codec can't decode byte 0xab in position 2: illegal multibyte sequence"
     ]
    }
   ],
   "source": [
    "f = open(readsrc,'r')\n",
    "print(f.readline())\n",
    "f.close()"
   ]
  },
  {
   "cell_type": "code",
   "execution_count": 97,
   "id": "funky-vertex",
   "metadata": {},
   "outputs": [
    {
     "name": "stdout",
     "output_type": "stream",
     "text": [
      "첫 번째 인자는 파일 이름을 담은 문자열입니다. \n",
      "\n"
     ]
    }
   ],
   "source": [
    "f = open(readsrc,'r', encoding='UTF8')\n",
    "print(f.readline())\n",
    "f.close()"
   ]
  },
  {
   "cell_type": "code",
   "execution_count": 98,
   "id": "reasonable-yellow",
   "metadata": {},
   "outputs": [
    {
     "name": "stdout",
     "output_type": "stream",
     "text": [
      "첫 번째 인자는 파일 이름을 담은 문자열입니다. \n",
      "\n",
      "두 번째 인자는 파일이 사용될 방식을 설명하는 몇 개의 문자들을 담은 또 하나의 문자열입니다.\n",
      "\n"
     ]
    }
   ],
   "source": [
    "f = open(readsrc,'r', encoding='UTF8')\n",
    "print(f.readline())\n",
    "print(f.readline())\n",
    "f.close()"
   ]
  },
  {
   "cell_type": "markdown",
   "id": "international-accessory",
   "metadata": {},
   "source": [
    " - 여러줄 읽기 `readlines()` ==> 리스트"
   ]
  },
  {
   "cell_type": "code",
   "execution_count": 99,
   "id": "organic-level",
   "metadata": {},
   "outputs": [
    {
     "name": "stdout",
     "output_type": "stream",
     "text": [
      "['첫 번째 인자는 파일 이름을 담은 문자열입니다. \\n', '두 번째 인자는 파일이 사용될 방식을 설명하는 몇 개의 문자들을 담은 또 하나의 문자열입니다.\\n', \"mode 는 파일을 읽기만 하면 'r', 쓰기만 하면 'w' (같은 이름의 이미 존재하는 파일은 삭제됩니다) 가 되고, 'a' 는 파일을 덧붙이기 위해 엽니다\\n\", '파일에 기록되는 모든 데이터는 자동으로 끝에 붙습니다. \\n', \"'r+' 는 파일을 읽고 쓰기 위해 엽니다. \\n\", \"mode 인자는 선택적인데, 생략하면 'r' 이 가정됩니다.\\n\", '\\n', '보통, 파일은 텍스트 모드 (text mode) 로 열리는데, \\n', '이 뜻은, 파일에 문자열을 읽고 쓰고, 파일에는 특정한 인코딩으로 저장된다는 것입니다. \\n', '인코딩이 지정되지 않으면 기본값은 플랫폼 의존적입니다. \\n', \"mode 에 덧붙여진 'b' 는 파일을 바이너리 모드 (binary mode) 로 엽니다: 이제 데이터는 바이트열 객체의 형태로 읽고 쓰입니다. \\n\", '텍스트를 포함하지 않는 모든 파일에는 이 모드를 사용해야 합니다.\\n', '\\n', '텍스트 모드에서, 읽을 때의 기본 동작은 플랫폼 의존적인 줄 종료 (유닉스에서 \\\\n, 윈도우에서 \\\\r\\\\n) 를 단지 \\\\n 로 변경하는 것입니다. \\n', '텍스트 모드로 쓸 때, 기본 동작은 \\\\n 를 다시 플랫폼 의존적인 줄 종료로 변환하는 것입니다.\\n', '이 파일 데이터에 대한 무대 뒤의 수정은 텍스트 파일의 경우는 문제가 안 되지만, JPEG 이나 EXE 파일과 같은 바이너리 데이터를 망치게 됩니다. \\n', '그런 파일을 읽고 쓸 때 바이너리 모드를 사용하도록 주의하세요.\\n', '\\n', '파일 객체를 다룰 때 with 키워드를 사용하는 것은 좋은 습관입니다. \\n', '혜택은 도중 예외가 발생하더라도 스위트가 종료될 때 파일이 올바르게 닫힌다는 것입니다. \\n', 'with 를 사용하는 것은 동등한 try-finally 블록을 쓰는 것에 비교해 훨씬 짧기도 합니다.']\n"
     ]
    }
   ],
   "source": [
    "f = open(readsrc,'r', encoding='UTF8')\n",
    "print(f.readlines())\n",
    "f.close()"
   ]
  },
  {
   "cell_type": "markdown",
   "id": "illegal-pound",
   "metadata": {},
   "source": [
    " - 여러줄 읽기 `read()` ==> 문자"
   ]
  },
  {
   "cell_type": "code",
   "execution_count": 100,
   "id": "fifth-maine",
   "metadata": {},
   "outputs": [
    {
     "name": "stdout",
     "output_type": "stream",
     "text": [
      "첫 번째 인자는 파일 이름을 담은 문자열입니다. \n",
      "두 번째 인자는 파일이 사용될 방식을 설명하는 몇 개의 문자들을 담은 또 하나의 문자열입니다.\n",
      "mode 는 파일을 읽기만 하면 'r', 쓰기만 하면 'w' (같은 이름의 이미 존재하는 파일은 삭제됩니다) 가 되고, 'a' 는 파일을 덧붙이기 위해 엽니다\n",
      "파일에 기록되는 모든 데이터는 자동으로 끝에 붙습니다. \n",
      "'r+' 는 파일을 읽고 쓰기 위해 엽니다. \n",
      "mode 인자는 선택적인데, 생략하면 'r' 이 가정됩니다.\n",
      "\n",
      "보통, 파일은 텍스트 모드 (text mode) 로 열리는데, \n",
      "이 뜻은, 파일에 문자열을 읽고 쓰고, 파일에는 특정한 인코딩으로 저장된다는 것입니다. \n",
      "인코딩이 지정되지 않으면 기본값은 플랫폼 의존적입니다. \n",
      "mode 에 덧붙여진 'b' 는 파일을 바이너리 모드 (binary mode) 로 엽니다: 이제 데이터는 바이트열 객체의 형태로 읽고 쓰입니다. \n",
      "텍스트를 포함하지 않는 모든 파일에는 이 모드를 사용해야 합니다.\n",
      "\n",
      "텍스트 모드에서, 읽을 때의 기본 동작은 플랫폼 의존적인 줄 종료 (유닉스에서 \\n, 윈도우에서 \\r\\n) 를 단지 \\n 로 변경하는 것입니다. \n",
      "텍스트 모드로 쓸 때, 기본 동작은 \\n 를 다시 플랫폼 의존적인 줄 종료로 변환하는 것입니다.\n",
      "이 파일 데이터에 대한 무대 뒤의 수정은 텍스트 파일의 경우는 문제가 안 되지만, JPEG 이나 EXE 파일과 같은 바이너리 데이터를 망치게 됩니다. \n",
      "그런 파일을 읽고 쓸 때 바이너리 모드를 사용하도록 주의하세요.\n",
      "\n",
      "파일 객체를 다룰 때 with 키워드를 사용하는 것은 좋은 습관입니다. \n",
      "혜택은 도중 예외가 발생하더라도 스위트가 종료될 때 파일이 올바르게 닫힌다는 것입니다. \n",
      "with 를 사용하는 것은 동등한 try-finally 블록을 쓰는 것에 비교해 훨씬 짧기도 합니다.\n"
     ]
    }
   ],
   "source": [
    "f = open(readsrc,'r', encoding='UTF8')\n",
    "print(f.read())\n",
    "f.close()"
   ]
  },
  {
   "cell_type": "markdown",
   "id": "beautiful-signal",
   "metadata": {},
   "source": [
    "### * 파일 쓰기"
   ]
  },
  {
   "cell_type": "code",
   "execution_count": 111,
   "id": "personalized-apache",
   "metadata": {},
   "outputs": [],
   "source": [
    "writesrc = \"write_sample.txt\""
   ]
  },
  {
   "cell_type": "code",
   "execution_count": 118,
   "id": "separate-starter",
   "metadata": {},
   "outputs": [],
   "source": [
    "f = open(writesrc, 'w')\n",
    "f.write(\"Hello World!\")\n",
    "f.write(\"Hello World!\")\n",
    "f.write(\"Hello World!\")\n",
    "f.close()"
   ]
  },
  {
   "cell_type": "markdown",
   "id": "clean-ending",
   "metadata": {},
   "source": [
    "덮어쓰기가 되어 Hello World! 한줄만 적힘"
   ]
  },
  {
   "cell_type": "markdown",
   "id": "exempt-meter",
   "metadata": {},
   "source": [
    "```txt\n",
    "Hello World!\n",
    "```"
   ]
  },
  {
   "cell_type": "markdown",
   "id": "toxic-spring",
   "metadata": {},
   "source": [
    "- 여러 줄 쓰기"
   ]
  },
  {
   "cell_type": "code",
   "execution_count": 116,
   "id": "artificial-rogers",
   "metadata": {},
   "outputs": [],
   "source": [
    "datas = list()\n",
    "datas.append(\"Hello World!\\n\")\n",
    "datas.append(\"Hello World!!\\n\")\n",
    "datas.append(\"Hello World!!!\\n\")\n",
    "f = open(writesrc, 'w')\n",
    "f.writelines(datas)\n",
    "f.close()"
   ]
  },
  {
   "cell_type": "markdown",
   "id": "proper-interaction",
   "metadata": {},
   "source": [
    "```txt\n",
    "Hello World!\n",
    "Hello World!!\n",
    "Hello World!!!\n",
    "```"
   ]
  },
  {
   "cell_type": "markdown",
   "id": "whole-launch",
   "metadata": {},
   "source": [
    " - 내용 추가하기"
   ]
  },
  {
   "cell_type": "code",
   "execution_count": 117,
   "id": "creative-cylinder",
   "metadata": {},
   "outputs": [],
   "source": [
    "f = open(writesrc, 'a')\n",
    "f.write(\"Hello @\\n\")\n",
    "f.write(\"Hello @@\\n\")\n",
    "f.write(\"Hello @@@\\n\")\n",
    "f.close()"
   ]
  },
  {
   "cell_type": "markdown",
   "id": "flexible-brunswick",
   "metadata": {},
   "source": [
    "```txt\n",
    "Hello World!\n",
    "Hello World!!\n",
    "Hello World!!!\n",
    "Hello @\n",
    "Hello @@\n",
    "Hello @@@\n",
    "```"
   ]
  },
  {
   "cell_type": "markdown",
   "id": "bound-interface",
   "metadata": {},
   "source": [
    "### * with ~ as"
   ]
  },
  {
   "cell_type": "markdown",
   "id": "dated-blend",
   "metadata": {},
   "source": [
    "자동으로 파일 객체를 닫아줘서 안전함"
   ]
  },
  {
   "cell_type": "code",
   "execution_count": 121,
   "id": "palestinian-overview",
   "metadata": {},
   "outputs": [
    {
     "name": "stdout",
     "output_type": "stream",
     "text": [
      "첫 번째 인자는 파일 이름을 담은 문자열입니다. \n",
      "두 번째 인자는 파일이 사용될 방식을 설명하는 몇 개의 문자들을 담은 또 하나의 문자열입니다.\n",
      "mode 는 파일을 읽기만 하면 'r', 쓰기만 하면 'w' (같은 이름의 이미 존재하는 파일은 삭제됩니다) 가 되고, 'a' 는 파일을 덧붙이기 위해 엽니다\n",
      "파일에 기록되는 모든 데이터는 자동으로 끝에 붙습니다. \n",
      "'r+' 는 파일을 읽고 쓰기 위해 엽니다. \n",
      "mode 인자는 선택적인데, 생략하면 'r' 이 가정됩니다.\n",
      "\n",
      "보통, 파일은 텍스트 모드 (text mode) 로 열리는데, \n",
      "이 뜻은, 파일에 문자열을 읽고 쓰고, 파일에는 특정한 인코딩으로 저장된다는 것입니다. \n",
      "인코딩이 지정되지 않으면 기본값은 플랫폼 의존적입니다. \n",
      "mode 에 덧붙여진 'b' 는 파일을 바이너리 모드 (binary mode) 로 엽니다: 이제 데이터는 바이트열 객체의 형태로 읽고 쓰입니다. \n",
      "텍스트를 포함하지 않는 모든 파일에는 이 모드를 사용해야 합니다.\n",
      "\n",
      "텍스트 모드에서, 읽을 때의 기본 동작은 플랫폼 의존적인 줄 종료 (유닉스에서 \\n, 윈도우에서 \\r\\n) 를 단지 \\n 로 변경하는 것입니다. \n",
      "텍스트 모드로 쓸 때, 기본 동작은 \\n 를 다시 플랫폼 의존적인 줄 종료로 변환하는 것입니다.\n",
      "이 파일 데이터에 대한 무대 뒤의 수정은 텍스트 파일의 경우는 문제가 안 되지만, JPEG 이나 EXE 파일과 같은 바이너리 데이터를 망치게 됩니다. \n",
      "그런 파일을 읽고 쓸 때 바이너리 모드를 사용하도록 주의하세요.\n",
      "\n",
      "파일 객체를 다룰 때 with 키워드를 사용하는 것은 좋은 습관입니다. \n",
      "혜택은 도중 예외가 발생하더라도 스위트가 종료될 때 파일이 올바르게 닫힌다는 것입니다. \n",
      "with 를 사용하는 것은 동등한 try-finally 블록을 쓰는 것에 비교해 훨씬 짧기도 합니다.\n"
     ]
    }
   ],
   "source": [
    "with open(readsrc, 'r', encoding=\"UTF8\") as f:\n",
    "    d = f.read()\n",
    "    print(d)"
   ]
  },
  {
   "cell_type": "markdown",
   "id": "operational-dependence",
   "metadata": {},
   "source": [
    " - with ~ as 만들기"
   ]
  },
  {
   "cell_type": "code",
   "execution_count": 130,
   "id": "african-firmware",
   "metadata": {},
   "outputs": [
    {
     "name": "stdout",
     "output_type": "stream",
     "text": [
      "__init__ invoked\n",
      "\n",
      "\n",
      "\n",
      "\n",
      "첫 번째 인자는 파일 이름을 담은 문자열입니다. \n",
      "두 번째 인자는 파일이 사용될 방식을 설명하는 몇 개의 문자들을 담은 또 하나의 문자열입니다.\n",
      "mode 는 파일을 읽기만 하면 'r', 쓰기만 하면 'w' (같은 이름의 이미 존재하는 파일은 삭제됩니다) 가 되고, 'a' 는 파일을 덧붙이기 위해 엽니다\n",
      "파일에 기록되는 모든 데이터는 자동으로 끝에 붙습니다. \n",
      "'r+' 는 파일을 읽고 쓰기 위해 엽니다. \n",
      "mode 인자는 선택적인데, 생략하면 'r' 이 가정됩니다.\n",
      "\n",
      "보통, 파일은 텍스트 모드 (text mode) 로 열리는데, \n",
      "이 뜻은, 파일에 문자열을 읽고 쓰고, 파일에는 특정한 인코딩으로 저장된다는 것입니다. \n",
      "인코딩이 지정되지 않으면 기본값은 플랫폼 의존적입니다. \n",
      "mode 에 덧붙여진 'b' 는 파일을 바이너리 모드 (binary mode) 로 엽니다: 이제 데이터는 바이트열 객체의 형태로 읽고 쓰입니다. \n",
      "텍스트를 포함하지 않는 모든 파일에는 이 모드를 사용해야 합니다.\n",
      "\n",
      "텍스트 모드에서, 읽을 때의 기본 동작은 플랫폼 의존적인 줄 종료 (유닉스에서 \\n, 윈도우에서 \\r\\n) 를 단지 \\n 로 변경하는 것입니다. \n",
      "텍스트 모드로 쓸 때, 기본 동작은 \\n 를 다시 플랫폼 의존적인 줄 종료로 변환하는 것입니다.\n",
      "이 파일 데이터에 대한 무대 뒤의 수정은 텍스트 파일의 경우는 문제가 안 되지만, JPEG 이나 EXE 파일과 같은 바이너리 데이터를 망치게 됩니다. \n",
      "그런 파일을 읽고 쓸 때 바이너리 모드를 사용하도록 주의하세요.\n",
      "\n",
      "파일 객체를 다룰 때 with 키워드를 사용하는 것은 좋은 습관입니다. \n",
      "혜택은 도중 예외가 발생하더라도 스위트가 종료될 때 파일이 올바르게 닫힌다는 것입니다. \n",
      "with 를 사용하는 것은 동등한 try-finally 블록을 쓰는 것에 비교해 훨씬 짧기도 합니다.\n",
      "\n",
      "\n",
      "\n",
      "\n",
      "AutoReader is good\n"
     ]
    }
   ],
   "source": [
    "class AutoUTF8Reader:\n",
    "    \n",
    "    def __init__(self, readsrc):\n",
    "        print(\"__init__ invoked\\n\\n\\n\\n\")\n",
    "        self.readsrc = readsrc\n",
    "    \n",
    "    def __enter__(self):\n",
    "        self.f = open(self.readsrc, 'r', encoding=\"UTF8\")\n",
    "        print(self.f.read())\n",
    "        return \"\\n\\n\\n\\nAutoReader is good\"\n",
    "    \n",
    "    def __exit__(self, exc_type, exc_value, traceback):\n",
    "        self.f.close()\n",
    "        \n",
    "with AutoUTF8Reader(readsrc) as result:\n",
    "    print(result)"
   ]
  },
  {
   "cell_type": "markdown",
   "id": "humanitarian-garlic",
   "metadata": {},
   "source": [
    "### * json"
   ]
  },
  {
   "cell_type": "code",
   "execution_count": 131,
   "id": "turned-uganda",
   "metadata": {},
   "outputs": [
    {
     "data": {
      "text/plain": [
       "[{'age': 15, 'name': 'Jackson'},\n",
       " {'age': 28, 'name': 'Eddie'},\n",
       " {'age': 27, 'name': 'kha'}]"
      ]
     },
     "execution_count": 131,
     "metadata": {},
     "output_type": "execute_result"
    }
   ],
   "source": [
    "import json\n",
    "data1 = dict(\n",
    "    name = \"Jackson\",\n",
    "    age = 15\n",
    ")\n",
    "data2 = dict(\n",
    "    name = \"Eddie\",\n",
    "    age = 28\n",
    ")\n",
    "data3 = dict(\n",
    "    name = \"kha\",\n",
    "    age = 27\n",
    ")\n",
    "dumped_json = json.dumps([data1, data2, data3], sort_keys=True, indent=4)\n",
    "with open(\"json_module_test.json\", 'w', encoding='UTF8') as f:\n",
    "    f.write(dumped_json)\n",
    "    \n",
    "with open(\"json_module_test.json\", 'r', encoding='UTF8') as f:\n",
    "    result_data = json.load(f)\n",
    "    \n",
    "result_data"
   ]
  },
  {
   "cell_type": "markdown",
   "id": "first-specialist",
   "metadata": {},
   "source": [
    "## - 이터레이터와 제너레이터"
   ]
  },
  {
   "cell_type": "markdown",
   "id": "nonprofit-warner",
   "metadata": {},
   "source": [
    "### * 이터레이터(iterator)"
   ]
  },
  {
   "cell_type": "markdown",
   "id": "invalid-immunology",
   "metadata": {},
   "source": [
    " - 기본 사용법"
   ]
  },
  {
   "cell_type": "code",
   "execution_count": 132,
   "id": "million-terminology",
   "metadata": {},
   "outputs": [],
   "source": [
    "s = 'abc'\n",
    "it = iter(s)"
   ]
  },
  {
   "cell_type": "code",
   "execution_count": 133,
   "id": "secure-score",
   "metadata": {},
   "outputs": [
    {
     "data": {
      "text/plain": [
       "<str_iterator at 0x1fc32afecd0>"
      ]
     },
     "execution_count": 133,
     "metadata": {},
     "output_type": "execute_result"
    }
   ],
   "source": [
    "it"
   ]
  },
  {
   "cell_type": "code",
   "execution_count": 134,
   "id": "behind-michael",
   "metadata": {},
   "outputs": [
    {
     "data": {
      "text/plain": [
       "'a'"
      ]
     },
     "execution_count": 134,
     "metadata": {},
     "output_type": "execute_result"
    }
   ],
   "source": [
    "next(it)"
   ]
  },
  {
   "cell_type": "code",
   "execution_count": 135,
   "id": "organized-commodity",
   "metadata": {},
   "outputs": [
    {
     "data": {
      "text/plain": [
       "'b'"
      ]
     },
     "execution_count": 135,
     "metadata": {},
     "output_type": "execute_result"
    }
   ],
   "source": [
    "next(it)"
   ]
  },
  {
   "cell_type": "code",
   "execution_count": 136,
   "id": "loving-excuse",
   "metadata": {},
   "outputs": [
    {
     "data": {
      "text/plain": [
       "'c'"
      ]
     },
     "execution_count": 136,
     "metadata": {},
     "output_type": "execute_result"
    }
   ],
   "source": [
    "next(it)"
   ]
  },
  {
   "cell_type": "code",
   "execution_count": 137,
   "id": "streaming-luxury",
   "metadata": {},
   "outputs": [
    {
     "ename": "StopIteration",
     "evalue": "",
     "output_type": "error",
     "traceback": [
      "\u001b[1;31m---------------------------------------------------------------------------\u001b[0m",
      "\u001b[1;31mStopIteration\u001b[0m                             Traceback (most recent call last)",
      "\u001b[1;32m<ipython-input-137-bc1ab118995a>\u001b[0m in \u001b[0;36m<module>\u001b[1;34m\u001b[0m\n\u001b[1;32m----> 1\u001b[1;33m \u001b[0mnext\u001b[0m\u001b[1;33m(\u001b[0m\u001b[0mit\u001b[0m\u001b[1;33m)\u001b[0m\u001b[1;33m\u001b[0m\u001b[1;33m\u001b[0m\u001b[0m\n\u001b[0m",
      "\u001b[1;31mStopIteration\u001b[0m: "
     ]
    }
   ],
   "source": [
    "next(it)"
   ]
  },
  {
   "cell_type": "markdown",
   "id": "opposed-bracelet",
   "metadata": {},
   "source": [
    " - 다른 초기화법"
   ]
  },
  {
   "cell_type": "code",
   "execution_count": 142,
   "id": "arabic-robinson",
   "metadata": {},
   "outputs": [
    {
     "name": "stdout",
     "output_type": "stream",
     "text": [
      "a\n",
      "b\n",
      "c\n"
     ]
    }
   ],
   "source": [
    "s = 'abc'\n",
    "it = s.__iter__()\n",
    "print(it.__next__())\n",
    "print(it.__next__())\n",
    "print(it.__next__())"
   ]
  },
  {
   "cell_type": "code",
   "execution_count": 14,
   "id": "auburn-royalty",
   "metadata": {},
   "outputs": [],
   "source": [
    "class Reverse:\n",
    "    \n",
    "    def __init__(self, data):\n",
    "        self.data = data\n",
    "        self.index = len(data)\n",
    "        \n",
    "    def __iter__(self):\n",
    "        return self\n",
    "    \n",
    "    def __next__(self):\n",
    "        if self.index == 0:\n",
    "            raise StopIteration\n",
    "        self.index = self.index - 1\n",
    "        return self.data[self.index]"
   ]
  },
  {
   "cell_type": "code",
   "execution_count": 15,
   "id": "attended-magnet",
   "metadata": {},
   "outputs": [
    {
     "name": "stdout",
     "output_type": "stream",
     "text": [
      "m\n",
      "a\n",
      "p\n",
      "s\n"
     ]
    }
   ],
   "source": [
    "rev = Reverse('spam')\n",
    "for char in rev:\n",
    "    print(char)"
   ]
  },
  {
   "cell_type": "markdown",
   "id": "occupied-christianity",
   "metadata": {},
   "source": [
    "### * 제너레이터(generator)"
   ]
  },
  {
   "cell_type": "code",
   "execution_count": 139,
   "id": "lonely-adaptation",
   "metadata": {},
   "outputs": [
    {
     "name": "stdout",
     "output_type": "stream",
     "text": [
      "3\n",
      "2\n",
      "1\n"
     ]
    }
   ],
   "source": [
    "def count3():\n",
    "    yield 3\n",
    "    yield 2\n",
    "    yield 1\n",
    "    \n",
    "for i in count3():\n",
    "    print(i)"
   ]
  },
  {
   "cell_type": "code",
   "execution_count": 143,
   "id": "frequent-christopher",
   "metadata": {},
   "outputs": [
    {
     "name": "stdout",
     "output_type": "stream",
     "text": [
      "3\n",
      "2\n",
      "1\n"
     ]
    }
   ],
   "source": [
    "cnt = count3()\n",
    "print(next(cnt))\n",
    "print(next(cnt))\n",
    "print(next(cnt))"
   ]
  },
  {
   "cell_type": "markdown",
   "id": "cultural-school",
   "metadata": {},
   "source": [
    " - 이터레이터와 제너레이터의 관계\n",
    "\n",
    "`Generator` --> `__iter__()` --> `__next__()` --> `yield`"
   ]
  },
  {
   "cell_type": "code",
   "execution_count": 144,
   "id": "intermediate-edgar",
   "metadata": {},
   "outputs": [],
   "source": [
    "def reverse(data):\n",
    "    for index in range(len(data)-1, -1, -1):\n",
    "        yield data[index]"
   ]
  },
  {
   "cell_type": "code",
   "execution_count": 145,
   "id": "ignored-medicaid",
   "metadata": {},
   "outputs": [
    {
     "name": "stdout",
     "output_type": "stream",
     "text": [
      "f\n",
      "l\n",
      "o\n",
      "g\n"
     ]
    }
   ],
   "source": [
    "for char in reverse('golf'):\n",
    "    print(char)"
   ]
  },
  {
   "cell_type": "code",
   "execution_count": 146,
   "id": "dependent-cannon",
   "metadata": {},
   "outputs": [
    {
     "data": {
      "text/plain": [
       "['f', 'l', 'o', 'g']"
      ]
     },
     "execution_count": 146,
     "metadata": {},
     "output_type": "execute_result"
    }
   ],
   "source": [
    "list(char for char in reverse('golf'))"
   ]
  },
  {
   "cell_type": "markdown",
   "id": "developing-catalog",
   "metadata": {},
   "source": [
    "## - 비동기 async"
   ]
  },
  {
   "cell_type": "code",
   "execution_count": null,
   "id": "christian-classification",
   "metadata": {},
   "outputs": [],
   "source": [
    "pass"
   ]
  },
  {
   "cell_type": "markdown",
   "id": "subject-eleven",
   "metadata": {},
   "source": [
    "## - 가상환경"
   ]
  },
  {
   "cell_type": "code",
   "execution_count": 149,
   "id": "wired-genre",
   "metadata": {},
   "outputs": [],
   "source": [
    "pass"
   ]
  },
  {
   "cell_type": "markdown",
   "id": "adjustable-disney",
   "metadata": {},
   "source": [
    "## - 빌트인 함수와 표준 라이브러리"
   ]
  },
  {
   "cell_type": "code",
   "execution_count": 147,
   "id": "legislative-surge",
   "metadata": {},
   "outputs": [],
   "source": [
    "pass"
   ]
  },
  {
   "cell_type": "markdown",
   "id": "defensive-blogger",
   "metadata": {},
   "source": [
    "## - 날짜 다루기"
   ]
  },
  {
   "cell_type": "code",
   "execution_count": 148,
   "id": "large-justice",
   "metadata": {},
   "outputs": [],
   "source": [
    "pass"
   ]
  },
  {
   "cell_type": "markdown",
   "id": "closing-anchor",
   "metadata": {},
   "source": [
    "<br>\n",
    "<br>\n",
    "<br>\n",
    "<br>\n",
    "<br>\n",
    "<br>\n",
    "<hr>\n",
    "<br>\n",
    "<br>\n",
    "<br>\n",
    "<br>\n",
    "<br>\n",
    "<br>"
   ]
  },
  {
   "cell_type": "markdown",
   "id": "extreme-quantity",
   "metadata": {},
   "source": [
    "<br><hr><br><hr><br><hr><br><hr><br><hr><br><hr><br><hr><br><hr><br><hr><br><hr>"
   ]
  },
  {
   "cell_type": "markdown",
   "id": "secure-desperate",
   "metadata": {},
   "source": [
    "# Built-in 함수\n",
    "\n",
    "https://docs.python.org/3/library/functions.html"
   ]
  },
  {
   "cell_type": "markdown",
   "id": "primary-pantyhose",
   "metadata": {},
   "source": [
    "### * sum"
   ]
  },
  {
   "cell_type": "code",
   "execution_count": 22,
   "id": "exterior-reservation",
   "metadata": {},
   "outputs": [
    {
     "data": {
      "text/plain": [
       "145"
      ]
     },
     "execution_count": 22,
     "metadata": {},
     "output_type": "execute_result"
    }
   ],
   "source": [
    "sum(range(10,20))"
   ]
  },
  {
   "cell_type": "code",
   "execution_count": 20,
   "id": "cultural-pharmaceutical",
   "metadata": {},
   "outputs": [
    {
     "data": {
      "text/plain": [
       "100"
      ]
     },
     "execution_count": 20,
     "metadata": {},
     "output_type": "execute_result"
    }
   ],
   "source": [
    "sum([10, 20, 30, 40])"
   ]
  },
  {
   "cell_type": "markdown",
   "id": "breeding-problem",
   "metadata": {},
   "source": [
    "### * max"
   ]
  },
  {
   "cell_type": "markdown",
   "id": "martial-captain",
   "metadata": {},
   "source": []
  },
  {
   "cell_type": "markdown",
   "id": "consolidated-display",
   "metadata": {},
   "source": [
    "### * min"
   ]
  },
  {
   "cell_type": "markdown",
   "id": "abstract-daughter",
   "metadata": {},
   "source": []
  },
  {
   "cell_type": "markdown",
   "id": "specific-helen",
   "metadata": {},
   "source": [
    "### * abs"
   ]
  },
  {
   "cell_type": "markdown",
   "id": "genetic-hundred",
   "metadata": {},
   "source": []
  },
  {
   "cell_type": "markdown",
   "id": "gross-gregory",
   "metadata": {},
   "source": [
    "### * pow"
   ]
  },
  {
   "cell_type": "markdown",
   "id": "coral-laser",
   "metadata": {},
   "source": []
  },
  {
   "cell_type": "markdown",
   "id": "weighted-roots",
   "metadata": {},
   "source": [
    "### * divmod"
   ]
  },
  {
   "cell_type": "code",
   "execution_count": 11,
   "id": "scientific-condition",
   "metadata": {},
   "outputs": [
    {
     "data": {
      "text/plain": [
       "(3, 1)"
      ]
     },
     "execution_count": 11,
     "metadata": {},
     "output_type": "execute_result"
    }
   ],
   "source": [
    "divmod(10, 3)"
   ]
  },
  {
   "cell_type": "code",
   "execution_count": 13,
   "id": "inner-acting",
   "metadata": {},
   "outputs": [
    {
     "data": {
      "text/plain": [
       "(3, 1)"
      ]
     },
     "execution_count": 13,
     "metadata": {},
     "output_type": "execute_result"
    }
   ],
   "source": [
    "10 // 3, 10 % 3"
   ]
  },
  {
   "cell_type": "markdown",
   "id": "aware-multimedia",
   "metadata": {},
   "source": [
    "### * round"
   ]
  },
  {
   "cell_type": "code",
   "execution_count": 15,
   "id": "textile-trauma",
   "metadata": {},
   "outputs": [
    {
     "data": {
      "text/plain": [
       "6"
      ]
     },
     "execution_count": 15,
     "metadata": {},
     "output_type": "execute_result"
    }
   ],
   "source": [
    "round(5.5)"
   ]
  },
  {
   "cell_type": "code",
   "execution_count": 17,
   "id": "operating-arrow",
   "metadata": {},
   "outputs": [
    {
     "data": {
      "text/plain": [
       "6"
      ]
     },
     "execution_count": 17,
     "metadata": {},
     "output_type": "execute_result"
    }
   ],
   "source": [
    "round(6.5)"
   ]
  },
  {
   "cell_type": "markdown",
   "id": "accompanied-murray",
   "metadata": {},
   "source": [
    "짝수일 경우 내리고 홀수일 경우 올린다"
   ]
  },
  {
   "cell_type": "markdown",
   "id": "published-desert",
   "metadata": {},
   "source": [
    "<br>\n",
    "<br>\n",
    "<br>\n",
    "<br>\n",
    "<br>\n",
    "<br>\n",
    "<hr>\n",
    "<br>\n",
    "<br>\n",
    "<br>\n",
    "<br>\n",
    "<br>\n",
    "<br>"
   ]
  },
  {
   "cell_type": "markdown",
   "id": "fitted-worst",
   "metadata": {},
   "source": []
  },
  {
   "cell_type": "code",
   "execution_count": null,
   "id": "labeled-swift",
   "metadata": {},
   "outputs": [],
   "source": []
  },
  {
   "cell_type": "markdown",
   "id": "assured-stretch",
   "metadata": {},
   "source": [
    "### 정규표현식\n",
    "### 크롤링"
   ]
  },
  {
   "cell_type": "code",
   "execution_count": null,
   "id": "developmental-token",
   "metadata": {},
   "outputs": [],
   "source": []
  },
  {
   "cell_type": "markdown",
   "id": "advanced-protest",
   "metadata": {},
   "source": [
    "### Numpy\n",
    "### Pandas\n",
    "### Matplotlib"
   ]
  },
  {
   "cell_type": "code",
   "execution_count": null,
   "id": "crazy-president",
   "metadata": {},
   "outputs": [],
   "source": []
  }
 ],
 "metadata": {
  "kernelspec": {
   "display_name": "Python 3 (ipykernel)",
   "language": "python",
   "name": "python3"
  },
  "language_info": {
   "codemirror_mode": {
    "name": "ipython",
    "version": 3
   },
   "file_extension": ".py",
   "mimetype": "text/x-python",
   "name": "python",
   "nbconvert_exporter": "python",
   "pygments_lexer": "ipython3",
   "version": "3.9.6"
  }
 },
 "nbformat": 4,
 "nbformat_minor": 5
}
