{
 "cells": [
  {
   "cell_type": "markdown",
   "id": "married-mailing",
   "metadata": {},
   "source": [
    "# 14. 더 나은 파이썬 활용"
   ]
  },
  {
   "cell_type": "markdown",
   "id": "opened-closure",
   "metadata": {},
   "source": [
    "## - 이터레이터와 제너레이터"
   ]
  },
  {
   "cell_type": "markdown",
   "id": "intelligent-concentration",
   "metadata": {},
   "source": [
    "### * 이터레이터(iterator)"
   ]
  },
  {
   "cell_type": "markdown",
   "id": "expired-venezuela",
   "metadata": {},
   "source": [
    " - 기본 사용법"
   ]
  },
  {
   "cell_type": "code",
   "execution_count": 132,
   "id": "alpine-narrow",
   "metadata": {},
   "outputs": [],
   "source": [
    "s = 'abc'\n",
    "it = iter(s)"
   ]
  },
  {
   "cell_type": "code",
   "execution_count": 133,
   "id": "cross-algebra",
   "metadata": {},
   "outputs": [
    {
     "data": {
      "text/plain": [
       "<str_iterator at 0x1fc32afecd0>"
      ]
     },
     "execution_count": 133,
     "metadata": {},
     "output_type": "execute_result"
    }
   ],
   "source": [
    "it"
   ]
  },
  {
   "cell_type": "code",
   "execution_count": 134,
   "id": "competitive-norfolk",
   "metadata": {},
   "outputs": [
    {
     "data": {
      "text/plain": [
       "'a'"
      ]
     },
     "execution_count": 134,
     "metadata": {},
     "output_type": "execute_result"
    }
   ],
   "source": [
    "next(it)"
   ]
  },
  {
   "cell_type": "code",
   "execution_count": 135,
   "id": "amended-brother",
   "metadata": {},
   "outputs": [
    {
     "data": {
      "text/plain": [
       "'b'"
      ]
     },
     "execution_count": 135,
     "metadata": {},
     "output_type": "execute_result"
    }
   ],
   "source": [
    "next(it)"
   ]
  },
  {
   "cell_type": "code",
   "execution_count": 136,
   "id": "spread-magazine",
   "metadata": {},
   "outputs": [
    {
     "data": {
      "text/plain": [
       "'c'"
      ]
     },
     "execution_count": 136,
     "metadata": {},
     "output_type": "execute_result"
    }
   ],
   "source": [
    "next(it)"
   ]
  },
  {
   "cell_type": "code",
   "execution_count": 137,
   "id": "falling-climate",
   "metadata": {},
   "outputs": [
    {
     "ename": "StopIteration",
     "evalue": "",
     "output_type": "error",
     "traceback": [
      "\u001b[1;31m---------------------------------------------------------------------------\u001b[0m",
      "\u001b[1;31mStopIteration\u001b[0m                             Traceback (most recent call last)",
      "\u001b[1;32m<ipython-input-137-bc1ab118995a>\u001b[0m in \u001b[0;36m<module>\u001b[1;34m\u001b[0m\n\u001b[1;32m----> 1\u001b[1;33m \u001b[0mnext\u001b[0m\u001b[1;33m(\u001b[0m\u001b[0mit\u001b[0m\u001b[1;33m)\u001b[0m\u001b[1;33m\u001b[0m\u001b[1;33m\u001b[0m\u001b[0m\n\u001b[0m",
      "\u001b[1;31mStopIteration\u001b[0m: "
     ]
    }
   ],
   "source": [
    "next(it)"
   ]
  },
  {
   "cell_type": "markdown",
   "id": "careful-pension",
   "metadata": {},
   "source": [
    " - 다른 초기화법"
   ]
  },
  {
   "cell_type": "code",
   "execution_count": 142,
   "id": "planned-meditation",
   "metadata": {},
   "outputs": [
    {
     "name": "stdout",
     "output_type": "stream",
     "text": [
      "a\n",
      "b\n",
      "c\n"
     ]
    }
   ],
   "source": [
    "s = 'abc'\n",
    "it = s.__iter__()\n",
    "print(it.__next__())\n",
    "print(it.__next__())\n",
    "print(it.__next__())"
   ]
  },
  {
   "cell_type": "code",
   "execution_count": 14,
   "id": "planned-target",
   "metadata": {},
   "outputs": [],
   "source": [
    "class Reverse:\n",
    "    \n",
    "    def __init__(self, data):\n",
    "        self.data = data\n",
    "        self.index = len(data)\n",
    "        \n",
    "    def __iter__(self):\n",
    "        return self\n",
    "    \n",
    "    def __next__(self):\n",
    "        if self.index == 0:\n",
    "            raise StopIteration\n",
    "        self.index = self.index - 1\n",
    "        return self.data[self.index]"
   ]
  },
  {
   "cell_type": "code",
   "execution_count": 15,
   "id": "plain-technique",
   "metadata": {},
   "outputs": [
    {
     "name": "stdout",
     "output_type": "stream",
     "text": [
      "m\n",
      "a\n",
      "p\n",
      "s\n"
     ]
    }
   ],
   "source": [
    "rev = Reverse('spam')\n",
    "for char in rev:\n",
    "    print(char)"
   ]
  },
  {
   "cell_type": "markdown",
   "id": "amber-rover",
   "metadata": {},
   "source": [
    "### * 제너레이터(generator)"
   ]
  },
  {
   "cell_type": "code",
   "execution_count": 139,
   "id": "voluntary-china",
   "metadata": {},
   "outputs": [
    {
     "name": "stdout",
     "output_type": "stream",
     "text": [
      "3\n",
      "2\n",
      "1\n"
     ]
    }
   ],
   "source": [
    "def count3():\n",
    "    yield 3\n",
    "    yield 2\n",
    "    yield 1\n",
    "    \n",
    "for i in count3():\n",
    "    print(i)"
   ]
  },
  {
   "cell_type": "code",
   "execution_count": 143,
   "id": "authentic-switzerland",
   "metadata": {},
   "outputs": [
    {
     "name": "stdout",
     "output_type": "stream",
     "text": [
      "3\n",
      "2\n",
      "1\n"
     ]
    }
   ],
   "source": [
    "cnt = count3()\n",
    "print(next(cnt))\n",
    "print(next(cnt))\n",
    "print(next(cnt))"
   ]
  },
  {
   "cell_type": "markdown",
   "id": "attempted-patient",
   "metadata": {},
   "source": [
    " - 이터레이터와 제너레이터의 관계\n",
    "\n",
    "`Generator` --> `__iter__()` --> `__next__()` --> `yield`"
   ]
  },
  {
   "cell_type": "code",
   "execution_count": 144,
   "id": "spectacular-error",
   "metadata": {},
   "outputs": [],
   "source": [
    "def reverse(data):\n",
    "    for index in range(len(data)-1, -1, -1):\n",
    "        yield data[index]"
   ]
  },
  {
   "cell_type": "code",
   "execution_count": 145,
   "id": "intended-benefit",
   "metadata": {},
   "outputs": [
    {
     "name": "stdout",
     "output_type": "stream",
     "text": [
      "f\n",
      "l\n",
      "o\n",
      "g\n"
     ]
    }
   ],
   "source": [
    "for char in reverse('golf'):\n",
    "    print(char)"
   ]
  },
  {
   "cell_type": "code",
   "execution_count": 146,
   "id": "actual-sewing",
   "metadata": {},
   "outputs": [
    {
     "data": {
      "text/plain": [
       "['f', 'l', 'o', 'g']"
      ]
     },
     "execution_count": 146,
     "metadata": {},
     "output_type": "execute_result"
    }
   ],
   "source": [
    "list(char for char in reverse('golf'))"
   ]
  },
  {
   "cell_type": "markdown",
   "id": "biological-desert",
   "metadata": {},
   "source": [
    "## - 비동기 async"
   ]
  },
  {
   "cell_type": "code",
   "execution_count": null,
   "id": "consolidated-seeker",
   "metadata": {},
   "outputs": [],
   "source": [
    "pass"
   ]
  },
  {
   "cell_type": "markdown",
   "id": "improving-surge",
   "metadata": {},
   "source": [
    "## - 가상환경"
   ]
  },
  {
   "cell_type": "code",
   "execution_count": 149,
   "id": "comprehensive-advance",
   "metadata": {},
   "outputs": [],
   "source": [
    "pass"
   ]
  },
  {
   "cell_type": "markdown",
   "id": "soviet-panama",
   "metadata": {},
   "source": [
    "## - 빌트인 함수와 표준 라이브러리"
   ]
  },
  {
   "cell_type": "code",
   "execution_count": 147,
   "id": "identified-jacob",
   "metadata": {},
   "outputs": [],
   "source": [
    "pass"
   ]
  },
  {
   "cell_type": "markdown",
   "id": "advised-making",
   "metadata": {},
   "source": [
    "## - 날짜 다루기"
   ]
  },
  {
   "cell_type": "code",
   "execution_count": 148,
   "id": "labeled-right",
   "metadata": {},
   "outputs": [],
   "source": [
    "pass"
   ]
  },
  {
   "cell_type": "markdown",
   "id": "french-supplier",
   "metadata": {},
   "source": [
    "<br>\n",
    "<br>\n",
    "<br>\n",
    "<br>\n",
    "<br>\n",
    "<br>\n",
    "<hr>\n",
    "<br>\n",
    "<br>\n",
    "<br>\n",
    "<br>\n",
    "<br>\n",
    "<br>"
   ]
  },
  {
   "cell_type": "markdown",
   "id": "structural-victim",
   "metadata": {},
   "source": [
    "<br><hr><br><hr><br><hr><br><hr><br><hr><br><hr><br><hr><br><hr><br><hr><br><hr>"
   ]
  },
  {
   "cell_type": "markdown",
   "id": "based-chosen",
   "metadata": {},
   "source": [
    "# Built-in 함수\n",
    "\n",
    "https://docs.python.org/3/library/functions.html"
   ]
  },
  {
   "cell_type": "markdown",
   "id": "female-jefferson",
   "metadata": {},
   "source": [
    "### * sum"
   ]
  },
  {
   "cell_type": "code",
   "execution_count": 22,
   "id": "executed-administrator",
   "metadata": {},
   "outputs": [
    {
     "data": {
      "text/plain": [
       "145"
      ]
     },
     "execution_count": 22,
     "metadata": {},
     "output_type": "execute_result"
    }
   ],
   "source": [
    "sum(range(10,20))"
   ]
  },
  {
   "cell_type": "code",
   "execution_count": 20,
   "id": "fifth-truth",
   "metadata": {},
   "outputs": [
    {
     "data": {
      "text/plain": [
       "100"
      ]
     },
     "execution_count": 20,
     "metadata": {},
     "output_type": "execute_result"
    }
   ],
   "source": [
    "sum([10, 20, 30, 40])"
   ]
  },
  {
   "cell_type": "markdown",
   "id": "quarterly-mason",
   "metadata": {},
   "source": [
    "### * max"
   ]
  },
  {
   "cell_type": "markdown",
   "id": "advised-cross",
   "metadata": {},
   "source": []
  },
  {
   "cell_type": "markdown",
   "id": "smart-ridge",
   "metadata": {},
   "source": [
    "### * min"
   ]
  },
  {
   "cell_type": "markdown",
   "id": "social-calculator",
   "metadata": {},
   "source": []
  },
  {
   "cell_type": "markdown",
   "id": "emerging-tuning",
   "metadata": {},
   "source": [
    "### * abs"
   ]
  },
  {
   "cell_type": "markdown",
   "id": "sustainable-situation",
   "metadata": {},
   "source": []
  },
  {
   "cell_type": "markdown",
   "id": "systematic-congo",
   "metadata": {},
   "source": [
    "### * pow"
   ]
  },
  {
   "cell_type": "markdown",
   "id": "meaningful-macro",
   "metadata": {},
   "source": []
  },
  {
   "cell_type": "markdown",
   "id": "generous-candy",
   "metadata": {},
   "source": [
    "### * divmod"
   ]
  },
  {
   "cell_type": "code",
   "execution_count": 11,
   "id": "likely-absorption",
   "metadata": {},
   "outputs": [
    {
     "data": {
      "text/plain": [
       "(3, 1)"
      ]
     },
     "execution_count": 11,
     "metadata": {},
     "output_type": "execute_result"
    }
   ],
   "source": [
    "divmod(10, 3)"
   ]
  },
  {
   "cell_type": "code",
   "execution_count": 13,
   "id": "operational-wright",
   "metadata": {},
   "outputs": [
    {
     "data": {
      "text/plain": [
       "(3, 1)"
      ]
     },
     "execution_count": 13,
     "metadata": {},
     "output_type": "execute_result"
    }
   ],
   "source": [
    "10 // 3, 10 % 3"
   ]
  },
  {
   "cell_type": "markdown",
   "id": "unlimited-duplicate",
   "metadata": {},
   "source": [
    "### * round"
   ]
  },
  {
   "cell_type": "code",
   "execution_count": 15,
   "id": "silent-jumping",
   "metadata": {},
   "outputs": [
    {
     "data": {
      "text/plain": [
       "6"
      ]
     },
     "execution_count": 15,
     "metadata": {},
     "output_type": "execute_result"
    }
   ],
   "source": [
    "round(5.5)"
   ]
  },
  {
   "cell_type": "code",
   "execution_count": 17,
   "id": "indonesian-mobility",
   "metadata": {},
   "outputs": [
    {
     "data": {
      "text/plain": [
       "6"
      ]
     },
     "execution_count": 17,
     "metadata": {},
     "output_type": "execute_result"
    }
   ],
   "source": [
    "round(6.5)"
   ]
  },
  {
   "cell_type": "markdown",
   "id": "curious-amount",
   "metadata": {},
   "source": [
    "짝수일 경우 내리고 홀수일 경우 올린다"
   ]
  },
  {
   "cell_type": "markdown",
   "id": "noticed-sheep",
   "metadata": {},
   "source": [
    "<br>\n",
    "<br>\n",
    "<br>\n",
    "<br>\n",
    "<br>\n",
    "<br>\n",
    "<hr>\n",
    "<br>\n",
    "<br>\n",
    "<br>\n",
    "<br>\n",
    "<br>\n",
    "<br>"
   ]
  },
  {
   "cell_type": "markdown",
   "id": "municipal-supervisor",
   "metadata": {},
   "source": []
  },
  {
   "cell_type": "code",
   "execution_count": null,
   "id": "willing-character",
   "metadata": {},
   "outputs": [],
   "source": []
  },
  {
   "cell_type": "markdown",
   "id": "detected-coverage",
   "metadata": {},
   "source": [
    "### 정규표현식\n",
    "### 크롤링"
   ]
  },
  {
   "cell_type": "code",
   "execution_count": null,
   "id": "bottom-population",
   "metadata": {},
   "outputs": [],
   "source": []
  },
  {
   "cell_type": "markdown",
   "id": "enabling-payday",
   "metadata": {},
   "source": [
    "### Numpy\n",
    "### Pandas\n",
    "### Matplotlib"
   ]
  },
  {
   "cell_type": "code",
   "execution_count": null,
   "id": "other-vulnerability",
   "metadata": {},
   "outputs": [],
   "source": []
  }
 ],
 "metadata": {
  "kernelspec": {
   "display_name": "Python 3",
   "language": "python",
   "name": "python3"
  },
  "language_info": {
   "codemirror_mode": {
    "name": "ipython",
    "version": 3
   },
   "file_extension": ".py",
   "mimetype": "text/x-python",
   "name": "python",
   "nbconvert_exporter": "python",
   "pygments_lexer": "ipython3",
   "version": "3.9.2"
  }
 },
 "nbformat": 4,
 "nbformat_minor": 5
}
