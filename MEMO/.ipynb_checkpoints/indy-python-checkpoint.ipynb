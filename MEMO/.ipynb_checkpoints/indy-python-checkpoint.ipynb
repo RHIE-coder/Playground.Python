{
 "cells": [
  {
   "cell_type": "markdown",
   "id": "d397fb9c-c169-4f3c-ae7e-8d90b8b3086d",
   "metadata": {},
   "source": [
    "# 01. About Python"
   ]
  },
  {
   "cell_type": "markdown",
   "id": "caa5d303-88fc-41c2-b628-92c050cc8988",
   "metadata": {
    "tags": []
   },
   "source": [
    "## - History"
   ]
  },
  {
   "cell_type": "markdown",
   "id": "f18992a5-3fbe-4e08-a67d-f4205ca1b1a1",
   "metadata": {},
   "source": [
    "파이썬 이라는 이름은 Monty Python's Flying Circus라는 BBC쇼에서 따온 것, 파충류와는 아무 관련이 없음\n",
    "\n",
    "1994년 귀도 반 로섬(Guido Van Rossum)에 의해 시작. 크리스마스 떄 취미로 만듬."
   ]
  },
  {
   "cell_type": "markdown",
   "id": "0a229af4-a6ef-4173-aa10-1d1272d7d884",
   "metadata": {},
   "source": [
    "## - Structure"
   ]
  },
  {
   "cell_type": "markdown",
   "id": "ca543982-61d2-4e09-96ae-ffe4e8258c91",
   "metadata": {},
   "source": [
    "인터프리터 언어"
   ]
  },
  {
   "cell_type": "markdown",
   "id": "00ea0fba-557c-4b9a-97f2-010c92e41bd1",
   "metadata": {},
   "source": [
    "## - Before Python Programming, You Should Know:"
   ]
  },
  {
   "cell_type": "markdown",
   "id": "384cf808-b3cc-4178-a0df-2565ff7e3d47",
   "metadata": {
    "tags": []
   },
   "source": [
    "### * 파이썬의 기본 인코딩은 UTF-8이다."
   ]
  },
  {
   "cell_type": "code",
   "execution_count": 1,
   "id": "9bd65552-4ac6-4685-8a13-5c7879b86e8e",
   "metadata": {},
   "outputs": [],
   "source": [
    "# -*- coding: UTF-8 -*-"
   ]
  },
  {
   "cell_type": "markdown",
   "id": "a100a776-353e-44c0-b611-caa976b3225d",
   "metadata": {},
   "source": [
    "인코딩을 기본값 외의 것으로 선언시 : "
   ]
  },
  {
   "cell_type": "code",
   "execution_count": 2,
   "id": "dbd0f045-7d71-4b1a-bec0-c3a92ed9d528",
   "metadata": {},
   "outputs": [],
   "source": [
    "# -*- coding: cp1252 -*-"
   ]
  },
  {
   "cell_type": "markdown",
   "id": "f2f58155-4f4f-474c-9c2d-997bf9fee495",
   "metadata": {},
   "source": [
    "### * 파이썬은 모두 객체다."
   ]
  },
  {
   "cell_type": "markdown",
   "id": "5797f3a4-ee78-4351-904d-b9d60b6bdd94",
   "metadata": {},
   "source": [
    " - id() : 주소 값을 알 수 있다."
   ]
  },
  {
   "cell_type": "code",
   "execution_count": 3,
   "id": "1e075093-8b15-42d0-896f-e5658811f509",
   "metadata": {},
   "outputs": [
    {
     "data": {
      "text/plain": [
       "2690057726544"
      ]
     },
     "execution_count": 3,
     "metadata": {},
     "output_type": "execute_result"
    }
   ],
   "source": [
    "a = 10\n",
    "id(a) # 객체 고유의 값"
   ]
  },
  {
   "cell_type": "markdown",
   "id": "deac3a12-7314-41db-9c12-93c59812ac8c",
   "metadata": {},
   "source": [
    " - dir() : 해당 객체가 어떤 변수와 메소드를 가지고 있는지 확인할 수 있다."
   ]
  },
  {
   "cell_type": "code",
   "execution_count": 4,
   "id": "61343717-eca4-41b7-be58-5ceac73a10cd",
   "metadata": {},
   "outputs": [
    {
     "data": {
      "text/plain": [
       "['__abs__',\n",
       " '__add__',\n",
       " '__and__',\n",
       " '__bool__',\n",
       " '__ceil__',\n",
       " '__class__',\n",
       " '__delattr__',\n",
       " '__dir__',\n",
       " '__divmod__',\n",
       " '__doc__',\n",
       " '__eq__',\n",
       " '__float__',\n",
       " '__floor__',\n",
       " '__floordiv__',\n",
       " '__format__',\n",
       " '__ge__',\n",
       " '__getattribute__',\n",
       " '__getnewargs__',\n",
       " '__gt__',\n",
       " '__hash__',\n",
       " '__index__',\n",
       " '__init__',\n",
       " '__init_subclass__',\n",
       " '__int__',\n",
       " '__invert__',\n",
       " '__le__',\n",
       " '__lshift__',\n",
       " '__lt__',\n",
       " '__mod__',\n",
       " '__mul__',\n",
       " '__ne__',\n",
       " '__neg__',\n",
       " '__new__',\n",
       " '__or__',\n",
       " '__pos__',\n",
       " '__pow__',\n",
       " '__radd__',\n",
       " '__rand__',\n",
       " '__rdivmod__',\n",
       " '__reduce__',\n",
       " '__reduce_ex__',\n",
       " '__repr__',\n",
       " '__rfloordiv__',\n",
       " '__rlshift__',\n",
       " '__rmod__',\n",
       " '__rmul__',\n",
       " '__ror__',\n",
       " '__round__',\n",
       " '__rpow__',\n",
       " '__rrshift__',\n",
       " '__rshift__',\n",
       " '__rsub__',\n",
       " '__rtruediv__',\n",
       " '__rxor__',\n",
       " '__setattr__',\n",
       " '__sizeof__',\n",
       " '__str__',\n",
       " '__sub__',\n",
       " '__subclasshook__',\n",
       " '__truediv__',\n",
       " '__trunc__',\n",
       " '__xor__',\n",
       " 'as_integer_ratio',\n",
       " 'bit_length',\n",
       " 'conjugate',\n",
       " 'denominator',\n",
       " 'from_bytes',\n",
       " 'imag',\n",
       " 'numerator',\n",
       " 'real',\n",
       " 'to_bytes']"
      ]
     },
     "execution_count": 4,
     "metadata": {},
     "output_type": "execute_result"
    }
   ],
   "source": [
    "dir(int)"
   ]
  },
  {
   "cell_type": "markdown",
   "id": "1409a083-87f5-4b13-89c1-259ef52109b4",
   "metadata": {
    "tags": []
   },
   "source": [
    "### * help() : 사용법"
   ]
  },
  {
   "cell_type": "code",
   "execution_count": 5,
   "id": "eed3700e-6cec-4470-aae2-46cd38193976",
   "metadata": {},
   "outputs": [
    {
     "name": "stdout",
     "output_type": "stream",
     "text": [
      "Help on built-in function dir in module builtins:\n",
      "\n",
      "dir(...)\n",
      "    dir([object]) -> list of strings\n",
      "    \n",
      "    If called without an argument, return the names in the current scope.\n",
      "    Else, return an alphabetized list of names comprising (some of) the attributes\n",
      "    of the given object, and of attributes reachable from it.\n",
      "    If the object supplies a method named __dir__, it will be used; otherwise\n",
      "    the default dir() logic is used and returns:\n",
      "      for a module object: the module's attributes.\n",
      "      for a class object:  its attributes, and recursively the attributes\n",
      "        of its bases.\n",
      "      for any other object: its attributes, its class's attributes, and\n",
      "        recursively the attributes of its class's base classes.\n",
      "\n"
     ]
    }
   ],
   "source": [
    "help(dir)"
   ]
  },
  {
   "cell_type": "markdown",
   "id": "7399e625-2221-48a8-be45-a5f430563347",
   "metadata": {},
   "source": [
    "### * 코딩스타일"
   ]
  },
  {
   "cell_type": "markdown",
   "id": "a7506d76-2703-45af-a64d-3c42f0a177a9",
   "metadata": {},
   "source": [
    " - indent는 4space로하며 tab은 사용을 금한다\n",
    " - 한 줄에 79자를 넘기지 않는다\n",
    " - 독스트링을 사용하자\n",
    " - 연산자들 주변과 콤마 뒤에 스페이스를 넣고 괄호는 붙인다\n",
    " - 클래스는 UpperCamelCase, 함수와 메서드는 lowercase_with_underscores\n",
    " - UTF-8을 지키자"
   ]
  },
  {
   "cell_type": "markdown",
   "id": "94ae88f4-9f9d-4826-a9fe-a88806ea3e7d",
   "metadata": {},
   "source": [
    "### * 주석"
   ]
  },
  {
   "cell_type": "code",
   "execution_count": 6,
   "id": "41535594-14c0-4abf-86d7-a5181782eded",
   "metadata": {},
   "outputs": [],
   "source": [
    "# This is comment"
   ]
  },
  {
   "cell_type": "markdown",
   "id": "49076789-19ca-44e7-b460-b55ba1347732",
   "metadata": {},
   "source": [
    "### * print() : 출력"
   ]
  },
  {
   "cell_type": "code",
   "execution_count": 7,
   "id": "ccef6cd9-d10a-42a3-97d5-25cff41c9eca",
   "metadata": {},
   "outputs": [
    {
     "name": "stdout",
     "output_type": "stream",
     "text": [
      "123\n",
      "출력 함수\n",
      "1# 2# 이렇게# 3# 4# 여러가지# 출력\n",
      "Hello  World! | 321\n"
     ]
    }
   ],
   "source": [
    "a = 123\n",
    "print(a)\n",
    "print(\"출력 함수\")\n",
    "print(1, 2, \"이렇게\", 3, 4, \"여러가지\", \"출력\", sep=\"# \")\n",
    "print(\"Hello \", \"World!\", end=\" | \")\n",
    "print(321)"
   ]
  },
  {
   "cell_type": "markdown",
   "id": "0af2a56f-840f-4464-825f-09889b4df4bf",
   "metadata": {},
   "source": [
    "<br>\n",
    "<br>\n",
    "<br>\n",
    "<br>\n",
    "<br>\n",
    "<br>\n",
    "<hr>\n",
    "<br>\n",
    "<br>\n",
    "<br>\n",
    "<br>\n",
    "<br>\n",
    "<br>"
   ]
  },
  {
   "cell_type": "markdown",
   "id": "827734b5-2bc3-48d0-95bc-0889bc108b79",
   "metadata": {
    "tags": []
   },
   "source": [
    "# 02. 변수와 자료형"
   ]
  },
  {
   "cell_type": "markdown",
   "id": "0801aeb6-f680-4f82-aba8-17ab3ca69c20",
   "metadata": {
    "tags": []
   },
   "source": [
    "## - 자료형\n",
    "\n",
    " - int\n",
    " - float\n",
    " - string\n",
    " - boolean\n",
    " - list\n",
    " - dict\n",
    " - tuple\n",
    " - None\n",
    " \n",
    "\n",
    "long형은 존재하지 않는다"
   ]
  },
  {
   "cell_type": "markdown",
   "id": "fc7ad60f-f892-442d-9969-77ce69883373",
   "metadata": {},
   "source": [
    "### * type() : 자료형을 확인한다"
   ]
  },
  {
   "cell_type": "code",
   "execution_count": 1,
   "id": "827c1db1-e932-43fe-b6f6-5fa02b412cae",
   "metadata": {},
   "outputs": [
    {
     "data": {
      "text/plain": [
       "str"
      ]
     },
     "execution_count": 1,
     "metadata": {},
     "output_type": "execute_result"
    }
   ],
   "source": [
    "type(\"hello\")"
   ]
  },
  {
   "cell_type": "code",
   "execution_count": 2,
   "id": "5e14b0d3-239b-440a-9902-b80ccd0d3ddd",
   "metadata": {},
   "outputs": [
    {
     "data": {
      "text/plain": [
       "int"
      ]
     },
     "execution_count": 2,
     "metadata": {},
     "output_type": "execute_result"
    }
   ],
   "source": [
    "type(10)"
   ]
  },
  {
   "cell_type": "markdown",
   "id": "862294e3-9b04-4a83-8613-d68ee3613188",
   "metadata": {},
   "source": [
    "## - 변수"
   ]
  },
  {
   "cell_type": "markdown",
   "id": "18a91deb-08a9-4f1a-8f3a-000df92869e0",
   "metadata": {
    "tags": []
   },
   "source": [
    "### * 변수 할당"
   ]
  },
  {
   "cell_type": "code",
   "execution_count": 3,
   "id": "8725edb3-1bdd-47e0-89a2-158f61d63ddf",
   "metadata": {},
   "outputs": [
    {
     "name": "stdout",
     "output_type": "stream",
     "text": [
      "10\n"
     ]
    }
   ],
   "source": [
    "a = 10\n",
    "print(a)"
   ]
  },
  {
   "cell_type": "code",
   "execution_count": 4,
   "id": "bdeb8028-a7e0-4eb1-8f6d-2b99dc631632",
   "metadata": {},
   "outputs": [
    {
     "name": "stdout",
     "output_type": "stream",
     "text": [
      "10 <class 'int'>\n",
      "hello <class 'str'>\n",
      "3.14 <class 'float'>\n"
     ]
    }
   ],
   "source": [
    "a, b, c = 10, \"hello\" ,3.14\n",
    "print(a, type(a))\n",
    "print(b, type(b))\n",
    "print(c, type(c))"
   ]
  },
  {
   "cell_type": "markdown",
   "id": "da39fdc3-e4e1-4f84-ba7f-ad33717c43ce",
   "metadata": {},
   "source": [
    "### * 캐스팅 ( 자료형 변환 )"
   ]
  },
  {
   "cell_type": "code",
   "execution_count": 6,
   "id": "a804fdb4-dd6a-42f9-a5e1-5ea87b68cfd9",
   "metadata": {},
   "outputs": [
    {
     "name": "stdin",
     "output_type": "stream",
     "text": [
      " 20\n"
     ]
    },
    {
     "name": "stdout",
     "output_type": "stream",
     "text": [
      "<class 'str'>\n",
      "<class 'int'>\n"
     ]
    }
   ],
   "source": [
    "a = input()\n",
    "print(type(a))\n",
    "a = int(a)\n",
    "print(type(a))"
   ]
  },
  {
   "cell_type": "markdown",
   "id": "00eb1467-63fd-451d-b068-8383d84132ec",
   "metadata": {},
   "source": [
    "### * del ( 삭제 )"
   ]
  },
  {
   "cell_type": "code",
   "execution_count": 7,
   "id": "d1353bd2-293c-4ac7-b151-92c6be07c955",
   "metadata": {},
   "outputs": [
    {
     "name": "stdout",
     "output_type": "stream",
     "text": [
      "hello world\n"
     ]
    },
    {
     "ename": "NameError",
     "evalue": "name 'a' is not defined",
     "output_type": "error",
     "traceback": [
      "\u001b[1;31m---------------------------------------------------------------------------\u001b[0m",
      "\u001b[1;31mNameError\u001b[0m                                 Traceback (most recent call last)",
      "\u001b[1;32m~\\AppData\\Local\\Temp/ipykernel_8824/2564417195.py\u001b[0m in \u001b[0;36m<module>\u001b[1;34m\u001b[0m\n\u001b[0;32m      2\u001b[0m \u001b[0mprint\u001b[0m\u001b[1;33m(\u001b[0m\u001b[0ma\u001b[0m\u001b[1;33m)\u001b[0m\u001b[1;33m\u001b[0m\u001b[1;33m\u001b[0m\u001b[0m\n\u001b[0;32m      3\u001b[0m \u001b[1;32mdel\u001b[0m \u001b[0ma\u001b[0m\u001b[1;33m\u001b[0m\u001b[1;33m\u001b[0m\u001b[0m\n\u001b[1;32m----> 4\u001b[1;33m \u001b[0mprint\u001b[0m\u001b[1;33m(\u001b[0m\u001b[0ma\u001b[0m\u001b[1;33m)\u001b[0m\u001b[1;33m\u001b[0m\u001b[1;33m\u001b[0m\u001b[0m\n\u001b[0m",
      "\u001b[1;31mNameError\u001b[0m: name 'a' is not defined"
     ]
    }
   ],
   "source": [
    "a = \"hello world\"\n",
    "print(a)\n",
    "del a\n",
    "print(a)"
   ]
  },
  {
   "cell_type": "markdown",
   "id": "42f6e06a-c61f-4bd6-a462-c4d7eaf72fc4",
   "metadata": {},
   "source": [
    "나중에 자세히 배우겠지만 먼저 배열이 무엇인지 맛봅시다. 아래와 같은 코드를 짠다고 가정해보겠습니다.\n",
    "\n",
    "```python\n",
    "korea_region1 = \"서울\";\n",
    "korea_region2 = \"경기도\";\n",
    "korea_region3 = \"부산\";\n",
    "korea_region4 = \"대구\";\n",
    "korea_region5 = \"광주\";\n",
    "korea_region6 = \"대전\";\n",
    "```"
   ]
  },
  {
   "cell_type": "markdown",
   "id": "689951d0-745d-45f3-9390-936c853b34fa",
   "metadata": {},
   "source": [
    "뭔가 비효율적이지 않나요? 같은 `korea_region`인 변수들입니다. 나중에 활용하기도 쉽지 않지요. 다음과 같이 이 모든 변수의 값들을 한 곳에 모으면 어떨까요? \n",
    "\n",
    "```python\n",
    "korea_region = [\"서울\", \"경기도\", \"부산\", \"대구\", \"광주\", \"대전\"];\n",
    "```"
   ]
  },
  {
   "cell_type": "markdown",
   "id": "ba5708eb-c045-43e8-bc45-16948e468393",
   "metadata": {},
   "source": [
    "한결, 편하게 볼 수 있게 됬네요. 이젠 이것을 어떻게 써볼까요. \n",
    "\n",
    "바로 `index`를 활용하면 됩니다. *서울*, *경기도*, *부산*... 등 이 배열의 값들을 각각 배열의 요소(Element)라고 하고, `index`는 배열 요소의 각 위치를 나타냅니다."
   ]
  },
  {
   "cell_type": "markdown",
   "id": "ce3ab179-0d24-4bfc-abc9-3dffc64e76d8",
   "metadata": {},
   "source": [
    "|*`배열 요소 위치`*|1번째 위치|2번째 위치|3번째 위치|4번째 위치|5번째 위치|6번째 위치|\n",
    "|:---:|:---:|:---:|:---:|:---:|:---:|:---:|\n",
    "|*`index`*|0|1|2|3|4|5|\n",
    "|*`배열 요소 값`*| \"서울\" | \"경기도\" | \"부산\" | \"대구\" | \"광주\" | \"대전\" |\n"
   ]
  },
  {
   "cell_type": "markdown",
   "id": "2a25f1ac-955f-4cc3-ba50-24e2ad07707d",
   "metadata": {},
   "source": [
    "```python\n",
    "print(korea_region[0]) //서울\n",
    "print(korea_region[1]) //경기도\n",
    "print(korea_region[2]) //부산\n",
    "print(korea_region[3]) //대구\n",
    "print(korea_region[4]) //광주\n",
    "print(korea_region[5]) //대전\n",
    "print(korea_region[6]) //None\n",
    "```"
   ]
  },
  {
   "cell_type": "markdown",
   "id": "d71f73fd-1123-4d1a-a9fe-9c0c242ef8b1",
   "metadata": {},
   "source": [
    "korea_region[6]의 결과를 살펴보니 list index out of range의 에러가 발생하네요. 이유를 알아보기 전에 우선 배열의 크기를 알아봅시다."
   ]
  },
  {
   "cell_type": "markdown",
   "id": "6cc1f49c-2ecd-4c6b-a64e-72440cfdc1ae",
   "metadata": {},
   "source": [
    "```python\n",
    "print(len(korea_region)) //6\n",
    "```"
   ]
  },
  {
   "cell_type": "markdown",
   "id": "892b0709-2058-489b-abbb-1376c3d7da05",
   "metadata": {},
   "source": [
    "이 `korea_region`의 배열의 크기는 6입니다.\n",
    "\n",
    "그런데 7번째 내용을 출력하라고 했습니다. 있지도 않은 값을 출력하라고 명령한 것과 다름이 없으므로 애초에 정의되어 있지 않아 에러가 ㅂ\n",
    "\n",
    "우리에게 익숙한 `1번째, 2번째, 3번째...` 와 달리 `index`는 0부터 시작합니다. 그래서 프로그래밍을 처음 접하시는 분들은 처음에 익숙하지 않아 힘들 수도 있습니다. 그래도 힘들지만 익숙해져봅시다. 자주 쓰시다 보면 생각보다 금방 익숙해집니다."
   ]
  },
  {
   "cell_type": "markdown",
   "id": "c9ad67cf-14fc-4ff2-b655-0ef0fa86159a",
   "metadata": {},
   "source": [
    "### * mutable and immutable\n",
    "\n",
    "데이터 타입에 따라 값이 변할 수 있는 mutable 방식과 값이 변할 수 없는 immutalbe 방식으로 나뉜다.\n",
    "\n",
    "다음 코드를 보면\n",
    "\n",
    "```python\n",
    "var = \"hello\"\n",
    "print(var) # output : \"hello\"\n",
    "var = \"hello world\"\n",
    "print(var) # output : \"hello world\"\n",
    "```\n",
    "\n",
    "출력해보면 var의 변수 값이 바뀐 것을 볼 수 있다.\n",
    "\n",
    "그런데 사실은 `\"hello\"`라는 값이 `\"hello world\"`라는 값으로 바뀐것이 아니라\n",
    "\n",
    "기존의 값(`\"hello\"`)은 메모리에 그대로 있고 `\"hello world\"`라는 값이 메모리에 새로 생겨나 그 값을 var이라는 변수가 가리킬 뿐이다.\n",
    "\n",
    "즉, `\"hello\"`라는 값은 여전히 메모리에 살아있고 var이 가리키지 않을 뿐이다.\n",
    "\n",
    "이후 가비지 컬랙터(Garbage Collector, GC)가 아무도 가리키지 않고 메모리에 홀로 덩그러니 남겨져 있는 이 `\"hello\"` 값을 없앤다."
   ]
  },
  {
   "cell_type": "markdown",
   "id": "6b4d9ad7-ddc4-4fa1-a510-33c667fdf6ad",
   "metadata": {},
   "source": [
    " - 예를 들어, 문자열과 정수는 immutable하다"
   ]
  },
  {
   "cell_type": "code",
   "execution_count": 8,
   "id": "ace93f4f-706c-4865-9d45-5d4964485295",
   "metadata": {},
   "outputs": [
    {
     "name": "stdout",
     "output_type": "stream",
     "text": [
      "2473027136080 2473027136080\n",
      "2473027136080 2473027136400\n"
     ]
    }
   ],
   "source": [
    "num = 10\n",
    "copy_num = num\n",
    "print(id(num), id(copy_num)) # 두 개의 정수 값의 주소값이 같다.\n",
    "copy_num = 20\n",
    "print(id(num), id(copy_num)) # 두 개의 정수 값의 주소값이 다르다."
   ]
  },
  {
   "cell_type": "code",
   "execution_count": 9,
   "id": "ec08ed55-e703-4a02-b087-b1924a81efa6",
   "metadata": {},
   "outputs": [
    {
     "name": "stdout",
     "output_type": "stream",
     "text": [
      "2473099947952 2473099947952\n",
      "2473099947952 2473099944752\n"
     ]
    }
   ],
   "source": [
    "string = \"Hi\"\n",
    "copy_string = string\n",
    "print(id(string), id(copy_string)) # 두 개의 문자열 값의 주소값이 같다.\n",
    "copy_string = \"Hello\"\n",
    "print(id(string), id(copy_string)) # 두 개의 문자열 값의 주소값이 다르다."
   ]
  },
  {
   "cell_type": "markdown",
   "id": "af04143a-c430-4832-b2d1-46451b1b1ba1",
   "metadata": {},
   "source": [
    " - 예를 들어, 리스트는 mutable하다"
   ]
  },
  {
   "cell_type": "code",
   "execution_count": 10,
   "id": "b944151c-b4f1-49fe-8737-ebbe5d23b00e",
   "metadata": {},
   "outputs": [
    {
     "name": "stdout",
     "output_type": "stream",
     "text": [
      "[100, 2, 3, 'This is List'] [100, 2, 3, 'This is List']\n",
      "2473100118976 2473100118976\n"
     ]
    }
   ],
   "source": [
    "objs = [1, 2, 3, \"This is List\"]\n",
    "copy_objs = objs\n",
    "objs[0] = 100 # 첫번째 값을 100으로 변경\n",
    "print(objs, copy_objs) # 두 개 변수의 리스트 값이 모두 바뀌었다.\n",
    "print(id(objs), id(copy_objs)) # 두 개의 주소값이 같다."
   ]
  },
  {
   "cell_type": "markdown",
   "id": "75b78376-20cf-4f13-a4a8-c00b53d37c7a",
   "metadata": {},
   "source": [
    "<br>\n",
    "<br>\n",
    "<br>\n",
    "<br>\n",
    "<br>\n",
    "<br>\n",
    "<hr>\n",
    "<br>\n",
    "<br>\n",
    "<br>\n",
    "<br>\n",
    "<br>\n",
    "<br>"
   ]
  },
  {
   "cell_type": "markdown",
   "id": "df26cf9a-915c-4ad8-b809-0a5fefdab2c4",
   "metadata": {
    "tags": []
   },
   "source": [
    "# 03. 연산자"
   ]
  },
  {
   "cell_type": "markdown",
   "id": "00984e23-3e94-4681-a9e7-7e4ca507eaae",
   "metadata": {},
   "source": [
    "## - 산술연산 `+`, `-`, `*`, `**`, `/`, `//`, `%`"
   ]
  },
  {
   "cell_type": "markdown",
   "id": "be1b4abb-280f-4e3a-9f42-846a731caa64",
   "metadata": {},
   "source": [
    " - 더하기"
   ]
  },
  {
   "cell_type": "code",
   "execution_count": 1,
   "id": "c79f9846-5d6e-4c67-8f0b-f9d4a327acbe",
   "metadata": {},
   "outputs": [
    {
     "data": {
      "text/plain": [
       "8"
      ]
     },
     "execution_count": 1,
     "metadata": {},
     "output_type": "execute_result"
    }
   ],
   "source": [
    "3 + 5"
   ]
  },
  {
   "cell_type": "markdown",
   "id": "504f666d-8328-45d2-a8e6-65511bc2bfe3",
   "metadata": {},
   "source": [
    " - 빼기"
   ]
  },
  {
   "cell_type": "code",
   "execution_count": 2,
   "id": "979c51f7-a603-4cfb-af3f-ff9f32ca125e",
   "metadata": {},
   "outputs": [
    {
     "data": {
      "text/plain": [
       "7"
      ]
     },
     "execution_count": 2,
     "metadata": {},
     "output_type": "execute_result"
    }
   ],
   "source": [
    "10 - 3"
   ]
  },
  {
   "cell_type": "markdown",
   "id": "2e226b9a-9683-4ca4-89d3-dfbfe6e4b8e3",
   "metadata": {},
   "source": [
    " - 곱하기"
   ]
  },
  {
   "cell_type": "code",
   "execution_count": 3,
   "id": "58c6d241-90fa-4279-a21b-b465d5b0e855",
   "metadata": {},
   "outputs": [
    {
     "data": {
      "text/plain": [
       "80"
      ]
     },
     "execution_count": 3,
     "metadata": {},
     "output_type": "execute_result"
    }
   ],
   "source": [
    "40 * 2"
   ]
  },
  {
   "cell_type": "markdown",
   "id": "598a16f4-727c-4893-9733-ba7f7e5becc1",
   "metadata": {},
   "source": [
    " - n제곱"
   ]
  },
  {
   "cell_type": "code",
   "execution_count": 4,
   "id": "7a2aeed1-81f2-4535-aad2-83c7432dfe79",
   "metadata": {},
   "outputs": [
    {
     "data": {
      "text/plain": [
       "8"
      ]
     },
     "execution_count": 4,
     "metadata": {},
     "output_type": "execute_result"
    }
   ],
   "source": [
    "2 ** 3"
   ]
  },
  {
   "cell_type": "markdown",
   "id": "dcfd728d-536e-4fc7-a775-2b60303644a2",
   "metadata": {},
   "source": [
    " - 나누기(소수의 몫)"
   ]
  },
  {
   "cell_type": "code",
   "execution_count": 5,
   "id": "5f04cc17-5551-4297-a0f6-e0f5a12ba145",
   "metadata": {},
   "outputs": [
    {
     "data": {
      "text/plain": [
       "3.3333333333333335"
      ]
     },
     "execution_count": 5,
     "metadata": {},
     "output_type": "execute_result"
    }
   ],
   "source": [
    "10 / 3"
   ]
  },
  {
   "cell_type": "markdown",
   "id": "8d4a3e88-bf1c-4aa6-915e-89249c59b649",
   "metadata": {},
   "source": [
    " - 나누기(정수의 몫)"
   ]
  },
  {
   "cell_type": "code",
   "execution_count": 6,
   "id": "0a4fcba8-48bb-43cd-add4-a5413e39fe08",
   "metadata": {},
   "outputs": [
    {
     "data": {
      "text/plain": [
       "3"
      ]
     },
     "execution_count": 6,
     "metadata": {},
     "output_type": "execute_result"
    }
   ],
   "source": [
    "10 // 3"
   ]
  },
  {
   "cell_type": "markdown",
   "id": "36ef1f3d-a72c-400b-9169-59105e9dfbbf",
   "metadata": {},
   "source": [
    " - 나누기(나머지)"
   ]
  },
  {
   "cell_type": "code",
   "execution_count": 7,
   "id": "01268f8f-bd10-4d77-886b-5dd6ac8ac58e",
   "metadata": {},
   "outputs": [
    {
     "data": {
      "text/plain": [
       "1"
      ]
     },
     "execution_count": 7,
     "metadata": {},
     "output_type": "execute_result"
    }
   ],
   "source": [
    "10 % 3"
   ]
  },
  {
   "cell_type": "markdown",
   "id": "b07bee46-4362-476a-b075-51be61b7eedc",
   "metadata": {
    "tags": []
   },
   "source": [
    "## - 할당연산 `+=`, `-=`, `*=`, `**=`, `/=`, `//=`, `%=`"
   ]
  },
  {
   "cell_type": "markdown",
   "id": "f11c4142-4cea-4594-a73c-039a2a294354",
   "metadata": {},
   "source": [
    " - 더하기"
   ]
  },
  {
   "cell_type": "code",
   "execution_count": 8,
   "id": "cbd0eadb-8bb4-4326-a6f6-2cf32f146138",
   "metadata": {
    "tags": []
   },
   "outputs": [
    {
     "name": "stdout",
     "output_type": "stream",
     "text": [
      "50\n"
     ]
    }
   ],
   "source": [
    "num = 10\n",
    "num = num + 20\n",
    "num += 20\n",
    "print(num)"
   ]
  },
  {
   "cell_type": "markdown",
   "id": "b9aef170-7040-4e79-ab1e-6af4d6421b31",
   "metadata": {},
   "source": [
    " - 빼기"
   ]
  },
  {
   "cell_type": "code",
   "execution_count": 9,
   "id": "8f82f2a8-2c53-48f3-a7f6-52d7ced7b85f",
   "metadata": {},
   "outputs": [
    {
     "name": "stdout",
     "output_type": "stream",
     "text": [
      "10\n"
     ]
    }
   ],
   "source": [
    "num = 20\n",
    "num -= 10\n",
    "print(num)"
   ]
  },
  {
   "cell_type": "markdown",
   "id": "93a835ff-9d2c-40ec-ac1a-27459af391b8",
   "metadata": {},
   "source": [
    " - 곱하기"
   ]
  },
  {
   "cell_type": "code",
   "execution_count": 10,
   "id": "2b5ac746-1f1e-4759-8942-777c5fcc9b44",
   "metadata": {},
   "outputs": [
    {
     "name": "stdout",
     "output_type": "stream",
     "text": [
      "100\n"
     ]
    }
   ],
   "source": [
    "num = 10\n",
    "num *= 10\n",
    "print(num)"
   ]
  },
  {
   "cell_type": "markdown",
   "id": "8cd019cc-6f2f-42a9-afc4-47d317e88507",
   "metadata": {},
   "source": [
    " - n제곱"
   ]
  },
  {
   "cell_type": "code",
   "execution_count": 11,
   "id": "efdd93d7-8bf8-4148-83bc-04a8af220feb",
   "metadata": {},
   "outputs": [
    {
     "name": "stdout",
     "output_type": "stream",
     "text": [
      "1000\n"
     ]
    }
   ],
   "source": [
    "num = 10\n",
    "num **= 3\n",
    "print(num)"
   ]
  },
  {
   "cell_type": "markdown",
   "id": "2a691324-ac41-49d2-87c4-502e0db9de35",
   "metadata": {},
   "source": [
    " - 나누기(소수의 몫)"
   ]
  },
  {
   "cell_type": "code",
   "execution_count": 12,
   "id": "f915a418-b82a-487f-9322-d5ac5ddd49d5",
   "metadata": {},
   "outputs": [
    {
     "name": "stdout",
     "output_type": "stream",
     "text": [
      "3.3333333333333335\n"
     ]
    }
   ],
   "source": [
    "num = 10\n",
    "num /= 3\n",
    "print(num)"
   ]
  },
  {
   "cell_type": "markdown",
   "id": "ae901980-2d30-49ff-a444-7f4ff29c01eb",
   "metadata": {},
   "source": [
    " - 나누기(정수의 몫)"
   ]
  },
  {
   "cell_type": "code",
   "execution_count": 13,
   "id": "9bc280ba-0ab7-4a0d-85a7-d30b9244ae40",
   "metadata": {},
   "outputs": [
    {
     "name": "stdout",
     "output_type": "stream",
     "text": [
      "3\n"
     ]
    }
   ],
   "source": [
    "num = 10\n",
    "num //= 3\n",
    "print(num)"
   ]
  },
  {
   "cell_type": "markdown",
   "id": "4198d063-4414-47d5-bc19-a8e2512006ee",
   "metadata": {},
   "source": [
    " - 나누기(나머지)"
   ]
  },
  {
   "cell_type": "code",
   "execution_count": 14,
   "id": "e6bdc0d7-9b92-40b7-993a-52efcbce3d96",
   "metadata": {},
   "outputs": [
    {
     "name": "stdout",
     "output_type": "stream",
     "text": [
      "1\n"
     ]
    }
   ],
   "source": [
    "num = 10\n",
    "num %= 3\n",
    "print(num)"
   ]
  },
  {
   "cell_type": "markdown",
   "id": "767385f7-202a-4ff7-b237-0dbcfea0691e",
   "metadata": {},
   "source": [
    "파이썬에는 증감연산 `++`, `--` 이 없다"
   ]
  },
  {
   "cell_type": "markdown",
   "id": "f4a1f4f3-c85f-4e69-b36e-0f76b0e36f5f",
   "metadata": {},
   "source": [
    "## - 비교연산 `<=`, `>=`, `<`, `>`, `==`, `!=`"
   ]
  },
  {
   "cell_type": "markdown",
   "id": "a0f50745-af6a-405b-9f9a-0e9665d75574",
   "metadata": {},
   "source": [
    "왼쪽 기준으로 비교하면 된다.\n",
    " - `==` : 같다\n",
    " - `!=` : 같지 않다"
   ]
  },
  {
   "cell_type": "code",
   "execution_count": 15,
   "id": "1606e4db-3051-4056-8cf1-372cb1eba5f9",
   "metadata": {},
   "outputs": [
    {
     "data": {
      "text/plain": [
       "True"
      ]
     },
     "execution_count": 15,
     "metadata": {},
     "output_type": "execute_result"
    }
   ],
   "source": [
    "5 <= 5"
   ]
  },
  {
   "cell_type": "code",
   "execution_count": 16,
   "id": "6a0c5639-9c47-477b-8708-bfa413dd3c40",
   "metadata": {},
   "outputs": [
    {
     "data": {
      "text/plain": [
       "False"
      ]
     },
     "execution_count": 16,
     "metadata": {},
     "output_type": "execute_result"
    }
   ],
   "source": [
    "5 < 5"
   ]
  },
  {
   "cell_type": "code",
   "execution_count": 17,
   "id": "2da9f6ee-7fef-4297-ae89-c643dcda2221",
   "metadata": {},
   "outputs": [
    {
     "data": {
      "text/plain": [
       "True"
      ]
     },
     "execution_count": 17,
     "metadata": {},
     "output_type": "execute_result"
    }
   ],
   "source": [
    "4 > 2"
   ]
  },
  {
   "cell_type": "code",
   "execution_count": 18,
   "id": "345f83ad-de1b-466d-bf67-8b3227700821",
   "metadata": {},
   "outputs": [
    {
     "data": {
      "text/plain": [
       "True"
      ]
     },
     "execution_count": 18,
     "metadata": {},
     "output_type": "execute_result"
    }
   ],
   "source": [
    "3 >= 0"
   ]
  },
  {
   "cell_type": "code",
   "execution_count": 19,
   "id": "ac2ed851-41ab-4d26-adc5-97e97970790b",
   "metadata": {},
   "outputs": [
    {
     "data": {
      "text/plain": [
       "True"
      ]
     },
     "execution_count": 19,
     "metadata": {},
     "output_type": "execute_result"
    }
   ],
   "source": [
    "10 == 10"
   ]
  },
  {
   "cell_type": "code",
   "execution_count": 20,
   "id": "8be52bf6-956c-4d5e-a591-5dbd8c384336",
   "metadata": {},
   "outputs": [
    {
     "data": {
      "text/plain": [
       "False"
      ]
     },
     "execution_count": 20,
     "metadata": {},
     "output_type": "execute_result"
    }
   ],
   "source": [
    "1 != 1"
   ]
  },
  {
   "cell_type": "markdown",
   "id": "17b5e003-82b6-4ec0-8fef-f4bd52e81cf3",
   "metadata": {},
   "source": [
    "## - 식별(Identity)연산 `is`, `is not`\n",
    "\n",
    "값을 비교하는 것이 아니라 메모리 주소값을 비교\n",
    "\n",
    "파이썬은 정수 -5~256까지 이미 객체를 만들어 보관(메모리 주소가 일정함)\n",
    "\n",
    "string도 짧은 문자열은 같은 주소에 할당되나, 긴 문자열은 다른 주소에 할당됨"
   ]
  },
  {
   "cell_type": "code",
   "execution_count": 21,
   "id": "ddc27971-07f4-47ab-8859-38cf597a0441",
   "metadata": {},
   "outputs": [
    {
     "name": "stdout",
     "output_type": "stream",
     "text": [
      "True\n",
      "True\n",
      "1428084184528\n",
      "1428084184528\n"
     ]
    }
   ],
   "source": [
    "# == 와 is의 차이\n",
    "x = 100\n",
    "y = 100\n",
    "print(x == y)\n",
    "print(x is y)\n",
    "print(id(x)) #주소값 확인 id()\n",
    "print(id(y))"
   ]
  },
  {
   "cell_type": "code",
   "execution_count": 22,
   "id": "ddf40410-ea38-41ae-b24f-ee3f04443ac5",
   "metadata": {},
   "outputs": [
    {
     "name": "stdout",
     "output_type": "stream",
     "text": [
      "True\n",
      "False\n",
      "1428155970864\n",
      "1428155970256\n"
     ]
    }
   ],
   "source": [
    "x = 257\n",
    "y = 257\n",
    "print(x == y)\n",
    "print(x is y)\n",
    "print(id(x))\n",
    "print(id(y))"
   ]
  },
  {
   "cell_type": "markdown",
   "id": "0cc48bc8-815c-4427-a756-8d38b192a8ef",
   "metadata": {},
   "source": [
    "## - 논리 연산 `and`, `or`, `not`"
   ]
  },
  {
   "cell_type": "code",
   "execution_count": 23,
   "id": "258eeb8c-0948-44d5-a940-1328b71558a0",
   "metadata": {},
   "outputs": [
    {
     "name": "stdout",
     "output_type": "stream",
     "text": [
      "True\n",
      "False\n",
      "False\n",
      "False\n"
     ]
    }
   ],
   "source": [
    "print(True and True)\n",
    "print(True and False)\n",
    "print(False and True)\n",
    "print(False and False)"
   ]
  },
  {
   "cell_type": "code",
   "execution_count": 24,
   "id": "01ca547b-5056-4bca-a12f-d2a1cef3c4c1",
   "metadata": {},
   "outputs": [
    {
     "name": "stdout",
     "output_type": "stream",
     "text": [
      "True\n",
      "True\n",
      "True\n",
      "False\n"
     ]
    }
   ],
   "source": [
    "print(True or True)\n",
    "print(True or False)\n",
    "print(False or True)\n",
    "print(False or False)"
   ]
  },
  {
   "cell_type": "code",
   "execution_count": 25,
   "id": "ab71eb97-0f99-4a84-88b4-be75017f5edd",
   "metadata": {},
   "outputs": [
    {
     "data": {
      "text/plain": [
       "False"
      ]
     },
     "execution_count": 25,
     "metadata": {},
     "output_type": "execute_result"
    }
   ],
   "source": [
    "not True"
   ]
  },
  {
   "cell_type": "markdown",
   "id": "f9f78929-e0eb-4f2e-a990-0fdcbbe44c87",
   "metadata": {},
   "source": [
    "<br>\n",
    "<br>\n",
    "<br>\n",
    "<br>\n",
    "<br>\n",
    "<br>\n",
    "<hr>\n",
    "<br>\n",
    "<br>\n",
    "<br>\n",
    "<br>\n",
    "<br>\n",
    "<br>"
   ]
  },
  {
   "cell_type": "markdown",
   "id": "77e56059-49fe-4c4a-a28e-89def8ae5870",
   "metadata": {},
   "source": [
    "# 04. 조건문"
   ]
  },
  {
   "cell_type": "markdown",
   "id": "2ba83b38-62ae-4696-9bd9-e7c34ea6cfef",
   "metadata": {},
   "source": [
    "## - if ~ else"
   ]
  },
  {
   "cell_type": "markdown",
   "id": "b78d6c8a-e714-4ee7-a420-84ed341a7f2b",
   "metadata": {},
   "source": [
    "if문이 true면 if문 아래의 수행문(코드)이 실행되고 false면 else문 아래의 수행문이 실행된다"
   ]
  },
  {
   "cell_type": "code",
   "execution_count": 1,
   "id": "7f4d61ec-6e42-4577-ab0e-f857c5c3132f",
   "metadata": {},
   "outputs": [
    {
     "name": "stdin",
     "output_type": "stream",
     "text": [
      "정수 입력 10\n"
     ]
    },
    {
     "name": "stdout",
     "output_type": "stream",
     "text": [
      "짝수\n"
     ]
    }
   ],
   "source": [
    "num = int(input(\"정수 입력\"))\n",
    "if num % 2 == 0:\n",
    "    print(\"짝수\")\n",
    "else:\n",
    "    print(\"홀수\")"
   ]
  },
  {
   "cell_type": "markdown",
   "id": "6e0f5069-93ab-4b10-8416-1922c9ee36d7",
   "metadata": {},
   "source": [
    "if문을 여러 개를 사용할 수 있는데, 이전 if문의 결과가 참이든 거짓이든 간에 상관 없이 true면 무조건 실행이된다.\n",
    "\n",
    "만일 모든 조건문( if )이 false라면 else문이 실행된다."
   ]
  },
  {
   "cell_type": "code",
   "execution_count": 2,
   "id": "e041b363-4754-432d-9374-7fd4f1ebb5b8",
   "metadata": {},
   "outputs": [
    {
     "name": "stdin",
     "output_type": "stream",
     "text": [
      "Input the score :  76\n"
     ]
    },
    {
     "name": "stdout",
     "output_type": "stream",
     "text": [
      "미\n",
      "양\n"
     ]
    }
   ],
   "source": [
    "score = int(input(\"Input the score : \"))\n",
    "if score > 90:\n",
    "    print(\"수\")\n",
    "if score > 80:\n",
    "    print(\"우\")\n",
    "if score > 70:\n",
    "    print(\"미\")\n",
    "if score > 60:\n",
    "    print(\"양\")\n",
    "else:\n",
    "    print(\"가\")"
   ]
  },
  {
   "cell_type": "markdown",
   "id": "01ba80e2-eeee-4f09-aa7a-d76322fe597e",
   "metadata": {},
   "source": [
    "and 연산을 통해 나타내려고 해도 아래 if문 중에 하나라도 false가 나오면 else문이 실행되기 때문에 원하는 결과를 얻을 수 없다."
   ]
  },
  {
   "cell_type": "code",
   "execution_count": 3,
   "id": "68975c3f-be86-4d00-83ce-05c0f0a1056d",
   "metadata": {},
   "outputs": [
    {
     "name": "stdin",
     "output_type": "stream",
     "text": [
      "Input the score :  76\n"
     ]
    },
    {
     "name": "stdout",
     "output_type": "stream",
     "text": [
      "미\n",
      "가\n"
     ]
    }
   ],
   "source": [
    "score = int(input(\"Input the score : \"))\n",
    "if score > 90:\n",
    "    print(\"수\")\n",
    "if score > 80 and score <= 90:\n",
    "    print(\"우\")\n",
    "if score > 70 and score <= 80:\n",
    "    print(\"미\")\n",
    "if score > 60 and score <= 70:\n",
    "    print(\"양\")\n",
    "else:\n",
    "    print(\"가\")"
   ]
  },
  {
   "cell_type": "markdown",
   "id": "dbbb0f69-6d84-4ca5-a2a3-593892ab45b5",
   "metadata": {},
   "source": [
    "## -elif"
   ]
  },
  {
   "cell_type": "markdown",
   "id": "8b763380-e42f-453c-b4a7-99306a6efd0f",
   "metadata": {},
   "source": [
    "위와 같은 문제를 방지하기 위해 이전의 조건문이 false가 나올 때만 조건을 확인하는 elif문을 사용하면 된다.\n",
    "\n",
    "만일 이전 조건문( if 혹은 elif )이 true면 실행하지 않고 쭉 넘어가게 된다.\n",
    "\n",
    "만일 모든 조건문( if, elif )이 false라면 else문이 실행된다."
   ]
  },
  {
   "cell_type": "code",
   "execution_count": 4,
   "id": "213e9754-81ec-4173-9ddc-5fc23e62333c",
   "metadata": {},
   "outputs": [
    {
     "name": "stdin",
     "output_type": "stream",
     "text": [
      "Input the score :  76\n"
     ]
    },
    {
     "name": "stdout",
     "output_type": "stream",
     "text": [
      "미\n"
     ]
    }
   ],
   "source": [
    "score = int(input(\"Input the score : \"))\n",
    "if score > 90:\n",
    "    print(\"수\")\n",
    "elif score > 80:\n",
    "    print(\"우\")\n",
    "elif score > 70:\n",
    "    print(\"미\")\n",
    "elif score > 60:\n",
    "    print(\"양\")\n",
    "else:\n",
    "    print(\"가\")"
   ]
  },
  {
   "cell_type": "markdown",
   "id": "0c2136ab-a5a6-4636-ad0c-a3ade4bc96b7",
   "metadata": {},
   "source": [
    "<br>\n",
    "<br>\n",
    "<br>\n",
    "<br>\n",
    "<br>\n",
    "<br>\n",
    "<hr>\n",
    "<br>\n",
    "<br>\n",
    "<br>\n",
    "<br>\n",
    "<br>\n",
    "<br>"
   ]
  },
  {
   "cell_type": "markdown",
   "id": "2a112f7f-2599-42e6-919d-f1890e2b3039",
   "metadata": {},
   "source": [
    "# 05. 반복문"
   ]
  },
  {
   "cell_type": "markdown",
   "id": "105c2579-ff37-441c-9082-ca932c578a84",
   "metadata": {},
   "source": [
    "다음 a, b, c, d, e 학생들의 점수에 따라서 성적을 매기려고 하는 코드를 실행해보자"
   ]
  },
  {
   "cell_type": "code",
   "execution_count": 1,
   "id": "cb189393-3a07-4693-86c1-dbb0b13dc25f",
   "metadata": {},
   "outputs": [],
   "source": [
    "a_student_score1 = 87\n",
    "b_student_score1 = 66\n",
    "c_student_score1 = 94\n",
    "d_student_score1 = 56\n",
    "e_student_score1 = 88"
   ]
  },
  {
   "cell_type": "code",
   "execution_count": 2,
   "id": "142fa709-a44f-4c3f-a1cb-83e2f14ff5d3",
   "metadata": {},
   "outputs": [
    {
     "name": "stdout",
     "output_type": "stream",
     "text": [
      "우\n",
      "양\n",
      "수\n",
      "가\n",
      "우\n"
     ]
    }
   ],
   "source": [
    "score = a_student_score1\n",
    "\n",
    "if score > 90:\n",
    "    print(\"수\")\n",
    "elif score > 80:\n",
    "    print(\"우\")\n",
    "elif score > 70:\n",
    "    print(\"미\")\n",
    "elif score > 60:\n",
    "    print(\"양\")\n",
    "else:\n",
    "    print(\"가\")\n",
    "#-----------------------------------------#\n",
    "score = b_student_score1\n",
    "\n",
    "if score > 90:\n",
    "    print(\"수\")\n",
    "elif score > 80:\n",
    "    print(\"우\")\n",
    "elif score > 70:\n",
    "    print(\"미\")\n",
    "elif score > 60:\n",
    "    print(\"양\")\n",
    "else:\n",
    "    print(\"가\")\n",
    "#-----------------------------------------#\n",
    "score = c_student_score1\n",
    "\n",
    "if score > 90:\n",
    "    print(\"수\")\n",
    "elif score > 80:\n",
    "    print(\"우\")\n",
    "elif score > 70:\n",
    "    print(\"미\")\n",
    "elif score > 60:\n",
    "    print(\"양\")\n",
    "else:\n",
    "    print(\"가\")\n",
    "#-----------------------------------------#\n",
    "score = d_student_score1\n",
    "\n",
    "if score > 90:\n",
    "    print(\"수\")\n",
    "elif score > 80:\n",
    "    print(\"우\")\n",
    "elif score > 70:\n",
    "    print(\"미\")\n",
    "elif score > 60:\n",
    "    print(\"양\")\n",
    "else:\n",
    "    print(\"가\")\n",
    "#-----------------------------------------#\n",
    "score = e_student_score1\n",
    "\n",
    "if score > 90:\n",
    "    print(\"수\")\n",
    "elif score > 80:\n",
    "    print(\"우\")\n",
    "elif score > 70:\n",
    "    print(\"미\")\n",
    "elif score > 60:\n",
    "    print(\"양\")\n",
    "else:\n",
    "    print(\"가\")"
   ]
  },
  {
   "cell_type": "markdown",
   "id": "eadad283-2eb3-403d-9bf8-5d6cf202c891",
   "metadata": {},
   "source": [
    "좀 더 간단하게 하기 위해 변수 하나하나 할당하는 방식이 아닌 값들을 한번에 담는 파이썬의 자료구조 리스트(list)를 사용하여 표현해보자."
   ]
  },
  {
   "cell_type": "code",
   "execution_count": 3,
   "id": "6ea621db-a885-4e9c-9288-6c1ecad27aaa",
   "metadata": {},
   "outputs": [
    {
     "name": "stdout",
     "output_type": "stream",
     "text": [
      "우\n",
      "양\n",
      "수\n",
      "가\n",
      "우\n"
     ]
    }
   ],
   "source": [
    "scores = [87, 66, 94, 56, 88] # 리스트(List)\n",
    "#-----------------------------------------#\n",
    "score = scores[0]\n",
    "\n",
    "if score > 90:\n",
    "    print(\"수\")\n",
    "elif score > 80:\n",
    "    print(\"우\")\n",
    "elif score > 70:\n",
    "    print(\"미\")\n",
    "elif score > 60:\n",
    "    print(\"양\")\n",
    "else:\n",
    "    print(\"가\")\n",
    "#-----------------------------------------#\n",
    "score = scores[1]\n",
    "\n",
    "if score > 90:\n",
    "    print(\"수\")\n",
    "elif score > 80:\n",
    "    print(\"우\")\n",
    "elif score > 70:\n",
    "    print(\"미\")\n",
    "elif score > 60:\n",
    "    print(\"양\")\n",
    "else:\n",
    "    print(\"가\")\n",
    "#-----------------------------------------#\n",
    "score = scores[2]\n",
    "\n",
    "if score > 90:\n",
    "    print(\"수\")\n",
    "elif score > 80:\n",
    "    print(\"우\")\n",
    "elif score > 70:\n",
    "    print(\"미\")\n",
    "elif score > 60:\n",
    "    print(\"양\")\n",
    "else:\n",
    "    print(\"가\")\n",
    "#-----------------------------------------#\n",
    "score = scores[3]\n",
    "\n",
    "if score > 90:\n",
    "    print(\"수\")\n",
    "elif score > 80:\n",
    "    print(\"우\")\n",
    "elif score > 70:\n",
    "    print(\"미\")\n",
    "elif score > 60:\n",
    "    print(\"양\")\n",
    "else:\n",
    "    print(\"가\")\n",
    "#-----------------------------------------#\n",
    "score = scores[4]\n",
    "\n",
    "if score > 90:\n",
    "    print(\"수\")\n",
    "elif score > 80:\n",
    "    print(\"우\")\n",
    "elif score > 70:\n",
    "    print(\"미\")\n",
    "elif score > 60:\n",
    "    print(\"양\")\n",
    "else:\n",
    "    print(\"가\")"
   ]
  },
  {
   "cell_type": "markdown",
   "id": "07c33ede-e9dd-4080-a0f4-f35678de384b",
   "metadata": {},
   "source": [
    "## - for"
   ]
  },
  {
   "cell_type": "markdown",
   "id": "98f8331c-e913-44bf-b486-b1df110ef94c",
   "metadata": {},
   "source": [
    "다음 코드가 계속 반복되고 있는 것을 볼 수 있다.\n",
    "\n",
    "```python\n",
    "if score > 90:\n",
    "    print(\"수\")\n",
    "elif score > 80:\n",
    "    print(\"우\")\n",
    "elif score > 70:\n",
    "    print(\"미\")\n",
    "elif score > 60:\n",
    "    print(\"양\")\n",
    "else:\n",
    "    print(\"가\")\n",
    "```\n",
    "\n",
    "똑같은 작업을 n번 할 때마다 똑같은 코드를 n번 작성하는 것은 비효율적이다.\n",
    "\n",
    "그래서 for문이 등장한다"
   ]
  },
  {
   "cell_type": "code",
   "execution_count": 4,
   "id": "4831107a-8ea1-4da9-9015-6dbe70b90307",
   "metadata": {},
   "outputs": [
    {
     "name": "stdout",
     "output_type": "stream",
     "text": [
      "우\n",
      "양\n",
      "수\n",
      "가\n",
      "우\n"
     ]
    }
   ],
   "source": [
    "scores = [87, 66, 94, 56, 88] # 리스트(List)\n",
    "\n",
    "for score in scores:\n",
    "    if score > 90:\n",
    "        print(\"수\")\n",
    "    elif score > 80:\n",
    "        print(\"우\")\n",
    "    elif score > 70:\n",
    "        print(\"미\")\n",
    "    elif score > 60:\n",
    "        print(\"양\")\n",
    "    else:\n",
    "        print(\"가\")"
   ]
  },
  {
   "cell_type": "markdown",
   "id": "0e25fa1c-d6f0-401e-99a4-080f26d59806",
   "metadata": {},
   "source": [
    "훨씬 보기 좋고 깔끔하다.\n",
    "\n",
    "`in` 연산자 뒤에 있는 scores의 값 요소들을 순서대로 가져와 처리하는 코드가 완성되었다.\n",
    "\n",
    "꼭 존재하고 있는 변수 뿐아니라 임의의 요소들을 그때 그때 지정하여 반복문을 돌릴 수도 있다."
   ]
  },
  {
   "cell_type": "code",
   "execution_count": 5,
   "id": "4211c798-af05-487f-b52c-288f8ef5a7d4",
   "metadata": {},
   "outputs": [
    {
     "name": "stdout",
     "output_type": "stream",
     "text": [
      "1 2 3 4 5 "
     ]
    }
   ],
   "source": [
    "for i in 1, 2, 3, 4, 5:\n",
    "    print(i, end=\" \");"
   ]
  },
  {
   "cell_type": "markdown",
   "id": "ad1f1020-e8bd-4afa-87b5-0088cccd7ba6",
   "metadata": {},
   "source": [
    "### * range()"
   ]
  },
  {
   "cell_type": "markdown",
   "id": "67baba4d-cb73-4e6e-99a8-06f14cfcc79e",
   "metadata": {},
   "source": [
    "이 함수를 사용하면 반복의 횟수 혹은 규칙적으로 증감하는 숫자를 토대로 하여 좀더 편리한 반복문을 짤 수 있다.\n",
    "\n",
    "마지막 숫자는 포함하지 않는다.\n",
    "\n",
    " - EX) `range(10)` : 0부터 9까지\n",
    " - EX) `range(1, 10)` : 1부터 9까지\n",
    " - EX) `range(1, 10, 2)` : 1부터 9까지 2씩 증가"
   ]
  },
  {
   "cell_type": "code",
   "execution_count": 6,
   "id": "7e9d43fd-d6c2-49ca-b5bf-aa30414b9420",
   "metadata": {},
   "outputs": [
    {
     "name": "stdout",
     "output_type": "stream",
     "text": [
      "0 1 2 3 4 5 6 7 8 9 "
     ]
    }
   ],
   "source": [
    "for i in range(10):\n",
    "    print(i, end=\" \")"
   ]
  },
  {
   "cell_type": "code",
   "execution_count": 7,
   "id": "e14e2080-8ab7-4561-8961-f93a211a8369",
   "metadata": {},
   "outputs": [
    {
     "name": "stdout",
     "output_type": "stream",
     "text": [
      "1 2 3 4 5 6 7 8 9 "
     ]
    }
   ],
   "source": [
    "for i in range(1, 10):\n",
    "    print(i, end=\" \")"
   ]
  },
  {
   "cell_type": "code",
   "execution_count": 8,
   "id": "b74492d8-4e41-4b72-a83e-a04737160d23",
   "metadata": {},
   "outputs": [
    {
     "name": "stdout",
     "output_type": "stream",
     "text": [
      "1 3 5 7 9 "
     ]
    }
   ],
   "source": [
    "for i in range(1, 10, 2):\n",
    "    print(i, end=\" \")"
   ]
  },
  {
   "cell_type": "markdown",
   "id": "0fb671e7-7d63-45ba-8e7d-b6b7ff60a27b",
   "metadata": {
    "tags": []
   },
   "source": [
    "- range()는 리스트가 아니라 iterate시 원하는 시퀀스 항목들을 순서대로 돌려주는 개체이나 실제로 리스트를 만들지는 않아서 공간이 절약된다.\n",
    "- 이러한 객체를 iterable이라고 한다"
   ]
  },
  {
   "cell_type": "code",
   "execution_count": 9,
   "id": "d1898b6e-713e-4ecb-94ab-7512fe4a27ba",
   "metadata": {},
   "outputs": [
    {
     "name": "stdout",
     "output_type": "stream",
     "text": [
      "range(0, 10)\n"
     ]
    }
   ],
   "source": [
    "# range(10) === [0, 1, 2, 3, 4, 5, 6, 7, 8, 9] ?\n",
    "print(range(10))"
   ]
  },
  {
   "cell_type": "markdown",
   "id": "d01d8ae5-940c-4adf-8cd8-020f4ed09669",
   "metadata": {},
   "source": [
    "위의 표현과 같이 `range(10)`이라고 해서 리스트 `[0, 1, 2, 3, 4, 5, 6, 7, 8, 9]`가 만들어지는 것이 아니라 `range(10)`이라는 약속에 따라 시퀀스를 실행하겠다는 것을 나타낸다. ( 메모리 효율 )"
   ]
  },
  {
   "cell_type": "code",
   "execution_count": 10,
   "id": "698a7575-6a1d-4109-a1f2-a7b795ee72fe",
   "metadata": {},
   "outputs": [
    {
     "data": {
      "text/plain": [
       "[0, 1, 2, 3, 4, 5, 6, 7, 8, 9]"
      ]
     },
     "execution_count": 10,
     "metadata": {},
     "output_type": "execute_result"
    }
   ],
   "source": [
    "list(range(10))"
   ]
  },
  {
   "cell_type": "markdown",
   "id": "8e3dc6a0-460e-4a4a-918f-459ef018b19b",
   "metadata": {},
   "source": [
    "## - while"
   ]
  },
  {
   "cell_type": "markdown",
   "id": "404a5038-0c71-41d1-a17a-cf8282d1f55e",
   "metadata": {},
   "source": [
    "for문 뿐만 아니라 while문을 통해서도 반복문을 실행할 수 있다.\n",
    "\n",
    "for문과의 차이가 있다면 while문 뒤에는 조건문만 온다는 점이다."
   ]
  },
  {
   "cell_type": "code",
   "execution_count": 11,
   "id": "a40c642f-ff96-47f4-b42a-1aae068cb5eb",
   "metadata": {},
   "outputs": [
    {
     "name": "stdout",
     "output_type": "stream",
     "text": [
      "0 1 2 3 4 5 6 7 8 9 "
     ]
    }
   ],
   "source": [
    "i = 0\n",
    "\n",
    "while i < 10:\n",
    "    print(i, end=\" \")\n",
    "    i += 1"
   ]
  },
  {
   "cell_type": "markdown",
   "id": "af6d4029-e726-408c-bf2b-d19dc9b5d7ab",
   "metadata": {},
   "source": [
    "## - continue & break"
   ]
  },
  {
   "cell_type": "markdown",
   "id": "97d33726-a16d-4dcc-98fc-134be39539c1",
   "metadata": {},
   "source": [
    "continue와 break의 공통점은 만일 프로그램이 이 키워드를 만나면 해당 영역(for문 실행 영역 혹은 while문 실행 영역)의 해당 반복 실행을 멈춘다는 점이다.\n",
    "\n",
    "차이점은 \n",
    " - continue는 다시 반복 실행을 위한 조건을 확인하여 다시 반복할건지 안할 건지 판단하지만\n",
    " - break는 그 자리에서 해당 반복문 실행을 종료시키고 다음 실행 명령으로 넘어가는 것이다."
   ]
  },
  {
   "cell_type": "code",
   "execution_count": 12,
   "id": "c08f6fbe-cbe5-45bc-9ac0-4d5038038351",
   "metadata": {},
   "outputs": [
    {
     "name": "stdout",
     "output_type": "stream",
     "text": [
      "0 2 4 6 8 "
     ]
    }
   ],
   "source": [
    "for i in range(10):\n",
    "    if i % 2 != 0:\n",
    "        continue\n",
    "    print(i, end = \" \")"
   ]
  },
  {
   "cell_type": "markdown",
   "id": "5894538f-776c-4b6e-8037-ce4ea107c27b",
   "metadata": {},
   "source": [
    "i가 짝수라면 해당 반복은 더는 보지 않고 다음 반복으로 넘어간다"
   ]
  },
  {
   "cell_type": "code",
   "execution_count": 13,
   "id": "f8e6c363-dce9-45a5-bce5-2100b1e09628",
   "metadata": {},
   "outputs": [
    {
     "name": "stdout",
     "output_type": "stream",
     "text": [
      "1 2 3 4 5 6 7 "
     ]
    }
   ],
   "source": [
    "i = 0\n",
    "\n",
    "while i < 10:\n",
    "    if i == 7:\n",
    "        break\n",
    "    i += 1\n",
    "    print(i, end = \" \")"
   ]
  },
  {
   "cell_type": "markdown",
   "id": "d5cb714c-e500-4e5e-a8f5-1cfdcad2d70f",
   "metadata": {},
   "source": [
    "i가 7이라면 while문을 종료한다"
   ]
  },
  {
   "cell_type": "markdown",
   "id": "c5999e5c-3926-44df-b15b-54130b17d183",
   "metadata": {},
   "source": [
    "## - pass문"
   ]
  },
  {
   "cell_type": "markdown",
   "id": "7ef62403-ac39-4570-a9be-dc50b1d431a6",
   "metadata": {},
   "source": [
    "아직 어떻게 코드를 짤 것인지 정하지 않았지만 에러 발생없이 남겨두고 싶다면 pass문을 사용하면 된다."
   ]
  },
  {
   "cell_type": "code",
   "execution_count": 14,
   "id": "211f85fc-3fce-449b-9e06-5ea72b0c1478",
   "metadata": {},
   "outputs": [],
   "source": [
    "for i in range(100):\n",
    "    pass"
   ]
  },
  {
   "cell_type": "markdown",
   "id": "81473769-fa7a-4c24-8e38-fa9f50a461e7",
   "metadata": {},
   "source": [
    "## - 파이썬의 특징과 주의할 점"
   ]
  },
  {
   "cell_type": "markdown",
   "id": "0ae39930-5214-4fc4-b583-dd05c07925a6",
   "metadata": {},
   "source": [
    "for문을 돌리기 위해 임시적으로 선언한 i가 for문이 끝나도 사용할 수가 있다."
   ]
  },
  {
   "cell_type": "code",
   "execution_count": 15,
   "id": "120051a2-0b2c-49a6-9952-7eb4f30a330f",
   "metadata": {},
   "outputs": [
    {
     "name": "stdout",
     "output_type": "stream",
     "text": [
      "1\n",
      "2\n",
      "3\n",
      "i : 3\n"
     ]
    }
   ],
   "source": [
    "for i in [1, 2, 3]:\n",
    "    print(i)\n",
    "print(\"i :\", i)"
   ]
  },
  {
   "cell_type": "markdown",
   "id": "83ebcb6c-db2d-4cb9-8fae-9f0a4d75d234",
   "metadata": {},
   "source": [
    "임시 변수가 살아있음으로 인한 에러 발생 및 잘못된 실행이 걱정된다면 사용이 끝난 임시 변수는 지워주면 된다."
   ]
  },
  {
   "cell_type": "code",
   "execution_count": 16,
   "id": "db603ccb-b689-49d4-a82c-d846a79244fe",
   "metadata": {},
   "outputs": [
    {
     "name": "stdout",
     "output_type": "stream",
     "text": [
      "1\n",
      "2\n",
      "3\n"
     ]
    },
    {
     "ename": "NameError",
     "evalue": "name 'i' is not defined",
     "output_type": "error",
     "traceback": [
      "\u001b[1;31m---------------------------------------------------------------------------\u001b[0m",
      "\u001b[1;31mNameError\u001b[0m                                 Traceback (most recent call last)",
      "\u001b[1;32m~\\AppData\\Local\\Temp/ipykernel_16096/1102482243.py\u001b[0m in \u001b[0;36m<module>\u001b[1;34m\u001b[0m\n\u001b[0;32m      2\u001b[0m     \u001b[0mprint\u001b[0m\u001b[1;33m(\u001b[0m\u001b[0mi\u001b[0m\u001b[1;33m)\u001b[0m\u001b[1;33m\u001b[0m\u001b[1;33m\u001b[0m\u001b[0m\n\u001b[0;32m      3\u001b[0m \u001b[1;32mdel\u001b[0m \u001b[0mi\u001b[0m\u001b[1;33m\u001b[0m\u001b[1;33m\u001b[0m\u001b[0m\n\u001b[1;32m----> 4\u001b[1;33m \u001b[0mprint\u001b[0m\u001b[1;33m(\u001b[0m\u001b[0mi\u001b[0m\u001b[1;33m)\u001b[0m\u001b[1;33m\u001b[0m\u001b[1;33m\u001b[0m\u001b[0m\n\u001b[0m",
      "\u001b[1;31mNameError\u001b[0m: name 'i' is not defined"
     ]
    }
   ],
   "source": [
    "for i in [1, 2, 3]:\n",
    "    print(i)\n",
    "del i\n",
    "print(i)"
   ]
  },
  {
   "cell_type": "markdown",
   "id": "b5f73784-4b96-4f44-af05-bdbb7fcee1ee",
   "metadata": {},
   "source": [
    "<br>\n",
    "<br>\n",
    "<br>\n",
    "<br>\n",
    "<br>\n",
    "<br>\n",
    "<hr>\n",
    "<br>\n",
    "<br>\n",
    "<br>\n",
    "<br>\n",
    "<br>\n",
    "<br>"
   ]
  },
  {
   "cell_type": "markdown",
   "id": "c9dae762-62ef-43bd-8a8d-2676231f8366",
   "metadata": {},
   "source": [
    "# 06. 함수기초"
   ]
  },
  {
   "cell_type": "markdown",
   "id": "687eb03f-0d43-4348-b395-b33249ac94f8",
   "metadata": {},
   "source": [
    "## - 함수 선언과 호출"
   ]
  },
  {
   "cell_type": "markdown",
   "id": "7dda1172-9ddb-4c0b-8216-f14455bb8d72",
   "metadata": {},
   "source": [
    "함수의 선언과 호출법은 아래와 같다"
   ]
  },
  {
   "cell_type": "code",
   "execution_count": 1,
   "id": "241bcecc-a1ae-4300-a82c-1e5430f20117",
   "metadata": {},
   "outputs": [],
   "source": [
    "def my_add_func(num1, num2): # num1과 num2는 파라미터(Parameter) 혹은 매개변수라고 한다\r\n",
    "    print(\"더하기 완료!\")\r\n",
    "    return num1 + num2"
   ]
  },
  {
   "cell_type": "code",
   "execution_count": 2,
   "id": "196f117f-42b9-40d1-b3d3-d1501109b656",
   "metadata": {},
   "outputs": [
    {
     "name": "stdout",
     "output_type": "stream",
     "text": [
      "<function my_add_func at 0x0000029855BC3EE0>\n",
      "더하기 완료!\n",
      "30\n"
     ]
    }
   ],
   "source": [
    "func = my_add_func\r\n",
    "print(func) # 함수를 변수로 받을 수도 있다.\r\n",
    "result = func(10, 20)\r\n",
    "print(result)"
   ]
  },
  {
   "cell_type": "markdown",
   "id": "de00be89-5732-4b00-b4bb-225fb8dff469",
   "metadata": {},
   "source": [
    "<br>\n",
    "<br>\n",
    "<br>\n",
    "<br>\n",
    "<br>\n",
    "<br>\n",
    "<hr>\n",
    "<br>\n",
    "<br>\n",
    "<br>\n",
    "<br>\n",
    "<br>\n",
    "<br>"
   ]
  },
  {
   "cell_type": "markdown",
   "id": "a5e1725f-247b-463e-839d-bf59d3f71d34",
   "metadata": {},
   "source": [
    "# 07. 자료구조( List, Tuple, Set, Dictionary )"
   ]
  },
  {
   "cell_type": "markdown",
   "id": "9eb19d94-45a8-490f-9528-23c1f30dc1e8",
   "metadata": {
    "tags": []
   },
   "source": [
    "## - List"
   ]
  },
  {
   "cell_type": "markdown",
   "id": "bf17df6b-6a23-4bea-ba48-3eee6cdf36b3",
   "metadata": {},
   "source": [
    "아래와 같은 자료구조를 리스트라고 한다. 여러 값들을 하나의 변수로 묶을 때 편리하다"
   ]
  },
  {
   "cell_type": "code",
   "execution_count": 1,
   "id": "4bac6274-0d43-4cee-971d-09cd905e10ba",
   "metadata": {
    "tags": []
   },
   "outputs": [],
   "source": [
    "myList = [1, 2, 3, 4, 5, 6, 7]"
   ]
  },
  {
   "cell_type": "markdown",
   "id": "e436f3e6-9aea-4a04-bc70-2b50a4b0786b",
   "metadata": {},
   "source": [
    "만일 3이라는 값을 가져오고 싶을 때는 myList의 3번째 값을 가져오라고 명령하면 된다.\n",
    "\n",
    "컴퓨터는 0부터 시작하고 각 요소를 앞에서부터 순서 매긴다(0, 1 , 2, 3, ...).\n",
    "\n",
    "이 번호를 인덱스(index)라고 한다.\n",
    "\n",
    "myList의 3번째 값을 가져오고 싶다면 index 2의 값을 가져오라고 하면 된다."
   ]
  },
  {
   "cell_type": "code",
   "execution_count": 2,
   "id": "38103725-9539-43a0-b1b4-59ebf793daca",
   "metadata": {},
   "outputs": [
    {
     "data": {
      "text/plain": [
       "3"
      ]
     },
     "execution_count": 2,
     "metadata": {},
     "output_type": "execute_result"
    }
   ],
   "source": [
    "myList[2]"
   ]
  },
  {
   "cell_type": "markdown",
   "id": "099fb2a8-9ecd-49c8-8426-ec1c545b1361",
   "metadata": {},
   "source": [
    " - len()"
   ]
  },
  {
   "cell_type": "markdown",
   "id": "28876257-65ed-403d-903d-b35d3d344ddb",
   "metadata": {},
   "source": [
    "요소의 갯수를 파악할 수 있다(길이를 파악할 수 있다)."
   ]
  },
  {
   "cell_type": "code",
   "execution_count": 3,
   "id": "73390be0-9f6e-4d45-bd1e-615b404bca74",
   "metadata": {},
   "outputs": [
    {
     "data": {
      "text/plain": [
       "7"
      ]
     },
     "execution_count": 3,
     "metadata": {},
     "output_type": "execute_result"
    }
   ],
   "source": [
    "len(myList)"
   ]
  },
  {
   "cell_type": "markdown",
   "id": "e30bc415-e9c0-47b0-97f6-7b802c1c92a0",
   "metadata": {
    "tags": []
   },
   "source": [
    "### * 슬라이싱(slicing or slice)"
   ]
  },
  {
   "cell_type": "markdown",
   "id": "62e285a1-007c-4c42-8652-cb3046140c2f",
   "metadata": {},
   "source": [
    "`:`을 통해 슬라이싱하여 특정 범위의 리스트 값들을 얻을 수 있다. (맨 끝 숫자는 포함되지 않는다)"
   ]
  },
  {
   "cell_type": "code",
   "execution_count": 4,
   "id": "f9bf77b2-8cc1-450a-9e9b-1f6d713f0734",
   "metadata": {},
   "outputs": [
    {
     "data": {
      "text/plain": [
       "[1, 2, 3]"
      ]
     },
     "execution_count": 4,
     "metadata": {},
     "output_type": "execute_result"
    }
   ],
   "source": [
    "myList[:3]"
   ]
  },
  {
   "cell_type": "code",
   "execution_count": 5,
   "id": "b4b24828-beb0-43eb-9490-5a46a916dadd",
   "metadata": {},
   "outputs": [
    {
     "data": {
      "text/plain": [
       "[2, 3]"
      ]
     },
     "execution_count": 5,
     "metadata": {},
     "output_type": "execute_result"
    }
   ],
   "source": [
    "myList[1:3]"
   ]
  },
  {
   "cell_type": "code",
   "execution_count": 6,
   "id": "42f7b60f-5c64-4b38-a317-55a6d6007268",
   "metadata": {},
   "outputs": [
    {
     "data": {
      "text/plain": [
       "[6, 7]"
      ]
     },
     "execution_count": 6,
     "metadata": {},
     "output_type": "execute_result"
    }
   ],
   "source": [
    "myList[5:]"
   ]
  },
  {
   "cell_type": "code",
   "execution_count": 7,
   "id": "ea15712c-73b6-4143-82ca-a9fb7c600a50",
   "metadata": {},
   "outputs": [
    {
     "data": {
      "text/plain": [
       "[1, 2, 3, 4, 5, 6, 7]"
      ]
     },
     "execution_count": 7,
     "metadata": {},
     "output_type": "execute_result"
    }
   ],
   "source": [
    "myList[:] # 전체를 가져온다"
   ]
  },
  {
   "cell_type": "code",
   "execution_count": 8,
   "id": "55785b0f-ed5a-4024-88f0-c2e8b8ecc8c3",
   "metadata": {},
   "outputs": [
    {
     "data": {
      "text/plain": [
       "[2, 4, 6]"
      ]
     },
     "execution_count": 8,
     "metadata": {},
     "output_type": "execute_result"
    }
   ],
   "source": [
    "myList[1:len(myList):2] # 어떤 step으로 특정 index를 슬라이싱 할 것인지 지정할 수도 있다."
   ]
  },
  {
   "cell_type": "code",
   "execution_count": 9,
   "id": "d972d7e0-647a-4ab0-a125-be7697618ed1",
   "metadata": {},
   "outputs": [
    {
     "data": {
      "text/plain": [
       "[1, 2]"
      ]
     },
     "execution_count": 9,
     "metadata": {},
     "output_type": "execute_result"
    }
   ],
   "source": [
    "a = [1, 2, 3, 4, 5, 6]\n",
    "del a[2:] # del을 이용해 요소를 삭제할 수도 있다.\n",
    "a"
   ]
  },
  {
   "cell_type": "markdown",
   "id": "ffabed81-123d-4c76-9396-e79aeb050fec",
   "metadata": {},
   "source": [
    "### * List Methods"
   ]
  },
  {
   "cell_type": "markdown",
   "id": "1845a8f1-78b6-4f4b-891a-f04835614e48",
   "metadata": {},
   "source": [
    "리스트 함수(메서드)는 아래와 같다.\n",
    "\n",
    "임의의 리스트를 생성해 어떻게 동작하는지 한번씩 확인해보자"
   ]
  },
  {
   "cell_type": "markdown",
   "id": "79bf9ab5-0a37-49a6-b307-d25c5335d60b",
   "metadata": {
    "tags": []
   },
   "source": [
    "#### => list.append(x)\n",
    " - 리스트의 끝에 항목을 더합니다. a[len(a):] = [x] 와 동등합니다."
   ]
  },
  {
   "cell_type": "code",
   "execution_count": 10,
   "id": "e0bae9b0-d5ed-4dc0-b9ba-49689d3907e3",
   "metadata": {},
   "outputs": [
    {
     "data": {
      "text/plain": [
       "[1, 2, 3, 4, 5, 6, 7]"
      ]
     },
     "execution_count": 10,
     "metadata": {},
     "output_type": "execute_result"
    }
   ],
   "source": [
    "a = [1, 2, 3, 4, 5, 6]\n",
    "a.append(7)\n",
    "a"
   ]
  },
  {
   "cell_type": "markdown",
   "id": "c12daac2-4031-4144-bfb1-a797a8d24b17",
   "metadata": {
    "tags": []
   },
   "source": [
    "#### => list.extend(iterable)\n",
    " - 리스트의 끝에 이터러블의 모든 항목을 덧붙여서 확장합니다. a[len(a):] = iterable 와 동등합니다."
   ]
  },
  {
   "cell_type": "code",
   "execution_count": 11,
   "id": "a0f5d4a9-77d3-42bf-a27a-a80bb9cf6b2a",
   "metadata": {},
   "outputs": [
    {
     "data": {
      "text/plain": [
       "[1, 2, 3, 4, 5, 6, 10, 11, 12, 13, 14]"
      ]
     },
     "execution_count": 11,
     "metadata": {},
     "output_type": "execute_result"
    }
   ],
   "source": [
    "a = [1, 2, 3, 4, 5, 6]\n",
    "a.extend(range(10,15)) # 10부터 14까지의 숫자를 확장해라\n",
    "a"
   ]
  },
  {
   "cell_type": "markdown",
   "id": "d4d718eb-35ad-421e-aa37-dcdc1043d8bd",
   "metadata": {
    "tags": []
   },
   "source": [
    "#### => list.insert(i, x)\n",
    " - 주어진 위치에 항목을 삽입합니다. 첫 번째 인자는 삽입되는 요소가 갖게 될 인덱스입니다. 그래서 a.insert(0, x) 는 리스트의 처음에 삽입하고, a.insert(len(a), x) 는 a.append(x) 와 동등합니다."
   ]
  },
  {
   "cell_type": "code",
   "execution_count": 12,
   "id": "c59577d5-08d3-4813-8792-da92aad6ebe5",
   "metadata": {},
   "outputs": [
    {
     "data": {
      "text/plain": [
       "[100, 1, 2, 3, 4, 5, 6]"
      ]
     },
     "execution_count": 12,
     "metadata": {},
     "output_type": "execute_result"
    }
   ],
   "source": [
    "a = [1, 2, 3, 4, 5, 6]\n",
    "a.insert(0, 100) # 0 인덱스 자리에 100을 집어넣으라\n",
    "a"
   ]
  },
  {
   "cell_type": "markdown",
   "id": "7fb634d6-500e-490d-80a4-085cdd4009ef",
   "metadata": {
    "tags": []
   },
   "source": [
    "#### => list.remove(x)\n",
    " - 리스트에서 값이 x 와 같은 첫 번째 항목을 삭제합니다. 그런 항목이 없으면 ValueError를 일으킵니다."
   ]
  },
  {
   "cell_type": "code",
   "execution_count": 13,
   "id": "9ec2e5fa-73c6-4357-be54-04c5e731eba0",
   "metadata": {},
   "outputs": [
    {
     "data": {
      "text/plain": [
       "[2, 100, 4, 100, 6]"
      ]
     },
     "execution_count": 13,
     "metadata": {},
     "output_type": "execute_result"
    }
   ],
   "source": [
    "a = [100, 2, 100, 4, 100, 6]\n",
    "a.remove(100) # 첫번쨰로 만난 100을 삭제\n",
    "a"
   ]
  },
  {
   "cell_type": "code",
   "execution_count": 14,
   "id": "dd0e699b-cb02-46f6-ab0e-03ac77c45ab6",
   "metadata": {},
   "outputs": [
    {
     "data": {
      "text/plain": [
       "[2, 4, 100, 6]"
      ]
     },
     "execution_count": 14,
     "metadata": {},
     "output_type": "execute_result"
    }
   ],
   "source": [
    "a.remove(100) # 첫번쨰로 만난 100을 삭제\n",
    "a"
   ]
  },
  {
   "cell_type": "markdown",
   "id": "ca945782-9720-46bd-b4b4-9c09804c5074",
   "metadata": {
    "tags": []
   },
   "source": [
    "#### => list.pop([i])\n",
    " - 리스트에서 주어진 위치에 있는 항목을 삭제하고, 그 항목을 돌려줍니다. 인덱스를 지정하지 않으면, a.pop() 은 리스트의 마지막 항목을 삭제하고 돌려줍니다. (메서드 시그니처에서 i 를 둘러싼 대괄호는 매개변수가 선택적임을 나타냅니다. 그 위치에 대괄호를 입력해야 한다는 뜻이 아닙니다. 이 표기법은 파이썬 라이브러리 레퍼런스에서 지주 등장합니다.)"
   ]
  },
  {
   "cell_type": "code",
   "execution_count": 15,
   "id": "3226a234-6fd4-42d1-878f-2e0f61877e02",
   "metadata": {},
   "outputs": [
    {
     "data": {
      "text/plain": [
       "[1, 2, 3, 4, 5]"
      ]
     },
     "execution_count": 15,
     "metadata": {},
     "output_type": "execute_result"
    }
   ],
   "source": [
    "a = [1, 2, 3, 4, 5, 6]\n",
    "a.pop()\n",
    "a"
   ]
  },
  {
   "cell_type": "markdown",
   "id": "a9a7c179-e102-4904-bc90-57995ac66cc3",
   "metadata": {
    "tags": []
   },
   "source": [
    "#### => list.clear()\n",
    " - 리스트의 모든 항목을 삭제합니다. del a[:] 와 동등합니다."
   ]
  },
  {
   "cell_type": "code",
   "execution_count": 16,
   "id": "4ce3e561-9ea7-4c83-b2db-92d7f97e15a5",
   "metadata": {},
   "outputs": [
    {
     "data": {
      "text/plain": [
       "[]"
      ]
     },
     "execution_count": 16,
     "metadata": {},
     "output_type": "execute_result"
    }
   ],
   "source": [
    "a = [1, 2, 3, 4, 5, 6]\n",
    "a.clear()\n",
    "a"
   ]
  },
  {
   "cell_type": "markdown",
   "id": "b90e7f45-5baa-4f1c-a120-37a4ea549d0a",
   "metadata": {
    "tags": []
   },
   "source": [
    "#### => list.index(x[, start[, end]])\n",
    " - 리스트에 있는 항목 중 값이 x 와 같은 첫 번째 것의 0부터 시작하는 인덱스를 돌려줍니다. 그런 항목이 없으면 ValueError 를 일으킵니다.\n",
    " - 선택적인 인자 start 와 end 는 슬라이스 표기법처럼 해석되고, 검색을 리스트의 특별한 서브 시퀀스로 제한하는 데 사용됩니다. 돌려주는 인덱스는 start 인자가 아니라 전체 시퀀스의 시작을 기준으로 합니다."
   ]
  },
  {
   "cell_type": "code",
   "execution_count": 17,
   "id": "0233932a-e06c-4599-8a04-6e48a7b8342e",
   "metadata": {},
   "outputs": [
    {
     "name": "stdout",
     "output_type": "stream",
     "text": [
      "2\n"
     ]
    }
   ],
   "source": [
    "a = [100, 2, 100, 4, 100, 6]\n",
    "where = a.index(100, 1)\n",
    "print(where)"
   ]
  },
  {
   "cell_type": "code",
   "execution_count": 18,
   "id": "801e7b2e-9336-48e5-ada5-ec2162bfa082",
   "metadata": {},
   "outputs": [
    {
     "data": {
      "text/plain": [
       "100"
      ]
     },
     "execution_count": 18,
     "metadata": {},
     "output_type": "execute_result"
    }
   ],
   "source": [
    "a[where]"
   ]
  },
  {
   "cell_type": "code",
   "execution_count": 19,
   "id": "542b316d-cebb-4cfc-ab55-34f15a9bc81e",
   "metadata": {},
   "outputs": [
    {
     "data": {
      "text/plain": [
       "[100, 2, 4, 100, 6]"
      ]
     },
     "execution_count": 19,
     "metadata": {},
     "output_type": "execute_result"
    }
   ],
   "source": [
    "del a[where]\n",
    "a"
   ]
  },
  {
   "cell_type": "markdown",
   "id": "29dc89b6-57b0-45aa-9b83-1d6df73e551b",
   "metadata": {
    "tags": []
   },
   "source": [
    "#### => list.count(x)\n",
    " - 리스트에서 x 가 등장하는 횟수를 돌려줍니다."
   ]
  },
  {
   "cell_type": "code",
   "execution_count": 20,
   "id": "d1235879-552d-4281-8b2e-dd8030e66dfc",
   "metadata": {},
   "outputs": [
    {
     "data": {
      "text/plain": [
       "3"
      ]
     },
     "execution_count": 20,
     "metadata": {},
     "output_type": "execute_result"
    }
   ],
   "source": [
    "a = [100, 2, 100, 4, 100, 6]\n",
    "a.count(100)"
   ]
  },
  {
   "cell_type": "markdown",
   "id": "bd36feab-6baa-4bb9-913a-ea5bf45550c3",
   "metadata": {
    "tags": []
   },
   "source": [
    "#### => list.sort(*, key=None, reverse=False)\n",
    " - 리스트의 항목들을 제자리에서 정렬합니다 (인자들은 정렬 커스터마이제이션에 사용될 수 있습니다. 설명은 sorted() 를 보세요)."
   ]
  },
  {
   "cell_type": "code",
   "execution_count": 21,
   "id": "30d8da09-1aad-4360-ae9e-c545e0d806f0",
   "metadata": {},
   "outputs": [
    {
     "data": {
      "text/plain": [
       "[2, 8, 26, 33, 84, 90]"
      ]
     },
     "execution_count": 21,
     "metadata": {},
     "output_type": "execute_result"
    }
   ],
   "source": [
    "a = [33,26,8,90,84,2]\n",
    "a.sort()\n",
    "a"
   ]
  },
  {
   "cell_type": "code",
   "execution_count": 22,
   "id": "2deeba77-c859-4da1-83b8-93a1c3ac5b1e",
   "metadata": {},
   "outputs": [
    {
     "data": {
      "text/plain": [
       "[90, 84, 33, 26, 8, 2]"
      ]
     },
     "execution_count": 22,
     "metadata": {},
     "output_type": "execute_result"
    }
   ],
   "source": [
    "a = [33,26,8,90,84,2]\n",
    "a.sort(reverse=True)\n",
    "a"
   ]
  },
  {
   "cell_type": "markdown",
   "id": "7726d84c-a581-4b1e-bd44-90653142983e",
   "metadata": {},
   "source": [
    " - sorted와 reversed를 이용한 정렬법"
   ]
  },
  {
   "cell_type": "code",
   "execution_count": 23,
   "id": "cf3e8e19-8f0d-4816-bd01-5cee9c6ea0b9",
   "metadata": {},
   "outputs": [
    {
     "name": "stdout",
     "output_type": "stream",
     "text": [
      "apple\n",
      "apple\n",
      "banana\n",
      "orange\n",
      "orange\n",
      "pear\n"
     ]
    }
   ],
   "source": [
    "basket = ['apple', 'orange', 'apple', 'pear', 'orange', 'banana']\n",
    "\n",
    "for i in sorted(basket):\n",
    "    print(i)"
   ]
  },
  {
   "cell_type": "code",
   "execution_count": 24,
   "id": "f6a36799-4f06-41dc-93ae-5938d4741911",
   "metadata": {},
   "outputs": [
    {
     "name": "stdout",
     "output_type": "stream",
     "text": [
      "9\n",
      "7\n",
      "5\n",
      "3\n",
      "1\n"
     ]
    }
   ],
   "source": [
    "for i in reversed(range(1, 10, 2)):\n",
    "    print(i)"
   ]
  },
  {
   "cell_type": "markdown",
   "id": "20f6a80b-b013-4b05-80d5-37f545ffed4e",
   "metadata": {},
   "source": [
    "정렬에 대한 더 다양한 기법은 아래 공식문서를 참고해주세요.\n",
    "\n",
    "[HOWTO 정렬](https://docs.python.org/ko/3/howto/sorting.html)"
   ]
  },
  {
   "cell_type": "markdown",
   "id": "e821139b-8396-4283-9be1-9dde5f2d3c21",
   "metadata": {
    "tags": []
   },
   "source": [
    "#### => list.reverse()\n",
    " - 리스트의 요소들을 제자리에서 뒤집습니다.\n",
    " - 정렬이 아닙니다."
   ]
  },
  {
   "cell_type": "code",
   "execution_count": 25,
   "id": "dc0f9fcf-f08d-4604-b43d-ab05091e003a",
   "metadata": {},
   "outputs": [
    {
     "data": {
      "text/plain": [
       "[2, 84, 90, 8, 26, 33]"
      ]
     },
     "execution_count": 25,
     "metadata": {},
     "output_type": "execute_result"
    }
   ],
   "source": [
    "a = [33,26,8,90,84,2]\n",
    "a.reverse()\n",
    "a"
   ]
  },
  {
   "cell_type": "markdown",
   "id": "ad59cef7-dddf-4275-962a-5947444bed84",
   "metadata": {
    "tags": []
   },
   "source": [
    "#### => list.copy()\n",
    " - 리스트의 얕은 사본을 돌려줍니다. a[:] 와 동등합니다."
   ]
  },
  {
   "cell_type": "markdown",
   "id": "6d12403f-57d9-412c-a96e-2d5b3d184010",
   "metadata": {
    "tags": []
   },
   "source": [
    "`Shallow Copy`, `Deep Copy`\n",
    "\n",
    "어떤 객체가 담은 값을 복사할 때 얇은 복사 방식과 깊은 복사 방식이 있다.\n",
    "\n",
    "얇은 복사 방식은 객채를 새로 할당하지 않고 해당 주소값을 가져와 주소값이 공유된다.\n",
    "\n",
    "깊은 복사 방식은 새로운 객체를 만들고 값들만 복사하여 할당하여 다른 주소값을 가지는 동시에 원본 데이터에 영향을 주지 않는다."
   ]
  },
  {
   "cell_type": "code",
   "execution_count": 26,
   "id": "937b09b9-a6c3-4432-a797-dbbd26ddab65",
   "metadata": {},
   "outputs": [
    {
     "name": "stdout",
     "output_type": "stream",
     "text": [
      "[100, 2, 3, 4, 5]\n",
      "[100, 2, 3, 4, 5]\n"
     ]
    }
   ],
   "source": [
    "a = [1, 2, 3, 4, 5]\n",
    "b = a # 주소값 공유\n",
    "b[0] = 100 # a[0]에도 영향이 간다\n",
    "print(a) # 원본에 영향을 주었다.\n",
    "print(b)"
   ]
  },
  {
   "cell_type": "code",
   "execution_count": 27,
   "id": "808278ff-25d1-461d-9787-bef58ba87881",
   "metadata": {},
   "outputs": [
    {
     "name": "stdout",
     "output_type": "stream",
     "text": [
      "[1, 2, 3, 4, 5]\n",
      "[100, 2, 3, 4, 5]\n"
     ]
    }
   ],
   "source": [
    "a = [1, 2, 3, 4, 5]\n",
    "b = a.copy() # copy()를 사용하면 다른 주소값에 할당하게 된다.\n",
    "b[0] = 100\n",
    "print(a)\n",
    "print(b)"
   ]
  },
  {
   "cell_type": "code",
   "execution_count": 28,
   "id": "d9103e9e-2f75-4610-b15c-fee812a72562",
   "metadata": {},
   "outputs": [
    {
     "name": "stdout",
     "output_type": "stream",
     "text": [
      "[[100, 2], [3, 4]]\n",
      "[[100, 2], [3, 4]]\n"
     ]
    }
   ],
   "source": [
    "a = [[1, 2], [3, 4]]\n",
    "b = a.copy() # 그러나 copy()는 내부에 있는 객체 [1, 2] 그리고 [3, 4]의 주소값까지 해결하지는 못한다\n",
    "b[0][0] = 100\n",
    "print(a) # 즉, copy()는 일차원적인 배열에서만 깊은 복사 방식이 성립된다.\n",
    "print(b)"
   ]
  },
  {
   "cell_type": "code",
   "execution_count": 29,
   "id": "dd7cfe4f-a151-453d-a944-dd35805a6686",
   "metadata": {},
   "outputs": [
    {
     "name": "stdout",
     "output_type": "stream",
     "text": [
      "[[1, 2], [3, 4]]\n",
      "[[100, 2], [3, 4]]\n"
     ]
    }
   ],
   "source": [
    "import copy # 다차원 배열에서 깊은 복사 방식을 구현하고 싶다면 copy 모듈을 사용하면 된다.\n",
    "a = [[1, 2], [3, 4]]\n",
    "b = copy.deepcopy(a)\n",
    "b[0][0] = 100\n",
    "print(a)\n",
    "print(b)"
   ]
  },
  {
   "cell_type": "markdown",
   "id": "1212cea8-5731-4d54-847e-f1021a6142fa",
   "metadata": {},
   "source": [
    "### * Stack"
   ]
  },
  {
   "cell_type": "markdown",
   "id": "3a0fcf0c-8533-429e-8546-cc700884566c",
   "metadata": {},
   "source": [
    "선입선출 방식인 stack 자료구조 알고리즘은 아래와 같이 구현하면 된다."
   ]
  },
  {
   "cell_type": "code",
   "execution_count": 30,
   "id": "b80035d7-ddfc-414d-8833-1bca49928d12",
   "metadata": {},
   "outputs": [
    {
     "data": {
      "text/plain": [
       "[3, 4, 5, 6, 7]"
      ]
     },
     "execution_count": 30,
     "metadata": {},
     "output_type": "execute_result"
    }
   ],
   "source": [
    "stack = [3, 4, 5]\n",
    "stack.append(6)\n",
    "stack.append(7)\n",
    "stack"
   ]
  },
  {
   "cell_type": "code",
   "execution_count": 31,
   "id": "a08b5f0c-ffb8-45fb-93b2-1aff030c281a",
   "metadata": {},
   "outputs": [
    {
     "name": "stdout",
     "output_type": "stream",
     "text": [
      "[3, 4, 5, 6] removed :  7\n"
     ]
    }
   ],
   "source": [
    "removed = stack.pop()\n",
    "print(stack, \"removed : \", removed)"
   ]
  },
  {
   "cell_type": "markdown",
   "id": "7a2ed272-2f0d-40e3-b44c-b0565aa7dcd0",
   "metadata": {},
   "source": [
    "### * Queue"
   ]
  },
  {
   "cell_type": "markdown",
   "id": "fc8219fc-65a0-45af-94b6-79cf6e4f66e1",
   "metadata": {},
   "source": [
    "queue는 선입후출의 자료구조 알고리즘 방식이다."
   ]
  },
  {
   "cell_type": "markdown",
   "id": "2ef9e052-c3f9-4f52-9543-31260e4f9094",
   "metadata": {},
   "source": [
    "List 자료구조 특성상  큐(Queue)로 구현하면 성능이 떨어지므로 `collections.deque`를 사용한다."
   ]
  },
  {
   "cell_type": "markdown",
   "id": "e89deb2d-8500-4353-9da9-7f3045871dda",
   "metadata": {},
   "source": [
    "성능이 떨어지는 이유는 앞에 할당된 값 요소를 없애게 되면 뒤에 있는 요소들이 없어진 요소만큼 끌어오기 때문에 그만큼 속도가 느려진다."
   ]
  },
  {
   "cell_type": "code",
   "execution_count": 32,
   "id": "2f83bde0-3755-4e67-bbad-3fca4d523315",
   "metadata": {},
   "outputs": [
    {
     "data": {
      "text/plain": [
       "deque([1, 2, 3, 4, 5])"
      ]
     },
     "execution_count": 32,
     "metadata": {},
     "output_type": "execute_result"
    }
   ],
   "source": [
    "from collections import deque\n",
    "queue = deque([1, 2, 3])\n",
    "queue.append(4)\n",
    "queue.append(5)\n",
    "queue"
   ]
  },
  {
   "cell_type": "code",
   "execution_count": 33,
   "id": "9996fb97-881f-4234-ba03-b8cf7692de58",
   "metadata": {},
   "outputs": [
    {
     "data": {
      "text/plain": [
       "deque([3, 4, 5])"
      ]
     },
     "execution_count": 33,
     "metadata": {},
     "output_type": "execute_result"
    }
   ],
   "source": [
    "queue.popleft()\n",
    "queue.popleft()\n",
    "queue"
   ]
  },
  {
   "cell_type": "markdown",
   "id": "def83176-d5ad-42e2-98d3-c2527ae0f347",
   "metadata": {},
   "source": [
    "## - Tuple"
   ]
  },
  {
   "cell_type": "markdown",
   "id": "7aa1697d-18a0-4d33-8578-b68b3860ad51",
   "metadata": {},
   "source": [
    "List 자료구조와 비슷하지만 다른점이라면 List는 mutable하고 Tuple은 immutable하다.\n",
    "\n",
    "즉, 튜플은 리스트처럼 요소를 변경, 삭제 및 추가를 하지 못한다."
   ]
  },
  {
   "cell_type": "markdown",
   "id": "5c764172-f9de-4de7-9993-e5479ee2785d",
   "metadata": {},
   "source": [
    "아래와 같이 선언하게 되면 튜플이 만들어진다."
   ]
  },
  {
   "cell_type": "code",
   "execution_count": 53,
   "id": "05b3c71d-ce08-45f7-aa5f-182cbe66d222",
   "metadata": {},
   "outputs": [
    {
     "data": {
      "text/plain": [
       "(1234, 'hello', 3.14)"
      ]
     },
     "execution_count": 53,
     "metadata": {},
     "output_type": "execute_result"
    }
   ],
   "source": [
    "t = 1234, \"hello\", 3.14\n",
    "t"
   ]
  },
  {
   "cell_type": "code",
   "execution_count": 54,
   "id": "bb537ae5-2a4b-4f51-bf91-0f08addf6cfe",
   "metadata": {},
   "outputs": [
    {
     "name": "stdout",
     "output_type": "stream",
     "text": [
      "()   len:0\n",
      "('hello',)   len:1\n"
     ]
    }
   ],
   "source": [
    "empty = ()\n",
    "singleton = 'hello', # 튜플 요소(Element)가 하나일 때는 맨 끝에 ,를 붙여줘야 한다.\n",
    "print(empty, len(empty), sep=\"   len:\")\n",
    "print(singleton, len(singleton), sep=\"   len:\")"
   ]
  },
  {
   "cell_type": "markdown",
   "id": "9ffca7f5-2975-4356-963a-3c2ba7e9a1e0",
   "metadata": {},
   "source": [
    "아래와 같이 디스트럭팅(destructing) 방식으로 할당할 수 있다."
   ]
  },
  {
   "cell_type": "code",
   "execution_count": 55,
   "id": "24cd1199-ca3c-47ee-9607-144578046f0d",
   "metadata": {},
   "outputs": [],
   "source": [
    "x, y, z = t"
   ]
  },
  {
   "cell_type": "code",
   "execution_count": 56,
   "id": "5d36aece-b6c8-42ff-913f-d45bba1198e9",
   "metadata": {},
   "outputs": [
    {
     "name": "stdout",
     "output_type": "stream",
     "text": [
      "1234\n",
      "hello\n",
      "3.14\n"
     ]
    }
   ],
   "source": [
    "print(x)\n",
    "print(y)\n",
    "print(z)"
   ]
  },
  {
   "cell_type": "markdown",
   "id": "5e3aa9ac-7f94-44f9-bef6-c6edae2b73ed",
   "metadata": {},
   "source": [
    "## - Set"
   ]
  },
  {
   "cell_type": "markdown",
   "id": "4efe479d-5c72-4c48-b85e-43dc00cfb37a",
   "metadata": {},
   "source": [
    "Set 자료구조는 일종의 집합을 표현한 자료구조라고 보면 된다. 중복을 허용하지 않는다."
   ]
  },
  {
   "cell_type": "code",
   "execution_count": 57,
   "id": "e90e1597-00b9-4454-a1a2-edf8647102a3",
   "metadata": {},
   "outputs": [
    {
     "data": {
      "text/plain": [
       "{'a', 'b', 'c', 'd'}"
      ]
     },
     "execution_count": 57,
     "metadata": {},
     "output_type": "execute_result"
    }
   ],
   "source": [
    "basket = {'a', 'b', 'a', 'c', 'd', 'b'}\n",
    "basket"
   ]
  },
  {
   "cell_type": "code",
   "execution_count": 58,
   "id": "f33d64c8-878b-4578-b39c-035e42bdca6c",
   "metadata": {},
   "outputs": [
    {
     "data": {
      "text/plain": [
       "True"
      ]
     },
     "execution_count": 58,
     "metadata": {},
     "output_type": "execute_result"
    }
   ],
   "source": [
    "'a' in basket # 자료구조에 in 연산을 사용하면 해당 값이 있는지 확인 가능"
   ]
  },
  {
   "cell_type": "code",
   "execution_count": 59,
   "id": "fad090a7-b2ff-4a5c-80f2-b6d2bf87037c",
   "metadata": {},
   "outputs": [
    {
     "name": "stdout",
     "output_type": "stream",
     "text": [
      "{'d', 'c', 'b', 'r', 'a'}\n",
      "{'z', 'm', 'c', 'l', 'a'}\n"
     ]
    }
   ],
   "source": [
    "a = set(\"abracadabra\")\n",
    "b = set(\"alacazam\")\n",
    "print(a)\n",
    "print(b)"
   ]
  },
  {
   "cell_type": "markdown",
   "id": "a8ed4e0b-9528-40d2-bc4e-225d6e56f16c",
   "metadata": {},
   "source": [
    " - 차집합"
   ]
  },
  {
   "cell_type": "code",
   "execution_count": 60,
   "id": "e664219b-0191-46c1-af47-0f77f2362642",
   "metadata": {},
   "outputs": [
    {
     "data": {
      "text/plain": [
       "{'b', 'd', 'r'}"
      ]
     },
     "execution_count": 60,
     "metadata": {},
     "output_type": "execute_result"
    }
   ],
   "source": [
    "a - b"
   ]
  },
  {
   "cell_type": "markdown",
   "id": "5a2a90bc-54a0-4eff-a88a-c24c4107fd6b",
   "metadata": {},
   "source": [
    "- 합집합"
   ]
  },
  {
   "cell_type": "code",
   "execution_count": 61,
   "id": "3f26b552-ad79-4802-bbf2-e3b954712e35",
   "metadata": {},
   "outputs": [
    {
     "data": {
      "text/plain": [
       "{'a', 'b', 'c', 'd', 'l', 'm', 'r', 'z'}"
      ]
     },
     "execution_count": 61,
     "metadata": {},
     "output_type": "execute_result"
    }
   ],
   "source": [
    "a | b"
   ]
  },
  {
   "cell_type": "markdown",
   "id": "17190845-32c1-458d-b043-94d63ddc8edc",
   "metadata": {},
   "source": [
    "- 교집합"
   ]
  },
  {
   "cell_type": "code",
   "execution_count": 62,
   "id": "06802d37-842b-4626-88c0-182041423927",
   "metadata": {},
   "outputs": [
    {
     "data": {
      "text/plain": [
       "{'a', 'c'}"
      ]
     },
     "execution_count": 62,
     "metadata": {},
     "output_type": "execute_result"
    }
   ],
   "source": [
    "a & b"
   ]
  },
  {
   "cell_type": "markdown",
   "id": "dac7c94e-5614-438a-aafe-99b3e82557e1",
   "metadata": {},
   "source": [
    "- 교집합 결과의 여집합"
   ]
  },
  {
   "cell_type": "code",
   "execution_count": 63,
   "id": "ff960aff-270a-4991-93bd-495194b32cde",
   "metadata": {},
   "outputs": [
    {
     "data": {
      "text/plain": [
       "{'b', 'd', 'l', 'm', 'r', 'z'}"
      ]
     },
     "execution_count": 63,
     "metadata": {},
     "output_type": "execute_result"
    }
   ],
   "source": [
    "a ^ b #letters in a or b but not both"
   ]
  },
  {
   "cell_type": "markdown",
   "id": "36d0af26-3ecd-4366-b2a2-4951e99021f4",
   "metadata": {},
   "source": [
    " - 컴프리핸션"
   ]
  },
  {
   "cell_type": "code",
   "execution_count": 64,
   "id": "2e13de15-2281-44d4-943f-6163fd20ede2",
   "metadata": {},
   "outputs": [
    {
     "data": {
      "text/plain": [
       "{'d', 'r'}"
      ]
     },
     "execution_count": 64,
     "metadata": {},
     "output_type": "execute_result"
    }
   ],
   "source": [
    "{x for x in 'abracadabra' if x not in 'abc'}"
   ]
  },
  {
   "cell_type": "markdown",
   "id": "a5d89742-4a1a-41ae-a320-d3f15a961520",
   "metadata": {},
   "source": [
    "## - Dictionary"
   ]
  },
  {
   "cell_type": "markdown",
   "id": "82bf4ade-ff50-44b5-adcf-1c06b03cf9d5",
   "metadata": {},
   "source": [
    "Dictionary 자료구조는 key-value쌍의 데이터들이 모인 것이다."
   ]
  },
  {
   "cell_type": "code",
   "execution_count": 65,
   "id": "057d83b3-71e4-40a7-82df-d88079b009dc",
   "metadata": {},
   "outputs": [],
   "source": [
    "tel = {'jack' : 4098, 'sape' : 4139}"
   ]
  },
  {
   "cell_type": "code",
   "execution_count": 66,
   "id": "1886af13-d260-4c09-8416-3dea5f6d0ba0",
   "metadata": {},
   "outputs": [
    {
     "data": {
      "text/plain": [
       "4098"
      ]
     },
     "execution_count": 66,
     "metadata": {},
     "output_type": "execute_result"
    }
   ],
   "source": [
    "tel['jack'] # value를 얻어올 때 해당 value의 key를 이용한다"
   ]
  },
  {
   "cell_type": "code",
   "execution_count": 67,
   "id": "278b9225-02e9-4c2f-95e9-2e594f0a528e",
   "metadata": {},
   "outputs": [],
   "source": [
    "del tel['sape'] # 삭제"
   ]
  },
  {
   "cell_type": "code",
   "execution_count": 68,
   "id": "5c6ce694-4ae8-41fe-8452-68d4259d7b3f",
   "metadata": {},
   "outputs": [],
   "source": [
    "tel['irv'] = 4127 # 추가 ( 만일 이미 있는 key라면 value변경 )"
   ]
  },
  {
   "cell_type": "code",
   "execution_count": 69,
   "id": "e7c7ebc8-e42b-42e6-aafc-7d6b11fc3c5c",
   "metadata": {},
   "outputs": [
    {
     "data": {
      "text/plain": [
       "{'jack': 4098, 'irv': 4127}"
      ]
     },
     "execution_count": 69,
     "metadata": {},
     "output_type": "execute_result"
    }
   ],
   "source": [
    "tel"
   ]
  },
  {
   "cell_type": "code",
   "execution_count": 70,
   "id": "ba340900-75b9-4405-90d7-e60873f22383",
   "metadata": {},
   "outputs": [
    {
     "data": {
      "text/plain": [
       "['jack', 'irv']"
      ]
     },
     "execution_count": 70,
     "metadata": {},
     "output_type": "execute_result"
    }
   ],
   "source": [
    "list(tel) # 리스트화 시키면 key값들만 열거된다."
   ]
  },
  {
   "cell_type": "code",
   "execution_count": 71,
   "id": "a0581cdf-aad6-49af-a35e-489685e17bcc",
   "metadata": {},
   "outputs": [
    {
     "data": {
      "text/plain": [
       "{'sape': 4139, 'guido': 4127, 'jack': 4098}"
      ]
     },
     "execution_count": 71,
     "metadata": {},
     "output_type": "execute_result"
    }
   ],
   "source": [
    "dict([('sape', 4139), ('guido', 4127), ('jack', 4098)]) # 캐스팅"
   ]
  },
  {
   "cell_type": "code",
   "execution_count": 72,
   "id": "bc38ec29-cb44-4c59-9273-c47b77a984a4",
   "metadata": {},
   "outputs": [
    {
     "data": {
      "text/plain": [
       "{2: 4, 4: 16, 6: 36}"
      ]
     },
     "execution_count": 72,
     "metadata": {},
     "output_type": "execute_result"
    }
   ],
   "source": [
    "{x: x**2 for x in (2, 4, 6)} # 컴프리핸션"
   ]
  },
  {
   "cell_type": "code",
   "execution_count": 73,
   "id": "50c97526-9dbb-4239-9105-27aa0247a46a",
   "metadata": {},
   "outputs": [
    {
     "data": {
      "text/plain": [
       "{'sape': 4139, 'guido': 4127, 'jack': 4098}"
      ]
     },
     "execution_count": 73,
     "metadata": {},
     "output_type": "execute_result"
    }
   ],
   "source": [
    "dict(sape=4139, guido=4127, jack=4098) # dict()를 이용한 Dictionary 자료구조 생성"
   ]
  },
  {
   "cell_type": "code",
   "execution_count": 74,
   "id": "9224652f-33cb-47a9-88a2-c676abe28a77",
   "metadata": {},
   "outputs": [
    {
     "data": {
      "text/plain": [
       "{'a': 10, 'b': 'hello', 'c': 100, 'd': 'world'}"
      ]
     },
     "execution_count": 74,
     "metadata": {},
     "output_type": "execute_result"
    }
   ],
   "source": [
    "# Dictionary 구조 합치기\n",
    "d1 = dict(a=10, b=\"hello\")\n",
    "d2 = dict(c=3.14)\n",
    "d3 = dict(c=100, d=\"world\")\n",
    "\n",
    "d1 | d2 | d3"
   ]
  },
  {
   "cell_type": "markdown",
   "id": "ad6b6f8f-908c-4077-8238-960885563ba7",
   "metadata": {},
   "source": [
    "<br>\n",
    "<br>\n",
    "<br>\n",
    "<br>\n",
    "<br>\n",
    "<br>\n",
    "<hr>\n",
    "<br>\n",
    "<br>\n",
    "<br>\n",
    "<br>\n",
    "<br>\n",
    "<br>"
   ]
  },
  {
   "cell_type": "markdown",
   "id": "c5fa6e19-6471-45ae-abc1-741459dd874e",
   "metadata": {},
   "source": [
    "# 08. 함수활용"
   ]
  },
  {
   "cell_type": "markdown",
   "id": "0bf6c675-34b3-4c0c-9116-0f798d042d89",
   "metadata": {
    "tags": []
   },
   "source": [
    "## - Scope\n",
    " - LEGB(Local, Enclosed function local, Global, Built-in)\n",
    "\n",
    "파이썬은 4개의 스코프(Scope)로 나뉘어서 변수에 접근한다.\n",
    "\n",
    "Built-in은 우리가 여지껏 사용한 `print()`와 같이 파이썬 기본적으로 내장 되어 있는 모듈이다.\n",
    "\n",
    "그리고 L -> E -> G -> B 순서로 접근한다.\n",
    "\n",
    "만일 Local 영역이라면 찾고자 하는 변수가 존재하지 않을 때 E 영역을 찾고 또 없으면 G 영역을 찾고 또 없으면 B 영역을 찾는다.\n",
    "\n",
    "그리고 끝까지 찾았는데도 없다면 undefined (ReferenceError)가 일어날 것이다."
   ]
  },
  {
   "cell_type": "code",
   "execution_count": 1,
   "id": "a9456135-4d5e-47e0-aeb2-c6260f1856d2",
   "metadata": {},
   "outputs": [
    {
     "name": "stdout",
     "output_type": "stream",
     "text": [
      "빌트인 함수\n",
      "['ArithmeticError', 'AssertionError', 'AttributeError', 'BaseException', 'BlockingIOError', 'BrokenPipeError', 'BufferError', 'BytesWarning', 'ChildProcessError', 'ConnectionAbortedError', 'ConnectionError', 'ConnectionRefusedError', 'ConnectionResetError', 'DeprecationWarning', 'EOFError', 'Ellipsis', 'EnvironmentError', 'Exception', 'False', 'FileExistsError', 'FileNotFoundError', 'FloatingPointError', 'FutureWarning', 'GeneratorExit', 'IOError', 'ImportError', 'ImportWarning', 'IndentationError', 'IndexError', 'InterruptedError', 'IsADirectoryError', 'KeyError', 'KeyboardInterrupt', 'LookupError', 'MemoryError', 'ModuleNotFoundError', 'NameError', 'None', 'NotADirectoryError', 'NotImplemented', 'NotImplementedError', 'OSError', 'OverflowError', 'PendingDeprecationWarning', 'PermissionError', 'ProcessLookupError', 'RecursionError', 'ReferenceError', 'ResourceWarning', 'RuntimeError', 'RuntimeWarning', 'StopAsyncIteration', 'StopIteration', 'SyntaxError', 'SyntaxWarning', 'SystemError', 'SystemExit', 'TabError', 'TimeoutError', 'True', 'TypeError', 'UnboundLocalError', 'UnicodeDecodeError', 'UnicodeEncodeError', 'UnicodeError', 'UnicodeTranslateError', 'UnicodeWarning', 'UserWarning', 'ValueError', 'Warning', 'WindowsError', 'ZeroDivisionError', '__IPYTHON__', '__build_class__', '__debug__', '__doc__', '__import__', '__loader__', '__name__', '__package__', '__spec__', 'abs', 'all', 'any', 'ascii', 'bin', 'bool', 'breakpoint', 'bytearray', 'bytes', 'callable', 'chr', 'classmethod', 'compile', 'complex', 'copyright', 'credits', 'delattr', 'dict', 'dir', 'display', 'divmod', 'enumerate', 'eval', 'exec', 'filter', 'float', 'format', 'frozenset', 'get_ipython', 'getattr', 'globals', 'hasattr', 'hash', 'help', 'hex', 'id', 'input', 'int', 'isinstance', 'issubclass', 'iter', 'len', 'license', 'list', 'locals', 'map', 'max', 'memoryview', 'min', 'next', 'object', 'oct', 'open', 'ord', 'pow', 'print', 'property', 'range', 'repr', 'reversed', 'round', 'set', 'setattr', 'slice', 'sorted', 'staticmethod', 'str', 'sum', 'super', 'tuple', 'type', 'vars', 'zip']\n"
     ]
    }
   ],
   "source": [
    "import builtins\n",
    "builtins.print(\"빌트인 함수\")\n",
    "print(dir(builtins))"
   ]
  },
  {
   "cell_type": "markdown",
   "id": "bea4122e-7caf-4a1b-a98d-442ca0812ca9",
   "metadata": {},
   "source": [
    "원칙상 Built-in 모듈을 import하여 print(), len() 등의 함수를 사용해야 하지만 암묵적으로 import 되어있다."
   ]
  },
  {
   "cell_type": "code",
   "execution_count": 2,
   "id": "6435478f-84fe-49cd-aac8-bf9f5759584d",
   "metadata": {},
   "outputs": [
    {
     "name": "stdout",
     "output_type": "stream",
     "text": [
      "global x\n"
     ]
    }
   ],
   "source": [
    "x = 'global x'\n",
    "print(x)"
   ]
  },
  {
   "cell_type": "markdown",
   "id": "9bb7a4e2-c4fc-46c9-b247-d6abe8aed8e2",
   "metadata": {},
   "source": [
    "위 `x`는 global 스코프이다."
   ]
  },
  {
   "cell_type": "code",
   "execution_count": 3,
   "id": "3174aa43-fc69-4652-9728-92ffc8622077",
   "metadata": {},
   "outputs": [
    {
     "name": "stdout",
     "output_type": "stream",
     "text": [
      "local y\n",
      "global x\n"
     ]
    }
   ],
   "source": [
    "x = 'global x'\n",
    "\n",
    "def localScope():\n",
    "    y = 'local y'\n",
    "    print(y)\n",
    "\n",
    "localScope()\n",
    "print(x)"
   ]
  },
  {
   "cell_type": "markdown",
   "id": "7205299c-9eeb-44f0-9f78-36be746154c1",
   "metadata": {},
   "source": [
    "위 `y`는 local 스코프이다."
   ]
  },
  {
   "cell_type": "code",
   "execution_count": 4,
   "id": "6223e38f-0e62-4921-b5d7-bd0cefc1caee",
   "metadata": {},
   "outputs": [
    {
     "name": "stdout",
     "output_type": "stream",
     "text": [
      "global x\n"
     ]
    }
   ],
   "source": [
    "x = 'global x'\n",
    "\n",
    "def localScope():\n",
    "    print(x)\n",
    "\n",
    "localScope()"
   ]
  },
  {
   "cell_type": "markdown",
   "id": "cf2a4925-7375-4d45-a3ad-5babae0c84a7",
   "metadata": {},
   "source": [
    "localScope 함수안의 `x`를 찾으려 할 때 local 스코프에 없으므로 L->E->G->B 순서로 찾는다."
   ]
  },
  {
   "cell_type": "code",
   "execution_count": 5,
   "id": "8fbfea1a-3ab6-49d4-9abf-eaae6d082e8d",
   "metadata": {},
   "outputs": [
    {
     "name": "stdout",
     "output_type": "stream",
     "text": [
      "local x 2353629260848\n",
      "global x 2353629331184\n"
     ]
    }
   ],
   "source": [
    "x = 'global x'\n",
    "\n",
    "def localScope():\n",
    "    x = \"local x\"\n",
    "    print(x, id(x))\n",
    "\n",
    "localScope()\n",
    "print(x, id(x))"
   ]
  },
  {
   "cell_type": "markdown",
   "id": "46525cd4-33b5-4bab-a20f-7635b4644dd0",
   "metadata": {},
   "source": [
    "local 스코프에서 global 스코프의 `x`를 바꿀려고 시도하였지만 바뀌지 않는다.\n",
    "\n",
    "global의 x와 local의 x는 주소값이 다른 존재이기 때문이다.\n",
    "\n",
    "즉, 이름은 같지만 사는 차원의 세계가 다른 격이다."
   ]
  },
  {
   "cell_type": "code",
   "execution_count": 6,
   "id": "55732c2d-78a4-4103-875a-d5e613c80bf9",
   "metadata": {},
   "outputs": [
    {
     "name": "stdout",
     "output_type": "stream",
     "text": [
      "I want to change the global variable 2353629424304\n",
      "global x 2353629414640\n"
     ]
    }
   ],
   "source": [
    "x = 'global x'\n",
    "\n",
    "def localScope(x):\n",
    "    print(x, id(x))\n",
    "\n",
    "localScope(\"I want to change the global variable\")\n",
    "print(x, id(x))"
   ]
  },
  {
   "cell_type": "markdown",
   "id": "e4c96f2a-99f2-4ea2-86e2-7bfcc5eb3789",
   "metadata": {},
   "source": [
    "함수의 매개변수 또한 local 스코프이고 이전 설명과 같은 이유로 이름만 같은 다른 존재이다."
   ]
  },
  {
   "cell_type": "code",
   "execution_count": 7,
   "id": "7ddde150-3702-4562-9b3c-5990915afd23",
   "metadata": {},
   "outputs": [
    {
     "name": "stdout",
     "output_type": "stream",
     "text": [
      "local x 2353629416496\n",
      "local x 2353629416496\n"
     ]
    }
   ],
   "source": [
    "x = 'global x'\n",
    "\n",
    "def localScope():\n",
    "    global x\n",
    "    x = \"local x\"\n",
    "    print(x, id(x))\n",
    "\n",
    "localScope()\n",
    "print(x, id(x))"
   ]
  },
  {
   "cell_type": "markdown",
   "id": "9c43fa9d-3565-4f8c-97e7-e1426b7f34d3",
   "metadata": {},
   "source": [
    "만일 함수 안에서 global 스코프의 변수값을 바꾸고 싶다면 `global` 키워드를 사용하면 된다.\n",
    "\n",
    "그러나 개인적으로 권장하지 않는다. 이는 프로그램을 복잡하게 만들고 디버깅을 어렵게 할 것이다."
   ]
  },
  {
   "cell_type": "code",
   "execution_count": 8,
   "id": "a5c9a11c-af5b-4160-9ed5-4392b7d857ea",
   "metadata": {},
   "outputs": [
    {
     "name": "stdout",
     "output_type": "stream",
     "text": [
      "inner x\n",
      "outer x\n",
      "global x\n"
     ]
    }
   ],
   "source": [
    "x = 'global x'\n",
    "\n",
    "def outer():\n",
    "    x = 'outer x'\n",
    "    \n",
    "    def inner():\n",
    "        x = 'inner x'\n",
    "        print(x)\n",
    "    \n",
    "    inner()\n",
    "    print(x)\n",
    "    \n",
    "outer()\n",
    "print(x)"
   ]
  },
  {
   "cell_type": "markdown",
   "id": "129a0e41-61ff-4014-aa46-ef371a10ac49",
   "metadata": {},
   "source": [
    "inner 함수 입장에서 outer 함수는 외부함수(Enclosed function local)이다.\n",
    "\n",
    "만일 프로그램이 inner 함수에서 실행이 된다면 inner()은 local 스코프가 되고 outer은 Enclosed function local 스코프가 된다.\n",
    "\n",
    "여기서 찾고자 하는 변수가 없다면 inner()를 감싸는 외부함수 outer()의 스코프를 보게 된다.\n",
    "\n",
    "만일 프로그램이 outer 함수에서 실행이 된다면 outer()가 local 스코프가 될 것이고 \n",
    "\n",
    "여기서 찾고자 하는 변수가 없다면 outer()를 감싸는 외부 함수가 더는 없으니 바로 global 스코프를 찾을 것이다."
   ]
  },
  {
   "cell_type": "code",
   "execution_count": 9,
   "id": "b3c95384-bb72-4204-9cff-c0fd4b61aea4",
   "metadata": {},
   "outputs": [
    {
     "name": "stdout",
     "output_type": "stream",
     "text": [
      "inner x\n",
      "inner x\n",
      "global x\n"
     ]
    }
   ],
   "source": [
    "x = 'global x'\n",
    "\n",
    "def outer():\n",
    "    x = 'outer x'\n",
    "    \n",
    "    def inner():\n",
    "        nonlocal x\n",
    "        x = 'inner x'\n",
    "        print(x) # inner x\n",
    "    \n",
    "    inner()\n",
    "    print(x) # inner x\n",
    "    \n",
    "outer()\n",
    "print(x) # global x"
   ]
  },
  {
   "cell_type": "markdown",
   "id": "d947d719-fb55-477e-afe0-c360ca8ebc93",
   "metadata": {},
   "source": [
    "만일 내부함수(Local 스코프)가 외부함수(Enclosed function local 스코프)의 변수에 접근하고 싶다면 `nonlocal` 키워드를 사용하면 된다.\n",
    "\n",
    "주의해야할 점은 외부함수로 감싸진 내부함수 형태가 아니라면 `nonlocal`은 에러를 일으키게 된다는 점이다."
   ]
  },
  {
   "cell_type": "code",
   "execution_count": 10,
   "id": "815e06c8-51ec-4698-9415-795dce0fb0d6",
   "metadata": {},
   "outputs": [
    {
     "ename": "SyntaxError",
     "evalue": "no binding for nonlocal 'global_var' found (Temp/ipykernel_17684/3794460605.py, line 5)",
     "output_type": "error",
     "traceback": [
      "\u001b[1;36m  File \u001b[1;32m\"C:\\Users\\quoti\\AppData\\Local\\Temp/ipykernel_17684/3794460605.py\"\u001b[1;36m, line \u001b[1;32m5\u001b[0m\n\u001b[1;33m    nonlocal global_var\u001b[0m\n\u001b[1;37m    ^\u001b[0m\n\u001b[1;31mSyntaxError\u001b[0m\u001b[1;31m:\u001b[0m no binding for nonlocal 'global_var' found\n"
     ]
    }
   ],
   "source": [
    "global_var = \"test var\"\n",
    "\n",
    "def scope_test():\n",
    "    local_var = \"hello var\"\n",
    "    nonlocal global_var\n",
    "    global_var = local_var\n",
    "    \n",
    "scope_test()\n",
    "print(global_var)"
   ]
  },
  {
   "cell_type": "markdown",
   "id": "b2b99758-f0eb-499d-bc4a-614a3f052074",
   "metadata": {},
   "source": [
    "아래 코드는 스코프에 대한 총정리를 보여주는 코드다."
   ]
  },
  {
   "cell_type": "code",
   "execution_count": 11,
   "id": "2f90e5e5-6720-4593-a483-3ea59c40966f",
   "metadata": {},
   "outputs": [
    {
     "name": "stdout",
     "output_type": "stream",
     "text": [
      "After local assignment: test spam\n",
      "After nonlocal assignment: nonlocal spam\n",
      "After global assignment: nonlocal spam\n",
      "In global scope: global spam\n"
     ]
    }
   ],
   "source": [
    "def scope_test():\n",
    "\n",
    "    spam = \"test spam\"\n",
    "    \n",
    "    def do_local():\n",
    "        spam = \"local spam\"\n",
    "\n",
    "    def do_nonlocal():\n",
    "        nonlocal spam\n",
    "        spam = \"nonlocal spam\"\n",
    "\n",
    "    def do_global():\n",
    "        global spam\n",
    "        spam = \"global spam\"\n",
    "\n",
    "    do_local()\n",
    "    print(\"After local assignment:\", spam) # test spam\n",
    "    do_nonlocal()\n",
    "    print(\"After nonlocal assignment:\", spam) # nonlocal spam\n",
    "    do_global()\n",
    "    print(\"After global assignment:\", spam) # nonlocal spam\n",
    "\n",
    "scope_test()\n",
    "print(\"In global scope:\", spam) # global spam"
   ]
  },
  {
   "cell_type": "markdown",
   "id": "f51a41cf-d148-4987-a565-e9da5ab6ba76",
   "metadata": {
    "tags": []
   },
   "source": [
    "## - 함수의 매개변수"
   ]
  },
  {
   "cell_type": "markdown",
   "id": "68a8c467-6957-40eb-9f2c-3d2a23d67728",
   "metadata": {
    "tags": []
   },
   "source": [
    "### * Default Value"
   ]
  },
  {
   "cell_type": "markdown",
   "id": "e7a1cd80-4b94-4024-b662-155726f3c34a",
   "metadata": {},
   "source": [
    "함수 매개변수에 기본값을 정할 수 있다. 만일 아무 값이 들어오지 않으면 기본값으로 결정될 것이다.\n",
    "\n",
    "아래에 있는 `raise` 키워드는 에러를 일부러 일으키겠다는 것이다(우리가 원하는 에러 메시지를 정할 수 있다). \n",
    "\n",
    "`ValueError`와 같은 에러 객체는 파이썬에서 이미 있는 Built-in 객체이다."
   ]
  },
  {
   "cell_type": "code",
   "execution_count": 13,
   "id": "df0d2100-a8f3-4c29-ab4e-bb9bb136cc8d",
   "metadata": {},
   "outputs": [],
   "source": [
    "def ask_ok(prompt, retries=2, reminder=\"Please try again!\"):\n",
    "    while True:\n",
    "        ok = input(prompt)\n",
    "        if ok in ('y','ye','yes'):\n",
    "            return True\n",
    "        if ok in ('n','no','nop','nope'):\n",
    "            return False\n",
    "        retries = retries - 1\n",
    "        if retries < 0:\n",
    "            raise ValueError('invalid user response')\n",
    "        print(reminder)"
   ]
  },
  {
   "cell_type": "code",
   "execution_count": 14,
   "id": "192a441f-11f9-4f57-b46c-dc9f406cd509",
   "metadata": {},
   "outputs": [
    {
     "name": "stdin",
     "output_type": "stream",
     "text": [
      "are you sure? \n"
     ]
    },
    {
     "name": "stdout",
     "output_type": "stream",
     "text": [
      "다시 시도해주세요\n"
     ]
    },
    {
     "name": "stdin",
     "output_type": "stream",
     "text": [
      "are you sure? \n"
     ]
    },
    {
     "name": "stdout",
     "output_type": "stream",
     "text": [
      "다시 시도해주세요\n"
     ]
    },
    {
     "name": "stdin",
     "output_type": "stream",
     "text": [
      "are you sure? \n"
     ]
    },
    {
     "ename": "ValueError",
     "evalue": "invalid user response",
     "output_type": "error",
     "traceback": [
      "\u001b[1;31m---------------------------------------------------------------------------\u001b[0m",
      "\u001b[1;31mValueError\u001b[0m                                Traceback (most recent call last)",
      "\u001b[1;32m~\\AppData\\Local\\Temp/ipykernel_17684/2716747390.py\u001b[0m in \u001b[0;36m<module>\u001b[1;34m\u001b[0m\n\u001b[1;32m----> 1\u001b[1;33m \u001b[0mask_ok\u001b[0m\u001b[1;33m(\u001b[0m\u001b[1;34m'are you sure?'\u001b[0m\u001b[1;33m,\u001b[0m \u001b[0mreminder\u001b[0m\u001b[1;33m=\u001b[0m\u001b[1;34m\"다시 시도해주세요\"\u001b[0m\u001b[1;33m)\u001b[0m\u001b[1;33m\u001b[0m\u001b[1;33m\u001b[0m\u001b[0m\n\u001b[0m\u001b[0;32m      2\u001b[0m \u001b[0mprint\u001b[0m\u001b[1;33m(\u001b[0m\u001b[1;34m\"---end---\"\u001b[0m\u001b[1;33m)\u001b[0m \u001b[1;31m# raise로부터 Exception이 발생함으로 no print\u001b[0m\u001b[1;33m\u001b[0m\u001b[1;33m\u001b[0m\u001b[0m\n",
      "\u001b[1;32m~\\AppData\\Local\\Temp/ipykernel_17684/568544911.py\u001b[0m in \u001b[0;36mask_ok\u001b[1;34m(prompt, retries, reminder)\u001b[0m\n\u001b[0;32m      8\u001b[0m         \u001b[0mretries\u001b[0m \u001b[1;33m=\u001b[0m \u001b[0mretries\u001b[0m \u001b[1;33m-\u001b[0m \u001b[1;36m1\u001b[0m\u001b[1;33m\u001b[0m\u001b[1;33m\u001b[0m\u001b[0m\n\u001b[0;32m      9\u001b[0m         \u001b[1;32mif\u001b[0m \u001b[0mretries\u001b[0m \u001b[1;33m<\u001b[0m \u001b[1;36m0\u001b[0m\u001b[1;33m:\u001b[0m\u001b[1;33m\u001b[0m\u001b[1;33m\u001b[0m\u001b[0m\n\u001b[1;32m---> 10\u001b[1;33m             \u001b[1;32mraise\u001b[0m \u001b[0mValueError\u001b[0m\u001b[1;33m(\u001b[0m\u001b[1;34m'invalid user response'\u001b[0m\u001b[1;33m)\u001b[0m\u001b[1;33m\u001b[0m\u001b[1;33m\u001b[0m\u001b[0m\n\u001b[0m\u001b[0;32m     11\u001b[0m         \u001b[0mprint\u001b[0m\u001b[1;33m(\u001b[0m\u001b[0mreminder\u001b[0m\u001b[1;33m)\u001b[0m\u001b[1;33m\u001b[0m\u001b[1;33m\u001b[0m\u001b[0m\n",
      "\u001b[1;31mValueError\u001b[0m: invalid user response"
     ]
    }
   ],
   "source": [
    "ask_ok('are you sure?', reminder=\"다시 시도해주세요\")\n",
    "print(\"---end---\") # raise로부터 Exception이 발생함으로 no print"
   ]
  },
  {
   "cell_type": "markdown",
   "id": "e4b5818f-b1d2-4f9a-b8d2-b4607805a51b",
   "metadata": {},
   "source": [
    "### * `*arg`와 `**arg`"
   ]
  },
  {
   "cell_type": "markdown",
   "id": "c828bc29-ca9b-4092-b105-8e3b0d1f8bc1",
   "metadata": {},
   "source": [
    " - `*arg`는 매개변수를 제한 없이 여러개를 받을 수 있음 : 튜플\n",
    " - `**arg`는 딕셔너리를 매개변수로 받음\n",
    " - `*arg`는 `**arg` 앞으로 와야 한다"
   ]
  },
  {
   "cell_type": "code",
   "execution_count": 18,
   "id": "ceab5c90-40b0-4578-be43-45f178cec733",
   "metadata": {},
   "outputs": [],
   "source": [
    "def showArgs(a, *b, **c):\n",
    "    print(a)\n",
    "    print(\"-\"*10)\n",
    "    print(b)\n",
    "    print(\"-\"*10)\n",
    "    print(c)"
   ]
  },
  {
   "cell_type": "code",
   "execution_count": 19,
   "id": "7a91c0fe-8ed6-4b1c-9c91-fb1b000bd11a",
   "metadata": {},
   "outputs": [
    {
     "name": "stdout",
     "output_type": "stream",
     "text": [
      "안녕하세요\n",
      "----------\n",
      "(10, 100, 1000)\n",
      "----------\n",
      "{'A': 'mic', 'B': '394'}\n"
     ]
    }
   ],
   "source": [
    "showArgs(\"안녕하세요\" ,10,100,1000, A=\"mic\",B=\"394\")"
   ]
  },
  {
   "cell_type": "code",
   "execution_count": 20,
   "id": "bae36f45-a0a7-451d-a6e1-a1374cb40f71",
   "metadata": {},
   "outputs": [
    {
     "name": "stdout",
     "output_type": "stream",
     "text": [
      "이건 좀 다른 이야기\n",
      "----------\n",
      "((1, 10, 100, 1000), {'key A': 1515, 'key B': 5832})\n",
      "----------\n",
      "{}\n"
     ]
    }
   ],
   "source": [
    "tupVar = (1,10,100,1000)\n",
    "\n",
    "dicVar = {\n",
    "    'key A' : 1515,\n",
    "    'key B' : 5832\n",
    "}\n",
    "\n",
    "showArgs(\"이건 좀 다른 이야기\", tupVar, dicVar)"
   ]
  },
  {
   "cell_type": "markdown",
   "id": "529784be-866d-4fb3-ab75-373d9f025446",
   "metadata": {},
   "source": [
    "위의 경우는 tupVar과 dicVar의 요소들이 분해되지 않은 상태로 한번에 집어넣어진 것이다.\n",
    "\n",
    "그러므로 tupVar과 dicVar은 튜플의 요소로 튜플 매개변수에 각각 넣어진다.\n",
    "\n",
    "딕셔너리 매개변수는 key-value 형태이어야 하므로 아무 것도 안받은 것으로 간주된다."
   ]
  },
  {
   "cell_type": "code",
   "execution_count": 21,
   "id": "1dc2cdcd-35c1-47f3-84ce-227a2d080c17",
   "metadata": {},
   "outputs": [
    {
     "name": "stdout",
     "output_type": "stream",
     "text": [
      "이렇게 넘겨주면 된다\n",
      "----------\n",
      "(1, 10, 100, 1000)\n",
      "----------\n",
      "{'key A': 1515, 'key B': 5832}\n"
     ]
    }
   ],
   "source": [
    "showArgs(\"이렇게 넘겨주면 된다\", *tupVar, **dicVar)"
   ]
  },
  {
   "cell_type": "markdown",
   "id": "78d5c406-e945-4ef5-a9e5-91011a6ad747",
   "metadata": {},
   "source": [
    "튜플 자료구조 변수에는 `*`을, 딕셔너리 자료구조 변수에는 `**`을 붙여주면서 매개변수에 담아주면 각 요소가 분해되어 담아질 것이다."
   ]
  },
  {
   "cell_type": "markdown",
   "id": "5b4f8cda-831f-452a-add2-0aa5c64f0afc",
   "metadata": {},
   "source": [
    "### * 특수 매개 변수"
   ]
  },
  {
   "cell_type": "markdown",
   "id": "38573935-994e-4eb4-9722-e9386749fd1b",
   "metadata": {},
   "source": [
    " - `/` : 위치 전용 인자\n",
    " - `*` : 키워드 전용 인자"
   ]
  },
  {
   "cell_type": "markdown",
   "id": "857e195a-ef5b-4401-86bf-4be81d19aa45",
   "metadata": {},
   "source": [
    "매개변수에 `/`를 사용하면 `/` 앞에 있는 매개변수는 키워드가 아닌 위치 매개변수로서만 작동한다.\n",
    "\n",
    "매개변수에 `*`를 사용하면 `*` 뒤에 있는 매개변수는 키워드 매개변수로서만 작동한다.\n",
    "\n",
    "둘 다 사용하게 된다면 `/`이 먼저 나와야하고 그 다음 `*`가 나와야 한다"
   ]
  },
  {
   "cell_type": "code",
   "execution_count": 22,
   "id": "b4e57ab3-02a8-4c48-9aee-1b4e49ba6221",
   "metadata": {},
   "outputs": [],
   "source": [
    "def standard_arg(arg):\n",
    "    print(\"standard arg : \", arg)\n",
    "\n",
    "def pos_only_arg(arg, /):\n",
    "    print(\"pos only arg : \", arg)\n",
    "    \n",
    "def kwd_only_arg(*, arg):\n",
    "    print(\"kwd only arg: \", arg)\n",
    "\n",
    "def combined_example(pos_only, /, standard, *, kwd_only):\n",
    "    print(pos_only, standard, kwd_only)"
   ]
  },
  {
   "cell_type": "code",
   "execution_count": 23,
   "id": "6db3591a-1bdf-49a6-ac7a-0524f0cb6a9a",
   "metadata": {},
   "outputs": [
    {
     "name": "stdout",
     "output_type": "stream",
     "text": [
      "standard arg :  10\n",
      "standard arg :  20\n"
     ]
    }
   ],
   "source": [
    "standard_arg(10)\n",
    "standard_arg(arg=20)"
   ]
  },
  {
   "cell_type": "code",
   "execution_count": 24,
   "id": "764eabee-b067-493e-8a80-b807a54c8dbb",
   "metadata": {},
   "outputs": [
    {
     "name": "stdout",
     "output_type": "stream",
     "text": [
      "pos only arg :  30\n"
     ]
    },
    {
     "ename": "TypeError",
     "evalue": "pos_only_arg() got some positional-only arguments passed as keyword arguments: 'arg'",
     "output_type": "error",
     "traceback": [
      "\u001b[1;31m---------------------------------------------------------------------------\u001b[0m",
      "\u001b[1;31mTypeError\u001b[0m                                 Traceback (most recent call last)",
      "\u001b[1;32m~\\AppData\\Local\\Temp/ipykernel_17684/770711969.py\u001b[0m in \u001b[0;36m<module>\u001b[1;34m\u001b[0m\n\u001b[0;32m      1\u001b[0m \u001b[0mpos_only_arg\u001b[0m\u001b[1;33m(\u001b[0m\u001b[1;36m30\u001b[0m\u001b[1;33m)\u001b[0m\u001b[1;33m\u001b[0m\u001b[1;33m\u001b[0m\u001b[0m\n\u001b[1;32m----> 2\u001b[1;33m \u001b[0mpos_only_arg\u001b[0m\u001b[1;33m(\u001b[0m\u001b[0marg\u001b[0m\u001b[1;33m=\u001b[0m\u001b[1;36m40\u001b[0m\u001b[1;33m)\u001b[0m\u001b[1;33m\u001b[0m\u001b[1;33m\u001b[0m\u001b[0m\n\u001b[0m",
      "\u001b[1;31mTypeError\u001b[0m: pos_only_arg() got some positional-only arguments passed as keyword arguments: 'arg'"
     ]
    }
   ],
   "source": [
    "pos_only_arg(30)\n",
    "pos_only_arg(arg=40)"
   ]
  },
  {
   "cell_type": "code",
   "execution_count": 25,
   "id": "e5b21f24-a9e7-461d-b2a0-ef3306a1e47b",
   "metadata": {},
   "outputs": [
    {
     "name": "stdout",
     "output_type": "stream",
     "text": [
      "kwd only arg:  50\n"
     ]
    },
    {
     "ename": "TypeError",
     "evalue": "kwd_only_arg() takes 0 positional arguments but 1 was given",
     "output_type": "error",
     "traceback": [
      "\u001b[1;31m---------------------------------------------------------------------------\u001b[0m",
      "\u001b[1;31mTypeError\u001b[0m                                 Traceback (most recent call last)",
      "\u001b[1;32m~\\AppData\\Local\\Temp/ipykernel_17684/2463650580.py\u001b[0m in \u001b[0;36m<module>\u001b[1;34m\u001b[0m\n\u001b[0;32m      1\u001b[0m \u001b[0mkwd_only_arg\u001b[0m\u001b[1;33m(\u001b[0m\u001b[0marg\u001b[0m\u001b[1;33m=\u001b[0m\u001b[1;36m50\u001b[0m\u001b[1;33m)\u001b[0m\u001b[1;33m\u001b[0m\u001b[1;33m\u001b[0m\u001b[0m\n\u001b[1;32m----> 2\u001b[1;33m \u001b[0mkwd_only_arg\u001b[0m\u001b[1;33m(\u001b[0m\u001b[1;36m60\u001b[0m\u001b[1;33m)\u001b[0m\u001b[1;33m\u001b[0m\u001b[1;33m\u001b[0m\u001b[0m\n\u001b[0m",
      "\u001b[1;31mTypeError\u001b[0m: kwd_only_arg() takes 0 positional arguments but 1 was given"
     ]
    }
   ],
   "source": [
    "kwd_only_arg(arg=50)\n",
    "kwd_only_arg(60)"
   ]
  },
  {
   "cell_type": "code",
   "execution_count": 26,
   "id": "06782997-3166-4bcb-930c-7f15e2f4bdb0",
   "metadata": {
    "tags": []
   },
   "outputs": [
    {
     "name": "stdout",
     "output_type": "stream",
     "text": [
      "1 2 3\n"
     ]
    }
   ],
   "source": [
    "combined_example(1, 2, kwd_only=3)"
   ]
  },
  {
   "cell_type": "markdown",
   "id": "0fb3098b-0bda-4e08-8b78-ae806ec3662b",
   "metadata": {},
   "source": [
    " - 딕셔너리를 통한 특수 매개변수 사용의 필요성"
   ]
  },
  {
   "cell_type": "markdown",
   "id": "c4b26a77-f3bb-420f-a543-937c853543cc",
   "metadata": {},
   "source": [
    "아래와 같은 논리를 가지고 있는 함수를 보자"
   ]
  },
  {
   "cell_type": "code",
   "execution_count": 27,
   "id": "5f7a6889-9dc2-4dcf-8c36-677d731875b8",
   "metadata": {},
   "outputs": [
    {
     "name": "stdout",
     "output_type": "stream",
     "text": [
      "True\n",
      "False\n"
     ]
    }
   ],
   "source": [
    "# member={\n",
    "#     'name':'James',\n",
    "#     'age':10,\n",
    "#     'phone':'010-5441-4992'\n",
    "# }\n",
    "member=dict(\n",
    "    name='James',\n",
    "    age=10,\n",
    "    phone='010-5441-4992'\n",
    ")\n",
    "\n",
    "print('name' in member)\n",
    "print('password' in member)"
   ]
  },
  {
   "cell_type": "code",
   "execution_count": 28,
   "id": "0a20dc36-3efd-4577-be5f-f22ddd5a65d9",
   "metadata": {},
   "outputs": [],
   "source": [
    "def foo(key, **kwds):\n",
    "    return key in kwds"
   ]
  },
  {
   "cell_type": "code",
   "execution_count": 29,
   "id": "9218ce47-4a73-4595-933a-2267fbc1a1e9",
   "metadata": {},
   "outputs": [
    {
     "data": {
      "text/plain": [
       "True"
      ]
     },
     "execution_count": 29,
     "metadata": {},
     "output_type": "execute_result"
    }
   ],
   "source": [
    "foo('name', **member)"
   ]
  },
  {
   "cell_type": "markdown",
   "id": "5c2b3cb6-60dc-43f8-8e27-dac185b451d8",
   "metadata": {},
   "source": [
    "딕셔너리의 키(name)와 함수의 매개변수(name)이 충돌이 일어날 수도 있다.\n",
    "\n",
    "매개변수에 name이라는 이름이 중복되기 때문이다.\n",
    "\n",
    "```python\n",
    "name='name', name='James'...\n",
    "```"
   ]
  },
  {
   "cell_type": "code",
   "execution_count": 30,
   "id": "8313534b-949b-452b-92aa-406bf4f4babc",
   "metadata": {},
   "outputs": [],
   "source": [
    "def foo(name, **kwds):\n",
    "    return name in kwds"
   ]
  },
  {
   "cell_type": "code",
   "execution_count": 31,
   "id": "b68b9893-47f8-427e-8c27-448dfbd6e2cc",
   "metadata": {},
   "outputs": [
    {
     "ename": "TypeError",
     "evalue": "foo() got multiple values for argument 'name'",
     "output_type": "error",
     "traceback": [
      "\u001b[1;31m---------------------------------------------------------------------------\u001b[0m",
      "\u001b[1;31mTypeError\u001b[0m                                 Traceback (most recent call last)",
      "\u001b[1;32m~\\AppData\\Local\\Temp/ipykernel_17684/468566950.py\u001b[0m in \u001b[0;36m<module>\u001b[1;34m\u001b[0m\n\u001b[1;32m----> 1\u001b[1;33m \u001b[0mfoo\u001b[0m\u001b[1;33m(\u001b[0m\u001b[1;34m'name'\u001b[0m\u001b[1;33m,\u001b[0m \u001b[1;33m**\u001b[0m\u001b[0mmember\u001b[0m\u001b[1;33m)\u001b[0m\u001b[1;33m\u001b[0m\u001b[1;33m\u001b[0m\u001b[0m\n\u001b[0m",
      "\u001b[1;31mTypeError\u001b[0m: foo() got multiple values for argument 'name'"
     ]
    }
   ],
   "source": [
    "foo('name', **member)"
   ]
  },
  {
   "cell_type": "markdown",
   "id": "e90db647-f8d1-400d-b5fa-81bbaaa4edc1",
   "metadata": {},
   "source": [
    "그러므로 딕셔너리의 키이름과의 충돌을 피하기위해 특수 매개 변수를 사용할 필요가 있다."
   ]
  },
  {
   "cell_type": "code",
   "execution_count": 32,
   "id": "a02d72c0-074a-4d44-b625-83b4007e0e90",
   "metadata": {},
   "outputs": [],
   "source": [
    "def foo(name, /, **kwds):\n",
    "    return name in kwds"
   ]
  },
  {
   "cell_type": "code",
   "execution_count": 33,
   "id": "fd60d4d1-0646-4150-8687-7aecf7d10548",
   "metadata": {},
   "outputs": [
    {
     "data": {
      "text/plain": [
       "True"
      ]
     },
     "execution_count": 33,
     "metadata": {},
     "output_type": "execute_result"
    }
   ],
   "source": [
    "foo('name',**member)"
   ]
  },
  {
   "cell_type": "markdown",
   "id": "fbc6501f-56cb-4308-a24a-d15d74c0837e",
   "metadata": {},
   "source": [
    " - 특수 매개변수를 이용해 아래와 같이 사용할 수도 있다."
   ]
  },
  {
   "cell_type": "code",
   "execution_count": 34,
   "id": "8a038002-73d1-496d-ab09-d355e6270192",
   "metadata": {},
   "outputs": [
    {
     "data": {
      "text/plain": [
       "[3, 4, 5]"
      ]
     },
     "execution_count": 34,
     "metadata": {},
     "output_type": "execute_result"
    }
   ],
   "source": [
    "args = (3, 6)\n",
    "list(range(*args))"
   ]
  },
  {
   "cell_type": "markdown",
   "id": "d8fe9777-2ee2-44b5-8dd2-fdd2087844fc",
   "metadata": {
    "tags": []
   },
   "source": [
    "## - Documentation"
   ]
  },
  {
   "cell_type": "markdown",
   "id": "02bb3629-e4c2-4e5a-bbce-c3161e2b906f",
   "metadata": {},
   "source": [
    "협업을 할 때 모두를 위해 함수에 대한 설명서를 적어두는 것이 좋을 것이다. \n",
    "\n",
    "설사 자신 작성한 함수더라도 긴 시간이 지나면 자신도 어떤 함수였는지 잊어버리게 될 것이다."
   ]
  },
  {
   "cell_type": "code",
   "execution_count": 35,
   "id": "943892c7-ed18-4827-b1b3-ab7fad9528eb",
   "metadata": {},
   "outputs": [
    {
     "name": "stdout",
     "output_type": "stream",
     "text": [
      "    이 my_function 함수는 어떻게 Documentation을 하는지\n",
      "    알리기 위해서 사용되어졌습니다.\n",
      "    \n",
      "    오예~\n",
      "    \n"
     ]
    }
   ],
   "source": [
    "def my_function():\n",
    "    \"\"\"\\\n",
    "    이 my_function 함수는 어떻게 Documentation을 하는지\n",
    "    알리기 위해서 사용되어졌습니다.\n",
    "    \n",
    "    오예~\n",
    "    \"\"\"\n",
    "    pass\n",
    "\n",
    "print(my_function.__doc__)"
   ]
  },
  {
   "cell_type": "markdown",
   "id": "999d7408-2213-4d73-bb2a-ba794b7e2ffa",
   "metadata": {},
   "source": [
    "`\"\"\"\\`에 `\\`를 추가한 이유는 개행을 막기 위해서이다. 만일 `\\`가 없게 되면 개행이 된 상태로 출력될 것이다."
   ]
  },
  {
   "cell_type": "code",
   "execution_count": 36,
   "id": "d531f228-1091-4a97-be08-714ec7719e2c",
   "metadata": {},
   "outputs": [
    {
     "name": "stdout",
     "output_type": "stream",
     "text": [
      "\n",
      "    이 my_function 함수는 어떻게 Documentation을 하는지\n",
      "    알리기 위해서 사용되어졌습니다.\n",
      "    \n",
      "    오예~\n",
      "    \n"
     ]
    }
   ],
   "source": [
    "def my_function():\n",
    "    \"\"\"\n",
    "    이 my_function 함수는 어떻게 Documentation을 하는지\n",
    "    알리기 위해서 사용되어졌습니다.\n",
    "    \n",
    "    오예~\n",
    "    \"\"\"\n",
    "    pass\n",
    "\n",
    "print(my_function.__doc__)"
   ]
  },
  {
   "cell_type": "markdown",
   "id": "72ff7d2b-c02c-4cf4-985b-9f36137d2458",
   "metadata": {},
   "source": [
    "## - Annotation\n",
    " - 어노테이션은 메타데이터 정보\n",
    " - `__annotation__`에 dict로 저장됨\n",
    " - 매개변수 뒤 `:`으로 정의됨\n",
    " - Java와 달리 Python에서의 어노테이션은 사용자에게 인자값의 형태와 반환값을 알려주는 것"
   ]
  },
  {
   "cell_type": "markdown",
   "id": "3f309ecd-13b5-4fbd-b820-5dec4395f784",
   "metadata": {},
   "source": [
    "파이썬의 변수는 할당 값에 따라 자료형이 바뀌게 된다.\n",
    "\n",
    "즉, 함수의 매개변수에 문자열이 들어올 수도, 리스트가 들어올 수도, 정수가 들어올 수도 있다는 말이다.\n",
    "\n",
    "비록 어노테이션이 특정 자료형 사용을 강제하지 않지만 함수를 사용하는 개발자에게 좋은 힌트가 될 것이다.\n",
    "\n",
    "개인적으로 협업시 함수를 만들 때 `Documentation`과 `Annotation`을 습관적으로 작성하는 것이 좋다고 생각한다."
   ]
  },
  {
   "cell_type": "code",
   "execution_count": 37,
   "id": "e39c8688-9f74-4c13-be06-9e3ed391a190",
   "metadata": {},
   "outputs": [
    {
     "data": {
      "text/plain": [
       "{'score': int}"
      ]
     },
     "execution_count": 37,
     "metadata": {},
     "output_type": "execute_result"
    }
   ],
   "source": [
    "score: int = 91\n",
    "__annotations__"
   ]
  },
  {
   "cell_type": "code",
   "execution_count": 38,
   "id": "819820d2-a303-46b7-92b9-74541ffd4571",
   "metadata": {},
   "outputs": [
    {
     "name": "stdout",
     "output_type": "stream",
     "text": [
      "Annotations: {'ham': <class 'str'>, 'eggs': <class 'str'>, 'return': <class 'int'>}\n",
      "Arguments: spam eggs\n"
     ]
    },
    {
     "data": {
      "text/plain": [
       "0"
      ]
     },
     "execution_count": 38,
     "metadata": {},
     "output_type": "execute_result"
    }
   ],
   "source": [
    "def f(ham: str, eggs: str = 'eggs') -> int: # 이 함수는 ham과 eggs 매개변수에는 문자열이 들어오고 정수가 반환됩니다.\n",
    "    print(\"Annotations:\", f.__annotations__)\n",
    "    print(\"Arguments:\", ham, eggs)\n",
    "    return 0\n",
    "f('spam')"
   ]
  },
  {
   "cell_type": "markdown",
   "id": "321010cc-2c79-42d8-9b4d-49d743664015",
   "metadata": {},
   "source": [
    "<br>\n",
    "<br>\n",
    "<br>\n",
    "<br>\n",
    "<br>\n",
    "<br>\n",
    "<hr>\n",
    "<br>\n",
    "<br>\n",
    "<br>\n",
    "<br>\n",
    "<br>\n",
    "<br>"
   ]
  },
  {
   "cell_type": "markdown",
   "id": "54f97350-008b-404a-8f89-63fe08d2915b",
   "metadata": {
    "tags": []
   },
   "source": [
    "# 09. 문자열 다루기"
   ]
  },
  {
   "cell_type": "markdown",
   "id": "5a4c7055-b919-444c-b723-3d063935f953",
   "metadata": {
    "tags": []
   },
   "source": [
    "## - Escape and Raw"
   ]
  },
  {
   "cell_type": "markdown",
   "id": "ceead070-6cbb-48fe-8aab-233024c62ca6",
   "metadata": {},
   "source": [
    "파이썬에서 문자열을 표현할 때 `\" ... \"` 혹은 `' ... '`을 사용한다.\n",
    "\n",
    "그래서 문법적으로 쓰이는 쌍따옴표(`\"`)나 홑따옴표(`'`)를 문자열로써 포함시키고 싶을 수 있다.\n",
    "\n",
    "Escape는 `\\`로 표현하고 프로그래밍 문법적 요소로 쓰이는 문자를 문자열로서 사용할 수 있게 해준다.\n",
    "\n",
    "raw는 `r`이란 단어를 맨 앞에 붙여줌으로써 문자열 안에 적힌 그대로 사용할 수 있게 도와준다"
   ]
  },
  {
   "cell_type": "code",
   "execution_count": 1,
   "id": "75e698a4-95cc-4eb8-b299-9e1ea111f09f",
   "metadata": {},
   "outputs": [
    {
     "name": "stdout",
     "output_type": "stream",
     "text": [
      "I'am \"Iron Man\"\n"
     ]
    }
   ],
   "source": [
    "print(\"I'am \\\"Iron Man\\\"\") #Escape"
   ]
  },
  {
   "cell_type": "code",
   "execution_count": 2,
   "id": "267860de-5ae5-44bd-89b2-31fe98696488",
   "metadata": {},
   "outputs": [
    {
     "name": "stdout",
     "output_type": "stream",
     "text": [
      "c:\\Program Files\\Python39\n"
     ]
    }
   ],
   "source": [
    "print(r'c:\\Program Files\\Python39') #Raw"
   ]
  },
  {
   "cell_type": "markdown",
   "id": "3bac29f7-e47c-4b2e-b333-3984d661f0fb",
   "metadata": {
    "tags": []
   },
   "source": [
    "## - 문자 합체와 반복"
   ]
  },
  {
   "cell_type": "code",
   "execution_count": 3,
   "id": "db38f361-67a6-4c48-ac23-96338223c6a7",
   "metadata": {},
   "outputs": [
    {
     "data": {
      "text/plain": [
       "'Python'"
      ]
     },
     "execution_count": 3,
     "metadata": {},
     "output_type": "execute_result"
    }
   ],
   "source": [
    "'Py'\"thon\" #이런식으로 문자열을 합칠 수 있다."
   ]
  },
  {
   "cell_type": "code",
   "execution_count": 4,
   "id": "f6202ac6-8e94-4c55-bef6-617b03fa8e36",
   "metadata": {},
   "outputs": [
    {
     "data": {
      "text/plain": [
       "'문자열합치기'"
      ]
     },
     "execution_count": 4,
     "metadata": {},
     "output_type": "execute_result"
    }
   ],
   "source": [
    "'문''자열''합치기'"
   ]
  },
  {
   "cell_type": "code",
   "execution_count": 5,
   "id": "8699b0d8-7b15-4db2-b406-85832425995b",
   "metadata": {},
   "outputs": [
    {
     "data": {
      "text/plain": [
       "'파이썬은문자열을다루기좋다'"
      ]
     },
     "execution_count": 5,
     "metadata": {},
     "output_type": "execute_result"
    }
   ],
   "source": [
    "\"파이썬\"\"은\"\"문자열을\"\"다루기\"\"좋다\""
   ]
  },
  {
   "cell_type": "code",
   "execution_count": 6,
   "id": "ccdd9935-583b-467c-b961-ec3e76b80152",
   "metadata": {},
   "outputs": [
    {
     "data": {
      "text/plain": [
       "'Put several strings within parentheses to have them joined together.'"
      ]
     },
     "execution_count": 6,
     "metadata": {},
     "output_type": "execute_result"
    }
   ],
   "source": [
    "#  - 두 개 이상의 문자열 리터럴 (즉, 따옴표로 둘러싸인 것들) 가 연속해서 나타나면 자동으로 이어 붙여집니다.\n",
    "text = ('Put several strings within parentheses '\n",
    "        'to have them joined together.')\n",
    "text"
   ]
  },
  {
   "cell_type": "markdown",
   "id": "75ddb67e-7ae3-4562-9809-faeec3835c8d",
   "metadata": {},
   "source": [
    "이것은 오직 두 개의 리터럴에만 적용될 뿐 변수나 표현식에는 해당하지 않습니다: prefix 'thon' -- Error\n",
    "변수들끼리 혹은 변수와 문자열를 이어붙이려면 `+` 를 사용해야 합니다: prefix + 'thon'"
   ]
  },
  {
   "cell_type": "code",
   "execution_count": 7,
   "id": "93f0b2c0-1f3d-4836-9d77-69ae645f23c0",
   "metadata": {},
   "outputs": [
    {
     "ename": "SyntaxError",
     "evalue": "invalid syntax (Temp/ipykernel_10884/3139416424.py, line 2)",
     "output_type": "error",
     "traceback": [
      "\u001b[1;36m  File \u001b[1;32m\"C:\\Users\\quoti\\AppData\\Local\\Temp/ipykernel_10884/3139416424.py\"\u001b[1;36m, line \u001b[1;32m2\u001b[0m\n\u001b[1;33m    prefix\"thon\"\u001b[0m\n\u001b[1;37m          ^\u001b[0m\n\u001b[1;31mSyntaxError\u001b[0m\u001b[1;31m:\u001b[0m invalid syntax\n"
     ]
    }
   ],
   "source": [
    "prefix = \"py\"\n",
    "prefix\"thon\""
   ]
  },
  {
   "cell_type": "code",
   "execution_count": 8,
   "id": "2b3121d2-819a-4976-a3d2-faf233dfeb8e",
   "metadata": {},
   "outputs": [
    {
     "data": {
      "text/plain": [
       "'python'"
      ]
     },
     "execution_count": 8,
     "metadata": {},
     "output_type": "execute_result"
    }
   ],
   "source": [
    "prefix = \"py\"\n",
    "prefix + \"thon\""
   ]
  },
  {
   "cell_type": "markdown",
   "id": "71132566-0740-45a7-94ce-b68f5715b2af",
   "metadata": {},
   "source": [
    "`*`를 통해 n번 반복할 수도 있다"
   ]
  },
  {
   "cell_type": "code",
   "execution_count": 9,
   "id": "2991ceb7-68c0-4e83-9951-8a9205dbd5aa",
   "metadata": {},
   "outputs": [
    {
     "data": {
      "text/plain": [
       "'Hi Hi Hi Welcome'"
      ]
     },
     "execution_count": 9,
     "metadata": {},
     "output_type": "execute_result"
    }
   ],
   "source": [
    "3 * 'Hi ' + 'Welcome'"
   ]
  },
  {
   "cell_type": "markdown",
   "id": "fe628376-40da-43c1-a828-f3cdb10a73bf",
   "metadata": {},
   "source": [
    "## - 문자열 확인"
   ]
  },
  {
   "cell_type": "markdown",
   "id": "ce346108-da60-478c-af3e-100ab88502a4",
   "metadata": {},
   "source": [
    "### * len()"
   ]
  },
  {
   "cell_type": "code",
   "execution_count": 10,
   "id": "e402550b-5fa4-48d7-ada6-c6ca7b7c9a99",
   "metadata": {},
   "outputs": [
    {
     "data": {
      "text/plain": [
       "34"
      ]
     },
     "execution_count": 10,
     "metadata": {},
     "output_type": "execute_result"
    }
   ],
   "source": [
    "s = 'supercalifragilisticexpialidocious' \n",
    "len(s) # 문자열의 길이를 돌려줌"
   ]
  },
  {
   "cell_type": "markdown",
   "id": "fffa4305-1be7-4ef6-b399-4c45903150b5",
   "metadata": {},
   "source": [
    "### * in"
   ]
  },
  {
   "cell_type": "code",
   "execution_count": 11,
   "id": "cdf94e2c-62b7-418d-95f2-d68108dd5c19",
   "metadata": {},
   "outputs": [
    {
     "data": {
      "text/plain": [
       "True"
      ]
     },
     "execution_count": 11,
     "metadata": {},
     "output_type": "execute_result"
    }
   ],
   "source": [
    "'Py' in 'Python' # include"
   ]
  },
  {
   "cell_type": "markdown",
   "id": "fa043070-023e-416c-9609-d5e73ebc8f88",
   "metadata": {},
   "source": [
    "## - 문자열 Literal 확장"
   ]
  },
  {
   "cell_type": "markdown",
   "id": "f42eb85a-fc9f-4691-99a2-7cba5c815da6",
   "metadata": {},
   "source": [
    "### * `''' '''` || `\"\"\" \"\"\"`"
   ]
  },
  {
   "cell_type": "code",
   "execution_count": 12,
   "id": "98a21e99-2049-4a26-88b3-c4a197673ab6",
   "metadata": {},
   "outputs": [
    {
     "name": "stdout",
     "output_type": "stream",
     "text": [
      "\n",
      "Usage: python\n",
      "    --version\n",
      "\n"
     ]
    }
   ],
   "source": [
    "print('''\n",
    "Usage: python\n",
    "    --version\n",
    "''') "
   ]
  },
  {
   "cell_type": "code",
   "execution_count": 13,
   "id": "a971e149-9e08-463d-91ed-a1a7032833a2",
   "metadata": {},
   "outputs": [
    {
     "name": "stdout",
     "output_type": "stream",
     "text": [
      "Usage: python\n",
      "    --version\n",
      "\n"
     ]
    }
   ],
   "source": [
    "# 개행 없애기\n",
    "print(\"\"\"\\\n",
    "Usage: python\n",
    "    --version\n",
    "\"\"\") "
   ]
  },
  {
   "cell_type": "markdown",
   "id": "22fef883-1a8f-4a5e-9dbe-2f0c5b4461ea",
   "metadata": {},
   "source": [
    "### * 인덱스"
   ]
  },
  {
   "cell_type": "code",
   "execution_count": 14,
   "id": "2e406898-1608-468b-9a48-9f841e13a586",
   "metadata": {},
   "outputs": [
    {
     "name": "stdout",
     "output_type": "stream",
     "text": [
      "P\n",
      "n\n"
     ]
    }
   ],
   "source": [
    "# 문자 인덱스\n",
    "word = 'Python'\n",
    "print(word[0])\n",
    "print(word[-1]) # 0과 -0은 같음. 맨 끝 숫자는 -1"
   ]
  },
  {
   "cell_type": "code",
   "execution_count": 15,
   "id": "e29bfb0a-38ca-44e3-9c06-037e9297618c",
   "metadata": {},
   "outputs": [
    {
     "name": "stdout",
     "output_type": "stream",
     "text": [
      "Python\n",
      "Py\n"
     ]
    }
   ],
   "source": [
    "print(word[:2] + word[2:])\n",
    "print(word[:2] )"
   ]
  },
  {
   "cell_type": "code",
   "execution_count": 16,
   "id": "a9ae2ae1-a572-42c3-b268-9e4b3557a436",
   "metadata": {},
   "outputs": [
    {
     "ename": "IndexError",
     "evalue": "string index out of range",
     "output_type": "error",
     "traceback": [
      "\u001b[1;31m---------------------------------------------------------------------------\u001b[0m",
      "\u001b[1;31mIndexError\u001b[0m                                Traceback (most recent call last)",
      "\u001b[1;32m~\\AppData\\Local\\Temp/ipykernel_10884/1331520550.py\u001b[0m in \u001b[0;36m<module>\u001b[1;34m\u001b[0m\n\u001b[1;32m----> 1\u001b[1;33m \u001b[0mword\u001b[0m\u001b[1;33m[\u001b[0m\u001b[1;36m100\u001b[0m\u001b[1;33m]\u001b[0m \u001b[1;31m# 문자 인덱스를 넘을 시 에러\u001b[0m\u001b[1;33m\u001b[0m\u001b[1;33m\u001b[0m\u001b[0m\n\u001b[0m",
      "\u001b[1;31mIndexError\u001b[0m: string index out of range"
     ]
    }
   ],
   "source": [
    "word[100] # 문자 인덱스를 넘을 시 에러"
   ]
  },
  {
   "cell_type": "code",
   "execution_count": 17,
   "id": "e4c8afc8-ecb3-489c-b0c9-e4c0f634c1fc",
   "metadata": {},
   "outputs": [
    {
     "data": {
      "text/plain": [
       "'on'"
      ]
     },
     "execution_count": 17,
     "metadata": {},
     "output_type": "execute_result"
    }
   ],
   "source": [
    "# 하지만, 범위를 벗어나는 슬라이스 인덱스는 슬라이싱할 때 부드럽게 처리됨\n",
    "word[4:42]"
   ]
  },
  {
   "cell_type": "markdown",
   "id": "69a2f876-8c55-4d93-9996-4998b329c76b",
   "metadata": {},
   "source": [
    "### * 문자열은 immutable하다"
   ]
  },
  {
   "cell_type": "markdown",
   "id": "34cb05fc-57ce-4ce4-8355-7c64dbdb57fd",
   "metadata": {},
   "source": [
    "파이썬 문자열은 변경할 수 없다 — 불변(immutable) 이라고 합니다. 그래서 문자열의 인덱스로 참조한 위치에 대입하려고 하면 에러를 일으킵니다:"
   ]
  },
  {
   "cell_type": "code",
   "execution_count": 18,
   "id": "7b8e3e99-59d7-412d-b4bb-f6206d7e9811",
   "metadata": {},
   "outputs": [
    {
     "ename": "TypeError",
     "evalue": "'str' object does not support item assignment",
     "output_type": "error",
     "traceback": [
      "\u001b[1;31m---------------------------------------------------------------------------\u001b[0m",
      "\u001b[1;31mTypeError\u001b[0m                                 Traceback (most recent call last)",
      "\u001b[1;32m~\\AppData\\Local\\Temp/ipykernel_10884/2664689217.py\u001b[0m in \u001b[0;36m<module>\u001b[1;34m\u001b[0m\n\u001b[1;32m----> 1\u001b[1;33m \u001b[0mword\u001b[0m\u001b[1;33m[\u001b[0m\u001b[1;36m0\u001b[0m\u001b[1;33m]\u001b[0m \u001b[1;33m=\u001b[0m \u001b[1;34m'J'\u001b[0m\u001b[1;33m\u001b[0m\u001b[1;33m\u001b[0m\u001b[0m\n\u001b[0m",
      "\u001b[1;31mTypeError\u001b[0m: 'str' object does not support item assignment"
     ]
    }
   ],
   "source": [
    "word[0] = 'J'"
   ]
  },
  {
   "cell_type": "markdown",
   "id": "9cb25a51-5d42-47d0-b586-e776c19a8eb8",
   "metadata": {},
   "source": [
    "다른 문자열이 필요하면, 새로 만들어야 합니다:"
   ]
  },
  {
   "cell_type": "code",
   "execution_count": 19,
   "id": "2966fbaf-a99e-4d9e-a8c5-fc023d0aa5b4",
   "metadata": {},
   "outputs": [
    {
     "data": {
      "text/plain": [
       "'Jython'"
      ]
     },
     "execution_count": 19,
     "metadata": {},
     "output_type": "execute_result"
    }
   ],
   "source": [
    "'J' + word[1:]"
   ]
  },
  {
   "cell_type": "markdown",
   "id": "f4c4df4c-8f03-4ddd-a21d-589a4d247c23",
   "metadata": {},
   "source": [
    "<br>\n",
    "<br>\n",
    "<br>\n",
    "<br>\n",
    "<br>\n",
    "<br>\n",
    "<hr>\n",
    "<br>\n",
    "<br>\n",
    "<br>\n",
    "<br>\n",
    "<br>\n",
    "<br>"
   ]
  },
  {
   "cell_type": "markdown",
   "id": "2be558d9-1c44-4590-96a1-33515ed6154d",
   "metadata": {
    "tags": []
   },
   "source": [
    "# 06. 모듈과 패키지"
   ]
  },
  {
   "cell_type": "markdown",
   "id": "427239c4-bb2b-4585-81bc-5ffeb88d9a8e",
   "metadata": {},
   "source": [
    "## - 모듈"
   ]
  },
  {
   "cell_type": "markdown",
   "id": "26519cd3-2b32-4f48-9d31-bc78f832a661",
   "metadata": {},
   "source": [
    "먼저 현재 위치에서 `fibo.py`라는 파일을 추가하고 다음 코드를 추가해보자"
   ]
  },
  {
   "cell_type": "markdown",
   "id": "569f57cb-0b37-4e22-9795-260f13a6814a",
   "metadata": {},
   "source": [
    "```python\n",
    "def fib(n):    # write Fibonacci series up to n\n",
    "    a, b = 0, 1\n",
    "    while a < n:\n",
    "        print(a, end=' ')\n",
    "        a, b = b, a+b\n",
    "    print()\n",
    "\n",
    "def fib2(n):   # return Fibonacci series up to n\n",
    "    result = []\n",
    "    a, b = 0, 1\n",
    "    while a < n:\n",
    "        result.append(a)\n",
    "        a, b = b, a+b\n",
    "    return result\n",
    "```"
   ]
  },
  {
   "cell_type": "markdown",
   "id": "fa720154-8d65-4595-9062-240cd4ef774e",
   "metadata": {},
   "source": [
    "아래와 같이 우리가 만든 모듈을 가져와 테스트해보자"
   ]
  },
  {
   "cell_type": "code",
   "execution_count": 1,
   "id": "84cd83a0-3a30-41cd-9db7-df63c795ae8e",
   "metadata": {},
   "outputs": [
    {
     "name": "stdout",
     "output_type": "stream",
     "text": [
      "0 1 1 2 3 5 8 13 21 34 55 89 144 233 377 610 987 \n"
     ]
    }
   ],
   "source": [
    "import fibo\n",
    "\n",
    "fibo.fib(1000)"
   ]
  },
  {
   "cell_type": "code",
   "execution_count": 2,
   "id": "5d007226-3e9b-4a63-a554-aa7c8eb94256",
   "metadata": {},
   "outputs": [
    {
     "data": {
      "text/plain": [
       "[0, 1, 1, 2, 3, 5, 8, 13, 21, 34, 55, 89]"
      ]
     },
     "execution_count": 2,
     "metadata": {},
     "output_type": "execute_result"
    }
   ],
   "source": [
    "fibo.fib2(100)"
   ]
  },
  {
   "cell_type": "code",
   "execution_count": 3,
   "id": "f9393ace-e678-4589-adf8-d5bd6bdacdaf",
   "metadata": {},
   "outputs": [
    {
     "name": "stdout",
     "output_type": "stream",
     "text": [
      "0 1 1 2 3 5 8 13 21 34 55 89 144 233 377 \n"
     ]
    }
   ],
   "source": [
    "fib = fibo.fib\n",
    "fib(500)"
   ]
  },
  {
   "cell_type": "markdown",
   "id": "4550f749-c694-47c9-82a3-1da37b54d3a3",
   "metadata": {},
   "source": [
    "사용할 때마다 모듈 이름을 함께 적어 우리에게 필요한 함수를 호출하는게 불편하다.\n",
    "\n",
    "`from 모듈명 import 가져올 함수 및 클래스`와 같이 사용하면 간편하게 사용할 수 있다."
   ]
  },
  {
   "cell_type": "code",
   "execution_count": 4,
   "id": "9c18f394-d0b9-47e7-87c3-f42990fa3814",
   "metadata": {},
   "outputs": [
    {
     "name": "stdout",
     "output_type": "stream",
     "text": [
      "0 1 1 2 3 5 8 13 21 34 55 89 144 233 377 \n"
     ]
    }
   ],
   "source": [
    "from fibo import fib, fib2\n",
    "fib(500)"
   ]
  },
  {
   "cell_type": "markdown",
   "id": "3b8c8dfe-a651-430b-997d-3928052def8a",
   "metadata": {},
   "source": [
    "와일드 카드(*)를 사용하면 모듈안에 있는 모든 함수 및 클래스들을 가져온다."
   ]
  },
  {
   "cell_type": "code",
   "execution_count": 5,
   "id": "d5ae3cc3-f019-4604-a7c4-4d118f3a6063",
   "metadata": {},
   "outputs": [
    {
     "name": "stdout",
     "output_type": "stream",
     "text": [
      "0 1 1 2 3 5 8 13 21 34 55 89 144 233 377 \n"
     ]
    }
   ],
   "source": [
    "from fibo import *\n",
    "fib(500)"
   ]
  },
  {
   "cell_type": "markdown",
   "id": "6a9e6740-145a-4d98-a11c-29fed4bc8014",
   "metadata": {},
   "source": [
    "`as`를 사용하면 원래 정의되어 있는 이름이 아닌 우리가 원하는 이름으로 사용할 수 있다."
   ]
  },
  {
   "cell_type": "code",
   "execution_count": 6,
   "id": "2e4a2398-9e86-436f-a37e-c5a30ac8010a",
   "metadata": {},
   "outputs": [
    {
     "name": "stdout",
     "output_type": "stream",
     "text": [
      "0 1 1 2 3 5 8 13 21 34 55 89 144 233 377 \n"
     ]
    }
   ],
   "source": [
    "import fibo as fb\n",
    "fb.fib(500)"
   ]
  },
  {
   "cell_type": "code",
   "execution_count": 7,
   "id": "e812fa1e-daae-41fc-a4c8-0b23af0d8413",
   "metadata": {},
   "outputs": [
    {
     "data": {
      "text/plain": [
       "'fibo'"
      ]
     },
     "execution_count": 7,
     "metadata": {},
     "output_type": "execute_result"
    }
   ],
   "source": [
    "fb.__name__"
   ]
  },
  {
   "cell_type": "code",
   "execution_count": 8,
   "id": "3082f91c-9c19-4bd0-a344-3747a34414dd",
   "metadata": {},
   "outputs": [
    {
     "name": "stdout",
     "output_type": "stream",
     "text": [
      "0 1 1 2 3 5 8 13 21 34 55 89 144 233 377 \n"
     ]
    }
   ],
   "source": [
    "from fibo import fib as fibonacci\n",
    "fibonacci(400)"
   ]
  },
  {
   "cell_type": "markdown",
   "id": "fac352a6-cf12-41fb-8fd3-ac14e6808568",
   "metadata": {},
   "source": [
    "파이썬은 어떻게 import를 할까? 예를 들어, spam 이라는 이름의 모듈이 임포트될 때, 인터프리터는 먼저 그 이름의 내장 모듈을 찾는다(`built-in`). 발견되지 않으면, 변수 `sys.path` 로 주어지는 디렉터리들에서 spam.py 라는 이름의 파일을 찾는다. `sys.path`는 이 위치들로 초기화된다.\n",
    "\n",
    " - 입력 스크립트를 포함하는 디렉터리 (또는 파일이 지정되지 않았을 때는 현재 디렉터리).\n",
    " - PYTHONPATH (디렉터리 이름들의 목록, 셸 변수 PATH 와 같은 문법).\n",
    " - 설치 의존적인 기본값\n",
    "\n",
    "정리하자면 파이썬은 가장먼저 `sys.modules`을 확인한다. 여기엔 이미 import된 것들이 모여있다.\n",
    "\n",
    "`sys.modules` 덕분에 파이썬은 또 다시 모듈을 찾지 않아도 된다.\n",
    "\n",
    "그 다음으로 `sys.path`를 확인한다.\n",
    "\n",
    "이 모든 과정을 거쳐도 못찾게 되면 에러를 리턴한다.\n",
    "\n",
    "아래 코드를 실행하면 우리가 import한 `fibo`가 있음을 볼 수 있다.\n",
    "\n",
    "`sys` 모듈은 파이썬에서 제공하는 내장 모듈이며 시스템 관련 모듈이다."
   ]
  },
  {
   "cell_type": "markdown",
   "id": "c2a8e2d2-9496-44c2-a438-9d7fc742d38c",
   "metadata": {},
   "source": [
    " - `sys.modules`"
   ]
  },
  {
   "cell_type": "code",
   "execution_count": 9,
   "id": "07153be5-308e-44e2-83d5-63ff50a3cc35",
   "metadata": {},
   "outputs": [
    {
     "data": {
      "text/plain": [
       "{'sys': <module 'sys' (built-in)>,\n",
       " 'builtins': <module 'builtins' (built-in)>,\n",
       " '_frozen_importlib': <module 'importlib._bootstrap' (frozen)>,\n",
       " '_imp': <module '_imp' (built-in)>,\n",
       " '_thread': <module '_thread' (built-in)>,\n",
       " '_warnings': <module '_warnings' (built-in)>,\n",
       " '_weakref': <module '_weakref' (built-in)>,\n",
       " '_frozen_importlib_external': <module 'importlib._bootstrap_external' (frozen)>,\n",
       " 'nt': <module 'nt' (built-in)>,\n",
       " '_io': <module 'io' (built-in)>,\n",
       " 'marshal': <module 'marshal' (built-in)>,\n",
       " 'winreg': <module 'winreg' (built-in)>,\n",
       " 'time': <module 'time' (built-in)>,\n",
       " 'zipimport': <module 'zipimport' (frozen)>,\n",
       " '_codecs': <module '_codecs' (built-in)>,\n",
       " 'codecs': <module 'codecs' from 'c:\\\\users\\\\rhie\\\\appdata\\\\local\\\\programs\\\\python\\\\python39\\\\lib\\\\codecs.py'>,\n",
       " 'encodings.aliases': <module 'encodings.aliases' from 'c:\\\\users\\\\rhie\\\\appdata\\\\local\\\\programs\\\\python\\\\python39\\\\lib\\\\encodings\\\\aliases.py'>,\n",
       " 'encodings': <module 'encodings' from 'c:\\\\users\\\\rhie\\\\appdata\\\\local\\\\programs\\\\python\\\\python39\\\\lib\\\\encodings\\\\__init__.py'>,\n",
       " 'encodings.utf_8': <module 'encodings.utf_8' from 'c:\\\\users\\\\rhie\\\\appdata\\\\local\\\\programs\\\\python\\\\python39\\\\lib\\\\encodings\\\\utf_8.py'>,\n",
       " '_codecs_kr': <module '_codecs_kr' (built-in)>,\n",
       " '_multibytecodec': <module '_multibytecodec' (built-in)>,\n",
       " 'encodings.cp949': <module 'encodings.cp949' from 'c:\\\\users\\\\rhie\\\\appdata\\\\local\\\\programs\\\\python\\\\python39\\\\lib\\\\encodings\\\\cp949.py'>,\n",
       " '_signal': <module '_signal' (built-in)>,\n",
       " 'encodings.latin_1': <module 'encodings.latin_1' from 'c:\\\\users\\\\rhie\\\\appdata\\\\local\\\\programs\\\\python\\\\python39\\\\lib\\\\encodings\\\\latin_1.py'>,\n",
       " '_abc': <module '_abc' (built-in)>,\n",
       " 'abc': <module 'abc' from 'c:\\\\users\\\\rhie\\\\appdata\\\\local\\\\programs\\\\python\\\\python39\\\\lib\\\\abc.py'>,\n",
       " 'io': <module 'io' from 'c:\\\\users\\\\rhie\\\\appdata\\\\local\\\\programs\\\\python\\\\python39\\\\lib\\\\io.py'>,\n",
       " '__main__': <module '__main__'>,\n",
       " '_stat': <module '_stat' (built-in)>,\n",
       " 'stat': <module 'stat' from 'c:\\\\users\\\\rhie\\\\appdata\\\\local\\\\programs\\\\python\\\\python39\\\\lib\\\\stat.py'>,\n",
       " '_collections_abc': <module '_collections_abc' from 'c:\\\\users\\\\rhie\\\\appdata\\\\local\\\\programs\\\\python\\\\python39\\\\lib\\\\_collections_abc.py'>,\n",
       " 'genericpath': <module 'genericpath' from 'c:\\\\users\\\\rhie\\\\appdata\\\\local\\\\programs\\\\python\\\\python39\\\\lib\\\\genericpath.py'>,\n",
       " 'ntpath': <module 'ntpath' from 'c:\\\\users\\\\rhie\\\\appdata\\\\local\\\\programs\\\\python\\\\python39\\\\lib\\\\ntpath.py'>,\n",
       " 'os.path': <module 'ntpath' from 'c:\\\\users\\\\rhie\\\\appdata\\\\local\\\\programs\\\\python\\\\python39\\\\lib\\\\ntpath.py'>,\n",
       " 'os': <module 'os' from 'c:\\\\users\\\\rhie\\\\appdata\\\\local\\\\programs\\\\python\\\\python39\\\\lib\\\\os.py'>,\n",
       " '_sitebuiltins': <module '_sitebuiltins' from 'c:\\\\users\\\\rhie\\\\appdata\\\\local\\\\programs\\\\python\\\\python39\\\\lib\\\\_sitebuiltins.py'>,\n",
       " '_locale': <module '_locale' (built-in)>,\n",
       " '_bootlocale': <module '_bootlocale' from 'c:\\\\users\\\\rhie\\\\appdata\\\\local\\\\programs\\\\python\\\\python39\\\\lib\\\\_bootlocale.py'>,\n",
       " 'pywin32_bootstrap': <module 'pywin32_bootstrap' from 'c:\\\\users\\\\rhie\\\\appdata\\\\local\\\\programs\\\\python\\\\python39\\\\lib\\\\site-packages\\\\win32\\\\lib\\\\pywin32_bootstrap.py'>,\n",
       " 'site': <module 'site' from 'c:\\\\users\\\\rhie\\\\appdata\\\\local\\\\programs\\\\python\\\\python39\\\\lib\\\\site.py'>,\n",
       " 'importlib._bootstrap': <module 'importlib._bootstrap' (frozen)>,\n",
       " 'importlib._bootstrap_external': <module 'importlib._bootstrap_external' (frozen)>,\n",
       " 'types': <module 'types' from 'c:\\\\users\\\\rhie\\\\appdata\\\\local\\\\programs\\\\python\\\\python39\\\\lib\\\\types.py'>,\n",
       " 'warnings': <module 'warnings' from 'c:\\\\users\\\\rhie\\\\appdata\\\\local\\\\programs\\\\python\\\\python39\\\\lib\\\\warnings.py'>,\n",
       " 'importlib': <module 'importlib' from 'c:\\\\users\\\\rhie\\\\appdata\\\\local\\\\programs\\\\python\\\\python39\\\\lib\\\\importlib\\\\__init__.py'>,\n",
       " 'importlib.machinery': <module 'importlib.machinery' from 'c:\\\\users\\\\rhie\\\\appdata\\\\local\\\\programs\\\\python\\\\python39\\\\lib\\\\importlib\\\\machinery.py'>,\n",
       " '_heapq': <module '_heapq' (built-in)>,\n",
       " 'heapq': <module 'heapq' from 'c:\\\\users\\\\rhie\\\\appdata\\\\local\\\\programs\\\\python\\\\python39\\\\lib\\\\heapq.py'>,\n",
       " 'itertools': <module 'itertools' (built-in)>,\n",
       " 'keyword': <module 'keyword' from 'c:\\\\users\\\\rhie\\\\appdata\\\\local\\\\programs\\\\python\\\\python39\\\\lib\\\\keyword.py'>,\n",
       " '_operator': <module '_operator' (built-in)>,\n",
       " 'operator': <module 'operator' from 'c:\\\\users\\\\rhie\\\\appdata\\\\local\\\\programs\\\\python\\\\python39\\\\lib\\\\operator.py'>,\n",
       " 'reprlib': <module 'reprlib' from 'c:\\\\users\\\\rhie\\\\appdata\\\\local\\\\programs\\\\python\\\\python39\\\\lib\\\\reprlib.py'>,\n",
       " '_collections': <module '_collections' (built-in)>,\n",
       " 'collections': <module 'collections' from 'c:\\\\users\\\\rhie\\\\appdata\\\\local\\\\programs\\\\python\\\\python39\\\\lib\\\\collections\\\\__init__.py'>,\n",
       " 'collections.abc': <module 'collections.abc' from 'c:\\\\users\\\\rhie\\\\appdata\\\\local\\\\programs\\\\python\\\\python39\\\\lib\\\\collections\\\\abc.py'>,\n",
       " '_functools': <module '_functools' (built-in)>,\n",
       " 'functools': <module 'functools' from 'c:\\\\users\\\\rhie\\\\appdata\\\\local\\\\programs\\\\python\\\\python39\\\\lib\\\\functools.py'>,\n",
       " 'contextlib': <module 'contextlib' from 'c:\\\\users\\\\rhie\\\\appdata\\\\local\\\\programs\\\\python\\\\python39\\\\lib\\\\contextlib.py'>,\n",
       " 'enum': <module 'enum' from 'c:\\\\users\\\\rhie\\\\appdata\\\\local\\\\programs\\\\python\\\\python39\\\\lib\\\\enum.py'>,\n",
       " '_sre': <module '_sre' (built-in)>,\n",
       " 'sre_constants': <module 'sre_constants' from 'c:\\\\users\\\\rhie\\\\appdata\\\\local\\\\programs\\\\python\\\\python39\\\\lib\\\\sre_constants.py'>,\n",
       " 'sre_parse': <module 'sre_parse' from 'c:\\\\users\\\\rhie\\\\appdata\\\\local\\\\programs\\\\python\\\\python39\\\\lib\\\\sre_parse.py'>,\n",
       " 'sre_compile': <module 'sre_compile' from 'c:\\\\users\\\\rhie\\\\appdata\\\\local\\\\programs\\\\python\\\\python39\\\\lib\\\\sre_compile.py'>,\n",
       " 'copyreg': <module 'copyreg' from 'c:\\\\users\\\\rhie\\\\appdata\\\\local\\\\programs\\\\python\\\\python39\\\\lib\\\\copyreg.py'>,\n",
       " 're': <module 're' from 'c:\\\\users\\\\rhie\\\\appdata\\\\local\\\\programs\\\\python\\\\python39\\\\lib\\\\re.py'>,\n",
       " 'typing.io': typing.io,\n",
       " 'typing.re': typing.re,\n",
       " 'typing': <module 'typing' from 'c:\\\\users\\\\rhie\\\\appdata\\\\local\\\\programs\\\\python\\\\python39\\\\lib\\\\typing.py'>,\n",
       " 'importlib.abc': <module 'importlib.abc' from 'c:\\\\users\\\\rhie\\\\appdata\\\\local\\\\programs\\\\python\\\\python39\\\\lib\\\\importlib\\\\abc.py'>,\n",
       " 'importlib.util': <module 'importlib.util' from 'c:\\\\users\\\\rhie\\\\appdata\\\\local\\\\programs\\\\python\\\\python39\\\\lib\\\\importlib\\\\util.py'>,\n",
       " '_weakrefset': <module '_weakrefset' from 'c:\\\\users\\\\rhie\\\\appdata\\\\local\\\\programs\\\\python\\\\python39\\\\lib\\\\_weakrefset.py'>,\n",
       " 'weakref': <module 'weakref' from 'c:\\\\users\\\\rhie\\\\appdata\\\\local\\\\programs\\\\python\\\\python39\\\\lib\\\\weakref.py'>,\n",
       " 'pkgutil': <module 'pkgutil' from 'c:\\\\users\\\\rhie\\\\appdata\\\\local\\\\programs\\\\python\\\\python39\\\\lib\\\\pkgutil.py'>,\n",
       " 'runpy': <module 'runpy' from 'c:\\\\users\\\\rhie\\\\appdata\\\\local\\\\programs\\\\python\\\\python39\\\\lib\\\\runpy.py'>,\n",
       " 'ipykernel._version': <module 'ipykernel._version' from 'c:\\\\users\\\\rhie\\\\appdata\\\\local\\\\programs\\\\python\\\\python39\\\\lib\\\\site-packages\\\\ipykernel\\\\_version.py'>,\n",
       " '_json': <module '_json' (built-in)>,\n",
       " 'json.scanner': <module 'json.scanner' from 'c:\\\\users\\\\rhie\\\\appdata\\\\local\\\\programs\\\\python\\\\python39\\\\lib\\\\json\\\\scanner.py'>,\n",
       " 'json.decoder': <module 'json.decoder' from 'c:\\\\users\\\\rhie\\\\appdata\\\\local\\\\programs\\\\python\\\\python39\\\\lib\\\\json\\\\decoder.py'>,\n",
       " 'json.encoder': <module 'json.encoder' from 'c:\\\\users\\\\rhie\\\\appdata\\\\local\\\\programs\\\\python\\\\python39\\\\lib\\\\json\\\\encoder.py'>,\n",
       " 'json': <module 'json' from 'c:\\\\users\\\\rhie\\\\appdata\\\\local\\\\programs\\\\python\\\\python39\\\\lib\\\\json\\\\__init__.py'>,\n",
       " 'errno': <module 'errno' (built-in)>,\n",
       " 'signal': <module 'signal' from 'c:\\\\users\\\\rhie\\\\appdata\\\\local\\\\programs\\\\python\\\\python39\\\\lib\\\\signal.py'>,\n",
       " 'threading': <module 'threading' from 'c:\\\\users\\\\rhie\\\\appdata\\\\local\\\\programs\\\\python\\\\python39\\\\lib\\\\threading.py'>,\n",
       " 'msvcrt': <module 'msvcrt' (built-in)>,\n",
       " '_winapi': <module '_winapi' (built-in)>,\n",
       " 'subprocess': <module 'subprocess' from 'c:\\\\users\\\\rhie\\\\appdata\\\\local\\\\programs\\\\python\\\\python39\\\\lib\\\\subprocess.py'>,\n",
       " 'IPython.core': <module 'IPython.core' from 'c:\\\\users\\\\rhie\\\\appdata\\\\local\\\\programs\\\\python\\\\python39\\\\lib\\\\site-packages\\\\IPython\\\\core\\\\__init__.py'>,\n",
       " 'IPython.core.getipython': <module 'IPython.core.getipython' from 'c:\\\\users\\\\rhie\\\\appdata\\\\local\\\\programs\\\\python\\\\python39\\\\lib\\\\site-packages\\\\IPython\\\\core\\\\getipython.py'>,\n",
       " 'IPython.core.release': <module 'IPython.core.release' from 'c:\\\\users\\\\rhie\\\\appdata\\\\local\\\\programs\\\\python\\\\python39\\\\lib\\\\site-packages\\\\IPython\\\\core\\\\release.py'>,\n",
       " 'atexit': <module 'atexit' (built-in)>,\n",
       " 'copy': <module 'copy' from 'c:\\\\users\\\\rhie\\\\appdata\\\\local\\\\programs\\\\python\\\\python39\\\\lib\\\\copy.py'>,\n",
       " 'posixpath': <module 'posixpath' from 'c:\\\\users\\\\rhie\\\\appdata\\\\local\\\\programs\\\\python\\\\python39\\\\lib\\\\posixpath.py'>,\n",
       " 'fnmatch': <module 'fnmatch' from 'c:\\\\users\\\\rhie\\\\appdata\\\\local\\\\programs\\\\python\\\\python39\\\\lib\\\\fnmatch.py'>,\n",
       " 'glob': <module 'glob' from 'c:\\\\users\\\\rhie\\\\appdata\\\\local\\\\programs\\\\python\\\\python39\\\\lib\\\\glob.py'>,\n",
       " 'token': <module 'token' from 'c:\\\\users\\\\rhie\\\\appdata\\\\local\\\\programs\\\\python\\\\python39\\\\lib\\\\token.py'>,\n",
       " 'tokenize': <module 'tokenize' from 'c:\\\\users\\\\rhie\\\\appdata\\\\local\\\\programs\\\\python\\\\python39\\\\lib\\\\tokenize.py'>,\n",
       " 'linecache': <module 'linecache' from 'c:\\\\users\\\\rhie\\\\appdata\\\\local\\\\programs\\\\python\\\\python39\\\\lib\\\\linecache.py'>,\n",
       " 'traceback': <module 'traceback' from 'c:\\\\users\\\\rhie\\\\appdata\\\\local\\\\programs\\\\python\\\\python39\\\\lib\\\\traceback.py'>,\n",
       " '_string': <module '_string' (built-in)>,\n",
       " 'string': <module 'string' from 'c:\\\\users\\\\rhie\\\\appdata\\\\local\\\\programs\\\\python\\\\python39\\\\lib\\\\string.py'>,\n",
       " 'logging': <module 'logging' from 'c:\\\\users\\\\rhie\\\\appdata\\\\local\\\\programs\\\\python\\\\python39\\\\lib\\\\logging\\\\__init__.py'>,\n",
       " 'zlib': <module 'zlib' (built-in)>,\n",
       " '_compression': <module '_compression' from 'c:\\\\users\\\\rhie\\\\appdata\\\\local\\\\programs\\\\python\\\\python39\\\\lib\\\\_compression.py'>,\n",
       " '_bz2': <module '_bz2' from 'c:\\\\users\\\\rhie\\\\appdata\\\\local\\\\programs\\\\python\\\\python39\\\\DLLs\\\\_bz2.pyd'>,\n",
       " 'bz2': <module 'bz2' from 'c:\\\\users\\\\rhie\\\\appdata\\\\local\\\\programs\\\\python\\\\python39\\\\lib\\\\bz2.py'>,\n",
       " '_lzma': <module '_lzma' from 'c:\\\\users\\\\rhie\\\\appdata\\\\local\\\\programs\\\\python\\\\python39\\\\DLLs\\\\_lzma.pyd'>,\n",
       " 'lzma': <module 'lzma' from 'c:\\\\users\\\\rhie\\\\appdata\\\\local\\\\programs\\\\python\\\\python39\\\\lib\\\\lzma.py'>,\n",
       " 'shutil': <module 'shutil' from 'c:\\\\users\\\\rhie\\\\appdata\\\\local\\\\programs\\\\python\\\\python39\\\\lib\\\\shutil.py'>,\n",
       " '_ast': <module '_ast' (built-in)>,\n",
       " 'ast': <module 'ast' from 'c:\\\\users\\\\rhie\\\\appdata\\\\local\\\\programs\\\\python\\\\python39\\\\lib\\\\ast.py'>,\n",
       " '_opcode': <module '_opcode' (built-in)>,\n",
       " 'opcode': <module 'opcode' from 'c:\\\\users\\\\rhie\\\\appdata\\\\local\\\\programs\\\\python\\\\python39\\\\lib\\\\opcode.py'>,\n",
       " 'dis': <module 'dis' from 'c:\\\\users\\\\rhie\\\\appdata\\\\local\\\\programs\\\\python\\\\python39\\\\lib\\\\dis.py'>,\n",
       " 'inspect': <module 'inspect' from 'c:\\\\users\\\\rhie\\\\appdata\\\\local\\\\programs\\\\python\\\\python39\\\\lib\\\\inspect.py'>,\n",
       " 'traitlets.utils': <module 'traitlets.utils' from 'c:\\\\users\\\\rhie\\\\appdata\\\\local\\\\programs\\\\python\\\\python39\\\\lib\\\\site-packages\\\\traitlets\\\\utils\\\\__init__.py'>,\n",
       " 'traitlets.utils.getargspec': <module 'traitlets.utils.getargspec' from 'c:\\\\users\\\\rhie\\\\appdata\\\\local\\\\programs\\\\python\\\\python39\\\\lib\\\\site-packages\\\\traitlets\\\\utils\\\\getargspec.py'>,\n",
       " 'traitlets.utils.importstring': <module 'traitlets.utils.importstring' from 'c:\\\\users\\\\rhie\\\\appdata\\\\local\\\\programs\\\\python\\\\python39\\\\lib\\\\site-packages\\\\traitlets\\\\utils\\\\importstring.py'>,\n",
       " 'traitlets.utils.sentinel': <module 'traitlets.utils.sentinel' from 'c:\\\\users\\\\rhie\\\\appdata\\\\local\\\\programs\\\\python\\\\python39\\\\lib\\\\site-packages\\\\traitlets\\\\utils\\\\sentinel.py'>,\n",
       " 'traitlets.utils.bunch': <module 'traitlets.utils.bunch' from 'c:\\\\users\\\\rhie\\\\appdata\\\\local\\\\programs\\\\python\\\\python39\\\\lib\\\\site-packages\\\\traitlets\\\\utils\\\\bunch.py'>,\n",
       " 'traitlets.utils.descriptions': <module 'traitlets.utils.descriptions' from 'c:\\\\users\\\\rhie\\\\appdata\\\\local\\\\programs\\\\python\\\\python39\\\\lib\\\\site-packages\\\\traitlets\\\\utils\\\\descriptions.py'>,\n",
       " 'traitlets.traitlets': <module 'traitlets.traitlets' from 'c:\\\\users\\\\rhie\\\\appdata\\\\local\\\\programs\\\\python\\\\python39\\\\lib\\\\site-packages\\\\traitlets\\\\traitlets.py'>,\n",
       " 'traitlets.utils.decorators': <module 'traitlets.utils.decorators' from 'c:\\\\users\\\\rhie\\\\appdata\\\\local\\\\programs\\\\python\\\\python39\\\\lib\\\\site-packages\\\\traitlets\\\\utils\\\\decorators.py'>,\n",
       " 'traitlets._version': <module 'traitlets._version' from 'c:\\\\users\\\\rhie\\\\appdata\\\\local\\\\programs\\\\python\\\\python39\\\\lib\\\\site-packages\\\\traitlets\\\\_version.py'>,\n",
       " 'traitlets': <module 'traitlets' from 'c:\\\\users\\\\rhie\\\\appdata\\\\local\\\\programs\\\\python\\\\python39\\\\lib\\\\site-packages\\\\traitlets\\\\__init__.py'>,\n",
       " 'pprint': <module 'pprint' from 'c:\\\\users\\\\rhie\\\\appdata\\\\local\\\\programs\\\\python\\\\python39\\\\lib\\\\pprint.py'>,\n",
       " 'gettext': <module 'gettext' from 'c:\\\\users\\\\rhie\\\\appdata\\\\local\\\\programs\\\\python\\\\python39\\\\lib\\\\gettext.py'>,\n",
       " 'argparse': <module 'argparse' from 'c:\\\\users\\\\rhie\\\\appdata\\\\local\\\\programs\\\\python\\\\python39\\\\lib\\\\argparse.py'>,\n",
       " 'ipython_genutils._version': <module 'ipython_genutils._version' from 'c:\\\\users\\\\rhie\\\\appdata\\\\local\\\\programs\\\\python\\\\python39\\\\lib\\\\site-packages\\\\ipython_genutils\\\\_version.py'>,\n",
       " 'ipython_genutils': <module 'ipython_genutils' from 'c:\\\\users\\\\rhie\\\\appdata\\\\local\\\\programs\\\\python\\\\python39\\\\lib\\\\site-packages\\\\ipython_genutils\\\\__init__.py'>,\n",
       " 'math': <module 'math' (built-in)>,\n",
       " '_bisect': <module '_bisect' (built-in)>,\n",
       " 'bisect': <module 'bisect' from 'c:\\\\users\\\\rhie\\\\appdata\\\\local\\\\programs\\\\python\\\\python39\\\\lib\\\\bisect.py'>,\n",
       " '_random': <module '_random' (built-in)>,\n",
       " '_sha512': <module '_sha512' (built-in)>,\n",
       " 'random': <module 'random' from 'c:\\\\users\\\\rhie\\\\appdata\\\\local\\\\programs\\\\python\\\\python39\\\\lib\\\\random.py'>,\n",
       " 'locale': <module 'locale' from 'c:\\\\users\\\\rhie\\\\appdata\\\\local\\\\programs\\\\python\\\\python39\\\\lib\\\\locale.py'>,\n",
       " 'ipython_genutils.encoding': <module 'ipython_genutils.encoding' from 'c:\\\\users\\\\rhie\\\\appdata\\\\local\\\\programs\\\\python\\\\python39\\\\lib\\\\site-packages\\\\ipython_genutils\\\\encoding.py'>,\n",
       " 'platform': <module 'platform' from 'c:\\\\users\\\\rhie\\\\appdata\\\\local\\\\programs\\\\python\\\\python39\\\\lib\\\\platform.py'>,\n",
       " 'ipython_genutils.py3compat': <module 'ipython_genutils.py3compat' from 'c:\\\\users\\\\rhie\\\\appdata\\\\local\\\\programs\\\\python\\\\python39\\\\lib\\\\site-packages\\\\ipython_genutils\\\\py3compat.py'>,\n",
       " 'ipython_genutils.path': <module 'ipython_genutils.path' from 'c:\\\\users\\\\rhie\\\\appdata\\\\local\\\\programs\\\\python\\\\python39\\\\lib\\\\site-packages\\\\ipython_genutils\\\\path.py'>,\n",
       " 'traitlets.config.loader': <module 'traitlets.config.loader' from 'c:\\\\users\\\\rhie\\\\appdata\\\\local\\\\programs\\\\python\\\\python39\\\\lib\\\\site-packages\\\\traitlets\\\\config\\\\loader.py'>,\n",
       " 'textwrap': <module 'textwrap' from 'c:\\\\users\\\\rhie\\\\appdata\\\\local\\\\programs\\\\python\\\\python39\\\\lib\\\\textwrap.py'>,\n",
       " 'ipython_genutils.text': <module 'ipython_genutils.text' from 'c:\\\\users\\\\rhie\\\\appdata\\\\local\\\\programs\\\\python\\\\python39\\\\lib\\\\site-packages\\\\ipython_genutils\\\\text.py'>,\n",
       " 'traitlets.config.configurable': <module 'traitlets.config.configurable' from 'c:\\\\users\\\\rhie\\\\appdata\\\\local\\\\programs\\\\python\\\\python39\\\\lib\\\\site-packages\\\\traitlets\\\\config\\\\configurable.py'>,\n",
       " 'traitlets.config.application': <module 'traitlets.config.application' from 'c:\\\\users\\\\rhie\\\\appdata\\\\local\\\\programs\\\\python\\\\python39\\\\lib\\\\site-packages\\\\traitlets\\\\config\\\\application.py'>,\n",
       " 'traitlets.config': <module 'traitlets.config' from 'c:\\\\users\\\\rhie\\\\appdata\\\\local\\\\programs\\\\python\\\\python39\\\\lib\\\\site-packages\\\\traitlets\\\\config\\\\__init__.py'>,\n",
       " 'sysconfig': <module 'sysconfig' from 'c:\\\\users\\\\rhie\\\\appdata\\\\local\\\\programs\\\\python\\\\python39\\\\lib\\\\sysconfig.py'>,\n",
       " 'urllib': <module 'urllib' from 'c:\\\\users\\\\rhie\\\\appdata\\\\local\\\\programs\\\\python\\\\python39\\\\lib\\\\urllib\\\\__init__.py'>,\n",
       " 'urllib.parse': <module 'urllib.parse' from 'c:\\\\users\\\\rhie\\\\appdata\\\\local\\\\programs\\\\python\\\\python39\\\\lib\\\\urllib\\\\parse.py'>,\n",
       " 'pydoc': <module 'pydoc' from 'c:\\\\users\\\\rhie\\\\appdata\\\\local\\\\programs\\\\python\\\\python39\\\\lib\\\\pydoc.py'>,\n",
       " 'bdb': <module 'bdb' from 'c:\\\\users\\\\rhie\\\\appdata\\\\local\\\\programs\\\\python\\\\python39\\\\lib\\\\bdb.py'>,\n",
       " 'IPython.utils': <module 'IPython.utils' from 'c:\\\\users\\\\rhie\\\\appdata\\\\local\\\\programs\\\\python\\\\python39\\\\lib\\\\site-packages\\\\IPython\\\\utils\\\\__init__.py'>,\n",
       " 'IPython.utils.ipstruct': <module 'IPython.utils.ipstruct' from 'c:\\\\users\\\\rhie\\\\appdata\\\\local\\\\programs\\\\python\\\\python39\\\\lib\\\\site-packages\\\\IPython\\\\utils\\\\ipstruct.py'>,\n",
       " 'IPython.utils.coloransi': <module 'IPython.utils.coloransi' from 'c:\\\\users\\\\rhie\\\\appdata\\\\local\\\\programs\\\\python\\\\python39\\\\lib\\\\site-packages\\\\IPython\\\\utils\\\\coloransi.py'>,\n",
       " 'pygments': <module 'pygments' from 'c:\\\\users\\\\rhie\\\\appdata\\\\local\\\\programs\\\\python\\\\python39\\\\lib\\\\site-packages\\\\pygments\\\\__init__.py'>,\n",
       " 'IPython.utils.colorable': <module 'IPython.utils.colorable' from 'c:\\\\users\\\\rhie\\\\appdata\\\\local\\\\programs\\\\python\\\\python39\\\\lib\\\\site-packages\\\\IPython\\\\utils\\\\colorable.py'>,\n",
       " 'IPython.utils.PyColorize': <module 'IPython.utils.PyColorize' from 'c:\\\\users\\\\rhie\\\\appdata\\\\local\\\\programs\\\\python\\\\python39\\\\lib\\\\site-packages\\\\IPython\\\\utils\\\\PyColorize.py'>,\n",
       " 'IPython.utils.encoding': <module 'IPython.utils.encoding' from 'c:\\\\users\\\\rhie\\\\appdata\\\\local\\\\programs\\\\python\\\\python39\\\\lib\\\\site-packages\\\\IPython\\\\utils\\\\encoding.py'>,\n",
       " 'IPython.utils.py3compat': <module 'IPython.utils.py3compat' from 'c:\\\\users\\\\rhie\\\\appdata\\\\local\\\\programs\\\\python\\\\python39\\\\lib\\\\site-packages\\\\IPython\\\\utils\\\\py3compat.py'>,\n",
       " 'IPython.core.excolors': <module 'IPython.core.excolors' from 'c:\\\\users\\\\rhie\\\\appdata\\\\local\\\\programs\\\\python\\\\python39\\\\lib\\\\site-packages\\\\IPython\\\\core\\\\excolors.py'>,\n",
       " 'IPython.testing': <module 'IPython.testing' from 'c:\\\\users\\\\rhie\\\\appdata\\\\local\\\\programs\\\\python\\\\python39\\\\lib\\\\site-packages\\\\IPython\\\\testing\\\\__init__.py'>,\n",
       " 'IPython.testing.skipdoctest': <module 'IPython.testing.skipdoctest' from 'c:\\\\users\\\\rhie\\\\appdata\\\\local\\\\programs\\\\python\\\\python39\\\\lib\\\\site-packages\\\\IPython\\\\testing\\\\skipdoctest.py'>,\n",
       " 'cmd': <module 'cmd' from 'c:\\\\users\\\\rhie\\\\appdata\\\\local\\\\programs\\\\python\\\\python39\\\\lib\\\\cmd.py'>,\n",
       " '__future__': <module '__future__' from 'c:\\\\users\\\\rhie\\\\appdata\\\\local\\\\programs\\\\python\\\\python39\\\\lib\\\\__future__.py'>,\n",
       " 'codeop': <module 'codeop' from 'c:\\\\users\\\\rhie\\\\appdata\\\\local\\\\programs\\\\python\\\\python39\\\\lib\\\\codeop.py'>,\n",
       " 'code': <module 'code' from 'c:\\\\users\\\\rhie\\\\appdata\\\\local\\\\programs\\\\python\\\\python39\\\\lib\\\\code.py'>,\n",
       " 'pdb': <module 'pdb' from 'c:\\\\users\\\\rhie\\\\appdata\\\\local\\\\programs\\\\python\\\\python39\\\\lib\\\\pdb.py'>,\n",
       " 'IPython.core.debugger': <module 'IPython.core.debugger' from 'c:\\\\users\\\\rhie\\\\appdata\\\\local\\\\programs\\\\python\\\\python39\\\\lib\\\\site-packages\\\\IPython\\\\core\\\\debugger.py'>,\n",
       " 'IPython.core.display_trap': <module 'IPython.core.display_trap' from 'c:\\\\users\\\\rhie\\\\appdata\\\\local\\\\programs\\\\python\\\\python39\\\\lib\\\\site-packages\\\\IPython\\\\core\\\\display_trap.py'>,\n",
       " '_ctypes': <module '_ctypes' from 'c:\\\\users\\\\rhie\\\\appdata\\\\local\\\\programs\\\\python\\\\python39\\\\DLLs\\\\_ctypes.pyd'>,\n",
       " '_struct': <module '_struct' (built-in)>,\n",
       " 'struct': <module 'struct' from 'c:\\\\users\\\\rhie\\\\appdata\\\\local\\\\programs\\\\python\\\\python39\\\\lib\\\\struct.py'>,\n",
       " 'ctypes._endian': <module 'ctypes._endian' from 'c:\\\\users\\\\rhie\\\\appdata\\\\local\\\\programs\\\\python\\\\python39\\\\lib\\\\ctypes\\\\_endian.py'>,\n",
       " 'ctypes': <module 'ctypes' from 'c:\\\\users\\\\rhie\\\\appdata\\\\local\\\\programs\\\\python\\\\python39\\\\lib\\\\ctypes\\\\__init__.py'>,\n",
       " 'ctypes.wintypes': <module 'ctypes.wintypes' from 'c:\\\\users\\\\rhie\\\\appdata\\\\local\\\\programs\\\\python\\\\python39\\\\lib\\\\ctypes\\\\wintypes.py'>,\n",
       " 'shlex': <module 'shlex' from 'c:\\\\users\\\\rhie\\\\appdata\\\\local\\\\programs\\\\python\\\\python39\\\\lib\\\\shlex.py'>,\n",
       " 'IPython.utils._process_common': <module 'IPython.utils._process_common' from 'c:\\\\users\\\\rhie\\\\appdata\\\\local\\\\programs\\\\python\\\\python39\\\\lib\\\\site-packages\\\\IPython\\\\utils\\\\_process_common.py'>,\n",
       " 'IPython.utils._process_win32': <module 'IPython.utils._process_win32' from 'c:\\\\users\\\\rhie\\\\appdata\\\\local\\\\programs\\\\python\\\\python39\\\\lib\\\\site-packages\\\\IPython\\\\utils\\\\_process_win32.py'>,\n",
       " 'IPython.utils.process': <module 'IPython.utils.process' from 'c:\\\\users\\\\rhie\\\\appdata\\\\local\\\\programs\\\\python\\\\python39\\\\lib\\\\site-packages\\\\IPython\\\\utils\\\\process.py'>,\n",
       " 'IPython.utils.decorators': <module 'IPython.utils.decorators' from 'c:\\\\users\\\\rhie\\\\appdata\\\\local\\\\programs\\\\python\\\\python39\\\\lib\\\\site-packages\\\\IPython\\\\utils\\\\decorators.py'>,\n",
       " 'IPython.utils.path': <module 'IPython.utils.path' from 'c:\\\\users\\\\rhie\\\\appdata\\\\local\\\\programs\\\\python\\\\python39\\\\lib\\\\site-packages\\\\IPython\\\\utils\\\\path.py'>,\n",
       " 'IPython.utils.data': <module 'IPython.utils.data' from 'c:\\\\users\\\\rhie\\\\appdata\\\\local\\\\programs\\\\python\\\\python39\\\\lib\\\\site-packages\\\\IPython\\\\utils\\\\data.py'>,\n",
       " 'IPython.utils.terminal': <module 'IPython.utils.terminal' from 'c:\\\\users\\\\rhie\\\\appdata\\\\local\\\\programs\\\\python\\\\python39\\\\lib\\\\site-packages\\\\IPython\\\\utils\\\\terminal.py'>,\n",
       " 'IPython.core.ultratb': <module 'IPython.core.ultratb' from 'c:\\\\users\\\\rhie\\\\appdata\\\\local\\\\programs\\\\python\\\\python39\\\\lib\\\\site-packages\\\\IPython\\\\core\\\\ultratb.py'>,\n",
       " 'IPython.utils._sysinfo': <module 'IPython.utils._sysinfo' from 'c:\\\\users\\\\rhie\\\\appdata\\\\local\\\\programs\\\\python\\\\python39\\\\lib\\\\site-packages\\\\IPython\\\\utils\\\\_sysinfo.py'>,\n",
       " 'IPython.utils.sysinfo': <module 'IPython.utils.sysinfo' from 'c:\\\\users\\\\rhie\\\\appdata\\\\local\\\\programs\\\\python\\\\python39\\\\lib\\\\site-packages\\\\IPython\\\\utils\\\\sysinfo.py'>,\n",
       " 'IPython.core.crashhandler': <module 'IPython.core.crashhandler' from 'c:\\\\users\\\\rhie\\\\appdata\\\\local\\\\programs\\\\python\\\\python39\\\\lib\\\\site-packages\\\\IPython\\\\core\\\\crashhandler.py'>,\n",
       " 'tempfile': <module 'tempfile' from 'c:\\\\users\\\\rhie\\\\appdata\\\\local\\\\programs\\\\python\\\\python39\\\\lib\\\\tempfile.py'>,\n",
       " 'IPython.utils.importstring': <module 'IPython.utils.importstring' from 'c:\\\\users\\\\rhie\\\\appdata\\\\local\\\\programs\\\\python\\\\python39\\\\lib\\\\site-packages\\\\IPython\\\\utils\\\\importstring.py'>,\n",
       " 'IPython.paths': <module 'IPython.paths' from 'c:\\\\users\\\\rhie\\\\appdata\\\\local\\\\programs\\\\python\\\\python39\\\\lib\\\\site-packages\\\\IPython\\\\paths.py'>,\n",
       " 'IPython.core.profiledir': <module 'IPython.core.profiledir' from 'c:\\\\users\\\\rhie\\\\appdata\\\\local\\\\programs\\\\python\\\\python39\\\\lib\\\\site-packages\\\\IPython\\\\core\\\\profiledir.py'>,\n",
       " 'IPython.core.application': <module 'IPython.core.application' from 'c:\\\\users\\\\rhie\\\\appdata\\\\local\\\\programs\\\\python\\\\python39\\\\lib\\\\site-packages\\\\IPython\\\\core\\\\application.py'>,\n",
       " 'IPython.terminal': <module 'IPython.terminal' from 'c:\\\\users\\\\rhie\\\\appdata\\\\local\\\\programs\\\\python\\\\python39\\\\lib\\\\site-packages\\\\IPython\\\\terminal\\\\__init__.py'>,\n",
       " '_hashlib': <module '_hashlib' from 'c:\\\\users\\\\rhie\\\\appdata\\\\local\\\\programs\\\\python\\\\python39\\\\DLLs\\\\_hashlib.pyd'>,\n",
       " '_blake2': <module '_blake2' (built-in)>,\n",
       " 'hashlib': <module 'hashlib' from 'c:\\\\users\\\\rhie\\\\appdata\\\\local\\\\programs\\\\python\\\\python39\\\\lib\\\\hashlib.py'>,\n",
       " 'IPython.core.compilerop': <module 'IPython.core.compilerop' from 'c:\\\\users\\\\rhie\\\\appdata\\\\local\\\\programs\\\\python\\\\python39\\\\lib\\\\site-packages\\\\IPython\\\\core\\\\compilerop.py'>,\n",
       " 'IPython.core.error': <module 'IPython.core.error' from 'c:\\\\users\\\\rhie\\\\appdata\\\\local\\\\programs\\\\python\\\\python39\\\\lib\\\\site-packages\\\\IPython\\\\core\\\\error.py'>,\n",
       " 'pathlib': <module 'pathlib' from 'c:\\\\users\\\\rhie\\\\appdata\\\\local\\\\programs\\\\python\\\\python39\\\\lib\\\\pathlib.py'>,\n",
       " 'IPython.utils.text': <module 'IPython.utils.text' from 'c:\\\\users\\\\rhie\\\\appdata\\\\local\\\\programs\\\\python\\\\python39\\\\lib\\\\site-packages\\\\IPython\\\\utils\\\\text.py'>,\n",
       " 'IPython.core.magic_arguments': <module 'IPython.core.magic_arguments' from 'c:\\\\users\\\\rhie\\\\appdata\\\\local\\\\programs\\\\python\\\\python39\\\\lib\\\\site-packages\\\\IPython\\\\core\\\\magic_arguments.py'>,\n",
       " 'getopt': <module 'getopt' from 'c:\\\\users\\\\rhie\\\\appdata\\\\local\\\\programs\\\\python\\\\python39\\\\lib\\\\getopt.py'>,\n",
       " 'binascii': <module 'binascii' (built-in)>,\n",
       " 'mimetypes': <module 'mimetypes' from 'c:\\\\users\\\\rhie\\\\appdata\\\\local\\\\programs\\\\python\\\\python39\\\\lib\\\\mimetypes.py'>,\n",
       " 'IPython.core.display': <module 'IPython.core.display' from 'c:\\\\users\\\\rhie\\\\appdata\\\\local\\\\programs\\\\python\\\\python39\\\\lib\\\\site-packages\\\\IPython\\\\core\\\\display.py'>,\n",
       " 'IPython.core.page': <module 'IPython.core.page' from 'c:\\\\users\\\\rhie\\\\appdata\\\\local\\\\programs\\\\python\\\\python39\\\\lib\\\\site-packages\\\\IPython\\\\core\\\\page.py'>,\n",
       " 'getpass': <module 'getpass' from 'c:\\\\users\\\\rhie\\\\appdata\\\\local\\\\programs\\\\python\\\\python39\\\\lib\\\\getpass.py'>,\n",
       " 'IPython.lib.security': <module 'IPython.lib.security' from 'c:\\\\users\\\\rhie\\\\appdata\\\\local\\\\programs\\\\python\\\\python39\\\\lib\\\\site-packages\\\\IPython\\\\lib\\\\security.py'>,\n",
       " 'IPython.lib': <module 'IPython.lib' from 'c:\\\\users\\\\rhie\\\\appdata\\\\local\\\\programs\\\\python\\\\python39\\\\lib\\\\site-packages\\\\IPython\\\\lib\\\\__init__.py'>,\n",
       " '_datetime': <module '_datetime' (built-in)>,\n",
       " 'datetime': <module 'datetime' from 'c:\\\\users\\\\rhie\\\\appdata\\\\local\\\\programs\\\\python\\\\python39\\\\lib\\\\datetime.py'>,\n",
       " 'IPython.lib.pretty': <module 'IPython.lib.pretty' from 'c:\\\\users\\\\rhie\\\\appdata\\\\local\\\\programs\\\\python\\\\python39\\\\lib\\\\site-packages\\\\IPython\\\\lib\\\\pretty.py'>,\n",
       " 'IPython.utils.openpy': <module 'IPython.utils.openpy' from 'c:\\\\users\\\\rhie\\\\appdata\\\\local\\\\programs\\\\python\\\\python39\\\\lib\\\\site-packages\\\\IPython\\\\utils\\\\openpy.py'>,\n",
       " 'IPython.utils.dir2': <module 'IPython.utils.dir2' from 'c:\\\\users\\\\rhie\\\\appdata\\\\local\\\\programs\\\\python\\\\python39\\\\lib\\\\site-packages\\\\IPython\\\\utils\\\\dir2.py'>,\n",
       " 'IPython.utils.wildcard': <module 'IPython.utils.wildcard' from 'c:\\\\users\\\\rhie\\\\appdata\\\\local\\\\programs\\\\python\\\\python39\\\\lib\\\\site-packages\\\\IPython\\\\utils\\\\wildcard.py'>,\n",
       " 'pygments.lexers._mapping': <module 'pygments.lexers._mapping' from 'c:\\\\users\\\\rhie\\\\appdata\\\\local\\\\programs\\\\python\\\\python39\\\\lib\\\\site-packages\\\\pygments\\\\lexers\\\\_mapping.py'>,\n",
       " 'pygments.modeline': <module 'pygments.modeline' from 'c:\\\\users\\\\rhie\\\\appdata\\\\local\\\\programs\\\\python\\\\python39\\\\lib\\\\site-packages\\\\pygments\\\\modeline.py'>,\n",
       " 'pygments.plugin': <module 'pygments.plugin' from 'c:\\\\users\\\\rhie\\\\appdata\\\\local\\\\programs\\\\python\\\\python39\\\\lib\\\\site-packages\\\\pygments\\\\plugin.py'>,\n",
       " 'pygments.util': <module 'pygments.util' from 'c:\\\\users\\\\rhie\\\\appdata\\\\local\\\\programs\\\\python\\\\python39\\\\lib\\\\site-packages\\\\pygments\\\\util.py'>,\n",
       " 'pygments.lexers': <module 'pygments.lexers' from 'c:\\\\users\\\\rhie\\\\appdata\\\\local\\\\programs\\\\python\\\\python39\\\\lib\\\\site-packages\\\\pygments\\\\lexers\\\\__init__.py'>,\n",
       " 'pygments.filter': <module 'pygments.filter' from 'c:\\\\users\\\\rhie\\\\appdata\\\\local\\\\programs\\\\python\\\\python39\\\\lib\\\\site-packages\\\\pygments\\\\filter.py'>,\n",
       " 'pygments.token': <module 'pygments.token' from 'c:\\\\users\\\\rhie\\\\appdata\\\\local\\\\programs\\\\python\\\\python39\\\\lib\\\\site-packages\\\\pygments\\\\token.py'>,\n",
       " 'pygments.filters': <module 'pygments.filters' from 'c:\\\\users\\\\rhie\\\\appdata\\\\local\\\\programs\\\\python\\\\python39\\\\lib\\\\site-packages\\\\pygments\\\\filters\\\\__init__.py'>,\n",
       " 'pygments.regexopt': <module 'pygments.regexopt' from 'c:\\\\users\\\\rhie\\\\appdata\\\\local\\\\programs\\\\python\\\\python39\\\\lib\\\\site-packages\\\\pygments\\\\regexopt.py'>,\n",
       " 'pygments.lexer': <module 'pygments.lexer' from 'c:\\\\users\\\\rhie\\\\appdata\\\\local\\\\programs\\\\python\\\\python39\\\\lib\\\\site-packages\\\\pygments\\\\lexer.py'>,\n",
       " 'pygments.unistring': <module 'pygments.unistring' from 'c:\\\\users\\\\rhie\\\\appdata\\\\local\\\\programs\\\\python\\\\python39\\\\lib\\\\site-packages\\\\pygments\\\\unistring.py'>,\n",
       " 'pygments.lexers.python': <module 'pygments.lexers.python' from 'c:\\\\users\\\\rhie\\\\appdata\\\\local\\\\programs\\\\python\\\\python39\\\\lib\\\\site-packages\\\\pygments\\\\lexers\\\\python.py'>,\n",
       " 'pygments.formatters._mapping': <module 'pygments.formatters._mapping' from 'c:\\\\users\\\\rhie\\\\appdata\\\\local\\\\programs\\\\python\\\\python39\\\\lib\\\\site-packages\\\\pygments\\\\formatters\\\\_mapping.py'>,\n",
       " 'pygments.formatters': <module 'pygments.formatters' from 'c:\\\\users\\\\rhie\\\\appdata\\\\local\\\\programs\\\\python\\\\python39\\\\lib\\\\site-packages\\\\pygments\\\\formatters\\\\__init__.py'>,\n",
       " 'pygments.styles': <module 'pygments.styles' from 'c:\\\\users\\\\rhie\\\\appdata\\\\local\\\\programs\\\\python\\\\python39\\\\lib\\\\site-packages\\\\pygments\\\\styles\\\\__init__.py'>,\n",
       " 'pygments.formatter': <module 'pygments.formatter' from 'c:\\\\users\\\\rhie\\\\appdata\\\\local\\\\programs\\\\python\\\\python39\\\\lib\\\\site-packages\\\\pygments\\\\formatter.py'>,\n",
       " 'pygments.formatters.html': <module 'pygments.formatters.html' from 'c:\\\\users\\\\rhie\\\\appdata\\\\local\\\\programs\\\\python\\\\python39\\\\lib\\\\site-packages\\\\pygments\\\\formatters\\\\html.py'>,\n",
       " 'IPython.core.oinspect': <module 'IPython.core.oinspect' from 'c:\\\\users\\\\rhie\\\\appdata\\\\local\\\\programs\\\\python\\\\python39\\\\lib\\\\site-packages\\\\IPython\\\\core\\\\oinspect.py'>,\n",
       " 'IPython.core.inputtransformer2': <module 'IPython.core.inputtransformer2' from 'c:\\\\users\\\\rhie\\\\appdata\\\\local\\\\programs\\\\python\\\\python39\\\\lib\\\\site-packages\\\\IPython\\\\core\\\\inputtransformer2.py'>,\n",
       " 'decorator': <module 'decorator' from 'c:\\\\users\\\\rhie\\\\appdata\\\\local\\\\programs\\\\python\\\\python39\\\\lib\\\\site-packages\\\\decorator.py'>,\n",
       " 'IPython.core.magic': <module 'IPython.core.magic' from 'c:\\\\users\\\\rhie\\\\appdata\\\\local\\\\programs\\\\python\\\\python39\\\\lib\\\\site-packages\\\\IPython\\\\core\\\\magic.py'>,\n",
       " '_compat_pickle': <module '_compat_pickle' from 'c:\\\\users\\\\rhie\\\\appdata\\\\local\\\\programs\\\\python\\\\python39\\\\lib\\\\_compat_pickle.py'>,\n",
       " '_pickle': <module '_pickle' (built-in)>,\n",
       " 'pickle': <module 'pickle' from 'c:\\\\users\\\\rhie\\\\appdata\\\\local\\\\programs\\\\python\\\\python39\\\\lib\\\\pickle.py'>,\n",
       " 'pickleshare': <module 'pickleshare' from 'c:\\\\users\\\\rhie\\\\appdata\\\\local\\\\programs\\\\python\\\\python39\\\\lib\\\\site-packages\\\\pickleshare.py'>,\n",
       " 'IPython.core.autocall': <module 'IPython.core.autocall' from 'c:\\\\users\\\\rhie\\\\appdata\\\\local\\\\programs\\\\python\\\\python39\\\\lib\\\\site-packages\\\\IPython\\\\core\\\\autocall.py'>,\n",
       " 'IPython.core.macro': <module 'IPython.core.macro' from 'c:\\\\users\\\\rhie\\\\appdata\\\\local\\\\programs\\\\python\\\\python39\\\\lib\\\\site-packages\\\\IPython\\\\core\\\\macro.py'>,\n",
       " 'IPython.core.splitinput': <module 'IPython.core.splitinput' from 'c:\\\\users\\\\rhie\\\\appdata\\\\local\\\\programs\\\\python\\\\python39\\\\lib\\\\site-packages\\\\IPython\\\\core\\\\splitinput.py'>,\n",
       " 'IPython.core.prefilter': <module 'IPython.core.prefilter' from 'c:\\\\users\\\\rhie\\\\appdata\\\\local\\\\programs\\\\python\\\\python39\\\\lib\\\\site-packages\\\\IPython\\\\core\\\\prefilter.py'>,\n",
       " 'IPython.core.alias': <module 'IPython.core.alias' from 'c:\\\\users\\\\rhie\\\\appdata\\\\local\\\\programs\\\\python\\\\python39\\\\lib\\\\site-packages\\\\IPython\\\\core\\\\alias.py'>,\n",
       " 'IPython.core.builtin_trap': <module 'IPython.core.builtin_trap' from 'c:\\\\users\\\\rhie\\\\appdata\\\\local\\\\programs\\\\python\\\\python39\\\\lib\\\\site-packages\\\\IPython\\\\core\\\\builtin_trap.py'>,\n",
       " 'backcall.backcall': <module 'backcall.backcall' from 'c:\\\\users\\\\rhie\\\\appdata\\\\local\\\\programs\\\\python\\\\python39\\\\lib\\\\site-packages\\\\backcall\\\\backcall.py'>,\n",
       " 'backcall': <module 'backcall' from 'c:\\\\users\\\\rhie\\\\appdata\\\\local\\\\programs\\\\python\\\\python39\\\\lib\\\\site-packages\\\\backcall\\\\__init__.py'>,\n",
       " 'IPython.core.events': <module 'IPython.core.events' from 'c:\\\\users\\\\rhie\\\\appdata\\\\local\\\\programs\\\\python\\\\python39\\\\lib\\\\site-packages\\\\IPython\\\\core\\\\events.py'>,\n",
       " 'IPython.core.displayhook': <module 'IPython.core.displayhook' from 'c:\\\\users\\\\rhie\\\\appdata\\\\local\\\\programs\\\\python\\\\python39\\\\lib\\\\site-packages\\\\IPython\\\\core\\\\displayhook.py'>,\n",
       " 'IPython.core.displaypub': <module 'IPython.core.displaypub' from 'c:\\\\users\\\\rhie\\\\appdata\\\\local\\\\programs\\\\python\\\\python39\\\\lib\\\\site-packages\\\\IPython\\\\core\\\\displaypub.py'>,\n",
       " 'IPython.core.extensions': <module 'IPython.core.extensions' from 'c:\\\\users\\\\rhie\\\\appdata\\\\local\\\\programs\\\\python\\\\python39\\\\lib\\\\site-packages\\\\IPython\\\\core\\\\extensions.py'>,\n",
       " 'IPython.utils.sentinel': <module 'IPython.utils.sentinel' from 'c:\\\\users\\\\rhie\\\\appdata\\\\local\\\\programs\\\\python\\\\python39\\\\lib\\\\site-packages\\\\IPython\\\\utils\\\\sentinel.py'>,\n",
       " 'IPython.core.formatters': <module 'IPython.core.formatters' from 'c:\\\\users\\\\rhie\\\\appdata\\\\local\\\\programs\\\\python\\\\python39\\\\lib\\\\site-packages\\\\IPython\\\\core\\\\formatters.py'>,\n",
       " '_sqlite3': <module '_sqlite3' from 'c:\\\\users\\\\rhie\\\\appdata\\\\local\\\\programs\\\\python\\\\python39\\\\DLLs\\\\_sqlite3.pyd'>,\n",
       " 'sqlite3.dbapi2': <module 'sqlite3.dbapi2' from 'c:\\\\users\\\\rhie\\\\appdata\\\\local\\\\programs\\\\python\\\\python39\\\\lib\\\\sqlite3\\\\dbapi2.py'>,\n",
       " 'sqlite3': <module 'sqlite3' from 'c:\\\\users\\\\rhie\\\\appdata\\\\local\\\\programs\\\\python\\\\python39\\\\lib\\\\sqlite3\\\\__init__.py'>,\n",
       " 'IPython.core.history': <module 'IPython.core.history' from 'c:\\\\users\\\\rhie\\\\appdata\\\\local\\\\programs\\\\python\\\\python39\\\\lib\\\\site-packages\\\\IPython\\\\core\\\\history.py'>,\n",
       " 'IPython.core.logger': <module 'IPython.core.logger' from 'c:\\\\users\\\\rhie\\\\appdata\\\\local\\\\programs\\\\python\\\\python39\\\\lib\\\\site-packages\\\\IPython\\\\core\\\\logger.py'>,\n",
       " 'IPython.core.payload': <module 'IPython.core.payload' from 'c:\\\\users\\\\rhie\\\\appdata\\\\local\\\\programs\\\\python\\\\python39\\\\lib\\\\site-packages\\\\IPython\\\\core\\\\payload.py'>,\n",
       " 'IPython.core.usage': <module 'IPython.core.usage' from 'c:\\\\users\\\\rhie\\\\appdata\\\\local\\\\programs\\\\python\\\\python39\\\\lib\\\\site-packages\\\\IPython\\\\core\\\\usage.py'>,\n",
       " 'html.entities': <module 'html.entities' from 'c:\\\\users\\\\rhie\\\\appdata\\\\local\\\\programs\\\\python\\\\python39\\\\lib\\\\html\\\\entities.py'>,\n",
       " 'html': <module 'html' from 'c:\\\\users\\\\rhie\\\\appdata\\\\local\\\\programs\\\\python\\\\python39\\\\lib\\\\html\\\\__init__.py'>,\n",
       " 'IPython.lib.display': <module 'IPython.lib.display' from 'c:\\\\users\\\\rhie\\\\appdata\\\\local\\\\programs\\\\python\\\\python39\\\\lib\\\\site-packages\\\\IPython\\\\lib\\\\display.py'>,\n",
       " 'IPython.display': <module 'IPython.display' from 'c:\\\\users\\\\rhie\\\\appdata\\\\local\\\\programs\\\\python\\\\python39\\\\lib\\\\site-packages\\\\IPython\\\\display.py'>,\n",
       " 'IPython.utils.capture': <module 'IPython.utils.capture' from 'c:\\\\users\\\\rhie\\\\appdata\\\\local\\\\programs\\\\python\\\\python39\\\\lib\\\\site-packages\\\\IPython\\\\utils\\\\capture.py'>,\n",
       " 'IPython.utils.io': <module 'IPython.utils.io' from 'c:\\\\users\\\\rhie\\\\appdata\\\\local\\\\programs\\\\python\\\\python39\\\\lib\\\\site-packages\\\\IPython\\\\utils\\\\io.py'>,\n",
       " 'IPython.core.hooks': <module 'IPython.core.hooks' from 'c:\\\\users\\\\rhie\\\\appdata\\\\local\\\\programs\\\\python\\\\python39\\\\lib\\\\site-packages\\\\IPython\\\\core\\\\hooks.py'>,\n",
       " 'IPython.utils.strdispatch': <module 'IPython.utils.strdispatch' from 'c:\\\\users\\\\rhie\\\\appdata\\\\local\\\\programs\\\\python\\\\python39\\\\lib\\\\site-packages\\\\IPython\\\\utils\\\\strdispatch.py'>,\n",
       " 'IPython.utils.syspathcontext': <module 'IPython.utils.syspathcontext' from 'c:\\\\users\\\\rhie\\\\appdata\\\\local\\\\programs\\\\python\\\\python39\\\\lib\\\\site-packages\\\\IPython\\\\utils\\\\syspathcontext.py'>,\n",
       " 'IPython.utils.tempdir': <module 'IPython.utils.tempdir' from 'c:\\\\users\\\\rhie\\\\appdata\\\\local\\\\programs\\\\python\\\\python39\\\\lib\\\\site-packages\\\\IPython\\\\utils\\\\tempdir.py'>,\n",
       " 'IPython.utils.contexts': <module 'IPython.utils.contexts' from 'c:\\\\users\\\\rhie\\\\appdata\\\\local\\\\programs\\\\python\\\\python39\\\\lib\\\\site-packages\\\\IPython\\\\utils\\\\contexts.py'>,\n",
       " 'IPython.core.async_helpers': <module 'IPython.core.async_helpers' from 'c:\\\\users\\\\rhie\\\\appdata\\\\local\\\\programs\\\\python\\\\python39\\\\lib\\\\site-packages\\\\IPython\\\\core\\\\async_helpers.py'>,\n",
       " 'IPython.core.interactiveshell': <module 'IPython.core.interactiveshell' from 'c:\\\\users\\\\rhie\\\\appdata\\\\local\\\\programs\\\\python\\\\python39\\\\lib\\\\site-packages\\\\IPython\\\\core\\\\interactiveshell.py'>,\n",
       " 'concurrent': <module 'concurrent' from 'c:\\\\users\\\\rhie\\\\appdata\\\\local\\\\programs\\\\python\\\\python39\\\\lib\\\\concurrent\\\\__init__.py'>,\n",
       " 'concurrent.futures._base': <module 'concurrent.futures._base' from 'c:\\\\users\\\\rhie\\\\appdata\\\\local\\\\programs\\\\python\\\\python39\\\\lib\\\\concurrent\\\\futures\\\\_base.py'>,\n",
       " 'concurrent.futures': <module 'concurrent.futures' from 'c:\\\\users\\\\rhie\\\\appdata\\\\local\\\\programs\\\\python\\\\python39\\\\lib\\\\concurrent\\\\futures\\\\__init__.py'>,\n",
       " '_socket': <module '_socket' from 'c:\\\\users\\\\rhie\\\\appdata\\\\local\\\\programs\\\\python\\\\python39\\\\DLLs\\\\_socket.pyd'>,\n",
       " 'select': <module 'select' from 'c:\\\\users\\\\rhie\\\\appdata\\\\local\\\\programs\\\\python\\\\python39\\\\DLLs\\\\select.pyd'>,\n",
       " 'selectors': <module 'selectors' from 'c:\\\\users\\\\rhie\\\\appdata\\\\local\\\\programs\\\\python\\\\python39\\\\lib\\\\selectors.py'>,\n",
       " 'socket': <module 'socket' from 'c:\\\\users\\\\rhie\\\\appdata\\\\local\\\\programs\\\\python\\\\python39\\\\lib\\\\socket.py'>,\n",
       " '_ssl': <module '_ssl' from 'c:\\\\users\\\\rhie\\\\appdata\\\\local\\\\programs\\\\python\\\\python39\\\\DLLs\\\\_ssl.pyd'>,\n",
       " 'base64': <module 'base64' from 'c:\\\\users\\\\rhie\\\\appdata\\\\local\\\\programs\\\\python\\\\python39\\\\lib\\\\base64.py'>,\n",
       " 'ssl': <module 'ssl' from 'c:\\\\users\\\\rhie\\\\appdata\\\\local\\\\programs\\\\python\\\\python39\\\\lib\\\\ssl.py'>,\n",
       " 'asyncio.constants': <module 'asyncio.constants' from 'c:\\\\users\\\\rhie\\\\appdata\\\\local\\\\programs\\\\python\\\\python39\\\\lib\\\\asyncio\\\\constants.py'>,\n",
       " 'asyncio.format_helpers': <module 'asyncio.format_helpers' from 'c:\\\\users\\\\rhie\\\\appdata\\\\local\\\\programs\\\\python\\\\python39\\\\lib\\\\asyncio\\\\format_helpers.py'>,\n",
       " 'asyncio.base_futures': <module 'asyncio.base_futures' from 'c:\\\\users\\\\rhie\\\\appdata\\\\local\\\\programs\\\\python\\\\python39\\\\lib\\\\asyncio\\\\base_futures.py'>,\n",
       " 'asyncio.log': <module 'asyncio.log' from 'c:\\\\users\\\\rhie\\\\appdata\\\\local\\\\programs\\\\python\\\\python39\\\\lib\\\\asyncio\\\\log.py'>,\n",
       " 'asyncio.coroutines': <module 'asyncio.coroutines' from 'c:\\\\users\\\\rhie\\\\appdata\\\\local\\\\programs\\\\python\\\\python39\\\\lib\\\\asyncio\\\\coroutines.py'>,\n",
       " '_contextvars': <module '_contextvars' (built-in)>,\n",
       " 'contextvars': <module 'contextvars' from 'c:\\\\users\\\\rhie\\\\appdata\\\\local\\\\programs\\\\python\\\\python39\\\\lib\\\\contextvars.py'>,\n",
       " 'asyncio.exceptions': <module 'asyncio.exceptions' from 'c:\\\\users\\\\rhie\\\\appdata\\\\local\\\\programs\\\\python\\\\python39\\\\lib\\\\asyncio\\\\exceptions.py'>,\n",
       " 'asyncio.base_tasks': <module 'asyncio.base_tasks' from 'c:\\\\users\\\\rhie\\\\appdata\\\\local\\\\programs\\\\python\\\\python39\\\\lib\\\\asyncio\\\\base_tasks.py'>,\n",
       " '_asyncio': <module '_asyncio' from 'c:\\\\users\\\\rhie\\\\appdata\\\\local\\\\programs\\\\python\\\\python39\\\\DLLs\\\\_asyncio.pyd'>,\n",
       " 'asyncio.events': <module 'asyncio.events' from 'c:\\\\users\\\\rhie\\\\appdata\\\\local\\\\programs\\\\python\\\\python39\\\\lib\\\\asyncio\\\\events.py'>,\n",
       " 'asyncio.futures': <module 'asyncio.futures' from 'c:\\\\users\\\\rhie\\\\appdata\\\\local\\\\programs\\\\python\\\\python39\\\\lib\\\\asyncio\\\\futures.py'>,\n",
       " 'asyncio.protocols': <module 'asyncio.protocols' from 'c:\\\\users\\\\rhie\\\\appdata\\\\local\\\\programs\\\\python\\\\python39\\\\lib\\\\asyncio\\\\protocols.py'>,\n",
       " 'asyncio.transports': <module 'asyncio.transports' from 'c:\\\\users\\\\rhie\\\\appdata\\\\local\\\\programs\\\\python\\\\python39\\\\lib\\\\asyncio\\\\transports.py'>,\n",
       " 'asyncio.sslproto': <module 'asyncio.sslproto' from 'c:\\\\users\\\\rhie\\\\appdata\\\\local\\\\programs\\\\python\\\\python39\\\\lib\\\\asyncio\\\\sslproto.py'>,\n",
       " 'asyncio.locks': <module 'asyncio.locks' from 'c:\\\\users\\\\rhie\\\\appdata\\\\local\\\\programs\\\\python\\\\python39\\\\lib\\\\asyncio\\\\locks.py'>,\n",
       " 'asyncio.tasks': <module 'asyncio.tasks' from 'c:\\\\users\\\\rhie\\\\appdata\\\\local\\\\programs\\\\python\\\\python39\\\\lib\\\\asyncio\\\\tasks.py'>,\n",
       " 'asyncio.staggered': <module 'asyncio.staggered' from 'c:\\\\users\\\\rhie\\\\appdata\\\\local\\\\programs\\\\python\\\\python39\\\\lib\\\\asyncio\\\\staggered.py'>,\n",
       " 'asyncio.trsock': <module 'asyncio.trsock' from 'c:\\\\users\\\\rhie\\\\appdata\\\\local\\\\programs\\\\python\\\\python39\\\\lib\\\\asyncio\\\\trsock.py'>,\n",
       " 'asyncio.base_events': <module 'asyncio.base_events' from 'c:\\\\users\\\\rhie\\\\appdata\\\\local\\\\programs\\\\python\\\\python39\\\\lib\\\\asyncio\\\\base_events.py'>,\n",
       " 'asyncio.runners': <module 'asyncio.runners' from 'c:\\\\users\\\\rhie\\\\appdata\\\\local\\\\programs\\\\python\\\\python39\\\\lib\\\\asyncio\\\\runners.py'>,\n",
       " 'asyncio.queues': <module 'asyncio.queues' from 'c:\\\\users\\\\rhie\\\\appdata\\\\local\\\\programs\\\\python\\\\python39\\\\lib\\\\asyncio\\\\queues.py'>,\n",
       " 'asyncio.streams': <module 'asyncio.streams' from 'c:\\\\users\\\\rhie\\\\appdata\\\\local\\\\programs\\\\python\\\\python39\\\\lib\\\\asyncio\\\\streams.py'>,\n",
       " 'asyncio.subprocess': <module 'asyncio.subprocess' from 'c:\\\\users\\\\rhie\\\\appdata\\\\local\\\\programs\\\\python\\\\python39\\\\lib\\\\asyncio\\\\subprocess.py'>,\n",
       " 'asyncio.threads': <module 'asyncio.threads' from 'c:\\\\users\\\\rhie\\\\appdata\\\\local\\\\programs\\\\python\\\\python39\\\\lib\\\\asyncio\\\\threads.py'>,\n",
       " '_overlapped': <module '_overlapped' from 'c:\\\\users\\\\rhie\\\\appdata\\\\local\\\\programs\\\\python\\\\python39\\\\DLLs\\\\_overlapped.pyd'>,\n",
       " 'asyncio.base_subprocess': <module 'asyncio.base_subprocess' from 'c:\\\\users\\\\rhie\\\\appdata\\\\local\\\\programs\\\\python\\\\python39\\\\lib\\\\asyncio\\\\base_subprocess.py'>,\n",
       " 'asyncio.proactor_events': <module 'asyncio.proactor_events' from 'c:\\\\users\\\\rhie\\\\appdata\\\\local\\\\programs\\\\python\\\\python39\\\\lib\\\\asyncio\\\\proactor_events.py'>,\n",
       " 'asyncio.selector_events': <module 'asyncio.selector_events' from 'c:\\\\users\\\\rhie\\\\appdata\\\\local\\\\programs\\\\python\\\\python39\\\\lib\\\\asyncio\\\\selector_events.py'>,\n",
       " 'asyncio.windows_utils': <module 'asyncio.windows_utils' from 'c:\\\\users\\\\rhie\\\\appdata\\\\local\\\\programs\\\\python\\\\python39\\\\lib\\\\asyncio\\\\windows_utils.py'>,\n",
       " 'asyncio.windows_events': <module 'asyncio.windows_events' from 'c:\\\\users\\\\rhie\\\\appdata\\\\local\\\\programs\\\\python\\\\python39\\\\lib\\\\asyncio\\\\windows_events.py'>,\n",
       " 'asyncio': <module 'asyncio' from 'c:\\\\users\\\\rhie\\\\appdata\\\\local\\\\programs\\\\python\\\\python39\\\\lib\\\\asyncio\\\\__init__.py'>,\n",
       " 'prompt_toolkit.application.current': <module 'prompt_toolkit.application.current' from 'c:\\\\users\\\\rhie\\\\appdata\\\\local\\\\programs\\\\python\\\\python39\\\\lib\\\\site-packages\\\\prompt_toolkit\\\\application\\\\current.py'>,\n",
       " 'prompt_toolkit.eventloop.utils': <module 'prompt_toolkit.eventloop.utils' from 'c:\\\\users\\\\rhie\\\\appdata\\\\local\\\\programs\\\\python\\\\python39\\\\lib\\\\site-packages\\\\prompt_toolkit\\\\eventloop\\\\utils.py'>,\n",
       " 'prompt_toolkit.eventloop.async_generator': <module 'prompt_toolkit.eventloop.async_generator' from 'c:\\\\users\\\\rhie\\\\appdata\\\\local\\\\programs\\\\python\\\\python39\\\\lib\\\\site-packages\\\\prompt_toolkit\\\\eventloop\\\\async_generator.py'>,\n",
       " 'wcwidth.table_wide': <module 'wcwidth.table_wide' from 'c:\\\\users\\\\rhie\\\\appdata\\\\local\\\\programs\\\\python\\\\python39\\\\lib\\\\site-packages\\\\wcwidth\\\\table_wide.py'>,\n",
       " 'wcwidth.table_zero': <module 'wcwidth.table_zero' from 'c:\\\\users\\\\rhie\\\\appdata\\\\local\\\\programs\\\\python\\\\python39\\\\lib\\\\site-packages\\\\wcwidth\\\\table_zero.py'>,\n",
       " 'wcwidth.unicode_versions': <module 'wcwidth.unicode_versions' from 'c:\\\\users\\\\rhie\\\\appdata\\\\local\\\\programs\\\\python\\\\python39\\\\lib\\\\site-packages\\\\wcwidth\\\\unicode_versions.py'>,\n",
       " 'wcwidth.wcwidth': <module 'wcwidth.wcwidth' from 'c:\\\\users\\\\rhie\\\\appdata\\\\local\\\\programs\\\\python\\\\python39\\\\lib\\\\site-packages\\\\wcwidth\\\\wcwidth.py'>,\n",
       " 'wcwidth': <module 'wcwidth' from 'c:\\\\users\\\\rhie\\\\appdata\\\\local\\\\programs\\\\python\\\\python39\\\\lib\\\\site-packages\\\\wcwidth\\\\__init__.py'>,\n",
       " 'prompt_toolkit.utils': <module 'prompt_toolkit.utils' from 'c:\\\\users\\\\rhie\\\\appdata\\\\local\\\\programs\\\\python\\\\python39\\\\lib\\\\site-packages\\\\prompt_toolkit\\\\utils.py'>,\n",
       " 'prompt_toolkit.eventloop.inputhook': <module 'prompt_toolkit.eventloop.inputhook' from 'c:\\\\users\\\\rhie\\\\appdata\\\\local\\\\programs\\\\python\\\\python39\\\\lib\\\\site-packages\\\\prompt_toolkit\\\\eventloop\\\\inputhook.py'>,\n",
       " 'prompt_toolkit.eventloop': <module 'prompt_toolkit.eventloop' from 'c:\\\\users\\\\rhie\\\\appdata\\\\local\\\\programs\\\\python\\\\python39\\\\lib\\\\site-packages\\\\prompt_toolkit\\\\eventloop\\\\__init__.py'>,\n",
       " 'prompt_toolkit.application.run_in_terminal': <module 'prompt_toolkit.application.run_in_terminal' from 'c:\\\\users\\\\rhie\\\\appdata\\\\local\\\\programs\\\\python\\\\python39\\\\lib\\\\site-packages\\\\prompt_toolkit\\\\application\\\\run_in_terminal.py'>,\n",
       " 'prompt_toolkit.selection': <module 'prompt_toolkit.selection' from 'c:\\\\users\\\\rhie\\\\appdata\\\\local\\\\programs\\\\python\\\\python39\\\\lib\\\\site-packages\\\\prompt_toolkit\\\\selection.py'>,\n",
       " 'prompt_toolkit.clipboard.base': <module 'prompt_toolkit.clipboard.base' from 'c:\\\\users\\\\rhie\\\\appdata\\\\local\\\\programs\\\\python\\\\python39\\\\lib\\\\site-packages\\\\prompt_toolkit\\\\clipboard\\\\base.py'>,\n",
       " 'prompt_toolkit.clipboard.in_memory': <module 'prompt_toolkit.clipboard.in_memory' from 'c:\\\\users\\\\rhie\\\\appdata\\\\local\\\\programs\\\\python\\\\python39\\\\lib\\\\site-packages\\\\prompt_toolkit\\\\clipboard\\\\in_memory.py'>,\n",
       " 'prompt_toolkit.clipboard': <module 'prompt_toolkit.clipboard' from 'c:\\\\users\\\\rhie\\\\appdata\\\\local\\\\programs\\\\python\\\\python39\\\\lib\\\\site-packages\\\\prompt_toolkit\\\\clipboard\\\\__init__.py'>,\n",
       " 'prompt_toolkit.cache': <module 'prompt_toolkit.cache' from 'c:\\\\users\\\\rhie\\\\appdata\\\\local\\\\programs\\\\python\\\\python39\\\\lib\\\\site-packages\\\\prompt_toolkit\\\\cache.py'>,\n",
       " 'prompt_toolkit.enums': <module 'prompt_toolkit.enums' from 'c:\\\\users\\\\rhie\\\\appdata\\\\local\\\\programs\\\\python\\\\python39\\\\lib\\\\site-packages\\\\prompt_toolkit\\\\enums.py'>,\n",
       " 'prompt_toolkit.filters.base': <module 'prompt_toolkit.filters.base' from 'c:\\\\users\\\\rhie\\\\appdata\\\\local\\\\programs\\\\python\\\\python39\\\\lib\\\\site-packages\\\\prompt_toolkit\\\\filters\\\\base.py'>,\n",
       " 'prompt_toolkit.filters.app': <module 'prompt_toolkit.filters.app' from 'c:\\\\users\\\\rhie\\\\appdata\\\\local\\\\programs\\\\python\\\\python39\\\\lib\\\\site-packages\\\\prompt_toolkit\\\\filters\\\\app.py'>,\n",
       " 'prompt_toolkit.filters.cli': <module 'prompt_toolkit.filters.cli' from 'c:\\\\users\\\\rhie\\\\appdata\\\\local\\\\programs\\\\python\\\\python39\\\\lib\\\\site-packages\\\\prompt_toolkit\\\\filters\\\\cli.py'>,\n",
       " 'prompt_toolkit.filters.utils': <module 'prompt_toolkit.filters.utils' from 'c:\\\\users\\\\rhie\\\\appdata\\\\local\\\\programs\\\\python\\\\python39\\\\lib\\\\site-packages\\\\prompt_toolkit\\\\filters\\\\utils.py'>,\n",
       " 'prompt_toolkit.filters': <module 'prompt_toolkit.filters' from 'c:\\\\users\\\\rhie\\\\appdata\\\\local\\\\programs\\\\python\\\\python39\\\\lib\\\\site-packages\\\\prompt_toolkit\\\\filters\\\\__init__.py'>,\n",
       " 'prompt_toolkit.document': <module 'prompt_toolkit.document' from 'c:\\\\users\\\\rhie\\\\appdata\\\\local\\\\programs\\\\python\\\\python39\\\\lib\\\\site-packages\\\\prompt_toolkit\\\\document.py'>,\n",
       " 'prompt_toolkit.auto_suggest': <module 'prompt_toolkit.auto_suggest' from 'c:\\\\users\\\\rhie\\\\appdata\\\\local\\\\programs\\\\python\\\\python39\\\\lib\\\\site-packages\\\\prompt_toolkit\\\\auto_suggest.py'>,\n",
       " 'prompt_toolkit.data_structures': <module 'prompt_toolkit.data_structures' from 'c:\\\\users\\\\rhie\\\\appdata\\\\local\\\\programs\\\\python\\\\python39\\\\lib\\\\site-packages\\\\prompt_toolkit\\\\data_structures.py'>,\n",
       " 'prompt_toolkit.styles.base': <module 'prompt_toolkit.styles.base' from 'c:\\\\users\\\\rhie\\\\appdata\\\\local\\\\programs\\\\python\\\\python39\\\\lib\\\\site-packages\\\\prompt_toolkit\\\\styles\\\\base.py'>,\n",
       " 'prompt_toolkit.styles.named_colors': <module 'prompt_toolkit.styles.named_colors' from 'c:\\\\users\\\\rhie\\\\appdata\\\\local\\\\programs\\\\python\\\\python39\\\\lib\\\\site-packages\\\\prompt_toolkit\\\\styles\\\\named_colors.py'>,\n",
       " 'prompt_toolkit.styles.style': <module 'prompt_toolkit.styles.style' from 'c:\\\\users\\\\rhie\\\\appdata\\\\local\\\\programs\\\\python\\\\python39\\\\lib\\\\site-packages\\\\prompt_toolkit\\\\styles\\\\style.py'>,\n",
       " 'prompt_toolkit.styles.defaults': <module 'prompt_toolkit.styles.defaults' from 'c:\\\\users\\\\rhie\\\\appdata\\\\local\\\\programs\\\\python\\\\python39\\\\lib\\\\site-packages\\\\prompt_toolkit\\\\styles\\\\defaults.py'>,\n",
       " 'prompt_toolkit.styles.pygments': <module 'prompt_toolkit.styles.pygments' from 'c:\\\\users\\\\rhie\\\\appdata\\\\local\\\\programs\\\\python\\\\python39\\\\lib\\\\site-packages\\\\prompt_toolkit\\\\styles\\\\pygments.py'>,\n",
       " 'colorsys': <module 'colorsys' from 'c:\\\\users\\\\rhie\\\\appdata\\\\local\\\\programs\\\\python\\\\python39\\\\lib\\\\colorsys.py'>,\n",
       " 'prompt_toolkit.styles.style_transformation': <module 'prompt_toolkit.styles.style_transformation' from 'c:\\\\users\\\\rhie\\\\appdata\\\\local\\\\programs\\\\python\\\\python39\\\\lib\\\\site-packages\\\\prompt_toolkit\\\\styles\\\\style_transformation.py'>,\n",
       " 'prompt_toolkit.styles': <module 'prompt_toolkit.styles' from 'c:\\\\users\\\\rhie\\\\appdata\\\\local\\\\programs\\\\python\\\\python39\\\\lib\\\\site-packages\\\\prompt_toolkit\\\\styles\\\\__init__.py'>,\n",
       " 'prompt_toolkit.output.color_depth': <module 'prompt_toolkit.output.color_depth' from 'c:\\\\users\\\\rhie\\\\appdata\\\\local\\\\programs\\\\python\\\\python39\\\\lib\\\\site-packages\\\\prompt_toolkit\\\\output\\\\color_depth.py'>,\n",
       " 'prompt_toolkit.output.base': <module 'prompt_toolkit.output.base' from 'c:\\\\users\\\\rhie\\\\appdata\\\\local\\\\programs\\\\python\\\\python39\\\\lib\\\\site-packages\\\\prompt_toolkit\\\\output\\\\base.py'>,\n",
       " 'prompt_toolkit.output.defaults': <module 'prompt_toolkit.output.defaults' from 'c:\\\\users\\\\rhie\\\\appdata\\\\local\\\\programs\\\\python\\\\python39\\\\lib\\\\site-packages\\\\prompt_toolkit\\\\output\\\\defaults.py'>,\n",
       " 'prompt_toolkit.output': <module 'prompt_toolkit.output' from 'c:\\\\users\\\\rhie\\\\appdata\\\\local\\\\programs\\\\python\\\\python39\\\\lib\\\\site-packages\\\\prompt_toolkit\\\\output\\\\__init__.py'>,\n",
       " 'array': <module 'array' (built-in)>,\n",
       " 'prompt_toolkit.output.vt100': <module 'prompt_toolkit.output.vt100' from 'c:\\\\users\\\\rhie\\\\appdata\\\\local\\\\programs\\\\python\\\\python39\\\\lib\\\\site-packages\\\\prompt_toolkit\\\\output\\\\vt100.py'>,\n",
       " 'prompt_toolkit.mouse_events': <module 'prompt_toolkit.mouse_events' from 'c:\\\\users\\\\rhie\\\\appdata\\\\local\\\\programs\\\\python\\\\python39\\\\lib\\\\site-packages\\\\prompt_toolkit\\\\mouse_events.py'>,\n",
       " 'prompt_toolkit.formatted_text.base': <module 'prompt_toolkit.formatted_text.base' from 'c:\\\\users\\\\rhie\\\\appdata\\\\local\\\\programs\\\\python\\\\python39\\\\lib\\\\site-packages\\\\prompt_toolkit\\\\formatted_text\\\\base.py'>,\n",
       " 'prompt_toolkit.formatted_text.ansi': <module 'prompt_toolkit.formatted_text.ansi' from 'c:\\\\users\\\\rhie\\\\appdata\\\\local\\\\programs\\\\python\\\\python39\\\\lib\\\\site-packages\\\\prompt_toolkit\\\\formatted_text\\\\ansi.py'>,\n",
       " 'xml': <module 'xml' from 'c:\\\\users\\\\rhie\\\\appdata\\\\local\\\\programs\\\\python\\\\python39\\\\lib\\\\xml\\\\__init__.py'>,\n",
       " 'xml.dom.domreg': <module 'xml.dom.domreg' from 'c:\\\\users\\\\rhie\\\\appdata\\\\local\\\\programs\\\\python\\\\python39\\\\lib\\\\xml\\\\dom\\\\domreg.py'>,\n",
       " 'xml.dom': <module 'xml.dom' from 'c:\\\\users\\\\rhie\\\\appdata\\\\local\\\\programs\\\\python\\\\python39\\\\lib\\\\xml\\\\dom\\\\__init__.py'>,\n",
       " 'xml.dom.minicompat': <module 'xml.dom.minicompat' from 'c:\\\\users\\\\rhie\\\\appdata\\\\local\\\\programs\\\\python\\\\python39\\\\lib\\\\xml\\\\dom\\\\minicompat.py'>,\n",
       " 'xml.dom.NodeFilter': <module 'xml.dom.NodeFilter' from 'c:\\\\users\\\\rhie\\\\appdata\\\\local\\\\programs\\\\python\\\\python39\\\\lib\\\\xml\\\\dom\\\\NodeFilter.py'>,\n",
       " 'xml.dom.xmlbuilder': <module 'xml.dom.xmlbuilder' from 'c:\\\\users\\\\rhie\\\\appdata\\\\local\\\\programs\\\\python\\\\python39\\\\lib\\\\xml\\\\dom\\\\xmlbuilder.py'>,\n",
       " 'xml.dom.minidom': <module 'xml.dom.minidom' from 'c:\\\\users\\\\rhie\\\\appdata\\\\local\\\\programs\\\\python\\\\python39\\\\lib\\\\xml\\\\dom\\\\minidom.py'>,\n",
       " 'prompt_toolkit.formatted_text.html': <module 'prompt_toolkit.formatted_text.html' from 'c:\\\\users\\\\rhie\\\\appdata\\\\local\\\\programs\\\\python\\\\python39\\\\lib\\\\site-packages\\\\prompt_toolkit\\\\formatted_text\\\\html.py'>,\n",
       " 'prompt_toolkit.formatted_text.pygments': <module 'prompt_toolkit.formatted_text.pygments' from 'c:\\\\users\\\\rhie\\\\appdata\\\\local\\\\programs\\\\python\\\\python39\\\\lib\\\\site-packages\\\\prompt_toolkit\\\\formatted_text\\\\pygments.py'>,\n",
       " 'prompt_toolkit.formatted_text.utils': <module 'prompt_toolkit.formatted_text.utils' from 'c:\\\\users\\\\rhie\\\\appdata\\\\local\\\\programs\\\\python\\\\python39\\\\lib\\\\site-packages\\\\prompt_toolkit\\\\formatted_text\\\\utils.py'>,\n",
       " 'prompt_toolkit.formatted_text': <module 'prompt_toolkit.formatted_text' from 'c:\\\\users\\\\rhie\\\\appdata\\\\local\\\\programs\\\\python\\\\python39\\\\lib\\\\site-packages\\\\prompt_toolkit\\\\formatted_text\\\\__init__.py'>,\n",
       " 'prompt_toolkit.completion.base': <module 'prompt_toolkit.completion.base' from 'c:\\\\users\\\\rhie\\\\appdata\\\\local\\\\programs\\\\python\\\\python39\\\\lib\\\\site-packages\\\\prompt_toolkit\\\\completion\\\\base.py'>,\n",
       " 'prompt_toolkit.completion.deduplicate': <module 'prompt_toolkit.completion.deduplicate' from 'c:\\\\users\\\\rhie\\\\appdata\\\\local\\\\programs\\\\python\\\\python39\\\\lib\\\\site-packages\\\\prompt_toolkit\\\\completion\\\\deduplicate.py'>,\n",
       " 'prompt_toolkit.completion.filesystem': <module 'prompt_toolkit.completion.filesystem' from 'c:\\\\users\\\\rhie\\\\appdata\\\\local\\\\programs\\\\python\\\\python39\\\\lib\\\\site-packages\\\\prompt_toolkit\\\\completion\\\\filesystem.py'>,\n",
       " 'prompt_toolkit.completion.word_completer': <module 'prompt_toolkit.completion.word_completer' from 'c:\\\\users\\\\rhie\\\\appdata\\\\local\\\\programs\\\\python\\\\python39\\\\lib\\\\site-packages\\\\prompt_toolkit\\\\completion\\\\word_completer.py'>,\n",
       " 'prompt_toolkit.completion.fuzzy_completer': <module 'prompt_toolkit.completion.fuzzy_completer' from 'c:\\\\users\\\\rhie\\\\appdata\\\\local\\\\programs\\\\python\\\\python39\\\\lib\\\\site-packages\\\\prompt_toolkit\\\\completion\\\\fuzzy_completer.py'>,\n",
       " 'prompt_toolkit.completion.nested': <module 'prompt_toolkit.completion.nested' from 'c:\\\\users\\\\rhie\\\\appdata\\\\local\\\\programs\\\\python\\\\python39\\\\lib\\\\site-packages\\\\prompt_toolkit\\\\completion\\\\nested.py'>,\n",
       " 'prompt_toolkit.completion': <module 'prompt_toolkit.completion' from 'c:\\\\users\\\\rhie\\\\appdata\\\\local\\\\programs\\\\python\\\\python39\\\\lib\\\\site-packages\\\\prompt_toolkit\\\\completion\\\\__init__.py'>,\n",
       " 'prompt_toolkit.history': <module 'prompt_toolkit.history' from 'c:\\\\users\\\\rhie\\\\appdata\\\\local\\\\programs\\\\python\\\\python39\\\\lib\\\\site-packages\\\\prompt_toolkit\\\\history.py'>,\n",
       " 'prompt_toolkit.keys': <module 'prompt_toolkit.keys' from 'c:\\\\users\\\\rhie\\\\appdata\\\\local\\\\programs\\\\python\\\\python39\\\\lib\\\\site-packages\\\\prompt_toolkit\\\\keys.py'>,\n",
       " 'prompt_toolkit.key_binding.key_bindings': <module 'prompt_toolkit.key_binding.key_bindings' from 'c:\\\\users\\\\rhie\\\\appdata\\\\local\\\\programs\\\\python\\\\python39\\\\lib\\\\site-packages\\\\prompt_toolkit\\\\key_binding\\\\key_bindings.py'>,\n",
       " 'prompt_toolkit.key_binding.key_processor': <module 'prompt_toolkit.key_binding.key_processor' from 'c:\\\\users\\\\rhie\\\\appdata\\\\local\\\\programs\\\\python\\\\python39\\\\lib\\\\site-packages\\\\prompt_toolkit\\\\key_binding\\\\key_processor.py'>,\n",
       " 'prompt_toolkit.key_binding': <module 'prompt_toolkit.key_binding' from 'c:\\\\users\\\\rhie\\\\appdata\\\\local\\\\programs\\\\python\\\\python39\\\\lib\\\\site-packages\\\\prompt_toolkit\\\\key_binding\\\\__init__.py'>,\n",
       " 'prompt_toolkit.key_binding.vi_state': <module 'prompt_toolkit.key_binding.vi_state' from 'c:\\\\users\\\\rhie\\\\appdata\\\\local\\\\programs\\\\python\\\\python39\\\\lib\\\\site-packages\\\\prompt_toolkit\\\\key_binding\\\\vi_state.py'>,\n",
       " 'prompt_toolkit.search': <module 'prompt_toolkit.search' from 'c:\\\\users\\\\rhie\\\\appdata\\\\local\\\\programs\\\\python\\\\python39\\\\lib\\\\site-packages\\\\prompt_toolkit\\\\search.py'>,\n",
       " 'prompt_toolkit.validation': <module 'prompt_toolkit.validation' from 'c:\\\\users\\\\rhie\\\\appdata\\\\local\\\\programs\\\\python\\\\python39\\\\lib\\\\site-packages\\\\prompt_toolkit\\\\validation.py'>,\n",
       " 'prompt_toolkit.buffer': <module 'prompt_toolkit.buffer' from 'c:\\\\users\\\\rhie\\\\appdata\\\\local\\\\programs\\\\python\\\\python39\\\\lib\\\\site-packages\\\\prompt_toolkit\\\\buffer.py'>,\n",
       " 'prompt_toolkit.input.base': <module 'prompt_toolkit.input.base' from 'c:\\\\users\\\\rhie\\\\appdata\\\\local\\\\programs\\\\python\\\\python39\\\\lib\\\\site-packages\\\\prompt_toolkit\\\\input\\\\base.py'>,\n",
       " 'prompt_toolkit.input.defaults': <module 'prompt_toolkit.input.defaults' from 'c:\\\\users\\\\rhie\\\\appdata\\\\local\\\\programs\\\\python\\\\python39\\\\lib\\\\site-packages\\\\prompt_toolkit\\\\input\\\\defaults.py'>,\n",
       " 'prompt_toolkit.input': <module 'prompt_toolkit.input' from 'c:\\\\users\\\\rhie\\\\appdata\\\\local\\\\programs\\\\python\\\\python39\\\\lib\\\\site-packages\\\\prompt_toolkit\\\\input\\\\__init__.py'>,\n",
       " 'prompt_toolkit.input.typeahead': <module 'prompt_toolkit.input.typeahead' from 'c:\\\\users\\\\rhie\\\\appdata\\\\local\\\\programs\\\\python\\\\python39\\\\lib\\\\site-packages\\\\prompt_toolkit\\\\input\\\\typeahead.py'>,\n",
       " 'prompt_toolkit.key_binding.bindings': <module 'prompt_toolkit.key_binding.bindings' from 'c:\\\\users\\\\rhie\\\\appdata\\\\local\\\\programs\\\\python\\\\python39\\\\lib\\\\site-packages\\\\prompt_toolkit\\\\key_binding\\\\bindings\\\\__init__.py'>,\n",
       " 'prompt_toolkit.key_binding.bindings.scroll': <module 'prompt_toolkit.key_binding.bindings.scroll' from 'c:\\\\users\\\\rhie\\\\appdata\\\\local\\\\programs\\\\python\\\\python39\\\\lib\\\\site-packages\\\\prompt_toolkit\\\\key_binding\\\\bindings\\\\scroll.py'>,\n",
       " 'prompt_toolkit.key_binding.bindings.page_navigation': <module 'prompt_toolkit.key_binding.bindings.page_navigation' from 'c:\\\\users\\\\rhie\\\\appdata\\\\local\\\\programs\\\\python\\\\python39\\\\lib\\\\site-packages\\\\prompt_toolkit\\\\key_binding\\\\bindings\\\\page_navigation.py'>,\n",
       " 'prompt_toolkit.lexers.base': <module 'prompt_toolkit.lexers.base' from 'c:\\\\users\\\\rhie\\\\appdata\\\\local\\\\programs\\\\python\\\\python39\\\\lib\\\\site-packages\\\\prompt_toolkit\\\\lexers\\\\base.py'>,\n",
       " 'prompt_toolkit.lexers.pygments': <module 'prompt_toolkit.lexers.pygments' from 'c:\\\\users\\\\rhie\\\\appdata\\\\local\\\\programs\\\\python\\\\python39\\\\lib\\\\site-packages\\\\prompt_toolkit\\\\lexers\\\\pygments.py'>,\n",
       " 'prompt_toolkit.lexers': <module 'prompt_toolkit.lexers' from 'c:\\\\users\\\\rhie\\\\appdata\\\\local\\\\programs\\\\python\\\\python39\\\\lib\\\\site-packages\\\\prompt_toolkit\\\\lexers\\\\__init__.py'>,\n",
       " 'prompt_toolkit.layout.utils': <module 'prompt_toolkit.layout.utils' from 'c:\\\\users\\\\rhie\\\\appdata\\\\local\\\\programs\\\\python\\\\python39\\\\lib\\\\site-packages\\\\prompt_toolkit\\\\layout\\\\utils.py'>,\n",
       " 'prompt_toolkit.layout.processors': <module 'prompt_toolkit.layout.processors' from 'c:\\\\users\\\\rhie\\\\appdata\\\\local\\\\programs\\\\python\\\\python39\\\\lib\\\\site-packages\\\\prompt_toolkit\\\\layout\\\\processors.py'>,\n",
       " 'prompt_toolkit.layout.controls': <module 'prompt_toolkit.layout.controls' from 'c:\\\\users\\\\rhie\\\\appdata\\\\local\\\\programs\\\\python\\\\python39\\\\lib\\\\site-packages\\\\prompt_toolkit\\\\layout\\\\controls.py'>,\n",
       " 'prompt_toolkit.layout.dimension': <module 'prompt_toolkit.layout.dimension' from 'c:\\\\users\\\\rhie\\\\appdata\\\\local\\\\programs\\\\python\\\\python39\\\\lib\\\\site-packages\\\\prompt_toolkit\\\\layout\\\\dimension.py'>,\n",
       " 'prompt_toolkit.layout.margins': <module 'prompt_toolkit.layout.margins' from 'c:\\\\users\\\\rhie\\\\appdata\\\\local\\\\programs\\\\python\\\\python39\\\\lib\\\\site-packages\\\\prompt_toolkit\\\\layout\\\\margins.py'>,\n",
       " 'prompt_toolkit.layout.mouse_handlers': <module 'prompt_toolkit.layout.mouse_handlers' from 'c:\\\\users\\\\rhie\\\\appdata\\\\local\\\\programs\\\\python\\\\python39\\\\lib\\\\site-packages\\\\prompt_toolkit\\\\layout\\\\mouse_handlers.py'>,\n",
       " 'prompt_toolkit.layout.screen': <module 'prompt_toolkit.layout.screen' from 'c:\\\\users\\\\rhie\\\\appdata\\\\local\\\\programs\\\\python\\\\python39\\\\lib\\\\site-packages\\\\prompt_toolkit\\\\layout\\\\screen.py'>,\n",
       " 'prompt_toolkit.layout.containers': <module 'prompt_toolkit.layout.containers' from 'c:\\\\users\\\\rhie\\\\appdata\\\\local\\\\programs\\\\python\\\\python39\\\\lib\\\\site-packages\\\\prompt_toolkit\\\\layout\\\\containers.py'>,\n",
       " 'prompt_toolkit.layout.layout': <module 'prompt_toolkit.layout.layout' from 'c:\\\\users\\\\rhie\\\\appdata\\\\local\\\\programs\\\\python\\\\python39\\\\lib\\\\site-packages\\\\prompt_toolkit\\\\layout\\\\layout.py'>,\n",
       " 'prompt_toolkit.layout.menus': <module 'prompt_toolkit.layout.menus' from 'c:\\\\users\\\\rhie\\\\appdata\\\\local\\\\programs\\\\python\\\\python39\\\\lib\\\\site-packages\\\\prompt_toolkit\\\\layout\\\\menus.py'>,\n",
       " 'prompt_toolkit.layout.scrollable_pane': <module 'prompt_toolkit.layout.scrollable_pane' from 'c:\\\\users\\\\rhie\\\\appdata\\\\local\\\\programs\\\\python\\\\python39\\\\lib\\\\site-packages\\\\prompt_toolkit\\\\layout\\\\scrollable_pane.py'>,\n",
       " 'prompt_toolkit.layout': <module 'prompt_toolkit.layout' from 'c:\\\\users\\\\rhie\\\\appdata\\\\local\\\\programs\\\\python\\\\python39\\\\lib\\\\site-packages\\\\prompt_toolkit\\\\layout\\\\__init__.py'>,\n",
       " 'prompt_toolkit.key_binding.bindings.completion': <module 'prompt_toolkit.key_binding.bindings.completion' from 'c:\\\\users\\\\rhie\\\\appdata\\\\local\\\\programs\\\\python\\\\python39\\\\lib\\\\site-packages\\\\prompt_toolkit\\\\key_binding\\\\bindings\\\\completion.py'>,\n",
       " 'prompt_toolkit.key_binding.bindings.named_commands': <module 'prompt_toolkit.key_binding.bindings.named_commands' from 'c:\\\\users\\\\rhie\\\\appdata\\\\local\\\\programs\\\\python\\\\python39\\\\lib\\\\site-packages\\\\prompt_toolkit\\\\key_binding\\\\bindings\\\\named_commands.py'>,\n",
       " 'prompt_toolkit.key_binding.bindings.basic': <module 'prompt_toolkit.key_binding.bindings.basic' from 'c:\\\\users\\\\rhie\\\\appdata\\\\local\\\\programs\\\\python\\\\python39\\\\lib\\\\site-packages\\\\prompt_toolkit\\\\key_binding\\\\bindings\\\\basic.py'>,\n",
       " 'prompt_toolkit.key_binding.bindings.cpr': <module 'prompt_toolkit.key_binding.bindings.cpr' from 'c:\\\\users\\\\rhie\\\\appdata\\\\local\\\\programs\\\\python\\\\python39\\\\lib\\\\site-packages\\\\prompt_toolkit\\\\key_binding\\\\bindings\\\\cpr.py'>,\n",
       " 'prompt_toolkit.key_binding.bindings.emacs': <module 'prompt_toolkit.key_binding.bindings.emacs' from 'c:\\\\users\\\\rhie\\\\appdata\\\\local\\\\programs\\\\python\\\\python39\\\\lib\\\\site-packages\\\\prompt_toolkit\\\\key_binding\\\\bindings\\\\emacs.py'>,\n",
       " 'prompt_toolkit.key_binding.bindings.mouse': <module 'prompt_toolkit.key_binding.bindings.mouse' from 'c:\\\\users\\\\rhie\\\\appdata\\\\local\\\\programs\\\\python\\\\python39\\\\lib\\\\site-packages\\\\prompt_toolkit\\\\key_binding\\\\bindings\\\\mouse.py'>,\n",
       " 'prompt_toolkit.input.ansi_escape_sequences': <module 'prompt_toolkit.input.ansi_escape_sequences' from 'c:\\\\users\\\\rhie\\\\appdata\\\\local\\\\programs\\\\python\\\\python39\\\\lib\\\\site-packages\\\\prompt_toolkit\\\\input\\\\ansi_escape_sequences.py'>,\n",
       " 'prompt_toolkit.input.vt100_parser': <module 'prompt_toolkit.input.vt100_parser' from 'c:\\\\users\\\\rhie\\\\appdata\\\\local\\\\programs\\\\python\\\\python39\\\\lib\\\\site-packages\\\\prompt_toolkit\\\\input\\\\vt100_parser.py'>,\n",
       " 'prompt_toolkit.key_binding.digraphs': <module 'prompt_toolkit.key_binding.digraphs' from 'c:\\\\users\\\\rhie\\\\appdata\\\\local\\\\programs\\\\python\\\\python39\\\\lib\\\\site-packages\\\\prompt_toolkit\\\\key_binding\\\\digraphs.py'>,\n",
       " 'prompt_toolkit.key_binding.bindings.vi': <module 'prompt_toolkit.key_binding.bindings.vi' from 'c:\\\\users\\\\rhie\\\\appdata\\\\local\\\\programs\\\\python\\\\python39\\\\lib\\\\site-packages\\\\prompt_toolkit\\\\key_binding\\\\bindings\\\\vi.py'>,\n",
       " 'prompt_toolkit.key_binding.defaults': <module 'prompt_toolkit.key_binding.defaults' from 'c:\\\\users\\\\rhie\\\\appdata\\\\local\\\\programs\\\\python\\\\python39\\\\lib\\\\site-packages\\\\prompt_toolkit\\\\key_binding\\\\defaults.py'>,\n",
       " 'prompt_toolkit.key_binding.emacs_state': <module 'prompt_toolkit.key_binding.emacs_state' from 'c:\\\\users\\\\rhie\\\\appdata\\\\local\\\\programs\\\\python\\\\python39\\\\lib\\\\site-packages\\\\prompt_toolkit\\\\key_binding\\\\emacs_state.py'>,\n",
       " 'prompt_toolkit.layout.dummy': <module 'prompt_toolkit.layout.dummy' from 'c:\\\\users\\\\rhie\\\\appdata\\\\local\\\\programs\\\\python\\\\python39\\\\lib\\\\site-packages\\\\prompt_toolkit\\\\layout\\\\dummy.py'>,\n",
       " 'prompt_toolkit.renderer': <module 'prompt_toolkit.renderer' from 'c:\\\\users\\\\rhie\\\\appdata\\\\local\\\\programs\\\\python\\\\python39\\\\lib\\\\site-packages\\\\prompt_toolkit\\\\renderer.py'>,\n",
       " 'prompt_toolkit.application.application': <module 'prompt_toolkit.application.application' from 'c:\\\\users\\\\rhie\\\\appdata\\\\local\\\\programs\\\\python\\\\python39\\\\lib\\\\site-packages\\\\prompt_toolkit\\\\application\\\\application.py'>,\n",
       " 'prompt_toolkit.application.dummy': <module 'prompt_toolkit.application.dummy' from 'c:\\\\users\\\\rhie\\\\appdata\\\\local\\\\programs\\\\python\\\\python39\\\\lib\\\\site-packages\\\\prompt_toolkit\\\\application\\\\dummy.py'>,\n",
       " 'prompt_toolkit.application': <module 'prompt_toolkit.application' from 'c:\\\\users\\\\rhie\\\\appdata\\\\local\\\\programs\\\\python\\\\python39\\\\lib\\\\site-packages\\\\prompt_toolkit\\\\application\\\\__init__.py'>,\n",
       " 'prompt_toolkit.key_binding.bindings.focus': <module 'prompt_toolkit.key_binding.bindings.focus' from 'c:\\\\users\\\\rhie\\\\appdata\\\\local\\\\programs\\\\python\\\\python39\\\\lib\\\\site-packages\\\\prompt_toolkit\\\\key_binding\\\\bindings\\\\focus.py'>,\n",
       " 'prompt_toolkit.widgets.toolbars': <module 'prompt_toolkit.widgets.toolbars' from 'c:\\\\users\\\\rhie\\\\appdata\\\\local\\\\programs\\\\python\\\\python39\\\\lib\\\\site-packages\\\\prompt_toolkit\\\\widgets\\\\toolbars.py'>,\n",
       " 'prompt_toolkit.widgets.base': <module 'prompt_toolkit.widgets.base' from 'c:\\\\users\\\\rhie\\\\appdata\\\\local\\\\programs\\\\python\\\\python39\\\\lib\\\\site-packages\\\\prompt_toolkit\\\\widgets\\\\base.py'>,\n",
       " 'prompt_toolkit.widgets.dialogs': <module 'prompt_toolkit.widgets.dialogs' from 'c:\\\\users\\\\rhie\\\\appdata\\\\local\\\\programs\\\\python\\\\python39\\\\lib\\\\site-packages\\\\prompt_toolkit\\\\widgets\\\\dialogs.py'>,\n",
       " 'prompt_toolkit.widgets.menus': <module 'prompt_toolkit.widgets.menus' from 'c:\\\\users\\\\rhie\\\\appdata\\\\local\\\\programs\\\\python\\\\python39\\\\lib\\\\site-packages\\\\prompt_toolkit\\\\widgets\\\\menus.py'>,\n",
       " 'prompt_toolkit.widgets': <module 'prompt_toolkit.widgets' from 'c:\\\\users\\\\rhie\\\\appdata\\\\local\\\\programs\\\\python\\\\python39\\\\lib\\\\site-packages\\\\prompt_toolkit\\\\widgets\\\\__init__.py'>,\n",
       " 'prompt_toolkit.shortcuts.dialogs': <module 'prompt_toolkit.shortcuts.dialogs' from 'c:\\\\users\\\\rhie\\\\appdata\\\\local\\\\programs\\\\python\\\\python39\\\\lib\\\\site-packages\\\\prompt_toolkit\\\\shortcuts\\\\dialogs.py'>,\n",
       " 'prompt_toolkit.shortcuts.progress_bar.formatters': <module 'prompt_toolkit.shortcuts.progress_bar.formatters' from 'c:\\\\users\\\\rhie\\\\appdata\\\\local\\\\programs\\\\python\\\\python39\\\\lib\\\\site-packages\\\\prompt_toolkit\\\\shortcuts\\\\progress_bar\\\\formatters.py'>,\n",
       " 'prompt_toolkit.shortcuts.progress_bar.base': <module 'prompt_toolkit.shortcuts.progress_bar.base' from 'c:\\\\users\\\\rhie\\\\appdata\\\\local\\\\programs\\\\python\\\\python39\\\\lib\\\\site-packages\\\\prompt_toolkit\\\\shortcuts\\\\progress_bar\\\\base.py'>,\n",
       " 'prompt_toolkit.shortcuts.progress_bar': <module 'prompt_toolkit.shortcuts.progress_bar' from 'c:\\\\users\\\\rhie\\\\appdata\\\\local\\\\programs\\\\python\\\\python39\\\\lib\\\\site-packages\\\\prompt_toolkit\\\\shortcuts\\\\progress_bar\\\\__init__.py'>,\n",
       " 'prompt_toolkit.key_binding.bindings.auto_suggest': <module 'prompt_toolkit.key_binding.bindings.auto_suggest' from 'c:\\\\users\\\\rhie\\\\appdata\\\\local\\\\programs\\\\python\\\\python39\\\\lib\\\\site-packages\\\\prompt_toolkit\\\\key_binding\\\\bindings\\\\auto_suggest.py'>,\n",
       " 'prompt_toolkit.key_binding.bindings.open_in_editor': <module 'prompt_toolkit.key_binding.bindings.open_in_editor' from 'c:\\\\users\\\\rhie\\\\appdata\\\\local\\\\programs\\\\python\\\\python39\\\\lib\\\\site-packages\\\\prompt_toolkit\\\\key_binding\\\\bindings\\\\open_in_editor.py'>,\n",
       " 'prompt_toolkit.shortcuts.prompt': <module 'prompt_toolkit.shortcuts.prompt' from 'c:\\\\users\\\\rhie\\\\appdata\\\\local\\\\programs\\\\python\\\\python39\\\\lib\\\\site-packages\\\\prompt_toolkit\\\\shortcuts\\\\prompt.py'>,\n",
       " 'prompt_toolkit.shortcuts.utils': <module 'prompt_toolkit.shortcuts.utils' from 'c:\\\\users\\\\rhie\\\\appdata\\\\local\\\\programs\\\\python\\\\python39\\\\lib\\\\site-packages\\\\prompt_toolkit\\\\shortcuts\\\\utils.py'>,\n",
       " 'prompt_toolkit.shortcuts': <module 'prompt_toolkit.shortcuts' from 'c:\\\\users\\\\rhie\\\\appdata\\\\local\\\\programs\\\\python\\\\python39\\\\lib\\\\site-packages\\\\prompt_toolkit\\\\shortcuts\\\\__init__.py'>,\n",
       " 'prompt_toolkit': <module 'prompt_toolkit' from 'c:\\\\users\\\\rhie\\\\appdata\\\\local\\\\programs\\\\python\\\\python39\\\\lib\\\\site-packages\\\\prompt_toolkit\\\\__init__.py'>,\n",
       " '_queue': <module '_queue' from 'c:\\\\users\\\\rhie\\\\appdata\\\\local\\\\programs\\\\python\\\\python39\\\\DLLs\\\\_queue.pyd'>,\n",
       " 'queue': <module 'queue' from 'c:\\\\users\\\\rhie\\\\appdata\\\\local\\\\programs\\\\python\\\\python39\\\\lib\\\\queue.py'>,\n",
       " 'prompt_toolkit.patch_stdout': <module 'prompt_toolkit.patch_stdout' from 'c:\\\\users\\\\rhie\\\\appdata\\\\local\\\\programs\\\\python\\\\python39\\\\lib\\\\site-packages\\\\prompt_toolkit\\\\patch_stdout.py'>,\n",
       " 'pygments.style': <module 'pygments.style' from 'c:\\\\users\\\\rhie\\\\appdata\\\\local\\\\programs\\\\python\\\\python39\\\\lib\\\\site-packages\\\\pygments\\\\style.py'>,\n",
       " 'unicodedata': <module 'unicodedata' from 'c:\\\\users\\\\rhie\\\\appdata\\\\local\\\\programs\\\\python\\\\python39\\\\DLLs\\\\unicodedata.pyd'>,\n",
       " 'IPython.core.latex_symbols': <module 'IPython.core.latex_symbols' from 'c:\\\\users\\\\rhie\\\\appdata\\\\local\\\\programs\\\\python\\\\python39\\\\lib\\\\site-packages\\\\IPython\\\\core\\\\latex_symbols.py'>,\n",
       " 'IPython.utils.generics': <module 'IPython.utils.generics' from 'c:\\\\users\\\\rhie\\\\appdata\\\\local\\\\programs\\\\python\\\\python39\\\\lib\\\\site-packages\\\\IPython\\\\utils\\\\generics.py'>,\n",
       " 'parso.utils': <module 'parso.utils' from 'c:\\\\users\\\\rhie\\\\appdata\\\\local\\\\programs\\\\python\\\\python39\\\\lib\\\\site-packages\\\\parso\\\\utils.py'>,\n",
       " 'parso.tree': <module 'parso.tree' from 'c:\\\\users\\\\rhie\\\\appdata\\\\local\\\\programs\\\\python\\\\python39\\\\lib\\\\site-packages\\\\parso\\\\tree.py'>,\n",
       " 'parso.python': <module 'parso.python' from 'c:\\\\users\\\\rhie\\\\appdata\\\\local\\\\programs\\\\python\\\\python39\\\\lib\\\\site-packages\\\\parso\\\\python\\\\__init__.py'>,\n",
       " 'parso.python.token': <module 'parso.python.token' from 'c:\\\\users\\\\rhie\\\\appdata\\\\local\\\\programs\\\\python\\\\python39\\\\lib\\\\site-packages\\\\parso\\\\python\\\\token.py'>,\n",
       " 'parso.python.tokenize': <module 'parso.python.tokenize' from 'c:\\\\users\\\\rhie\\\\appdata\\\\local\\\\programs\\\\python\\\\python39\\\\lib\\\\site-packages\\\\parso\\\\python\\\\tokenize.py'>,\n",
       " 'parso.pgen2.grammar_parser': <module 'parso.pgen2.grammar_parser' from 'c:\\\\users\\\\rhie\\\\appdata\\\\local\\\\programs\\\\python\\\\python39\\\\lib\\\\site-packages\\\\parso\\\\pgen2\\\\grammar_parser.py'>,\n",
       " 'parso.pgen2.generator': <module 'parso.pgen2.generator' from 'c:\\\\users\\\\rhie\\\\appdata\\\\local\\\\programs\\\\python\\\\python39\\\\lib\\\\site-packages\\\\parso\\\\pgen2\\\\generator.py'>,\n",
       " 'parso.pgen2': <module 'parso.pgen2' from 'c:\\\\users\\\\rhie\\\\appdata\\\\local\\\\programs\\\\python\\\\python39\\\\lib\\\\site-packages\\\\parso\\\\pgen2\\\\__init__.py'>,\n",
       " 'parso.parser': <module 'parso.parser' from 'c:\\\\users\\\\rhie\\\\appdata\\\\local\\\\programs\\\\python\\\\python39\\\\lib\\\\site-packages\\\\parso\\\\parser.py'>,\n",
       " 'parso._compatibility': <module 'parso._compatibility' from 'c:\\\\users\\\\rhie\\\\appdata\\\\local\\\\programs\\\\python\\\\python39\\\\lib\\\\site-packages\\\\parso\\\\_compatibility.py'>,\n",
       " 'difflib': <module 'difflib' from 'c:\\\\users\\\\rhie\\\\appdata\\\\local\\\\programs\\\\python\\\\python39\\\\lib\\\\difflib.py'>,\n",
       " 'parso.python.prefix': <module 'parso.python.prefix' from 'c:\\\\users\\\\rhie\\\\appdata\\\\local\\\\programs\\\\python\\\\python39\\\\lib\\\\site-packages\\\\parso\\\\python\\\\prefix.py'>,\n",
       " 'parso.python.tree': <module 'parso.python.tree' from 'c:\\\\users\\\\rhie\\\\appdata\\\\local\\\\programs\\\\python\\\\python39\\\\lib\\\\site-packages\\\\parso\\\\python\\\\tree.py'>,\n",
       " 'parso.python.parser': <module 'parso.python.parser' from 'c:\\\\users\\\\rhie\\\\appdata\\\\local\\\\programs\\\\python\\\\python39\\\\lib\\\\site-packages\\\\parso\\\\python\\\\parser.py'>,\n",
       " 'parso.python.diff': <module 'parso.python.diff' from 'c:\\\\users\\\\rhie\\\\appdata\\\\local\\\\programs\\\\python\\\\python39\\\\lib\\\\site-packages\\\\parso\\\\python\\\\diff.py'>,\n",
       " 'gc': <module 'gc' (built-in)>,\n",
       " 'parso.cache': <module 'parso.cache' from 'c:\\\\users\\\\rhie\\\\appdata\\\\local\\\\programs\\\\python\\\\python39\\\\lib\\\\site-packages\\\\parso\\\\cache.py'>,\n",
       " 'parso.normalizer': <module 'parso.normalizer' from 'c:\\\\users\\\\rhie\\\\appdata\\\\local\\\\programs\\\\python\\\\python39\\\\lib\\\\site-packages\\\\parso\\\\normalizer.py'>,\n",
       " 'parso.python.errors': <module 'parso.python.errors' from 'c:\\\\users\\\\rhie\\\\appdata\\\\local\\\\programs\\\\python\\\\python39\\\\lib\\\\site-packages\\\\parso\\\\python\\\\errors.py'>,\n",
       " 'parso.python.pep8': <module 'parso.python.pep8' from 'c:\\\\users\\\\rhie\\\\appdata\\\\local\\\\programs\\\\python\\\\python39\\\\lib\\\\site-packages\\\\parso\\\\python\\\\pep8.py'>,\n",
       " 'parso.file_io': <module 'parso.file_io' from 'c:\\\\users\\\\rhie\\\\appdata\\\\local\\\\programs\\\\python\\\\python39\\\\lib\\\\site-packages\\\\parso\\\\file_io.py'>,\n",
       " 'parso.grammar': <module 'parso.grammar' from 'c:\\\\users\\\\rhie\\\\appdata\\\\local\\\\programs\\\\python\\\\python39\\\\lib\\\\site-packages\\\\parso\\\\grammar.py'>,\n",
       " 'parso': <module 'parso' from 'c:\\\\users\\\\rhie\\\\appdata\\\\local\\\\programs\\\\python\\\\python39\\\\lib\\\\site-packages\\\\parso\\\\__init__.py'>,\n",
       " 'jedi._compatibility': <module 'jedi._compatibility' from 'c:\\\\users\\\\rhie\\\\appdata\\\\local\\\\programs\\\\python\\\\python39\\\\lib\\\\site-packages\\\\jedi\\\\_compatibility.py'>,\n",
       " 'jedi.parser_utils': <module 'jedi.parser_utils' from 'c:\\\\users\\\\rhie\\\\appdata\\\\local\\\\programs\\\\python\\\\python39\\\\lib\\\\site-packages\\\\jedi\\\\parser_utils.py'>,\n",
       " 'jedi.debug': <module 'jedi.debug' from 'c:\\\\users\\\\rhie\\\\appdata\\\\local\\\\programs\\\\python\\\\python39\\\\lib\\\\site-packages\\\\jedi\\\\debug.py'>,\n",
       " 'jedi.settings': <module 'jedi.settings' from 'c:\\\\users\\\\rhie\\\\appdata\\\\local\\\\programs\\\\python\\\\python39\\\\lib\\\\site-packages\\\\jedi\\\\settings.py'>,\n",
       " 'jedi.cache': <module 'jedi.cache' from 'c:\\\\users\\\\rhie\\\\appdata\\\\local\\\\programs\\\\python\\\\python39\\\\lib\\\\site-packages\\\\jedi\\\\cache.py'>,\n",
       " 'jedi.file_io': <module 'jedi.file_io' from 'c:\\\\users\\\\rhie\\\\appdata\\\\local\\\\programs\\\\python\\\\python39\\\\lib\\\\site-packages\\\\jedi\\\\file_io.py'>,\n",
       " 'jedi.inference.cache': <module 'jedi.inference.cache' from 'c:\\\\users\\\\rhie\\\\appdata\\\\local\\\\programs\\\\python\\\\python39\\\\lib\\\\site-packages\\\\jedi\\\\inference\\\\cache.py'>,\n",
       " 'jedi.inference.helpers': <module 'jedi.inference.helpers' from 'c:\\\\users\\\\rhie\\\\appdata\\\\local\\\\programs\\\\python\\\\python39\\\\lib\\\\site-packages\\\\jedi\\\\inference\\\\helpers.py'>,\n",
       " 'jedi.inference.utils': <module 'jedi.inference.utils' from 'c:\\\\users\\\\rhie\\\\appdata\\\\local\\\\programs\\\\python\\\\python39\\\\lib\\\\site-packages\\\\jedi\\\\inference\\\\utils.py'>,\n",
       " 'jedi.inference.base_value': <module 'jedi.inference.base_value' from 'c:\\\\users\\\\rhie\\\\appdata\\\\local\\\\programs\\\\python\\\\python39\\\\lib\\\\site-packages\\\\jedi\\\\inference\\\\base_value.py'>,\n",
       " 'jedi.inference.sys_path': <module 'jedi.inference.sys_path' from 'c:\\\\users\\\\rhie\\\\appdata\\\\local\\\\programs\\\\python\\\\python39\\\\lib\\\\site-packages\\\\jedi\\\\inference\\\\sys_path.py'>,\n",
       " 'jedi.inference.recursion': <module 'jedi.inference.recursion' from 'c:\\\\users\\\\rhie\\\\appdata\\\\local\\\\programs\\\\python\\\\python39\\\\lib\\\\site-packages\\\\jedi\\\\inference\\\\recursion.py'>,\n",
       " 'jedi.inference.flow_analysis': <module 'jedi.inference.flow_analysis' from 'c:\\\\users\\\\rhie\\\\appdata\\\\local\\\\programs\\\\python\\\\python39\\\\lib\\\\site-packages\\\\jedi\\\\inference\\\\flow_analysis.py'>,\n",
       " 'jedi.common': <module 'jedi.common' from 'c:\\\\users\\\\rhie\\\\appdata\\\\local\\\\programs\\\\python\\\\python39\\\\lib\\\\site-packages\\\\jedi\\\\common.py'>,\n",
       " 'jedi.inference.lazy_value': <module 'jedi.inference.lazy_value' from 'c:\\\\users\\\\rhie\\\\appdata\\\\local\\\\programs\\\\python\\\\python39\\\\lib\\\\site-packages\\\\jedi\\\\inference\\\\lazy_value.py'>,\n",
       " 'jedi.inference.docstrings': <module 'jedi.inference.docstrings' from 'c:\\\\users\\\\rhie\\\\appdata\\\\local\\\\programs\\\\python\\\\python39\\\\lib\\\\site-packages\\\\jedi\\\\inference\\\\docstrings.py'>,\n",
       " 'jedi.plugins': <module 'jedi.plugins' from 'c:\\\\users\\\\rhie\\\\appdata\\\\local\\\\programs\\\\python\\\\python39\\\\lib\\\\site-packages\\\\jedi\\\\plugins\\\\__init__.py'>,\n",
       " 'jedi.inference.names': <module 'jedi.inference.names' from 'c:\\\\users\\\\rhie\\\\appdata\\\\local\\\\programs\\\\python\\\\python39\\\\lib\\\\site-packages\\\\jedi\\\\inference\\\\names.py'>,\n",
       " 'jedi.inference.filters': <module 'jedi.inference.filters' from 'c:\\\\users\\\\rhie\\\\appdata\\\\local\\\\programs\\\\python\\\\python39\\\\lib\\\\site-packages\\\\jedi\\\\inference\\\\filters.py'>,\n",
       " 'jedi.inference.compiled.getattr_static': <module 'jedi.inference.compiled.getattr_static' from 'c:\\\\users\\\\rhie\\\\appdata\\\\local\\\\programs\\\\python\\\\python39\\\\lib\\\\site-packages\\\\jedi\\\\inference\\\\compiled\\\\getattr_static.py'>,\n",
       " 'jedi.inference.compiled.access': <module 'jedi.inference.compiled.access' from 'c:\\\\users\\\\rhie\\\\appdata\\\\local\\\\programs\\\\python\\\\python39\\\\lib\\\\site-packages\\\\jedi\\\\inference\\\\compiled\\\\access.py'>,\n",
       " 'jedi.inference.signature': <module 'jedi.inference.signature' from 'c:\\\\users\\\\rhie\\\\appdata\\\\local\\\\programs\\\\python\\\\python39\\\\lib\\\\site-packages\\\\jedi\\\\inference\\\\signature.py'>,\n",
       " 'jedi.inference.context': <module 'jedi.inference.context' from 'c:\\\\users\\\\rhie\\\\appdata\\\\local\\\\programs\\\\python\\\\python39\\\\lib\\\\site-packages\\\\jedi\\\\inference\\\\context.py'>,\n",
       " 'jedi.inference.compiled.value': <module 'jedi.inference.compiled.value' from 'c:\\\\users\\\\rhie\\\\appdata\\\\local\\\\programs\\\\python\\\\python39\\\\lib\\\\site-packages\\\\jedi\\\\inference\\\\compiled\\\\value.py'>,\n",
       " 'jedi.inference.compiled': <module 'jedi.inference.compiled' from 'c:\\\\users\\\\rhie\\\\appdata\\\\local\\\\programs\\\\python\\\\python39\\\\lib\\\\site-packages\\\\jedi\\\\inference\\\\compiled\\\\__init__.py'>,\n",
       " 'jedi.inference.analysis': <module 'jedi.inference.analysis' from 'c:\\\\users\\\\rhie\\\\appdata\\\\local\\\\programs\\\\python\\\\python39\\\\lib\\\\site-packages\\\\jedi\\\\inference\\\\analysis.py'>,\n",
       " 'jedi.inference.gradual': <module 'jedi.inference.gradual' from 'c:\\\\users\\\\rhie\\\\appdata\\\\local\\\\programs\\\\python\\\\python39\\\\lib\\\\site-packages\\\\jedi\\\\inference\\\\gradual\\\\__init__.py'>,\n",
       " 'jedi.inference.value.module': <module 'jedi.inference.value.module' from 'c:\\\\users\\\\rhie\\\\appdata\\\\local\\\\programs\\\\python\\\\python39\\\\lib\\\\site-packages\\\\jedi\\\\inference\\\\value\\\\module.py'>,\n",
       " 'jedi.inference.value.dynamic_arrays': <module 'jedi.inference.value.dynamic_arrays' from 'c:\\\\users\\\\rhie\\\\appdata\\\\local\\\\programs\\\\python\\\\python39\\\\lib\\\\site-packages\\\\jedi\\\\inference\\\\value\\\\dynamic_arrays.py'>,\n",
       " 'jedi.inference.value.iterable': <module 'jedi.inference.value.iterable' from 'c:\\\\users\\\\rhie\\\\appdata\\\\local\\\\programs\\\\python\\\\python39\\\\lib\\\\site-packages\\\\jedi\\\\inference\\\\value\\\\iterable.py'>,\n",
       " 'jedi.inference.arguments': <module 'jedi.inference.arguments' from 'c:\\\\users\\\\rhie\\\\appdata\\\\local\\\\programs\\\\python\\\\python39\\\\lib\\\\site-packages\\\\jedi\\\\inference\\\\arguments.py'>,\n",
       " 'jedi.inference.parser_cache': <module 'jedi.inference.parser_cache' from 'c:\\\\users\\\\rhie\\\\appdata\\\\local\\\\programs\\\\python\\\\python39\\\\lib\\\\site-packages\\\\jedi\\\\inference\\\\parser_cache.py'>,\n",
       " 'jedi.inference.gradual.generics': <module 'jedi.inference.gradual.generics' from 'c:\\\\users\\\\rhie\\\\appdata\\\\local\\\\programs\\\\python\\\\python39\\\\lib\\\\site-packages\\\\jedi\\\\inference\\\\gradual\\\\generics.py'>,\n",
       " 'jedi.inference.value.function': <module 'jedi.inference.value.function' from 'c:\\\\users\\\\rhie\\\\appdata\\\\local\\\\programs\\\\python\\\\python39\\\\lib\\\\site-packages\\\\jedi\\\\inference\\\\value\\\\function.py'>,\n",
       " 'jedi.inference.value.klass': <module 'jedi.inference.value.klass' from 'c:\\\\users\\\\rhie\\\\appdata\\\\local\\\\programs\\\\python\\\\python39\\\\lib\\\\site-packages\\\\jedi\\\\inference\\\\value\\\\klass.py'>,\n",
       " 'jedi.inference.value.instance': <module 'jedi.inference.value.instance' from 'c:\\\\users\\\\rhie\\\\appdata\\\\local\\\\programs\\\\python\\\\python39\\\\lib\\\\site-packages\\\\jedi\\\\inference\\\\value\\\\instance.py'>,\n",
       " 'jedi.inference.value': <module 'jedi.inference.value' from 'c:\\\\users\\\\rhie\\\\appdata\\\\local\\\\programs\\\\python\\\\python39\\\\lib\\\\site-packages\\\\jedi\\\\inference\\\\value\\\\__init__.py'>,\n",
       " 'jedi.inference.gradual.base': <module 'jedi.inference.gradual.base' from 'c:\\\\users\\\\rhie\\\\appdata\\\\local\\\\programs\\\\python\\\\python39\\\\lib\\\\site-packages\\\\jedi\\\\inference\\\\gradual\\\\base.py'>,\n",
       " 'jedi.inference.gradual.type_var': <module 'jedi.inference.gradual.type_var' from 'c:\\\\users\\\\rhie\\\\appdata\\\\local\\\\programs\\\\python\\\\python39\\\\lib\\\\site-packages\\\\jedi\\\\inference\\\\gradual\\\\type_var.py'>,\n",
       " 'jedi.inference.gradual.typing': <module 'jedi.inference.gradual.typing' from 'c:\\\\users\\\\rhie\\\\appdata\\\\local\\\\programs\\\\python\\\\python39\\\\lib\\\\site-packages\\\\jedi\\\\inference\\\\gradual\\\\typing.py'>,\n",
       " 'jedi.inference.gradual.stub_value': <module 'jedi.inference.gradual.stub_value' from 'c:\\\\users\\\\rhie\\\\appdata\\\\local\\\\programs\\\\python\\\\python39\\\\lib\\\\site-packages\\\\jedi\\\\inference\\\\gradual\\\\stub_value.py'>,\n",
       " 'jedi.inference.gradual.typeshed': <module 'jedi.inference.gradual.typeshed' from 'c:\\\\users\\\\rhie\\\\appdata\\\\local\\\\programs\\\\python\\\\python39\\\\lib\\\\site-packages\\\\jedi\\\\inference\\\\gradual\\\\typeshed.py'>,\n",
       " 'jedi.inference.compiled.subprocess.functions': <module 'jedi.inference.compiled.subprocess.functions' from 'c:\\\\users\\\\rhie\\\\appdata\\\\local\\\\programs\\\\python\\\\python39\\\\lib\\\\site-packages\\\\jedi\\\\inference\\\\compiled\\\\subprocess\\\\functions.py'>,\n",
       " 'jedi.api.exceptions': <module 'jedi.api.exceptions' from 'c:\\\\users\\\\rhie\\\\appdata\\\\local\\\\programs\\\\python\\\\python39\\\\lib\\\\site-packages\\\\jedi\\\\api\\\\exceptions.py'>,\n",
       " 'jedi.inference.compiled.subprocess': <module 'jedi.inference.compiled.subprocess' from 'c:\\\\users\\\\rhie\\\\appdata\\\\local\\\\programs\\\\python\\\\python39\\\\lib\\\\site-packages\\\\jedi\\\\inference\\\\compiled\\\\subprocess\\\\__init__.py'>,\n",
       " 'jedi.inference.imports': <module 'jedi.inference.imports' from 'c:\\\\users\\\\rhie\\\\appdata\\\\local\\\\programs\\\\python\\\\python39\\\\lib\\\\site-packages\\\\jedi\\\\inference\\\\imports.py'>,\n",
       " 'jedi.inference.param': <module 'jedi.inference.param' from 'c:\\\\users\\\\rhie\\\\appdata\\\\local\\\\programs\\\\python\\\\python39\\\\lib\\\\site-packages\\\\jedi\\\\inference\\\\param.py'>,\n",
       " 'jedi.inference.gradual.annotation': <module 'jedi.inference.gradual.annotation' from 'c:\\\\users\\\\rhie\\\\appdata\\\\local\\\\programs\\\\python\\\\python39\\\\lib\\\\site-packages\\\\jedi\\\\inference\\\\gradual\\\\annotation.py'>,\n",
       " 'jedi.inference.value.decorator': <module 'jedi.inference.value.decorator' from 'c:\\\\users\\\\rhie\\\\appdata\\\\local\\\\programs\\\\python\\\\python39\\\\lib\\\\site-packages\\\\jedi\\\\inference\\\\value\\\\decorator.py'>,\n",
       " 'jedi.inference.syntax_tree': <module 'jedi.inference.syntax_tree' from 'c:\\\\users\\\\rhie\\\\appdata\\\\local\\\\programs\\\\python\\\\python39\\\\lib\\\\site-packages\\\\jedi\\\\inference\\\\syntax_tree.py'>,\n",
       " 'jedi.inference': <module 'jedi.inference' from 'c:\\\\users\\\\rhie\\\\appdata\\\\local\\\\programs\\\\python\\\\python39\\\\lib\\\\site-packages\\\\jedi\\\\inference\\\\__init__.py'>,\n",
       " 'jedi.inference.gradual.conversion': <module 'jedi.inference.gradual.conversion' from 'c:\\\\users\\\\rhie\\\\appdata\\\\local\\\\programs\\\\python\\\\python39\\\\lib\\\\site-packages\\\\jedi\\\\inference\\\\gradual\\\\conversion.py'>,\n",
       " 'jedi.inference.compiled.mixed': <module 'jedi.inference.compiled.mixed' from 'c:\\\\users\\\\rhie\\\\appdata\\\\local\\\\programs\\\\python\\\\python39\\\\lib\\\\site-packages\\\\jedi\\\\inference\\\\compiled\\\\mixed.py'>,\n",
       " 'pydoc_data': <module 'pydoc_data' from 'c:\\\\users\\\\rhie\\\\appdata\\\\local\\\\programs\\\\python\\\\python39\\\\lib\\\\pydoc_data\\\\__init__.py'>,\n",
       " 'pydoc_data.topics': <module 'pydoc_data.topics' from 'c:\\\\users\\\\rhie\\\\appdata\\\\local\\\\programs\\\\python\\\\python39\\\\lib\\\\pydoc_data\\\\topics.py'>,\n",
       " 'jedi.api.keywords': <module 'jedi.api.keywords' from 'c:\\\\users\\\\rhie\\\\appdata\\\\local\\\\programs\\\\python\\\\python39\\\\lib\\\\site-packages\\\\jedi\\\\api\\\\keywords.py'>,\n",
       " 'jedi.api.completion_cache': <module 'jedi.api.completion_cache' from 'c:\\\\users\\\\rhie\\\\appdata\\\\local\\\\programs\\\\python\\\\python39\\\\lib\\\\site-packages\\\\jedi\\\\api\\\\completion_cache.py'>,\n",
       " 'jedi.api.helpers': <module 'jedi.api.helpers' from 'c:\\\\users\\\\rhie\\\\appdata\\\\local\\\\programs\\\\python\\\\python39\\\\lib\\\\site-packages\\\\jedi\\\\api\\\\helpers.py'>,\n",
       " 'jedi.api.classes': <module 'jedi.api.classes' from 'c:\\\\users\\\\rhie\\\\appdata\\\\local\\\\programs\\\\python\\\\python39\\\\lib\\\\site-packages\\\\jedi\\\\api\\\\classes.py'>,\n",
       " 'jedi.api.interpreter': <module 'jedi.api.interpreter' from 'c:\\\\users\\\\rhie\\\\appdata\\\\local\\\\programs\\\\python\\\\python39\\\\lib\\\\site-packages\\\\jedi\\\\api\\\\interpreter.py'>,\n",
       " 'jedi.api.strings': <module 'jedi.api.strings' from 'c:\\\\users\\\\rhie\\\\appdata\\\\local\\\\programs\\\\python\\\\python39\\\\lib\\\\site-packages\\\\jedi\\\\api\\\\strings.py'>,\n",
       " 'jedi.api.file_name': <module 'jedi.api.file_name' from 'c:\\\\users\\\\rhie\\\\appdata\\\\local\\\\programs\\\\python\\\\python39\\\\lib\\\\site-packages\\\\jedi\\\\api\\\\file_name.py'>,\n",
       " 'jedi.api.completion': <module 'jedi.api.completion' from 'c:\\\\users\\\\rhie\\\\appdata\\\\local\\\\programs\\\\python\\\\python39\\\\lib\\\\site-packages\\\\jedi\\\\api\\\\completion.py'>,\n",
       " 'filecmp': <module 'filecmp' from 'c:\\\\users\\\\rhie\\\\appdata\\\\local\\\\programs\\\\python\\\\python39\\\\lib\\\\filecmp.py'>,\n",
       " 'jedi.api.environment': <module 'jedi.api.environment' from 'c:\\\\users\\\\rhie\\\\appdata\\\\local\\\\programs\\\\python\\\\python39\\\\lib\\\\site-packages\\\\jedi\\\\api\\\\environment.py'>,\n",
       " 'jedi.inference.references': <module 'jedi.inference.references' from 'c:\\\\users\\\\rhie\\\\appdata\\\\local\\\\programs\\\\python\\\\python39\\\\lib\\\\site-packages\\\\jedi\\\\inference\\\\references.py'>,\n",
       " 'jedi.api.project': <module 'jedi.api.project' from 'c:\\\\users\\\\rhie\\\\appdata\\\\local\\\\programs\\\\python\\\\python39\\\\lib\\\\site-packages\\\\jedi\\\\api\\\\project.py'>,\n",
       " 'jedi.api.errors': <module 'jedi.api.errors' from 'c:\\\\users\\\\rhie\\\\appdata\\\\local\\\\programs\\\\python\\\\python39\\\\lib\\\\site-packages\\\\jedi\\\\api\\\\errors.py'>,\n",
       " 'jedi.api.refactoring': <module 'jedi.api.refactoring' from 'c:\\\\users\\\\rhie\\\\appdata\\\\local\\\\programs\\\\python\\\\python39\\\\lib\\\\site-packages\\\\jedi\\\\api\\\\refactoring\\\\__init__.py'>,\n",
       " 'jedi.api.refactoring.extract': <module 'jedi.api.refactoring.extract' from 'c:\\\\users\\\\rhie\\\\appdata\\\\local\\\\programs\\\\python\\\\python39\\\\lib\\\\site-packages\\\\jedi\\\\api\\\\refactoring\\\\extract.py'>,\n",
       " 'jedi.inference.gradual.utils': <module 'jedi.inference.gradual.utils' from 'c:\\\\users\\\\rhie\\\\appdata\\\\local\\\\programs\\\\python\\\\python39\\\\lib\\\\site-packages\\\\jedi\\\\inference\\\\gradual\\\\utils.py'>,\n",
       " 'jedi.api': <module 'jedi.api' from 'c:\\\\users\\\\rhie\\\\appdata\\\\local\\\\programs\\\\python\\\\python39\\\\lib\\\\site-packages\\\\jedi\\\\api\\\\__init__.py'>,\n",
       " 'jedi.plugins.stdlib': <module 'jedi.plugins.stdlib' from 'c:\\\\users\\\\rhie\\\\appdata\\\\local\\\\programs\\\\python\\\\python39\\\\lib\\\\site-packages\\\\jedi\\\\plugins\\\\stdlib.py'>,\n",
       " 'jedi.plugins.flask': <module 'jedi.plugins.flask' from 'c:\\\\users\\\\rhie\\\\appdata\\\\local\\\\programs\\\\python\\\\python39\\\\lib\\\\site-packages\\\\jedi\\\\plugins\\\\flask.py'>,\n",
       " 'jedi.plugins.pytest': <module 'jedi.plugins.pytest' from 'c:\\\\users\\\\rhie\\\\appdata\\\\local\\\\programs\\\\python\\\\python39\\\\lib\\\\site-packages\\\\jedi\\\\plugins\\\\pytest.py'>,\n",
       " 'jedi.plugins.django': <module 'jedi.plugins.django' from 'c:\\\\users\\\\rhie\\\\appdata\\\\local\\\\programs\\\\python\\\\python39\\\\lib\\\\site-packages\\\\jedi\\\\plugins\\\\django.py'>,\n",
       " 'jedi.plugins.registry': <module 'jedi.plugins.registry' from 'c:\\\\users\\\\rhie\\\\appdata\\\\local\\\\programs\\\\python\\\\python39\\\\lib\\\\site-packages\\\\jedi\\\\plugins\\\\registry.py'>,\n",
       " 'jedi': <module 'jedi' from 'c:\\\\users\\\\rhie\\\\appdata\\\\local\\\\programs\\\\python\\\\python39\\\\lib\\\\site-packages\\\\jedi\\\\__init__.py'>,\n",
       " 'IPython.core.completer': <module 'IPython.core.completer' from 'c:\\\\users\\\\rhie\\\\appdata\\\\local\\\\programs\\\\python\\\\python39\\\\lib\\\\site-packages\\\\IPython\\\\core\\\\completer.py'>,\n",
       " 'IPython.terminal.ptutils': <module 'IPython.terminal.ptutils' from 'c:\\\\users\\\\rhie\\\\appdata\\\\local\\\\programs\\\\python\\\\python39\\\\lib\\\\site-packages\\\\IPython\\\\terminal\\\\ptutils.py'>,\n",
       " 'IPython.lib.clipboard': <module 'IPython.lib.clipboard' from 'c:\\\\users\\\\rhie\\\\appdata\\\\local\\\\programs\\\\python\\\\python39\\\\lib\\\\site-packages\\\\IPython\\\\lib\\\\clipboard.py'>,\n",
       " 'IPython.terminal.shortcuts': <module 'IPython.terminal.shortcuts' from 'c:\\\\users\\\\rhie\\\\appdata\\\\local\\\\programs\\\\python\\\\python39\\\\lib\\\\site-packages\\\\IPython\\\\terminal\\\\shortcuts.py'>,\n",
       " 'IPython.terminal.debugger': <module 'IPython.terminal.debugger' from 'c:\\\\users\\\\rhie\\\\appdata\\\\local\\\\programs\\\\python\\\\python39\\\\lib\\\\site-packages\\\\IPython\\\\terminal\\\\debugger.py'>,\n",
       " 'IPython.terminal.magics': <module 'IPython.terminal.magics' from 'c:\\\\users\\\\rhie\\\\appdata\\\\local\\\\programs\\\\python\\\\python39\\\\lib\\\\site-packages\\\\IPython\\\\terminal\\\\magics.py'>,\n",
       " 'IPython.terminal.pt_inputhooks': <module 'IPython.terminal.pt_inputhooks' from 'c:\\\\users\\\\rhie\\\\appdata\\\\local\\\\programs\\\\python\\\\python39\\\\lib\\\\site-packages\\\\IPython\\\\terminal\\\\pt_inputhooks\\\\__init__.py'>,\n",
       " 'IPython.terminal.prompts': <module 'IPython.terminal.prompts' from 'c:\\\\users\\\\rhie\\\\appdata\\\\local\\\\programs\\\\python\\\\python39\\\\lib\\\\site-packages\\\\IPython\\\\terminal\\\\prompts.py'>,\n",
       " 'IPython.terminal.interactiveshell': <module 'IPython.terminal.interactiveshell' from 'c:\\\\users\\\\rhie\\\\appdata\\\\local\\\\programs\\\\python\\\\python39\\\\lib\\\\site-packages\\\\IPython\\\\terminal\\\\interactiveshell.py'>,\n",
       " 'IPython.core.magics.auto': <module 'IPython.core.magics.auto' from 'c:\\\\users\\\\rhie\\\\appdata\\\\local\\\\programs\\\\python\\\\python39\\\\lib\\\\site-packages\\\\IPython\\\\core\\\\magics\\\\auto.py'>,\n",
       " 'IPython.core.magics.basic': <module 'IPython.core.magics.basic' from 'c:\\\\users\\\\rhie\\\\appdata\\\\local\\\\programs\\\\python\\\\python39\\\\lib\\\\site-packages\\\\IPython\\\\core\\\\magics\\\\basic.py'>,\n",
       " 'email': <module 'email' from 'c:\\\\users\\\\rhie\\\\appdata\\\\local\\\\programs\\\\python\\\\python39\\\\lib\\\\email\\\\__init__.py'>,\n",
       " 'http': <module 'http' from 'c:\\\\users\\\\rhie\\\\appdata\\\\local\\\\programs\\\\python\\\\python39\\\\lib\\\\http\\\\__init__.py'>,\n",
       " 'email.errors': <module 'email.errors' from 'c:\\\\users\\\\rhie\\\\appdata\\\\local\\\\programs\\\\python\\\\python39\\\\lib\\\\email\\\\errors.py'>,\n",
       " 'email.quoprimime': <module 'email.quoprimime' from 'c:\\\\users\\\\rhie\\\\appdata\\\\local\\\\programs\\\\python\\\\python39\\\\lib\\\\email\\\\quoprimime.py'>,\n",
       " 'email.base64mime': <module 'email.base64mime' from 'c:\\\\users\\\\rhie\\\\appdata\\\\local\\\\programs\\\\python\\\\python39\\\\lib\\\\email\\\\base64mime.py'>,\n",
       " 'quopri': <module 'quopri' from 'c:\\\\users\\\\rhie\\\\appdata\\\\local\\\\programs\\\\python\\\\python39\\\\lib\\\\quopri.py'>,\n",
       " 'email.encoders': <module 'email.encoders' from 'c:\\\\users\\\\rhie\\\\appdata\\\\local\\\\programs\\\\python\\\\python39\\\\lib\\\\email\\\\encoders.py'>,\n",
       " 'email.charset': <module 'email.charset' from 'c:\\\\users\\\\rhie\\\\appdata\\\\local\\\\programs\\\\python\\\\python39\\\\lib\\\\email\\\\charset.py'>,\n",
       " 'email.header': <module 'email.header' from 'c:\\\\users\\\\rhie\\\\appdata\\\\local\\\\programs\\\\python\\\\python39\\\\lib\\\\email\\\\header.py'>,\n",
       " 'calendar': <module 'calendar' from 'c:\\\\users\\\\rhie\\\\appdata\\\\local\\\\programs\\\\python\\\\python39\\\\lib\\\\calendar.py'>,\n",
       " 'email._parseaddr': <module 'email._parseaddr' from 'c:\\\\users\\\\rhie\\\\appdata\\\\local\\\\programs\\\\python\\\\python39\\\\lib\\\\email\\\\_parseaddr.py'>,\n",
       " 'email.utils': <module 'email.utils' from 'c:\\\\users\\\\rhie\\\\appdata\\\\local\\\\programs\\\\python\\\\python39\\\\lib\\\\email\\\\utils.py'>,\n",
       " 'email._policybase': <module 'email._policybase' from 'c:\\\\users\\\\rhie\\\\appdata\\\\local\\\\programs\\\\python\\\\python39\\\\lib\\\\email\\\\_policybase.py'>,\n",
       " 'email.feedparser': <module 'email.feedparser' from 'c:\\\\users\\\\rhie\\\\appdata\\\\local\\\\programs\\\\python\\\\python39\\\\lib\\\\email\\\\feedparser.py'>,\n",
       " 'email.parser': <module 'email.parser' from 'c:\\\\users\\\\rhie\\\\appdata\\\\local\\\\programs\\\\python\\\\python39\\\\lib\\\\email\\\\parser.py'>,\n",
       " 'uu': <module 'uu' from 'c:\\\\users\\\\rhie\\\\appdata\\\\local\\\\programs\\\\python\\\\python39\\\\lib\\\\uu.py'>,\n",
       " 'email._encoded_words': <module 'email._encoded_words' from 'c:\\\\users\\\\rhie\\\\appdata\\\\local\\\\programs\\\\python\\\\python39\\\\lib\\\\email\\\\_encoded_words.py'>,\n",
       " 'email.iterators': <module 'email.iterators' from 'c:\\\\users\\\\rhie\\\\appdata\\\\local\\\\programs\\\\python\\\\python39\\\\lib\\\\email\\\\iterators.py'>,\n",
       " 'email.message': <module 'email.message' from 'c:\\\\users\\\\rhie\\\\appdata\\\\local\\\\programs\\\\python\\\\python39\\\\lib\\\\email\\\\message.py'>,\n",
       " 'http.client': <module 'http.client' from 'c:\\\\users\\\\rhie\\\\appdata\\\\local\\\\programs\\\\python\\\\python39\\\\lib\\\\http\\\\client.py'>,\n",
       " 'urllib.response': <module 'urllib.response' from 'c:\\\\users\\\\rhie\\\\appdata\\\\local\\\\programs\\\\python\\\\python39\\\\lib\\\\urllib\\\\response.py'>,\n",
       " 'urllib.error': <module 'urllib.error' from 'c:\\\\users\\\\rhie\\\\appdata\\\\local\\\\programs\\\\python\\\\python39\\\\lib\\\\urllib\\\\error.py'>,\n",
       " 'nturl2path': <module 'nturl2path' from 'c:\\\\users\\\\rhie\\\\appdata\\\\local\\\\programs\\\\python\\\\python39\\\\lib\\\\nturl2path.py'>,\n",
       " 'urllib.request': <module 'urllib.request' from 'c:\\\\users\\\\rhie\\\\appdata\\\\local\\\\programs\\\\python\\\\python39\\\\lib\\\\urllib\\\\request.py'>,\n",
       " 'IPython.core.magics.code': <module 'IPython.core.magics.code' from 'c:\\\\users\\\\rhie\\\\appdata\\\\local\\\\programs\\\\python\\\\python39\\\\lib\\\\site-packages\\\\IPython\\\\core\\\\magics\\\\code.py'>,\n",
       " 'IPython.core.magics.config': <module 'IPython.core.magics.config' from 'c:\\\\users\\\\rhie\\\\appdata\\\\local\\\\programs\\\\python\\\\python39\\\\lib\\\\site-packages\\\\IPython\\\\core\\\\magics\\\\config.py'>,\n",
       " 'IPython.core.magics.display': <module 'IPython.core.magics.display' from 'c:\\\\users\\\\rhie\\\\appdata\\\\local\\\\programs\\\\python\\\\python39\\\\lib\\\\site-packages\\\\IPython\\\\core\\\\magics\\\\display.py'>,\n",
       " 'timeit': <module 'timeit' from 'c:\\\\users\\\\rhie\\\\appdata\\\\local\\\\programs\\\\python\\\\python39\\\\lib\\\\timeit.py'>,\n",
       " '_lsprof': <module '_lsprof' (built-in)>,\n",
       " 'profile': <module 'profile' from 'c:\\\\users\\\\rhie\\\\appdata\\\\local\\\\programs\\\\python\\\\python39\\\\lib\\\\profile.py'>,\n",
       " 'cProfile': <module 'cProfile' from 'c:\\\\users\\\\rhie\\\\appdata\\\\local\\\\programs\\\\python\\\\python39\\\\lib\\\\cProfile.py'>,\n",
       " 'dataclasses': <module 'dataclasses' from 'c:\\\\users\\\\rhie\\\\appdata\\\\local\\\\programs\\\\python\\\\python39\\\\lib\\\\dataclasses.py'>,\n",
       " 'pstats': <module 'pstats' from 'c:\\\\users\\\\rhie\\\\appdata\\\\local\\\\programs\\\\python\\\\python39\\\\lib\\\\pstats.py'>,\n",
       " 'IPython.utils.module_paths': <module 'IPython.utils.module_paths' from 'c:\\\\users\\\\rhie\\\\appdata\\\\local\\\\programs\\\\python\\\\python39\\\\lib\\\\site-packages\\\\IPython\\\\utils\\\\module_paths.py'>,\n",
       " 'IPython.utils.timing': <module 'IPython.utils.timing' from 'c:\\\\users\\\\rhie\\\\appdata\\\\local\\\\programs\\\\python\\\\python39\\\\lib\\\\site-packages\\\\IPython\\\\utils\\\\timing.py'>,\n",
       " 'IPython.core.magics.execution': <module 'IPython.core.magics.execution' from 'c:\\\\users\\\\rhie\\\\appdata\\\\local\\\\programs\\\\python\\\\python39\\\\lib\\\\site-packages\\\\IPython\\\\core\\\\magics\\\\execution.py'>,\n",
       " 'IPython.core.magics.extension': <module 'IPython.core.magics.extension' from 'c:\\\\users\\\\rhie\\\\appdata\\\\local\\\\programs\\\\python\\\\python39\\\\lib\\\\site-packages\\\\IPython\\\\core\\\\magics\\\\extension.py'>,\n",
       " 'IPython.core.magics.history': <module 'IPython.core.magics.history' from 'c:\\\\users\\\\rhie\\\\appdata\\\\local\\\\programs\\\\python\\\\python39\\\\lib\\\\site-packages\\\\IPython\\\\core\\\\magics\\\\history.py'>,\n",
       " 'IPython.core.magics.logging': <module 'IPython.core.magics.logging' from 'c:\\\\users\\\\rhie\\\\appdata\\\\local\\\\programs\\\\python\\\\python39\\\\lib\\\\site-packages\\\\IPython\\\\core\\\\magics\\\\logging.py'>,\n",
       " 'IPython.core.magics.namespace': <module 'IPython.core.magics.namespace' from 'c:\\\\users\\\\rhie\\\\appdata\\\\local\\\\programs\\\\python\\\\python39\\\\lib\\\\site-packages\\\\IPython\\\\core\\\\magics\\\\namespace.py'>,\n",
       " 'IPython.core.magics.osm': <module 'IPython.core.magics.osm' from 'c:\\\\users\\\\rhie\\\\appdata\\\\local\\\\programs\\\\python\\\\python39\\\\lib\\\\site-packages\\\\IPython\\\\core\\\\magics\\\\osm.py'>,\n",
       " 'IPython.core.magics.packaging': <module 'IPython.core.magics.packaging' from 'c:\\\\users\\\\rhie\\\\appdata\\\\local\\\\programs\\\\python\\\\python39\\\\lib\\\\site-packages\\\\IPython\\\\core\\\\magics\\\\packaging.py'>,\n",
       " 'IPython.core.pylabtools': <module 'IPython.core.pylabtools' from 'c:\\\\users\\\\rhie\\\\appdata\\\\local\\\\programs\\\\python\\\\python39\\\\lib\\\\site-packages\\\\IPython\\\\core\\\\pylabtools.py'>,\n",
       " 'IPython.core.magics.pylab': <module 'IPython.core.magics.pylab' from 'c:\\\\users\\\\rhie\\\\appdata\\\\local\\\\programs\\\\python\\\\python39\\\\lib\\\\site-packages\\\\IPython\\\\core\\\\magics\\\\pylab.py'>,\n",
       " 'IPython.lib.backgroundjobs': <module 'IPython.lib.backgroundjobs' from 'c:\\\\users\\\\rhie\\\\appdata\\\\local\\\\programs\\\\python\\\\python39\\\\lib\\\\site-packages\\\\IPython\\\\lib\\\\backgroundjobs.py'>,\n",
       " 'IPython.core.magics.script': <module 'IPython.core.magics.script' from 'c:\\\\users\\\\rhie\\\\appdata\\\\local\\\\programs\\\\python\\\\python39\\\\lib\\\\site-packages\\\\IPython\\\\core\\\\magics\\\\script.py'>,\n",
       " 'IPython.core.magics': <module 'IPython.core.magics' from 'c:\\\\users\\\\rhie\\\\appdata\\\\local\\\\programs\\\\python\\\\python39\\\\lib\\\\site-packages\\\\IPython\\\\core\\\\magics\\\\__init__.py'>,\n",
       " 'IPython.core.shellapp': <module 'IPython.core.shellapp' from 'c:\\\\users\\\\rhie\\\\appdata\\\\local\\\\programs\\\\python\\\\python39\\\\lib\\\\site-packages\\\\IPython\\\\core\\\\shellapp.py'>,\n",
       " 'IPython.extensions': <module 'IPython.extensions' from 'c:\\\\users\\\\rhie\\\\appdata\\\\local\\\\programs\\\\python\\\\python39\\\\lib\\\\site-packages\\\\IPython\\\\extensions\\\\__init__.py'>,\n",
       " 'IPython.extensions.storemagic': <module 'IPython.extensions.storemagic' from 'c:\\\\users\\\\rhie\\\\appdata\\\\local\\\\programs\\\\python\\\\python39\\\\lib\\\\site-packages\\\\IPython\\\\extensions\\\\storemagic.py'>,\n",
       " 'IPython.terminal.ipapp': <module 'IPython.terminal.ipapp' from 'c:\\\\users\\\\rhie\\\\appdata\\\\local\\\\programs\\\\python\\\\python39\\\\lib\\\\site-packages\\\\IPython\\\\terminal\\\\ipapp.py'>,\n",
       " 'IPython.terminal.embed': <module 'IPython.terminal.embed' from 'c:\\\\users\\\\rhie\\\\appdata\\\\local\\\\programs\\\\python\\\\python39\\\\lib\\\\site-packages\\\\IPython\\\\terminal\\\\embed.py'>,\n",
       " 'IPython.utils.frame': <module 'IPython.utils.frame' from 'c:\\\\users\\\\rhie\\\\appdata\\\\local\\\\programs\\\\python\\\\python39\\\\lib\\\\site-packages\\\\IPython\\\\utils\\\\frame.py'>,\n",
       " 'IPython': <module 'IPython' from 'c:\\\\users\\\\rhie\\\\appdata\\\\local\\\\programs\\\\python\\\\python39\\\\lib\\\\site-packages\\\\IPython\\\\__init__.py'>,\n",
       " 'jupyter_client._version': <module 'jupyter_client._version' from 'c:\\\\users\\\\rhie\\\\appdata\\\\local\\\\programs\\\\python\\\\python39\\\\lib\\\\site-packages\\\\jupyter_client\\\\_version.py'>,\n",
       " 'zmq.backend.select': <module 'zmq.backend.select' from 'c:\\\\users\\\\rhie\\\\appdata\\\\local\\\\programs\\\\python\\\\python39\\\\lib\\\\site-packages\\\\zmq\\\\backend\\\\select.py'>,\n",
       " 'cython_runtime': <module 'cython_runtime'>,\n",
       " 'zmq.backend.cython.constants': <module 'zmq.backend.cython.constants' from 'c:\\\\users\\\\rhie\\\\appdata\\\\local\\\\programs\\\\python\\\\python39\\\\lib\\\\site-packages\\\\zmq\\\\backend\\\\cython\\\\constants.cp39-win_amd64.pyd'>,\n",
       " '_cython_0_29_21': <module '_cython_0_29_21'>,\n",
       " 'zmq.backend.cython.error': <module 'zmq.backend.cython.error' from 'c:\\\\users\\\\rhie\\\\appdata\\\\local\\\\programs\\\\python\\\\python39\\\\lib\\\\site-packages\\\\zmq\\\\backend\\\\cython\\\\error.cp39-win_amd64.pyd'>,\n",
       " 'zmq.error': <module 'zmq.error' from 'c:\\\\users\\\\rhie\\\\appdata\\\\local\\\\programs\\\\python\\\\python39\\\\lib\\\\site-packages\\\\zmq\\\\error.py'>,\n",
       " 'zmq.backend.cython.message': <module 'zmq.backend.cython.message' from 'c:\\\\users\\\\rhie\\\\appdata\\\\local\\\\programs\\\\python\\\\python39\\\\lib\\\\site-packages\\\\zmq\\\\backend\\\\cython\\\\message.cp39-win_amd64.pyd'>,\n",
       " 'zmq.backend.cython.context': <module 'zmq.backend.cython.context' from 'c:\\\\users\\\\rhie\\\\appdata\\\\local\\\\programs\\\\python\\\\python39\\\\lib\\\\site-packages\\\\zmq\\\\backend\\\\cython\\\\context.cp39-win_amd64.pyd'>,\n",
       " 'zmq.backend.cython.socket': <module 'zmq.backend.cython.socket' from 'c:\\\\users\\\\rhie\\\\appdata\\\\local\\\\programs\\\\python\\\\python39\\\\lib\\\\site-packages\\\\zmq\\\\backend\\\\cython\\\\socket.cp39-win_amd64.pyd'>,\n",
       " 'zmq.backend.cython.utils': <module 'zmq.backend.cython.utils' from 'c:\\\\users\\\\rhie\\\\appdata\\\\local\\\\programs\\\\python\\\\python39\\\\lib\\\\site-packages\\\\zmq\\\\backend\\\\cython\\\\utils.cp39-win_amd64.pyd'>,\n",
       " 'zmq.backend.cython._poll': <module 'zmq.backend.cython._poll' from 'c:\\\\users\\\\rhie\\\\appdata\\\\local\\\\programs\\\\python\\\\python39\\\\lib\\\\site-packages\\\\zmq\\\\backend\\\\cython\\\\_poll.cp39-win_amd64.pyd'>,\n",
       " 'zmq.backend.cython._version': <module 'zmq.backend.cython._version' from 'c:\\\\users\\\\rhie\\\\appdata\\\\local\\\\programs\\\\python\\\\python39\\\\lib\\\\site-packages\\\\zmq\\\\backend\\\\cython\\\\_version.cp39-win_amd64.pyd'>,\n",
       " 'zmq.backend.cython._device': <module 'zmq.backend.cython._device' from 'c:\\\\users\\\\rhie\\\\appdata\\\\local\\\\programs\\\\python\\\\python39\\\\lib\\\\site-packages\\\\zmq\\\\backend\\\\cython\\\\_device.cp39-win_amd64.pyd'>,\n",
       " 'zmq.backend.cython._proxy_steerable': <module 'zmq.backend.cython._proxy_steerable' from 'c:\\\\users\\\\rhie\\\\appdata\\\\local\\\\programs\\\\python\\\\python39\\\\lib\\\\site-packages\\\\zmq\\\\backend\\\\cython\\\\_proxy_steerable.cp39-win_amd64.pyd'>,\n",
       " 'zmq.backend.cython': <module 'zmq.backend.cython' from 'c:\\\\users\\\\rhie\\\\appdata\\\\local\\\\programs\\\\python\\\\python39\\\\lib\\\\site-packages\\\\zmq\\\\backend\\\\cython\\\\__init__.py'>,\n",
       " 'zmq.backend': <module 'zmq.backend' from 'c:\\\\users\\\\rhie\\\\appdata\\\\local\\\\programs\\\\python\\\\python39\\\\lib\\\\site-packages\\\\zmq\\\\backend\\\\__init__.py'>,\n",
       " 'zmq.utils': <module 'zmq.utils' from 'c:\\\\users\\\\rhie\\\\appdata\\\\local\\\\programs\\\\python\\\\python39\\\\lib\\\\site-packages\\\\zmq\\\\utils\\\\__init__.py'>,\n",
       " 'zmq.utils.constant_names': <module 'zmq.utils.constant_names' from 'c:\\\\users\\\\rhie\\\\appdata\\\\local\\\\programs\\\\python\\\\python39\\\\lib\\\\site-packages\\\\zmq\\\\utils\\\\constant_names.py'>,\n",
       " 'zmq.sugar.constants': <module 'zmq.sugar.constants' from 'c:\\\\users\\\\rhie\\\\appdata\\\\local\\\\programs\\\\python\\\\python39\\\\lib\\\\site-packages\\\\zmq\\\\sugar\\\\constants.py'>,\n",
       " 'zmq.sugar.attrsettr': <module 'zmq.sugar.attrsettr' from 'c:\\\\users\\\\rhie\\\\appdata\\\\local\\\\programs\\\\python\\\\python39\\\\lib\\\\site-packages\\\\zmq\\\\sugar\\\\attrsettr.py'>,\n",
       " 'zmq.sugar.poll': <module 'zmq.sugar.poll' from 'c:\\\\users\\\\rhie\\\\appdata\\\\local\\\\programs\\\\python\\\\python39\\\\lib\\\\site-packages\\\\zmq\\\\sugar\\\\poll.py'>,\n",
       " 'zmq.utils.strtypes': <module 'zmq.utils.strtypes' from 'c:\\\\users\\\\rhie\\\\appdata\\\\local\\\\programs\\\\python\\\\python39\\\\lib\\\\site-packages\\\\zmq\\\\utils\\\\strtypes.py'>,\n",
       " 'zmq.utils.jsonapi': <module 'zmq.utils.jsonapi' from 'c:\\\\users\\\\rhie\\\\appdata\\\\local\\\\programs\\\\python\\\\python39\\\\lib\\\\site-packages\\\\zmq\\\\utils\\\\jsonapi.py'>,\n",
       " 'zmq.sugar.socket': <module 'zmq.sugar.socket' from 'c:\\\\users\\\\rhie\\\\appdata\\\\local\\\\programs\\\\python\\\\python39\\\\lib\\\\site-packages\\\\zmq\\\\sugar\\\\socket.py'>,\n",
       " 'zmq.sugar.context': <module 'zmq.sugar.context' from 'c:\\\\users\\\\rhie\\\\appdata\\\\local\\\\programs\\\\python\\\\python39\\\\lib\\\\site-packages\\\\zmq\\\\sugar\\\\context.py'>,\n",
       " 'zmq.sugar.frame': <module 'zmq.sugar.frame' from 'c:\\\\users\\\\rhie\\\\appdata\\\\local\\\\programs\\\\python\\\\python39\\\\lib\\\\site-packages\\\\zmq\\\\sugar\\\\frame.py'>,\n",
       " 'zmq.sugar.tracker': <module 'zmq.sugar.tracker' from 'c:\\\\users\\\\rhie\\\\appdata\\\\local\\\\programs\\\\python\\\\python39\\\\lib\\\\site-packages\\\\zmq\\\\sugar\\\\tracker.py'>,\n",
       " 'zmq.sugar.version': <module 'zmq.sugar.version' from 'c:\\\\users\\\\rhie\\\\appdata\\\\local\\\\programs\\\\python\\\\python39\\\\lib\\\\site-packages\\\\zmq\\\\sugar\\\\version.py'>,\n",
       " 'zmq.sugar.stopwatch': <module 'zmq.sugar.stopwatch' from 'c:\\\\users\\\\rhie\\\\appdata\\\\local\\\\programs\\\\python\\\\python39\\\\lib\\\\site-packages\\\\zmq\\\\sugar\\\\stopwatch.py'>,\n",
       " 'zmq.sugar': <module 'zmq.sugar' from 'c:\\\\users\\\\rhie\\\\appdata\\\\local\\\\programs\\\\python\\\\python39\\\\lib\\\\site-packages\\\\zmq\\\\sugar\\\\__init__.py'>,\n",
       " 'zmq': <module 'zmq' from 'c:\\\\users\\\\rhie\\\\appdata\\\\local\\\\programs\\\\python\\\\python39\\\\lib\\\\site-packages\\\\zmq\\\\__init__.py'>,\n",
       " 'jupyter_client.localinterfaces': <module 'jupyter_client.localinterfaces' from 'c:\\\\users\\\\rhie\\\\appdata\\\\local\\\\programs\\\\python\\\\python39\\\\lib\\\\site-packages\\\\jupyter_client\\\\localinterfaces.py'>,\n",
       " 'jupyter_core.version': <module 'jupyter_core.version' from 'c:\\\\users\\\\rhie\\\\appdata\\\\local\\\\programs\\\\python\\\\python39\\\\lib\\\\site-packages\\\\jupyter_core\\\\version.py'>,\n",
       " 'jupyter_core': <module 'jupyter_core' from 'c:\\\\users\\\\rhie\\\\appdata\\\\local\\\\programs\\\\python\\\\python39\\\\lib\\\\site-packages\\\\jupyter_core\\\\__init__.py'>,\n",
       " 'jupyter_core.paths': <module 'jupyter_core.paths' from 'c:\\\\users\\\\rhie\\\\appdata\\\\local\\\\programs\\\\python\\\\python39\\\\lib\\\\site-packages\\\\jupyter_core\\\\paths.py'>,\n",
       " 'jupyter_client.connect': <module 'jupyter_client.connect' from 'c:\\\\users\\\\rhie\\\\appdata\\\\local\\\\programs\\\\python\\\\python39\\\\lib\\\\site-packages\\\\jupyter_client\\\\connect.py'>,\n",
       " 'traitlets.log': <module 'traitlets.log' from 'c:\\\\users\\\\rhie\\\\appdata\\\\local\\\\programs\\\\python\\\\python39\\\\lib\\\\site-packages\\\\traitlets\\\\log.py'>,\n",
       " 'jupyter_client.launcher': <module 'jupyter_client.launcher' from 'c:\\\\users\\\\rhie\\\\appdata\\\\local\\\\programs\\\\python\\\\python39\\\\lib\\\\site-packages\\\\jupyter_client\\\\launcher.py'>,\n",
       " 'jupyter_client.channelsabc': <module 'jupyter_client.channelsabc' from 'c:\\\\users\\\\rhie\\\\appdata\\\\local\\\\programs\\\\python\\\\python39\\\\lib\\\\site-packages\\\\jupyter_client\\\\channelsabc.py'>,\n",
       " 'jupyter_client.channels': <module 'jupyter_client.channels' from 'c:\\\\users\\\\rhie\\\\appdata\\\\local\\\\programs\\\\python\\\\python39\\\\lib\\\\site-packages\\\\jupyter_client\\\\channels.py'>,\n",
       " 'jupyter_client.clientabc': <module 'jupyter_client.clientabc' from 'c:\\\\users\\\\rhie\\\\appdata\\\\local\\\\programs\\\\python\\\\python39\\\\lib\\\\site-packages\\\\jupyter_client\\\\clientabc.py'>,\n",
       " 'jupyter_client.client': <module 'jupyter_client.client' from 'c:\\\\users\\\\rhie\\\\appdata\\\\local\\\\programs\\\\python\\\\python39\\\\lib\\\\site-packages\\\\jupyter_client\\\\client.py'>,\n",
       " 'ipython_genutils.importstring': <module 'ipython_genutils.importstring' from 'c:\\\\users\\\\rhie\\\\appdata\\\\local\\\\programs\\\\python\\\\python39\\\\lib\\\\site-packages\\\\ipython_genutils\\\\importstring.py'>,\n",
       " 'jupyter_client.kernelspec': <module 'jupyter_client.kernelspec' from 'c:\\\\users\\\\rhie\\\\appdata\\\\local\\\\programs\\\\python\\\\python39\\\\lib\\\\site-packages\\\\jupyter_client\\\\kernelspec.py'>,\n",
       " 'jupyter_client.managerabc': <module 'jupyter_client.managerabc' from 'c:\\\\users\\\\rhie\\\\appdata\\\\local\\\\programs\\\\python\\\\python39\\\\lib\\\\site-packages\\\\jupyter_client\\\\managerabc.py'>,\n",
       " 'jupyter_client.manager': <module 'jupyter_client.manager' from 'c:\\\\users\\\\rhie\\\\appdata\\\\local\\\\programs\\\\python\\\\python39\\\\lib\\\\site-packages\\\\jupyter_client\\\\manager.py'>,\n",
       " 'jupyter_client.blocking.channels': <module 'jupyter_client.blocking.channels' from 'c:\\\\users\\\\rhie\\\\appdata\\\\local\\\\programs\\\\python\\\\python39\\\\lib\\\\site-packages\\\\jupyter_client\\\\blocking\\\\channels.py'>,\n",
       " 'jupyter_client.blocking.client': <module 'jupyter_client.blocking.client' from 'c:\\\\users\\\\rhie\\\\appdata\\\\local\\\\programs\\\\python\\\\python39\\\\lib\\\\site-packages\\\\jupyter_client\\\\blocking\\\\client.py'>,\n",
       " 'jupyter_client.blocking': <module 'jupyter_client.blocking' from 'c:\\\\users\\\\rhie\\\\appdata\\\\local\\\\programs\\\\python\\\\python39\\\\lib\\\\site-packages\\\\jupyter_client\\\\blocking\\\\__init__.py'>,\n",
       " 'zmq._future': <module 'zmq._future' from 'c:\\\\users\\\\rhie\\\\appdata\\\\local\\\\programs\\\\python\\\\python39\\\\lib\\\\site-packages\\\\zmq\\\\_future.py'>,\n",
       " 'zmq.asyncio': <module 'zmq.asyncio' from 'c:\\\\users\\\\rhie\\\\appdata\\\\local\\\\programs\\\\python\\\\python39\\\\lib\\\\site-packages\\\\zmq\\\\asyncio.py'>,\n",
       " 'jupyter_client.asynchronous.channels': <module 'jupyter_client.asynchronous.channels' from 'c:\\\\users\\\\rhie\\\\appdata\\\\local\\\\programs\\\\python\\\\python39\\\\lib\\\\site-packages\\\\jupyter_client\\\\asynchronous\\\\channels.py'>,\n",
       " 'jupyter_client.asynchronous.client': <module 'jupyter_client.asynchronous.client' from 'c:\\\\users\\\\rhie\\\\appdata\\\\local\\\\programs\\\\python\\\\python39\\\\lib\\\\site-packages\\\\jupyter_client\\\\asynchronous\\\\client.py'>,\n",
       " 'jupyter_client.asynchronous': <module 'jupyter_client.asynchronous' from 'c:\\\\users\\\\rhie\\\\appdata\\\\local\\\\programs\\\\python\\\\python39\\\\lib\\\\site-packages\\\\jupyter_client\\\\asynchronous\\\\__init__.py'>,\n",
       " '_uuid': <module '_uuid' from 'c:\\\\users\\\\rhie\\\\appdata\\\\local\\\\programs\\\\python\\\\python39\\\\DLLs\\\\_uuid.pyd'>,\n",
       " 'uuid': <module 'uuid' from 'c:\\\\users\\\\rhie\\\\appdata\\\\local\\\\programs\\\\python\\\\python39\\\\lib\\\\uuid.py'>,\n",
       " 'jupyter_client.multikernelmanager': <module 'jupyter_client.multikernelmanager' from 'c:\\\\users\\\\rhie\\\\appdata\\\\local\\\\programs\\\\python\\\\python39\\\\lib\\\\site-packages\\\\jupyter_client\\\\multikernelmanager.py'>,\n",
       " 'jupyter_client': <module 'jupyter_client' from 'c:\\\\users\\\\rhie\\\\appdata\\\\local\\\\programs\\\\python\\\\python39\\\\lib\\\\site-packages\\\\jupyter_client\\\\__init__.py'>,\n",
       " 'ipykernel.connect': <module 'ipykernel.connect' from 'c:\\\\users\\\\rhie\\\\appdata\\\\local\\\\programs\\\\python\\\\python39\\\\lib\\\\site-packages\\\\ipykernel\\\\connect.py'>,\n",
       " 'ipykernel': <module 'ipykernel' from 'c:\\\\users\\\\rhie\\\\appdata\\\\local\\\\programs\\\\python\\\\python39\\\\lib\\\\site-packages\\\\ipykernel\\\\__init__.py'>,\n",
       " 'tornado': <module 'tornado' from 'c:\\\\users\\\\rhie\\\\appdata\\\\local\\\\programs\\\\python\\\\python39\\\\lib\\\\site-packages\\\\tornado\\\\__init__.py'>,\n",
       " 'numbers': <module 'numbers' from 'c:\\\\users\\\\rhie\\\\appdata\\\\local\\\\programs\\\\python\\\\python39\\\\lib\\\\numbers.py'>,\n",
       " 'logging.handlers': <module 'logging.handlers' from 'c:\\\\users\\\\rhie\\\\appdata\\\\local\\\\programs\\\\python\\\\python39\\\\lib\\\\logging\\\\handlers.py'>,\n",
       " 'tornado.speedups': <module 'tornado.speedups' from 'c:\\\\users\\\\rhie\\\\appdata\\\\local\\\\programs\\\\python\\\\python39\\\\lib\\\\site-packages\\\\tornado\\\\speedups.cp39-win_amd64.pyd'>,\n",
       " 'tornado.util': <module 'tornado.util' from 'c:\\\\users\\\\rhie\\\\appdata\\\\local\\\\programs\\\\python\\\\python39\\\\lib\\\\site-packages\\\\tornado\\\\util.py'>,\n",
       " 'tornado.escape': <module 'tornado.escape' from 'c:\\\\users\\\\rhie\\\\appdata\\\\local\\\\programs\\\\python\\\\python39\\\\lib\\\\site-packages\\\\tornado\\\\escape.py'>,\n",
       " 'colorama.ansi': <module 'colorama.ansi' from 'c:\\\\users\\\\rhie\\\\appdata\\\\local\\\\programs\\\\python\\\\python39\\\\lib\\\\site-packages\\\\colorama\\\\ansi.py'>,\n",
       " 'colorama.win32': <module 'colorama.win32' from 'c:\\\\users\\\\rhie\\\\appdata\\\\local\\\\programs\\\\python\\\\python39\\\\lib\\\\site-packages\\\\colorama\\\\win32.py'>,\n",
       " 'colorama.winterm': <module 'colorama.winterm' from 'c:\\\\users\\\\rhie\\\\appdata\\\\local\\\\programs\\\\python\\\\python39\\\\lib\\\\site-packages\\\\colorama\\\\winterm.py'>,\n",
       " 'colorama.ansitowin32': <module 'colorama.ansitowin32' from 'c:\\\\users\\\\rhie\\\\appdata\\\\local\\\\programs\\\\python\\\\python39\\\\lib\\\\site-packages\\\\colorama\\\\ansitowin32.py'>,\n",
       " 'colorama.initialise': <module 'colorama.initialise' from 'c:\\\\users\\\\rhie\\\\appdata\\\\local\\\\programs\\\\python\\\\python39\\\\lib\\\\site-packages\\\\colorama\\\\initialise.py'>,\n",
       " 'colorama': <module 'colorama' from 'c:\\\\users\\\\rhie\\\\appdata\\\\local\\\\programs\\\\python\\\\python39\\\\lib\\\\site-packages\\\\colorama\\\\__init__.py'>,\n",
       " 'tornado.log': <module 'tornado.log' from 'c:\\\\users\\\\rhie\\\\appdata\\\\local\\\\programs\\\\python\\\\python39\\\\lib\\\\site-packages\\\\tornado\\\\log.py'>,\n",
       " 'tornado.concurrent': <module 'tornado.concurrent' from 'c:\\\\users\\\\rhie\\\\appdata\\\\local\\\\programs\\\\python\\\\python39\\\\lib\\\\site-packages\\\\tornado\\\\concurrent.py'>,\n",
       " 'tornado.ioloop': <module 'tornado.ioloop' from 'c:\\\\users\\\\rhie\\\\appdata\\\\local\\\\programs\\\\python\\\\python39\\\\lib\\\\site-packages\\\\tornado\\\\ioloop.py'>,\n",
       " 'tornado.platform': <module 'tornado.platform' from 'c:\\\\users\\\\rhie\\\\appdata\\\\local\\\\programs\\\\python\\\\python39\\\\lib\\\\site-packages\\\\tornado\\\\platform\\\\__init__.py'>,\n",
       " 'tornado.gen': <module 'tornado.gen' from 'c:\\\\users\\\\rhie\\\\appdata\\\\local\\\\programs\\\\python\\\\python39\\\\lib\\\\site-packages\\\\tornado\\\\gen.py'>,\n",
       " 'tornado.platform.asyncio': <module 'tornado.platform.asyncio' from 'c:\\\\users\\\\rhie\\\\appdata\\\\local\\\\programs\\\\python\\\\python39\\\\lib\\\\site-packages\\\\tornado\\\\platform\\\\asyncio.py'>,\n",
       " 'zmq.eventloop.ioloop': <module 'zmq.eventloop.ioloop' from 'c:\\\\users\\\\rhie\\\\appdata\\\\local\\\\programs\\\\python\\\\python39\\\\lib\\\\site-packages\\\\zmq\\\\eventloop\\\\ioloop.py'>,\n",
       " 'zmq.eventloop': <module 'zmq.eventloop' from 'c:\\\\users\\\\rhie\\\\appdata\\\\local\\\\programs\\\\python\\\\python39\\\\lib\\\\site-packages\\\\zmq\\\\eventloop\\\\__init__.py'>,\n",
       " 'zmq.eventloop.zmqstream': <module 'zmq.eventloop.zmqstream' from 'c:\\\\users\\\\rhie\\\\appdata\\\\local\\\\programs\\\\python\\\\python39\\\\lib\\\\site-packages\\\\zmq\\\\eventloop\\\\zmqstream.py'>,\n",
       " 'imp': <module 'imp' from 'c:\\\\users\\\\rhie\\\\appdata\\\\local\\\\programs\\\\python\\\\python39\\\\lib\\\\imp.py'>,\n",
       " 'hmac': <module 'hmac' from 'c:\\\\users\\\\rhie\\\\appdata\\\\local\\\\programs\\\\python\\\\python39\\\\lib\\\\hmac.py'>,\n",
       " 'dateutil._version': <module 'dateutil._version' from 'c:\\\\users\\\\rhie\\\\appdata\\\\local\\\\programs\\\\python\\\\python39\\\\lib\\\\site-packages\\\\dateutil\\\\_version.py'>,\n",
       " 'dateutil': <module 'dateutil' from 'c:\\\\users\\\\rhie\\\\appdata\\\\local\\\\programs\\\\python\\\\python39\\\\lib\\\\site-packages\\\\dateutil\\\\__init__.py'>,\n",
       " 'six': <module 'six' from 'c:\\\\users\\\\rhie\\\\appdata\\\\local\\\\programs\\\\python\\\\python39\\\\lib\\\\site-packages\\\\six.py'>,\n",
       " '_decimal': <module '_decimal' from 'c:\\\\users\\\\rhie\\\\appdata\\\\local\\\\programs\\\\python\\\\python39\\\\DLLs\\\\_decimal.pyd'>,\n",
       " 'decimal': <module 'decimal' from 'c:\\\\users\\\\rhie\\\\appdata\\\\local\\\\programs\\\\python\\\\python39\\\\lib\\\\decimal.py'>,\n",
       " 'dateutil._common': <module 'dateutil._common' from 'c:\\\\users\\\\rhie\\\\appdata\\\\local\\\\programs\\\\python\\\\python39\\\\lib\\\\site-packages\\\\dateutil\\\\_common.py'>,\n",
       " 'dateutil.relativedelta': <module 'dateutil.relativedelta' from 'c:\\\\users\\\\rhie\\\\appdata\\\\local\\\\programs\\\\python\\\\python39\\\\lib\\\\site-packages\\\\dateutil\\\\relativedelta.py'>,\n",
       " 'six.moves': <module 'six.moves' (<six._SixMetaPathImporter object at 0x0000028A34D98310>)>,\n",
       " 'dateutil.tz._common': <module 'dateutil.tz._common' from 'c:\\\\users\\\\rhie\\\\appdata\\\\local\\\\programs\\\\python\\\\python39\\\\lib\\\\site-packages\\\\dateutil\\\\tz\\\\_common.py'>,\n",
       " 'dateutil.tz._factories': <module 'dateutil.tz._factories' from 'c:\\\\users\\\\rhie\\\\appdata\\\\local\\\\programs\\\\python\\\\python39\\\\lib\\\\site-packages\\\\dateutil\\\\tz\\\\_factories.py'>,\n",
       " 'dateutil.tz.win': <module 'dateutil.tz.win' from 'c:\\\\users\\\\rhie\\\\appdata\\\\local\\\\programs\\\\python\\\\python39\\\\lib\\\\site-packages\\\\dateutil\\\\tz\\\\win.py'>,\n",
       " 'dateutil.tz.tz': <module 'dateutil.tz.tz' from 'c:\\\\users\\\\rhie\\\\appdata\\\\local\\\\programs\\\\python\\\\python39\\\\lib\\\\site-packages\\\\dateutil\\\\tz\\\\tz.py'>,\n",
       " 'dateutil.tz': <module 'dateutil.tz' from 'c:\\\\users\\\\rhie\\\\appdata\\\\local\\\\programs\\\\python\\\\python39\\\\lib\\\\site-packages\\\\dateutil\\\\tz\\\\__init__.py'>,\n",
       " 'dateutil.parser._parser': <module 'dateutil.parser._parser' from 'c:\\\\users\\\\rhie\\\\appdata\\\\local\\\\programs\\\\python\\\\python39\\\\lib\\\\site-packages\\\\dateutil\\\\parser\\\\_parser.py'>,\n",
       " 'dateutil.parser.isoparser': <module 'dateutil.parser.isoparser' from 'c:\\\\users\\\\rhie\\\\appdata\\\\local\\\\programs\\\\python\\\\python39\\\\lib\\\\site-packages\\\\dateutil\\\\parser\\\\isoparser.py'>,\n",
       " 'dateutil.parser': <module 'dateutil.parser' from 'c:\\\\users\\\\rhie\\\\appdata\\\\local\\\\programs\\\\python\\\\python39\\\\lib\\\\site-packages\\\\dateutil\\\\parser\\\\__init__.py'>,\n",
       " '_strptime': <module '_strptime' from 'c:\\\\users\\\\rhie\\\\appdata\\\\local\\\\programs\\\\python\\\\python39\\\\lib\\\\_strptime.py'>,\n",
       " 'jupyter_client.jsonutil': <module 'jupyter_client.jsonutil' from 'c:\\\\users\\\\rhie\\\\appdata\\\\local\\\\programs\\\\python\\\\python39\\\\lib\\\\site-packages\\\\jupyter_client\\\\jsonutil.py'>,\n",
       " 'jupyter_client.adapter': <module 'jupyter_client.adapter' from 'c:\\\\users\\\\rhie\\\\appdata\\\\local\\\\programs\\\\python\\\\python39\\\\lib\\\\site-packages\\\\jupyter_client\\\\adapter.py'>,\n",
       " 'jupyter_client.session': <module 'jupyter_client.session' from 'c:\\\\users\\\\rhie\\\\appdata\\\\local\\\\programs\\\\python\\\\python39\\\\lib\\\\site-packages\\\\jupyter_client\\\\session.py'>,\n",
       " 'ipykernel.iostream': <module 'ipykernel.iostream' from 'c:\\\\users\\\\rhie\\\\appdata\\\\local\\\\programs\\\\python\\\\python39\\\\lib\\\\site-packages\\\\ipykernel\\\\iostream.py'>,\n",
       " 'ipykernel.heartbeat': <module 'ipykernel.heartbeat' from 'c:\\\\users\\\\rhie\\\\appdata\\\\local\\\\programs\\\\python\\\\python39\\\\lib\\\\site-packages\\\\ipykernel\\\\heartbeat.py'>,\n",
       " 'IPython.utils.tokenutil': <module 'IPython.utils.tokenutil' from 'c:\\\\users\\\\rhie\\\\appdata\\\\local\\\\programs\\\\python\\\\python39\\\\lib\\\\site-packages\\\\IPython\\\\utils\\\\tokenutil.py'>,\n",
       " 'tornado.locks': <module 'tornado.locks' from 'c:\\\\users\\\\rhie\\\\appdata\\\\local\\\\programs\\\\python\\\\python39\\\\lib\\\\site-packages\\\\tornado\\\\locks.py'>,\n",
       " 'tornado.queues': <module 'tornado.queues' from 'c:\\\\users\\\\rhie\\\\appdata\\\\local\\\\programs\\\\python\\\\python39\\\\lib\\\\site-packages\\\\tornado\\\\queues.py'>,\n",
       " 'ipykernel.jsonutil': <module 'ipykernel.jsonutil' from 'c:\\\\users\\\\rhie\\\\appdata\\\\local\\\\programs\\\\python\\\\python39\\\\lib\\\\site-packages\\\\ipykernel\\\\jsonutil.py'>,\n",
       " 'ipykernel.kernelbase': <module 'ipykernel.kernelbase' from 'c:\\\\users\\\\rhie\\\\appdata\\\\local\\\\programs\\\\python\\\\python39\\\\lib\\\\site-packages\\\\ipykernel\\\\kernelbase.py'>,\n",
       " 'ipykernel.comm.comm': <module 'ipykernel.comm.comm' from 'c:\\\\users\\\\rhie\\\\appdata\\\\local\\\\programs\\\\python\\\\python39\\\\lib\\\\site-packages\\\\ipykernel\\\\comm\\\\comm.py'>,\n",
       " 'ipykernel.comm.manager': <module 'ipykernel.comm.manager' from 'c:\\\\users\\\\rhie\\\\appdata\\\\local\\\\programs\\\\python\\\\python39\\\\lib\\\\site-packages\\\\ipykernel\\\\comm\\\\manager.py'>,\n",
       " 'ipykernel.comm': <module 'ipykernel.comm' from 'c:\\\\users\\\\rhie\\\\appdata\\\\local\\\\programs\\\\python\\\\python39\\\\lib\\\\site-packages\\\\ipykernel\\\\comm\\\\__init__.py'>,\n",
       " 'IPython.core.payloadpage': <module 'IPython.core.payloadpage' from 'c:\\\\users\\\\rhie\\\\appdata\\\\local\\\\programs\\\\python\\\\python39\\\\lib\\\\site-packages\\\\IPython\\\\core\\\\payloadpage.py'>,\n",
       " 'ipykernel.displayhook': <module 'ipykernel.displayhook' from 'c:\\\\users\\\\rhie\\\\appdata\\\\local\\\\programs\\\\python\\\\python39\\\\lib\\\\site-packages\\\\ipykernel\\\\displayhook.py'>,\n",
       " 'ipykernel.codeutil': <module 'ipykernel.codeutil' from 'c:\\\\users\\\\rhie\\\\appdata\\\\local\\\\programs\\\\python\\\\python39\\\\lib\\\\site-packages\\\\ipykernel\\\\codeutil.py'>,\n",
       " 'ipykernel.pickleutil': <module 'ipykernel.pickleutil' from 'c:\\\\users\\\\rhie\\\\appdata\\\\local\\\\programs\\\\python\\\\python39\\\\lib\\\\site-packages\\\\ipykernel\\\\pickleutil.py'>,\n",
       " 'ipykernel.serialize': <module 'ipykernel.serialize' from 'c:\\\\users\\\\rhie\\\\appdata\\\\local\\\\programs\\\\python\\\\python39\\\\lib\\\\site-packages\\\\ipykernel\\\\serialize.py'>,\n",
       " 'ipykernel.datapub': <module 'ipykernel.datapub' from 'c:\\\\users\\\\rhie\\\\appdata\\\\local\\\\programs\\\\python\\\\python39\\\\lib\\\\site-packages\\\\ipykernel\\\\datapub.py'>,\n",
       " 'ipykernel.zmqshell': <module 'ipykernel.zmqshell' from 'c:\\\\users\\\\rhie\\\\appdata\\\\local\\\\programs\\\\python\\\\python39\\\\lib\\\\site-packages\\\\ipykernel\\\\zmqshell.py'>,\n",
       " 'distutils': <module 'distutils' from 'c:\\\\users\\\\rhie\\\\appdata\\\\local\\\\programs\\\\python\\\\python39\\\\lib\\\\distutils\\\\__init__.py'>,\n",
       " 'distutils.version': <module 'distutils.version' from 'c:\\\\users\\\\rhie\\\\appdata\\\\local\\\\programs\\\\python\\\\python39\\\\lib\\\\distutils\\\\version.py'>,\n",
       " 'ipykernel.eventloops': <module 'ipykernel.eventloops' from 'c:\\\\users\\\\rhie\\\\appdata\\\\local\\\\programs\\\\python\\\\python39\\\\lib\\\\site-packages\\\\ipykernel\\\\eventloops.py'>,\n",
       " 'ipykernel.ipkernel': <module 'ipykernel.ipkernel' from 'c:\\\\users\\\\rhie\\\\appdata\\\\local\\\\programs\\\\python\\\\python39\\\\lib\\\\site-packages\\\\ipykernel\\\\ipkernel.py'>,\n",
       " 'ipykernel.parentpoller': <module 'ipykernel.parentpoller' from 'c:\\\\users\\\\rhie\\\\appdata\\\\local\\\\programs\\\\python\\\\python39\\\\lib\\\\site-packages\\\\ipykernel\\\\parentpoller.py'>,\n",
       " 'ipykernel.kernelapp': <module 'ipykernel.kernelapp' from 'c:\\\\users\\\\rhie\\\\appdata\\\\local\\\\programs\\\\python\\\\python39\\\\lib\\\\site-packages\\\\ipykernel\\\\kernelapp.py'>,\n",
       " 'win32api': <module 'win32api' from 'c:\\\\users\\\\rhie\\\\appdata\\\\local\\\\programs\\\\python\\\\python39\\\\lib\\\\site-packages\\\\win32\\\\win32api.pyd'>,\n",
       " 'win32security': <module 'win32security' from 'c:\\\\users\\\\rhie\\\\appdata\\\\local\\\\programs\\\\python\\\\python39\\\\lib\\\\site-packages\\\\win32\\\\win32security.pyd'>,\n",
       " 'ntsecuritycon': <module 'ntsecuritycon' from 'c:\\\\users\\\\rhie\\\\appdata\\\\local\\\\programs\\\\python\\\\python39\\\\lib\\\\site-packages\\\\win32\\\\lib\\\\ntsecuritycon.py'>,\n",
       " 'faulthandler': <module 'faulthandler' (built-in)>,\n",
       " 'IPython.core.completerlib': <module 'IPython.core.completerlib' from 'c:\\\\users\\\\rhie\\\\appdata\\\\local\\\\programs\\\\python\\\\python39\\\\lib\\\\site-packages\\\\IPython\\\\core\\\\completerlib.py'>,\n",
       " 'storemagic': <module 'storemagic' from 'c:\\\\users\\\\rhie\\\\appdata\\\\local\\\\programs\\\\python\\\\python39\\\\lib\\\\site-packages\\\\IPython\\\\extensions\\\\storemagic.py'>,\n",
       " 'fibo': <module 'fibo' from 'C:\\\\Users\\\\Rhie\\\\Desktop\\\\CACHE\\\\py\\\\playground.python\\\\[03]Advanced\\\\fibo.py'>}"
      ]
     },
     "execution_count": 9,
     "metadata": {},
     "output_type": "execute_result"
    }
   ],
   "source": [
    "import sys\n",
    "sys.modules"
   ]
  },
  {
   "cell_type": "markdown",
   "id": "9812aecc-b5dd-4aae-9fbf-9233dbeec822",
   "metadata": {},
   "source": [
    " - `sys.path`"
   ]
  },
  {
   "cell_type": "code",
   "execution_count": 10,
   "id": "f4d32569-a013-4a99-9ea8-f76af21b45cd",
   "metadata": {},
   "outputs": [
    {
     "data": {
      "text/plain": [
       "['C:\\\\Users\\\\Rhie\\\\Desktop\\\\CACHE\\\\py\\\\playground.python\\\\[03]Advanced',\n",
       " 'c:\\\\users\\\\rhie\\\\appdata\\\\local\\\\programs\\\\python\\\\python39\\\\python39.zip',\n",
       " 'c:\\\\users\\\\rhie\\\\appdata\\\\local\\\\programs\\\\python\\\\python39\\\\DLLs',\n",
       " 'c:\\\\users\\\\rhie\\\\appdata\\\\local\\\\programs\\\\python\\\\python39\\\\lib',\n",
       " 'c:\\\\users\\\\rhie\\\\appdata\\\\local\\\\programs\\\\python\\\\python39',\n",
       " '',\n",
       " 'C:\\\\Users\\\\Rhie\\\\AppData\\\\Roaming\\\\Python\\\\Python39\\\\site-packages',\n",
       " 'c:\\\\users\\\\rhie\\\\appdata\\\\local\\\\programs\\\\python\\\\python39\\\\lib\\\\site-packages',\n",
       " 'c:\\\\users\\\\rhie\\\\appdata\\\\local\\\\programs\\\\python\\\\python39\\\\lib\\\\site-packages\\\\win32',\n",
       " 'c:\\\\users\\\\rhie\\\\appdata\\\\local\\\\programs\\\\python\\\\python39\\\\lib\\\\site-packages\\\\win32\\\\lib',\n",
       " 'c:\\\\users\\\\rhie\\\\appdata\\\\local\\\\programs\\\\python\\\\python39\\\\lib\\\\site-packages\\\\Pythonwin',\n",
       " 'c:\\\\users\\\\rhie\\\\appdata\\\\local\\\\programs\\\\python\\\\python39\\\\lib\\\\site-packages\\\\IPython\\\\extensions',\n",
       " 'C:\\\\Users\\\\Rhie\\\\.ipython']"
      ]
     },
     "execution_count": 10,
     "metadata": {},
     "output_type": "execute_result"
    }
   ],
   "source": [
    "import sys\n",
    "sys.path"
   ]
  },
  {
   "cell_type": "code",
   "execution_count": 11,
   "id": "20405215-e4af-4468-a217-f7601ba34f5c",
   "metadata": {},
   "outputs": [
    {
     "data": {
      "text/plain": [
       "['__builtins__',\n",
       " '__cached__',\n",
       " '__doc__',\n",
       " '__file__',\n",
       " '__loader__',\n",
       " '__name__',\n",
       " '__package__',\n",
       " '__spec__',\n",
       " 'fib',\n",
       " 'fib2']"
      ]
     },
     "execution_count": 11,
     "metadata": {},
     "output_type": "execute_result"
    }
   ],
   "source": [
    "import fibo\n",
    "dir(fibo) #인자가 없으면, dir() 는 현재 정의한 이름들을 나열한다."
   ]
  },
  {
   "cell_type": "markdown",
   "id": "1fa21432-b77f-433a-be39-fc1acc860b4c",
   "metadata": {},
   "source": [
    "`dir()` 함수는 내장 함수와 변수들의 이름을 나열하지 않는다. 내장 함수의 목록을 알고 싶다면 표준 모듈 builtins에 정의되어있으니 이 부분을 확인하면 된다."
   ]
  },
  {
   "cell_type": "code",
   "execution_count": 12,
   "id": "3b4ae4fa-d96f-4842-b614-bf00d3a53973",
   "metadata": {},
   "outputs": [
    {
     "data": {
      "text/plain": [
       "['ArithmeticError',\n",
       " 'AssertionError',\n",
       " 'AttributeError',\n",
       " 'BaseException',\n",
       " 'BlockingIOError',\n",
       " 'BrokenPipeError',\n",
       " 'BufferError',\n",
       " 'BytesWarning',\n",
       " 'ChildProcessError',\n",
       " 'ConnectionAbortedError',\n",
       " 'ConnectionError',\n",
       " 'ConnectionRefusedError',\n",
       " 'ConnectionResetError',\n",
       " 'DeprecationWarning',\n",
       " 'EOFError',\n",
       " 'Ellipsis',\n",
       " 'EnvironmentError',\n",
       " 'Exception',\n",
       " 'False',\n",
       " 'FileExistsError',\n",
       " 'FileNotFoundError',\n",
       " 'FloatingPointError',\n",
       " 'FutureWarning',\n",
       " 'GeneratorExit',\n",
       " 'IOError',\n",
       " 'ImportError',\n",
       " 'ImportWarning',\n",
       " 'IndentationError',\n",
       " 'IndexError',\n",
       " 'InterruptedError',\n",
       " 'IsADirectoryError',\n",
       " 'KeyError',\n",
       " 'KeyboardInterrupt',\n",
       " 'LookupError',\n",
       " 'MemoryError',\n",
       " 'ModuleNotFoundError',\n",
       " 'NameError',\n",
       " 'None',\n",
       " 'NotADirectoryError',\n",
       " 'NotImplemented',\n",
       " 'NotImplementedError',\n",
       " 'OSError',\n",
       " 'OverflowError',\n",
       " 'PendingDeprecationWarning',\n",
       " 'PermissionError',\n",
       " 'ProcessLookupError',\n",
       " 'RecursionError',\n",
       " 'ReferenceError',\n",
       " 'ResourceWarning',\n",
       " 'RuntimeError',\n",
       " 'RuntimeWarning',\n",
       " 'StopAsyncIteration',\n",
       " 'StopIteration',\n",
       " 'SyntaxError',\n",
       " 'SyntaxWarning',\n",
       " 'SystemError',\n",
       " 'SystemExit',\n",
       " 'TabError',\n",
       " 'TimeoutError',\n",
       " 'True',\n",
       " 'TypeError',\n",
       " 'UnboundLocalError',\n",
       " 'UnicodeDecodeError',\n",
       " 'UnicodeEncodeError',\n",
       " 'UnicodeError',\n",
       " 'UnicodeTranslateError',\n",
       " 'UnicodeWarning',\n",
       " 'UserWarning',\n",
       " 'ValueError',\n",
       " 'Warning',\n",
       " 'WindowsError',\n",
       " 'ZeroDivisionError',\n",
       " '__IPYTHON__',\n",
       " '__build_class__',\n",
       " '__debug__',\n",
       " '__doc__',\n",
       " '__import__',\n",
       " '__loader__',\n",
       " '__name__',\n",
       " '__package__',\n",
       " '__spec__',\n",
       " 'abs',\n",
       " 'all',\n",
       " 'any',\n",
       " 'ascii',\n",
       " 'bin',\n",
       " 'bool',\n",
       " 'breakpoint',\n",
       " 'bytearray',\n",
       " 'bytes',\n",
       " 'callable',\n",
       " 'chr',\n",
       " 'classmethod',\n",
       " 'compile',\n",
       " 'complex',\n",
       " 'copyright',\n",
       " 'credits',\n",
       " 'delattr',\n",
       " 'dict',\n",
       " 'dir',\n",
       " 'display',\n",
       " 'divmod',\n",
       " 'enumerate',\n",
       " 'eval',\n",
       " 'exec',\n",
       " 'filter',\n",
       " 'float',\n",
       " 'format',\n",
       " 'frozenset',\n",
       " 'get_ipython',\n",
       " 'getattr',\n",
       " 'globals',\n",
       " 'hasattr',\n",
       " 'hash',\n",
       " 'help',\n",
       " 'hex',\n",
       " 'id',\n",
       " 'input',\n",
       " 'int',\n",
       " 'isinstance',\n",
       " 'issubclass',\n",
       " 'iter',\n",
       " 'len',\n",
       " 'license',\n",
       " 'list',\n",
       " 'locals',\n",
       " 'map',\n",
       " 'max',\n",
       " 'memoryview',\n",
       " 'min',\n",
       " 'next',\n",
       " 'object',\n",
       " 'oct',\n",
       " 'open',\n",
       " 'ord',\n",
       " 'pow',\n",
       " 'print',\n",
       " 'property',\n",
       " 'range',\n",
       " 'repr',\n",
       " 'reversed',\n",
       " 'round',\n",
       " 'set',\n",
       " 'setattr',\n",
       " 'slice',\n",
       " 'sorted',\n",
       " 'staticmethod',\n",
       " 'str',\n",
       " 'sum',\n",
       " 'super',\n",
       " 'tuple',\n",
       " 'type',\n",
       " 'vars',\n",
       " 'zip']"
      ]
     },
     "execution_count": 12,
     "metadata": {},
     "output_type": "execute_result"
    }
   ],
   "source": [
    "import builtins\n",
    "dir(builtins)"
   ]
  },
  {
   "cell_type": "markdown",
   "id": "a1f4d23b-d803-4604-b46f-c0b136d035ef",
   "metadata": {},
   "source": [
    "## - 패키지"
   ]
  },
  {
   "cell_type": "markdown",
   "id": "f23e3ac8-dfb3-43b7-8e5e-b3cbc9d5840b",
   "metadata": {},
   "source": [
    "먼저 현재 디렉토리 위치에서 다음과 같은 구조로 디렉토리 및 파이썬 파일들을 구성해보자.\n",
    "\n",
    "```\n",
    "[mypac]\n",
    "  - __init__.py\n",
    "  - [util_before_all]\n",
    "     - __init__.py\n",
    "     - calc.py\n",
    "     - mydeco.py\n",
    "     - stream.py\n",
    "     - tip-canSetAll.py\n",
    "     - tip-initMakeDirToPac\n",
    "```"
   ]
  },
  {
   "cell_type": "markdown",
   "id": "d0c2a840-e97a-46c3-a14a-c72c25f5c84c",
   "metadata": {},
   "source": [
    "`__init__.py`는 해당 디렉토리가 패키지 구성 중 하나임을 알려준다. 만일 본 파일이 없다면 패키지로 인식되지 않는다.\n",
    "\n",
    "물론 파이썬 3.3 버전부터는 본 파일이 없어도 패키지로 인식하지만(`PEP 420`) 본 파일을 생성하는 것이 안전하다."
   ]
  },
  {
   "cell_type": "markdown",
   "id": "c8a485ae-9c2e-4732-ba62-0b0525baab31",
   "metadata": {},
   "source": [
    "이제 아래와 같이 각 파이썬 코드에 코드를 채워보자"
   ]
  },
  {
   "cell_type": "markdown",
   "id": "8c288c56-a6bb-4c2d-b228-ec839fa6d56b",
   "metadata": {},
   "source": [
    "- calc.py\n",
    " \n",
    "```python\n",
    "from functools import reduce\n",
    "```\n",
    "```python\n",
    "def add(*nums):\n",
    "    return sum(nums)\n",
    "    \n",
    "def mul(*nums):\n",
    "    reduce(lambda x, y: x * y, nums)\n",
    "    \n",
    "def fib(n):\n",
    "    result = []\n",
    "    a, b = 0, 1\n",
    "    while a < n:\n",
    "        result.append(a)\n",
    "        a, b = b, a+b\n",
    "    return result\n",
    "```"
   ]
  },
  {
   "cell_type": "markdown",
   "id": "e3939b59-03f1-4233-8fe0-43ccb9f3e39b",
   "metadata": {},
   "source": [
    "- mydeco.py\n",
    "\n",
    "```python\n",
    "class Deco:\n",
    "    def __init__(self, func):\n",
    "        self.func = func\n",
    "        print(\"DECO!!!\")\n",
    "        \n",
    "    def __call__(self, a, b):\n",
    "        print(f'매개변수 정보 {a}, {b}')\n",
    "        return self.func(a,b)\n",
    "\n",
    "class Paradeco:\n",
    "    def __init__(self, nums):\n",
    "        self.nums = nums\n",
    "        \n",
    "    def __call__(self, func):\n",
    "        def wrapper(*, do):\n",
    "            doWhat = None\n",
    "            param = dict(do = do)\n",
    "            if do == \"add\":\n",
    "                doWhat = lambda x : sum(x)\n",
    "            elif do == \"max\":\n",
    "                doWhat = lambda x : max(x)\n",
    "            func(**param)\n",
    "            return doWhat(self.nums) if doWhat != None else \"Invalid\"\n",
    "        return wrapper\n",
    "```"
   ]
  },
  {
   "cell_type": "markdown",
   "id": "3c27c9cc-8636-4c94-bb6c-0caf2e9fec34",
   "metadata": {},
   "source": [
    " - stream.py\n",
    "\n",
    "```python\n",
    "from functools import reduce\n",
    "from collections import deque\n",
    "\n",
    "class HigherOrder:\n",
    "    def __init__(self, *args):\n",
    "        self.args = args\n",
    "        self.isVerboseMode = False\n",
    "\n",
    "    def verbose(self, isVerboseMode):\n",
    "        self.isVerboseMode = isVerboseMode\n",
    "    \n",
    "    def changeValues(self, *args):\n",
    "        self.args = args\n",
    "\n",
    "    def functionsChain(self, *, mapping = None, filtering = None, reducing = None):\n",
    "        self.isVerboseMode if print(\"Parsing Target : \", self.args) else None\n",
    "        queue = deque([mapping, filtering, reducing])\n",
    "        self.isVerboseMode if print(\"Parsing Steps : \", queue) else None\n",
    "        source = list(self.args)\n",
    "        x = queue.popleft()\n",
    "        self.isVerboseMode if print(\"Mapping Steps : \", x) else None\n",
    "        if x != None:\n",
    "            source = list(map(x,source))\n",
    "            self.isVerboseMode if print(\"Mapping After: \", source) else None\n",
    "        x = queue.popleft()\n",
    "        self.isVerboseMode if print(\"Filtering Steps : \", x) else None\n",
    "        if x != None:\n",
    "            source = filter(x, source)\n",
    "            self.isVerboseMode if print(\"Filtering After: \", source) else None\n",
    "        x = queue.popleft()         \n",
    "        self.isVerboseMode if print(\"Reducing Steps : \", x) else None\n",
    "        if x != None:\n",
    "            source = reduce(x, source)\n",
    "            self.isVerboseMode if print(\"Reducing After: \", source) else None\n",
    "                \n",
    "        self.isVerboseMode if print(\"Result : \", source) else None\n",
    "        \n",
    "        return source\n",
    "```"
   ]
  },
  {
   "cell_type": "markdown",
   "id": "91ea22d4-6588-4cbe-a21d-13070fe0b641",
   "metadata": {},
   "source": [
    " - tip-canSetAll.py\n",
    " \n",
    "```python\n",
    "print(\"tip-canSetAll : __init__.py에 __all__이라는 변수 설정을 통해 와일드카드를 사용하여 import할 경우 어떤 모듈만 import한 건지 정할 수 있습니다~^^\")\n",
    "```\n",
    " \n",
    " - tip-initMakeDirToPac.py\n",
    "\n",
    "```python\n",
    "print(\"tip-initMakeDirToPac : __init__.py는 디렉토리를 패키지로 만들어줍니다~^^\")\n",
    "```"
   ]
  },
  {
   "cell_type": "markdown",
   "id": "73924473-a623-44f9-8ac1-84c210b289b1",
   "metadata": {},
   "source": [
    "`from package import item` 를 사용할 때, item은 패키지의 서브 모듈 (또는 서브 패키지)일 수도 있고 함수, 클래스, 변수 등 패키지에 정의된 다른 이름들일 수도 있음에 유의하세요. import 문은 먼저 item이 패키지에 정의되어 있는지 검사하고, 그렇지 않으면 모듈이라고 가정하고 로드를 시도합니다. 찾지 못한다면, ImportError 예외를 일으킵니다.\n",
    "\n",
    "이에 반하여, `import item.subitem.subsubitem` 와 같은 문법을 사용할 때, 마지막 것을 제외한 각 항목은 반드시 패키지여야 합니다; 마지막 항목은 모듈이나 패키지가 될 수 있지만, 앞의 항목에서 정의된 클래스, 함수, 변수 등이 될 수는 없습니다."
   ]
  },
  {
   "cell_type": "code",
   "execution_count": 13,
   "id": "fdaf0b79-258f-41fe-a7ae-0743dca3e99d",
   "metadata": {
    "tags": []
   },
   "outputs": [],
   "source": [
    "import mypac.util_before_all.calc"
   ]
  },
  {
   "cell_type": "markdown",
   "id": "1d1fb7e7-fbed-4b85-a7e0-6a451326e82e",
   "metadata": {},
   "source": [
    "잘 가져와졌는지 확인한다."
   ]
  },
  {
   "cell_type": "code",
   "execution_count": 14,
   "id": "e7a58af6-13ea-4a28-b8b2-f52943103359",
   "metadata": {},
   "outputs": [
    {
     "data": {
      "text/plain": [
       "['__builtins__',\n",
       " '__cached__',\n",
       " '__doc__',\n",
       " '__file__',\n",
       " '__loader__',\n",
       " '__name__',\n",
       " '__package__',\n",
       " '__spec__',\n",
       " 'add',\n",
       " 'fib',\n",
       " 'mul',\n",
       " 'reduce']"
      ]
     },
     "execution_count": 14,
     "metadata": {},
     "output_type": "execute_result"
    }
   ],
   "source": [
    "dir(mypac.util_before_all.calc)"
   ]
  },
  {
   "cell_type": "code",
   "execution_count": 15,
   "id": "fb302fa0-e3a9-4de3-a34a-a7a260268484",
   "metadata": {},
   "outputs": [
    {
     "data": {
      "text/plain": [
       "300"
      ]
     },
     "execution_count": 15,
     "metadata": {},
     "output_type": "execute_result"
    }
   ],
   "source": [
    "mypac.util_before_all.calc.add(100, 200)"
   ]
  },
  {
   "cell_type": "markdown",
   "id": "75feae84-be16-4175-946f-dcb1daceaf2d",
   "metadata": {},
   "source": [
    "그러나 다음과 같이 패키지 이름없이 모듈만 가져오면 에러가 걸린다."
   ]
  },
  {
   "cell_type": "code",
   "execution_count": 16,
   "id": "494e6a6a-b263-4d0f-a957-6857a2ed16af",
   "metadata": {},
   "outputs": [
    {
     "ename": "NameError",
     "evalue": "name 'calc' is not defined",
     "output_type": "error",
     "traceback": [
      "\u001b[1;31m---------------------------------------------------------------------------\u001b[0m",
      "\u001b[1;31mNameError\u001b[0m                                 Traceback (most recent call last)",
      "\u001b[1;32m<ipython-input-16-c797bf2880db>\u001b[0m in \u001b[0;36m<module>\u001b[1;34m\u001b[0m\n\u001b[1;32m----> 1\u001b[1;33m \u001b[0mcalc\u001b[0m\u001b[1;33m.\u001b[0m\u001b[0madd\u001b[0m\u001b[1;33m(\u001b[0m\u001b[1;36m100\u001b[0m\u001b[1;33m,\u001b[0m \u001b[1;36m200\u001b[0m\u001b[1;33m)\u001b[0m\u001b[1;33m\u001b[0m\u001b[1;33m\u001b[0m\u001b[0m\n\u001b[0m",
      "\u001b[1;31mNameError\u001b[0m: name 'calc' is not defined"
     ]
    }
   ],
   "source": [
    "calc.add(100, 200)"
   ]
  },
  {
   "cell_type": "markdown",
   "id": "4e19dddd-ad88-4d29-8a2d-f88bbb0fe80e",
   "metadata": {},
   "source": [
    "그래서 와일드 카드를 사용하여 util_before_all 패키지 안에 들어있는 모듈들을 전부다 가져올려고 한다."
   ]
  },
  {
   "cell_type": "code",
   "execution_count": 17,
   "id": "8a0d1723-0ad1-4eba-879c-a5b6c8f98575",
   "metadata": {},
   "outputs": [],
   "source": [
    "del mypac.util_before_all.calc # 원래 가져왔던 모듈 메모리에서 삭제"
   ]
  },
  {
   "cell_type": "code",
   "execution_count": 18,
   "id": "a21993b0-4eed-4f94-9500-976323e3b393",
   "metadata": {},
   "outputs": [],
   "source": [
    "from mypac.util_before_all import *"
   ]
  },
  {
   "cell_type": "code",
   "execution_count": 19,
   "id": "80e82c14-ea2e-4088-927c-96b4380915c6",
   "metadata": {},
   "outputs": [
    {
     "ename": "NameError",
     "evalue": "name 'calc' is not defined",
     "output_type": "error",
     "traceback": [
      "\u001b[1;31m---------------------------------------------------------------------------\u001b[0m",
      "\u001b[1;31mNameError\u001b[0m                                 Traceback (most recent call last)",
      "\u001b[1;32m<ipython-input-19-4f1943809827>\u001b[0m in \u001b[0;36m<module>\u001b[1;34m\u001b[0m\n\u001b[1;32m----> 1\u001b[1;33m \u001b[0mcalc\u001b[0m\u001b[1;33m.\u001b[0m\u001b[0madd\u001b[0m\u001b[1;33m(\u001b[0m\u001b[1;36m100\u001b[0m\u001b[1;33m,\u001b[0m\u001b[1;36m200\u001b[0m\u001b[1;33m)\u001b[0m\u001b[1;33m\u001b[0m\u001b[1;33m\u001b[0m\u001b[0m\n\u001b[0m",
      "\u001b[1;31mNameError\u001b[0m: name 'calc' is not defined"
     ]
    }
   ],
   "source": [
    "calc.add(100,200)"
   ]
  },
  {
   "cell_type": "code",
   "execution_count": 20,
   "id": "2e1df824-27ed-440c-ab9f-2887b7f1535c",
   "metadata": {},
   "outputs": [
    {
     "ename": "AttributeError",
     "evalue": "module 'mypac.util_before_all' has no attribute 'mydeco'",
     "output_type": "error",
     "traceback": [
      "\u001b[1;31m---------------------------------------------------------------------------\u001b[0m",
      "\u001b[1;31mAttributeError\u001b[0m                            Traceback (most recent call last)",
      "\u001b[1;32m<ipython-input-20-2f0962246560>\u001b[0m in \u001b[0;36m<module>\u001b[1;34m\u001b[0m\n\u001b[1;32m----> 1\u001b[1;33m \u001b[1;33m@\u001b[0m\u001b[0mmypac\u001b[0m\u001b[1;33m.\u001b[0m\u001b[0mutil_before_all\u001b[0m\u001b[1;33m.\u001b[0m\u001b[0mmydeco\u001b[0m\u001b[1;33m\u001b[0m\u001b[1;33m\u001b[0m\u001b[0m\n\u001b[0m\u001b[0;32m      2\u001b[0m \u001b[1;32mdef\u001b[0m \u001b[0madd\u001b[0m\u001b[1;33m(\u001b[0m\u001b[0ma\u001b[0m\u001b[1;33m,\u001b[0m \u001b[0mb\u001b[0m\u001b[1;33m)\u001b[0m\u001b[1;33m:\u001b[0m\u001b[1;33m\u001b[0m\u001b[1;33m\u001b[0m\u001b[0m\n\u001b[0;32m      3\u001b[0m     \u001b[1;32mreturn\u001b[0m \u001b[0ma\u001b[0m \u001b[1;33m+\u001b[0m \u001b[0mb\u001b[0m\u001b[1;33m\u001b[0m\u001b[1;33m\u001b[0m\u001b[0m\n\u001b[0;32m      4\u001b[0m \u001b[1;33m\u001b[0m\u001b[0m\n\u001b[0;32m      5\u001b[0m \u001b[0mprint\u001b[0m\u001b[1;33m(\u001b[0m\u001b[1;34m\"======\"\u001b[0m\u001b[1;33m)\u001b[0m\u001b[1;33m\u001b[0m\u001b[1;33m\u001b[0m\u001b[0m\n",
      "\u001b[1;31mAttributeError\u001b[0m: module 'mypac.util_before_all' has no attribute 'mydeco'"
     ]
    }
   ],
   "source": [
    "@mypac.util_before_all.mydeco\n",
    "def add(a, b):\n",
    "    return a + b\n",
    "\n",
    "print(\"======\")\n",
    "add(10, 20)"
   ]
  },
  {
   "cell_type": "code",
   "execution_count": 21,
   "id": "c10bae80-4f24-486c-9aff-095be6a9b783",
   "metadata": {},
   "outputs": [
    {
     "name": "stdout",
     "output_type": "stream",
     "text": [
      "False\n",
      "False\n",
      "False\n",
      "False\n",
      "False\n"
     ]
    }
   ],
   "source": [
    "print('calc' in dir())\n",
    "print('mydeco' in dir())\n",
    "print('stream' in dir())\n",
    "print('tip-canSetAll' in dir())\n",
    "print('tip-initMakeDirToPac' in dir())"
   ]
  },
  {
   "cell_type": "markdown",
   "id": "a5935a34-fe88-4b2c-a78e-d6edba190cfd",
   "metadata": {},
   "source": [
    "위와 같이 와일드카드를 통해 모든 모듈을 가져오려면 `__init__.py`에 모듈 공개를 설정해줘야 한다."
   ]
  },
  {
   "cell_type": "markdown",
   "id": "0ac0f20a-3ee9-4f17-a459-4d2dab99cc32",
   "metadata": {},
   "source": [
    "현재 디렉토리 위치에서 이전에 만들었던 util_before_all 디렉토리를 복사해 util이라는 이름으로 붙여넣자\n",
    "\n",
    "```\n",
    "[mypac]\n",
    "  - __init__.py\n",
    "  - [util]\n",
    "     - __init__.py\n",
    "     - calc.py\n",
    "     - mydeco.py\n",
    "     - stream.py\n",
    "     - tip-canSetAll.py\n",
    "     - tip-initMakeDirToPac\n",
    "  - [util_before_all]\n",
    "     - __init__.py\n",
    "     - calc.py\n",
    "     - mydeco.py\n",
    "     - stream.py\n",
    "     - tip-canSetAll.py\n",
    "     - tip-initMakeDirToPac\n",
    "```"
   ]
  },
  {
   "cell_type": "markdown",
   "id": "4702e5e1-661d-4058-84bc-16bacc676022",
   "metadata": {},
   "source": [
    "이제 util에 들어가 `__init__.py`안에 다음과 같이 적어주자"
   ]
  },
  {
   "cell_type": "markdown",
   "id": "9fd17fbd-fe7d-4c4a-b0cf-0035db623cc1",
   "metadata": {},
   "source": [
    "```python\n",
    "__all__ = [\"calc\",\"mydeco\",\"stream\"]\n",
    "```"
   ]
  },
  {
   "cell_type": "markdown",
   "id": "b0062ed9-efa9-4b96-bc8b-ec573119b1a6",
   "metadata": {},
   "source": [
    "이제 모듈들을 가져와보자"
   ]
  },
  {
   "cell_type": "code",
   "execution_count": 22,
   "id": "369760c8-3847-46dc-ac82-d243597d0dec",
   "metadata": {},
   "outputs": [],
   "source": [
    "from mypac.util import *"
   ]
  },
  {
   "cell_type": "code",
   "execution_count": 23,
   "id": "6de1f312-69f4-43d4-8ed9-3dfa8611c200",
   "metadata": {},
   "outputs": [
    {
     "name": "stdout",
     "output_type": "stream",
     "text": [
      "True\n",
      "True\n",
      "True\n",
      "False\n",
      "False\n"
     ]
    }
   ],
   "source": [
    "print('calc' in dir())\n",
    "print('mydeco' in dir())\n",
    "print('stream' in dir())\n",
    "print('tip-canSetAll' in dir())\n",
    "print('tip-initMakeDirToPac' in dir())"
   ]
  },
  {
   "cell_type": "code",
   "execution_count": 24,
   "id": "5ebf3f64-27e1-4fde-950b-4779c38ede87",
   "metadata": {},
   "outputs": [
    {
     "data": {
      "text/plain": [
       "['__all__',\n",
       " '__builtins__',\n",
       " '__cached__',\n",
       " '__doc__',\n",
       " '__file__',\n",
       " '__loader__',\n",
       " '__name__',\n",
       " '__package__',\n",
       " '__path__',\n",
       " '__spec__',\n",
       " 'calc',\n",
       " 'mydeco',\n",
       " 'stream']"
      ]
     },
     "execution_count": 24,
     "metadata": {},
     "output_type": "execute_result"
    }
   ],
   "source": [
    "dir(mypac.util)"
   ]
  },
  {
   "cell_type": "code",
   "execution_count": 25,
   "id": "4f82f1f5-5a53-4f6a-978d-b1826b610a2d",
   "metadata": {},
   "outputs": [
    {
     "data": {
      "text/plain": [
       "600"
      ]
     },
     "execution_count": 25,
     "metadata": {},
     "output_type": "execute_result"
    }
   ],
   "source": [
    "calc.add(100,200,300)"
   ]
  },
  {
   "cell_type": "code",
   "execution_count": 26,
   "id": "0eb5bf42-02bc-4e88-9a81-9b5c3d28f355",
   "metadata": {},
   "outputs": [
    {
     "name": "stdout",
     "output_type": "stream",
     "text": [
      "DECO!!!\n",
      "======\n",
      "매개변수 정보 10, 20\n"
     ]
    },
    {
     "data": {
      "text/plain": [
       "30"
      ]
     },
     "execution_count": 26,
     "metadata": {},
     "output_type": "execute_result"
    }
   ],
   "source": [
    "@mydeco.Deco\n",
    "def add(a, b):\n",
    "    return a + b\n",
    "\n",
    "print(\"======\")\n",
    "add(10, 20)"
   ]
  },
  {
   "cell_type": "code",
   "execution_count": 27,
   "id": "055293d5-af67-461c-a015-0c82f7e38b4c",
   "metadata": {
    "tags": []
   },
   "outputs": [
    {
     "name": "stdout",
     "output_type": "stream",
     "text": [
      "Parsing Target :  (1, 2, 3, 4, 5, 6, 7, 8, 9, 10)\n",
      "Parsing Steps :  deque([<function <lambda> at 0x0000028A35067670>, <function <lambda> at 0x0000028A35067700>, <function <lambda> at 0x0000028A35067790>])\n",
      "Mapping Steps :  <function <lambda> at 0x0000028A35067670>\n",
      "Mapping After:  [10, 20, 30, 40, 50, 60, 70, 80, 90, 100]\n",
      "Filtering Steps :  <function <lambda> at 0x0000028A35067700>\n",
      "Filtering After:  <filter object at 0x0000028A34F54E50>\n",
      "Reducing Steps :  <function <lambda> at 0x0000028A35067790>\n",
      "Reducing After:  550\n",
      "Result :  550\n"
     ]
    },
    {
     "data": {
      "text/plain": [
       "550"
      ]
     },
     "execution_count": 27,
     "metadata": {},
     "output_type": "execute_result"
    }
   ],
   "source": [
    "mystream = stream.HigherOrder(1, 2, 3, 4, 5, 6, 7, 8, 9, 10)\n",
    "mystream.verbose(True)\n",
    "mystream.functionsChain(\n",
    "    mapping = lambda x : x * 10,\n",
    "   filtering = lambda x : x % 2 == 0,\n",
    "   reducing = lambda x, y : x + y\n",
    ")"
   ]
  },
  {
   "cell_type": "markdown",
   "id": "012a97cb-53a6-4132-978b-dff22ed069ca",
   "metadata": {},
   "source": [
    "모두 성공적으로 가져와졌고 사용되어졌다."
   ]
  },
  {
   "cell_type": "markdown",
   "id": "59522d97-b427-4df7-aee0-675446040554",
   "metadata": {},
   "source": [
    "## - 스크립트 실행"
   ]
  },
  {
   "cell_type": "markdown",
   "id": "a478dd7d-c092-434e-a4f7-0009e81643f7",
   "metadata": {},
   "source": [
    "터미널을 통해 파이썬 프로그램을 실행하려면 아래와 같이 실행한다.\n",
    "\n",
    "```python\n",
    "python fibo.py <arguments>\n",
    "```\n",
    "\n",
    " - example\n",
    " \n",
    "```python\n",
    "$> python fibo.py 50\n",
    "0 1 1 2 3 5 8 13 21 34\n",
    "```\n",
    "\n",
    "이 때의 모듈의 코드들은 import할 때처럼 실행되고, 내장 변수인 `__name__` 은 `__main__`으로 설정된다."
   ]
  },
  {
   "cell_type": "markdown",
   "id": "3779007b-6c8a-4cea-a68d-62ffa9f84da7",
   "metadata": {},
   "source": [
    "그래서 파이썬을 스크립트 실행 파일로써 사용하고자 한다면 다음 코드를 추가하면 된다.\n",
    "\n",
    "```python\n",
    "if __name__ == \"__main__\":\n",
    "    import sys\n",
    "    fib(int(sys.argv[1]))\n",
    "```\n",
    "\n",
    "기존에 만들었던 fibo.py에 다음과 같이 추가하고 터미널을 통해 테스트해보자"
   ]
  },
  {
   "cell_type": "markdown",
   "id": "20269e5a-92f2-4dce-a7ab-e20327d52dbe",
   "metadata": {},
   "source": [
    " - `fibo.py`\n",
    " \n",
    "```python\n",
    "def fib(n):    # write Fibonacci series up to n\n",
    "    a, b = 0, 1\n",
    "    while a < n:\n",
    "        print(a, end=' ')\n",
    "        a, b = b, a+b\n",
    "    print()\n",
    "    \n",
    "    \n",
    "```\n",
    "```python\n",
    "def fib2(n):   # return Fibonacci series up to n\n",
    "    result = []\n",
    "    a, b = 0, 1\n",
    "    while a < n:\n",
    "        result.append(a)\n",
    "        a, b = b, a+b\n",
    "    return result\n",
    "\n",
    "\n",
    "```\n",
    "```python\n",
    "if __name__ == \"__main__\":\n",
    "    import sys\n",
    "    fib(int(sys.argv[1]))\n",
    "```"
   ]
  },
  {
   "cell_type": "markdown",
   "id": "5e6a424d-86bc-4564-8128-b880c3850d8f",
   "metadata": {},
   "source": [
    "<br>\n",
    "<br>\n",
    "<br>\n",
    "<br>\n",
    "<br>\n",
    "<br>\n",
    "<hr>\n",
    "<br>\n",
    "<br>\n",
    "<br>\n",
    "<br>\n",
    "<br>\n",
    "<br>"
   ]
  },
  {
   "cell_type": "markdown",
   "id": "4d159aee-2978-4f97-996e-8104aead3814",
   "metadata": {
    "tags": []
   },
   "source": [
    "# 09. 비동기"
   ]
  },
  {
   "cell_type": "markdown",
   "id": "cf7eed82-387d-4ab2-b0c9-8ce9cc57e5b6",
   "metadata": {},
   "source": [
    "내용이 방대해 네트워크, 스트림, 쓰레드 등은 다루지 않고 필요한 내용만 다루었다. \n",
    "\n",
    "본 장에서는 고수준 API와 저수준 API 모두 소개했지만 현재 당장은 고수준 API만 알아도 무방할 듯하다."
   ]
  },
  {
   "cell_type": "markdown",
   "id": "9de1c685-f909-4e99-b212-7089e47018e2",
   "metadata": {},
   "source": [
    "<br><br><br>"
   ]
  },
  {
   "cell_type": "markdown",
   "id": "0d30be0a-287b-4530-9c6d-51b09129f92c",
   "metadata": {},
   "source": [
    "## - asyncio\r\n",
    "\r\n",
    "`async/await` 구문을 사용하여 동시성 코드를 작성하는 라이브러리\r\n",
    "\r\n",
    "`고수준 API`와 `저수준 API`를 지원한다.\r\n",
    "\r\n",
    " -  [고수준 API Reference](https://docs.python.org/ko/3/library/asyncio-api-index.html)\r\n",
    "\r\n",
    " -  [저수준 API Reference](https://docs.python.org/ko/3/library/asyncio-llapi-index.html)"
   ]
  },
  {
   "cell_type": "markdown",
   "id": "7f4cf74e-bbea-4978-8046-23618173af6a",
   "metadata": {},
   "source": [
    "```python\n",
    "import asyncio\n",
    "```"
   ]
  },
  {
   "cell_type": "markdown",
   "id": "854c8edf-a9e9-441b-9f70-5aeac84ef4f3",
   "metadata": {},
   "source": [
    "<br><br><br>"
   ]
  },
  {
   "cell_type": "markdown",
   "id": "4e48a6e9-4307-4f35-acc5-c0c2064a2203",
   "metadata": {},
   "source": [
    "## - 고수준 API"
   ]
  },
  {
   "cell_type": "markdown",
   "id": "c467553d-e65f-49c6-bada-32e0a4b640b4",
   "metadata": {},
   "source": [
    "### * async/await 개요\n",
    "\n",
    "코루틴을 선언할 때는 함수(def) 옆 키워드로 `async`를 붙이면 된다. 그리고 `await`는 `async`로 정의된 함수 안에서만 사용이 가능하며 `await`는 코루틴을 실행하고 끝날 때까지 기다린다."
   ]
  },
  {
   "cell_type": "markdown",
   "id": "72d68cf3-7620-4bb2-af06-d72aef1f9b02",
   "metadata": {},
   "source": [
    "### * 코루틴 함수 and 코루틴 객체\n",
    "\n",
    "`코루틴 함수`는 `async def`로 선언된 함수를 이야기하고 `코루틴 객체`는 코루틴 함수를 호출하여 반환된 코루틴을 이야기한다."
   ]
  },
  {
   "cell_type": "markdown",
   "id": "2b7218ea-831c-4317-9c38-b3cdc88f744c",
   "metadata": {},
   "source": [
    "### * awaitable 객체\n",
    "\n",
    "`await` 표현식을 통해 사용할 수 있으면 어웨이터블 객체라고 말한다.\n",
    "\n",
    " - 코루틴(Coroutine)\n",
    " - 태스크(Task)\n",
    " - 퓨처(Futrue)"
   ]
  },
  {
   "cell_type": "markdown",
   "id": "75f60604-3c43-4e05-b034-1d6885d65985",
   "metadata": {},
   "source": [
    "### * asyncio.run(coro, *, debug=False)\n",
    "\n",
    "동기 코드에서 비동기 코드로 진입하는 부분이다. 선언된 코루틴을 `coro` 위치에 인수로서 대입하면 된다.\n",
    "\n",
    "내부적으로 이벤트 루프(even_loop)를 만들고 코루틴(coroutine)을 실행한 다음 이벤트 루프를 닫는다(close)."
   ]
  },
  {
   "cell_type": "markdown",
   "id": "befc6019-07bf-4481-9883-e3e8d68c0f95",
   "metadata": {},
   "source": [
    "### * asyncio.sleep(delay, result=None, *, loop=None)\n",
    "\n",
    "delay 동안 Blocking한다. 즉, 잠깐 멈춘다.\n",
    "\n",
    "result가 있으면 완료시 호출자에게 반환한다.\n",
    "\n",
    "<hr>"
   ]
  },
  {
   "cell_type": "markdown",
   "id": "e027f46d-1bbf-4c76-81e6-803eb6e46c7a",
   "metadata": {},
   "source": [
    "```python\n",
    "import asyncio\n",
    "\n",
    "async def main():\n",
    "    print('hello')\n",
    "    await asyncio.sleep(1)\n",
    "    print('world')\n",
    "\n",
    "asyncio.run(main());\n",
    "```\n",
    "\n",
    " - 결과\n",
    " \n",
    "```\n",
    "hello\n",
    "world\n",
    "```"
   ]
  },
  {
   "cell_type": "markdown",
   "id": "51e7a1d8-fe0f-4ac4-89ef-2d17c09683da",
   "metadata": {},
   "source": [
    "<hr>\n",
    "\n",
    "또 다른 코드를 실행해보자.\n",
    "\n",
    "<hr>"
   ]
  },
  {
   "cell_type": "markdown",
   "id": "4ef0416b-1fb3-4904-83bc-a65160a3e681",
   "metadata": {},
   "source": [
    "```python\n",
    "import asyncio\n",
    "import time\n",
    "\n",
    "async def say_after(delay, what):\n",
    "    await asyncio.sleep(delay)\n",
    "    print(what)\n",
    "\n",
    "async def main():\n",
    "    \n",
    "    # the '%X' means Locale’s appropriate time representation.\n",
    "    print(f\"started at {time.strftime('%X')}\") \n",
    "\n",
    "    await say_after(3, 'hello')\n",
    "    await say_after(4, 'world')\n",
    "\n",
    "    print(f\"finished at {time.strftime('%X')}\")\n",
    "\n",
    "asyncio.run(main())\n",
    "```\n",
    "\n",
    " - 결과\n",
    " \n",
    "```\n",
    "started at 00:56:52\n",
    "hello\n",
    "world\n",
    "finished at 00:56:59\n",
    "```"
   ]
  },
  {
   "cell_type": "markdown",
   "id": "b53b38d2-3257-4988-ad4f-cea95b7ffd71",
   "metadata": {},
   "source": [
    "<hr>\n",
    "\n",
    "위 코드가 모두 마치기까지 약 7초가 걸렸다. 이유는 먼저 `say_after(3, 'hello')` 코루틴을 실행하고 약 3초간 기다렸다가 마무리된 후 `say_after(4, 'world')` 코루틴에서 4초간 기다렸기 때문이다.\n",
    "\n",
    "`time.strftime()` 함수에 대해 궁금하다면 공식 문서를 참고하자. [click](https://docs.python.org/3.8/library/time.html#time.strftime)\n",
    "\n",
    "때문에 각 코루틴의 결과값에 서로 의존적이지 않다면 각각의 코루틴이 모두 따로 동시에 실행되도록 하는 솔루션이 필요하다."
   ]
  },
  {
   "cell_type": "markdown",
   "id": "0bb728c3-c554-42c4-9a73-dae1935fc743",
   "metadata": {},
   "source": [
    "### * asyncio.create_task(coro, *, name=None)\n",
    "\n",
    "흐름을 분기하는 코드이며, 새로운 micro-thread 생성한다.\n",
    "\n",
    "전달 받은 코루틴을 Task로 감싸고 실행을 예약한다.\n",
    "\n",
    "그리고 그러한 Task 객체를 반환한다.\n",
    "\n",
    "name이 None이 아니면 내부적으로 `Task.set_name()`을 사용해 Task 이름을 설정한다.\n",
    "\n",
    "\n",
    "\n",
    "<hr>"
   ]
  },
  {
   "cell_type": "markdown",
   "id": "2936d9f6-f887-445d-aeec-59f8d66ad40a",
   "metadata": {},
   "source": [
    "```python\n",
    "import asyncio\n",
    "import time\n",
    "\n",
    "async def say_after(delay, what):\n",
    "    await asyncio.sleep(delay)\n",
    "    print(what)\n",
    "\n",
    "async def main():\n",
    "    coro1 =  say_after(3, 'hello')\n",
    "    coro2 =  say_after(4, 'world')\n",
    "\n",
    "    task1 = asyncio.create_task(coro1)\n",
    "    task2 = asyncio.create_task(coro2)\n",
    "\n",
    "    print(f\"started at {time.strftime('%X')}\")\n",
    "\n",
    "    await task1\n",
    "    await task2\n",
    "\n",
    "    print(f\"finished at {time.strftime('%X')}\")\n",
    "\n",
    "asyncio.run(main())\n",
    "```\n",
    "\n",
    " - 결과\n",
    " \n",
    "```\n",
    "started at 01:09:12\n",
    "hello\n",
    "world\n",
    "finished at 01:09:16\n",
    "```"
   ]
  },
  {
   "cell_type": "markdown",
   "id": "74f99812-8282-468a-9858-8bf1ab36cf59",
   "metadata": {},
   "source": [
    "<hr>\n",
    "\n",
    "위에 결과를 보면 알 수 있듯이 각 코루틴이 Task 객체로 감싸져서 나왔고 코루틴을 실행했던 것처럼 `await` 키워드를 통해 비동기적인 실행을 하였다. 그러나 각 코루틴이 끝날 때까지 기다렸다가 다음 코루틴 작업으로 넘어가는 것이 아니라 동시에 실행한 것을 볼 수 있다."
   ]
  },
  {
   "cell_type": "markdown",
   "id": "dff51be9-3f6b-4723-a820-7cbce15b5e8a",
   "metadata": {},
   "source": [
    "또다른 예제를 살펴보자.\n",
    "\n",
    "<hr>"
   ]
  },
  {
   "cell_type": "markdown",
   "id": "313ffe37-e8bc-4751-8db8-0aed5747b65a",
   "metadata": {},
   "source": [
    "```python\n",
    "import asyncio\n",
    "\n",
    "async def saying(interval, what, how_many):\n",
    "    while how_many > 0:\n",
    "        await asyncio.sleep(interval)\n",
    "        print(what)\n",
    "        how_many -= 1\n",
    "\n",
    "async def main():\n",
    "    coro1 =  saying(1, 'hello', 5)\n",
    "    coro2 =  saying(2, 'world', 3)\n",
    "\n",
    "    await coro1\n",
    "    await coro2\n",
    "\n",
    "asyncio.run(main())\n",
    "```\n",
    "\n",
    " - 결과\n",
    " \n",
    "```\n",
    "hello\n",
    "hello\n",
    "hello\n",
    "hello\n",
    "hello\n",
    "world\n",
    "world\n",
    "world\n",
    "```"
   ]
  },
  {
   "cell_type": "markdown",
   "id": "72fe395e-23cb-4e7e-8350-cefdf03a6276",
   "metadata": {},
   "source": [
    "<hr>\n",
    "\n",
    "본 예제도 마찬가지로 코루틴 프로그래밍을 통해 비동기적인 프로그램 실행을 노렸지만 결과적으로는 마치 동기적으로 실행되어버린 케이스다.\n",
    "\n",
    "물론 `create_task()` 함수를 통해 코루틴을 Task 객체로 감싸서 동시에 처리할 수 있다.\n",
    "\n",
    "<hr>"
   ]
  },
  {
   "cell_type": "markdown",
   "id": "9d489bca-9d27-4a49-b5dc-743fa8099b0c",
   "metadata": {},
   "source": [
    "```python\n",
    "import asyncio\n",
    "\n",
    "async def saying(interval, what, how_many):\n",
    "    while how_many > 0:\n",
    "        await asyncio.sleep(interval)\n",
    "        print(what)\n",
    "        how_many -= 1\n",
    "\n",
    "async def main():\n",
    "    coro1 =  saying(1, 'hello', 5)\n",
    "    coro2 =  saying(2, 'world', 3)\n",
    "    coro3 =  saying(3, 'python', 2)\n",
    "\n",
    "    task1 = asyncio.create_task(coro1)\n",
    "    task2 = asyncio.create_task(coro2)\n",
    "    task3 = asyncio.create_task(coro3)\n",
    "\n",
    "    await task1\n",
    "    await task2\n",
    "    await task3\n",
    "\n",
    "asyncio.run(main())\n",
    "```\n",
    "\n",
    " - 결과\n",
    " \n",
    "```\n",
    "hello\n",
    "world\n",
    "hello\n",
    "python\n",
    "hello\n",
    "world\n",
    "hello\n",
    "hello\n",
    "world\n",
    "python\n",
    "```"
   ]
  },
  {
   "cell_type": "markdown",
   "id": "71635cc1-97ee-4b9a-91a6-ca3ef9ae0975",
   "metadata": {},
   "source": [
    "<hr>\n",
    "\n",
    "그리고 `gather()` 함수로도 여러가지를 동시에 예약하고 처리할 수도 있다. \n",
    "\n",
    "### * asyncio.gather(*aws, loop=None, return_exceptions=False)\n",
    "\n",
    "aws 파라미터에 들어간 코루틴 객체들을 자동으로 태스크로 예약시키고 동시에 실행한다. 처리 결과값들은 선언된 순서와 일치한다.\n",
    "\n",
    "<hr>"
   ]
  },
  {
   "cell_type": "markdown",
   "id": "dd8828e7-a9f5-41ec-bf51-73674f4ceb6b",
   "metadata": {},
   "source": [
    "```python\n",
    "import asyncio\n",
    "\n",
    "async def saying(interval, what, how_many):\n",
    "    while how_many > 0:\n",
    "        await asyncio.sleep(interval)\n",
    "        print(what)\n",
    "        how_many -= 1\n",
    "    return what\n",
    "\n",
    "async def main():\n",
    "    coro1 =  saying(1, 'hello', 5)\n",
    "    coro2 =  saying(2, 'world', 3)\n",
    "    coro3 =  saying(3, 'python', 2)\n",
    "\n",
    "    coro_result_list = await asyncio.gather(\n",
    "        coro1, coro2, coro3\n",
    "    )\n",
    "    print(coro_result_list)\n",
    "\n",
    "asyncio.run(main())\n",
    "```\n",
    "\n",
    " - 결과\n",
    " \n",
    "```\n",
    "hello\n",
    "world\n",
    "hello\n",
    "python\n",
    "hello\n",
    "hello\n",
    "world\n",
    "hello\n",
    "python\n",
    "world\n",
    "['hello', 'world', 'python']\n",
    "```"
   ]
  },
  {
   "cell_type": "markdown",
   "id": "0c8d7fb6-1f2d-42bd-a0d6-670ed0fb6cba",
   "metadata": {},
   "source": [
    "<hr>"
   ]
  },
  {
   "cell_type": "markdown",
   "id": "1bfa3464-b2f3-402c-a539-989b19482eb2",
   "metadata": {},
   "source": [
    "<br><br><br>"
   ]
  },
  {
   "cell_type": "markdown",
   "id": "2b08cbc7-4775-439b-9a48-feba90a4557d",
   "metadata": {},
   "source": [
    "## - 저수준 API"
   ]
  },
  {
   "cell_type": "markdown",
   "id": "6c851905-2fb0-4f2b-9007-de07c58e4fb8",
   "metadata": {},
   "source": [
    "asyncio 모듈의 고수준 API는 응용 프로그램 개발자를 위한 것이었다면, 저수준 API는 라이브러리와 프레임워크 개발자를 위한 것이다.\n",
    "\n",
    "아래 코드는 이미 위에서 경험한 고수준 API를 이용한 프로그램이다."
   ]
  },
  {
   "cell_type": "markdown",
   "id": "5a589edb-85f2-4c90-80d8-6843a0298e3b",
   "metadata": {},
   "source": [
    "<hr>"
   ]
  },
  {
   "cell_type": "markdown",
   "id": "f503fa3a-9748-45e1-b1ec-da73e34e77f7",
   "metadata": {},
   "source": [
    "```python\n",
    "import asyncio\n",
    "\n",
    "async def main():\n",
    "    print('hello')\n",
    "    await asyncio.sleep(1)\n",
    "    print('world')\n",
    "\n",
    "asyncio.run(main());\n",
    "```\n",
    "\n",
    " - 결과\n",
    " \n",
    "```\n",
    "hello\n",
    "world\n",
    "```"
   ]
  },
  {
   "cell_type": "markdown",
   "id": "57b0ad1a-4fd0-4e30-b122-31197e274cfe",
   "metadata": {},
   "source": [
    "<hr>"
   ]
  },
  {
   "cell_type": "markdown",
   "id": "b068abcc-db6c-44a5-8f79-ede19718bfc3",
   "metadata": {},
   "source": [
    "이를 저수준 API 형식으로 바꾸면 다음과 같다."
   ]
  },
  {
   "cell_type": "markdown",
   "id": "d62b6e51-4240-460d-b014-fa997cf25b05",
   "metadata": {},
   "source": [
    "<hr>"
   ]
  },
  {
   "cell_type": "markdown",
   "id": "fc122c0e-1257-4340-84d7-73fdd509ab03",
   "metadata": {},
   "source": [
    "```python\n",
    "import asyncio\n",
    "\n",
    "async def main():\n",
    "    print('hello')\n",
    "    await asyncio.sleep(1)\n",
    "    print('world')\n",
    "\n",
    "loop = asyncio.get_event_loop()\n",
    "loop.run_until_complete(main())\n",
    "loop.close()\n",
    "```\n",
    "\n",
    " - 결과\n",
    " \n",
    "```\n",
    "hello\n",
    "world\n",
    "```"
   ]
  },
  {
   "cell_type": "markdown",
   "id": "29a9a719-47f9-4c13-b952-ef7151d0438a",
   "metadata": {},
   "source": [
    "<hr>"
   ]
  },
  {
   "cell_type": "markdown",
   "id": "aa17a3dc-9dc3-426d-a6b5-b69360282c96",
   "metadata": {},
   "source": [
    "왜 `asyncio.run()`와 똑같이 동작할까? 이 함수에 대한 설명을 다시 살펴보자. 이 안에 답이 있다."
   ]
  },
  {
   "cell_type": "markdown",
   "id": "d71afe1b-2e38-47f6-9b00-711dd59c77b3",
   "metadata": {},
   "source": [
    "### * asyncio.run()\n",
    "\n",
    "동기 코드에서 비동기 코드로 진입하는 부분이다. 선언된 코루틴을 `coro` 위치에 인수로서 대입하면 된다.\n",
    "\n",
    "내부적으로 이벤트 루프(even_loop)를 만들고 코루틴(coroutine)을 실행한 다음 이벤트 루프를 닫는다(close)."
   ]
  },
  {
   "cell_type": "markdown",
   "id": "56a44fbc-0ab3-4cc8-a76a-e9b0f7723518",
   "metadata": {},
   "source": [
    "여기서 주목할 부분은 다음과 같다.\n",
    "\n",
    "```\n",
    "...\n",
    "...\n",
    "내부적으로 이벤트 루프(even_loop)를 만들고 코루틴(coroutine)을 실행한 다음 이벤트 루프를 닫는다(close).\n",
    "...\n",
    "...\n",
    "```\n",
    "\n",
    "이 말은 아래 코드를 말하는 것이다.\n",
    "\n",
    "```python\n",
    "loop = asyncio.get_event_loop()\n",
    "loop.run_until_complete(main())\n",
    "loop.close()\n",
    "```"
   ]
  },
  {
   "cell_type": "markdown",
   "id": "845d7f1f-5dd8-4833-8a01-4b3e88417fe1",
   "metadata": {},
   "source": [
    "### * asyncio.get_event_loop()\n",
    "\n",
    "현재 사용중인 이벤트 루프를 가져온다. \n",
    "\n",
    "파이썬 공식 문서에서는 이러한 저수준의 함수를 사용하여 수동으로 이벤트 루프를 생성하고 닫는 대신 그냥 `asyncio.run()` 함수를 사용하는 것을 고려하라고 한다."
   ]
  },
  {
   "cell_type": "markdown",
   "id": "9a5fa2e3-2f67-4f35-bb57-9412957da122",
   "metadata": {},
   "source": [
    "### * loop.run_until_complete(future)\n",
    " Future의 인스턴스가 완료가 될 때까지 실행하고 만일 Future 객체가 아니라 코루틴 객체가 들어오면 TasK 객체로 실행되도록 묵시적으로 예약된다."
   ]
  },
  {
   "cell_type": "markdown",
   "id": "df9fc3ea-1568-4f3f-80bf-ff4cce614d2b",
   "metadata": {},
   "source": [
    "### * loop.close()\n",
    "\n",
    "이벤트 루트를 닫는다."
   ]
  }
 ],
 "metadata": {
  "kernelspec": {
   "display_name": "Python 3 (ipykernel)",
   "language": "python",
   "name": "python3"
  },
  "language_info": {
   "codemirror_mode": {
    "name": "ipython",
    "version": 3
   },
   "file_extension": ".py",
   "mimetype": "text/x-python",
   "name": "python",
   "nbconvert_exporter": "python",
   "pygments_lexer": "ipython3",
   "version": "3.9.7"
  }
 },
 "nbformat": 4,
 "nbformat_minor": 5
}
