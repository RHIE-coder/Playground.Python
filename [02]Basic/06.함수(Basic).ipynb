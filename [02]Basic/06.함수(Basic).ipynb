{
 "cells": [
  {
   "cell_type": "markdown",
   "id": "49f2db93-2d74-4e42-b760-0cdbc09cf6e2",
   "metadata": {},
   "source": [
    "# 06. 함수(Basic)"
   ]
  },
  {
   "cell_type": "markdown",
   "id": "059ba835-daff-47a3-9004-fa15d0810b57",
   "metadata": {},
   "source": [
    "## - 함수 선언과 호출"
   ]
  },
  {
   "cell_type": "code",
   "execution_count": 18,
   "id": "43d64236-c8cf-4c61-a86e-6886f5a37ec5",
   "metadata": {},
   "outputs": [],
   "source": [
    "def my_add_func(num1, num2): # num1과 num2는 파라미터(Parameter) 혹은 매개변수라고 한다\n",
    "    print(\"더하기 완료!\")\n",
    "    return num1 + num2"
   ]
  },
  {
   "cell_type": "code",
   "execution_count": 20,
   "id": "8d35c618-45a0-4937-8fe0-b5eb33cdee49",
   "metadata": {},
   "outputs": [
    {
     "name": "stdout",
     "output_type": "stream",
     "text": [
      "<function my_add_func at 0x000001FADFFBE4C0>\n",
      "더하기 완료!\n",
      "30\n"
     ]
    }
   ],
   "source": [
    "func = my_add_func\n",
    "print(func) # 함수를 변수로 받을 수도 있다.\n",
    "result = func(10, 20)\n",
    "print(result)"
   ]
  },
  {
   "cell_type": "markdown",
   "id": "c9d20e64-14e6-48df-be4d-9de4cc4bea33",
   "metadata": {},
   "source": [
    "## - Lambda"
   ]
  },
  {
   "cell_type": "code",
   "execution_count": 21,
   "id": "cb84c98e-f28d-4771-acf6-743e41e39df5",
   "metadata": {},
   "outputs": [
    {
     "name": "stdout",
     "output_type": "stream",
     "text": [
      "484\n"
     ]
    }
   ],
   "source": [
    "# 기존\n",
    "def my_mul(num1, num2):\n",
    "    return num1 * num2\n",
    "print(my_mul(22,22))"
   ]
  },
  {
   "cell_type": "code",
   "execution_count": 24,
   "id": "a49b525a-e5b5-4d08-aece-73fe0a813090",
   "metadata": {},
   "outputs": [
    {
     "name": "stdout",
     "output_type": "stream",
     "text": [
      "484\n"
     ]
    }
   ],
   "source": [
    "# 람다(Lambda)\n",
    "func = lambda num1, num2 : num1 * num2\n",
    "print(func(22,22))"
   ]
  },
  {
   "cell_type": "code",
   "execution_count": 25,
   "id": "c11930e7-b1f3-4ecc-9122-f411709f38e2",
   "metadata": {},
   "outputs": [
    {
     "name": "stdout",
     "output_type": "stream",
     "text": [
      "9\n"
     ]
    }
   ],
   "source": [
    "f = lambda x : print(x)\n",
    "f((lambda x : x ** 2)(3))"
   ]
  },
  {
   "cell_type": "markdown",
   "id": "a9e867ac-e87c-43cd-aa45-7a8affef2e0f",
   "metadata": {},
   "source": [
    "<br>\n",
    "<br>\n",
    "<br>\n",
    "<br>\n",
    "<br>\n",
    "<br>\n",
    "<hr>\n",
    "<br>\n",
    "<br>\n",
    "<br>\n",
    "<br>\n",
    "<br>\n",
    "<br>"
   ]
  }
 ],
 "metadata": {
  "kernelspec": {
   "display_name": "Python 3 (ipykernel)",
   "language": "python",
   "name": "python3"
  },
  "language_info": {
   "codemirror_mode": {
    "name": "ipython",
    "version": 3
   },
   "file_extension": ".py",
   "mimetype": "text/x-python",
   "name": "python",
   "nbconvert_exporter": "python",
   "pygments_lexer": "ipython3",
   "version": "3.9.6"
  }
 },
 "nbformat": 4,
 "nbformat_minor": 5
}
