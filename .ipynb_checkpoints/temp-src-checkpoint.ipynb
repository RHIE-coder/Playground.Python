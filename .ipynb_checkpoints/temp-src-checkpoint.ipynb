{
 "cells": [
  {
   "cell_type": "markdown",
   "id": "different-american",
   "metadata": {},
   "source": [
    "<hr>"
   ]
  },
  {
   "cell_type": "markdown",
   "id": "informative-conditioning",
   "metadata": {},
   "source": [
    "<hr>"
   ]
  },
  {
   "cell_type": "markdown",
   "id": "legitimate-white",
   "metadata": {},
   "source": [
    "<hr>"
   ]
  },
  {
   "cell_type": "markdown",
   "id": "acute-electricity",
   "metadata": {},
   "source": [
    "<hr>"
   ]
  },
  {
   "cell_type": "markdown",
   "id": "moved-stations",
   "metadata": {},
   "source": [
    "<hr>"
   ]
  },
  {
   "cell_type": "markdown",
   "id": "extreme-certificate",
   "metadata": {},
   "source": [
    "<hr>"
   ]
  },
  {
   "cell_type": "markdown",
   "id": "vital-paper",
   "metadata": {},
   "source": [
    "## 입력과 출력"
   ]
  },
  {
   "cell_type": "code",
   "execution_count": 104,
   "id": "removed-associate",
   "metadata": {},
   "outputs": [
    {
     "data": {
      "text/plain": [
       "'Results of the 2016 Hackerton'"
      ]
     },
     "execution_count": 104,
     "metadata": {},
     "output_type": "execute_result"
    }
   ],
   "source": [
    "year, event = 2016, 'Hackerton'\n",
    "f'Results of the {year} {event}'"
   ]
  },
  {
   "cell_type": "code",
   "execution_count": 108,
   "id": "serious-nevada",
   "metadata": {},
   "outputs": [
    {
     "data": {
      "text/plain": [
       "1000000"
      ]
     },
     "execution_count": 108,
     "metadata": {},
     "output_type": "execute_result"
    }
   ],
   "source": [
    "number_format = 1_000_000\n",
    "number_format"
   ]
  },
  {
   "cell_type": "code",
   "execution_count": 109,
   "id": "contrary-directory",
   "metadata": {},
   "outputs": [
    {
     "data": {
      "text/plain": [
       "' 42572654 YES votes  49.67%'"
      ]
     },
     "execution_count": 109,
     "metadata": {},
     "output_type": "execute_result"
    }
   ],
   "source": [
    "yes_votes = 42_572_654\n",
    "no_votes = 43_132_495\n",
    "percentage = yes_votes / (yes_votes + no_votes)\n",
    "'{:-9} YES votes  {:2.2%}'.format(yes_votes, percentage)"
   ]
  },
  {
   "cell_type": "code",
   "execution_count": 110,
   "id": "forced-warehouse",
   "metadata": {},
   "outputs": [
    {
     "name": "stdout",
     "output_type": "stream",
     "text": [
      "The value of pi is approximately 3.142.\n"
     ]
    }
   ],
   "source": [
    "import math\n",
    "print(f'The value of pi is approximately {math.pi:.3f}.')"
   ]
  },
  {
   "cell_type": "code",
   "execution_count": 111,
   "id": "focal-suggestion",
   "metadata": {},
   "outputs": [
    {
     "name": "stdout",
     "output_type": "stream",
     "text": [
      "Sjoerd     ==>       4127\n",
      "Jack       ==>       4098\n",
      "Dcab       ==>       7678\n"
     ]
    }
   ],
   "source": [
    "table = {'Sjoerd': 4127, 'Jack': 4098, 'Dcab': 7678}\n",
    "for name, phone in table.items():\n",
    "    print(f'{name:10} ==> {phone:10d}')"
   ]
  },
  {
   "cell_type": "code",
   "execution_count": 113,
   "id": "closing-profit",
   "metadata": {},
   "outputs": [
    {
     "name": "stdout",
     "output_type": "stream",
     "text": [
      "Jack: 4098; Sjoerd: 4127; Dcab: 8637678\n"
     ]
    }
   ],
   "source": [
    "table = {'Sjoerd': 4127, 'Jack': 4098, 'Dcab': 8637678}\n",
    "print('Jack: {Jack:d}; Sjoerd: {Sjoerd:d}; Dcab: {Dcab:d}'.format(**table))"
   ]
  },
  {
   "cell_type": "code",
   "execution_count": 118,
   "id": "noticed-retailer",
   "metadata": {},
   "outputs": [],
   "source": [
    "f = open('workfile', 'r')\n",
    "f.close()"
   ]
  },
  {
   "cell_type": "code",
   "execution_count": 120,
   "id": "wireless-security",
   "metadata": {},
   "outputs": [
    {
     "data": {
      "text/plain": [
       "\"첫 번째 인자는 파일 이름을 담은 문자열입니다. 두 번째 인자는 파일이 사용될 방식을 설명하는 몇 개의 문자들을 담은 또 하나의 문자열입니다. mode 는 파일을 읽기만 하면 'r', 쓰기만 하면 'w' (같은 이름의 이미 존재하는 파일은 삭제됩니다) 가 되고, 'a' 는 파일을 덧붙이기 위해 엽니다; 파일에 기록되는 모든 데이터는 자동으로 끝에 붙습니다. 'r+' 는 파일을 읽고 쓰기 위해 엽니다. mode 인자는 선택적인데, 생략하면 'r' 이 가정됩니다.\\n\\n보통, 파일은 텍스트 모드 (text mode) 로 열리는데, 이 뜻은, 파일에 문자열을 읽고 쓰고, 파일에는 특정한 인코딩으로 저장된다는 것입니다. 인코딩이 지정되지 않으면 기본값은 플랫폼 의존적입니다 (open() 을 보세요). mode 에 덧붙여진 'b' 는 파일을 바이너리 모드 (binary mode) 로 엽니다: 이제 데이터는 바이트열 객체의 형태로 읽고 쓰입니다. 텍스트를 포함하지 않는 모든 파일에는 이 모드를 사용해야 합니다.\\n\\n텍스트 모드에서, 읽을 때의 기본 동작은 플랫폼 의존적인 줄 종료 (유닉스에서 \\\\n, 윈도우에서 \\\\r\\\\n) 를 단지 \\\\n 로 변경하는 것입니다. 텍스트 모드로 쓸 때, 기본 동작은 \\\\n 를 다시 플랫폼 의존적인 줄 종료로 변환하는 것입니다. 이 파일 데이터에 대한 무대 뒤의 수정은 텍스트 파일의 경우는 문제가 안 되지만, JPEG 이나 EXE 파일과 같은 바이너리 데이터를 망치게 됩니다. 그런 파일을 읽고 쓸 때 바이너리 모드를 사용하도록 주의하세요.\\n\\n파일 객체를 다룰 때 with 키워드를 사용하는 것은 좋은 습관입니다. 혜택은 도중 예외가 발생하더라도 스위트가 종료될 때 파일이 올바르게 닫힌다는 것입니다. with 를 사용하는 것은 동등한 try-finally 블록을 쓰는 것에 비교해 훨씬 짧기도 합니다.\""
      ]
     },
     "execution_count": 120,
     "metadata": {},
     "output_type": "execute_result"
    }
   ],
   "source": [
    "with open('workfile', 'r', encoding='UTF8') as f:\n",
    "    read_data = f.read()\n",
    "    \n",
    "f.closed\n",
    "\n",
    "read_data"
   ]
  },
  {
   "cell_type": "markdown",
   "id": "naughty-holder",
   "metadata": {},
   "source": [
    " - JSON 다루기"
   ]
  },
  {
   "cell_type": "code",
   "execution_count": 142,
   "id": "junior-testament",
   "metadata": {},
   "outputs": [
    {
     "data": {
      "text/plain": [
       "[{'age': 15, 'name': 'Jackson'},\n",
       " {'age': 28, 'name': 'Eddie'},\n",
       " {'age': 27, 'name': 'kha'}]"
      ]
     },
     "execution_count": 142,
     "metadata": {},
     "output_type": "execute_result"
    }
   ],
   "source": [
    "import json\n",
    "data1 = dict(\n",
    "    name = \"Jackson\",\n",
    "    age = 15\n",
    ")\n",
    "data2 = dict(\n",
    "    name = \"Eddie\",\n",
    "    age = 28\n",
    ")\n",
    "data3 = dict(\n",
    "    name = \"kha\",\n",
    "    age = 27\n",
    ")\n",
    "dumped_json = json.dumps([data1, data2, data3], sort_keys=True, indent=4)\n",
    "with open(\"json_module_test.json\", 'w', encoding='UTF8') as f:\n",
    "    f.write(dumped_json)\n",
    "    \n",
    "with open(\"json_module_test.json\", 'r', encoding='UTF8') as f:\n",
    "    result_data = json.load(f)\n",
    "    \n",
    "result_data"
   ]
  },
  {
   "cell_type": "code",
   "execution_count": 157,
   "id": "accredited-level",
   "metadata": {
    "tags": []
   },
   "outputs": [
    {
     "name": "stdout",
     "output_type": "stream",
     "text": [
      "Unexpected error: (<class 'FileNotFoundError'>, FileNotFoundError(2, 'No such file or directory'), <traceback object at 0x000001F56A449780>)\n"
     ]
    },
    {
     "ename": "FileNotFoundError",
     "evalue": "[Errno 2] No such file or directory: 'myfile.txt'",
     "output_type": "error",
     "traceback": [
      "\u001b[1;31m---------------------------------------------------------------------------\u001b[0m",
      "\u001b[1;31mFileNotFoundError\u001b[0m                         Traceback (most recent call last)",
      "\u001b[1;32m<ipython-input-157-eabf819804f6>\u001b[0m in \u001b[0;36m<module>\u001b[1;34m\u001b[0m\n\u001b[0;32m      2\u001b[0m \u001b[1;33m\u001b[0m\u001b[0m\n\u001b[0;32m      3\u001b[0m \u001b[1;32mtry\u001b[0m\u001b[1;33m:\u001b[0m\u001b[1;33m\u001b[0m\u001b[1;33m\u001b[0m\u001b[0m\n\u001b[1;32m----> 4\u001b[1;33m     \u001b[0mf\u001b[0m \u001b[1;33m=\u001b[0m \u001b[0mopen\u001b[0m\u001b[1;33m(\u001b[0m\u001b[1;34m'myfile.txt'\u001b[0m\u001b[1;33m)\u001b[0m\u001b[1;33m\u001b[0m\u001b[1;33m\u001b[0m\u001b[0m\n\u001b[0m\u001b[0;32m      5\u001b[0m     \u001b[0ms\u001b[0m \u001b[1;33m=\u001b[0m \u001b[0mf\u001b[0m\u001b[1;33m.\u001b[0m\u001b[0mreadline\u001b[0m\u001b[1;33m(\u001b[0m\u001b[1;33m)\u001b[0m\u001b[1;33m\u001b[0m\u001b[1;33m\u001b[0m\u001b[0m\n\u001b[0;32m      6\u001b[0m     \u001b[0mi\u001b[0m \u001b[1;33m=\u001b[0m \u001b[0mint\u001b[0m\u001b[1;33m(\u001b[0m\u001b[0ms\u001b[0m\u001b[1;33m.\u001b[0m\u001b[0mstrip\u001b[0m\u001b[1;33m(\u001b[0m\u001b[1;33m)\u001b[0m\u001b[1;33m)\u001b[0m\u001b[1;33m\u001b[0m\u001b[1;33m\u001b[0m\u001b[0m\n",
      "\u001b[1;31mFileNotFoundError\u001b[0m: [Errno 2] No such file or directory: 'myfile.txt'"
     ]
    }
   ],
   "source": [
    "import sys\n",
    "\n",
    "try:\n",
    "    f = open('myfile.txt')\n",
    "    s = f.readline()\n",
    "    i = int(s.strip())\n",
    "except:\n",
    "    print(\"Unexpected error:\", sys.exc_info())\n",
    "    raise"
   ]
  },
  {
   "cell_type": "code",
   "execution_count": 158,
   "id": "marine-springer",
   "metadata": {},
   "outputs": [
    {
     "name": "stdout",
     "output_type": "stream",
     "text": [
      "OS error: [Errno 2] No such file or directory: 'myfile.txt'\n"
     ]
    }
   ],
   "source": [
    "import sys\n",
    "\n",
    "try:\n",
    "    f = open('myfile.txt')\n",
    "    s = f.readline()\n",
    "    i = int(s.strip())\n",
    "except OSError as err:\n",
    "    print(\"OS error: {0}\".format(err))\n",
    "except ValueError:\n",
    "    print(\"Could not convert data to an integer.\")\n",
    "except:\n",
    "    print(\"Unexpected error:\", sys.exc_info())\n",
    "    raise"
   ]
  },
  {
   "cell_type": "markdown",
   "id": "according-prediction",
   "metadata": {},
   "source": [
    "<br><br><br><br><br><br>\n",
    "<hr><hr><hr><hr><hr><hr>\n",
    "<br><br><br><br><br><br>"
   ]
  },
  {
   "cell_type": "markdown",
   "id": "hazardous-bicycle",
   "metadata": {},
   "source": [
    "## 클래스"
   ]
  },
  {
   "cell_type": "code",
   "execution_count": 5,
   "id": "beginning-notebook",
   "metadata": {},
   "outputs": [],
   "source": [
    "class MyClass:\n",
    "    \"\"\"A simple example class\"\"\"\n",
    "    i = 12345\n",
    "    \n",
    "    def f(self):\n",
    "        return 'hello world'"
   ]
  },
  {
   "cell_type": "code",
   "execution_count": 7,
   "id": "local-mozambique",
   "metadata": {},
   "outputs": [
    {
     "data": {
      "text/plain": [
       "'hello world'"
      ]
     },
     "execution_count": 7,
     "metadata": {},
     "output_type": "execute_result"
    }
   ],
   "source": [
    "x = MyClass()\n",
    "x.f()"
   ]
  },
  {
   "cell_type": "code",
   "execution_count": 8,
   "id": "female-mexico",
   "metadata": {},
   "outputs": [
    {
     "data": {
      "text/plain": [
       "(3.0, -4.5)"
      ]
     },
     "execution_count": 8,
     "metadata": {},
     "output_type": "execute_result"
    }
   ],
   "source": [
    "class Complex:\n",
    "    def __init__(self, realpart, imagpart):\n",
    "        self.r = realpart\n",
    "        self.i = imagpart\n",
    "        \n",
    "x = Complex(3.0, -4.5)\n",
    "x.r, x.i"
   ]
  },
  {
   "cell_type": "code",
   "execution_count": 9,
   "id": "sophisticated-offering",
   "metadata": {},
   "outputs": [
    {
     "name": "stdout",
     "output_type": "stream",
     "text": [
      "16\n"
     ]
    }
   ],
   "source": [
    "x.counter = 1\n",
    "while x.counter < 10:\n",
    "    x.counter = x.counter * 2\n",
    "    \n",
    "print(x.counter)\n",
    "del x.counter"
   ]
  },
  {
   "cell_type": "code",
   "execution_count": 15,
   "id": "wrong-bacteria",
   "metadata": {},
   "outputs": [
    {
     "name": "stdout",
     "output_type": "stream",
     "text": [
      "<function printer at 0x00000211C93251F0>\n",
      "print : that\n"
     ]
    }
   ],
   "source": [
    "def printer(x):\n",
    "    print(\"print :\", x)\n",
    "\n",
    "x.printer = printer\n",
    "print(x.printer)\n",
    "x.printer(\"that\")"
   ]
  },
  {
   "cell_type": "code",
   "execution_count": 16,
   "id": "cellular-modern",
   "metadata": {},
   "outputs": [
    {
     "name": "stdout",
     "output_type": "stream",
     "text": [
      "print : this\n"
     ]
    }
   ],
   "source": [
    "x.printer = lambda x : print(\"print :\", x)\n",
    "x.printer(\"this\")"
   ]
  },
  {
   "cell_type": "markdown",
   "id": "closed-friday",
   "metadata": {},
   "source": [
    " - 공유 어트리뷰트에 리스트나 딕셔너리와 같은 가변 객ㅊ체가 참여할 때 문제가 발생할 수도 있음"
   ]
  },
  {
   "cell_type": "code",
   "execution_count": 17,
   "id": "regional-essay",
   "metadata": {},
   "outputs": [
    {
     "data": {
      "text/plain": [
       "['roll over', 'play dead']"
      ]
     },
     "execution_count": 17,
     "metadata": {},
     "output_type": "execute_result"
    }
   ],
   "source": [
    "class Dog:\n",
    "    tricks = []\n",
    "    \n",
    "    def __init__(self, name):\n",
    "        self.name = name\n",
    "        \n",
    "    def add_trick(self, trick):\n",
    "        self.tricks.append(trick)\n",
    "        \n",
    "d = Dog('Fido')\n",
    "e = Dog('Buddy')\n",
    "d.add_trick('roll over')\n",
    "e.add_trick('play dead')\n",
    "d.tricks"
   ]
  },
  {
   "cell_type": "code",
   "execution_count": 18,
   "id": "painted-foster",
   "metadata": {},
   "outputs": [],
   "source": [
    "class Dog:\n",
    "\n",
    "    def __init__(self, name):\n",
    "        self.name = name\n",
    "        self.tricks = []    # creates a new empty list for each dog\n",
    "\n",
    "    def add_trick(self, trick):\n",
    "        self.tricks.append(trick)"
   ]
  },
  {
   "cell_type": "code",
   "execution_count": 19,
   "id": "final-bobby",
   "metadata": {},
   "outputs": [
    {
     "name": "stdout",
     "output_type": "stream",
     "text": [
      "['roll over']\n",
      "['play dead']\n"
     ]
    }
   ],
   "source": [
    "d = Dog('Fido')\n",
    "e = Dog('Buddy')\n",
    "d.add_trick('roll over')\n",
    "e.add_trick('play dead')\n",
    "print(d.tricks)\n",
    "print(e.tricks)"
   ]
  },
  {
   "cell_type": "markdown",
   "id": "known-religion",
   "metadata": {},
   "source": [
    " - 인스턴스와 클래스 모두에서 같은 어트리뷰트 이름이 등장하면, 어트리뷰트 조회는 인스턴스를 우선합니다:"
   ]
  },
  {
   "cell_type": "code",
   "execution_count": 20,
   "id": "sufficient-footwear",
   "metadata": {},
   "outputs": [
    {
     "name": "stdout",
     "output_type": "stream",
     "text": [
      "storage west\n",
      "storage east\n"
     ]
    }
   ],
   "source": [
    "class Warehouse:\n",
    "    purpose = 'storage'\n",
    "    region = 'west'\n",
    "\n",
    "w1 = Warehouse()\n",
    "print(w1.purpose, w1.region)\n",
    "w2 = Warehouse()\n",
    "w2.region = 'east'\n",
    "print(w2.purpose, w2.region)"
   ]
  },
  {
   "cell_type": "markdown",
   "id": "developed-logic",
   "metadata": {},
   "source": [
    " - this의 역할을 하는 첫번째 인자 self의 이름은 관례이고 파이썬에서 아무런 특별한 의미를 갖지 않습니다. "
   ]
  },
  {
   "cell_type": "code",
   "execution_count": 30,
   "id": "chicken-prime",
   "metadata": {},
   "outputs": [],
   "source": [
    "class DogTest:\n",
    "\n",
    "    def __init__(this, name):\n",
    "        this.name = name\n",
    "        this.tricks = []    # creates a new empty list for each dog\n",
    "\n",
    "    def add_trick(sf, trick):\n",
    "        sf.tricks.append(trick)"
   ]
  },
  {
   "cell_type": "code",
   "execution_count": 33,
   "id": "clear-diving",
   "metadata": {},
   "outputs": [
    {
     "data": {
      "text/plain": [
       "(['Meng Meng'], 'Cookie')"
      ]
     },
     "execution_count": 33,
     "metadata": {},
     "output_type": "execute_result"
    }
   ],
   "source": [
    "x = DogTest(\"Cookie\")\n",
    "x.add_trick(\"Meng Meng\")\n",
    "x.tricks, x.name"
   ]
  },
  {
   "cell_type": "markdown",
   "id": "running-realtor",
   "metadata": {},
   "source": [
    " - 아래와 같은 코드는 혼란만 가중시킵니다"
   ]
  },
  {
   "cell_type": "code",
   "execution_count": 42,
   "id": "precious-orbit",
   "metadata": {},
   "outputs": [
    {
     "name": "stdout",
     "output_type": "stream",
     "text": [
      "hello world\n",
      "hello world\n"
     ]
    },
    {
     "ename": "AttributeError",
     "evalue": "'C' object has no attribute 'f1'",
     "output_type": "error",
     "traceback": [
      "\u001b[1;31m---------------------------------------------------------------------------\u001b[0m",
      "\u001b[1;31mAttributeError\u001b[0m                            Traceback (most recent call last)",
      "\u001b[1;32m<ipython-input-42-9b196e42417b>\u001b[0m in \u001b[0;36m<module>\u001b[1;34m\u001b[0m\n\u001b[0;32m     12\u001b[0m \u001b[0mprint\u001b[0m\u001b[1;33m(\u001b[0m\u001b[0mnot_good\u001b[0m\u001b[1;33m.\u001b[0m\u001b[0mg\u001b[0m\u001b[1;33m(\u001b[0m\u001b[1;33m)\u001b[0m\u001b[1;33m)\u001b[0m\u001b[1;33m\u001b[0m\u001b[1;33m\u001b[0m\u001b[0m\n\u001b[0;32m     13\u001b[0m \u001b[0mprint\u001b[0m\u001b[1;33m(\u001b[0m\u001b[0mnot_good\u001b[0m\u001b[1;33m.\u001b[0m\u001b[0mh\u001b[0m\u001b[1;33m(\u001b[0m\u001b[1;33m)\u001b[0m\u001b[1;33m)\u001b[0m\u001b[1;33m\u001b[0m\u001b[1;33m\u001b[0m\u001b[0m\n\u001b[1;32m---> 14\u001b[1;33m \u001b[0mprint\u001b[0m\u001b[1;33m(\u001b[0m\u001b[0mnot_good\u001b[0m\u001b[1;33m.\u001b[0m\u001b[0mf1\u001b[0m\u001b[1;33m(\u001b[0m\u001b[1;33m)\u001b[0m\u001b[1;33m)\u001b[0m\u001b[1;33m\u001b[0m\u001b[1;33m\u001b[0m\u001b[0m\n\u001b[0m",
      "\u001b[1;31mAttributeError\u001b[0m: 'C' object has no attribute 'f1'"
     ]
    }
   ],
   "source": [
    "def f1(self, x, y):\n",
    "    return min(x, x+y)\n",
    "\n",
    "class C:\n",
    "    f = f1\n",
    "\n",
    "    def g(self):\n",
    "        return 'hello world'\n",
    "\n",
    "    h = g\n",
    "not_good = C()\n",
    "print(not_good.g())\n",
    "print(not_good.h())\n",
    "print(not_good.f1())"
   ]
  },
  {
   "cell_type": "code",
   "execution_count": 43,
   "id": "incorrect-leadership",
   "metadata": {},
   "outputs": [],
   "source": [
    "class Bag:\n",
    "    def __init__(self):\n",
    "        self.data = []\n",
    "\n",
    "    def add(self, x):\n",
    "        self.data.append(x)\n",
    "\n",
    "    def addtwice(self, x):\n",
    "        self.add(x)\n",
    "        self.add(x)"
   ]
  },
  {
   "cell_type": "code",
   "execution_count": 44,
   "id": "stainless-bulletin",
   "metadata": {},
   "outputs": [
    {
     "name": "stdout",
     "output_type": "stream",
     "text": [
      "['A']\n",
      "[]\n",
      "==========\n",
      "['A']\n",
      "['B', 'B']\n",
      "==========\n",
      "['A']\n",
      "['B', 'B']\n",
      "['C']\n"
     ]
    }
   ],
   "source": [
    "x = Bag()\n",
    "y = Bag()\n",
    "\n",
    "x.add(\"A\")\n",
    "print(x.data)\n",
    "print(y.data)\n",
    "print(\"==========\")\n",
    "y.addtwice(\"B\")\n",
    "print(x.data)\n",
    "print(y.data)\n",
    "print(\"==========\")\n",
    "z = Bag()\n",
    "z.add(\"C\")\n",
    "print(x.data)\n",
    "print(y.data)\n",
    "print(z.data)"
   ]
  },
  {
   "cell_type": "code",
   "execution_count": 45,
   "id": "egyptian-reputation",
   "metadata": {},
   "outputs": [],
   "source": [
    "class Bag:\n",
    "    data = []\n",
    "\n",
    "    def add(self, x):\n",
    "        self.data.append(x)\n",
    "\n",
    "    def addtwice(self, x):\n",
    "        self.add(x)\n",
    "        self.add(x)"
   ]
  },
  {
   "cell_type": "code",
   "execution_count": 46,
   "id": "present-december",
   "metadata": {},
   "outputs": [
    {
     "name": "stdout",
     "output_type": "stream",
     "text": [
      "['A']\n",
      "['A']\n",
      "==========\n",
      "['A', 'B', 'B']\n",
      "['A', 'B', 'B']\n",
      "==========\n",
      "['A', 'B', 'B', 'C']\n",
      "['A', 'B', 'B', 'C']\n",
      "['A', 'B', 'B', 'C']\n"
     ]
    }
   ],
   "source": [
    "x = Bag()\n",
    "y = Bag()\n",
    "\n",
    "x.add(\"A\")\n",
    "print(x.data)\n",
    "print(y.data)\n",
    "print(\"==========\")\n",
    "y.addtwice(\"B\")\n",
    "print(x.data)\n",
    "print(y.data)\n",
    "print(\"==========\")\n",
    "z = Bag()\n",
    "z.add(\"C\")\n",
    "print(x.data)\n",
    "print(y.data)\n",
    "print(z.data)"
   ]
  },
  {
   "cell_type": "markdown",
   "id": "functional-supervision",
   "metadata": {},
   "source": [
    " - 왼쪽부터 오른쪽 순서로 자식 계층이 이루어져서 오버라이딩이 된다."
   ]
  },
  {
   "cell_type": "code",
   "execution_count": 65,
   "id": "artistic-samba",
   "metadata": {},
   "outputs": [],
   "source": [
    "class Base1:\n",
    "    attr = \"Base1\"\n",
    "    \n",
    "    def func(self):\n",
    "        print(\"Base1 Function\")\n",
    "\n",
    "class Base2:\n",
    "    \n",
    "    attr = \"Base2\"\n",
    "    \n",
    "    def func(self):\n",
    "        print(\"Base2 Function\")\n",
    "    \n",
    "    def funcc(self):\n",
    "        print(\"Base2 Function\")\n",
    "        \n",
    "        \n",
    "class Base3:\n",
    "    attr = \"Base3\"\n",
    "    \n",
    "    def func(self):\n",
    "        print(\"Base3 Function\")\n",
    "        \n",
    "    def funcc(self):\n",
    "        print(\"Base3 Function\")\n",
    "        \n",
    "    def funccc(self):\n",
    "        print(\"Base3 Function\")\n",
    "        \n",
    "class DerivedClassName(Base1, Base2, Base3):\n",
    "    attr = \"child\"\n"
   ]
  },
  {
   "cell_type": "code",
   "execution_count": 75,
   "id": "third-newman",
   "metadata": {},
   "outputs": [
    {
     "name": "stdout",
     "output_type": "stream",
     "text": [
      "Base1 Function\n",
      "Base2 Function\n",
      "Base3 Function\n",
      "child\n"
     ]
    }
   ],
   "source": [
    "x = DerivedClassName()\n",
    "x.func()\n",
    "x.funcc()\n",
    "x.funccc()\n",
    "print(x.attr)"
   ]
  },
  {
   "cell_type": "markdown",
   "id": "unnecessary-convertible",
   "metadata": {},
   "source": [
    " - 자바처럼 메서드 오버로딩이 될까?"
   ]
  },
  {
   "cell_type": "code",
   "execution_count": 93,
   "id": "colored-section",
   "metadata": {},
   "outputs": [],
   "source": [
    "class Base:\n",
    "    def func(self):\n",
    "        print(\"Func Function\", 0)\n",
    "        \n",
    "    def func(self, x, y):\n",
    "        print(\"Func Function\", 2)\n",
    "        \n",
    "    def func(self, x):\n",
    "        print(\"Func Function\", 1)"
   ]
  },
  {
   "cell_type": "code",
   "execution_count": 94,
   "id": "willing-exemption",
   "metadata": {},
   "outputs": [],
   "source": [
    "x = Base()"
   ]
  },
  {
   "cell_type": "code",
   "execution_count": 95,
   "id": "particular-gender",
   "metadata": {},
   "outputs": [
    {
     "name": "stdout",
     "output_type": "stream",
     "text": [
      "Func Function 1\n"
     ]
    }
   ],
   "source": [
    "x.func(1)"
   ]
  },
  {
   "cell_type": "code",
   "execution_count": 96,
   "id": "floppy-banks",
   "metadata": {},
   "outputs": [
    {
     "ename": "TypeError",
     "evalue": "func() missing 1 required positional argument: 'x'",
     "output_type": "error",
     "traceback": [
      "\u001b[1;31m---------------------------------------------------------------------------\u001b[0m",
      "\u001b[1;31mTypeError\u001b[0m                                 Traceback (most recent call last)",
      "\u001b[1;32m<ipython-input-96-8d6cc3d1c817>\u001b[0m in \u001b[0;36m<module>\u001b[1;34m\u001b[0m\n\u001b[1;32m----> 1\u001b[1;33m \u001b[0mx\u001b[0m\u001b[1;33m.\u001b[0m\u001b[0mfunc\u001b[0m\u001b[1;33m(\u001b[0m\u001b[1;33m)\u001b[0m\u001b[1;33m\u001b[0m\u001b[1;33m\u001b[0m\u001b[0m\n\u001b[0m",
      "\u001b[1;31mTypeError\u001b[0m: func() missing 1 required positional argument: 'x'"
     ]
    }
   ],
   "source": [
    "x.func()"
   ]
  },
  {
   "cell_type": "code",
   "execution_count": 97,
   "id": "daily-petersburg",
   "metadata": {},
   "outputs": [
    {
     "ename": "TypeError",
     "evalue": "func() takes 2 positional arguments but 3 were given",
     "output_type": "error",
     "traceback": [
      "\u001b[1;31m---------------------------------------------------------------------------\u001b[0m",
      "\u001b[1;31mTypeError\u001b[0m                                 Traceback (most recent call last)",
      "\u001b[1;32m<ipython-input-97-cfbf52735459>\u001b[0m in \u001b[0;36m<module>\u001b[1;34m\u001b[0m\n\u001b[1;32m----> 1\u001b[1;33m \u001b[0mx\u001b[0m\u001b[1;33m.\u001b[0m\u001b[0mfunc\u001b[0m\u001b[1;33m(\u001b[0m\u001b[1;36m1\u001b[0m\u001b[1;33m,\u001b[0m \u001b[1;36m2\u001b[0m\u001b[1;33m)\u001b[0m\u001b[1;33m\u001b[0m\u001b[1;33m\u001b[0m\u001b[0m\n\u001b[0m",
      "\u001b[1;31mTypeError\u001b[0m: func() takes 2 positional arguments but 3 were given"
     ]
    }
   ],
   "source": [
    "x.func(1, 2)"
   ]
  },
  {
   "cell_type": "markdown",
   "id": "limiting-klein",
   "metadata": {},
   "source": [
    "#### 생성자 `__init()__` : 생성할 때 동작되는 메서드\n",
    "#### 소멸자 `__del__` : `del`연산자를 통해 소멸될 때 동작되는 메서드"
   ]
  },
  {
   "cell_type": "markdown",
   "id": "first-jackson",
   "metadata": {},
   "source": [
    " - 연산자 오버로딩"
   ]
  },
  {
   "cell_type": "code",
   "execution_count": 86,
   "id": "responsible-classic",
   "metadata": {},
   "outputs": [
    {
     "ename": "TypeError",
     "evalue": "unsupported operand type(s) for +: 'NumBox' and 'int'",
     "output_type": "error",
     "traceback": [
      "\u001b[1;31m---------------------------------------------------------------------------\u001b[0m",
      "\u001b[1;31mTypeError\u001b[0m                                 Traceback (most recent call last)",
      "\u001b[1;32m<ipython-input-86-a3590ebb7306>\u001b[0m in \u001b[0;36m<module>\u001b[1;34m\u001b[0m\n\u001b[0;32m      5\u001b[0m \u001b[1;33m\u001b[0m\u001b[0m\n\u001b[0;32m      6\u001b[0m \u001b[0mn\u001b[0m \u001b[1;33m=\u001b[0m \u001b[0mNumBox\u001b[0m\u001b[1;33m(\u001b[0m\u001b[1;36m10\u001b[0m\u001b[1;33m)\u001b[0m\u001b[1;33m\u001b[0m\u001b[1;33m\u001b[0m\u001b[0m\n\u001b[1;32m----> 7\u001b[1;33m \u001b[0mn\u001b[0m \u001b[1;33m+\u001b[0m \u001b[1;36m10\u001b[0m\u001b[1;33m\u001b[0m\u001b[1;33m\u001b[0m\u001b[0m\n\u001b[0m",
      "\u001b[1;31mTypeError\u001b[0m: unsupported operand type(s) for +: 'NumBox' and 'int'"
     ]
    }
   ],
   "source": [
    "class NumBox:\n",
    "    def __init__(self, num):\n",
    "        self.num = num\n",
    "        \n",
    "\n",
    "n = NumBox(10)\n",
    "n + 10"
   ]
  },
  {
   "cell_type": "code",
   "execution_count": 90,
   "id": "married-yorkshire",
   "metadata": {},
   "outputs": [
    {
     "name": "stdout",
     "output_type": "stream",
     "text": [
      "60\n"
     ]
    }
   ],
   "source": [
    "class NumBox:\n",
    "    def __init__(self, num):\n",
    "        self.num = num\n",
    "    \n",
    "    def __add__(self, num):\n",
    "        self.num += num\n",
    "    \n",
    "    def __sub__(self, num):\n",
    "        self.num -= num\n",
    "    \n",
    "n = NumBox(10)\n",
    "n + 100\n",
    "n - 50\n",
    "print(n.num)"
   ]
  },
  {
   "cell_type": "code",
   "execution_count": 91,
   "id": "mysterious-sarah",
   "metadata": {},
   "outputs": [
    {
     "ename": "TypeError",
     "evalue": "unsupported operand type(s) for +: 'int' and 'NumBox'",
     "output_type": "error",
     "traceback": [
      "\u001b[1;31m---------------------------------------------------------------------------\u001b[0m",
      "\u001b[1;31mTypeError\u001b[0m                                 Traceback (most recent call last)",
      "\u001b[1;32m<ipython-input-91-edf5faa5951e>\u001b[0m in \u001b[0;36m<module>\u001b[1;34m\u001b[0m\n\u001b[1;32m----> 1\u001b[1;33m \u001b[1;36m100\u001b[0m \u001b[1;33m+\u001b[0m \u001b[0mn\u001b[0m\u001b[1;33m\u001b[0m\u001b[1;33m\u001b[0m\u001b[0m\n\u001b[0m\u001b[0;32m      2\u001b[0m \u001b[1;36m50\u001b[0m \u001b[1;33m-\u001b[0m \u001b[0mn\u001b[0m\u001b[1;33m\u001b[0m\u001b[1;33m\u001b[0m\u001b[0m\n",
      "\u001b[1;31mTypeError\u001b[0m: unsupported operand type(s) for +: 'int' and 'NumBox'"
     ]
    }
   ],
   "source": [
    "100 + n\n",
    "50 - n"
   ]
  },
  {
   "cell_type": "code",
   "execution_count": 92,
   "id": "sensitive-hepatitis",
   "metadata": {},
   "outputs": [
    {
     "name": "stdout",
     "output_type": "stream",
     "text": [
      "60\n"
     ]
    }
   ],
   "source": [
    "class NumBox:\n",
    "    def __init__(self, num):\n",
    "        self.num = num\n",
    "    \n",
    "    def __radd__(self, num):\n",
    "        self.num += num\n",
    "    \n",
    "    def __rsub__(self, num):\n",
    "        self.num -= num\n",
    "\n",
    "n = NumBox(10)\n",
    "100 + n\n",
    "50 - n\n",
    "print(n.num)"
   ]
  },
  {
   "cell_type": "markdown",
   "id": "optional-confidence",
   "metadata": {},
   "source": [
    "### 비공개 변수 만들기 : name mangling"
   ]
  },
  {
   "cell_type": "markdown",
   "id": "arbitrary-geometry",
   "metadata": {},
   "source": [
    "객체 내부에서만 액세스할 수 있는 《비공개》 인스턴스 변수는 파이썬에 존재하지 않습니다. 하지만, 대부분의 파이썬 코드에서 따르고 있는 규약이 있습니다: 밑줄로 시작하는 이름은 (예를 들어, `_spam`) API의 공개적이지 않은 부분으로 취급되어야 합니다 (그것이 함수, 메서드, 데이터 멤버중 무엇이건 간에). 구현 상세이고 통보 없이 변경되는 대상으로 취급되어야 합니다.\n",
    "\n",
    "클래스-비공개 멤버들의 올바른 사례가 있으므로 (즉 서브 클래스에서 정의된 이름들과의 충돌을 피하고자), 이름 뒤섞기 (name mangling) 라고 불리는 메커니즘에 대한 제한된 지원이 있습니다. `__spam` 형태의 (최소 두 개의 밑줄로 시작하고, 최대 한 개의 밑줄로 끝납니다) 모든 식별자는 `_classname__spam` 로 텍스트 적으로 치환되는데, classname 은 현재 클래스 이름에서 앞에 오는 밑줄을 제거한 것입니다. 이 뒤섞기는 클래스 정의에 등장하는 이상, 식별자의 문법적 위치와 무관하게 수행됩니다."
   ]
  },
  {
   "cell_type": "code",
   "execution_count": 120,
   "id": "removable-shaft",
   "metadata": {},
   "outputs": [],
   "source": [
    "class Mapping:\n",
    "    __priattr = \"gg\"\n",
    "    \n",
    "    def __init__(self, iterable):\n",
    "        self.items_list = []\n",
    "        self.__update(iterable)\n",
    "        \n",
    "    def update(self, iterable):\n",
    "        for item in iterable:\n",
    "            self.items_list.append(item)\n",
    "        \n",
    "    __update = update # private copy of original update() method\n",
    "    \n",
    "class MappingSubclass(Mapping):\n",
    "    \n",
    "    def update(self, keys, values):\n",
    "        for item in zip(keys, values):\n",
    "            self.items_list.append(item)"
   ]
  },
  {
   "cell_type": "code",
   "execution_count": 121,
   "id": "through-arnold",
   "metadata": {},
   "outputs": [],
   "source": [
    "x = Mapping(range(5))"
   ]
  },
  {
   "cell_type": "code",
   "execution_count": 122,
   "id": "coupled-referral",
   "metadata": {},
   "outputs": [
    {
     "data": {
      "text/plain": [
       "[0, 1, 2, 3, 4]"
      ]
     },
     "execution_count": 122,
     "metadata": {},
     "output_type": "execute_result"
    }
   ],
   "source": [
    "x.items_list"
   ]
  },
  {
   "cell_type": "code",
   "execution_count": 123,
   "id": "geological-wagon",
   "metadata": {},
   "outputs": [],
   "source": [
    "x.update([2,3,4,5])"
   ]
  },
  {
   "cell_type": "code",
   "execution_count": 124,
   "id": "sealed-supervisor",
   "metadata": {},
   "outputs": [
    {
     "data": {
      "text/plain": [
       "[0, 1, 2, 3, 4, 2, 3, 4, 5]"
      ]
     },
     "execution_count": 124,
     "metadata": {},
     "output_type": "execute_result"
    }
   ],
   "source": [
    "x.items_list"
   ]
  },
  {
   "cell_type": "code",
   "execution_count": 125,
   "id": "banner-business",
   "metadata": {},
   "outputs": [
    {
     "ename": "AttributeError",
     "evalue": "'Mapping' object has no attribute '__priattr'",
     "output_type": "error",
     "traceback": [
      "\u001b[1;31m---------------------------------------------------------------------------\u001b[0m",
      "\u001b[1;31mAttributeError\u001b[0m                            Traceback (most recent call last)",
      "\u001b[1;32m<ipython-input-125-85003724d78d>\u001b[0m in \u001b[0;36m<module>\u001b[1;34m\u001b[0m\n\u001b[1;32m----> 1\u001b[1;33m \u001b[0mx\u001b[0m\u001b[1;33m.\u001b[0m\u001b[0m__priattr\u001b[0m\u001b[1;33m\u001b[0m\u001b[1;33m\u001b[0m\u001b[0m\n\u001b[0m",
      "\u001b[1;31mAttributeError\u001b[0m: 'Mapping' object has no attribute '__priattr'"
     ]
    }
   ],
   "source": [
    "x.__priattr"
   ]
  },
  {
   "cell_type": "code",
   "execution_count": 127,
   "id": "emerging-petroleum",
   "metadata": {},
   "outputs": [
    {
     "data": {
      "text/plain": [
       "['name', 'age', 'grade']"
      ]
     },
     "execution_count": 127,
     "metadata": {},
     "output_type": "execute_result"
    }
   ],
   "source": [
    "MappingSubclass(dict(\n",
    "    name = \"john\",\n",
    "    age = 20,\n",
    "    grade = \"B\"\n",
    ")).items_list"
   ]
  },
  {
   "cell_type": "markdown",
   "id": "outside-validation",
   "metadata": {},
   "source": [
    " - Iterators"
   ]
  },
  {
   "cell_type": "code",
   "execution_count": 8,
   "id": "departmental-basement",
   "metadata": {},
   "outputs": [],
   "source": [
    "s = 'abc'\n",
    "it = iter(s)"
   ]
  },
  {
   "cell_type": "code",
   "execution_count": 9,
   "id": "leading-german",
   "metadata": {},
   "outputs": [
    {
     "data": {
      "text/plain": [
       "<str_iterator at 0x1d9a21a9280>"
      ]
     },
     "execution_count": 9,
     "metadata": {},
     "output_type": "execute_result"
    }
   ],
   "source": [
    "it"
   ]
  },
  {
   "cell_type": "code",
   "execution_count": 10,
   "id": "veterinary-composition",
   "metadata": {},
   "outputs": [
    {
     "data": {
      "text/plain": [
       "'a'"
      ]
     },
     "execution_count": 10,
     "metadata": {},
     "output_type": "execute_result"
    }
   ],
   "source": [
    "next(it)"
   ]
  },
  {
   "cell_type": "code",
   "execution_count": 11,
   "id": "sufficient-symbol",
   "metadata": {},
   "outputs": [
    {
     "data": {
      "text/plain": [
       "'b'"
      ]
     },
     "execution_count": 11,
     "metadata": {},
     "output_type": "execute_result"
    }
   ],
   "source": [
    "next(it)"
   ]
  },
  {
   "cell_type": "code",
   "execution_count": 12,
   "id": "accomplished-asian",
   "metadata": {},
   "outputs": [
    {
     "data": {
      "text/plain": [
       "'c'"
      ]
     },
     "execution_count": 12,
     "metadata": {},
     "output_type": "execute_result"
    }
   ],
   "source": [
    "next(it)"
   ]
  },
  {
   "cell_type": "code",
   "execution_count": 13,
   "id": "visible-hometown",
   "metadata": {},
   "outputs": [
    {
     "ename": "StopIteration",
     "evalue": "",
     "output_type": "error",
     "traceback": [
      "\u001b[1;31m---------------------------------------------------------------------------\u001b[0m",
      "\u001b[1;31mStopIteration\u001b[0m                             Traceback (most recent call last)",
      "\u001b[1;32m<ipython-input-13-bc1ab118995a>\u001b[0m in \u001b[0;36m<module>\u001b[1;34m\u001b[0m\n\u001b[1;32m----> 1\u001b[1;33m \u001b[0mnext\u001b[0m\u001b[1;33m(\u001b[0m\u001b[0mit\u001b[0m\u001b[1;33m)\u001b[0m\u001b[1;33m\u001b[0m\u001b[1;33m\u001b[0m\u001b[0m\n\u001b[0m",
      "\u001b[1;31mStopIteration\u001b[0m: "
     ]
    }
   ],
   "source": [
    "next(it)"
   ]
  },
  {
   "cell_type": "code",
   "execution_count": 14,
   "id": "photographic-agriculture",
   "metadata": {},
   "outputs": [],
   "source": [
    "class Reverse:\n",
    "    \n",
    "    def __init__(self, data):\n",
    "        self.data = data\n",
    "        self.index = len(data)\n",
    "        \n",
    "    def __iter__(self):\n",
    "        return self\n",
    "    \n",
    "    def __next__(self):\n",
    "        if self.index == 0:\n",
    "            raise StopIteration\n",
    "        self.index = self.index - 1\n",
    "        return self.data[self.index]"
   ]
  },
  {
   "cell_type": "code",
   "execution_count": 15,
   "id": "sexual-feelings",
   "metadata": {},
   "outputs": [
    {
     "name": "stdout",
     "output_type": "stream",
     "text": [
      "m\n",
      "a\n",
      "p\n",
      "s\n"
     ]
    }
   ],
   "source": [
    "rev = Reverse('spam')\n",
    "for char in rev:\n",
    "    print(char)"
   ]
  },
  {
   "cell_type": "markdown",
   "id": "hawaiian-bunch",
   "metadata": {},
   "source": [
    " - Generators are a simple and powerful tool for creating iterators"
   ]
  },
  {
   "cell_type": "code",
   "execution_count": 17,
   "id": "reflected-conclusion",
   "metadata": {},
   "outputs": [],
   "source": [
    "def reverse(data):\n",
    "    for index in range(len(data)-1, -1, -1):\n",
    "        yield data[index]"
   ]
  },
  {
   "cell_type": "code",
   "execution_count": 18,
   "id": "welsh-small",
   "metadata": {},
   "outputs": [
    {
     "name": "stdout",
     "output_type": "stream",
     "text": [
      "f\n",
      "l\n",
      "o\n",
      "g\n"
     ]
    }
   ],
   "source": [
    "for char in reverse('golf'):\n",
    "    print(char)"
   ]
  },
  {
   "cell_type": "code",
   "execution_count": 19,
   "id": "greenhouse-bonus",
   "metadata": {},
   "outputs": [
    {
     "data": {
      "text/plain": [
       "['f', 'l', 'o', 'g']"
      ]
     },
     "execution_count": 19,
     "metadata": {},
     "output_type": "execute_result"
    }
   ],
   "source": [
    "list(char for char in reverse('golf'))"
   ]
  },
  {
   "cell_type": "code",
   "execution_count": 21,
   "id": "cutting-proportion",
   "metadata": {},
   "outputs": [
    {
     "data": {
      "text/plain": [
       "'\\nHelp on class ClassName in module __main__:\\n\\nclass ClassName(builtins.object)\\n |  ClassName에 대한 정보\\n |  \\n |  Methods defined here:\\n |  \\n |  __init__(self, arg)\\n |  \\n |  ----------------------------------------------------------------------\\n |  Data descriptors defined here:\\n |  \\n |  __dict__\\n |      dictionary for instance variables (if defined)\\n |  \\n |  __weakref__\\n |      list of weak references to the object (if defined)\\n'"
      ]
     },
     "execution_count": 21,
     "metadata": {},
     "output_type": "execute_result"
    }
   ],
   "source": [
    "class ClassName(object):\n",
    "\t\"\"\"ClassName에 대한 정보\"\"\"\n",
    "\tdef __init__(self, arg):\n",
    "\t\tsuper(ClassName, self).__init__()\n",
    "\t\tself.arg = arg\n",
    "'''\n",
    "Help on class ClassName in module __main__:\n",
    "\n",
    "class ClassName(builtins.object)\n",
    " |  ClassName에 대한 정보\n",
    " |  \n",
    " |  Methods defined here:\n",
    " |  \n",
    " |  __init__(self, arg)\n",
    " |  \n",
    " |  ----------------------------------------------------------------------\n",
    " |  Data descriptors defined here:\n",
    " |  \n",
    " |  __dict__\n",
    " |      dictionary for instance variables (if defined)\n",
    " |  \n",
    " |  __weakref__\n",
    " |      list of weak references to the object (if defined)\n",
    "'''"
   ]
  },
  {
   "cell_type": "code",
   "execution_count": 22,
   "id": "celtic-transmission",
   "metadata": {},
   "outputs": [
    {
     "name": "stdout",
     "output_type": "stream",
     "text": [
      "Help on class ClassName in module __main__:\n",
      "\n",
      "class ClassName(builtins.object)\n",
      " |  ClassName(arg)\n",
      " |  \n",
      " |  ClassName에 대한 정보\n",
      " |  \n",
      " |  Methods defined here:\n",
      " |  \n",
      " |  __init__(self, arg)\n",
      " |      Initialize self.  See help(type(self)) for accurate signature.\n",
      " |  \n",
      " |  ----------------------------------------------------------------------\n",
      " |  Data descriptors defined here:\n",
      " |  \n",
      " |  __dict__\n",
      " |      dictionary for instance variables (if defined)\n",
      " |  \n",
      " |  __weakref__\n",
      " |      list of weak references to the object (if defined)\n",
      "\n"
     ]
    }
   ],
   "source": [
    "help(ClassName)"
   ]
  },
  {
   "cell_type": "code",
   "execution_count": 23,
   "id": "upset-ideal",
   "metadata": {},
   "outputs": [
    {
     "data": {
      "text/plain": [
       "'ClassName에 대한 정보'"
      ]
     },
     "execution_count": 23,
     "metadata": {},
     "output_type": "execute_result"
    }
   ],
   "source": [
    "ClassName.__doc__"
   ]
  },
  {
   "cell_type": "markdown",
   "id": "accessible-garlic",
   "metadata": {},
   "source": [
    " - Getter and Setter"
   ]
  },
  {
   "cell_type": "code",
   "execution_count": 25,
   "id": "terminal-demographic",
   "metadata": {},
   "outputs": [],
   "source": [
    "# using decorator(__) and make getter and setter\n",
    "class Car:\n",
    "    def __init__(self):\n",
    "        self.__horsepower = 100\n",
    "\n",
    "    @property\n",
    "    def horsepower(self):   #getter\n",
    "        return self.__horsepower\n",
    "\n",
    "    @horsepower.setter\n",
    "    def horsepower(self, str): #setter\n",
    "        self.__horsepower = str"
   ]
  },
  {
   "cell_type": "code",
   "execution_count": 26,
   "id": "cognitive-standard",
   "metadata": {},
   "outputs": [],
   "source": [
    "x = Car()"
   ]
  },
  {
   "cell_type": "code",
   "execution_count": 30,
   "id": "mature-infrastructure",
   "metadata": {},
   "outputs": [],
   "source": [
    "x.horsepower = 200"
   ]
  },
  {
   "cell_type": "code",
   "execution_count": 31,
   "id": "satellite-question",
   "metadata": {},
   "outputs": [
    {
     "data": {
      "text/plain": [
       "200"
      ]
     },
     "execution_count": 31,
     "metadata": {},
     "output_type": "execute_result"
    }
   ],
   "source": [
    "x.horsepower"
   ]
  },
  {
   "cell_type": "markdown",
   "id": "distinguished-senator",
   "metadata": {},
   "source": [
    " - Abstract class"
   ]
  },
  {
   "cell_type": "code",
   "execution_count": 32,
   "id": "introductory-safety",
   "metadata": {},
   "outputs": [
    {
     "name": "stdout",
     "output_type": "stream",
     "text": [
      "turnning finish\n"
     ]
    }
   ],
   "source": [
    "class Car:\n",
    "    def turnning(cls, horsepower):\n",
    "        raise NotImplementedError\n",
    "\n",
    "class Sonaty(Car):\n",
    "    def turnning(self):\n",
    "        print(\"turnning finish\")\n",
    "\n",
    "sonaty = Sonaty()\n",
    "sonaty.turnning()"
   ]
  },
  {
   "cell_type": "code",
   "execution_count": 34,
   "id": "mathematical-fields",
   "metadata": {},
   "outputs": [
    {
     "name": "stdout",
     "output_type": "stream",
     "text": [
      "turnning finish\n"
     ]
    }
   ],
   "source": [
    "import abc\n",
    "\n",
    "class Car:\n",
    "    @abc.abstractmethod\n",
    "    def turnning(cls, horsepower):\n",
    "        pass\n",
    "\n",
    "class Sonaty(Car):\n",
    "    def turnning(self):\n",
    "        print(\"turnning finish\")\n",
    "\n",
    "sonaty = Sonaty()\n",
    "sonaty.turnning()"
   ]
  },
  {
   "cell_type": "markdown",
   "id": "nearby-storm",
   "metadata": {},
   "source": [
    "첫 번째 방법은 메서드가 호출될 때 비로소 에러가 발생하지만 두 번째 방법은 class가 호출되는 순간부터 에러를 발생시킨다.\n",
    "\n",
    "그리고 두 번째 방법은 상속시켜준 class를 인스턴스화 시킬 수 없다. 여러 가지 측면에서 두 번째 방법이 좀 더 추상화하는데 이점이 많다."
   ]
  }
 ],
 "metadata": {
  "kernelspec": {
   "display_name": "Python 3",
   "language": "python",
   "name": "python3"
  },
  "language_info": {
   "codemirror_mode": {
    "name": "ipython",
    "version": 3
   },
   "file_extension": ".py",
   "mimetype": "text/x-python",
   "name": "python",
   "nbconvert_exporter": "python",
   "pygments_lexer": "ipython3",
   "version": "3.9.2"
  }
 },
 "nbformat": 4,
 "nbformat_minor": 5
}
