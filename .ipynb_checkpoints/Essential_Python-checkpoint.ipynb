{
 "cells": [
  {
   "cell_type": "markdown",
   "id": "instructional-vatican",
   "metadata": {},
   "source": [
    "# 01. About Python"
   ]
  },
  {
   "cell_type": "markdown",
   "id": "defined-vocabulary",
   "metadata": {},
   "source": [
    "## - History"
   ]
  },
  {
   "cell_type": "markdown",
   "id": "central-anthony",
   "metadata": {},
   "source": [
    "파이썬 이라는 이름은 Monty Python's Flying Circus라는 BBC쇼에서 따온 것, 파충류와는 아무 관련이 없음\n",
    "\n",
    "1994년 귀도 반 로섬(Guido Van Rossum)에 의해 시작. 크리스마스 떄 취미로 만듬."
   ]
  },
  {
   "cell_type": "markdown",
   "id": "tropical-question",
   "metadata": {},
   "source": [
    "## - Structure"
   ]
  },
  {
   "cell_type": "markdown",
   "id": "enormous-stockholm",
   "metadata": {},
   "source": [
    "인터프리터 언어"
   ]
  },
  {
   "cell_type": "markdown",
   "id": "exotic-starter",
   "metadata": {},
   "source": [
    "## - Before Python Programming, You Should Know:"
   ]
  },
  {
   "cell_type": "markdown",
   "id": "civic-matrix",
   "metadata": {},
   "source": [
    "### * 파이썬의 기본 인코딩은 UTF-8이다."
   ]
  },
  {
   "cell_type": "code",
   "execution_count": 1,
   "id": "thousand-skiing",
   "metadata": {},
   "outputs": [],
   "source": [
    "# -*- coding: UTF-8 -*-"
   ]
  },
  {
   "cell_type": "markdown",
   "id": "neural-soccer",
   "metadata": {},
   "source": [
    "인코딩을 기본값 외의 것으로 선언시 : "
   ]
  },
  {
   "cell_type": "code",
   "execution_count": 1,
   "id": "norwegian-metabolism",
   "metadata": {},
   "outputs": [],
   "source": [
    "# -*- coding: cp1252 -*-"
   ]
  },
  {
   "cell_type": "markdown",
   "id": "demanding-india",
   "metadata": {},
   "source": [
    "### * 파이썬은 모두 객체다."
   ]
  },
  {
   "cell_type": "markdown",
   "id": "departmental-stranger",
   "metadata": {},
   "source": [
    " - id()"
   ]
  },
  {
   "cell_type": "code",
   "execution_count": 14,
   "id": "fabulous-protection",
   "metadata": {},
   "outputs": [
    {
     "data": {
      "text/plain": [
       "2868174285392"
      ]
     },
     "execution_count": 14,
     "metadata": {},
     "output_type": "execute_result"
    }
   ],
   "source": [
    "a = 10\n",
    "id(a) # 객체 고유의 값"
   ]
  },
  {
   "cell_type": "markdown",
   "id": "concerned-glance",
   "metadata": {},
   "source": [
    " - dir()"
   ]
  },
  {
   "cell_type": "code",
   "execution_count": 16,
   "id": "european-trademark",
   "metadata": {},
   "outputs": [
    {
     "data": {
      "text/plain": [
       "['__abs__',\n",
       " '__add__',\n",
       " '__and__',\n",
       " '__bool__',\n",
       " '__ceil__',\n",
       " '__class__',\n",
       " '__delattr__',\n",
       " '__dir__',\n",
       " '__divmod__',\n",
       " '__doc__',\n",
       " '__eq__',\n",
       " '__float__',\n",
       " '__floor__',\n",
       " '__floordiv__',\n",
       " '__format__',\n",
       " '__ge__',\n",
       " '__getattribute__',\n",
       " '__getnewargs__',\n",
       " '__gt__',\n",
       " '__hash__',\n",
       " '__index__',\n",
       " '__init__',\n",
       " '__init_subclass__',\n",
       " '__int__',\n",
       " '__invert__',\n",
       " '__le__',\n",
       " '__lshift__',\n",
       " '__lt__',\n",
       " '__mod__',\n",
       " '__mul__',\n",
       " '__ne__',\n",
       " '__neg__',\n",
       " '__new__',\n",
       " '__or__',\n",
       " '__pos__',\n",
       " '__pow__',\n",
       " '__radd__',\n",
       " '__rand__',\n",
       " '__rdivmod__',\n",
       " '__reduce__',\n",
       " '__reduce_ex__',\n",
       " '__repr__',\n",
       " '__rfloordiv__',\n",
       " '__rlshift__',\n",
       " '__rmod__',\n",
       " '__rmul__',\n",
       " '__ror__',\n",
       " '__round__',\n",
       " '__rpow__',\n",
       " '__rrshift__',\n",
       " '__rshift__',\n",
       " '__rsub__',\n",
       " '__rtruediv__',\n",
       " '__rxor__',\n",
       " '__setattr__',\n",
       " '__sizeof__',\n",
       " '__str__',\n",
       " '__sub__',\n",
       " '__subclasshook__',\n",
       " '__truediv__',\n",
       " '__trunc__',\n",
       " '__xor__',\n",
       " 'as_integer_ratio',\n",
       " 'bit_length',\n",
       " 'conjugate',\n",
       " 'denominator',\n",
       " 'from_bytes',\n",
       " 'imag',\n",
       " 'numerator',\n",
       " 'real',\n",
       " 'to_bytes']"
      ]
     },
     "execution_count": 16,
     "metadata": {},
     "output_type": "execute_result"
    }
   ],
   "source": [
    "dir(int)"
   ]
  },
  {
   "cell_type": "markdown",
   "id": "experimental-present",
   "metadata": {
    "tags": []
   },
   "source": [
    "### * help()"
   ]
  },
  {
   "cell_type": "code",
   "execution_count": 1,
   "id": "original-baseline",
   "metadata": {},
   "outputs": [
    {
     "name": "stdout",
     "output_type": "stream",
     "text": [
      "Help on built-in function dir in module builtins:\n",
      "\n",
      "dir(...)\n",
      "    dir([object]) -> list of strings\n",
      "    \n",
      "    If called without an argument, return the names in the current scope.\n",
      "    Else, return an alphabetized list of names comprising (some of) the attributes\n",
      "    of the given object, and of attributes reachable from it.\n",
      "    If the object supplies a method named __dir__, it will be used; otherwise\n",
      "    the default dir() logic is used and returns:\n",
      "      for a module object: the module's attributes.\n",
      "      for a class object:  its attributes, and recursively the attributes\n",
      "        of its bases.\n",
      "      for any other object: its attributes, its class's attributes, and\n",
      "        recursively the attributes of its class's base classes.\n",
      "\n"
     ]
    }
   ],
   "source": [
    "help(dir)"
   ]
  },
  {
   "cell_type": "markdown",
   "id": "female-forty",
   "metadata": {},
   "source": [
    "### * 코딩스타일"
   ]
  },
  {
   "cell_type": "markdown",
   "id": "trying-macro",
   "metadata": {},
   "source": [
    " - indent는 4space로하며 tab은 사용을 금한다\n",
    " - 한 줄에 79자를 넘기지 않는다\n",
    " - 독스트링을 사용하자\n",
    " - 연산자들 주변과 콤마 뒤에 스페이스를 넣고 괄호는 붙인다\n",
    " - 클래스는 UpperCamelCase, 함수와 메서드는 lowercase_with_underscores\n",
    " - UTF-8을 지키자"
   ]
  },
  {
   "cell_type": "markdown",
   "id": "hungry-voluntary",
   "metadata": {},
   "source": [
    "### * 주석"
   ]
  },
  {
   "cell_type": "code",
   "execution_count": 29,
   "id": "annoying-chorus",
   "metadata": {},
   "outputs": [],
   "source": [
    "# This is comment"
   ]
  },
  {
   "cell_type": "markdown",
   "id": "played-profile",
   "metadata": {},
   "source": [
    "### * print()"
   ]
  },
  {
   "cell_type": "code",
   "execution_count": 1,
   "id": "express-wright",
   "metadata": {},
   "outputs": [
    {
     "name": "stdout",
     "output_type": "stream",
     "text": [
      "123\n",
      "출력 함수\n",
      "1# 2# 이렇게# 3# 4# 여러가지# 출력\n",
      "Hello  World! | 321\n"
     ]
    }
   ],
   "source": [
    "a = 123\n",
    "print(a)\n",
    "print(\"출력 함수\")\n",
    "print(1, 2, \"이렇게\", 3, 4, \"여러가지\", \"출력\", sep=\"# \")\n",
    "print(\"Hello \", \"World!\", end=\" | \")\n",
    "print(321)"
   ]
  },
  {
   "cell_type": "markdown",
   "id": "optical-domestic",
   "metadata": {},
   "source": [
    "<br>\n",
    "<br>\n",
    "<br>\n",
    "<br>\n",
    "<br>\n",
    "<br>\n",
    "<hr>\n",
    "<br>\n",
    "<br>\n",
    "<br>\n",
    "<br>\n",
    "<br>\n",
    "<br>"
   ]
  },
  {
   "cell_type": "markdown",
   "id": "acknowledged-brief",
   "metadata": {},
   "source": [
    "# 02. 변수와 자료형"
   ]
  },
  {
   "cell_type": "markdown",
   "id": "defensive-degree",
   "metadata": {},
   "source": [
    "## - 자료형\n",
    "\n",
    " - int\n",
    " - float\n",
    " - string\n",
    " - boolean\n",
    " - list\n",
    " - dict\n",
    " - tuple\n",
    " - None\n",
    " \n",
    "\n",
    "long형은 존재하지 않는다"
   ]
  },
  {
   "cell_type": "markdown",
   "id": "oriental-details",
   "metadata": {},
   "source": [
    "### * type()"
   ]
  },
  {
   "cell_type": "code",
   "execution_count": 5,
   "id": "divided-sleep",
   "metadata": {},
   "outputs": [
    {
     "data": {
      "text/plain": [
       "str"
      ]
     },
     "execution_count": 5,
     "metadata": {},
     "output_type": "execute_result"
    }
   ],
   "source": [
    "type(\"hello\")"
   ]
  },
  {
   "cell_type": "code",
   "execution_count": 6,
   "id": "certified-england",
   "metadata": {},
   "outputs": [
    {
     "data": {
      "text/plain": [
       "int"
      ]
     },
     "execution_count": 6,
     "metadata": {},
     "output_type": "execute_result"
    }
   ],
   "source": [
    "type(10)"
   ]
  },
  {
   "cell_type": "markdown",
   "id": "international-float",
   "metadata": {},
   "source": [
    "## - 변수"
   ]
  },
  {
   "cell_type": "markdown",
   "id": "coordinate-journalist",
   "metadata": {},
   "source": [
    "### * input()\n",
    "\n",
    "입력받기. string 타입."
   ]
  },
  {
   "cell_type": "code",
   "execution_count": 5,
   "id": "supposed-jacob",
   "metadata": {},
   "outputs": [
    {
     "name": "stdin",
     "output_type": "stream",
     "text": [
      " 10\n"
     ]
    },
    {
     "name": "stdout",
     "output_type": "stream",
     "text": [
      "10 <class 'str'>\n"
     ]
    }
   ],
   "source": [
    "a = input()\n",
    "print(a, type(a))"
   ]
  },
  {
   "cell_type": "markdown",
   "id": "laughing-option",
   "metadata": {},
   "source": [
    "### * 캐스팅"
   ]
  },
  {
   "cell_type": "code",
   "execution_count": 9,
   "id": "announced-rubber",
   "metadata": {},
   "outputs": [
    {
     "name": "stdin",
     "output_type": "stream",
     "text": [
      " 10\n"
     ]
    },
    {
     "name": "stdout",
     "output_type": "stream",
     "text": [
      "<class 'str'>\n",
      "<class 'int'>\n"
     ]
    }
   ],
   "source": [
    "a = input()\n",
    "print(type(a))\n",
    "a = int(a)\n",
    "print(type(a))"
   ]
  },
  {
   "cell_type": "markdown",
   "id": "changed-carpet",
   "metadata": {},
   "source": [
    "### * del"
   ]
  },
  {
   "cell_type": "code",
   "execution_count": 11,
   "id": "wired-paragraph",
   "metadata": {},
   "outputs": [
    {
     "name": "stdout",
     "output_type": "stream",
     "text": [
      "hello world\n"
     ]
    },
    {
     "ename": "NameError",
     "evalue": "name 'a' is not defined",
     "output_type": "error",
     "traceback": [
      "\u001b[1;31m---------------------------------------------------------------------------\u001b[0m",
      "\u001b[1;31mNameError\u001b[0m                                 Traceback (most recent call last)",
      "\u001b[1;32m<ipython-input-11-765facf5dd62>\u001b[0m in \u001b[0;36m<module>\u001b[1;34m\u001b[0m\n\u001b[0;32m      2\u001b[0m \u001b[0mprint\u001b[0m\u001b[1;33m(\u001b[0m\u001b[0ma\u001b[0m\u001b[1;33m)\u001b[0m\u001b[1;33m\u001b[0m\u001b[1;33m\u001b[0m\u001b[0m\n\u001b[0;32m      3\u001b[0m \u001b[1;32mdel\u001b[0m \u001b[0ma\u001b[0m\u001b[1;33m\u001b[0m\u001b[1;33m\u001b[0m\u001b[0m\n\u001b[1;32m----> 4\u001b[1;33m \u001b[0mprint\u001b[0m\u001b[1;33m(\u001b[0m\u001b[0ma\u001b[0m\u001b[1;33m)\u001b[0m\u001b[1;33m\u001b[0m\u001b[1;33m\u001b[0m\u001b[0m\n\u001b[0m",
      "\u001b[1;31mNameError\u001b[0m: name 'a' is not defined"
     ]
    }
   ],
   "source": [
    "a = \"hello world\"\n",
    "print(a)\n",
    "del a\n",
    "print(a)"
   ]
  },
  {
   "cell_type": "markdown",
   "id": "similar-emerald",
   "metadata": {},
   "source": [
    "### * mutable and immutable"
   ]
  },
  {
   "cell_type": "markdown",
   "id": "advisory-minutes",
   "metadata": {},
   "source": [
    "예륻 들어, 문자열과 정수는 immutable하다"
   ]
  },
  {
   "cell_type": "code",
   "execution_count": 33,
   "id": "durable-agent",
   "metadata": {},
   "outputs": [
    {
     "name": "stdout",
     "output_type": "stream",
     "text": [
      "2868174285392 2868174285392\n",
      "2868174285392 2868174285712\n"
     ]
    }
   ],
   "source": [
    "num = 10\n",
    "copy_num = num\n",
    "print(id(num), id(copy_num)) # 두 개의 정수 값의 주소값이 같다.\n",
    "copy_num = 20\n",
    "print(id(num), id(copy_num)) # 두 개의 정수 값의 주소값이 다르다."
   ]
  },
  {
   "cell_type": "code",
   "execution_count": 36,
   "id": "verbal-application",
   "metadata": {},
   "outputs": [
    {
     "name": "stdout",
     "output_type": "stream",
     "text": [
      "2868247916592 2868247916592\n",
      "2868247916592 2868247920496\n"
     ]
    }
   ],
   "source": [
    "string = \"Hi\"\n",
    "copy_string = string\n",
    "print(id(string), id(copy_string)) # 두 개의 문자열 값의 주소값이 같다.\n",
    "copy_string = \"Hello\"\n",
    "print(id(string), id(copy_string)) # 두 개의 문자열 값의 주소값이 다르다."
   ]
  },
  {
   "cell_type": "markdown",
   "id": "chinese-shelf",
   "metadata": {},
   "source": [
    "예를 들어, 리스트는 mutable하다"
   ]
  },
  {
   "cell_type": "code",
   "execution_count": 37,
   "id": "celtic-knitting",
   "metadata": {},
   "outputs": [
    {
     "name": "stdout",
     "output_type": "stream",
     "text": [
      "[100, 2, 3, 'This is List'] [100, 2, 3, 'This is List']\n"
     ]
    }
   ],
   "source": [
    "objs = [1, 2, 3, \"This is List\"]\n",
    "copy_objs = objs\n",
    "objs[0] = 100 # 첫번째 값을 100으로 변경\n",
    "print(objs, copy_objs)"
   ]
  },
  {
   "cell_type": "markdown",
   "id": "victorian-township",
   "metadata": {},
   "source": [
    "<br>\n",
    "<br>\n",
    "<br>\n",
    "<br>\n",
    "<br>\n",
    "<br>\n",
    "<hr>\n",
    "<br>\n",
    "<br>\n",
    "<br>\n",
    "<br>\n",
    "<br>\n",
    "<br>"
   ]
  },
  {
   "cell_type": "markdown",
   "id": "occasional-installation",
   "metadata": {},
   "source": [
    "# 03. 연산자"
   ]
  },
  {
   "cell_type": "markdown",
   "id": "nervous-antique",
   "metadata": {},
   "source": [
    "## - 산술연산 `+`, `-`, `*`, `**`, `/`, `//`, `%`"
   ]
  },
  {
   "cell_type": "code",
   "execution_count": 2,
   "id": "asian-venice",
   "metadata": {},
   "outputs": [
    {
     "data": {
      "text/plain": [
       "8"
      ]
     },
     "execution_count": 2,
     "metadata": {},
     "output_type": "execute_result"
    }
   ],
   "source": [
    "3 + 5"
   ]
  },
  {
   "cell_type": "code",
   "execution_count": 3,
   "id": "technical-western",
   "metadata": {},
   "outputs": [
    {
     "data": {
      "text/plain": [
       "7"
      ]
     },
     "execution_count": 3,
     "metadata": {},
     "output_type": "execute_result"
    }
   ],
   "source": [
    "10 - 3"
   ]
  },
  {
   "cell_type": "code",
   "execution_count": 5,
   "id": "approximate-reporter",
   "metadata": {},
   "outputs": [
    {
     "data": {
      "text/plain": [
       "80"
      ]
     },
     "execution_count": 5,
     "metadata": {},
     "output_type": "execute_result"
    }
   ],
   "source": [
    "40 * 2"
   ]
  },
  {
   "cell_type": "code",
   "execution_count": 7,
   "id": "sapphire-monster",
   "metadata": {},
   "outputs": [
    {
     "data": {
      "text/plain": [
       "8"
      ]
     },
     "execution_count": 7,
     "metadata": {},
     "output_type": "execute_result"
    }
   ],
   "source": [
    "2 ** 3"
   ]
  },
  {
   "cell_type": "code",
   "execution_count": 8,
   "id": "dense-behalf",
   "metadata": {},
   "outputs": [
    {
     "data": {
      "text/plain": [
       "3.3333333333333335"
      ]
     },
     "execution_count": 8,
     "metadata": {},
     "output_type": "execute_result"
    }
   ],
   "source": [
    "10 / 3"
   ]
  },
  {
   "cell_type": "code",
   "execution_count": 9,
   "id": "expanded-beverage",
   "metadata": {},
   "outputs": [
    {
     "data": {
      "text/plain": [
       "3"
      ]
     },
     "execution_count": 9,
     "metadata": {},
     "output_type": "execute_result"
    }
   ],
   "source": [
    "10 // 3"
   ]
  },
  {
   "cell_type": "code",
   "execution_count": 10,
   "id": "sought-reproduction",
   "metadata": {},
   "outputs": [
    {
     "data": {
      "text/plain": [
       "1"
      ]
     },
     "execution_count": 10,
     "metadata": {},
     "output_type": "execute_result"
    }
   ],
   "source": [
    "10 % 3"
   ]
  },
  {
   "cell_type": "markdown",
   "id": "placed-mobile",
   "metadata": {},
   "source": [
    "## - 할당연산 `+=`, `-=`, `*=`, `**=`, `/=`, `//=`, `%=`"
   ]
  },
  {
   "cell_type": "code",
   "execution_count": 12,
   "id": "hydraulic-blowing",
   "metadata": {},
   "outputs": [
    {
     "name": "stdout",
     "output_type": "stream",
     "text": [
      "50\n"
     ]
    }
   ],
   "source": [
    "num = 10\n",
    "num = num + 20\n",
    "num += 20\n",
    "print(num)"
   ]
  },
  {
   "cell_type": "code",
   "execution_count": 13,
   "id": "different-aaron",
   "metadata": {},
   "outputs": [
    {
     "name": "stdout",
     "output_type": "stream",
     "text": [
      "10\n"
     ]
    }
   ],
   "source": [
    "num = 20\n",
    "num -= 10\n",
    "print(num)"
   ]
  },
  {
   "cell_type": "code",
   "execution_count": 14,
   "id": "governmental-exchange",
   "metadata": {},
   "outputs": [
    {
     "name": "stdout",
     "output_type": "stream",
     "text": [
      "100\n"
     ]
    }
   ],
   "source": [
    "num = 10\n",
    "num *= 10\n",
    "print(num)"
   ]
  },
  {
   "cell_type": "code",
   "execution_count": 15,
   "id": "joined-liquid",
   "metadata": {},
   "outputs": [
    {
     "name": "stdout",
     "output_type": "stream",
     "text": [
      "1000\n"
     ]
    }
   ],
   "source": [
    "num = 10\n",
    "num **= 3\n",
    "print(num)"
   ]
  },
  {
   "cell_type": "code",
   "execution_count": 16,
   "id": "valid-snake",
   "metadata": {},
   "outputs": [
    {
     "name": "stdout",
     "output_type": "stream",
     "text": [
      "3.3333333333333335\n"
     ]
    }
   ],
   "source": [
    "num = 10\n",
    "num /= 3\n",
    "print(num)"
   ]
  },
  {
   "cell_type": "code",
   "execution_count": 17,
   "id": "ethical-yesterday",
   "metadata": {},
   "outputs": [
    {
     "name": "stdout",
     "output_type": "stream",
     "text": [
      "3\n"
     ]
    }
   ],
   "source": [
    "num = 10\n",
    "num //= 3\n",
    "print(num)"
   ]
  },
  {
   "cell_type": "code",
   "execution_count": 42,
   "id": "alone-mount",
   "metadata": {},
   "outputs": [
    {
     "name": "stdout",
     "output_type": "stream",
     "text": [
      "1\n"
     ]
    }
   ],
   "source": [
    "num = 10\n",
    "num %= 3\n",
    "print(num)"
   ]
  },
  {
   "cell_type": "markdown",
   "id": "coordinated-antigua",
   "metadata": {},
   "source": [
    "파이썬에는 증감연산 `++`, `--` 이 없다"
   ]
  },
  {
   "cell_type": "markdown",
   "id": "understanding-pontiac",
   "metadata": {},
   "source": [
    "## - 비교연산 `<=`, `>=`, `<`, `>`, `==`, `!=`"
   ]
  },
  {
   "cell_type": "code",
   "execution_count": 23,
   "id": "closing-manner",
   "metadata": {},
   "outputs": [
    {
     "data": {
      "text/plain": [
       "True"
      ]
     },
     "execution_count": 23,
     "metadata": {},
     "output_type": "execute_result"
    }
   ],
   "source": [
    "5 <= 5"
   ]
  },
  {
   "cell_type": "code",
   "execution_count": 25,
   "id": "helpful-dealer",
   "metadata": {},
   "outputs": [
    {
     "data": {
      "text/plain": [
       "False"
      ]
     },
     "execution_count": 25,
     "metadata": {},
     "output_type": "execute_result"
    }
   ],
   "source": [
    "5 < 5"
   ]
  },
  {
   "cell_type": "code",
   "execution_count": 27,
   "id": "outside-alert",
   "metadata": {},
   "outputs": [
    {
     "data": {
      "text/plain": [
       "True"
      ]
     },
     "execution_count": 27,
     "metadata": {},
     "output_type": "execute_result"
    }
   ],
   "source": [
    "4 > 2"
   ]
  },
  {
   "cell_type": "code",
   "execution_count": 28,
   "id": "colored-small",
   "metadata": {},
   "outputs": [
    {
     "data": {
      "text/plain": [
       "True"
      ]
     },
     "execution_count": 28,
     "metadata": {},
     "output_type": "execute_result"
    }
   ],
   "source": [
    "3 >= 0"
   ]
  },
  {
   "cell_type": "code",
   "execution_count": 29,
   "id": "statewide-notification",
   "metadata": {},
   "outputs": [
    {
     "data": {
      "text/plain": [
       "True"
      ]
     },
     "execution_count": 29,
     "metadata": {},
     "output_type": "execute_result"
    }
   ],
   "source": [
    "10 == 10"
   ]
  },
  {
   "cell_type": "code",
   "execution_count": 30,
   "id": "dedicated-method",
   "metadata": {},
   "outputs": [
    {
     "data": {
      "text/plain": [
       "False"
      ]
     },
     "execution_count": 30,
     "metadata": {},
     "output_type": "execute_result"
    }
   ],
   "source": [
    "1 != 1"
   ]
  },
  {
   "cell_type": "markdown",
   "id": "protecting-picnic",
   "metadata": {},
   "source": [
    "## - 식별(Identity)연산 `is`, `is not`\n",
    "\n",
    "값을 비교하는 것이 아니라 메모리 주소값을 비교\n",
    "\n",
    "파이썬은 정수 -5~256까지 이미 객체를 만들어 보관(메모리가 일정함)\n",
    "\n",
    "string도 짧은 문자열은 같은 주소에 할당되나, 긴 문자열은 다른 주소에 할당됨"
   ]
  },
  {
   "cell_type": "code",
   "execution_count": 32,
   "id": "wireless-aspect",
   "metadata": {},
   "outputs": [
    {
     "name": "stdout",
     "output_type": "stream",
     "text": [
      "True\n",
      "True\n",
      "2485052593616\n",
      "2485052593616\n"
     ]
    }
   ],
   "source": [
    "# == 와 is의 차이\n",
    "x = 100\n",
    "y = 100\n",
    "print(x == y)\n",
    "print(x is y)\n",
    "print(id(x)) #주소값 확인 id()\n",
    "print(id(y))"
   ]
  },
  {
   "cell_type": "code",
   "execution_count": 33,
   "id": "greenhouse-exclusion",
   "metadata": {},
   "outputs": [
    {
     "name": "stdout",
     "output_type": "stream",
     "text": [
      "True\n",
      "False\n",
      "2485124322192\n",
      "2485124322448\n"
     ]
    }
   ],
   "source": [
    "x = 257\n",
    "y = 257\n",
    "print(x == y)\n",
    "print(x is y)\n",
    "print(id(x))\n",
    "print(id(y))"
   ]
  },
  {
   "cell_type": "markdown",
   "id": "emotional-switzerland",
   "metadata": {},
   "source": [
    "## - 논리 연산 `not`, `and`, `or`"
   ]
  },
  {
   "cell_type": "code",
   "execution_count": 38,
   "id": "attempted-yacht",
   "metadata": {},
   "outputs": [
    {
     "name": "stdout",
     "output_type": "stream",
     "text": [
      "True\n",
      "False\n",
      "False\n",
      "False\n"
     ]
    }
   ],
   "source": [
    "print(True and True)\n",
    "print(True and False)\n",
    "print(False and True)\n",
    "print(False and False)"
   ]
  },
  {
   "cell_type": "code",
   "execution_count": 40,
   "id": "worse-tooth",
   "metadata": {},
   "outputs": [
    {
     "name": "stdout",
     "output_type": "stream",
     "text": [
      "True\n",
      "True\n",
      "True\n",
      "False\n"
     ]
    }
   ],
   "source": [
    "print(True or True)\n",
    "print(True or False)\n",
    "print(False or True)\n",
    "print(False or False)"
   ]
  },
  {
   "cell_type": "code",
   "execution_count": 41,
   "id": "still-despite",
   "metadata": {},
   "outputs": [
    {
     "data": {
      "text/plain": [
       "False"
      ]
     },
     "execution_count": 41,
     "metadata": {},
     "output_type": "execute_result"
    }
   ],
   "source": [
    "not True"
   ]
  },
  {
   "cell_type": "markdown",
   "id": "centered-invalid",
   "metadata": {},
   "source": [
    "## - 비트연산 `<<`, `>>`, `^`, `|`, `&`, `~`"
   ]
  },
  {
   "cell_type": "code",
   "execution_count": 55,
   "id": "stylish-fishing",
   "metadata": {},
   "outputs": [],
   "source": [
    "# PASS"
   ]
  },
  {
   "cell_type": "markdown",
   "id": "spiritual-dragon",
   "metadata": {},
   "source": [
    "### * 진법 활용 "
   ]
  },
  {
   "cell_type": "code",
   "execution_count": 19,
   "id": "annual-conviction",
   "metadata": {},
   "outputs": [
    {
     "data": {
      "text/plain": [
       "('0b1010', '0o12', '0xa')"
      ]
     },
     "execution_count": 19,
     "metadata": {},
     "output_type": "execute_result"
    }
   ],
   "source": [
    "bin(10), oct(10), hex(10)"
   ]
  },
  {
   "cell_type": "code",
   "execution_count": 31,
   "id": "separate-aggregate",
   "metadata": {},
   "outputs": [
    {
     "data": {
      "text/plain": [
       "(10, 10, 10)"
      ]
     },
     "execution_count": 31,
     "metadata": {},
     "output_type": "execute_result"
    }
   ],
   "source": [
    "int('0b1010', 2), int('0o12', 8), int('0xa', 16)"
   ]
  },
  {
   "cell_type": "markdown",
   "id": "terminal-biodiversity",
   "metadata": {},
   "source": [
    "<br>\n",
    "<br>\n",
    "<br>\n",
    "<br>\n",
    "<br>\n",
    "<br>\n",
    "<hr>\n",
    "<br>\n",
    "<br>\n",
    "<br>\n",
    "<br>\n",
    "<br>\n",
    "<br>"
   ]
  },
  {
   "cell_type": "markdown",
   "id": "found-serve",
   "metadata": {},
   "source": [
    "# 04. 조건문"
   ]
  },
  {
   "cell_type": "markdown",
   "id": "hollow-metropolitan",
   "metadata": {},
   "source": [
    "## - if ~ else"
   ]
  },
  {
   "cell_type": "code",
   "execution_count": 5,
   "id": "heavy-ordinary",
   "metadata": {},
   "outputs": [
    {
     "name": "stdin",
     "output_type": "stream",
     "text": [
      "정수 입력 10\n"
     ]
    },
    {
     "name": "stdout",
     "output_type": "stream",
     "text": [
      "짝수\n"
     ]
    }
   ],
   "source": [
    "num = int(input(\"정수 입력\"))\n",
    "if num % 2 == 0:\n",
    "    print(\"짝수\")\n",
    "else:\n",
    "    print(\"홀수\")"
   ]
  },
  {
   "cell_type": "code",
   "execution_count": 9,
   "id": "familiar-forty",
   "metadata": {},
   "outputs": [
    {
     "name": "stdin",
     "output_type": "stream",
     "text": [
      "Input the score :  76\n"
     ]
    },
    {
     "name": "stdout",
     "output_type": "stream",
     "text": [
      "미\n",
      "양\n"
     ]
    }
   ],
   "source": [
    "score = int(input(\"Input the score : \"))\n",
    "if score > 90:\n",
    "    print(\"수\")\n",
    "if score > 80:\n",
    "    print(\"우\")\n",
    "if score > 70:\n",
    "    print(\"미\")\n",
    "if score > 60:\n",
    "    print(\"양\")\n",
    "else:\n",
    "    print(\"가\")"
   ]
  },
  {
   "cell_type": "code",
   "execution_count": 12,
   "id": "shared-queensland",
   "metadata": {},
   "outputs": [
    {
     "name": "stdin",
     "output_type": "stream",
     "text": [
      "Input the score :  76\n"
     ]
    },
    {
     "name": "stdout",
     "output_type": "stream",
     "text": [
      "미\n",
      "가\n"
     ]
    }
   ],
   "source": [
    "score = int(input(\"Input the score : \"))\n",
    "if score > 90:\n",
    "    print(\"수\")\n",
    "if score > 80 and score <= 90:\n",
    "    print(\"우\")\n",
    "if score > 70 and score <= 80:\n",
    "    print(\"미\")\n",
    "if score > 60 and score <= 70:\n",
    "    print(\"양\")\n",
    "else:\n",
    "    print(\"가\")"
   ]
  },
  {
   "cell_type": "markdown",
   "id": "favorite-florida",
   "metadata": {},
   "source": [
    "## -elif"
   ]
  },
  {
   "cell_type": "code",
   "execution_count": 13,
   "id": "interstate-intake",
   "metadata": {},
   "outputs": [
    {
     "name": "stdin",
     "output_type": "stream",
     "text": [
      "Input the score :  76\n"
     ]
    },
    {
     "name": "stdout",
     "output_type": "stream",
     "text": [
      "미\n"
     ]
    }
   ],
   "source": [
    "score = int(input(\"Input the score : \"))\n",
    "if score > 90:\n",
    "    print(\"수\")\n",
    "elif score > 80:\n",
    "    print(\"우\")\n",
    "elif score > 70:\n",
    "    print(\"미\")\n",
    "elif score > 60:\n",
    "    print(\"양\")\n",
    "else:\n",
    "    print(\"가\")"
   ]
  },
  {
   "cell_type": "markdown",
   "id": "developing-purpose",
   "metadata": {},
   "source": [
    "파이썬은 switch~case문이 없다.\n",
    "\n",
    "https://www.python.org/dev/peps/pep-3103/"
   ]
  },
  {
   "cell_type": "markdown",
   "id": "exclusive-fence",
   "metadata": {},
   "source": [
    "<br>\n",
    "<br>\n",
    "<br>\n",
    "<br>\n",
    "<br>\n",
    "<br>\n",
    "<hr>\n",
    "<br>\n",
    "<br>\n",
    "<br>\n",
    "<br>\n",
    "<br>\n",
    "<br>"
   ]
  },
  {
   "cell_type": "markdown",
   "id": "technical-porcelain",
   "metadata": {},
   "source": [
    "# 05. 반복문"
   ]
  },
  {
   "cell_type": "code",
   "execution_count": 16,
   "id": "split-invasion",
   "metadata": {},
   "outputs": [],
   "source": [
    "a_student_score1 = 87\n",
    "b_student_score1 = 66\n",
    "c_student_score1 = 94\n",
    "d_student_score1 = 56\n",
    "e_student_score1 = 88"
   ]
  },
  {
   "cell_type": "code",
   "execution_count": 19,
   "id": "certified-request",
   "metadata": {},
   "outputs": [
    {
     "name": "stdout",
     "output_type": "stream",
     "text": [
      "우\n",
      "양\n",
      "수\n",
      "가\n",
      "우\n"
     ]
    }
   ],
   "source": [
    "scores = [87, 66, 94, 56, 88] # 리스트(List)\n",
    "#-----------------------------------------#\n",
    "score = scores[0]\n",
    "\n",
    "if score > 90:\n",
    "    print(\"수\")\n",
    "elif score > 80:\n",
    "    print(\"우\")\n",
    "elif score > 70:\n",
    "    print(\"미\")\n",
    "elif score > 60:\n",
    "    print(\"양\")\n",
    "else:\n",
    "    print(\"가\")\n",
    "#-----------------------------------------#\n",
    "score = scores[1]\n",
    "\n",
    "if score > 90:\n",
    "    print(\"수\")\n",
    "elif score > 80:\n",
    "    print(\"우\")\n",
    "elif score > 70:\n",
    "    print(\"미\")\n",
    "elif score > 60:\n",
    "    print(\"양\")\n",
    "else:\n",
    "    print(\"가\")\n",
    "#-----------------------------------------#\n",
    "score = scores[2]\n",
    "\n",
    "if score > 90:\n",
    "    print(\"수\")\n",
    "elif score > 80:\n",
    "    print(\"우\")\n",
    "elif score > 70:\n",
    "    print(\"미\")\n",
    "elif score > 60:\n",
    "    print(\"양\")\n",
    "else:\n",
    "    print(\"가\")\n",
    "#-----------------------------------------#\n",
    "score = scores[3]\n",
    "\n",
    "if score > 90:\n",
    "    print(\"수\")\n",
    "elif score > 80:\n",
    "    print(\"우\")\n",
    "elif score > 70:\n",
    "    print(\"미\")\n",
    "elif score > 60:\n",
    "    print(\"양\")\n",
    "else:\n",
    "    print(\"가\")\n",
    "#-----------------------------------------#\n",
    "score = scores[4]\n",
    "\n",
    "if score > 90:\n",
    "    print(\"수\")\n",
    "elif score > 80:\n",
    "    print(\"우\")\n",
    "elif score > 70:\n",
    "    print(\"미\")\n",
    "elif score > 60:\n",
    "    print(\"양\")\n",
    "else:\n",
    "    print(\"가\")"
   ]
  },
  {
   "cell_type": "markdown",
   "id": "modified-harrison",
   "metadata": {},
   "source": [
    "## - for"
   ]
  },
  {
   "cell_type": "code",
   "execution_count": 2,
   "id": "eastern-influence",
   "metadata": {},
   "outputs": [
    {
     "name": "stdout",
     "output_type": "stream",
     "text": [
      "우\n",
      "양\n",
      "수\n",
      "가\n",
      "우\n"
     ]
    }
   ],
   "source": [
    "scores = [87, 66, 94, 56, 88] # 리스트(List)\n",
    "\n",
    "for score in scores:\n",
    "    if score > 90:\n",
    "        print(\"수\")\n",
    "    elif score > 80:\n",
    "        print(\"우\")\n",
    "    elif score > 70:\n",
    "        print(\"미\")\n",
    "    elif score > 60:\n",
    "        print(\"양\")\n",
    "    else:\n",
    "        print(\"가\")"
   ]
  },
  {
   "cell_type": "code",
   "execution_count": 6,
   "id": "cultural-miracle",
   "metadata": {},
   "outputs": [
    {
     "name": "stdout",
     "output_type": "stream",
     "text": [
      "1 2 3 4 5 "
     ]
    }
   ],
   "source": [
    "for i in 1, 2, 3, 4, 5:\n",
    "    print(i, end=\" \");"
   ]
  },
  {
   "cell_type": "markdown",
   "id": "moved-australia",
   "metadata": {},
   "source": [
    "### * range()"
   ]
  },
  {
   "cell_type": "code",
   "execution_count": 21,
   "id": "brown-paradise",
   "metadata": {},
   "outputs": [
    {
     "name": "stdout",
     "output_type": "stream",
     "text": [
      "0 1 2 3 4 5 6 7 8 9 "
     ]
    }
   ],
   "source": [
    "for i in range(10):\n",
    "    print(i, end=\" \")"
   ]
  },
  {
   "cell_type": "code",
   "execution_count": 24,
   "id": "aware-insured",
   "metadata": {},
   "outputs": [
    {
     "name": "stdout",
     "output_type": "stream",
     "text": [
      "1 2 3 4 5 6 7 8 9 "
     ]
    }
   ],
   "source": [
    "for i in range(1, 10):\n",
    "    print(i, end=\" \")"
   ]
  },
  {
   "cell_type": "code",
   "execution_count": 26,
   "id": "fallen-means",
   "metadata": {},
   "outputs": [
    {
     "name": "stdout",
     "output_type": "stream",
     "text": [
      "1 3 5 7 9 "
     ]
    }
   ],
   "source": [
    "for i in range(1, 10, 2):\n",
    "    print(i, end=\" \")"
   ]
  },
  {
   "cell_type": "markdown",
   "id": "pleasant-field",
   "metadata": {
    "tags": []
   },
   "source": [
    "- range()는 리스트가 아니라 iterate시 원하는 시퀀스 항목들을 순서대로 돌려주는 개체이나 실제로 리스트를 만들지는 않아서 공간이 절약됨\n",
    "- 이러한 객체를 iterable이라고 한다"
   ]
  },
  {
   "cell_type": "code",
   "execution_count": 28,
   "id": "sudden-ecology",
   "metadata": {},
   "outputs": [
    {
     "name": "stdout",
     "output_type": "stream",
     "text": [
      "range(0, 10)\n"
     ]
    }
   ],
   "source": [
    "# range(10) === [0, 1, 2, 3, 4, 5, 6, 7, 8, 9] ?\n",
    "print(range(10))"
   ]
  },
  {
   "cell_type": "code",
   "execution_count": 29,
   "id": "antique-merchandise",
   "metadata": {},
   "outputs": [
    {
     "data": {
      "text/plain": [
       "[0, 1, 2, 3, 4, 5, 6, 7, 8, 9]"
      ]
     },
     "execution_count": 29,
     "metadata": {},
     "output_type": "execute_result"
    }
   ],
   "source": [
    "list(range(10))"
   ]
  },
  {
   "cell_type": "markdown",
   "id": "stone-evening",
   "metadata": {},
   "source": [
    "## - while"
   ]
  },
  {
   "cell_type": "code",
   "execution_count": 31,
   "id": "induced-roads",
   "metadata": {},
   "outputs": [
    {
     "name": "stdout",
     "output_type": "stream",
     "text": [
      "0 1 2 3 4 5 6 7 8 9 "
     ]
    }
   ],
   "source": [
    "i = 0\n",
    "\n",
    "while i < 10:\n",
    "    print(i, end=\" \")\n",
    "    i += 1"
   ]
  },
  {
   "cell_type": "markdown",
   "id": "posted-oxford",
   "metadata": {},
   "source": [
    "## - continue & break"
   ]
  },
  {
   "cell_type": "code",
   "execution_count": 35,
   "id": "atlantic-triple",
   "metadata": {},
   "outputs": [
    {
     "name": "stdout",
     "output_type": "stream",
     "text": [
      "0 2 4 6 8 "
     ]
    }
   ],
   "source": [
    "for i in range(10):\n",
    "    if i % 2 != 0:\n",
    "        continue\n",
    "    print(i, end = \" \")"
   ]
  },
  {
   "cell_type": "code",
   "execution_count": 37,
   "id": "double-happening",
   "metadata": {},
   "outputs": [
    {
     "name": "stdout",
     "output_type": "stream",
     "text": [
      "1 2 3 4 5 6 7 "
     ]
    }
   ],
   "source": [
    "i = 0\n",
    "\n",
    "while i < 10:\n",
    "    if i == 7:\n",
    "        break\n",
    "    i += 1\n",
    "    print(i, end = \" \")"
   ]
  },
  {
   "cell_type": "markdown",
   "id": "religious-seating",
   "metadata": {},
   "source": [
    "## - pass문"
   ]
  },
  {
   "cell_type": "code",
   "execution_count": 141,
   "id": "combined-spice",
   "metadata": {},
   "outputs": [],
   "source": [
    "for i in range(100):\n",
    "    pass"
   ]
  },
  {
   "cell_type": "markdown",
   "id": "heard-musician",
   "metadata": {},
   "source": [
    "## - 파이썬의 특징과 주의할 점"
   ]
  },
  {
   "cell_type": "markdown",
   "id": "beneficial-mapping",
   "metadata": {},
   "source": [
    "for문을 돌리기 위해 임시적으로 선언한 i가 for문이 끝나도 사용할 수가 있다."
   ]
  },
  {
   "cell_type": "code",
   "execution_count": 149,
   "id": "historical-entry",
   "metadata": {},
   "outputs": [
    {
     "name": "stdout",
     "output_type": "stream",
     "text": [
      "1\n",
      "2\n",
      "3\n",
      "i : 3\n"
     ]
    }
   ],
   "source": [
    "for i in [1, 2, 3]:\n",
    "    print(i)\n",
    "print(\"i :\", i)"
   ]
  },
  {
   "cell_type": "markdown",
   "id": "double-treasury",
   "metadata": {},
   "source": [
    "사용이 끝난 임시 변수는 지워주자"
   ]
  },
  {
   "cell_type": "code",
   "execution_count": 150,
   "id": "senior-whale",
   "metadata": {},
   "outputs": [
    {
     "name": "stdout",
     "output_type": "stream",
     "text": [
      "1\n",
      "2\n",
      "3\n"
     ]
    },
    {
     "ename": "NameError",
     "evalue": "name 'i' is not defined",
     "output_type": "error",
     "traceback": [
      "\u001b[1;31m---------------------------------------------------------------------------\u001b[0m",
      "\u001b[1;31mNameError\u001b[0m                                 Traceback (most recent call last)",
      "\u001b[1;32m<ipython-input-150-84aed88b03aa>\u001b[0m in \u001b[0;36m<module>\u001b[1;34m\u001b[0m\n\u001b[0;32m      2\u001b[0m     \u001b[0mprint\u001b[0m\u001b[1;33m(\u001b[0m\u001b[0mi\u001b[0m\u001b[1;33m)\u001b[0m\u001b[1;33m\u001b[0m\u001b[1;33m\u001b[0m\u001b[0m\n\u001b[0;32m      3\u001b[0m \u001b[1;32mdel\u001b[0m \u001b[0mi\u001b[0m\u001b[1;33m\u001b[0m\u001b[1;33m\u001b[0m\u001b[0m\n\u001b[1;32m----> 4\u001b[1;33m \u001b[0mprint\u001b[0m\u001b[1;33m(\u001b[0m\u001b[0mi\u001b[0m\u001b[1;33m)\u001b[0m\u001b[1;33m\u001b[0m\u001b[1;33m\u001b[0m\u001b[0m\n\u001b[0m",
      "\u001b[1;31mNameError\u001b[0m: name 'i' is not defined"
     ]
    }
   ],
   "source": [
    "for i in [1, 2, 3]:\n",
    "    print(i)\n",
    "del i\n",
    "print(i)"
   ]
  },
  {
   "cell_type": "markdown",
   "id": "sharp-photograph",
   "metadata": {},
   "source": [
    "<br>\n",
    "<br>\n",
    "<br>\n",
    "<br>\n",
    "<br>\n",
    "<br>\n",
    "<hr>\n",
    "<br>\n",
    "<br>\n",
    "<br>\n",
    "<br>\n",
    "<br>\n",
    "<br>"
   ]
  },
  {
   "cell_type": "markdown",
   "id": "express-basket",
   "metadata": {},
   "source": [
    "# 06. 함수(Basic)"
   ]
  },
  {
   "cell_type": "markdown",
   "id": "appropriate-yeast",
   "metadata": {},
   "source": [
    "## - 함수 선언과 호출"
   ]
  },
  {
   "cell_type": "code",
   "execution_count": 18,
   "id": "presidential-retirement",
   "metadata": {},
   "outputs": [],
   "source": [
    "def my_add_func(num1, num2): # num1과 num2는 파라미터(Parameter) 혹은 매개변수라고 한다\n",
    "    print(\"더하기 완료!\")\n",
    "    return num1 + num2"
   ]
  },
  {
   "cell_type": "code",
   "execution_count": 20,
   "id": "running-deficit",
   "metadata": {},
   "outputs": [
    {
     "name": "stdout",
     "output_type": "stream",
     "text": [
      "<function my_add_func at 0x000001FADFFBE4C0>\n",
      "더하기 완료!\n",
      "30\n"
     ]
    }
   ],
   "source": [
    "func = my_add_func\n",
    "print(func) # 함수를 변수로 받을 수도 있다.\n",
    "result = func(10, 20)\n",
    "print(result)"
   ]
  },
  {
   "cell_type": "markdown",
   "id": "compliant-candidate",
   "metadata": {},
   "source": [
    "## - Lambda"
   ]
  },
  {
   "cell_type": "code",
   "execution_count": 21,
   "id": "dense-adams",
   "metadata": {},
   "outputs": [
    {
     "name": "stdout",
     "output_type": "stream",
     "text": [
      "484\n"
     ]
    }
   ],
   "source": [
    "# 기존\n",
    "def my_mul(num1, num2):\n",
    "    return num1 * num2\n",
    "print(my_mul(22,22))"
   ]
  },
  {
   "cell_type": "code",
   "execution_count": 24,
   "id": "downtown-silver",
   "metadata": {},
   "outputs": [
    {
     "name": "stdout",
     "output_type": "stream",
     "text": [
      "484\n"
     ]
    }
   ],
   "source": [
    "# 람다(Lambda)\n",
    "func = lambda num1, num2 : num1 * num2\n",
    "print(func(22,22))"
   ]
  },
  {
   "cell_type": "code",
   "execution_count": 25,
   "id": "bored-remark",
   "metadata": {},
   "outputs": [
    {
     "name": "stdout",
     "output_type": "stream",
     "text": [
      "9\n"
     ]
    }
   ],
   "source": [
    "f = lambda x : print(x)\n",
    "f((lambda x : x ** 2)(3))"
   ]
  },
  {
   "cell_type": "markdown",
   "id": "surgical-buying",
   "metadata": {},
   "source": [
    "<br>\n",
    "<br>\n",
    "<br>\n",
    "<br>\n",
    "<br>\n",
    "<br>\n",
    "<hr>\n",
    "<br>\n",
    "<br>\n",
    "<br>\n",
    "<br>\n",
    "<br>\n",
    "<br>"
   ]
  },
  {
   "cell_type": "markdown",
   "id": "italian-soldier",
   "metadata": {},
   "source": [
    "# 07. 자료구조( List, Tuple, Set, Dictionary )"
   ]
  },
  {
   "cell_type": "markdown",
   "id": "departmental-sailing",
   "metadata": {},
   "source": [
    "## - List"
   ]
  },
  {
   "cell_type": "markdown",
   "id": "digital-consciousness",
   "metadata": {},
   "source": [
    "### * List Methods"
   ]
  },
  {
   "cell_type": "markdown",
   "id": "convenient-official",
   "metadata": {},
   "source": [
    "#### => list.append(x)\n",
    " - 리스트의 끝에 항목을 더합니다. a[len(a):] = [x] 와 동등합니다.\n",
    "\n",
    "#### => list.extend(iterable)\n",
    " - 리스트의 끝에 이터러블의 모든 항목을 덧붙여서 확장합니다. a[len(a):] = iterable 와 동등합니다.\n",
    "\n",
    "#### => list.insert(i, x)\n",
    " - 주어진 위치에 항목을 삽입합니다. 첫 번째 인자는 삽입되는 요소가 갖게 될 인덱스입니다. 그래서 a.insert(0, x) 는 리스트의 처음에 삽입하고, a.insert(len(a), x) 는 a.append(x) 와 동등합니다.\n",
    "\n",
    "#### => list.remove(x)\n",
    " - 리스트에서 값이 x 와 같은 첫 번째 항목을 삭제합니다. 그런 항목이 없으면 ValueError를 일으킵니다.\n",
    "\n",
    "#### => list.pop([i])\n",
    " - 리스트에서 주어진 위치에 있는 항목을 삭제하고, 그 항목을 돌려줍니다. 인덱스를 지정하지 않으면, a.pop() 은 리스트의 마지막 항목을 삭제하고 돌려줍니다. (메서드 시그니처에서 i 를 둘러싼 대괄호는 매개변수가 선택적임을 나타냅니다. 그 위치에 대괄호를 입력해야 한다는 뜻이 아닙니다. 이 표기법은 파이썬 라이브러리 레퍼런스에서 지주 등장합니다.)\n",
    "\n",
    "#### => list.clear()\n",
    " - 리스트의 모든 항목을 삭제합니다. del a[:] 와 동등합니다.\n",
    "\n",
    "#### => list.index(x[, start[, end]])\n",
    " - 리스트에 있는 항목 중 값이 x 와 같은 첫 번째 것의 0부터 시작하는 인덱스를 돌려줍니다. 그런 항목이 없으면 ValueError 를 일으킵니다.\n",
    " - 선택적인 인자 start 와 end 는 슬라이스 표기법처럼 해석되고, 검색을 리스트의 특별한 서브 시퀀스로 제한하는 데 사용됩니다. 돌려주는 인덱스는 start 인자가 아니라 전체 시퀀스의 시작을 기준으로 합니다.\n",
    "\n",
    "#### => list.count(x)\n",
    " - 리스트에서 x 가 등장하는 횟수를 돌려줍니다.\n",
    "\n",
    "#### => list.sort(*, key=None, reverse=False)\n",
    " - 리스트의 항목들을 제자리에서 정렬합니다 (인자들은 정렬 커스터마이제이션에 사용될 수 있습니다. 설명은 sorted() 를 보세요).\n",
    "\n",
    "#### => list.reverse()\n",
    " - 리스트의 요소들을 제자리에서 뒤집습니다.\n",
    "\n",
    "#### => list.copy()\n",
    " - 리스트의 얕은 사본을 돌려줍니다. a[:] 와 동등합니다."
   ]
  },
  {
   "cell_type": "markdown",
   "id": "chronic-deficit",
   "metadata": {},
   "source": [
    "### * Shallow Copy, Deep Copy"
   ]
  },
  {
   "cell_type": "code",
   "execution_count": 1,
   "id": "opened-october",
   "metadata": {},
   "outputs": [
    {
     "name": "stdout",
     "output_type": "stream",
     "text": [
      "[1, 2, 3, 4, 5]\n",
      "[100, 2, 3, 4, 5]\n"
     ]
    }
   ],
   "source": [
    "a = [1, 2, 3, 4, 5]\n",
    "b = a.copy()\n",
    "b[0] = 100\n",
    "print(a)\n",
    "print(b)"
   ]
  },
  {
   "cell_type": "code",
   "execution_count": 51,
   "id": "outdoor-exception",
   "metadata": {},
   "outputs": [
    {
     "name": "stdout",
     "output_type": "stream",
     "text": [
      "[[100, 2], [3, 4]]\n",
      "[[100, 2], [3, 4]]\n"
     ]
    }
   ],
   "source": [
    "a = [[1, 2], [3, 4]]\n",
    "b = a.copy()\n",
    "b[0][0] = 100\n",
    "print(a)\n",
    "print(b)"
   ]
  },
  {
   "cell_type": "code",
   "execution_count": 52,
   "id": "agricultural-toyota",
   "metadata": {},
   "outputs": [
    {
     "name": "stdout",
     "output_type": "stream",
     "text": [
      "[[1, 2], [3, 4]]\n",
      "[[100, 2], [3, 4]]\n"
     ]
    }
   ],
   "source": [
    "import copy\n",
    "a = [[1, 2], [3, 4]]\n",
    "b = copy.deepcopy(a)\n",
    "b[0][0] = 100\n",
    "print(a)\n",
    "print(b)"
   ]
  },
  {
   "cell_type": "markdown",
   "id": "wooden-isolation",
   "metadata": {},
   "source": [
    "### * Stack"
   ]
  },
  {
   "cell_type": "code",
   "execution_count": 3,
   "id": "absent-audio",
   "metadata": {},
   "outputs": [
    {
     "data": {
      "text/plain": [
       "[3, 4, 5, 6, 7]"
      ]
     },
     "execution_count": 3,
     "metadata": {},
     "output_type": "execute_result"
    }
   ],
   "source": [
    "stack = [3, 4, 5]\n",
    "stack.append(6)\n",
    "stack.append(7)\n",
    "stack"
   ]
  },
  {
   "cell_type": "code",
   "execution_count": 4,
   "id": "apart-placement",
   "metadata": {},
   "outputs": [
    {
     "name": "stdout",
     "output_type": "stream",
     "text": [
      "[3, 4, 5, 6] removed :  7\n"
     ]
    }
   ],
   "source": [
    "removed = stack.pop()\n",
    "print(stack, \"removed : \", removed)"
   ]
  },
  {
   "cell_type": "markdown",
   "id": "steady-phone",
   "metadata": {},
   "source": [
    "### * Queue"
   ]
  },
  {
   "cell_type": "markdown",
   "id": "colored-violin",
   "metadata": {},
   "source": [
    "List 자료구조 특성상  큐(Queue)로 구현하면 성능이 떨어지므로 `collections.deque`를 사용"
   ]
  },
  {
   "cell_type": "code",
   "execution_count": 5,
   "id": "crucial-baker",
   "metadata": {},
   "outputs": [
    {
     "data": {
      "text/plain": [
       "deque([1, 2, 3, 4, 5])"
      ]
     },
     "execution_count": 5,
     "metadata": {},
     "output_type": "execute_result"
    }
   ],
   "source": [
    "from collections import deque\n",
    "queue = deque([1, 2, 3])\n",
    "queue.append(4)\n",
    "queue.append(5)\n",
    "queue"
   ]
  },
  {
   "cell_type": "code",
   "execution_count": 6,
   "id": "finished-helmet",
   "metadata": {},
   "outputs": [
    {
     "data": {
      "text/plain": [
       "deque([3, 4, 5])"
      ]
     },
     "execution_count": 6,
     "metadata": {},
     "output_type": "execute_result"
    }
   ],
   "source": [
    "queue.popleft()\n",
    "queue.popleft()\n",
    "queue"
   ]
  },
  {
   "cell_type": "markdown",
   "id": "circular-petite",
   "metadata": {
    "tags": []
   },
   "source": [
    "### * Comprehensions"
   ]
  },
  {
   "cell_type": "code",
   "execution_count": 7,
   "id": "significant-exception",
   "metadata": {},
   "outputs": [
    {
     "data": {
      "text/plain": [
       "[0, 1, 4, 9, 16, 25, 36, 49, 64, 81]"
      ]
     },
     "execution_count": 7,
     "metadata": {},
     "output_type": "execute_result"
    }
   ],
   "source": [
    "squares = []\n",
    "for x in range(10):\n",
    "    squares.append(x**2)\n",
    "    \n",
    "squares"
   ]
  },
  {
   "cell_type": "code",
   "execution_count": 8,
   "id": "portuguese-prayer",
   "metadata": {},
   "outputs": [
    {
     "data": {
      "text/plain": [
       "[0, 1, 4, 9, 16, 25, 36, 49, 64, 81]"
      ]
     },
     "execution_count": 8,
     "metadata": {},
     "output_type": "execute_result"
    }
   ],
   "source": [
    "list(map(lambda x: x**2, range(10)))"
   ]
  },
  {
   "cell_type": "code",
   "execution_count": 9,
   "id": "fluid-designer",
   "metadata": {},
   "outputs": [
    {
     "data": {
      "text/plain": [
       "[0, 1, 4, 9, 16, 25, 36, 49, 64, 81]"
      ]
     },
     "execution_count": 9,
     "metadata": {},
     "output_type": "execute_result"
    }
   ],
   "source": [
    "[x**2 for x in range(10)]"
   ]
  },
  {
   "cell_type": "code",
   "execution_count": 10,
   "id": "democratic-protest",
   "metadata": {},
   "outputs": [
    {
     "data": {
      "text/plain": [
       "[(1, 3), (1, 4), (2, 3), (2, 1), (2, 4), (3, 1), (3, 4)]"
      ]
     },
     "execution_count": 10,
     "metadata": {},
     "output_type": "execute_result"
    }
   ],
   "source": [
    "combs = []\n",
    "for x in [1, 2, 3]:\n",
    "    for y in [3, 1, 4]:\n",
    "        if x != y:\n",
    "            combs.append((x, y))\n",
    "            \n",
    "combs"
   ]
  },
  {
   "cell_type": "code",
   "execution_count": 11,
   "id": "interesting-content",
   "metadata": {},
   "outputs": [
    {
     "data": {
      "text/plain": [
       "[(1, 3), (1, 4), (2, 3), (2, 1), (2, 4), (3, 1), (3, 4)]"
      ]
     },
     "execution_count": 11,
     "metadata": {},
     "output_type": "execute_result"
    }
   ],
   "source": [
    "[(x, y) for x in [1, 2, 3] for y in [3, 1, 4] if x != y]"
   ]
  },
  {
   "cell_type": "code",
   "execution_count": 12,
   "id": "raising-gossip",
   "metadata": {},
   "outputs": [],
   "source": [
    "vec = [-4, -2, 0, 2, 4]"
   ]
  },
  {
   "cell_type": "code",
   "execution_count": 13,
   "id": "limiting-theology",
   "metadata": {},
   "outputs": [
    {
     "data": {
      "text/plain": [
       "[-8, -4, 0, 4, 8]"
      ]
     },
     "execution_count": 13,
     "metadata": {},
     "output_type": "execute_result"
    }
   ],
   "source": [
    "[x*2 for x in vec]"
   ]
  },
  {
   "cell_type": "code",
   "execution_count": 14,
   "id": "subjective-instrumentation",
   "metadata": {},
   "outputs": [
    {
     "data": {
      "text/plain": [
       "[0, 2, 4]"
      ]
     },
     "execution_count": 14,
     "metadata": {},
     "output_type": "execute_result"
    }
   ],
   "source": [
    "[x for x in vec if x >= 0]"
   ]
  },
  {
   "cell_type": "code",
   "execution_count": 53,
   "id": "twenty-vehicle",
   "metadata": {},
   "outputs": [],
   "source": [
    "vec = [[1, 2, 3], [4, 5, 6], [7, 8, 9]]"
   ]
  },
  {
   "cell_type": "code",
   "execution_count": 55,
   "id": "french-demographic",
   "metadata": {},
   "outputs": [
    {
     "data": {
      "text/plain": [
       "[1, 2, 3, 4, 5, 6, 7, 8, 9]"
      ]
     },
     "execution_count": 55,
     "metadata": {},
     "output_type": "execute_result"
    }
   ],
   "source": [
    "# Flatting list using list comprehensions\n",
    "[num for elem in vec for num in elem]"
   ]
  },
  {
   "cell_type": "code",
   "execution_count": 17,
   "id": "serious-alabama",
   "metadata": {},
   "outputs": [
    {
     "data": {
      "text/plain": [
       "[1, 2, 3, 4, 5, 6, 7, 8, 9]"
      ]
     },
     "execution_count": 17,
     "metadata": {},
     "output_type": "execute_result"
    }
   ],
   "source": [
    "result=[]\n",
    "for elem in vec:\n",
    "    for num in elem:\n",
    "        result.append(num)\n",
    "\n",
    "result"
   ]
  },
  {
   "cell_type": "code",
   "execution_count": 56,
   "id": "proved-perception",
   "metadata": {},
   "outputs": [],
   "source": [
    "matrix = [\n",
    "    [1, 2, 3, 4],\n",
    "    [5, 6, 7, 8],\n",
    "    [9, 10, 11, 12]\n",
    "]"
   ]
  },
  {
   "cell_type": "code",
   "execution_count": 58,
   "id": "wireless-choir",
   "metadata": {},
   "outputs": [
    {
     "data": {
      "text/plain": [
       "[[1, 5, 9], [2, 6, 10], [3, 7, 11], [4, 8, 12]]"
      ]
     },
     "execution_count": 58,
     "metadata": {},
     "output_type": "execute_result"
    }
   ],
   "source": [
    "[[row[i] for row in matrix] for i in range(4)]"
   ]
  },
  {
   "cell_type": "code",
   "execution_count": 20,
   "id": "formal-issue",
   "metadata": {},
   "outputs": [
    {
     "data": {
      "text/plain": [
       "[[1, 5, 9], [2, 6, 10], [3, 7, 11], [4, 8, 12]]"
      ]
     },
     "execution_count": 20,
     "metadata": {},
     "output_type": "execute_result"
    }
   ],
   "source": [
    "transposed = []\n",
    "for i in range(4):\n",
    "    transposed.append([row[i] for row in matrix])\n",
    "    \n",
    "transposed"
   ]
  },
  {
   "cell_type": "code",
   "execution_count": 63,
   "id": "labeled-peripheral",
   "metadata": {},
   "outputs": [
    {
     "data": {
      "text/plain": [
       "[(1, 5, 9), (2, 6, 10), (3, 7, 11), (4, 8, 12)]"
      ]
     },
     "execution_count": 63,
     "metadata": {},
     "output_type": "execute_result"
    }
   ],
   "source": [
    "list(zip(*matrix))"
   ]
  },
  {
   "cell_type": "code",
   "execution_count": 132,
   "id": "extended-harbor",
   "metadata": {},
   "outputs": [
    {
     "data": {
      "text/plain": [
       "[1, 2]"
      ]
     },
     "execution_count": 132,
     "metadata": {},
     "output_type": "execute_result"
    }
   ],
   "source": [
    "a = [1, 2, 3, 4, 5, 6]\n",
    "del a[2:]\n",
    "a"
   ]
  },
  {
   "cell_type": "markdown",
   "id": "statutory-algorithm",
   "metadata": {},
   "source": [
    "### * 성능 향상을 위한 List 사용"
   ]
  },
  {
   "cell_type": "markdown",
   "id": "north-baptist",
   "metadata": {},
   "source": [
    " - 기존 for문만을 사용할 때 다음과 같은 퍼포먼스가 나오고 임시변수 i도 없어지지 않았다"
   ]
  },
  {
   "cell_type": "code",
   "execution_count": 174,
   "id": "extraordinary-offset",
   "metadata": {},
   "outputs": [
    {
     "name": "stdout",
     "output_type": "stream",
     "text": [
      "실행하는데 걸린 시간 : 0.009008407592773438\n",
      "임시변수 i 사용여부: 99999\n"
     ]
    }
   ],
   "source": [
    "import time\n",
    "datas = []\n",
    "\n",
    "start = time.time()\n",
    "\n",
    "for i in range(100000):\n",
    "    datas.append(i * 2)\n",
    "\n",
    "end = time.time()\n",
    "\n",
    "print(\"실행하는데 걸린 시간 :\", end-start)\n",
    "print(\"임시변수 i 사용여부:\",i)\n",
    "del i"
   ]
  },
  {
   "cell_type": "markdown",
   "id": "clear-yorkshire",
   "metadata": {},
   "source": [
    " - 그러나 Comprehension 방식을 사용하면 퍼포먼스를 2배 정도 끌어 올릴 수 있다"
   ]
  },
  {
   "cell_type": "code",
   "execution_count": 175,
   "id": "initial-contact",
   "metadata": {},
   "outputs": [
    {
     "name": "stdout",
     "output_type": "stream",
     "text": [
      "실행하는데 걸린 시간 : 0.004003763198852539\n"
     ]
    },
    {
     "ename": "NameError",
     "evalue": "name 'i' is not defined",
     "output_type": "error",
     "traceback": [
      "\u001b[1;31m---------------------------------------------------------------------------\u001b[0m",
      "\u001b[1;31mNameError\u001b[0m                                 Traceback (most recent call last)",
      "\u001b[1;32m<ipython-input-175-ea262ffa442d>\u001b[0m in \u001b[0;36m<module>\u001b[1;34m\u001b[0m\n\u001b[0;32m      8\u001b[0m \u001b[1;33m\u001b[0m\u001b[0m\n\u001b[0;32m      9\u001b[0m \u001b[0mprint\u001b[0m\u001b[1;33m(\u001b[0m\u001b[1;34m\"실행하는데 걸린 시간 :\"\u001b[0m\u001b[1;33m,\u001b[0m \u001b[0mend\u001b[0m\u001b[1;33m-\u001b[0m\u001b[0mstart\u001b[0m\u001b[1;33m)\u001b[0m\u001b[1;33m\u001b[0m\u001b[1;33m\u001b[0m\u001b[0m\n\u001b[1;32m---> 10\u001b[1;33m \u001b[0mprint\u001b[0m\u001b[1;33m(\u001b[0m\u001b[1;34m\"임시변수 i 사용여부:\"\u001b[0m\u001b[1;33m,\u001b[0m \u001b[0mi\u001b[0m\u001b[1;33m)\u001b[0m\u001b[1;33m\u001b[0m\u001b[1;33m\u001b[0m\u001b[0m\n\u001b[0m",
      "\u001b[1;31mNameError\u001b[0m: name 'i' is not defined"
     ]
    }
   ],
   "source": [
    "import time\n",
    "\n",
    "start = time.time()\n",
    "\n",
    "datas = [i * 2 for i in range(100000)]\n",
    "\n",
    "end = time.time()\n",
    "\n",
    "print(\"실행하는데 걸린 시간 :\", end-start)\n",
    "print(\"임시변수 i 사용여부:\", i)"
   ]
  },
  {
   "cell_type": "markdown",
   "id": "fallen-turner",
   "metadata": {},
   "source": [
    " - map을 사용하여 list를 만드는 방식은 큰 퍼포먼스 향상을 기대하기 어렵다. "
   ]
  },
  {
   "cell_type": "code",
   "execution_count": 182,
   "id": "geological-biotechnology",
   "metadata": {},
   "outputs": [
    {
     "name": "stdout",
     "output_type": "stream",
     "text": [
      "실행하는데 걸린 시간 : 0.008007287979125977\n"
     ]
    },
    {
     "ename": "NameError",
     "evalue": "name 'i' is not defined",
     "output_type": "error",
     "traceback": [
      "\u001b[1;31m---------------------------------------------------------------------------\u001b[0m",
      "\u001b[1;31mNameError\u001b[0m                                 Traceback (most recent call last)",
      "\u001b[1;32m<ipython-input-182-60af57b5b594>\u001b[0m in \u001b[0;36m<module>\u001b[1;34m\u001b[0m\n\u001b[0;32m      8\u001b[0m \u001b[1;33m\u001b[0m\u001b[0m\n\u001b[0;32m      9\u001b[0m \u001b[0mprint\u001b[0m\u001b[1;33m(\u001b[0m\u001b[1;34m\"실행하는데 걸린 시간 :\"\u001b[0m\u001b[1;33m,\u001b[0m \u001b[0mend\u001b[0m\u001b[1;33m-\u001b[0m\u001b[0mstart\u001b[0m\u001b[1;33m)\u001b[0m\u001b[1;33m\u001b[0m\u001b[1;33m\u001b[0m\u001b[0m\n\u001b[1;32m---> 10\u001b[1;33m \u001b[0mprint\u001b[0m\u001b[1;33m(\u001b[0m\u001b[1;34m\"임시변수 i 사용여부:\"\u001b[0m\u001b[1;33m,\u001b[0m \u001b[0mi\u001b[0m\u001b[1;33m)\u001b[0m\u001b[1;33m\u001b[0m\u001b[1;33m\u001b[0m\u001b[0m\n\u001b[0m",
      "\u001b[1;31mNameError\u001b[0m: name 'i' is not defined"
     ]
    }
   ],
   "source": [
    "import time\n",
    "\n",
    "start = time.time()\n",
    "\n",
    "datas = list(map(lambda i : i * 2, list(range(100000))))\n",
    "\n",
    "end = time.time()\n",
    "\n",
    "print(\"실행하는데 걸린 시간 :\", end-start)\n",
    "print(\"임시변수 i 사용여부:\", i)"
   ]
  },
  {
   "cell_type": "markdown",
   "id": "realistic-hunger",
   "metadata": {},
   "source": [
    " - 그러나 map함수 자체는 내부적으로 메모리와 연산을 효율적으로 적용하는 함수다."
   ]
  },
  {
   "cell_type": "code",
   "execution_count": 184,
   "id": "balanced-reform",
   "metadata": {},
   "outputs": [
    {
     "name": "stdout",
     "output_type": "stream",
     "text": [
      "실행하는데 걸린 시간 : 0.001001119613647461\n"
     ]
    },
    {
     "ename": "NameError",
     "evalue": "name 'i' is not defined",
     "output_type": "error",
     "traceback": [
      "\u001b[1;31m---------------------------------------------------------------------------\u001b[0m",
      "\u001b[1;31mNameError\u001b[0m                                 Traceback (most recent call last)",
      "\u001b[1;32m<ipython-input-184-88aab0c0e149>\u001b[0m in \u001b[0;36m<module>\u001b[1;34m\u001b[0m\n\u001b[0;32m      8\u001b[0m \u001b[1;33m\u001b[0m\u001b[0m\n\u001b[0;32m      9\u001b[0m \u001b[0mprint\u001b[0m\u001b[1;33m(\u001b[0m\u001b[1;34m\"실행하는데 걸린 시간 :\"\u001b[0m\u001b[1;33m,\u001b[0m \u001b[0mend\u001b[0m\u001b[1;33m-\u001b[0m\u001b[0mstart\u001b[0m\u001b[1;33m)\u001b[0m\u001b[1;33m\u001b[0m\u001b[1;33m\u001b[0m\u001b[0m\n\u001b[1;32m---> 10\u001b[1;33m \u001b[0mprint\u001b[0m\u001b[1;33m(\u001b[0m\u001b[1;34m\"임시변수 i 사용여부:\"\u001b[0m\u001b[1;33m,\u001b[0m \u001b[0mi\u001b[0m\u001b[1;33m)\u001b[0m\u001b[1;33m\u001b[0m\u001b[1;33m\u001b[0m\u001b[0m\n\u001b[0m",
      "\u001b[1;31mNameError\u001b[0m: name 'i' is not defined"
     ]
    }
   ],
   "source": [
    "import time\n",
    "\n",
    "start = time.time()\n",
    "\n",
    "mapped_datas = map(lambda i : i * 2, list(range(100000)))\n",
    "\n",
    "end = time.time()\n",
    "\n",
    "print(\"실행하는데 걸린 시간 :\", end-start)\n",
    "print(\"임시변수 i 사용여부:\", i)"
   ]
  },
  {
   "cell_type": "markdown",
   "id": "likely-gather",
   "metadata": {},
   "source": [
    "## - Tuple"
   ]
  },
  {
   "cell_type": "code",
   "execution_count": 26,
   "id": "thousand-enterprise",
   "metadata": {},
   "outputs": [
    {
     "data": {
      "text/plain": [
       "(1234, 'hello', 3.14)"
      ]
     },
     "execution_count": 26,
     "metadata": {},
     "output_type": "execute_result"
    }
   ],
   "source": [
    "t = 1234, \"hello\", 3.14\n",
    "t"
   ]
  },
  {
   "cell_type": "code",
   "execution_count": 26,
   "id": "female-trunk",
   "metadata": {},
   "outputs": [
    {
     "name": "stdout",
     "output_type": "stream",
     "text": [
      "0\n",
      "1\n"
     ]
    }
   ],
   "source": [
    "empty = ()\n",
    "singleton = 'hello', # 튜플 요소(Element)가 하나일 때는 맨 끝에 ,를 붙여줘야 한다.\n",
    "print(len(empty))\n",
    "print(len(singleton))"
   ]
  },
  {
   "cell_type": "code",
   "execution_count": 28,
   "id": "virgin-projector",
   "metadata": {},
   "outputs": [],
   "source": [
    "x, y, z = t"
   ]
  },
  {
   "cell_type": "code",
   "execution_count": 29,
   "id": "romantic-trail",
   "metadata": {},
   "outputs": [
    {
     "name": "stdout",
     "output_type": "stream",
     "text": [
      "1234\n",
      "hello\n",
      "3.14\n"
     ]
    }
   ],
   "source": [
    "print(x)\n",
    "print(y)\n",
    "print(z)"
   ]
  },
  {
   "cell_type": "markdown",
   "id": "divided-swaziland",
   "metadata": {},
   "source": [
    "## - Set"
   ]
  },
  {
   "cell_type": "code",
   "execution_count": 30,
   "id": "removable-poultry",
   "metadata": {},
   "outputs": [
    {
     "data": {
      "text/plain": [
       "{'a', 'b', 'c', 'd'}"
      ]
     },
     "execution_count": 30,
     "metadata": {},
     "output_type": "execute_result"
    }
   ],
   "source": [
    "basket = {'a', 'b', 'a', 'c', 'd', 'b'}\n",
    "basket"
   ]
  },
  {
   "cell_type": "code",
   "execution_count": 31,
   "id": "cooked-woman",
   "metadata": {},
   "outputs": [
    {
     "data": {
      "text/plain": [
       "True"
      ]
     },
     "execution_count": 31,
     "metadata": {},
     "output_type": "execute_result"
    }
   ],
   "source": [
    "'a' in basket"
   ]
  },
  {
   "cell_type": "code",
   "execution_count": 32,
   "id": "binary-leone",
   "metadata": {},
   "outputs": [
    {
     "name": "stdout",
     "output_type": "stream",
     "text": [
      "{'r', 'b', 'd', 'c', 'a'}\n",
      "{'m', 'l', 'c', 'z', 'a'}\n"
     ]
    }
   ],
   "source": [
    "a = set(\"abracadabra\")\n",
    "b = set(\"alacazam\")\n",
    "print(a)\n",
    "print(b)"
   ]
  },
  {
   "cell_type": "code",
   "execution_count": 33,
   "id": "statewide-tuner",
   "metadata": {},
   "outputs": [
    {
     "data": {
      "text/plain": [
       "{'b', 'd', 'r'}"
      ]
     },
     "execution_count": 33,
     "metadata": {},
     "output_type": "execute_result"
    }
   ],
   "source": [
    "a - b"
   ]
  },
  {
   "cell_type": "code",
   "execution_count": 34,
   "id": "voluntary-straight",
   "metadata": {},
   "outputs": [
    {
     "data": {
      "text/plain": [
       "{'a', 'b', 'c', 'd', 'l', 'm', 'r', 'z'}"
      ]
     },
     "execution_count": 34,
     "metadata": {},
     "output_type": "execute_result"
    }
   ],
   "source": [
    "a | b"
   ]
  },
  {
   "cell_type": "code",
   "execution_count": 35,
   "id": "vulnerable-encoding",
   "metadata": {},
   "outputs": [
    {
     "data": {
      "text/plain": [
       "{'a', 'c'}"
      ]
     },
     "execution_count": 35,
     "metadata": {},
     "output_type": "execute_result"
    }
   ],
   "source": [
    "a & b"
   ]
  },
  {
   "cell_type": "code",
   "execution_count": 36,
   "id": "global-tuning",
   "metadata": {},
   "outputs": [
    {
     "data": {
      "text/plain": [
       "{'b', 'd', 'l', 'm', 'r', 'z'}"
      ]
     },
     "execution_count": 36,
     "metadata": {},
     "output_type": "execute_result"
    }
   ],
   "source": [
    "a ^ b #letters in a or b but not both"
   ]
  },
  {
   "cell_type": "code",
   "execution_count": 37,
   "id": "worst-personality",
   "metadata": {},
   "outputs": [
    {
     "data": {
      "text/plain": [
       "{'d', 'r'}"
      ]
     },
     "execution_count": 37,
     "metadata": {},
     "output_type": "execute_result"
    }
   ],
   "source": [
    "{x for x in 'abracadabra' if x not in 'abc'}"
   ]
  },
  {
   "cell_type": "markdown",
   "id": "approximate-gates",
   "metadata": {},
   "source": [
    "## - Dictionary"
   ]
  },
  {
   "cell_type": "code",
   "execution_count": 38,
   "id": "egyptian-million",
   "metadata": {},
   "outputs": [],
   "source": [
    "tel = {'jack' : 4098, 'sape' : 4139}"
   ]
  },
  {
   "cell_type": "code",
   "execution_count": 39,
   "id": "aging-newsletter",
   "metadata": {},
   "outputs": [
    {
     "data": {
      "text/plain": [
       "4098"
      ]
     },
     "execution_count": 39,
     "metadata": {},
     "output_type": "execute_result"
    }
   ],
   "source": [
    "tel['jack']"
   ]
  },
  {
   "cell_type": "code",
   "execution_count": 40,
   "id": "forty-ranking",
   "metadata": {},
   "outputs": [],
   "source": [
    "del tel['sape']"
   ]
  },
  {
   "cell_type": "code",
   "execution_count": 41,
   "id": "representative-christopher",
   "metadata": {},
   "outputs": [],
   "source": [
    "tel['irv'] = 4127"
   ]
  },
  {
   "cell_type": "code",
   "execution_count": 42,
   "id": "neural-alert",
   "metadata": {},
   "outputs": [
    {
     "data": {
      "text/plain": [
       "{'jack': 4098, 'irv': 4127}"
      ]
     },
     "execution_count": 42,
     "metadata": {},
     "output_type": "execute_result"
    }
   ],
   "source": [
    "tel"
   ]
  },
  {
   "cell_type": "code",
   "execution_count": 43,
   "id": "aggregate-stranger",
   "metadata": {},
   "outputs": [
    {
     "data": {
      "text/plain": [
       "['jack', 'irv']"
      ]
     },
     "execution_count": 43,
     "metadata": {},
     "output_type": "execute_result"
    }
   ],
   "source": [
    "list(tel)"
   ]
  },
  {
   "cell_type": "code",
   "execution_count": 44,
   "id": "rough-mongolia",
   "metadata": {},
   "outputs": [
    {
     "data": {
      "text/plain": [
       "{'sape': 4139, 'guido': 4127, 'jack': 4098}"
      ]
     },
     "execution_count": 44,
     "metadata": {},
     "output_type": "execute_result"
    }
   ],
   "source": [
    "dict([('sape', 4139), ('guido', 4127), ('jack', 4098)])"
   ]
  },
  {
   "cell_type": "code",
   "execution_count": 45,
   "id": "vocal-reading",
   "metadata": {},
   "outputs": [
    {
     "data": {
      "text/plain": [
       "{2: 4, 4: 16, 6: 36}"
      ]
     },
     "execution_count": 45,
     "metadata": {},
     "output_type": "execute_result"
    }
   ],
   "source": [
    "{x: x**2 for x in (2, 4, 6)}"
   ]
  },
  {
   "cell_type": "code",
   "execution_count": 46,
   "id": "studied-regression",
   "metadata": {},
   "outputs": [
    {
     "data": {
      "text/plain": [
       "{'sape': 4139, 'guido': 4127, 'jack': 4098}"
      ]
     },
     "execution_count": 46,
     "metadata": {},
     "output_type": "execute_result"
    }
   ],
   "source": [
    "dict(sape=4139, guido=4127, jack=4098)"
   ]
  },
  {
   "cell_type": "markdown",
   "id": "sized-cincinnati",
   "metadata": {},
   "source": [
    "## - Looping Skills"
   ]
  },
  {
   "cell_type": "code",
   "execution_count": 66,
   "id": "endless-measurement",
   "metadata": {},
   "outputs": [
    {
     "data": {
      "text/plain": [
       "[('name', 'lancelot'), ('quest', 'the holy grail'), ('favorite color', 'blue')]"
      ]
     },
     "execution_count": 66,
     "metadata": {},
     "output_type": "execute_result"
    }
   ],
   "source": [
    "questions = ['name', 'quest', 'favorite color']\n",
    "answers = ['lancelot', 'the holy grail', 'blue']\n",
    "\n",
    "result = []\n",
    "\n",
    "for i in range(3):\n",
    "    result.append((questions[i], answers[i]))\n",
    "\n",
    "result"
   ]
  },
  {
   "cell_type": "code",
   "execution_count": 67,
   "id": "enclosed-playing",
   "metadata": {},
   "outputs": [
    {
     "name": "stdout",
     "output_type": "stream",
     "text": [
      "What is your name? It is lancelot.\n",
      "What is your quest? It is the holy grail.\n",
      "What is your favorite color? It is blue.\n"
     ]
    }
   ],
   "source": [
    "for q, a in [(questions[i], answers[i]) for i in range(3)]:\n",
    "    print('What is your {0}? It is {1}.'.format(q, a))"
   ]
  },
  {
   "cell_type": "code",
   "execution_count": 68,
   "id": "premium-darwin",
   "metadata": {},
   "outputs": [
    {
     "name": "stdout",
     "output_type": "stream",
     "text": [
      "What is your name? It is lancelot.\n",
      "What is your quest? It is the holy grail.\n",
      "What is your favorite color? It is blue.\n"
     ]
    }
   ],
   "source": [
    "for q, a in zip(questions, answers):\n",
    "    print('What is your {0}? It is {1}.'.format(q, a))"
   ]
  },
  {
   "cell_type": "code",
   "execution_count": 69,
   "id": "sunset-nature",
   "metadata": {},
   "outputs": [],
   "source": [
    "mem = dict(\n",
    "    name=\"John\",\n",
    "    age=20,\n",
    "    phone=\"010-1234-5678\"\n",
    ")"
   ]
  },
  {
   "cell_type": "code",
   "execution_count": 70,
   "id": "material-mailing",
   "metadata": {},
   "outputs": [
    {
     "name": "stdout",
     "output_type": "stream",
     "text": [
      "name John\n",
      "age 20\n",
      "phone 010-1234-5678\n"
     ]
    }
   ],
   "source": [
    "for k, v in mem.items():\n",
    "    print(k, v)"
   ]
  },
  {
   "cell_type": "code",
   "execution_count": 71,
   "id": "filled-pound",
   "metadata": {},
   "outputs": [
    {
     "name": "stdout",
     "output_type": "stream",
     "text": [
      "0 name\n",
      "1 age\n",
      "2 phone\n"
     ]
    }
   ],
   "source": [
    "for i, v in enumerate(mem):\n",
    "    print(i, v)"
   ]
  },
  {
   "cell_type": "code",
   "execution_count": 72,
   "id": "solved-pierre",
   "metadata": {},
   "outputs": [
    {
     "data": {
      "text/plain": [
       "[56.2, 51.7, 55.3, 52.5, 47.8]"
      ]
     },
     "execution_count": 72,
     "metadata": {},
     "output_type": "execute_result"
    }
   ],
   "source": [
    "import math\n",
    "raw_data = [56.2, float('NaN'), 51.7, 55.3, 52.5, float('NaN'), 47.8]\n",
    "filtered_data = [value for value in raw_data if not math.isnan(value)]\n",
    "filtered_data"
   ]
  },
  {
   "cell_type": "markdown",
   "id": "coastal-wagon",
   "metadata": {},
   "source": [
    "### * 정렬"
   ]
  },
  {
   "cell_type": "code",
   "execution_count": 73,
   "id": "median-dinner",
   "metadata": {},
   "outputs": [
    {
     "name": "stdout",
     "output_type": "stream",
     "text": [
      "apple\n",
      "apple\n",
      "banana\n",
      "orange\n",
      "orange\n",
      "pear\n"
     ]
    }
   ],
   "source": [
    "basket = ['apple', 'orange', 'apple', 'pear', 'orange', 'banana']\n",
    "\n",
    "for i in sorted(basket):\n",
    "    print(i)"
   ]
  },
  {
   "cell_type": "code",
   "execution_count": 74,
   "id": "polish-order",
   "metadata": {},
   "outputs": [
    {
     "name": "stdout",
     "output_type": "stream",
     "text": [
      "apple\n",
      "banana\n",
      "orange\n",
      "pear\n"
     ]
    }
   ],
   "source": [
    "for i in sorted(set(basket)):\n",
    "    print(i)"
   ]
  },
  {
   "cell_type": "code",
   "execution_count": 75,
   "id": "centered-multimedia",
   "metadata": {},
   "outputs": [
    {
     "name": "stdout",
     "output_type": "stream",
     "text": [
      "9\n",
      "7\n",
      "5\n",
      "3\n",
      "1\n"
     ]
    }
   ],
   "source": [
    "for i in reversed(range(1, 10, 2)):\n",
    "    print(i)"
   ]
  },
  {
   "cell_type": "markdown",
   "id": "exciting-causing",
   "metadata": {},
   "source": [
    "<br>\n",
    "<br>\n",
    "<br>\n",
    "<br>\n",
    "<br>\n",
    "<br>\n",
    "<hr>\n",
    "<br>\n",
    "<br>\n",
    "<br>\n",
    "<br>\n",
    "<br>\n",
    "<br>"
   ]
  },
  {
   "cell_type": "markdown",
   "id": "assured-blink",
   "metadata": {},
   "source": [
    "# 08. 함수활용"
   ]
  },
  {
   "cell_type": "markdown",
   "id": "spectacular-providence",
   "metadata": {},
   "source": [
    "## - Scope and namespaces\n",
    " - LEGB(Local, Enclosing, Global, Built-in)"
   ]
  },
  {
   "cell_type": "code",
   "execution_count": 37,
   "id": "liable-leather",
   "metadata": {},
   "outputs": [
    {
     "name": "stdout",
     "output_type": "stream",
     "text": [
      "inner x\n",
      "outer x\n",
      "global x\n"
     ]
    }
   ],
   "source": [
    "x = 'global x'\n",
    "\n",
    "def outer():\n",
    "    x = 'outer x'\n",
    "    \n",
    "    def inner():\n",
    "        x = 'inner x'\n",
    "        print(x)\n",
    "    \n",
    "    inner()\n",
    "    print(x)\n",
    "    \n",
    "outer()\n",
    "print(x)"
   ]
  },
  {
   "cell_type": "code",
   "execution_count": 2,
   "id": "ethical-intellectual",
   "metadata": {},
   "outputs": [
    {
     "name": "stdout",
     "output_type": "stream",
     "text": [
      "After local assignment: test spam\n",
      "After nonlocal assignment: nonlocal spam\n",
      "After global assignment: nonlocal spam\n",
      "In global scope: global spam\n"
     ]
    }
   ],
   "source": [
    "def scope_test():\n",
    "\n",
    "    spam = \"test spam\"\n",
    "    \n",
    "    def do_local():\n",
    "        spam = \"local spam\"\n",
    "\n",
    "    def do_nonlocal():\n",
    "        nonlocal spam\n",
    "        spam = \"nonlocal spam\"\n",
    "\n",
    "    def do_global():\n",
    "        global spam\n",
    "        spam = \"global spam\"\n",
    "\n",
    "    do_local()\n",
    "    print(\"After local assignment:\", spam)\n",
    "    do_nonlocal()\n",
    "    print(\"After nonlocal assignment:\", spam)\n",
    "    do_global()\n",
    "    print(\"After global assignment:\", spam)\n",
    "\n",
    "scope_test()\n",
    "print(\"In global scope:\", spam)"
   ]
  },
  {
   "cell_type": "code",
   "execution_count": 7,
   "id": "entitled-broadcast",
   "metadata": {},
   "outputs": [
    {
     "ename": "SyntaxError",
     "evalue": "no binding for nonlocal 'global_var' found (<ipython-input-7-2d0ce27f740b>, line 5)",
     "output_type": "error",
     "traceback": [
      "\u001b[1;36m  File \u001b[1;32m\"<ipython-input-7-2d0ce27f740b>\"\u001b[1;36m, line \u001b[1;32m5\u001b[0m\n\u001b[1;33m    nonlocal global_var\u001b[0m\n\u001b[1;37m    ^\u001b[0m\n\u001b[1;31mSyntaxError\u001b[0m\u001b[1;31m:\u001b[0m no binding for nonlocal 'global_var' found\n"
     ]
    }
   ],
   "source": [
    "global_var = \"test var\"\n",
    "\n",
    "def scope_test():\n",
    "    local_var = \"hello var\"\n",
    "    nonlocal global_var\n",
    "    global_var = local_var\n",
    "    \n",
    "scope_test()\n",
    "print(global_var)"
   ]
  },
  {
   "cell_type": "code",
   "execution_count": 92,
   "id": "legitimate-livestock",
   "metadata": {},
   "outputs": [
    {
     "name": "stdout",
     "output_type": "stream",
     "text": [
      "5\n"
     ]
    }
   ],
   "source": [
    "i = 5\n",
    "\n",
    "def f(arg=i):\n",
    "    print(arg)\n",
    "    \n",
    "i = 6\n",
    "f()"
   ]
  },
  {
   "cell_type": "markdown",
   "id": "appropriate-savannah",
   "metadata": {},
   "source": [
    "## - Default Value"
   ]
  },
  {
   "cell_type": "code",
   "execution_count": 31,
   "id": "hawaiian-empty",
   "metadata": {},
   "outputs": [],
   "source": [
    "def ask_ok(prompt, retries=2, reminder=\"Please try again!\"):\n",
    "    while True:\n",
    "        ok = input(prompt)\n",
    "        if ok in ('y','ye','yes'):\n",
    "            return True\n",
    "        if ok in ('n','no','nop','nope'):\n",
    "            return False\n",
    "        retries = retries - 1\n",
    "        if retries < 0:\n",
    "            raise ValueError('invalid user response')\n",
    "        print(reminder)"
   ]
  },
  {
   "cell_type": "code",
   "execution_count": 33,
   "id": "pleased-diesel",
   "metadata": {},
   "outputs": [
    {
     "name": "stdin",
     "output_type": "stream",
     "text": [
      "are you sure? \n"
     ]
    },
    {
     "name": "stdout",
     "output_type": "stream",
     "text": [
      "다시 시도해주세요\n"
     ]
    },
    {
     "name": "stdin",
     "output_type": "stream",
     "text": [
      "are you sure? \n"
     ]
    },
    {
     "name": "stdout",
     "output_type": "stream",
     "text": [
      "다시 시도해주세요\n"
     ]
    },
    {
     "name": "stdin",
     "output_type": "stream",
     "text": [
      "are you sure? \n"
     ]
    },
    {
     "ename": "ValueError",
     "evalue": "invalid user response",
     "output_type": "error",
     "traceback": [
      "\u001b[1;31m---------------------------------------------------------------------------\u001b[0m",
      "\u001b[1;31mValueError\u001b[0m                                Traceback (most recent call last)",
      "\u001b[1;32m<ipython-input-33-2fe995d85976>\u001b[0m in \u001b[0;36m<module>\u001b[1;34m\u001b[0m\n\u001b[1;32m----> 1\u001b[1;33m \u001b[0mask_ok\u001b[0m\u001b[1;33m(\u001b[0m\u001b[1;34m'are you sure?'\u001b[0m\u001b[1;33m,\u001b[0m \u001b[0mreminder\u001b[0m\u001b[1;33m=\u001b[0m\u001b[1;34m\"다시 시도해주세요\"\u001b[0m\u001b[1;33m)\u001b[0m\u001b[1;33m\u001b[0m\u001b[1;33m\u001b[0m\u001b[0m\n\u001b[0m\u001b[0;32m      2\u001b[0m \u001b[0mprint\u001b[0m\u001b[1;33m(\u001b[0m\u001b[1;34m\"---end---\"\u001b[0m\u001b[1;33m)\u001b[0m \u001b[1;31m# raise로부터 Exception이 발생함으로 no print\u001b[0m\u001b[1;33m\u001b[0m\u001b[1;33m\u001b[0m\u001b[0m\n",
      "\u001b[1;32m<ipython-input-31-4be08c523450>\u001b[0m in \u001b[0;36mask_ok\u001b[1;34m(prompt, retries, reminder)\u001b[0m\n\u001b[0;32m      8\u001b[0m         \u001b[0mretries\u001b[0m \u001b[1;33m=\u001b[0m \u001b[0mretries\u001b[0m \u001b[1;33m-\u001b[0m \u001b[1;36m1\u001b[0m\u001b[1;33m\u001b[0m\u001b[1;33m\u001b[0m\u001b[0m\n\u001b[0;32m      9\u001b[0m         \u001b[1;32mif\u001b[0m \u001b[0mretries\u001b[0m \u001b[1;33m<\u001b[0m \u001b[1;36m0\u001b[0m\u001b[1;33m:\u001b[0m\u001b[1;33m\u001b[0m\u001b[1;33m\u001b[0m\u001b[0m\n\u001b[1;32m---> 10\u001b[1;33m             \u001b[1;32mraise\u001b[0m \u001b[0mValueError\u001b[0m\u001b[1;33m(\u001b[0m\u001b[1;34m'invalid user response'\u001b[0m\u001b[1;33m)\u001b[0m\u001b[1;33m\u001b[0m\u001b[1;33m\u001b[0m\u001b[0m\n\u001b[0m\u001b[0;32m     11\u001b[0m         \u001b[0mprint\u001b[0m\u001b[1;33m(\u001b[0m\u001b[0mreminder\u001b[0m\u001b[1;33m)\u001b[0m\u001b[1;33m\u001b[0m\u001b[1;33m\u001b[0m\u001b[0m\n",
      "\u001b[1;31mValueError\u001b[0m: invalid user response"
     ]
    }
   ],
   "source": [
    "ask_ok('are you sure?', reminder=\"다시 시도해주세요\")\n",
    "print(\"---end---\") # raise로부터 Exception이 발생함으로 no print"
   ]
  },
  {
   "cell_type": "markdown",
   "id": "fundamental-installation",
   "metadata": {},
   "source": [
    "### * 기본값 활용시 주의해야할 점"
   ]
  },
  {
   "cell_type": "code",
   "execution_count": 102,
   "id": "multiple-texas",
   "metadata": {},
   "outputs": [
    {
     "name": "stdout",
     "output_type": "stream",
     "text": [
      "[1]\n",
      "[1, 2]\n",
      "[1, 2, 3]\n"
     ]
    }
   ],
   "source": [
    "def f(a, L=[]):\n",
    "    L.append(a)\n",
    "    return L\n",
    "\n",
    "print(f(1))\n",
    "print(f(2))\n",
    "print(f(3))"
   ]
  },
  {
   "cell_type": "code",
   "execution_count": 103,
   "id": "occasional-evidence",
   "metadata": {},
   "outputs": [
    {
     "name": "stdout",
     "output_type": "stream",
     "text": [
      "[]\n",
      "-----\n",
      "[1, 2, 3, 4]\n"
     ]
    }
   ],
   "source": [
    "def another(L=[]):\n",
    "    return L\n",
    "\n",
    "print(another())\n",
    "print(\"-----\")\n",
    "print(f(4))"
   ]
  },
  {
   "cell_type": "markdown",
   "id": "secure-monaco",
   "metadata": {},
   "source": [
    " - 연속된 호출 간에 기본값이 공유되지 않기를 원한다면 아래와 같이"
   ]
  },
  {
   "cell_type": "code",
   "execution_count": 107,
   "id": "unnecessary-terror",
   "metadata": {},
   "outputs": [
    {
     "name": "stdout",
     "output_type": "stream",
     "text": [
      "[1]\n",
      "[2]\n",
      "[3]\n"
     ]
    }
   ],
   "source": [
    "def f(a, L=None):\n",
    "    if L is None:\n",
    "        L = []\n",
    "    L.append(a)\n",
    "    return L\n",
    "\n",
    "print(f(1))\n",
    "print(f(2))\n",
    "print(f(3))"
   ]
  },
  {
   "cell_type": "markdown",
   "id": "marine-rochester",
   "metadata": {},
   "source": [
    "### * `*arg`와 `**arg`"
   ]
  },
  {
   "cell_type": "markdown",
   "id": "square-reach",
   "metadata": {},
   "source": [
    " - `*arg`는 매개변수를 제한 없이 여러개를 받을 수 있음 : 튜플\n",
    " - `**arg`는 딕셔너리를 매개변수로 받음\n",
    " - `*arg`는 `**arg` 앞으로 와야 한다"
   ]
  },
  {
   "cell_type": "code",
   "execution_count": 37,
   "id": "solid-enemy",
   "metadata": {},
   "outputs": [],
   "source": [
    "def showArgs(a, *b, **c):\n",
    "    print(a)\n",
    "    print(\"-\"*10)\n",
    "    print(b)\n",
    "    print(\"-\"*10)\n",
    "    print(c)"
   ]
  },
  {
   "cell_type": "code",
   "execution_count": 38,
   "id": "lightweight-volleyball",
   "metadata": {},
   "outputs": [],
   "source": [
    "tupVar = (1,10,100,1000)\n",
    "\n",
    "dicVar = {\n",
    "    'key A' : 1515,\n",
    "    'key B' : 5832\n",
    "}"
   ]
  },
  {
   "cell_type": "code",
   "execution_count": 39,
   "id": "natural-aside",
   "metadata": {},
   "outputs": [
    {
     "name": "stdout",
     "output_type": "stream",
     "text": [
      "안녕하세요\n",
      "----------\n",
      "(10, 100, 1000)\n",
      "----------\n",
      "{'A': 'mic', 'B': '394'}\n"
     ]
    }
   ],
   "source": [
    "showArgs(\"안녕하세요\" ,10,100,1000, A=\"mic\",B=\"394\")"
   ]
  },
  {
   "cell_type": "code",
   "execution_count": 40,
   "id": "sized-price",
   "metadata": {},
   "outputs": [
    {
     "name": "stdout",
     "output_type": "stream",
     "text": [
      "이건 좀 다른 이야기\n",
      "----------\n",
      "((1, 10, 100, 1000), {'key A': 1515, 'key B': 5832})\n",
      "----------\n",
      "{}\n"
     ]
    }
   ],
   "source": [
    "showArgs(\"이건 좀 다른 이야기\", tupVar, dicVar)"
   ]
  },
  {
   "cell_type": "code",
   "execution_count": 41,
   "id": "danish-blues",
   "metadata": {},
   "outputs": [
    {
     "name": "stdout",
     "output_type": "stream",
     "text": [
      "이렇게 넘겨주면 된다\n",
      "----------\n",
      "(1, 10, 100, 1000)\n",
      "----------\n",
      "{'key A': 1515, 'key B': 5832}\n"
     ]
    }
   ],
   "source": [
    "showArgs(\"이렇게 넘겨주면 된다\", *tupVar, **dicVar)"
   ]
  },
  {
   "cell_type": "markdown",
   "id": "chubby-oklahoma",
   "metadata": {},
   "source": [
    "### * 특수 매개 변수"
   ]
  },
  {
   "cell_type": "code",
   "execution_count": 160,
   "id": "horizontal-radio",
   "metadata": {},
   "outputs": [],
   "source": [
    "def standard_arg(arg):\n",
    "    print(\"standard arg : \", arg)\n",
    "\n",
    "def pos_only_arg(arg, /):\n",
    "    print(\"pos only arg : \", arg)\n",
    "    \n",
    "def kwd_only_arg(*, arg):\n",
    "    print(\"kwd only arg: \", arg)\n",
    "\n",
    "def combined_example(pos_only, /, standard, *, kwd_only):\n",
    "    print(pos_only, standard, kwd_only)"
   ]
  },
  {
   "cell_type": "code",
   "execution_count": 161,
   "id": "general-conditioning",
   "metadata": {},
   "outputs": [
    {
     "name": "stdout",
     "output_type": "stream",
     "text": [
      "standard arg :  10\n",
      "standard arg :  20\n"
     ]
    }
   ],
   "source": [
    "standard_arg(10)\n",
    "standard_arg(arg=20)"
   ]
  },
  {
   "cell_type": "code",
   "execution_count": 163,
   "id": "positive-tribute",
   "metadata": {},
   "outputs": [
    {
     "name": "stdout",
     "output_type": "stream",
     "text": [
      "pos only arg :  30\n"
     ]
    },
    {
     "ename": "TypeError",
     "evalue": "pos_only_arg() got some positional-only arguments passed as keyword arguments: 'arg'",
     "output_type": "error",
     "traceback": [
      "\u001b[1;31m---------------------------------------------------------------------------\u001b[0m",
      "\u001b[1;31mTypeError\u001b[0m                                 Traceback (most recent call last)",
      "\u001b[1;32m<ipython-input-163-59d6613af994>\u001b[0m in \u001b[0;36m<module>\u001b[1;34m\u001b[0m\n\u001b[0;32m      1\u001b[0m \u001b[0mpos_only_arg\u001b[0m\u001b[1;33m(\u001b[0m\u001b[1;36m30\u001b[0m\u001b[1;33m)\u001b[0m\u001b[1;33m\u001b[0m\u001b[1;33m\u001b[0m\u001b[0m\n\u001b[1;32m----> 2\u001b[1;33m \u001b[0mpos_only_arg\u001b[0m\u001b[1;33m(\u001b[0m\u001b[0marg\u001b[0m\u001b[1;33m=\u001b[0m\u001b[1;36m40\u001b[0m\u001b[1;33m)\u001b[0m\u001b[1;33m\u001b[0m\u001b[1;33m\u001b[0m\u001b[0m\n\u001b[0m",
      "\u001b[1;31mTypeError\u001b[0m: pos_only_arg() got some positional-only arguments passed as keyword arguments: 'arg'"
     ]
    }
   ],
   "source": [
    "pos_only_arg(30)\n",
    "pos_only_arg(arg=40)"
   ]
  },
  {
   "cell_type": "code",
   "execution_count": 171,
   "id": "corrected-narrow",
   "metadata": {},
   "outputs": [
    {
     "name": "stdout",
     "output_type": "stream",
     "text": [
      "kwd only arg:  50\n"
     ]
    },
    {
     "ename": "TypeError",
     "evalue": "kwd_only_arg() takes 0 positional arguments but 1 was given",
     "output_type": "error",
     "traceback": [
      "\u001b[1;31m---------------------------------------------------------------------------\u001b[0m",
      "\u001b[1;31mTypeError\u001b[0m                                 Traceback (most recent call last)",
      "\u001b[1;32m<ipython-input-171-94039e5aaaf2>\u001b[0m in \u001b[0;36m<module>\u001b[1;34m\u001b[0m\n\u001b[0;32m      1\u001b[0m \u001b[0mkwd_only_arg\u001b[0m\u001b[1;33m(\u001b[0m\u001b[0marg\u001b[0m\u001b[1;33m=\u001b[0m\u001b[1;36m50\u001b[0m\u001b[1;33m)\u001b[0m\u001b[1;33m\u001b[0m\u001b[1;33m\u001b[0m\u001b[0m\n\u001b[1;32m----> 2\u001b[1;33m \u001b[0mkwd_only_arg\u001b[0m\u001b[1;33m(\u001b[0m\u001b[1;36m60\u001b[0m\u001b[1;33m)\u001b[0m\u001b[1;33m\u001b[0m\u001b[1;33m\u001b[0m\u001b[0m\n\u001b[0m",
      "\u001b[1;31mTypeError\u001b[0m: kwd_only_arg() takes 0 positional arguments but 1 was given"
     ]
    }
   ],
   "source": [
    "kwd_only_arg(arg=50)\n",
    "kwd_only_arg(60)"
   ]
  },
  {
   "cell_type": "code",
   "execution_count": 172,
   "id": "outside-clone",
   "metadata": {},
   "outputs": [
    {
     "name": "stdout",
     "output_type": "stream",
     "text": [
      "1 2 3\n"
     ]
    }
   ],
   "source": [
    "combined_example(1, 2, kwd_only=3)"
   ]
  },
  {
   "cell_type": "code",
   "execution_count": 176,
   "id": "central-retrieval",
   "metadata": {},
   "outputs": [
    {
     "name": "stdout",
     "output_type": "stream",
     "text": [
      "True\n",
      "False\n"
     ]
    }
   ],
   "source": [
    "member={\n",
    "    'name':'James',\n",
    "    'age':10,\n",
    "    'phone':'010-5441-4992'\n",
    "}\n",
    "\n",
    "print('name' in member)\n",
    "print('password' in member)"
   ]
  },
  {
   "cell_type": "code",
   "execution_count": 177,
   "id": "electric-reproduction",
   "metadata": {},
   "outputs": [],
   "source": [
    "def foo(key, **kwds):\n",
    "    return key in kwds"
   ]
  },
  {
   "cell_type": "code",
   "execution_count": 178,
   "id": "biological-contemporary",
   "metadata": {},
   "outputs": [
    {
     "data": {
      "text/plain": [
       "True"
      ]
     },
     "execution_count": 178,
     "metadata": {},
     "output_type": "execute_result"
    }
   ],
   "source": [
    "foo('name', **member)"
   ]
  },
  {
   "cell_type": "markdown",
   "id": "disciplinary-wilson",
   "metadata": {},
   "source": [
    " - 주의! 딕셔너리의 키와 함수 매개변수의 충돌"
   ]
  },
  {
   "cell_type": "code",
   "execution_count": 180,
   "id": "nonprofit-tumor",
   "metadata": {},
   "outputs": [],
   "source": [
    "def foo(name, **kwds):\n",
    "    return name in kwds"
   ]
  },
  {
   "cell_type": "code",
   "execution_count": 181,
   "id": "disciplinary-swaziland",
   "metadata": {},
   "outputs": [
    {
     "ename": "TypeError",
     "evalue": "foo() got multiple values for argument 'name'",
     "output_type": "error",
     "traceback": [
      "\u001b[1;31m---------------------------------------------------------------------------\u001b[0m",
      "\u001b[1;31mTypeError\u001b[0m                                 Traceback (most recent call last)",
      "\u001b[1;32m<ipython-input-181-2293fe3678a1>\u001b[0m in \u001b[0;36m<module>\u001b[1;34m\u001b[0m\n\u001b[1;32m----> 1\u001b[1;33m \u001b[0mfoo\u001b[0m\u001b[1;33m(\u001b[0m\u001b[1;34m'name'\u001b[0m\u001b[1;33m,\u001b[0m \u001b[1;33m**\u001b[0m\u001b[0mmember\u001b[0m\u001b[1;33m)\u001b[0m\u001b[1;33m\u001b[0m\u001b[1;33m\u001b[0m\u001b[0m\n\u001b[0m",
      "\u001b[1;31mTypeError\u001b[0m: foo() got multiple values for argument 'name'"
     ]
    }
   ],
   "source": [
    "foo('name', **member)"
   ]
  },
  {
   "cell_type": "markdown",
   "id": "convenient-bernard",
   "metadata": {},
   "source": [
    " - 그러므로 딕셔너리의 키이름과의 충돌을 피하기위해 특수 매개 변수를 사용할 필요가 있다."
   ]
  },
  {
   "cell_type": "code",
   "execution_count": 183,
   "id": "frequent-break",
   "metadata": {},
   "outputs": [],
   "source": [
    "def foo(name, /, **kwds):\n",
    "    return name in kwds"
   ]
  },
  {
   "cell_type": "code",
   "execution_count": 186,
   "id": "metric-quick",
   "metadata": {},
   "outputs": [
    {
     "data": {
      "text/plain": [
       "True"
      ]
     },
     "execution_count": 186,
     "metadata": {},
     "output_type": "execute_result"
    }
   ],
   "source": [
    "foo('name',**member)"
   ]
  },
  {
   "cell_type": "markdown",
   "id": "romance-collectible",
   "metadata": {},
   "source": [
    " - `/` : 위치 전용 인자\n",
    " - `*` : 키워드 전용 인자"
   ]
  },
  {
   "cell_type": "code",
   "execution_count": 191,
   "id": "initial-syndication",
   "metadata": {},
   "outputs": [
    {
     "data": {
      "text/plain": [
       "[3, 4, 5]"
      ]
     },
     "execution_count": 191,
     "metadata": {},
     "output_type": "execute_result"
    }
   ],
   "source": [
    "args = [3, 6]\n",
    "list(range(*args))"
   ]
  },
  {
   "cell_type": "markdown",
   "id": "dental-equation",
   "metadata": {},
   "source": [
    "## - Documentation"
   ]
  },
  {
   "cell_type": "code",
   "execution_count": 76,
   "id": "nominated-bradford",
   "metadata": {},
   "outputs": [
    {
     "name": "stdout",
     "output_type": "stream",
     "text": [
      "    이 my_function 함수는 어떻게 Documentation을 하는지\n",
      "    알리기 위해서 사용되어졌습니다.\n",
      "    \n",
      "    오예~\n",
      "    \n"
     ]
    }
   ],
   "source": [
    "def my_function():\n",
    "    \"\"\"\\\n",
    "    이 my_function 함수는 어떻게 Documentation을 하는지\n",
    "    알리기 위해서 사용되어졌습니다.\n",
    "    \n",
    "    오예~\n",
    "    \"\"\"\n",
    "    pass\n",
    "\n",
    "print(my_function.__doc__)"
   ]
  },
  {
   "cell_type": "markdown",
   "id": "respective-postcard",
   "metadata": {},
   "source": [
    "## - Annotation\n",
    " - 어노테이션은 메타데이터 정보\n",
    " - `__annotation__`에 dict로 저장됨\n",
    " - 매개변수 뒤 `:`으로 정의됨\n",
    " - Java와 달리 Python에서의 어노테이션은 사용자에게 인자값의 형태와 반환값을 알려주는 것"
   ]
  },
  {
   "cell_type": "code",
   "execution_count": 82,
   "id": "expected-louisville",
   "metadata": {},
   "outputs": [
    {
     "data": {
      "text/plain": [
       "{'score': int}"
      ]
     },
     "execution_count": 82,
     "metadata": {},
     "output_type": "execute_result"
    }
   ],
   "source": [
    "score: int = 91\n",
    "__annotations__"
   ]
  },
  {
   "cell_type": "code",
   "execution_count": 84,
   "id": "imposed-creator",
   "metadata": {},
   "outputs": [
    {
     "name": "stdout",
     "output_type": "stream",
     "text": [
      "Annotations: {'ham': <class 'str'>, 'eggs': <class 'str'>, 'return': '0이 리턴됩니다'}\n",
      "Arguments: spam eggs\n"
     ]
    },
    {
     "data": {
      "text/plain": [
       "0"
      ]
     },
     "execution_count": 84,
     "metadata": {},
     "output_type": "execute_result"
    }
   ],
   "source": [
    "def f(ham: str, eggs: str = 'eggs') -> \"0이 리턴됩니다\":\n",
    "    print(\"Annotations:\", f.__annotations__)\n",
    "    print(\"Arguments:\", ham, eggs)\n",
    "    return 0\n",
    "f('spam')"
   ]
  },
  {
   "cell_type": "markdown",
   "id": "federal-chorus",
   "metadata": {},
   "source": [
    "## - `map`, `filter`, `reduce`"
   ]
  },
  {
   "cell_type": "code",
   "execution_count": 9,
   "id": "beautiful-academy",
   "metadata": {},
   "outputs": [
    {
     "name": "stdout",
     "output_type": "stream",
     "text": [
      "after mapping :  [11, 12, 13, 14, 15, 16, 17, 18, 19, 20]\n",
      "after filtering :  [12, 14, 16, 18, 20]\n"
     ]
    },
    {
     "ename": "NameError",
     "evalue": "name 'printf' is not defined",
     "output_type": "error",
     "traceback": [
      "\u001b[1;31m---------------------------------------------------------------------------\u001b[0m",
      "\u001b[1;31mNameError\u001b[0m                                 Traceback (most recent call last)",
      "\u001b[1;32m<ipython-input-9-8e5133d44a50>\u001b[0m in \u001b[0;36m<module>\u001b[1;34m\u001b[0m\n\u001b[0;32m     13\u001b[0m \u001b[1;33m\u001b[0m\u001b[0m\n\u001b[0;32m     14\u001b[0m \u001b[0mdatas\u001b[0m \u001b[1;33m=\u001b[0m \u001b[0mreduce\u001b[0m\u001b[1;33m(\u001b[0m\u001b[1;32mlambda\u001b[0m \u001b[0mx\u001b[0m\u001b[1;33m,\u001b[0m \u001b[0my\u001b[0m \u001b[1;33m:\u001b[0m \u001b[0mx\u001b[0m \u001b[1;33m+\u001b[0m \u001b[0my\u001b[0m\u001b[1;33m,\u001b[0m \u001b[0mdatas\u001b[0m\u001b[1;33m)\u001b[0m\u001b[1;33m\u001b[0m\u001b[1;33m\u001b[0m\u001b[0m\n\u001b[1;32m---> 15\u001b[1;33m \u001b[0mprintf\u001b[0m\u001b[1;33m(\u001b[0m\u001b[1;34m\"after reducing : \"\u001b[0m\u001b[1;33m,\u001b[0m \u001b[0mdatas\u001b[0m\u001b[1;33m)\u001b[0m\u001b[1;33m\u001b[0m\u001b[1;33m\u001b[0m\u001b[0m\n\u001b[0m",
      "\u001b[1;31mNameError\u001b[0m: name 'printf' is not defined"
     ]
    }
   ],
   "source": [
    "from functools import reduce\n",
    "\n",
    "datas = [1, 2, 3, 4, 5, 6, 7, 8, 9, 10]\n",
    "\n",
    "def mappingFunc(x):\n",
    "    return x + 10\n",
    "\n",
    "datas = list(map(mappingFunc, datas))\n",
    "print(\"after mapping : \", datas)\n",
    "\n",
    "datas = list(filter(lambda x : x % 2 == 0, datas))\n",
    "print(\"after filtering : \", datas)\n",
    "\n",
    "datas = reduce(lambda x, y : x + y, datas)\n",
    "printf(\"after reducing : \", datas)"
   ]
  },
  {
   "cell_type": "markdown",
   "id": "following-herald",
   "metadata": {},
   "source": [
    "<br>\n",
    "<br>\n",
    "<br>\n",
    "<br>\n",
    "<br>\n",
    "<br>\n",
    "<hr>\n",
    "<br>\n",
    "<br>\n",
    "<br>\n",
    "<br>\n",
    "<br>\n",
    "<br>"
   ]
  },
  {
   "cell_type": "markdown",
   "id": "liberal-newcastle",
   "metadata": {},
   "source": [
    "# 09. 모듈과 패키지"
   ]
  },
  {
   "cell_type": "markdown",
   "id": "moving-candy",
   "metadata": {},
   "source": [
    "## - 모듈"
   ]
  },
  {
   "cell_type": "code",
   "execution_count": 57,
   "id": "dynamic-constitution",
   "metadata": {},
   "outputs": [
    {
     "name": "stdout",
     "output_type": "stream",
     "text": [
      "0 1 1 2 3 5 8 13 21 34 55 89 144 233 377 610 987 \n"
     ]
    }
   ],
   "source": [
    "import fibo\n",
    "\n",
    "fibo.fib(1000)"
   ]
  },
  {
   "cell_type": "code",
   "execution_count": 58,
   "id": "outside-circus",
   "metadata": {},
   "outputs": [
    {
     "data": {
      "text/plain": [
       "[0, 1, 1, 2, 3, 5, 8, 13, 21, 34, 55, 89]"
      ]
     },
     "execution_count": 58,
     "metadata": {},
     "output_type": "execute_result"
    }
   ],
   "source": [
    "fibo.fib2(100)"
   ]
  },
  {
   "cell_type": "code",
   "execution_count": 59,
   "id": "isolated-mustang",
   "metadata": {},
   "outputs": [
    {
     "data": {
      "text/plain": [
       "'fibo'"
      ]
     },
     "execution_count": 59,
     "metadata": {},
     "output_type": "execute_result"
    }
   ],
   "source": [
    "fibo.__name__"
   ]
  },
  {
   "cell_type": "code",
   "execution_count": 60,
   "id": "premium-wheat",
   "metadata": {},
   "outputs": [
    {
     "name": "stdout",
     "output_type": "stream",
     "text": [
      "0 1 1 2 3 5 8 13 21 34 55 89 144 233 377 \n"
     ]
    }
   ],
   "source": [
    "fib = fibo.fib\n",
    "fib(500)"
   ]
  },
  {
   "cell_type": "code",
   "execution_count": 61,
   "id": "noble-interview",
   "metadata": {},
   "outputs": [
    {
     "name": "stdout",
     "output_type": "stream",
     "text": [
      "0 1 1 2 3 5 8 13 21 34 55 89 144 233 377 \n"
     ]
    }
   ],
   "source": [
    "from fibo import fib, fib2\n",
    "fib(500)"
   ]
  },
  {
   "cell_type": "code",
   "execution_count": 62,
   "id": "statistical-stephen",
   "metadata": {},
   "outputs": [
    {
     "name": "stdout",
     "output_type": "stream",
     "text": [
      "0 1 1 2 3 5 8 13 21 34 55 89 144 233 377 \n"
     ]
    }
   ],
   "source": [
    "from fibo import *\n",
    "fib(500)"
   ]
  },
  {
   "cell_type": "code",
   "execution_count": 63,
   "id": "specific-doubt",
   "metadata": {},
   "outputs": [
    {
     "name": "stdout",
     "output_type": "stream",
     "text": [
      "0 1 1 2 3 5 8 13 21 34 55 89 144 233 377 \n"
     ]
    }
   ],
   "source": [
    "import fibo as fib\n",
    "fib.fib(500)"
   ]
  },
  {
   "cell_type": "code",
   "execution_count": 64,
   "id": "every-package",
   "metadata": {},
   "outputs": [
    {
     "name": "stdout",
     "output_type": "stream",
     "text": [
      "0 1 1 2 3 5 8 13 21 34 55 89 144 233 377 \n"
     ]
    }
   ],
   "source": [
    "from fibo import fib as fibonacci\n",
    "fibonacci(400)"
   ]
  },
  {
   "cell_type": "markdown",
   "id": "answering-certificate",
   "metadata": {},
   "source": [
    " - 효율성의 이유로, 각 모듈은 인터프리터 세션마다 한 번만 임포트됩니다. 그래서, 여러분이 모듈을 수정하면, 인터프리터를 다시 시작시켜야 합니다 — 또는, 대화형으로 시험하는 모듈이 하나뿐이라면, `importlib.reload()` 를 사용하세요. 예를 들어, `import importlib; importlib.reload(modulename)`."
   ]
  },
  {
   "cell_type": "code",
   "execution_count": 65,
   "id": "incident-newspaper",
   "metadata": {},
   "outputs": [
    {
     "data": {
      "text/plain": [
       "<module 'fibo' from 'C:\\\\Users\\\\quoti\\\\Desktop\\\\LocalRepo\\\\__PROGRAMMING__\\\\CodeCloud\\\\Playground.Python\\\\ref-main-doc\\\\03_tutorial\\\\fibo.py'>"
      ]
     },
     "execution_count": 65,
     "metadata": {},
     "output_type": "execute_result"
    }
   ],
   "source": [
    "import importlib\n",
    "importlib.reload(fibo)"
   ]
  },
  {
   "cell_type": "markdown",
   "id": "simple-worse",
   "metadata": {},
   "source": [
    "```python\n",
    "python fibo.py <arguments>\n",
    "```\n",
    "모듈에 있는 코드는, 그것을 임포트할 때처럼 실행됩니다. 하지만 __name__ 은 \"__main__\" 로 설정됩니다. \n",
    "\n",
    "```python\n",
    "if __name__ == \"__main__\":\n",
    "    import sys\n",
    "    fib(int(sys.argv[1]))\n",
    "```\n",
    "파일을 임포트할 수 있는 모듈뿐만 아니라 스크립트로도 사용할 수 있도록 만들 수 있음을 의미하는데, 오직 모듈이 《메인》 파일로 실행될 때만 명령행을 파싱하는 코드가 실행되기 때문입니다:\n",
    "```python\n",
    "$ python fibo.py 50\n",
    "0 1 1 2 3 5 8 13 21 34\n",
    "```\n",
    "\n",
    "spam 이라는 이름의 모듈이 임포트될 때, 인터프리터는 먼저 그 이름의 내장 모듈을 찾습니다. 발견되지 않으면, 변수 sys.path 로 주어지는 디렉터리들에서 spam.py 라는 이름의 파일을 찾습니다. sys.path 는 이 위치들로 초기화됩니다:\n",
    "\n",
    " - 입력 스크립트를 포함하는 디렉터리 (또는 파일이 지정되지 않았을 때는 현재 디렉터리).\n",
    " - PYTHONPATH (디렉터리 이름들의 목록, 셸 변수 PATH 와 같은 문법).\n",
    " - 설치 의존적인 기본값\n",
    " \n",
    "#### 파이썬 컴파일\n",
    "\n",
    "모듈 로딩을 빠르게 하려고, 파이썬은 __pycache__ 디렉터리에 각 모듈의 컴파일된 버전을 module.version.pyc 라는 이름으로 캐싱합니다. version 은 컴파일된 파일의 형식을 지정합니다; 일반적으로 파이썬의 버전 번호를 포함합니다. 예를 들어, CPython 배포 3.3 에서 spam.py 의 컴파일된 버전은 __pycache__/spam.cpython-33.pyc 로 캐싱 됩니다. 이 명명법은 서로 다른 파이썬 배포와 버전의 컴파일된 모듈들이 공존할 수 있도록 합니다.\n",
    "\n",
    ".py 파일에서 읽을 때보다 .pyc 파일에서 읽을 때 프로그램이 더 빨리 실행되지는 않습니다; .pyc 파일에서 더 빨라지는 것은 로드되는 속도뿐입니다."
   ]
  },
  {
   "cell_type": "code",
   "execution_count": 66,
   "id": "terminal-reviewer",
   "metadata": {},
   "outputs": [
    {
     "data": {
      "text/plain": [
       "['__builtins__',\n",
       " '__cached__',\n",
       " '__doc__',\n",
       " '__file__',\n",
       " '__loader__',\n",
       " '__name__',\n",
       " '__package__',\n",
       " '__spec__',\n",
       " 'fib',\n",
       " 'fib2']"
      ]
     },
     "execution_count": 66,
     "metadata": {},
     "output_type": "execute_result"
    }
   ],
   "source": [
    "import fibo\n",
    "dir(fibo) #인자가 없으면, dir() 는 현재 정의한 이름들을 나열합니다:"
   ]
  },
  {
   "cell_type": "markdown",
   "id": "desirable-harbor",
   "metadata": {},
   "source": [
    " - dir() 은 내장 함수와 변수들의 이름을 나열하지 않습니다. 그것들의 목록을 원한다면, 표준 모듈 builtins 에 정의되어 있습니다:"
   ]
  },
  {
   "cell_type": "code",
   "execution_count": 20,
   "id": "remarkable-transcription",
   "metadata": {},
   "outputs": [
    {
     "data": {
      "text/plain": [
       "['ArithmeticError',\n",
       " 'AssertionError',\n",
       " 'AttributeError',\n",
       " 'BaseException',\n",
       " 'BlockingIOError',\n",
       " 'BrokenPipeError',\n",
       " 'BufferError',\n",
       " 'BytesWarning',\n",
       " 'ChildProcessError',\n",
       " 'ConnectionAbortedError',\n",
       " 'ConnectionError',\n",
       " 'ConnectionRefusedError',\n",
       " 'ConnectionResetError',\n",
       " 'DeprecationWarning',\n",
       " 'EOFError',\n",
       " 'Ellipsis',\n",
       " 'EnvironmentError',\n",
       " 'Exception',\n",
       " 'False',\n",
       " 'FileExistsError',\n",
       " 'FileNotFoundError',\n",
       " 'FloatingPointError',\n",
       " 'FutureWarning',\n",
       " 'GeneratorExit',\n",
       " 'IOError',\n",
       " 'ImportError',\n",
       " 'ImportWarning',\n",
       " 'IndentationError',\n",
       " 'IndexError',\n",
       " 'InterruptedError',\n",
       " 'IsADirectoryError',\n",
       " 'KeyError',\n",
       " 'KeyboardInterrupt',\n",
       " 'LookupError',\n",
       " 'MemoryError',\n",
       " 'ModuleNotFoundError',\n",
       " 'NameError',\n",
       " 'None',\n",
       " 'NotADirectoryError',\n",
       " 'NotImplemented',\n",
       " 'NotImplementedError',\n",
       " 'OSError',\n",
       " 'OverflowError',\n",
       " 'PendingDeprecationWarning',\n",
       " 'PermissionError',\n",
       " 'ProcessLookupError',\n",
       " 'RecursionError',\n",
       " 'ReferenceError',\n",
       " 'ResourceWarning',\n",
       " 'RuntimeError',\n",
       " 'RuntimeWarning',\n",
       " 'StopAsyncIteration',\n",
       " 'StopIteration',\n",
       " 'SyntaxError',\n",
       " 'SyntaxWarning',\n",
       " 'SystemError',\n",
       " 'SystemExit',\n",
       " 'TabError',\n",
       " 'TimeoutError',\n",
       " 'True',\n",
       " 'TypeError',\n",
       " 'UnboundLocalError',\n",
       " 'UnicodeDecodeError',\n",
       " 'UnicodeEncodeError',\n",
       " 'UnicodeError',\n",
       " 'UnicodeTranslateError',\n",
       " 'UnicodeWarning',\n",
       " 'UserWarning',\n",
       " 'ValueError',\n",
       " 'Warning',\n",
       " 'WindowsError',\n",
       " 'ZeroDivisionError',\n",
       " '__IPYTHON__',\n",
       " '__build_class__',\n",
       " '__debug__',\n",
       " '__doc__',\n",
       " '__import__',\n",
       " '__loader__',\n",
       " '__name__',\n",
       " '__package__',\n",
       " '__spec__',\n",
       " 'abs',\n",
       " 'all',\n",
       " 'any',\n",
       " 'ascii',\n",
       " 'bin',\n",
       " 'bool',\n",
       " 'breakpoint',\n",
       " 'bytearray',\n",
       " 'bytes',\n",
       " 'callable',\n",
       " 'chr',\n",
       " 'classmethod',\n",
       " 'compile',\n",
       " 'complex',\n",
       " 'copyright',\n",
       " 'credits',\n",
       " 'delattr',\n",
       " 'dict',\n",
       " 'dir',\n",
       " 'display',\n",
       " 'divmod',\n",
       " 'enumerate',\n",
       " 'eval',\n",
       " 'exec',\n",
       " 'filter',\n",
       " 'float',\n",
       " 'format',\n",
       " 'frozenset',\n",
       " 'get_ipython',\n",
       " 'getattr',\n",
       " 'globals',\n",
       " 'hasattr',\n",
       " 'hash',\n",
       " 'help',\n",
       " 'hex',\n",
       " 'id',\n",
       " 'input',\n",
       " 'int',\n",
       " 'isinstance',\n",
       " 'issubclass',\n",
       " 'iter',\n",
       " 'len',\n",
       " 'license',\n",
       " 'list',\n",
       " 'locals',\n",
       " 'map',\n",
       " 'max',\n",
       " 'memoryview',\n",
       " 'min',\n",
       " 'next',\n",
       " 'object',\n",
       " 'oct',\n",
       " 'open',\n",
       " 'ord',\n",
       " 'pow',\n",
       " 'print',\n",
       " 'property',\n",
       " 'range',\n",
       " 'repr',\n",
       " 'reversed',\n",
       " 'round',\n",
       " 'set',\n",
       " 'setattr',\n",
       " 'slice',\n",
       " 'sorted',\n",
       " 'staticmethod',\n",
       " 'str',\n",
       " 'sum',\n",
       " 'super',\n",
       " 'tuple',\n",
       " 'type',\n",
       " 'vars',\n",
       " 'zip']"
      ]
     },
     "execution_count": 20,
     "metadata": {},
     "output_type": "execute_result"
    }
   ],
   "source": [
    "import builtins\n",
    "dir(builtins)"
   ]
  },
  {
   "cell_type": "markdown",
   "id": "interior-watts",
   "metadata": {},
   "source": [
    "## - 패키지"
   ]
  },
  {
   "cell_type": "markdown",
   "id": "quick-genre",
   "metadata": {},
   "source": [
    "`from package import item` 를 사용할 때, item은 패키지의 서브 모듈 (또는 서브 패키지)일 수도 있고 함수, 클래스, 변수 등 패키지에 정의된 다른 이름들일 수도 있음에 유의하세요. import 문은 먼저 item이 패키지에 정의되어 있는지 검사하고, 그렇지 않으면 모듈이라고 가정하고 로드를 시도합니다. 찾지 못한다면, ImportError 예외를 일으킵니다.\n",
    "\n",
    "이에 반하여, `import item.subitem.subsubitem` 와 같은 문법을 사용할 때, 마지막 것을 제외한 각 항목은 반드시 패키지여야 합니다; 마지막 항목은 모듈이나 패키지가 될 수 있지만, 앞의 항목에서 정의된 클래스, 함수, 변수 등이 될 수는 없습니다."
   ]
  },
  {
   "cell_type": "code",
   "execution_count": 223,
   "id": "dental-muslim",
   "metadata": {
    "tags": []
   },
   "outputs": [],
   "source": [
    "from mypac import util_before_all"
   ]
  },
  {
   "cell_type": "code",
   "execution_count": 224,
   "id": "surprising-large",
   "metadata": {},
   "outputs": [
    {
     "data": {
      "text/plain": [
       "['__builtins__',\n",
       " '__cached__',\n",
       " '__doc__',\n",
       " '__file__',\n",
       " '__loader__',\n",
       " '__name__',\n",
       " '__package__',\n",
       " '__path__',\n",
       " '__spec__']"
      ]
     },
     "execution_count": 224,
     "metadata": {},
     "output_type": "execute_result"
    }
   ],
   "source": [
    "dir(util_before_all)"
   ]
  },
  {
   "cell_type": "code",
   "execution_count": 225,
   "id": "pleased-cincinnati",
   "metadata": {},
   "outputs": [
    {
     "ename": "AttributeError",
     "evalue": "module 'mypac.util_before_all' has no attribute 'calc'",
     "output_type": "error",
     "traceback": [
      "\u001b[1;31m---------------------------------------------------------------------------\u001b[0m",
      "\u001b[1;31mAttributeError\u001b[0m                            Traceback (most recent call last)",
      "\u001b[1;32m<ipython-input-225-4418125e290a>\u001b[0m in \u001b[0;36m<module>\u001b[1;34m\u001b[0m\n\u001b[1;32m----> 1\u001b[1;33m \u001b[0mutil_before_all\u001b[0m\u001b[1;33m.\u001b[0m\u001b[0mcalc\u001b[0m\u001b[1;33m.\u001b[0m\u001b[0madd\u001b[0m\u001b[1;33m(\u001b[0m\u001b[1;36m100\u001b[0m\u001b[1;33m,\u001b[0m \u001b[1;36m200\u001b[0m\u001b[1;33m)\u001b[0m\u001b[1;33m\u001b[0m\u001b[1;33m\u001b[0m\u001b[0m\n\u001b[0m",
      "\u001b[1;31mAttributeError\u001b[0m: module 'mypac.util_before_all' has no attribute 'calc'"
     ]
    }
   ],
   "source": [
    "util_before_all.calc.add(100, 200)"
   ]
  },
  {
   "cell_type": "code",
   "execution_count": 226,
   "id": "armed-environment",
   "metadata": {},
   "outputs": [],
   "source": [
    "from mypac import util"
   ]
  },
  {
   "cell_type": "code",
   "execution_count": 227,
   "id": "radio-gateway",
   "metadata": {},
   "outputs": [
    {
     "data": {
      "text/plain": [
       "['__all__',\n",
       " '__builtins__',\n",
       " '__cached__',\n",
       " '__doc__',\n",
       " '__file__',\n",
       " '__loader__',\n",
       " '__name__',\n",
       " '__package__',\n",
       " '__path__',\n",
       " '__spec__']"
      ]
     },
     "execution_count": 227,
     "metadata": {},
     "output_type": "execute_result"
    }
   ],
   "source": [
    "dir(util)"
   ]
  },
  {
   "cell_type": "code",
   "execution_count": 228,
   "id": "polyphonic-transsexual",
   "metadata": {},
   "outputs": [
    {
     "ename": "AttributeError",
     "evalue": "module 'mypac.util' has no attribute 'calc'",
     "output_type": "error",
     "traceback": [
      "\u001b[1;31m---------------------------------------------------------------------------\u001b[0m",
      "\u001b[1;31mAttributeError\u001b[0m                            Traceback (most recent call last)",
      "\u001b[1;32m<ipython-input-228-9b512aa3f1d7>\u001b[0m in \u001b[0;36m<module>\u001b[1;34m\u001b[0m\n\u001b[1;32m----> 1\u001b[1;33m \u001b[0mutil\u001b[0m\u001b[1;33m.\u001b[0m\u001b[0mcalc\u001b[0m\u001b[1;33m.\u001b[0m\u001b[0madd\u001b[0m\u001b[1;33m(\u001b[0m\u001b[1;36m100\u001b[0m\u001b[1;33m,\u001b[0m\u001b[1;36m200\u001b[0m\u001b[1;33m,\u001b[0m\u001b[1;36m300\u001b[0m\u001b[1;33m,\u001b[0m\u001b[1;36m400\u001b[0m\u001b[1;33m)\u001b[0m\u001b[1;33m\u001b[0m\u001b[1;33m\u001b[0m\u001b[0m\n\u001b[0m",
      "\u001b[1;31mAttributeError\u001b[0m: module 'mypac.util' has no attribute 'calc'"
     ]
    }
   ],
   "source": [
    "util.calc.add(100,200,300,400)"
   ]
  },
  {
   "cell_type": "code",
   "execution_count": 229,
   "id": "liable-shirt",
   "metadata": {},
   "outputs": [],
   "source": [
    "from mypac.util import *"
   ]
  },
  {
   "cell_type": "code",
   "execution_count": 230,
   "id": "silent-provider",
   "metadata": {},
   "outputs": [
    {
     "data": {
      "text/plain": [
       "['__all__',\n",
       " '__builtins__',\n",
       " '__cached__',\n",
       " '__doc__',\n",
       " '__file__',\n",
       " '__loader__',\n",
       " '__name__',\n",
       " '__package__',\n",
       " '__path__',\n",
       " '__spec__',\n",
       " 'calc',\n",
       " 'stream']"
      ]
     },
     "execution_count": 230,
     "metadata": {},
     "output_type": "execute_result"
    }
   ],
   "source": [
    "dir(util)"
   ]
  },
  {
   "cell_type": "code",
   "execution_count": 231,
   "id": "comic-hudson",
   "metadata": {},
   "outputs": [
    {
     "name": "stdout",
     "output_type": "stream",
     "text": [
      "True\n",
      "True\n",
      "False\n"
     ]
    }
   ],
   "source": [
    "print('calc' in dir())\n",
    "print('stream' in dir())\n",
    "print('of' in dir())"
   ]
  },
  {
   "cell_type": "code",
   "execution_count": 232,
   "id": "superior-tuition",
   "metadata": {},
   "outputs": [
    {
     "data": {
      "text/plain": [
       "600"
      ]
     },
     "execution_count": 232,
     "metadata": {},
     "output_type": "execute_result"
    }
   ],
   "source": [
    "calc.add(100,200,300)"
   ]
  },
  {
   "cell_type": "code",
   "execution_count": 233,
   "id": "boxed-struggle",
   "metadata": {},
   "outputs": [
    {
     "data": {
      "text/plain": [
       "550"
      ]
     },
     "execution_count": 233,
     "metadata": {},
     "output_type": "execute_result"
    }
   ],
   "source": [
    "from mypac.util.stream import values\n",
    "stream.of(values(1,2,3,4,5,6,7,8,9,10),\n",
    "   mapping = lambda x : x * 10,\n",
    "   filtering = lambda x : x % 2 == 0,\n",
    "   reducing = lambda x, y : x + y)"
   ]
  },
  {
   "cell_type": "code",
   "execution_count": 235,
   "id": "reflected-compatibility",
   "metadata": {},
   "outputs": [
    {
     "data": {
      "text/plain": [
       "['__builtins__',\n",
       " '__cached__',\n",
       " '__doc__',\n",
       " '__file__',\n",
       " '__loader__',\n",
       " '__name__',\n",
       " '__package__',\n",
       " '__spec__',\n",
       " 'deque',\n",
       " 'of',\n",
       " 'reduce',\n",
       " 'values',\n",
       " 'verboseOf']"
      ]
     },
     "execution_count": 235,
     "metadata": {},
     "output_type": "execute_result"
    }
   ],
   "source": [
    "dir(stream)"
   ]
  },
  {
   "cell_type": "code",
   "execution_count": 236,
   "id": "appropriate-burton",
   "metadata": {},
   "outputs": [
    {
     "data": {
      "text/plain": [
       "550"
      ]
     },
     "execution_count": 236,
     "metadata": {},
     "output_type": "execute_result"
    }
   ],
   "source": [
    "from mypac.util.stream import *\n",
    "\n",
    "\n",
    "of(values(1,2,3,4,5,6,7,8,9,10),\n",
    "   mapping = lambda x : x * 10,\n",
    "   filtering = lambda x : x % 2 == 0,\n",
    "   reducing = lambda x, y : x + y)"
   ]
  },
  {
   "cell_type": "code",
   "execution_count": 237,
   "id": "saved-coffee",
   "metadata": {},
   "outputs": [
    {
     "name": "stdout",
     "output_type": "stream",
     "text": [
      "Parsing Target :  (1, 2, 3, 4, 5, 6, 7, 8, 9, 10)\n",
      "Parsing Steps :  deque([<function <lambda> at 0x000001FC922DE550>, <function <lambda> at 0x000001FC922DE280>, <function <lambda> at 0x000001FC922DE3A0>])\n",
      "Mapping Steps :  <function <lambda> at 0x000001FC922DE550>\n",
      "Mapping After:  [10, 20, 30, 40, 50, 60, 70, 80, 90, 100]\n",
      "Filtering Steps :  <function <lambda> at 0x000001FC922DE280>\n",
      "Filtering After:  <filter object at 0x000001FC922F4130>\n",
      "Reducing Steps :  <function <lambda> at 0x000001FC922DE3A0>\n",
      "Reducing After:  550\n",
      "Result :  550\n"
     ]
    },
    {
     "data": {
      "text/plain": [
       "550"
      ]
     },
     "execution_count": 237,
     "metadata": {},
     "output_type": "execute_result"
    }
   ],
   "source": [
    "verboseOf(values(1,2,3,4,5,6,7,8,9,10),\n",
    "   mapping = lambda x : x * 10,\n",
    "   filtering = lambda x : x % 2 == 0,\n",
    "   reducing = lambda x, y : x + y)"
   ]
  },
  {
   "cell_type": "markdown",
   "id": "proprietary-biotechnology",
   "metadata": {},
   "source": [
    "<br>\n",
    "<br>\n",
    "<br>\n",
    "<br>\n",
    "<br>\n",
    "<br>\n",
    "<hr>\n",
    "<br>\n",
    "<br>\n",
    "<br>\n",
    "<br>\n",
    "<br>\n",
    "<br>"
   ]
  },
  {
   "cell_type": "markdown",
   "id": "heavy-dairy",
   "metadata": {},
   "source": [
    "# 10. 문자열"
   ]
  },
  {
   "cell_type": "markdown",
   "id": "correct-niagara",
   "metadata": {},
   "source": [
    "## - Escape and Raw"
   ]
  },
  {
   "cell_type": "code",
   "execution_count": 6,
   "id": "champion-interview",
   "metadata": {},
   "outputs": [
    {
     "name": "stdout",
     "output_type": "stream",
     "text": [
      "I'am \"Iron Man\"\n"
     ]
    }
   ],
   "source": [
    "print(\"I'am \\\"Iron Man\\\"\") #Escape"
   ]
  },
  {
   "cell_type": "code",
   "execution_count": 7,
   "id": "spectacular-humidity",
   "metadata": {},
   "outputs": [
    {
     "name": "stdout",
     "output_type": "stream",
     "text": [
      "c:\\Program Files\\Python39\n"
     ]
    }
   ],
   "source": [
    "print(r'c:\\Program Files\\Python39') #Raw"
   ]
  },
  {
   "cell_type": "markdown",
   "id": "amino-album",
   "metadata": {},
   "source": [
    "## - 문자 합체와 반복"
   ]
  },
  {
   "cell_type": "code",
   "execution_count": 44,
   "id": "found-relief",
   "metadata": {},
   "outputs": [
    {
     "data": {
      "text/plain": [
       "'Python'"
      ]
     },
     "execution_count": 44,
     "metadata": {},
     "output_type": "execute_result"
    }
   ],
   "source": [
    "'Py'\"thon\""
   ]
  },
  {
   "cell_type": "code",
   "execution_count": 2,
   "id": "ancient-parker",
   "metadata": {},
   "outputs": [
    {
     "data": {
      "text/plain": [
       "'Put several strings within parentheses to have them joined together.'"
      ]
     },
     "execution_count": 2,
     "metadata": {},
     "output_type": "execute_result"
    }
   ],
   "source": [
    "#  - 두 개 이상의 문자열 리터럴 (즉, 따옴표로 둘러싸인 것들) 가 연속해서 나타나면 자동으로 이어 붙여집니다.\n",
    "text = ('Put several strings within parentheses '\n",
    "        'to have them joined together.')\n",
    "text\n",
    "# 이것은 오직 두 개의 리터럴에만 적용될 뿐 변수나 표현식에는 해당하지 않습니다: prefix 'thon' -- Error\n",
    "# 변수들끼리 혹은 변수와 문자열 리터럴을 이어붙이려면 + 를 사용해야 합니다: prefix + 'thon'"
   ]
  },
  {
   "cell_type": "code",
   "execution_count": 14,
   "id": "turkish-plate",
   "metadata": {},
   "outputs": [
    {
     "data": {
      "text/plain": [
       "'Hi Hi Hi Welcome'"
      ]
     },
     "execution_count": 14,
     "metadata": {},
     "output_type": "execute_result"
    }
   ],
   "source": [
    "3 * 'Hi ' + 'Welcome'"
   ]
  },
  {
   "cell_type": "markdown",
   "id": "cross-reservation",
   "metadata": {},
   "source": [
    "## - 문자열 확인"
   ]
  },
  {
   "cell_type": "markdown",
   "id": "premier-bread",
   "metadata": {},
   "source": [
    "### * len()"
   ]
  },
  {
   "cell_type": "code",
   "execution_count": 15,
   "id": "large-adelaide",
   "metadata": {},
   "outputs": [
    {
     "data": {
      "text/plain": [
       "34"
      ]
     },
     "execution_count": 15,
     "metadata": {},
     "output_type": "execute_result"
    }
   ],
   "source": [
    "s = 'supercalifragilisticexpialidocious' \n",
    "len(s) # 문자열의 길이를 돌려줌"
   ]
  },
  {
   "cell_type": "markdown",
   "id": "southern-matter",
   "metadata": {},
   "source": [
    "### * in"
   ]
  },
  {
   "cell_type": "code",
   "execution_count": 21,
   "id": "funny-christianity",
   "metadata": {},
   "outputs": [
    {
     "data": {
      "text/plain": [
       "True"
      ]
     },
     "execution_count": 21,
     "metadata": {},
     "output_type": "execute_result"
    }
   ],
   "source": [
    "'Py' in 'Python'"
   ]
  },
  {
   "cell_type": "markdown",
   "id": "still-following",
   "metadata": {},
   "source": [
    "## - 문자열 Literal 확장"
   ]
  },
  {
   "cell_type": "markdown",
   "id": "peaceful-secretariat",
   "metadata": {},
   "source": [
    "### * `''' '''` || `\"\"\" \"\"\"`"
   ]
  },
  {
   "cell_type": "code",
   "execution_count": 8,
   "id": "genetic-authorization",
   "metadata": {},
   "outputs": [
    {
     "name": "stdout",
     "output_type": "stream",
     "text": [
      "\n",
      "Usage: python\n",
      "    --version\n",
      "\n"
     ]
    }
   ],
   "source": [
    "print('''\n",
    "Usage: python\n",
    "    --version\n",
    "''') "
   ]
  },
  {
   "cell_type": "code",
   "execution_count": 17,
   "id": "velvet-century",
   "metadata": {},
   "outputs": [
    {
     "name": "stdout",
     "output_type": "stream",
     "text": [
      "Usage: python\n",
      "    --version\n",
      "\n"
     ]
    }
   ],
   "source": [
    "# 개행 없애기\n",
    "print(\"\"\"\\\n",
    "Usage: python\n",
    "    --version\n",
    "\"\"\") "
   ]
  },
  {
   "cell_type": "markdown",
   "id": "velvet-probability",
   "metadata": {},
   "source": [
    "### * 인덱스"
   ]
  },
  {
   "cell_type": "code",
   "execution_count": 9,
   "id": "hourly-freight",
   "metadata": {},
   "outputs": [
    {
     "name": "stdout",
     "output_type": "stream",
     "text": [
      "P\n",
      "n\n"
     ]
    }
   ],
   "source": [
    "# 문자 인덱스\n",
    "word = 'Python'\n",
    "print(word[0])\n",
    "print(word[-1]) # 0과 -0은 같음. 그래서 맨 끝 숫자는 -1"
   ]
  },
  {
   "cell_type": "code",
   "execution_count": 10,
   "id": "intelligent-abraham",
   "metadata": {},
   "outputs": [
    {
     "name": "stdout",
     "output_type": "stream",
     "text": [
      "Python\n",
      "Py\n"
     ]
    }
   ],
   "source": [
    "print(word[:2] + word[2:])\n",
    "print(word[:2] )"
   ]
  },
  {
   "cell_type": "code",
   "execution_count": 11,
   "id": "sharp-monster",
   "metadata": {},
   "outputs": [
    {
     "ename": "IndexError",
     "evalue": "string index out of range",
     "output_type": "error",
     "traceback": [
      "\u001b[1;31m---------------------------------------------------------------------------\u001b[0m",
      "\u001b[1;31mIndexError\u001b[0m                                Traceback (most recent call last)",
      "\u001b[1;32m<ipython-input-11-d7e1dec2886d>\u001b[0m in \u001b[0;36m<module>\u001b[1;34m\u001b[0m\n\u001b[1;32m----> 1\u001b[1;33m \u001b[0mword\u001b[0m\u001b[1;33m[\u001b[0m\u001b[1;36m100\u001b[0m\u001b[1;33m]\u001b[0m \u001b[1;31m# 문자 인덱스를 넘을 시 에러\u001b[0m\u001b[1;33m\u001b[0m\u001b[1;33m\u001b[0m\u001b[0m\n\u001b[0m",
      "\u001b[1;31mIndexError\u001b[0m: string index out of range"
     ]
    }
   ],
   "source": [
    "word[100] # 문자 인덱스를 넘을 시 에러"
   ]
  },
  {
   "cell_type": "code",
   "execution_count": 18,
   "id": "lesser-infection",
   "metadata": {},
   "outputs": [
    {
     "data": {
      "text/plain": [
       "'count function returns number of some '"
      ]
     },
     "execution_count": 18,
     "metadata": {},
     "output_type": "execute_result"
    }
   ],
   "source": [
    "# 하지만, 범위를 벗어나는 슬라이스 인덱스는 슬라이싱할 때 부드럽게 처리됨\n",
    "word[4:42]"
   ]
  },
  {
   "cell_type": "markdown",
   "id": "personal-assist",
   "metadata": {},
   "source": [
    "### * 문자열은 immutable하다"
   ]
  },
  {
   "cell_type": "markdown",
   "id": "precise-european",
   "metadata": {},
   "source": [
    "파이썬 문자열은 변경할 수 없다 — 불변(immutable) 이라고 합니다. 그래서 문자열의 인덱스로 참조한 위치에 대입하려고 하면 에러를 일으킵니다:"
   ]
  },
  {
   "cell_type": "code",
   "execution_count": 13,
   "id": "according-switch",
   "metadata": {},
   "outputs": [
    {
     "ename": "TypeError",
     "evalue": "'str' object does not support item assignment",
     "output_type": "error",
     "traceback": [
      "\u001b[1;31m---------------------------------------------------------------------------\u001b[0m",
      "\u001b[1;31mTypeError\u001b[0m                                 Traceback (most recent call last)",
      "\u001b[1;32m<ipython-input-13-91a956888ca7>\u001b[0m in \u001b[0;36m<module>\u001b[1;34m\u001b[0m\n\u001b[1;32m----> 1\u001b[1;33m \u001b[0mword\u001b[0m\u001b[1;33m[\u001b[0m\u001b[1;36m0\u001b[0m\u001b[1;33m]\u001b[0m \u001b[1;33m=\u001b[0m \u001b[1;34m'J'\u001b[0m\u001b[1;33m\u001b[0m\u001b[1;33m\u001b[0m\u001b[0m\n\u001b[0m",
      "\u001b[1;31mTypeError\u001b[0m: 'str' object does not support item assignment"
     ]
    }
   ],
   "source": [
    "word[0] = 'J'"
   ]
  },
  {
   "cell_type": "markdown",
   "id": "hydraulic-telling",
   "metadata": {},
   "source": [
    "다른 문자열이 필요하면, 새로 만들어야 합니다:"
   ]
  },
  {
   "cell_type": "code",
   "execution_count": 14,
   "id": "removed-benchmark",
   "metadata": {},
   "outputs": [
    {
     "data": {
      "text/plain": [
       "'Jython'"
      ]
     },
     "execution_count": 14,
     "metadata": {},
     "output_type": "execute_result"
    }
   ],
   "source": [
    "'J' + word[1:]"
   ]
  },
  {
   "cell_type": "markdown",
   "id": "ranking-daily",
   "metadata": {},
   "source": [
    "## - 문자 메서드"
   ]
  },
  {
   "cell_type": "markdown",
   "id": "exterior-agreement",
   "metadata": {},
   "source": [
    "### * str.capitalize()\n",
    " - 첫 문자가 대문자이고 나머지가 소문자인 문자열의 복사본을 돌려줍니다. "
   ]
  },
  {
   "cell_type": "code",
   "execution_count": 2,
   "id": "popular-apple",
   "metadata": {},
   "outputs": [
    {
     "data": {
      "text/plain": [
       "'Hello world'"
      ]
     },
     "execution_count": 2,
     "metadata": {},
     "output_type": "execute_result"
    }
   ],
   "source": [
    "word = \"hello world\"\n",
    "word.capitalize()"
   ]
  },
  {
   "cell_type": "markdown",
   "id": "bigger-conflict",
   "metadata": {},
   "source": [
    "### * str.center(width[, fillchar])\n",
    " - 길이 width 인 문자열의 가운데에 정렬한 값을 돌려줍니다. \n",
    " - 지정된 fillchar (기본값은 ASCII 스페이스)을 사용하여 채웁니다. \n",
    " - width 가 len(s) 보다 작거나 같은 경우 원래 문자열이 반환됩니다."
   ]
  },
  {
   "cell_type": "code",
   "execution_count": 4,
   "id": "familiar-listing",
   "metadata": {},
   "outputs": [
    {
     "name": "stdout",
     "output_type": "stream",
     "text": [
      "I Love Python\n",
      "     I Love Python     \n",
      "-----I Love Python-----\n"
     ]
    }
   ],
   "source": [
    "word = \"I Love Python\"\n",
    "print(word)\n",
    "print(word.center(len(word)+10))\n",
    "print(word.center(len(word)+10, '-'))"
   ]
  },
  {
   "cell_type": "markdown",
   "id": "small-intersection",
   "metadata": {},
   "source": [
    "### * str.encode(encoding=\"utf-8\", errors=\"strict\")\n",
    " - 문자열의 바이트열 객체로 인코딩된 버전을 돌려줍니다. 기본 인코딩은 'utf-8' 입니다.\n",
    " - errors 의 기본값은 'strict' 인데, 인코딩 오류가 있으면 UnicodeError 를 일으키라는 뜻\n",
    " - 다른 가능한 값은 'ignore', 'replace', 'xmlcharrefreplace', 'backslashreplace' 와 codecs.register_error() 를 통해 등록된 다른 이름들"
   ]
  },
  {
   "cell_type": "code",
   "execution_count": 6,
   "id": "charged-walnut",
   "metadata": {},
   "outputs": [
    {
     "data": {
      "text/plain": [
       "b'something'"
      ]
     },
     "execution_count": 6,
     "metadata": {},
     "output_type": "execute_result"
    }
   ],
   "source": [
    "\"something\".encode(encoding=\"utf-8\", errors=\"strict\")"
   ]
  },
  {
   "cell_type": "code",
   "execution_count": 9,
   "id": "negative-assignment",
   "metadata": {},
   "outputs": [],
   "source": [
    "import codecs"
   ]
  },
  {
   "cell_type": "markdown",
   "id": "norwegian-editing",
   "metadata": {},
   "source": [
    "### * str.endswith(suffix[, start[, end]])\n",
    "#### str.startswith(preffix[, start[, end]])\n",
    " - 문자열이 지정된 suffix 로 끝나면 True 를 돌려주고, 그렇지 않으면 False 를 돌려줍니다. \n",
    " - 선택적 start 가 제공되면 그 위치에서 검사를 시작\n",
    " - 선택적 end 를 사용하면 해당 위치에서 비교를 중단"
   ]
  },
  {
   "cell_type": "code",
   "execution_count": 11,
   "id": "protective-junior",
   "metadata": {},
   "outputs": [
    {
     "name": "stdout",
     "output_type": "stream",
     "text": [
      "True\n",
      "False\n",
      "ab True\n"
     ]
    }
   ],
   "source": [
    "word = \"abcd\"\n",
    "print(word.endswith('d'))\n",
    "print(word.endswith('e'))\n",
    "print(word[0:2], word.endswith('b',0,2))"
   ]
  },
  {
   "cell_type": "markdown",
   "id": "governing-shepherd",
   "metadata": {},
   "source": [
    "### * str.expandtabs(tabsize=8)"
   ]
  },
  {
   "cell_type": "code",
   "execution_count": 19,
   "id": "clean-announcement",
   "metadata": {},
   "outputs": [
    {
     "data": {
      "text/plain": [
       "'01        012       0123      01234'"
      ]
     },
     "execution_count": 19,
     "metadata": {},
     "output_type": "execute_result"
    }
   ],
   "source": [
    "'01\\t012\\t0123\\t01234'.expandtabs(10)"
   ]
  },
  {
   "cell_type": "markdown",
   "id": "stone-surrey",
   "metadata": {},
   "source": [
    "### * str.count(sub[, start[, end]])\n",
    " - 범위 [start, end] 에서 부분 문자열 sub 가 중첩되지 않고 등장하는 횟수를 돌려줍니다. "
   ]
  },
  {
   "cell_type": "code",
   "execution_count": 13,
   "id": "tropical-search",
   "metadata": {},
   "outputs": [
    {
     "data": {
      "text/plain": [
       "4"
      ]
     },
     "execution_count": 13,
     "metadata": {},
     "output_type": "execute_result"
    }
   ],
   "source": [
    "word = \"the count function returns number of some words\"\n",
    "word.count('u')"
   ]
  },
  {
   "cell_type": "markdown",
   "id": "interstate-dimension",
   "metadata": {},
   "source": [
    "### * str.format(`*args`, `**kwargs`)\n",
    " - 문자열 포맷 연산을 수행"
   ]
  },
  {
   "cell_type": "code",
   "execution_count": 22,
   "id": "drawn-affect",
   "metadata": {},
   "outputs": [
    {
     "data": {
      "text/plain": [
       "'The sum of 1 + 2 is 3'"
      ]
     },
     "execution_count": 22,
     "metadata": {},
     "output_type": "execute_result"
    }
   ],
   "source": [
    "\"The sum of 1 + 2 is {0}\".format(1+2)"
   ]
  },
  {
   "cell_type": "code",
   "execution_count": 23,
   "id": "behind-pepper",
   "metadata": {},
   "outputs": [
    {
     "data": {
      "text/plain": [
       "'ABC was born in DDD'"
      ]
     },
     "execution_count": 23,
     "metadata": {},
     "output_type": "execute_result"
    }
   ],
   "source": [
    "'{name} was born in {country}'.format(name=\"ABC\", country=\"DDD\")"
   ]
  },
  {
   "cell_type": "code",
   "execution_count": 24,
   "id": "worth-feelings",
   "metadata": {},
   "outputs": [
    {
     "name": "stdout",
     "output_type": "stream",
     "text": [
      "Python has 002 quote types.\n"
     ]
    }
   ],
   "source": [
    "print('%(language)s has %(number)03d quote types.' %\n",
    "      {'language': \"Python\", \"number\": 2})"
   ]
  },
  {
   "cell_type": "markdown",
   "id": "spare-causing",
   "metadata": {},
   "source": [
    "### * str.isdecimal()\n",
    " - int형으로 캐스팅 할 수 있는지 확인"
   ]
  },
  {
   "cell_type": "code",
   "execution_count": 22,
   "id": "portable-trigger",
   "metadata": {},
   "outputs": [
    {
     "name": "stdout",
     "output_type": "stream",
     "text": [
      "True\n",
      "False\n"
     ]
    }
   ],
   "source": [
    "word=\"123\"\n",
    "print(word.isdecimal())\n",
    "\n",
    "word=\"안녕\"\n",
    "print(word.isdecimal())"
   ]
  },
  {
   "cell_type": "markdown",
   "id": "bibliographic-nursing",
   "metadata": {},
   "source": [
    "### * str.find(sub[,start[,end]])\n",
    " - index()를 사용하면 부분 문자열을 찾을 수 없는 경우 ValueError을 일으킬 수 있습니다."
   ]
  },
  {
   "cell_type": "code",
   "execution_count": 23,
   "id": "simplified-fisher",
   "metadata": {},
   "outputs": [
    {
     "data": {
      "text/plain": [
       "7"
      ]
     },
     "execution_count": 23,
     "metadata": {},
     "output_type": "execute_result"
    }
   ],
   "source": [
    "\"Python is awesome programming langauge\".find(\"is\")"
   ]
  },
  {
   "cell_type": "markdown",
   "id": "crazy-badge",
   "metadata": {},
   "source": [
    "### * str.replace(old, new[, count])\n",
    " - 모든 부분 문자열 old 가 new 로 치환된 문자열의 복사본을 돌려줍니다. \n",
    " - 선택적 인자 count 가 주어지면, 앞의 count 개만 치환됩니다."
   ]
  },
  {
   "cell_type": "code",
   "execution_count": 24,
   "id": "conventional-interface",
   "metadata": {},
   "outputs": [
    {
     "data": {
      "text/plain": [
       "'newWord newWord newWord newWord newWord newWord'"
      ]
     },
     "execution_count": 24,
     "metadata": {},
     "output_type": "execute_result"
    }
   ],
   "source": [
    "\"oldWord oldWord oldWord oldWord oldWord oldWord\".replace(\"oldWord\", \"newWord\")"
   ]
  },
  {
   "cell_type": "code",
   "execution_count": 26,
   "id": "creative-horror",
   "metadata": {},
   "outputs": [
    {
     "data": {
      "text/plain": [
       "'newWord newWord oldWord oldWord oldWord oldWord'"
      ]
     },
     "execution_count": 26,
     "metadata": {},
     "output_type": "execute_result"
    }
   ],
   "source": [
    "\"oldWord oldWord oldWord oldWord oldWord oldWord\".replace(\"oldWord\", \"newWord\", 2)"
   ]
  },
  {
   "cell_type": "markdown",
   "id": "latest-metadata",
   "metadata": {},
   "source": [
    "### * str.join(iterable)"
   ]
  },
  {
   "cell_type": "code",
   "execution_count": 31,
   "id": "frozen-stuart",
   "metadata": {},
   "outputs": [
    {
     "data": {
      "text/plain": [
       "'python : java : JS : go : processing : C#'"
      ]
     },
     "execution_count": 31,
     "metadata": {},
     "output_type": "execute_result"
    }
   ],
   "source": [
    "\" : \".join([\"python\", \"java\", \"JS\", \"go\", \"processing\",\"C#\"])"
   ]
  },
  {
   "cell_type": "code",
   "execution_count": 30,
   "id": "concerned-wilderness",
   "metadata": {},
   "outputs": [
    {
     "data": {
      "text/plain": [
       "True"
      ]
     },
     "execution_count": 30,
     "metadata": {},
     "output_type": "execute_result"
    }
   ],
   "source": [
    "\"123\".isalnum()"
   ]
  },
  {
   "cell_type": "markdown",
   "id": "entertaining-morris",
   "metadata": {},
   "source": [
    "### * str.strip([chars])\n",
    "#### str.lstrip([chars])\n",
    "#### str.rstrip([chars]) \n",
    "\n",
    " - 선행 문자가 제거된 문자열의 복사본을 돌려줍니다.\n",
    " - chars 인자는 제거할 문자 집합을 지정하는 문자열입니다. \n",
    " - 생략되거나 None 이라면, chars 인자의 기본값은 공백을 제거하도록 합니다. chars 인자는 접두사가 아닙니다;"
   ]
  },
  {
   "cell_type": "code",
   "execution_count": 34,
   "id": "endangered-tamil",
   "metadata": {},
   "outputs": [
    {
     "data": {
      "text/plain": [
       "'---Hello---'"
      ]
     },
     "execution_count": 34,
     "metadata": {},
     "output_type": "execute_result"
    }
   ],
   "source": [
    "' ---Hello--- '.strip()"
   ]
  },
  {
   "cell_type": "code",
   "execution_count": 33,
   "id": "occasional-inflation",
   "metadata": {},
   "outputs": [
    {
     "data": {
      "text/plain": [
       "'Hello'"
      ]
     },
     "execution_count": 33,
     "metadata": {},
     "output_type": "execute_result"
    }
   ],
   "source": [
    "' ---Hello--- '.strip().strip('---')"
   ]
  },
  {
   "cell_type": "code",
   "execution_count": 26,
   "id": "international-organization",
   "metadata": {},
   "outputs": [
    {
     "data": {
      "text/plain": [
       "'spacious   '"
      ]
     },
     "execution_count": 26,
     "metadata": {},
     "output_type": "execute_result"
    }
   ],
   "source": [
    "'   spacious   '.lstrip()"
   ]
  },
  {
   "cell_type": "code",
   "execution_count": 36,
   "id": "armed-conference",
   "metadata": {},
   "outputs": [
    {
     "data": {
      "text/plain": [
       "'example'"
      ]
     },
     "execution_count": 36,
     "metadata": {},
     "output_type": "execute_result"
    }
   ],
   "source": [
    "'www.example.com'.lstrip('www.').rstrip('.com')"
   ]
  },
  {
   "cell_type": "markdown",
   "id": "presidential-adams",
   "metadata": {},
   "source": [
    "### * str.split(sep=None, maxsplit=-1)\n",
    " - sep 를 구분자 문자열로 사용하여 문자열에 있는 단어들의 `리스트`를 돌려줍니다. \n",
    " - maxsplit 이 주어지면 최대 maxsplit 번의 분할이 수행됩니다 (따라서, 리스트는 최대 maxsplit+1 개의 요소를 가지게 됩니다)\n",
    " - maxsplit 이 지정되지 않았거나 -1 이라면 분할 수에 제한이 없습니다"
   ]
  },
  {
   "cell_type": "code",
   "execution_count": 28,
   "id": "piano-costa",
   "metadata": {},
   "outputs": [
    {
     "data": {
      "text/plain": [
       "['1', '2', '3']"
      ]
     },
     "execution_count": 28,
     "metadata": {},
     "output_type": "execute_result"
    }
   ],
   "source": [
    "'1,2,3'.split(',')"
   ]
  },
  {
   "cell_type": "code",
   "execution_count": 29,
   "id": "pleased-hospital",
   "metadata": {},
   "outputs": [
    {
     "data": {
      "text/plain": [
       "['1', '2,3']"
      ]
     },
     "execution_count": 29,
     "metadata": {},
     "output_type": "execute_result"
    }
   ],
   "source": [
    "'1,2,3'.split(',', maxsplit=1)"
   ]
  },
  {
   "cell_type": "markdown",
   "id": "quality-edwards",
   "metadata": {},
   "source": [
    "## - 문자 포맷팅"
   ]
  },
  {
   "cell_type": "code",
   "execution_count": 30,
   "id": "nearby-ethernet",
   "metadata": {},
   "outputs": [
    {
     "data": {
      "text/plain": [
       "'Coordinates: 37.24N, -115.81W'"
      ]
     },
     "execution_count": 30,
     "metadata": {},
     "output_type": "execute_result"
    }
   ],
   "source": [
    "coord = {'latitude': '37.24N', 'longitude': '-115.81W'}\n",
    "'Coordinates: {latitude}, {longitude}'.format(**coord)"
   ]
  },
  {
   "cell_type": "code",
   "execution_count": 31,
   "id": "operational-heater",
   "metadata": {},
   "outputs": [
    {
     "data": {
      "text/plain": [
       "'X: 3;  Y: 5'"
      ]
     },
     "execution_count": 31,
     "metadata": {},
     "output_type": "execute_result"
    }
   ],
   "source": [
    "coord = (3, 5)\n",
    "'X: {0[0]};  Y: {0[1]}'.format(coord)"
   ]
  },
  {
   "cell_type": "code",
   "execution_count": 38,
   "id": "dried-working",
   "metadata": {},
   "outputs": [
    {
     "name": "stdout",
     "output_type": "stream",
     "text": [
      "repr() shows quotes: 'test1'; str() doesn't: test2\n"
     ]
    }
   ],
   "source": [
    "word = \"repr() shows quotes: {!r}; str() doesn't: {!s}\".format('test1', 'test2')\n",
    "print(word)"
   ]
  },
  {
   "cell_type": "code",
   "execution_count": 39,
   "id": "impressed-senator",
   "metadata": {},
   "outputs": [
    {
     "name": "stdout",
     "output_type": "stream",
     "text": [
      "repr() shows quotes: test1; str() doesn't: test2\n"
     ]
    }
   ],
   "source": [
    "word = \"repr() shows quotes: {}; str() doesn't: {}\".format('test1', 'test2')\n",
    "print(word)"
   ]
  },
  {
   "cell_type": "code",
   "execution_count": 33,
   "id": "indoor-worth",
   "metadata": {},
   "outputs": [
    {
     "data": {
      "text/plain": [
       "'left aligned                  '"
      ]
     },
     "execution_count": 33,
     "metadata": {},
     "output_type": "execute_result"
    }
   ],
   "source": [
    "'{:<30}'.format('left aligned')"
   ]
  },
  {
   "cell_type": "code",
   "execution_count": 34,
   "id": "focal-trial",
   "metadata": {},
   "outputs": [
    {
     "data": {
      "text/plain": [
       "'                 right aligned'"
      ]
     },
     "execution_count": 34,
     "metadata": {},
     "output_type": "execute_result"
    }
   ],
   "source": [
    "'{:>30}'.format('right aligned')"
   ]
  },
  {
   "cell_type": "code",
   "execution_count": 35,
   "id": "inappropriate-graham",
   "metadata": {},
   "outputs": [
    {
     "data": {
      "text/plain": [
       "'           centered           '"
      ]
     },
     "execution_count": 35,
     "metadata": {},
     "output_type": "execute_result"
    }
   ],
   "source": [
    "'{:^30}'.format('centered')"
   ]
  },
  {
   "cell_type": "code",
   "execution_count": 36,
   "id": "major-coverage",
   "metadata": {},
   "outputs": [
    {
     "data": {
      "text/plain": [
       "'***********centered***********'"
      ]
     },
     "execution_count": 36,
     "metadata": {},
     "output_type": "execute_result"
    }
   ],
   "source": [
    "'{:*^30}'.format('centered')  # use '*' as a fill char"
   ]
  },
  {
   "cell_type": "code",
   "execution_count": 37,
   "id": "governmental-transaction",
   "metadata": {},
   "outputs": [
    {
     "data": {
      "text/plain": [
       "'1,234,567,890'"
      ]
     },
     "execution_count": 37,
     "metadata": {},
     "output_type": "execute_result"
    }
   ],
   "source": [
    "'{:,}'.format(1234567890)"
   ]
  },
  {
   "cell_type": "code",
   "execution_count": 38,
   "id": "welsh-congo",
   "metadata": {},
   "outputs": [
    {
     "data": {
      "text/plain": [
       "'Correct answers: 86.36%'"
      ]
     },
     "execution_count": 38,
     "metadata": {},
     "output_type": "execute_result"
    }
   ],
   "source": [
    "points = 19\n",
    "total = 22\n",
    "'Correct answers: {:.2%}'.format(points/total)"
   ]
  },
  {
   "cell_type": "code",
   "execution_count": 128,
   "id": "actual-electron",
   "metadata": {},
   "outputs": [
    {
     "data": {
      "text/plain": [
       "' 42572654 YES votes  49.67%'"
      ]
     },
     "execution_count": 128,
     "metadata": {},
     "output_type": "execute_result"
    }
   ],
   "source": [
    "yes_votes = 42_572_654\n",
    "no_votes = 43_132_495\n",
    "percentage = yes_votes / (yes_votes + no_votes)\n",
    "'{:-9} YES votes  {:2.2%}'.format(yes_votes, percentage)"
   ]
  },
  {
   "cell_type": "code",
   "execution_count": 129,
   "id": "informed-summit",
   "metadata": {},
   "outputs": [
    {
     "name": "stdout",
     "output_type": "stream",
     "text": [
      "Sjoerd     ==>       4127\n",
      "Jack       ==>       4098\n",
      "Dcab       ==>       7678\n"
     ]
    }
   ],
   "source": [
    "table = {'Sjoerd': 4127, 'Jack': 4098, 'Dcab': 7678}\n",
    "for name, phone in table.items():\n",
    "    print(f'{name:10} ==> {phone:10d}')"
   ]
  },
  {
   "cell_type": "code",
   "execution_count": 130,
   "id": "individual-debate",
   "metadata": {},
   "outputs": [
    {
     "name": "stdout",
     "output_type": "stream",
     "text": [
      "Jack: 4098; Sjoerd: 4127; Dcab: 8637678\n"
     ]
    }
   ],
   "source": [
    "table = {'Sjoerd': 4127, 'Jack': 4098, 'Dcab': 8637678}\n",
    "print('Jack: {Jack:d}; Sjoerd: {Sjoerd:d}; Dcab: {Dcab:d}'.format(**table))"
   ]
  },
  {
   "cell_type": "code",
   "execution_count": 126,
   "id": "differential-metropolitan",
   "metadata": {},
   "outputs": [
    {
     "data": {
      "text/plain": [
       "'Results of the 2016 Hackerton'"
      ]
     },
     "execution_count": 126,
     "metadata": {},
     "output_type": "execute_result"
    }
   ],
   "source": [
    "year, event = 2016, 'Hackerton'\n",
    "f'Results of the {year} {event}'"
   ]
  },
  {
   "cell_type": "code",
   "execution_count": 127,
   "id": "logical-geneva",
   "metadata": {},
   "outputs": [
    {
     "data": {
      "text/plain": [
       "1000000"
      ]
     },
     "execution_count": 127,
     "metadata": {},
     "output_type": "execute_result"
    }
   ],
   "source": [
    "number_format = 1_000_000\n",
    "number_format"
   ]
  },
  {
   "cell_type": "code",
   "execution_count": 39,
   "id": "configured-feature",
   "metadata": {},
   "outputs": [
    {
     "name": "stdout",
     "output_type": "stream",
     "text": [
      "2010-07-04 12:15:58\n",
      "<class 'datetime.datetime'>\n",
      "2010-07-04 12:15:58\n",
      "<class 'str'>\n"
     ]
    }
   ],
   "source": [
    "import datetime\n",
    "d = datetime.datetime(2010, 7, 4, 12, 15, 58)\n",
    "print(d)\n",
    "print(type(d)) # 객체 자료형보기\n",
    "result = '{:%Y-%m-%d %H:%M:%S}'.format(d)\n",
    "print(result)\n",
    "print(type(result))"
   ]
  },
  {
   "cell_type": "markdown",
   "id": "composite-mustang",
   "metadata": {},
   "source": [
    "<br>\n",
    "<br>\n",
    "<br>\n",
    "<br>\n",
    "<br>\n",
    "<br>\n",
    "<hr>\n",
    "<br>\n",
    "<br>\n",
    "<br>\n",
    "<br>\n",
    "<br>\n",
    "<br>"
   ]
  },
  {
   "cell_type": "markdown",
   "id": "dental-cream",
   "metadata": {},
   "source": [
    "# 12. 클래스"
   ]
  },
  {
   "cell_type": "markdown",
   "id": "naughty-blond",
   "metadata": {},
   "source": [
    "## - 클래스 선언과 사용"
   ]
  },
  {
   "cell_type": "code",
   "execution_count": 73,
   "id": "seasonal-venice",
   "metadata": {},
   "outputs": [],
   "source": [
    "class Dog:\n",
    "    \"\"\"This Class is Dog\"\"\"\n",
    "    dogName = None\n",
    "    \n",
    "    def __init__(self, dogName): # 객체가 만들어질 떄 반드시 실행되는 메서드\n",
    "        self.dogName = dogName\n",
    "    \n",
    "    def barking(self):\n",
    "        print(\"멍멍!\")\n",
    "        \n",
    "    def microchip_info(self):\n",
    "        print(\"본 강아지의 이름은 {}입니다.\".format(self.dogName))"
   ]
  },
  {
   "cell_type": "code",
   "execution_count": 74,
   "id": "raising-vessel",
   "metadata": {},
   "outputs": [
    {
     "name": "stdout",
     "output_type": "stream",
     "text": [
      "멍멍!\n",
      "본 강아지의 이름은 쿠키입니다.\n",
      "This Class is Dog\n"
     ]
    }
   ],
   "source": [
    "myDog = Dog(\"쿠키\")\n",
    "myDog.barking();\n",
    "myDog.microchip_info()\n",
    "print(myDog.__doc__)"
   ]
  },
  {
   "cell_type": "markdown",
   "id": "exact-direction",
   "metadata": {},
   "source": [
    " - this의 역할을 하는 첫번째 인자 self의 이름은 관례이고 파이썬에서 아무런 특별한 의미를 갖지 않는다."
   ]
  },
  {
   "cell_type": "code",
   "execution_count": 77,
   "id": "persistent-third",
   "metadata": {},
   "outputs": [],
   "source": [
    "class Dog:\n",
    "    \"\"\"This Class is Dog\"\"\"\n",
    "    dogName = None\n",
    "    \n",
    "    def __init__(this, dogName): # 객체가 만들어질 떄 반드시 실행되는 메서드\n",
    "        this.dogName = dogName\n",
    "    \n",
    "    def barking(this):\n",
    "        print(\"멍멍!\")\n",
    "        \n",
    "    def microchip_info(this):\n",
    "        print(\"본 강아지의 이름은 {}입니다.\".format(this.dogName))"
   ]
  },
  {
   "cell_type": "code",
   "execution_count": 78,
   "id": "bizarre-regular",
   "metadata": {},
   "outputs": [
    {
     "name": "stdout",
     "output_type": "stream",
     "text": [
      "멍멍!\n",
      "본 강아지의 이름은 쿠키입니다.\n",
      "This Class is Dog\n"
     ]
    }
   ],
   "source": [
    "myDog = Dog(\"쿠키\")\n",
    "myDog.barking();\n",
    "myDog.microchip_info()\n",
    "print(myDog.__doc__)"
   ]
  },
  {
   "cell_type": "markdown",
   "id": "artistic-grenada",
   "metadata": {},
   "source": [
    "### * 속성 추가하기/지우기"
   ]
  },
  {
   "cell_type": "code",
   "execution_count": 79,
   "id": "federal-politics",
   "metadata": {},
   "outputs": [],
   "source": [
    "myDog.sleeping = lambda : print(\"쿨쿨~~\")"
   ]
  },
  {
   "cell_type": "code",
   "execution_count": 80,
   "id": "contemporary-emergency",
   "metadata": {},
   "outputs": [
    {
     "name": "stdout",
     "output_type": "stream",
     "text": [
      "쿨쿨~~\n"
     ]
    }
   ],
   "source": [
    "myDog.sleeping()"
   ]
  },
  {
   "cell_type": "code",
   "execution_count": 81,
   "id": "dominican-gateway",
   "metadata": {},
   "outputs": [
    {
     "ename": "AttributeError",
     "evalue": "'Dog' object has no attribute 'sleeping'",
     "output_type": "error",
     "traceback": [
      "\u001b[1;31m---------------------------------------------------------------------------\u001b[0m",
      "\u001b[1;31mAttributeError\u001b[0m                            Traceback (most recent call last)",
      "\u001b[1;32m<ipython-input-81-4923434c8a70>\u001b[0m in \u001b[0;36m<module>\u001b[1;34m\u001b[0m\n\u001b[0;32m      1\u001b[0m \u001b[1;32mdel\u001b[0m \u001b[0mmyDog\u001b[0m\u001b[1;33m.\u001b[0m\u001b[0msleeping\u001b[0m\u001b[1;33m\u001b[0m\u001b[1;33m\u001b[0m\u001b[0m\n\u001b[1;32m----> 2\u001b[1;33m \u001b[0mmyDog\u001b[0m\u001b[1;33m.\u001b[0m\u001b[0msleeping\u001b[0m\u001b[1;33m(\u001b[0m\u001b[1;33m)\u001b[0m\u001b[1;33m\u001b[0m\u001b[1;33m\u001b[0m\u001b[0m\n\u001b[0m",
      "\u001b[1;31mAttributeError\u001b[0m: 'Dog' object has no attribute 'sleeping'"
     ]
    }
   ],
   "source": [
    "del myDog.sleeping\n",
    "myDog.sleeping()"
   ]
  },
  {
   "cell_type": "markdown",
   "id": "interesting-ethernet",
   "metadata": {},
   "source": [
    "### * 속성을 다룰 때 주의해야할 점"
   ]
  },
  {
   "cell_type": "markdown",
   "id": "later-african",
   "metadata": {},
   "source": [
    "리스트나 딕셔너리와 같은 가변 객체가 공유 속성(Attribute)으로 취급될 때 다음과 같은 문제가 발생할 수 있다."
   ]
  },
  {
   "cell_type": "code",
   "execution_count": 61,
   "id": "altered-toilet",
   "metadata": {},
   "outputs": [],
   "source": [
    "class Dog:\n",
    "    tricks = []\n",
    "    \n",
    "    def __init__(self, name):\n",
    "        self.name = name\n",
    "        \n",
    "    def add_trick(self, trick):\n",
    "        self.tricks.append(trick)\n",
    "        \n",
    "d = Dog('Fido')\n",
    "e = Dog('Buddy')\n",
    "d.add_trick('roll over')\n",
    "e.add_trick('play dead')"
   ]
  },
  {
   "cell_type": "code",
   "execution_count": 63,
   "id": "physical-mercury",
   "metadata": {},
   "outputs": [
    {
     "data": {
      "text/plain": [
       "['roll over', 'play dead']"
      ]
     },
     "execution_count": 63,
     "metadata": {},
     "output_type": "execute_result"
    }
   ],
   "source": [
    "d.tricks"
   ]
  },
  {
   "cell_type": "code",
   "execution_count": 65,
   "id": "optical-ontario",
   "metadata": {},
   "outputs": [
    {
     "data": {
      "text/plain": [
       "['roll over', 'play dead']"
      ]
     },
     "execution_count": 65,
     "metadata": {},
     "output_type": "execute_result"
    }
   ],
   "source": [
    "e.tricks"
   ]
  },
  {
   "cell_type": "markdown",
   "id": "basic-banks",
   "metadata": {},
   "source": [
    " - 다음과 같이 해결하자"
   ]
  },
  {
   "cell_type": "code",
   "execution_count": 66,
   "id": "accepted-nebraska",
   "metadata": {},
   "outputs": [],
   "source": [
    "class Dog:\n",
    "\n",
    "    def __init__(self, name):\n",
    "        self.name = name\n",
    "        self.tricks = []    # creates a new empty list for each dog\n",
    "\n",
    "    def add_trick(self, trick):\n",
    "        self.tricks.append(trick)"
   ]
  },
  {
   "cell_type": "code",
   "execution_count": 67,
   "id": "incorporated-indicator",
   "metadata": {},
   "outputs": [
    {
     "name": "stdout",
     "output_type": "stream",
     "text": [
      "['roll over']\n",
      "['play dead']\n"
     ]
    }
   ],
   "source": [
    "d = Dog('Fido')\n",
    "e = Dog('Buddy')\n",
    "d.add_trick('roll over')\n",
    "e.add_trick('play dead')\n",
    "print(d.tricks)\n",
    "print(e.tricks)"
   ]
  },
  {
   "cell_type": "markdown",
   "id": "nutritional-grace",
   "metadata": {},
   "source": [
    "인스턴스와 클래스 모두에서 같은 속성 이름이 등장하면, 속성 조회는 인스턴스를 우선한다."
   ]
  },
  {
   "cell_type": "code",
   "execution_count": 68,
   "id": "amended-council",
   "metadata": {},
   "outputs": [
    {
     "name": "stdout",
     "output_type": "stream",
     "text": [
      "storage west\n",
      "storage east\n"
     ]
    }
   ],
   "source": [
    "class Warehouse:\n",
    "    purpose = 'storage'\n",
    "    region = 'west'\n",
    "\n",
    "w1 = Warehouse()\n",
    "print(w1.purpose, w1.region)\n",
    "w2 = Warehouse()\n",
    "w2.region = 'east'\n",
    "print(w2.purpose, w2.region)"
   ]
  },
  {
   "cell_type": "markdown",
   "id": "laughing-allowance",
   "metadata": {},
   "source": [
    "### * getter/setter로 속성 제어"
   ]
  },
  {
   "cell_type": "markdown",
   "id": "humanitarian-membership",
   "metadata": {},
   "source": [
    "아래와 같이 getter/setter를 작성해도 좋지만 속성이 은닉이 되지 않아서 속성을 보호하지 못한다"
   ]
  },
  {
   "cell_type": "code",
   "execution_count": 96,
   "id": "athletic-crowd",
   "metadata": {},
   "outputs": [],
   "source": [
    "class Cat:\n",
    "    def __init__(self, name):\n",
    "        self.name = name\n",
    "    \n",
    "    def getname(self):\n",
    "        return self.name\n",
    "    \n",
    "    def setname(self, name):\n",
    "        self.name = name"
   ]
  },
  {
   "cell_type": "code",
   "execution_count": 97,
   "id": "proved-composite",
   "metadata": {},
   "outputs": [
    {
     "name": "stdout",
     "output_type": "stream",
     "text": [
      "냥냥이\n",
      "냐옹이\n"
     ]
    }
   ],
   "source": [
    "bobby = Cat(\"냥냥이\")\n",
    "print(bobby.getname())\n",
    "bobby.setname(\"냐옹이\")\n",
    "print(bobby.name) # 속성이 보호되지 않는다."
   ]
  },
  {
   "cell_type": "markdown",
   "id": "included-fellowship",
   "metadata": {},
   "source": [
    "### * decorator를 사용한 getter/setter 속성 제어"
   ]
  },
  {
   "cell_type": "markdown",
   "id": "played-portal",
   "metadata": {},
   "source": [
    "아래와 같은 방식으로 은닉을 할 수 있다"
   ]
  },
  {
   "cell_type": "code",
   "execution_count": 1,
   "id": "collectible-rhythm",
   "metadata": {},
   "outputs": [],
   "source": [
    "class Cat:\n",
    "    def __init__(self, name):\n",
    "        self._name = name\n",
    "        \n",
    "    @property\n",
    "    def name(self):\n",
    "        return self._name\n",
    "    \n",
    "    @name.setter\n",
    "    def name(self, name):\n",
    "        self._name = name"
   ]
  },
  {
   "cell_type": "code",
   "execution_count": 2,
   "id": "rental-transcription",
   "metadata": {},
   "outputs": [
    {
     "name": "stdout",
     "output_type": "stream",
     "text": [
      "냥냥이\n"
     ]
    }
   ],
   "source": [
    "bobby = Cat(\"냥냥이\")\n",
    "print(bobby.name)"
   ]
  },
  {
   "cell_type": "code",
   "execution_count": 3,
   "id": "rolled-accused",
   "metadata": {},
   "outputs": [
    {
     "name": "stdout",
     "output_type": "stream",
     "text": [
      "냐옹이\n"
     ]
    }
   ],
   "source": [
    "bobby.name = \"냐옹이\"\n",
    "print(bobby.name)"
   ]
  },
  {
   "cell_type": "code",
   "execution_count": 4,
   "id": "ultimate-electron",
   "metadata": {},
   "outputs": [],
   "source": [
    "class Cat:\n",
    "    def __init__(self, name):\n",
    "        self._name = name\n",
    "        \n",
    "    @property\n",
    "    def name(self):\n",
    "        return self._name"
   ]
  },
  {
   "cell_type": "code",
   "execution_count": 5,
   "id": "destroyed-portugal",
   "metadata": {},
   "outputs": [
    {
     "name": "stdout",
     "output_type": "stream",
     "text": [
      "냥냥이\n"
     ]
    }
   ],
   "source": [
    "bobby = Cat(\"냥냥이\")\n",
    "print(bobby.name)"
   ]
  },
  {
   "cell_type": "code",
   "execution_count": 6,
   "id": "standard-noise",
   "metadata": {},
   "outputs": [
    {
     "ename": "AttributeError",
     "evalue": "can't set attribute",
     "output_type": "error",
     "traceback": [
      "\u001b[1;31m---------------------------------------------------------------------------\u001b[0m",
      "\u001b[1;31mAttributeError\u001b[0m                            Traceback (most recent call last)",
      "\u001b[1;32m<ipython-input-6-3e9062ce67a8>\u001b[0m in \u001b[0;36m<module>\u001b[1;34m\u001b[0m\n\u001b[1;32m----> 1\u001b[1;33m \u001b[0mbobby\u001b[0m\u001b[1;33m.\u001b[0m\u001b[0mname\u001b[0m \u001b[1;33m=\u001b[0m \u001b[1;34m\"냐옹이\"\u001b[0m\u001b[1;33m\u001b[0m\u001b[1;33m\u001b[0m\u001b[0m\n\u001b[0m",
      "\u001b[1;31mAttributeError\u001b[0m: can't set attribute"
     ]
    }
   ],
   "source": [
    "bobby.name = \"냐옹이\""
   ]
  },
  {
   "cell_type": "markdown",
   "id": "entitled-white",
   "metadata": {},
   "source": [
    "### * 정적 메소드와 클래스 메소드"
   ]
  },
  {
   "cell_type": "markdown",
   "id": "turkish-pennsylvania",
   "metadata": {},
   "source": [
    "정적 메소드 `@staticmethod`와 클래스 메소드 `@classmethod` 모두 인스턴스를 생성하지 않아도 호출할 수 있다. 차이점은 파라미터의 차이."
   ]
  },
  {
   "cell_type": "code",
   "execution_count": 77,
   "id": "opened-roads",
   "metadata": {},
   "outputs": [],
   "source": [
    "class Encoding:\n",
    "    \n",
    "    salt = 2.1442\n",
    "    \n",
    "    @staticmethod\n",
    "    def digest(data):\n",
    "        return len(data) * Encoding.salt"
   ]
  },
  {
   "cell_type": "code",
   "execution_count": 78,
   "id": "artistic-groove",
   "metadata": {},
   "outputs": [
    {
     "name": "stdout",
     "output_type": "stream",
     "text": [
      "10.721\n"
     ]
    }
   ],
   "source": [
    "print(Encoding.digest(\"안녕하세요\"))"
   ]
  },
  {
   "cell_type": "code",
   "execution_count": 21,
   "id": "quick-outreach",
   "metadata": {},
   "outputs": [],
   "source": [
    "class Encoding:\n",
    "    \n",
    "    salt = 2.1442\n",
    "    \n",
    "    @classmethod\n",
    "    def digest(cls, data):\n",
    "        return len(data) * cls.salt"
   ]
  },
  {
   "cell_type": "code",
   "execution_count": 22,
   "id": "changed-redhead",
   "metadata": {},
   "outputs": [
    {
     "name": "stdout",
     "output_type": "stream",
     "text": [
      "10.721\n"
     ]
    }
   ],
   "source": [
    "print(Encoding.digest(\"안녕하세요\"))"
   ]
  },
  {
   "cell_type": "markdown",
   "id": "relevant-wagon",
   "metadata": {},
   "source": [
    "## - 상속"
   ]
  },
  {
   "cell_type": "markdown",
   "id": "organized-harrison",
   "metadata": {},
   "source": [
    "### * 기본적인 상속 방법"
   ]
  },
  {
   "cell_type": "code",
   "execution_count": 20,
   "id": "eastern-missile",
   "metadata": {},
   "outputs": [],
   "source": [
    "class Animal:\n",
    "    def __init__(self, name):\n",
    "        self._name = name\n",
    "        \n",
    "    @property\n",
    "    def name(self):\n",
    "        return self._name\n",
    "\n",
    "class Cat(Animal):\n",
    "    def __init__(self, name, age):\n",
    "        super().__init__(name) # 부모클래스\n",
    "        self._age = age\n",
    "    \n",
    "    @property\n",
    "    def age(self):\n",
    "        return self._age\n",
    "    \n",
    "    @age.setter\n",
    "    def age(self, age):\n",
    "        self._age = age"
   ]
  },
  {
   "cell_type": "code",
   "execution_count": 23,
   "id": "radical-bullet",
   "metadata": {},
   "outputs": [
    {
     "name": "stdout",
     "output_type": "stream",
     "text": [
      "키티\n",
      "5\n"
     ]
    },
    {
     "ename": "AttributeError",
     "evalue": "can't set attribute",
     "output_type": "error",
     "traceback": [
      "\u001b[1;31m---------------------------------------------------------------------------\u001b[0m",
      "\u001b[1;31mAttributeError\u001b[0m                            Traceback (most recent call last)",
      "\u001b[1;32m<ipython-input-23-0b44ae22d879>\u001b[0m in \u001b[0;36m<module>\u001b[1;34m\u001b[0m\n\u001b[0;32m      3\u001b[0m \u001b[0mprint\u001b[0m\u001b[1;33m(\u001b[0m\u001b[0mkitty\u001b[0m\u001b[1;33m.\u001b[0m\u001b[0mage\u001b[0m\u001b[1;33m)\u001b[0m\u001b[1;33m\u001b[0m\u001b[1;33m\u001b[0m\u001b[0m\n\u001b[0;32m      4\u001b[0m \u001b[0mkitty\u001b[0m\u001b[1;33m.\u001b[0m\u001b[0mage\u001b[0m \u001b[1;33m=\u001b[0m \u001b[1;36m10\u001b[0m\u001b[1;33m\u001b[0m\u001b[1;33m\u001b[0m\u001b[0m\n\u001b[1;32m----> 5\u001b[1;33m \u001b[0mkitty\u001b[0m\u001b[1;33m.\u001b[0m\u001b[0mname\u001b[0m \u001b[1;33m=\u001b[0m \u001b[1;34m\"끼티\"\u001b[0m\u001b[1;33m\u001b[0m\u001b[1;33m\u001b[0m\u001b[0m\n\u001b[0m",
      "\u001b[1;31mAttributeError\u001b[0m: can't set attribute"
     ]
    }
   ],
   "source": [
    "kitty = Cat(\"키티\", 5)\n",
    "print(kitty.name)\n",
    "print(kitty.age)\n",
    "kitty.age = 10\n",
    "kitty.name = \"끼티\""
   ]
  },
  {
   "cell_type": "markdown",
   "id": "reliable-columbus",
   "metadata": {},
   "source": [
    "### * 오버라이딩\n",
    "\n",
    "왼쪽부터 오른쪽 순서로 자식 계층이 이루어져서 오버라이딩이 된다."
   ]
  },
  {
   "cell_type": "code",
   "execution_count": 26,
   "id": "clean-insert",
   "metadata": {
    "tags": []
   },
   "outputs": [],
   "source": [
    "class Base1:\n",
    "    attr = \"Base1\"\n",
    "    \n",
    "    def func(self):\n",
    "        print(\"Base1 Function\")\n",
    "\n",
    "class Base2:\n",
    "    \n",
    "    attr = \"Base2\"\n",
    "    \n",
    "    def func(self):\n",
    "        print(\"Base2 Function\")\n",
    "    \n",
    "    def func2(self):\n",
    "        print(\"Base2 Function\")\n",
    "        \n",
    "        \n",
    "class Base3:\n",
    "    attr = \"Base3\"\n",
    "    \n",
    "    def func(self):\n",
    "        print(\"Base3 Function\")\n",
    "        \n",
    "    def func2(self):\n",
    "        print(\"Base3 Function\")\n",
    "        \n",
    "    def func3(self):\n",
    "        print(\"Base3 Function\")\n",
    "        \n",
    "class DerivedClassName(Base1, Base2, Base3):\n",
    "    attr = \"child\"\n"
   ]
  },
  {
   "cell_type": "code",
   "execution_count": 27,
   "id": "solved-substance",
   "metadata": {},
   "outputs": [
    {
     "name": "stdout",
     "output_type": "stream",
     "text": [
      "Base1 Function\n",
      "Base2 Function\n",
      "Base3 Function\n",
      "child\n"
     ]
    }
   ],
   "source": [
    "x = DerivedClassName()\n",
    "x.func()\n",
    "x.func2()\n",
    "x.func3()\n",
    "print(x.attr)"
   ]
  },
  {
   "cell_type": "markdown",
   "id": "paperback-doctor",
   "metadata": {},
   "source": [
    "### * 추상 메서드"
   ]
  },
  {
   "cell_type": "code",
   "execution_count": 85,
   "id": "civic-nature",
   "metadata": {},
   "outputs": [],
   "source": [
    "class Computer:\n",
    "    def __init__(self):\n",
    "        self.isOn = False\n",
    "    \n",
    "    def osname(self):\n",
    "        pass\n",
    "    \n",
    "    def power(self):\n",
    "        self.isOn = not self.isOn\n",
    "        print(\"컴퓨터가 켜졌습니다\" if self.isOn else \"컴퓨터가 꺼졌습니다\")\n",
    "        \n",
    "class WindowComputer(Computer):\n",
    "    pass"
   ]
  },
  {
   "cell_type": "code",
   "execution_count": 86,
   "id": "continuous-arthur",
   "metadata": {},
   "outputs": [],
   "source": [
    "mycomp = WindowComputer()"
   ]
  },
  {
   "cell_type": "code",
   "execution_count": 87,
   "id": "physical-politics",
   "metadata": {},
   "outputs": [
    {
     "name": "stdout",
     "output_type": "stream",
     "text": [
      "컴퓨터가 켜졌습니다\n",
      "컴퓨터가 꺼졌습니다\n",
      "컴퓨터가 켜졌습니다\n"
     ]
    }
   ],
   "source": [
    "mycomp.power()\n",
    "mycomp.power()\n",
    "mycomp.power()"
   ]
  },
  {
   "cell_type": "markdown",
   "id": "weekly-lancaster",
   "metadata": {},
   "source": [
    " - 위 클래스에서 osname이 구현되지 않았는데 제대로 실행이 되어버린다. 그리고 구현되지 않은 함수를 사용해도 아무런 제약이 없다."
   ]
  },
  {
   "cell_type": "code",
   "execution_count": 92,
   "id": "extraordinary-fundamental",
   "metadata": {},
   "outputs": [],
   "source": [
    "mycomp.osname()"
   ]
  },
  {
   "cell_type": "markdown",
   "id": "elect-proposal",
   "metadata": {},
   "source": [
    " - 구현하지 않은체로 사용하면 에러가 발생하도록 설정하자"
   ]
  },
  {
   "cell_type": "code",
   "execution_count": 93,
   "id": "peripheral-massage",
   "metadata": {},
   "outputs": [],
   "source": [
    "class Computer:\n",
    "    def __init__(self):\n",
    "        self.isOn = False\n",
    "    \n",
    "    def osname(self):\n",
    "        raise NotImplementedError\n",
    "    \n",
    "    def power(self):\n",
    "        self.isOn = not self.isOn\n",
    "        print(\"컴퓨터가 켜졌습니다\" if self.isOn else \"컴퓨터가 꺼졌습니다\")\n",
    "        \n",
    "class WindowComputer(Computer):\n",
    "    pass"
   ]
  },
  {
   "cell_type": "code",
   "execution_count": 94,
   "id": "ahead-shanghai",
   "metadata": {},
   "outputs": [],
   "source": [
    "mycomp = WindowComputer()"
   ]
  },
  {
   "cell_type": "code",
   "execution_count": 95,
   "id": "domestic-maintenance",
   "metadata": {},
   "outputs": [
    {
     "name": "stdout",
     "output_type": "stream",
     "text": [
      "컴퓨터가 켜졌습니다\n",
      "컴퓨터가 꺼졌습니다\n",
      "컴퓨터가 켜졌습니다\n"
     ]
    }
   ],
   "source": [
    "mycomp.power()\n",
    "mycomp.power()\n",
    "mycomp.power()"
   ]
  },
  {
   "cell_type": "code",
   "execution_count": 96,
   "id": "second-round",
   "metadata": {},
   "outputs": [
    {
     "ename": "NotImplementedError",
     "evalue": "",
     "output_type": "error",
     "traceback": [
      "\u001b[1;31m---------------------------------------------------------------------------\u001b[0m",
      "\u001b[1;31mNotImplementedError\u001b[0m                       Traceback (most recent call last)",
      "\u001b[1;32m<ipython-input-96-dc2b253ca0bd>\u001b[0m in \u001b[0;36m<module>\u001b[1;34m\u001b[0m\n\u001b[1;32m----> 1\u001b[1;33m \u001b[0mmycomp\u001b[0m\u001b[1;33m.\u001b[0m\u001b[0mosname\u001b[0m\u001b[1;33m(\u001b[0m\u001b[1;33m)\u001b[0m\u001b[1;33m\u001b[0m\u001b[1;33m\u001b[0m\u001b[0m\n\u001b[0m",
      "\u001b[1;32m<ipython-input-93-b354f8f30ddb>\u001b[0m in \u001b[0;36mosname\u001b[1;34m(self)\u001b[0m\n\u001b[0;32m      4\u001b[0m \u001b[1;33m\u001b[0m\u001b[0m\n\u001b[0;32m      5\u001b[0m     \u001b[1;32mdef\u001b[0m \u001b[0mosname\u001b[0m\u001b[1;33m(\u001b[0m\u001b[0mself\u001b[0m\u001b[1;33m)\u001b[0m\u001b[1;33m:\u001b[0m\u001b[1;33m\u001b[0m\u001b[1;33m\u001b[0m\u001b[0m\n\u001b[1;32m----> 6\u001b[1;33m         \u001b[1;32mraise\u001b[0m \u001b[0mNotImplementedError\u001b[0m\u001b[1;33m\u001b[0m\u001b[1;33m\u001b[0m\u001b[0m\n\u001b[0m\u001b[0;32m      7\u001b[0m \u001b[1;33m\u001b[0m\u001b[0m\n\u001b[0;32m      8\u001b[0m     \u001b[1;32mdef\u001b[0m \u001b[0mpower\u001b[0m\u001b[1;33m(\u001b[0m\u001b[0mself\u001b[0m\u001b[1;33m)\u001b[0m\u001b[1;33m:\u001b[0m\u001b[1;33m\u001b[0m\u001b[1;33m\u001b[0m\u001b[0m\n",
      "\u001b[1;31mNotImplementedError\u001b[0m: "
     ]
    }
   ],
   "source": [
    "mycomp.osname()"
   ]
  },
  {
   "cell_type": "markdown",
   "id": "first-geology",
   "metadata": {},
   "source": [
    " - 그러나 구현되지 않은 함수를 호출되는 상황에만 예외가 발생하는 것이 흠이다. 애초에 클래스 호출부터 예외가 발생하도록 하자"
   ]
  },
  {
   "cell_type": "code",
   "execution_count": 121,
   "id": "institutional-business",
   "metadata": {},
   "outputs": [],
   "source": [
    "import abc\n",
    "\n",
    "class Computer(metaclass=abc.ABCMeta):\n",
    "    def __init__(self):\n",
    "        self.isOn = False\n",
    "    \n",
    "    @abc.abstractmethod\n",
    "    def osname(self):\n",
    "        pass\n",
    "    \n",
    "    def power(self):\n",
    "        self.isOn = not self.isOn\n",
    "        print(\"컴퓨터가 켜졌습니다\" if self.isOn else \"컴퓨터가 꺼졌습니다\")\n",
    "        \n",
    "class WindowComputer(Computer):\n",
    "    pass"
   ]
  },
  {
   "cell_type": "code",
   "execution_count": 122,
   "id": "supposed-excellence",
   "metadata": {},
   "outputs": [
    {
     "ename": "TypeError",
     "evalue": "Can't instantiate abstract class WindowComputer with abstract method osname",
     "output_type": "error",
     "traceback": [
      "\u001b[1;31m---------------------------------------------------------------------------\u001b[0m",
      "\u001b[1;31mTypeError\u001b[0m                                 Traceback (most recent call last)",
      "\u001b[1;32m<ipython-input-122-3bc9280e5afc>\u001b[0m in \u001b[0;36m<module>\u001b[1;34m\u001b[0m\n\u001b[1;32m----> 1\u001b[1;33m \u001b[0mmycomp\u001b[0m \u001b[1;33m=\u001b[0m \u001b[0mWindowComputer\u001b[0m\u001b[1;33m(\u001b[0m\u001b[1;33m)\u001b[0m\u001b[1;33m\u001b[0m\u001b[1;33m\u001b[0m\u001b[0m\n\u001b[0m",
      "\u001b[1;31mTypeError\u001b[0m: Can't instantiate abstract class WindowComputer with abstract method osname"
     ]
    }
   ],
   "source": [
    "mycomp = WindowComputer()"
   ]
  },
  {
   "cell_type": "code",
   "execution_count": 123,
   "id": "regulated-identification",
   "metadata": {},
   "outputs": [],
   "source": [
    "import abc\n",
    "\n",
    "class Computer(metaclass=abc.ABCMeta):\n",
    "    def __init__(self):\n",
    "        self.isOn = False\n",
    "    \n",
    "    @abc.abstractmethod\n",
    "    def osname(self):\n",
    "        pass\n",
    "    \n",
    "    def power(self):\n",
    "        self.isOn = not self.isOn\n",
    "        print(\"컴퓨터가 켜졌습니다\" if self.isOn else \"컴퓨터가 꺼졌습니다\")\n",
    "        \n",
    "class WindowComputer(Computer):\n",
    "    def osname(self):\n",
    "        print(\"WINDOW\")"
   ]
  },
  {
   "cell_type": "code",
   "execution_count": 124,
   "id": "shaped-alfred",
   "metadata": {},
   "outputs": [
    {
     "name": "stdout",
     "output_type": "stream",
     "text": [
      "컴퓨터가 켜졌습니다\n",
      "컴퓨터가 꺼졌습니다\n",
      "컴퓨터가 켜졌습니다\n",
      "WINDOW\n"
     ]
    }
   ],
   "source": [
    "mycomp = WindowComputer()\n",
    "mycomp.power()\n",
    "mycomp.power()\n",
    "mycomp.power()\n",
    "mycomp.osname()"
   ]
  },
  {
   "cell_type": "markdown",
   "id": "identified-basic",
   "metadata": {},
   "source": [
    "### * 클래스 정보"
   ]
  },
  {
   "cell_type": "code",
   "execution_count": 208,
   "id": "twelve-spread",
   "metadata": {},
   "outputs": [],
   "source": [
    "import abc\n",
    "\n",
    "class Computer(metaclass=abc.ABCMeta):\n",
    "    \"\"\"\\\n",
    "    컴퓨터를 구현하기 위한 추상클래스입니다.\n",
    "    본 클래스를 사용하기 위해선 반드시 구현클래스로 상속받고 osname을 구현하여 사용해야합니다\n",
    "    \"\"\"\n",
    "    def __init__(self):\n",
    "        self.isOn = False\n",
    "    \n",
    "    @abc.abstractmethod\n",
    "    def osname(self):\n",
    "        pass\n",
    "    \n",
    "    def power(self):\n",
    "        self.isOn = not self.isOn\n",
    "        print(\"컴퓨터가 켜졌습니다\" if self.isOn else \"컴퓨터가 꺼졌습니다\")\n",
    "\n",
    "class WindowComputer(Computer):\n",
    "    def osname(self):\n",
    "        print(\"WINDOW\")"
   ]
  },
  {
   "cell_type": "markdown",
   "id": "stretch-payday",
   "metadata": {},
   "source": [
    " - help()"
   ]
  },
  {
   "cell_type": "code",
   "execution_count": 209,
   "id": "jewish-indicator",
   "metadata": {},
   "outputs": [
    {
     "name": "stdout",
     "output_type": "stream",
     "text": [
      "Help on class Computer in module __main__:\n",
      "\n",
      "class Computer(builtins.object)\n",
      " |  컴퓨터를 구현하기 위한 추상클래스입니다.\n",
      " |  본 클래스를 사용하기 위해선 반드시 구현클래스로 상속받고 osname을 구현하여 사용해야합니다\n",
      " |  \n",
      " |  Methods defined here:\n",
      " |  \n",
      " |  __init__(self)\n",
      " |      Initialize self.  See help(type(self)) for accurate signature.\n",
      " |  \n",
      " |  osname(self)\n",
      " |  \n",
      " |  power(self)\n",
      " |  \n",
      " |  ----------------------------------------------------------------------\n",
      " |  Data descriptors defined here:\n",
      " |  \n",
      " |  __dict__\n",
      " |      dictionary for instance variables (if defined)\n",
      " |  \n",
      " |  __weakref__\n",
      " |      list of weak references to the object (if defined)\n",
      " |  \n",
      " |  ----------------------------------------------------------------------\n",
      " |  Data and other attributes defined here:\n",
      " |  \n",
      " |  __abstractmethods__ = frozenset({'osname'})\n",
      "\n"
     ]
    }
   ],
   "source": [
    "help(Computer)"
   ]
  },
  {
   "cell_type": "markdown",
   "id": "sonic-pittsburgh",
   "metadata": {},
   "source": [
    " - `__doc__` and `__dict__`"
   ]
  },
  {
   "cell_type": "code",
   "execution_count": 219,
   "id": "going-liabilities",
   "metadata": {},
   "outputs": [
    {
     "data": {
      "text/plain": [
       "'    컴퓨터를 구현하기 위한 추상클래스입니다.\\n    본 클래스를 사용하기 위해선 반드시 구현클래스로 상속받고 osname을 구현하여 사용해야합니다\\n    '"
      ]
     },
     "execution_count": 219,
     "metadata": {},
     "output_type": "execute_result"
    }
   ],
   "source": [
    "Computer.__doc__"
   ]
  },
  {
   "cell_type": "code",
   "execution_count": 221,
   "id": "younger-nylon",
   "metadata": {},
   "outputs": [],
   "source": [
    "WindowComputer.__doc__"
   ]
  },
  {
   "cell_type": "code",
   "execution_count": 222,
   "id": "sustainable-river",
   "metadata": {},
   "outputs": [
    {
     "data": {
      "text/plain": [
       "mappingproxy({'__module__': '__main__',\n",
       "              '__doc__': '    컴퓨터를 구현하기 위한 추상클래스입니다.\\n    본 클래스를 사용하기 위해선 반드시 구현클래스로 상속받고 osname을 구현하여 사용해야합니다\\n    ',\n",
       "              '__init__': <function __main__.Computer.__init__(self)>,\n",
       "              'osname': <function __main__.Computer.osname(self)>,\n",
       "              'power': <function __main__.Computer.power(self)>,\n",
       "              '__dict__': <attribute '__dict__' of 'Computer' objects>,\n",
       "              '__weakref__': <attribute '__weakref__' of 'Computer' objects>,\n",
       "              '__abstractmethods__': frozenset({'osname'}),\n",
       "              '_abc_impl': <_abc._abc_data at 0x1fc922e39c0>})"
      ]
     },
     "execution_count": 222,
     "metadata": {},
     "output_type": "execute_result"
    }
   ],
   "source": [
    "Computer.__dict__"
   ]
  },
  {
   "cell_type": "code",
   "execution_count": 238,
   "id": "essential-bowling",
   "metadata": {},
   "outputs": [
    {
     "data": {
      "text/plain": [
       "mappingproxy({'__module__': '__main__',\n",
       "              'osname': <function __main__.WindowComputer.osname(self)>,\n",
       "              '__doc__': None,\n",
       "              '__abstractmethods__': frozenset(),\n",
       "              '_abc_impl': <_abc._abc_data at 0x1fc922e3940>})"
      ]
     },
     "execution_count": 238,
     "metadata": {},
     "output_type": "execute_result"
    }
   ],
   "source": [
    "WindowComputer.__dict__"
   ]
  },
  {
   "cell_type": "code",
   "execution_count": 239,
   "id": "chief-indiana",
   "metadata": {},
   "outputs": [
    {
     "data": {
      "text/plain": [
       "__main__.Computer"
      ]
     },
     "execution_count": 239,
     "metadata": {},
     "output_type": "execute_result"
    }
   ],
   "source": [
    "Computer"
   ]
  },
  {
   "cell_type": "code",
   "execution_count": 243,
   "id": "usual-geology",
   "metadata": {},
   "outputs": [
    {
     "data": {
      "text/plain": [
       "__main__.WindowComputer"
      ]
     },
     "execution_count": 243,
     "metadata": {},
     "output_type": "execute_result"
    }
   ],
   "source": [
    "WindowComputer"
   ]
  },
  {
   "cell_type": "markdown",
   "id": "atmospheric-pencil",
   "metadata": {},
   "source": [
    " - `isinstance()`"
   ]
  },
  {
   "cell_type": "code",
   "execution_count": 212,
   "id": "devoted-tours",
   "metadata": {},
   "outputs": [],
   "source": [
    "comp = WindowComputer()"
   ]
  },
  {
   "cell_type": "code",
   "execution_count": 214,
   "id": "civilian-humor",
   "metadata": {},
   "outputs": [
    {
     "data": {
      "text/plain": [
       "True"
      ]
     },
     "execution_count": 214,
     "metadata": {},
     "output_type": "execute_result"
    }
   ],
   "source": [
    "isinstance(comp, WindowComputer)"
   ]
  },
  {
   "cell_type": "code",
   "execution_count": 215,
   "id": "baking-seating",
   "metadata": {},
   "outputs": [
    {
     "data": {
      "text/plain": [
       "True"
      ]
     },
     "execution_count": 215,
     "metadata": {},
     "output_type": "execute_result"
    }
   ],
   "source": [
    "isinstance(comp, Computer)"
   ]
  },
  {
   "cell_type": "code",
   "execution_count": 216,
   "id": "protected-checklist",
   "metadata": {},
   "outputs": [
    {
     "data": {
      "text/plain": [
       "True"
      ]
     },
     "execution_count": 216,
     "metadata": {},
     "output_type": "execute_result"
    }
   ],
   "source": [
    "hasattr(comp, 'power')"
   ]
  },
  {
   "cell_type": "code",
   "execution_count": 217,
   "id": "amazing-soccer",
   "metadata": {},
   "outputs": [
    {
     "data": {
      "text/plain": [
       "True"
      ]
     },
     "execution_count": 217,
     "metadata": {},
     "output_type": "execute_result"
    }
   ],
   "source": [
    "hasattr(comp, 'osname')"
   ]
  },
  {
   "cell_type": "code",
   "execution_count": 218,
   "id": "partial-perth",
   "metadata": {},
   "outputs": [
    {
     "data": {
      "text/plain": [
       "False"
      ]
     },
     "execution_count": 218,
     "metadata": {},
     "output_type": "execute_result"
    }
   ],
   "source": [
    "hasattr(comp, 'nothing')"
   ]
  },
  {
   "cell_type": "markdown",
   "id": "collaborative-portal",
   "metadata": {},
   "source": [
    "## - 메타 클래스"
   ]
  },
  {
   "cell_type": "markdown",
   "id": "noted-filename",
   "metadata": {},
   "source": [
    "Meta Class 클래스를 만드는 클래스입니다."
   ]
  },
  {
   "cell_type": "markdown",
   "id": "fantastic-herald",
   "metadata": {},
   "source": [
    "### * type을 사용하여 동적으로 클래스 생성"
   ]
  },
  {
   "cell_type": "markdown",
   "id": "suited-ranking",
   "metadata": {},
   "source": [
    "클래스 = type(\"클래스이름\", Tuple:부모클래스, Dict:속성과 메서드)\n",
    "\n",
    "```python\n",
    "Calc = type(\"Calculator\", (), {})\n",
    "```"
   ]
  },
  {
   "cell_type": "code",
   "execution_count": 196,
   "id": "acknowledged-administration",
   "metadata": {},
   "outputs": [],
   "source": [
    "property_and_method = dict(\n",
    "    name = \"계산기\",\n",
    "    add = lambda self, x, y : x + y,\n",
    "    mul = lambda self, x, y : x * y\n",
    ")\n",
    "\n",
    "Calc = type(\"Calculator\", (), property_and_method)"
   ]
  },
  {
   "cell_type": "code",
   "execution_count": 197,
   "id": "signal-river",
   "metadata": {},
   "outputs": [
    {
     "data": {
      "text/plain": [
       "__main__.Calculator"
      ]
     },
     "execution_count": 197,
     "metadata": {},
     "output_type": "execute_result"
    }
   ],
   "source": [
    "Calc"
   ]
  },
  {
   "cell_type": "code",
   "execution_count": 198,
   "id": "given-istanbul",
   "metadata": {},
   "outputs": [
    {
     "name": "stdout",
     "output_type": "stream",
     "text": [
      "Help on class Calculator in module __main__:\n",
      "\n",
      "class Calculator(builtins.object)\n",
      " |  Methods defined here:\n",
      " |  \n",
      " |  add lambda self, x, y\n",
      " |  \n",
      " |  mul lambda self, x, y\n",
      " |  \n",
      " |  ----------------------------------------------------------------------\n",
      " |  Data descriptors defined here:\n",
      " |  \n",
      " |  __dict__\n",
      " |      dictionary for instance variables (if defined)\n",
      " |  \n",
      " |  __weakref__\n",
      " |      list of weak references to the object (if defined)\n",
      " |  \n",
      " |  ----------------------------------------------------------------------\n",
      " |  Data and other attributes defined here:\n",
      " |  \n",
      " |  name = '계산기'\n",
      "\n"
     ]
    }
   ],
   "source": [
    "help(Calc)"
   ]
  },
  {
   "cell_type": "code",
   "execution_count": 200,
   "id": "orange-things",
   "metadata": {},
   "outputs": [
    {
     "data": {
      "text/plain": [
       "30"
      ]
     },
     "execution_count": 200,
     "metadata": {},
     "output_type": "execute_result"
    }
   ],
   "source": [
    "Calc().add(10, 20)"
   ]
  },
  {
   "cell_type": "code",
   "execution_count": 275,
   "id": "industrial-thumbnail",
   "metadata": {},
   "outputs": [
    {
     "data": {
      "text/plain": [
       "200"
      ]
     },
     "execution_count": 275,
     "metadata": {},
     "output_type": "execute_result"
    }
   ],
   "source": [
    "Calc().mul(10,20)"
   ]
  },
  {
   "cell_type": "code",
   "execution_count": 286,
   "id": "driven-correspondence",
   "metadata": {},
   "outputs": [
    {
     "name": "stdout",
     "output_type": "stream",
     "text": [
      "[1, 2, 3, 4, 5, 6, 7, 8, 9, 10]\n"
     ]
    },
    {
     "data": {
      "text/plain": [
       "[2, 4, 6, 8, 10]"
      ]
     },
     "execution_count": 286,
     "metadata": {},
     "output_type": "execute_result"
    }
   ],
   "source": [
    "mylist = type(\"MyList\", (list,), {\n",
    "    \"info\" : lambda self : print(self),\n",
    "    \"even\" : lambda self : [num for num in self if num % 2 == 0]\n",
    "})\n",
    "added_list = mylist([1, 2, 3, 4, 5, 6, 7, 8, 9, 10])\n",
    "added_list.info()\n",
    "added_list.even()"
   ]
  },
  {
   "cell_type": "markdown",
   "id": "quick-equivalent",
   "metadata": {},
   "source": [
    "### *  `__new__`"
   ]
  },
  {
   "cell_type": "markdown",
   "id": "pleasant-freeware",
   "metadata": {},
   "source": [
    "`__init__`보다 먼저 호출되는 함수.\n",
    "\n",
    "`__new__`를 이용해서 인스턴스를 먼저 생성한 다음 `__init__`을 통해 인스턴스에 값을 넣는다."
   ]
  },
  {
   "cell_type": "code",
   "execution_count": 308,
   "id": "hidden-cleaners",
   "metadata": {},
   "outputs": [],
   "source": [
    "class Student:\n",
    "    def __new__(cls):\n",
    "        print('__new__가 호출되었습니다')\n",
    "    \n",
    "    def __init__(self):\n",
    "        print('__init__가 호출되었습니다')\n",
    "    \n",
    "    def study(self):\n",
    "        print(\"A student is studying\")"
   ]
  },
  {
   "cell_type": "code",
   "execution_count": 309,
   "id": "beginning-generator",
   "metadata": {},
   "outputs": [
    {
     "name": "stdout",
     "output_type": "stream",
     "text": [
      "__new__가 호출되었습니다\n"
     ]
    }
   ],
   "source": [
    "stu = Student()"
   ]
  },
  {
   "cell_type": "code",
   "execution_count": 310,
   "id": "mysterious-range",
   "metadata": {},
   "outputs": [],
   "source": [
    "stu"
   ]
  },
  {
   "cell_type": "code",
   "execution_count": 311,
   "id": "acting-payment",
   "metadata": {},
   "outputs": [
    {
     "ename": "AttributeError",
     "evalue": "'NoneType' object has no attribute 'study'",
     "output_type": "error",
     "traceback": [
      "\u001b[1;31m---------------------------------------------------------------------------\u001b[0m",
      "\u001b[1;31mAttributeError\u001b[0m                            Traceback (most recent call last)",
      "\u001b[1;32m<ipython-input-311-0638f564c4e9>\u001b[0m in \u001b[0;36m<module>\u001b[1;34m\u001b[0m\n\u001b[1;32m----> 1\u001b[1;33m \u001b[0mstu\u001b[0m\u001b[1;33m.\u001b[0m\u001b[0mstudy\u001b[0m\u001b[1;33m(\u001b[0m\u001b[1;33m)\u001b[0m\u001b[1;33m\u001b[0m\u001b[1;33m\u001b[0m\u001b[0m\n\u001b[0m",
      "\u001b[1;31mAttributeError\u001b[0m: 'NoneType' object has no attribute 'study'"
     ]
    }
   ],
   "source": [
    "stu.study()"
   ]
  },
  {
   "cell_type": "code",
   "execution_count": 313,
   "id": "illegal-organization",
   "metadata": {},
   "outputs": [
    {
     "data": {
      "text/plain": [
       "NoneType"
      ]
     },
     "execution_count": 313,
     "metadata": {},
     "output_type": "execute_result"
    }
   ],
   "source": [
    "type(stu)"
   ]
  },
  {
   "cell_type": "markdown",
   "id": "joined-radio",
   "metadata": {},
   "source": [
    "위 코드를 보면 알 수 있듯이 현재 `__new__`가 실행되어 인스턴스는 생성되었지만 인스턴스에 대한 정보가 아무것도 없다"
   ]
  },
  {
   "cell_type": "code",
   "execution_count": 314,
   "id": "breeding-retirement",
   "metadata": {},
   "outputs": [],
   "source": [
    "class Student:\n",
    "    def __new__(cls):\n",
    "        print('__new__가 호출되었습니다')\n",
    "        student = object.__new__(cls)\n",
    "        return student\n",
    "    \n",
    "    def __init__(self):\n",
    "        print('__init__가 호출되었습니다')\n",
    "    \n",
    "    def study(self):\n",
    "        print(\"A student is studying\")"
   ]
  },
  {
   "cell_type": "code",
   "execution_count": 315,
   "id": "saving-politics",
   "metadata": {},
   "outputs": [
    {
     "name": "stdout",
     "output_type": "stream",
     "text": [
      "__new__가 호출되었습니다\n",
      "__init__가 호출되었습니다\n"
     ]
    }
   ],
   "source": [
    "stu = Student()"
   ]
  },
  {
   "cell_type": "code",
   "execution_count": 316,
   "id": "parental-armenia",
   "metadata": {},
   "outputs": [
    {
     "data": {
      "text/plain": [
       "<__main__.Student at 0x1fc922f47f0>"
      ]
     },
     "execution_count": 316,
     "metadata": {},
     "output_type": "execute_result"
    }
   ],
   "source": [
    "stu"
   ]
  },
  {
   "cell_type": "code",
   "execution_count": 317,
   "id": "quarterly-quality",
   "metadata": {},
   "outputs": [
    {
     "name": "stdout",
     "output_type": "stream",
     "text": [
      "A student is studying\n"
     ]
    }
   ],
   "source": [
    "stu.study()"
   ]
  },
  {
   "cell_type": "code",
   "execution_count": 325,
   "id": "inside-banking",
   "metadata": {},
   "outputs": [
    {
     "data": {
      "text/plain": [
       "__main__.Student"
      ]
     },
     "execution_count": 325,
     "metadata": {},
     "output_type": "execute_result"
    }
   ],
   "source": [
    "type(stu)"
   ]
  },
  {
   "cell_type": "markdown",
   "id": "finnish-enhancement",
   "metadata": {},
   "source": [
    " - `__new__`에 대한 오버라이딩의 목적은 클래스를 커스텀마이징하거나 클래스 생성 등에 대한 핸들링 등이 있다"
   ]
  },
  {
   "cell_type": "code",
   "execution_count": 338,
   "id": "sharing-brunei",
   "metadata": {},
   "outputs": [
    {
     "name": "stdout",
     "output_type": "stream",
     "text": [
      "3\n",
      "[]\n",
      "3\n",
      "[<__main__.LimitedInstances object at 0x000001FC922F4670>]\n",
      "3\n",
      "[<__main__.LimitedInstances object at 0x000001FC922F4670>, <__main__.LimitedInstances object at 0x000001FC922F4850>]\n",
      "3\n",
      "[<__main__.LimitedInstances object at 0x000001FC922F4670>, <__main__.LimitedInstances object at 0x000001FC922F4850>, <__main__.LimitedInstances object at 0x000001FC922F4C70>]\n"
     ]
    },
    {
     "ename": "RuntimeError",
     "evalue": "Count not create instance. Limit 3 reached",
     "output_type": "error",
     "traceback": [
      "\u001b[1;31m---------------------------------------------------------------------------\u001b[0m",
      "\u001b[1;31mRuntimeError\u001b[0m                              Traceback (most recent call last)",
      "\u001b[1;32m<ipython-input-338-4dbdad47afda>\u001b[0m in \u001b[0;36m<module>\u001b[1;34m\u001b[0m\n\u001b[0;32m     18\u001b[0m \u001b[0mLimitedInstances\u001b[0m\u001b[1;33m(\u001b[0m\u001b[1;33m)\u001b[0m\u001b[1;33m\u001b[0m\u001b[1;33m\u001b[0m\u001b[0m\n\u001b[0;32m     19\u001b[0m \u001b[0mLimitedInstances\u001b[0m\u001b[1;33m(\u001b[0m\u001b[1;33m)\u001b[0m\u001b[1;33m\u001b[0m\u001b[1;33m\u001b[0m\u001b[0m\n\u001b[1;32m---> 20\u001b[1;33m \u001b[0mLimitedInstances\u001b[0m\u001b[1;33m(\u001b[0m\u001b[1;33m)\u001b[0m\u001b[1;33m\u001b[0m\u001b[1;33m\u001b[0m\u001b[0m\n\u001b[0m",
      "\u001b[1;32m<ipython-input-338-4dbdad47afda>\u001b[0m in \u001b[0;36m__new__\u001b[1;34m(cls, *args, **kwargs)\u001b[0m\n\u001b[0;32m      6\u001b[0m         \u001b[0mprint\u001b[0m\u001b[1;33m(\u001b[0m\u001b[0mcls\u001b[0m\u001b[1;33m.\u001b[0m\u001b[0m_instances\u001b[0m\u001b[1;33m)\u001b[0m\u001b[1;33m\u001b[0m\u001b[1;33m\u001b[0m\u001b[0m\n\u001b[0;32m      7\u001b[0m         \u001b[1;32mif\u001b[0m \u001b[1;32mnot\u001b[0m \u001b[0mlen\u001b[0m\u001b[1;33m(\u001b[0m\u001b[0mcls\u001b[0m\u001b[1;33m.\u001b[0m\u001b[0m_instances\u001b[0m\u001b[1;33m)\u001b[0m \u001b[1;33m<\u001b[0m \u001b[0mcls\u001b[0m\u001b[1;33m.\u001b[0m\u001b[0mlimit\u001b[0m\u001b[1;33m:\u001b[0m\u001b[1;33m\u001b[0m\u001b[1;33m\u001b[0m\u001b[0m\n\u001b[1;32m----> 8\u001b[1;33m             \u001b[1;32mraise\u001b[0m \u001b[0mRuntimeError\u001b[0m\u001b[1;33m(\u001b[0m\u001b[1;34m\"Count not create instance. Limit {} reached\"\u001b[0m\u001b[1;33m.\u001b[0m\u001b[0mformat\u001b[0m\u001b[1;33m(\u001b[0m\u001b[0mcls\u001b[0m\u001b[1;33m.\u001b[0m\u001b[0mlimit\u001b[0m\u001b[1;33m)\u001b[0m\u001b[1;33m)\u001b[0m\u001b[1;33m\u001b[0m\u001b[1;33m\u001b[0m\u001b[0m\n\u001b[0m\u001b[0;32m      9\u001b[0m         \u001b[0minstance\u001b[0m \u001b[1;33m=\u001b[0m \u001b[0mobject\u001b[0m\u001b[1;33m.\u001b[0m\u001b[0m__new__\u001b[0m\u001b[1;33m(\u001b[0m\u001b[0mcls\u001b[0m\u001b[1;33m,\u001b[0m \u001b[1;33m*\u001b[0m\u001b[0margs\u001b[0m\u001b[1;33m,\u001b[0m \u001b[1;33m**\u001b[0m\u001b[0mkwargs\u001b[0m\u001b[1;33m)\u001b[0m\u001b[1;33m\u001b[0m\u001b[1;33m\u001b[0m\u001b[0m\n\u001b[0;32m     10\u001b[0m         \u001b[0mcls\u001b[0m\u001b[1;33m.\u001b[0m\u001b[0m_instances\u001b[0m\u001b[1;33m.\u001b[0m\u001b[0mappend\u001b[0m\u001b[1;33m(\u001b[0m\u001b[0minstance\u001b[0m\u001b[1;33m)\u001b[0m\u001b[1;33m\u001b[0m\u001b[1;33m\u001b[0m\u001b[0m\n",
      "\u001b[1;31mRuntimeError\u001b[0m: Count not create instance. Limit 3 reached"
     ]
    }
   ],
   "source": [
    "class LimitedInstances():\n",
    "    _instances = []  # Keep track of instance reference\n",
    "    limit = 3\n",
    "    def __new__(cls, *args, **kwargs):\n",
    "        print(cls.limit)\n",
    "        print(cls._instances)\n",
    "        if not len(cls._instances) < cls.limit:\n",
    "            raise RuntimeError(\"Count not create instance. Limit {} reached\".format(cls.limit))\n",
    "        instance = object.__new__(cls, *args, **kwargs)\n",
    "        cls._instances.append(instance)\n",
    "        return instance\n",
    "    \n",
    "    def __del__(self):\n",
    "        # Remove instance from _instances\n",
    "        self._instance.remove(self)\n",
    "\n",
    "a = LimitedInstances()\n",
    "LimitedInstances()\n",
    "LimitedInstances()\n",
    "LimitedInstances()"
   ]
  },
  {
   "cell_type": "code",
   "execution_count": 339,
   "id": "based-chassis",
   "metadata": {},
   "outputs": [
    {
     "data": {
      "text/plain": [
       "3"
      ]
     },
     "execution_count": 339,
     "metadata": {},
     "output_type": "execute_result"
    }
   ],
   "source": [
    "a.limit"
   ]
  },
  {
   "cell_type": "code",
   "execution_count": 340,
   "id": "completed-heating",
   "metadata": {},
   "outputs": [
    {
     "data": {
      "text/plain": [
       "[<__main__.LimitedInstances at 0x1fc922f4670>,\n",
       " <__main__.LimitedInstances at 0x1fc922f4850>,\n",
       " <__main__.LimitedInstances at 0x1fc922f4c70>]"
      ]
     },
     "execution_count": 340,
     "metadata": {},
     "output_type": "execute_result"
    }
   ],
   "source": [
    "a._instances"
   ]
  },
  {
   "cell_type": "markdown",
   "id": "psychological-departure",
   "metadata": {},
   "source": [
    "### * `__call__`"
   ]
  },
  {
   "cell_type": "markdown",
   "id": "sticky-extension",
   "metadata": {},
   "source": [
    "`__new__`가 클래스 인스턴스를 생성해 메모리에 할당하고\n",
    "\n",
    "`__init__`이 인스턴스에 값들을 넣고 초기화하한다면\n",
    "\n",
    "`__call__`함수는 인스턴스가 실행될 때 호출되는 함수다.\n",
    "\n",
    "`__new__` ==> `__init__` ==> `__call__`"
   ]
  },
  {
   "cell_type": "code",
   "execution_count": null,
   "id": "complimentary-portfolio",
   "metadata": {},
   "outputs": [],
   "source": []
  },
  {
   "cell_type": "code",
   "execution_count": null,
   "id": "growing-currency",
   "metadata": {},
   "outputs": [],
   "source": []
  },
  {
   "cell_type": "code",
   "execution_count": null,
   "id": "imperial-judge",
   "metadata": {},
   "outputs": [],
   "source": []
  },
  {
   "cell_type": "markdown",
   "id": "noted-dubai",
   "metadata": {},
   "source": [
    "### * type을 상속받아 클래스를 만드는 클래스인 메타클래스가 구현하는 방식을 정하기"
   ]
  },
  {
   "cell_type": "code",
   "execution_count": null,
   "id": "republican-highway",
   "metadata": {},
   "outputs": [],
   "source": []
  },
  {
   "cell_type": "code",
   "execution_count": null,
   "id": "chubby-kidney",
   "metadata": {},
   "outputs": [],
   "source": []
  },
  {
   "cell_type": "code",
   "execution_count": null,
   "id": "naval-guatemala",
   "metadata": {},
   "outputs": [],
   "source": []
  },
  {
   "cell_type": "code",
   "execution_count": null,
   "id": "wicked-crystal",
   "metadata": {},
   "outputs": [],
   "source": []
  },
  {
   "cell_type": "code",
   "execution_count": null,
   "id": "cleared-tuner",
   "metadata": {},
   "outputs": [],
   "source": []
  },
  {
   "cell_type": "code",
   "execution_count": null,
   "id": "ideal-management",
   "metadata": {},
   "outputs": [],
   "source": []
  },
  {
   "cell_type": "code",
   "execution_count": null,
   "id": "assigned-filename",
   "metadata": {},
   "outputs": [],
   "source": []
  },
  {
   "cell_type": "code",
   "execution_count": 355,
   "id": "unusual-racing",
   "metadata": {},
   "outputs": [
    {
     "name": "stdout",
     "output_type": "stream",
     "text": [
      "MyMetaClass   __new__\n",
      "MyMetaClass   __init__\n",
      "====================\n",
      "MyMetaClass   __call__\n",
      "__new__가 호출되었습니다\n",
      "__init__가 호출되었습니다\n",
      "hello world\n",
      "__call__가 호출되었습니다\n"
     ]
    }
   ],
   "source": [
    "class MyMetaClass(type):\n",
    "    def __new__(cls, *args, **kwargs):\n",
    "        print(\"MyMetaClass   __new__\")\n",
    "        return super().__new__(cls,*args,**kwargs)\n",
    "    \n",
    "    def __init__(cls, *args, **kwargs):\n",
    "        print(\"MyMetaClass   __init__\")\n",
    "        return super().__init__(*args,**kwargs)  \n",
    "    \n",
    "    def __call__(cls, *args, **kwargs):\n",
    "        print(\"MyMetaClass   __call__\")\n",
    "        return super().__call__(*args,**kwargs)\n",
    "    \n",
    "class MyClass(metaclass=MyMetaClass):\n",
    "    def __new__(cls,*args, **kwargs):\n",
    "        print('__new__가 호출되었습니다')\n",
    "        mycls = object.__new__(cls,*args, **kwargs)\n",
    "        return mycls\n",
    "    \n",
    "    def __init__(self):\n",
    "        print('__init__가 호출되었습니다')\n",
    "    \n",
    "    def __call__(self):\n",
    "        print('__call__가 호출되었습니다')\n",
    "        \n",
    "    def hello(self):\n",
    "        print(\"hello world\")\n",
    "        \n",
    "print(\"=\"*20)\n",
    "obj = MyClass()\n",
    "obj.hello()\n",
    "obj()"
   ]
  },
  {
   "cell_type": "markdown",
   "id": "quality-battery",
   "metadata": {},
   "source": [
    "## - 연산자 오버로딩(Overloading)"
   ]
  },
  {
   "cell_type": "code",
   "execution_count": null,
   "id": "formed-designer",
   "metadata": {},
   "outputs": [],
   "source": []
  },
  {
   "cell_type": "code",
   "execution_count": null,
   "id": "forbidden-butter",
   "metadata": {},
   "outputs": [],
   "source": []
  },
  {
   "cell_type": "code",
   "execution_count": null,
   "id": "satellite-bahrain",
   "metadata": {},
   "outputs": [],
   "source": []
  },
  {
   "cell_type": "code",
   "execution_count": null,
   "id": "retired-juice",
   "metadata": {},
   "outputs": [],
   "source": []
  },
  {
   "cell_type": "code",
   "execution_count": null,
   "id": "circular-kansas",
   "metadata": {},
   "outputs": [],
   "source": []
  },
  {
   "cell_type": "code",
   "execution_count": null,
   "id": "moderate-mirror",
   "metadata": {},
   "outputs": [],
   "source": []
  },
  {
   "cell_type": "code",
   "execution_count": null,
   "id": "laughing-elimination",
   "metadata": {},
   "outputs": [],
   "source": []
  },
  {
   "cell_type": "code",
   "execution_count": null,
   "id": "distributed-pregnancy",
   "metadata": {},
   "outputs": [],
   "source": []
  },
  {
   "cell_type": "markdown",
   "id": "legendary-armor",
   "metadata": {},
   "source": [
    "## - decorator(데코레이터)"
   ]
  },
  {
   "cell_type": "code",
   "execution_count": null,
   "id": "ranging-movie",
   "metadata": {},
   "outputs": [],
   "source": []
  },
  {
   "cell_type": "code",
   "execution_count": null,
   "id": "animated-immune",
   "metadata": {},
   "outputs": [],
   "source": []
  },
  {
   "cell_type": "code",
   "execution_count": null,
   "id": "hidden-renewal",
   "metadata": {},
   "outputs": [],
   "source": []
  },
  {
   "cell_type": "code",
   "execution_count": null,
   "id": "global-invalid",
   "metadata": {},
   "outputs": [],
   "source": []
  },
  {
   "cell_type": "markdown",
   "id": "authorized-stamp",
   "metadata": {},
   "source": [
    "<hr><hr><hr><hr><hr><hr><hr><hr>"
   ]
  },
  {
   "cell_type": "markdown",
   "id": "opponent-antarctica",
   "metadata": {},
   "source": [
    " - 자바처럼 메서드 오버로딩이 될까?"
   ]
  },
  {
   "cell_type": "code",
   "execution_count": 93,
   "id": "gentle-activation",
   "metadata": {},
   "outputs": [],
   "source": [
    "class Base:\n",
    "    def func(self):\n",
    "        print(\"Func Function\", 0)\n",
    "        \n",
    "    def func(self, x, y):\n",
    "        print(\"Func Function\", 2)\n",
    "        \n",
    "    def func(self, x):\n",
    "        print(\"Func Function\", 1)"
   ]
  },
  {
   "cell_type": "code",
   "execution_count": 94,
   "id": "gorgeous-segment",
   "metadata": {},
   "outputs": [],
   "source": [
    "x = Base()"
   ]
  },
  {
   "cell_type": "code",
   "execution_count": 95,
   "id": "radical-arabic",
   "metadata": {},
   "outputs": [
    {
     "name": "stdout",
     "output_type": "stream",
     "text": [
      "Func Function 1\n"
     ]
    }
   ],
   "source": [
    "x.func(1)"
   ]
  },
  {
   "cell_type": "code",
   "execution_count": 96,
   "id": "faced-telling",
   "metadata": {},
   "outputs": [
    {
     "ename": "TypeError",
     "evalue": "func() missing 1 required positional argument: 'x'",
     "output_type": "error",
     "traceback": [
      "\u001b[1;31m---------------------------------------------------------------------------\u001b[0m",
      "\u001b[1;31mTypeError\u001b[0m                                 Traceback (most recent call last)",
      "\u001b[1;32m<ipython-input-96-8d6cc3d1c817>\u001b[0m in \u001b[0;36m<module>\u001b[1;34m\u001b[0m\n\u001b[1;32m----> 1\u001b[1;33m \u001b[0mx\u001b[0m\u001b[1;33m.\u001b[0m\u001b[0mfunc\u001b[0m\u001b[1;33m(\u001b[0m\u001b[1;33m)\u001b[0m\u001b[1;33m\u001b[0m\u001b[1;33m\u001b[0m\u001b[0m\n\u001b[0m",
      "\u001b[1;31mTypeError\u001b[0m: func() missing 1 required positional argument: 'x'"
     ]
    }
   ],
   "source": [
    "x.func()"
   ]
  },
  {
   "cell_type": "code",
   "execution_count": 97,
   "id": "fitting-delay",
   "metadata": {},
   "outputs": [
    {
     "ename": "TypeError",
     "evalue": "func() takes 2 positional arguments but 3 were given",
     "output_type": "error",
     "traceback": [
      "\u001b[1;31m---------------------------------------------------------------------------\u001b[0m",
      "\u001b[1;31mTypeError\u001b[0m                                 Traceback (most recent call last)",
      "\u001b[1;32m<ipython-input-97-cfbf52735459>\u001b[0m in \u001b[0;36m<module>\u001b[1;34m\u001b[0m\n\u001b[1;32m----> 1\u001b[1;33m \u001b[0mx\u001b[0m\u001b[1;33m.\u001b[0m\u001b[0mfunc\u001b[0m\u001b[1;33m(\u001b[0m\u001b[1;36m1\u001b[0m\u001b[1;33m,\u001b[0m \u001b[1;36m2\u001b[0m\u001b[1;33m)\u001b[0m\u001b[1;33m\u001b[0m\u001b[1;33m\u001b[0m\u001b[0m\n\u001b[0m",
      "\u001b[1;31mTypeError\u001b[0m: func() takes 2 positional arguments but 3 were given"
     ]
    }
   ],
   "source": [
    "x.func(1, 2)"
   ]
  },
  {
   "cell_type": "markdown",
   "id": "automated-protest",
   "metadata": {},
   "source": [
    "#### 생성자 `__init()__` : 생성할 때 동작되는 메서드\n",
    "#### 소멸자 `__del__` : `del`연산자를 통해 소멸될 때 동작되는 메서드"
   ]
  },
  {
   "cell_type": "markdown",
   "id": "boolean-kingdom",
   "metadata": {},
   "source": [
    " - 연산자 오버로딩"
   ]
  },
  {
   "cell_type": "code",
   "execution_count": 86,
   "id": "mechanical-scott",
   "metadata": {},
   "outputs": [
    {
     "ename": "TypeError",
     "evalue": "unsupported operand type(s) for +: 'NumBox' and 'int'",
     "output_type": "error",
     "traceback": [
      "\u001b[1;31m---------------------------------------------------------------------------\u001b[0m",
      "\u001b[1;31mTypeError\u001b[0m                                 Traceback (most recent call last)",
      "\u001b[1;32m<ipython-input-86-a3590ebb7306>\u001b[0m in \u001b[0;36m<module>\u001b[1;34m\u001b[0m\n\u001b[0;32m      5\u001b[0m \u001b[1;33m\u001b[0m\u001b[0m\n\u001b[0;32m      6\u001b[0m \u001b[0mn\u001b[0m \u001b[1;33m=\u001b[0m \u001b[0mNumBox\u001b[0m\u001b[1;33m(\u001b[0m\u001b[1;36m10\u001b[0m\u001b[1;33m)\u001b[0m\u001b[1;33m\u001b[0m\u001b[1;33m\u001b[0m\u001b[0m\n\u001b[1;32m----> 7\u001b[1;33m \u001b[0mn\u001b[0m \u001b[1;33m+\u001b[0m \u001b[1;36m10\u001b[0m\u001b[1;33m\u001b[0m\u001b[1;33m\u001b[0m\u001b[0m\n\u001b[0m",
      "\u001b[1;31mTypeError\u001b[0m: unsupported operand type(s) for +: 'NumBox' and 'int'"
     ]
    }
   ],
   "source": [
    "class NumBox:\n",
    "    def __init__(self, num):\n",
    "        self.num = num\n",
    "        \n",
    "\n",
    "n = NumBox(10)\n",
    "n + 10"
   ]
  },
  {
   "cell_type": "code",
   "execution_count": 90,
   "id": "incorporate-nature",
   "metadata": {},
   "outputs": [
    {
     "name": "stdout",
     "output_type": "stream",
     "text": [
      "60\n"
     ]
    }
   ],
   "source": [
    "class NumBox:\n",
    "    def __init__(self, num):\n",
    "        self.num = num\n",
    "    \n",
    "    def __add__(self, num):\n",
    "        self.num += num\n",
    "    \n",
    "    def __sub__(self, num):\n",
    "        self.num -= num\n",
    "    \n",
    "n = NumBox(10)\n",
    "n + 100\n",
    "n - 50\n",
    "print(n.num)"
   ]
  },
  {
   "cell_type": "code",
   "execution_count": 91,
   "id": "waiting-timber",
   "metadata": {},
   "outputs": [
    {
     "ename": "TypeError",
     "evalue": "unsupported operand type(s) for +: 'int' and 'NumBox'",
     "output_type": "error",
     "traceback": [
      "\u001b[1;31m---------------------------------------------------------------------------\u001b[0m",
      "\u001b[1;31mTypeError\u001b[0m                                 Traceback (most recent call last)",
      "\u001b[1;32m<ipython-input-91-edf5faa5951e>\u001b[0m in \u001b[0;36m<module>\u001b[1;34m\u001b[0m\n\u001b[1;32m----> 1\u001b[1;33m \u001b[1;36m100\u001b[0m \u001b[1;33m+\u001b[0m \u001b[0mn\u001b[0m\u001b[1;33m\u001b[0m\u001b[1;33m\u001b[0m\u001b[0m\n\u001b[0m\u001b[0;32m      2\u001b[0m \u001b[1;36m50\u001b[0m \u001b[1;33m-\u001b[0m \u001b[0mn\u001b[0m\u001b[1;33m\u001b[0m\u001b[1;33m\u001b[0m\u001b[0m\n",
      "\u001b[1;31mTypeError\u001b[0m: unsupported operand type(s) for +: 'int' and 'NumBox'"
     ]
    }
   ],
   "source": [
    "100 + n\n",
    "50 - n"
   ]
  },
  {
   "cell_type": "code",
   "execution_count": 92,
   "id": "conscious-senate",
   "metadata": {},
   "outputs": [
    {
     "name": "stdout",
     "output_type": "stream",
     "text": [
      "60\n"
     ]
    }
   ],
   "source": [
    "class NumBox:\n",
    "    def __init__(self, num):\n",
    "        self.num = num\n",
    "    \n",
    "    def __radd__(self, num):\n",
    "        self.num += num\n",
    "    \n",
    "    def __rsub__(self, num):\n",
    "        self.num -= num\n",
    "\n",
    "n = NumBox(10)\n",
    "100 + n\n",
    "50 - n\n",
    "print(n.num)"
   ]
  },
  {
   "cell_type": "markdown",
   "id": "threatened-acoustic",
   "metadata": {},
   "source": [
    " - Iterators"
   ]
  },
  {
   "cell_type": "code",
   "execution_count": 8,
   "id": "underlying-planning",
   "metadata": {},
   "outputs": [],
   "source": [
    "s = 'abc'\n",
    "it = iter(s)"
   ]
  },
  {
   "cell_type": "code",
   "execution_count": 9,
   "id": "pleasant-pearl",
   "metadata": {},
   "outputs": [
    {
     "data": {
      "text/plain": [
       "<str_iterator at 0x1d9a21a9280>"
      ]
     },
     "execution_count": 9,
     "metadata": {},
     "output_type": "execute_result"
    }
   ],
   "source": [
    "it"
   ]
  },
  {
   "cell_type": "code",
   "execution_count": 10,
   "id": "challenging-lambda",
   "metadata": {},
   "outputs": [
    {
     "data": {
      "text/plain": [
       "'a'"
      ]
     },
     "execution_count": 10,
     "metadata": {},
     "output_type": "execute_result"
    }
   ],
   "source": [
    "next(it)"
   ]
  },
  {
   "cell_type": "code",
   "execution_count": 11,
   "id": "overall-correction",
   "metadata": {},
   "outputs": [
    {
     "data": {
      "text/plain": [
       "'b'"
      ]
     },
     "execution_count": 11,
     "metadata": {},
     "output_type": "execute_result"
    }
   ],
   "source": [
    "next(it)"
   ]
  },
  {
   "cell_type": "code",
   "execution_count": 12,
   "id": "civilian-prize",
   "metadata": {},
   "outputs": [
    {
     "data": {
      "text/plain": [
       "'c'"
      ]
     },
     "execution_count": 12,
     "metadata": {},
     "output_type": "execute_result"
    }
   ],
   "source": [
    "next(it)"
   ]
  },
  {
   "cell_type": "code",
   "execution_count": 13,
   "id": "analyzed-nutrition",
   "metadata": {},
   "outputs": [
    {
     "ename": "StopIteration",
     "evalue": "",
     "output_type": "error",
     "traceback": [
      "\u001b[1;31m---------------------------------------------------------------------------\u001b[0m",
      "\u001b[1;31mStopIteration\u001b[0m                             Traceback (most recent call last)",
      "\u001b[1;32m<ipython-input-13-bc1ab118995a>\u001b[0m in \u001b[0;36m<module>\u001b[1;34m\u001b[0m\n\u001b[1;32m----> 1\u001b[1;33m \u001b[0mnext\u001b[0m\u001b[1;33m(\u001b[0m\u001b[0mit\u001b[0m\u001b[1;33m)\u001b[0m\u001b[1;33m\u001b[0m\u001b[1;33m\u001b[0m\u001b[0m\n\u001b[0m",
      "\u001b[1;31mStopIteration\u001b[0m: "
     ]
    }
   ],
   "source": [
    "next(it)"
   ]
  },
  {
   "cell_type": "code",
   "execution_count": 14,
   "id": "aquatic-genre",
   "metadata": {},
   "outputs": [],
   "source": [
    "class Reverse:\n",
    "    \n",
    "    def __init__(self, data):\n",
    "        self.data = data\n",
    "        self.index = len(data)\n",
    "        \n",
    "    def __iter__(self):\n",
    "        return self\n",
    "    \n",
    "    def __next__(self):\n",
    "        if self.index == 0:\n",
    "            raise StopIteration\n",
    "        self.index = self.index - 1\n",
    "        return self.data[self.index]"
   ]
  },
  {
   "cell_type": "code",
   "execution_count": 15,
   "id": "amber-bracket",
   "metadata": {},
   "outputs": [
    {
     "name": "stdout",
     "output_type": "stream",
     "text": [
      "m\n",
      "a\n",
      "p\n",
      "s\n"
     ]
    }
   ],
   "source": [
    "rev = Reverse('spam')\n",
    "for char in rev:\n",
    "    print(char)"
   ]
  },
  {
   "cell_type": "markdown",
   "id": "danish-hampshire",
   "metadata": {},
   "source": [
    " - Generators are a simple and powerful tool for creating iterators"
   ]
  },
  {
   "cell_type": "code",
   "execution_count": 17,
   "id": "fatal-cisco",
   "metadata": {},
   "outputs": [],
   "source": [
    "def reverse(data):\n",
    "    for index in range(len(data)-1, -1, -1):\n",
    "        yield data[index]"
   ]
  },
  {
   "cell_type": "code",
   "execution_count": 18,
   "id": "interim-jersey",
   "metadata": {},
   "outputs": [
    {
     "name": "stdout",
     "output_type": "stream",
     "text": [
      "f\n",
      "l\n",
      "o\n",
      "g\n"
     ]
    }
   ],
   "source": [
    "for char in reverse('golf'):\n",
    "    print(char)"
   ]
  },
  {
   "cell_type": "code",
   "execution_count": 19,
   "id": "sudden-disease",
   "metadata": {},
   "outputs": [
    {
     "data": {
      "text/plain": [
       "['f', 'l', 'o', 'g']"
      ]
     },
     "execution_count": 19,
     "metadata": {},
     "output_type": "execute_result"
    }
   ],
   "source": [
    "list(char for char in reverse('golf'))"
   ]
  },
  {
   "cell_type": "markdown",
   "id": "tight-certification",
   "metadata": {},
   "source": [
    "<br>\n",
    "<br>\n",
    "<br>\n",
    "<br>\n",
    "<br>\n",
    "<br>\n",
    "<hr>\n",
    "<br>\n",
    "<br>\n",
    "<br>\n",
    "<br>\n",
    "<br>\n",
    "<br>"
   ]
  },
  {
   "cell_type": "markdown",
   "id": "instant-router",
   "metadata": {},
   "source": [
    "# 13. 예외 처리와 assert"
   ]
  },
  {
   "cell_type": "markdown",
   "id": "ruled-leonard",
   "metadata": {},
   "source": [
    "## - try ~ except"
   ]
  },
  {
   "cell_type": "code",
   "execution_count": 32,
   "id": "offshore-cookie",
   "metadata": {},
   "outputs": [
    {
     "ename": "ZeroDivisionError",
     "evalue": "division by zero",
     "output_type": "error",
     "traceback": [
      "\u001b[1;31m---------------------------------------------------------------------------\u001b[0m",
      "\u001b[1;31mZeroDivisionError\u001b[0m                         Traceback (most recent call last)",
      "\u001b[1;32m<ipython-input-32-e574edb36883>\u001b[0m in \u001b[0;36m<module>\u001b[1;34m\u001b[0m\n\u001b[1;32m----> 1\u001b[1;33m \u001b[1;36m10\u001b[0m\u001b[1;33m/\u001b[0m\u001b[1;36m0\u001b[0m\u001b[1;33m\u001b[0m\u001b[1;33m\u001b[0m\u001b[0m\n\u001b[0m",
      "\u001b[1;31mZeroDivisionError\u001b[0m: division by zero"
     ]
    }
   ],
   "source": [
    "10/0"
   ]
  },
  {
   "cell_type": "code",
   "execution_count": 34,
   "id": "practical-regard",
   "metadata": {},
   "outputs": [
    {
     "ename": "TypeError",
     "evalue": "can only concatenate str (not \"int\") to str",
     "output_type": "error",
     "traceback": [
      "\u001b[1;31m---------------------------------------------------------------------------\u001b[0m",
      "\u001b[1;31mTypeError\u001b[0m                                 Traceback (most recent call last)",
      "\u001b[1;32m<ipython-input-34-d2b23a1db757>\u001b[0m in \u001b[0;36m<module>\u001b[1;34m\u001b[0m\n\u001b[1;32m----> 1\u001b[1;33m \u001b[1;34m'2'\u001b[0m \u001b[1;33m+\u001b[0m \u001b[1;36m2\u001b[0m\u001b[1;33m\u001b[0m\u001b[1;33m\u001b[0m\u001b[0m\n\u001b[0m",
      "\u001b[1;31mTypeError\u001b[0m: can only concatenate str (not \"int\") to str"
     ]
    }
   ],
   "source": [
    "'2' + 2"
   ]
  },
  {
   "cell_type": "code",
   "execution_count": 35,
   "id": "automatic-rwanda",
   "metadata": {},
   "outputs": [
    {
     "ename": "NameError",
     "evalue": "name 'undefined_var' is not defined",
     "output_type": "error",
     "traceback": [
      "\u001b[1;31m---------------------------------------------------------------------------\u001b[0m",
      "\u001b[1;31mNameError\u001b[0m                                 Traceback (most recent call last)",
      "\u001b[1;32m<ipython-input-35-18b5294d1a97>\u001b[0m in \u001b[0;36m<module>\u001b[1;34m\u001b[0m\n\u001b[1;32m----> 1\u001b[1;33m \u001b[0mundefined_var\u001b[0m \u001b[1;33m*\u001b[0m \u001b[1;36m10\u001b[0m\u001b[1;33m\u001b[0m\u001b[1;33m\u001b[0m\u001b[0m\n\u001b[0m",
      "\u001b[1;31mNameError\u001b[0m: name 'undefined_var' is not defined"
     ]
    }
   ],
   "source": [
    "undefined_var * 10"
   ]
  },
  {
   "cell_type": "code",
   "execution_count": 4,
   "id": "gentle-alloy",
   "metadata": {},
   "outputs": [],
   "source": [
    "try:\n",
    "    10/0\n",
    "except:\n",
    "    pass"
   ]
  },
  {
   "cell_type": "code",
   "execution_count": 6,
   "id": "broad-trial",
   "metadata": {},
   "outputs": [
    {
     "name": "stdout",
     "output_type": "stream",
     "text": [
      "before 10/0\n",
      "ERROR\n"
     ]
    }
   ],
   "source": [
    "try:\n",
    "    print(\"before 10/0\")\n",
    "    10/0\n",
    "    print(\"after 10/0\")\n",
    "except:\n",
    "    print(\"ERROR\")"
   ]
  },
  {
   "cell_type": "markdown",
   "id": "distant-canon",
   "metadata": {},
   "source": [
    "## - raise와 다중 except"
   ]
  },
  {
   "cell_type": "markdown",
   "id": "artistic-machine",
   "metadata": {},
   "source": [
    "raise 예약어를 통해 에러를 발생시킬 수 있고 다중 except를 통해 여러 특정 에러에 대한 처리를 선언할 수도 있다."
   ]
  },
  {
   "cell_type": "code",
   "execution_count": 20,
   "id": "basic-gasoline",
   "metadata": {},
   "outputs": [
    {
     "name": "stdout",
     "output_type": "stream",
     "text": [
      "NameError\n",
      "Name Error 발생\n"
     ]
    }
   ],
   "source": [
    "try:\n",
    "    raise NameError(\"Name Error 발생\");\n",
    "except ZeroDivisionError as zde:\n",
    "    print(\"ZeroDivisionError\")\n",
    "    print(zde)\n",
    "except NameError as ne:\n",
    "    print(\"NameError\")\n",
    "    print(ne)"
   ]
  },
  {
   "cell_type": "code",
   "execution_count": 23,
   "id": "vanilla-liberia",
   "metadata": {},
   "outputs": [
    {
     "name": "stdout",
     "output_type": "stream",
     "text": [
      "ZeroDivisionError or IndexError\n"
     ]
    }
   ],
   "source": [
    "try:\n",
    "    toError = [1, 2, 3]\n",
    "    toError[100]\n",
    "except NameError as e:\n",
    "    print(\"NameError\")\n",
    "except (ZeroDivisionError, IndexError) as e:\n",
    "    print(\"ZeroDivisionError or IndexError\")"
   ]
  },
  {
   "cell_type": "code",
   "execution_count": 36,
   "id": "completed-analyst",
   "metadata": {
    "tags": []
   },
   "outputs": [
    {
     "ename": "RuntimeError",
     "evalue": "",
     "output_type": "error",
     "traceback": [
      "\u001b[1;31m---------------------------------------------------------------------------\u001b[0m",
      "\u001b[1;31mOSError\u001b[0m                                   Traceback (most recent call last)",
      "\u001b[1;32m<ipython-input-36-c10cca62ed45>\u001b[0m in \u001b[0;36m<module>\u001b[1;34m\u001b[0m\n\u001b[0;32m      4\u001b[0m \u001b[1;32mtry\u001b[0m\u001b[1;33m:\u001b[0m\u001b[1;33m\u001b[0m\u001b[1;33m\u001b[0m\u001b[0m\n\u001b[1;32m----> 5\u001b[1;33m     \u001b[0mfunc\u001b[0m\u001b[1;33m(\u001b[0m\u001b[1;33m)\u001b[0m\u001b[1;33m\u001b[0m\u001b[1;33m\u001b[0m\u001b[0m\n\u001b[0m\u001b[0;32m      6\u001b[0m \u001b[1;32mexcept\u001b[0m \u001b[0mIOError\u001b[0m \u001b[1;32mas\u001b[0m \u001b[0mexc\u001b[0m\u001b[1;33m:\u001b[0m\u001b[1;33m\u001b[0m\u001b[1;33m\u001b[0m\u001b[0m\n",
      "\u001b[1;32m<ipython-input-36-c10cca62ed45>\u001b[0m in \u001b[0;36mfunc\u001b[1;34m()\u001b[0m\n\u001b[0;32m      1\u001b[0m \u001b[1;32mdef\u001b[0m \u001b[0mfunc\u001b[0m\u001b[1;33m(\u001b[0m\u001b[1;33m)\u001b[0m\u001b[1;33m:\u001b[0m\u001b[1;33m\u001b[0m\u001b[1;33m\u001b[0m\u001b[0m\n\u001b[1;32m----> 2\u001b[1;33m     \u001b[1;32mraise\u001b[0m \u001b[0mIOError\u001b[0m\u001b[1;33m\u001b[0m\u001b[1;33m\u001b[0m\u001b[0m\n\u001b[0m\u001b[0;32m      3\u001b[0m \u001b[1;33m\u001b[0m\u001b[0m\n",
      "\u001b[1;31mOSError\u001b[0m: ",
      "\nDuring handling of the above exception, another exception occurred:\n",
      "\u001b[1;31mRuntimeError\u001b[0m                              Traceback (most recent call last)",
      "\u001b[1;32m<ipython-input-36-c10cca62ed45>\u001b[0m in \u001b[0;36m<module>\u001b[1;34m\u001b[0m\n\u001b[0;32m      5\u001b[0m     \u001b[0mfunc\u001b[0m\u001b[1;33m(\u001b[0m\u001b[1;33m)\u001b[0m\u001b[1;33m\u001b[0m\u001b[1;33m\u001b[0m\u001b[0m\n\u001b[0;32m      6\u001b[0m \u001b[1;32mexcept\u001b[0m \u001b[0mIOError\u001b[0m \u001b[1;32mas\u001b[0m \u001b[0mexc\u001b[0m\u001b[1;33m:\u001b[0m\u001b[1;33m\u001b[0m\u001b[1;33m\u001b[0m\u001b[0m\n\u001b[1;32m----> 7\u001b[1;33m     \u001b[1;32mraise\u001b[0m \u001b[0mRuntimeError\u001b[0m\u001b[1;33m\u001b[0m\u001b[1;33m\u001b[0m\u001b[0m\n\u001b[0m",
      "\u001b[1;31mRuntimeError\u001b[0m: "
     ]
    }
   ],
   "source": [
    "def func():\n",
    "    raise IOErrorx\n",
    "    \n",
    "try:\n",
    "    func()\n",
    "except IOError as exc:\n",
    "    raise RuntimeError"
   ]
  },
  {
   "cell_type": "markdown",
   "id": "random-charter",
   "metadata": {},
   "source": [
    " - raise문은 예외 연쇄를 만드는 선택적 from을 허용\n",
    " - 솔직히 이게 잘 이해도 안되고 오히려 코드 복잡성만 증가할 것 같아서 필요성을 아직 못느끼겠지만 그래도 알게되어서 적어본다"
   ]
  },
  {
   "cell_type": "code",
   "execution_count": 167,
   "id": "alternative-highway",
   "metadata": {},
   "outputs": [
    {
     "ename": "RuntimeError",
     "evalue": "",
     "output_type": "error",
     "traceback": [
      "\u001b[1;31m---------------------------------------------------------------------------\u001b[0m",
      "\u001b[1;31mOSError\u001b[0m                                   Traceback (most recent call last)",
      "\u001b[1;32m<ipython-input-167-9d7ee3ab1fea>\u001b[0m in \u001b[0;36m<module>\u001b[1;34m\u001b[0m\n\u001b[0;32m      4\u001b[0m \u001b[1;32mtry\u001b[0m\u001b[1;33m:\u001b[0m\u001b[1;33m\u001b[0m\u001b[1;33m\u001b[0m\u001b[0m\n\u001b[1;32m----> 5\u001b[1;33m     \u001b[0mfunc\u001b[0m\u001b[1;33m(\u001b[0m\u001b[1;33m)\u001b[0m\u001b[1;33m\u001b[0m\u001b[1;33m\u001b[0m\u001b[0m\n\u001b[0m\u001b[0;32m      6\u001b[0m \u001b[1;32mexcept\u001b[0m \u001b[0mIOError\u001b[0m \u001b[1;32mas\u001b[0m \u001b[0mexc\u001b[0m\u001b[1;33m:\u001b[0m\u001b[1;33m\u001b[0m\u001b[1;33m\u001b[0m\u001b[0m\n",
      "\u001b[1;32m<ipython-input-167-9d7ee3ab1fea>\u001b[0m in \u001b[0;36mfunc\u001b[1;34m()\u001b[0m\n\u001b[0;32m      1\u001b[0m \u001b[1;32mdef\u001b[0m \u001b[0mfunc\u001b[0m\u001b[1;33m(\u001b[0m\u001b[1;33m)\u001b[0m\u001b[1;33m:\u001b[0m\u001b[1;33m\u001b[0m\u001b[1;33m\u001b[0m\u001b[0m\n\u001b[1;32m----> 2\u001b[1;33m     \u001b[1;32mraise\u001b[0m \u001b[0mIOError\u001b[0m\u001b[1;33m\u001b[0m\u001b[1;33m\u001b[0m\u001b[0m\n\u001b[0m\u001b[0;32m      3\u001b[0m \u001b[1;33m\u001b[0m\u001b[0m\n",
      "\u001b[1;31mOSError\u001b[0m: ",
      "\nThe above exception was the direct cause of the following exception:\n",
      "\u001b[1;31mRuntimeError\u001b[0m                              Traceback (most recent call last)",
      "\u001b[1;32m<ipython-input-167-9d7ee3ab1fea>\u001b[0m in \u001b[0;36m<module>\u001b[1;34m\u001b[0m\n\u001b[0;32m      5\u001b[0m     \u001b[0mfunc\u001b[0m\u001b[1;33m(\u001b[0m\u001b[1;33m)\u001b[0m\u001b[1;33m\u001b[0m\u001b[1;33m\u001b[0m\u001b[0m\n\u001b[0;32m      6\u001b[0m \u001b[1;32mexcept\u001b[0m \u001b[0mIOError\u001b[0m \u001b[1;32mas\u001b[0m \u001b[0mexc\u001b[0m\u001b[1;33m:\u001b[0m\u001b[1;33m\u001b[0m\u001b[1;33m\u001b[0m\u001b[0m\n\u001b[1;32m----> 7\u001b[1;33m     \u001b[1;32mraise\u001b[0m \u001b[0mRuntimeError\u001b[0m \u001b[1;32mfrom\u001b[0m \u001b[0mexc\u001b[0m\u001b[1;33m\u001b[0m\u001b[1;33m\u001b[0m\u001b[0m\n\u001b[0m",
      "\u001b[1;31mRuntimeError\u001b[0m: "
     ]
    }
   ],
   "source": [
    "def func():\n",
    "    raise IOError\n",
    "    \n",
    "try:\n",
    "    func()\n",
    "except IOError as exc:\n",
    "    raise RuntimeError from exc"
   ]
  },
  {
   "cell_type": "markdown",
   "id": "interracial-spoke",
   "metadata": {},
   "source": [
    "## - try ~ except ~ else"
   ]
  },
  {
   "cell_type": "markdown",
   "id": "living-popularity",
   "metadata": {},
   "source": [
    " - 에러가 발생한 경우와 발생하지 않은 경우를 나누어 처리할 수 있다"
   ]
  },
  {
   "cell_type": "code",
   "execution_count": 11,
   "id": "fleet-revolution",
   "metadata": {},
   "outputs": [
    {
     "name": "stdout",
     "output_type": "stream",
     "text": [
      "GOOD\n"
     ]
    }
   ],
   "source": [
    "try:\n",
    "    10/1\n",
    "except:\n",
    "    print(\"ERROR\")\n",
    "else:\n",
    "    print(\"GOOD\")"
   ]
  },
  {
   "cell_type": "markdown",
   "id": "broken-observer",
   "metadata": {},
   "source": [
    "## - try ~ except ~ else ~ finally"
   ]
  },
  {
   "cell_type": "markdown",
   "id": "virtual-conservation",
   "metadata": {},
   "source": [
    " - finally는 에러가 걸리던 안 걸리던 최종적으로 실행시키는 예약어이다"
   ]
  },
  {
   "cell_type": "code",
   "execution_count": 13,
   "id": "available-tradition",
   "metadata": {},
   "outputs": [
    {
     "name": "stdout",
     "output_type": "stream",
     "text": [
      "GOOD\n",
      "DO THIS ANYWAY\n"
     ]
    }
   ],
   "source": [
    "try:\n",
    "    10/1\n",
    "except:\n",
    "    print(\"ERROR\")\n",
    "else:\n",
    "    print(\"GOOD\")\n",
    "finally:\n",
    "    print(\"DO THIS ANYWAY\")"
   ]
  },
  {
   "cell_type": "code",
   "execution_count": 17,
   "id": "developmental-combination",
   "metadata": {},
   "outputs": [
    {
     "name": "stdout",
     "output_type": "stream",
     "text": [
      "ERROR\n",
      "DO THIS ANYWAY\n"
     ]
    }
   ],
   "source": [
    "try:\n",
    "    10/0\n",
    "except:\n",
    "    print(\"ERROR\")\n",
    "else:\n",
    "    print(\"GOOD\")\n",
    "finally:\n",
    "    print(\"DO THIS ANYWAY\")"
   ]
  },
  {
   "cell_type": "markdown",
   "id": "disciplinary-antibody",
   "metadata": {},
   "source": [
    " - 함수의 return을 만나도 finally가 우선처리가 된다"
   ]
  },
  {
   "cell_type": "code",
   "execution_count": 16,
   "id": "charming-while",
   "metadata": {},
   "outputs": [
    {
     "data": {
      "text/plain": [
       "'DO THIS ANYWAY'"
      ]
     },
     "execution_count": 16,
     "metadata": {},
     "output_type": "execute_result"
    }
   ],
   "source": [
    "def myFunc():\n",
    "    try:\n",
    "        return 10/0\n",
    "    except:\n",
    "        return \"ERROR\"\n",
    "    else:\n",
    "        return \"GOOD\"\n",
    "    finally:\n",
    "        return \"DO THIS ANYWAY\"\n",
    "\n",
    "myFunc()"
   ]
  },
  {
   "cell_type": "code",
   "execution_count": 24,
   "id": "unknown-pillow",
   "metadata": {},
   "outputs": [
    {
     "name": "stdout",
     "output_type": "stream",
     "text": [
      "DO THIS ANYWAY\n"
     ]
    },
    {
     "data": {
      "text/plain": [
       "'ERROR'"
      ]
     },
     "execution_count": 24,
     "metadata": {},
     "output_type": "execute_result"
    }
   ],
   "source": [
    "def myFunc():\n",
    "    try:\n",
    "        return 10/0\n",
    "    except:\n",
    "        return \"ERROR\"\n",
    "    else:\n",
    "        return \"GOOD\"\n",
    "    finally:\n",
    "        print(\"DO THIS ANYWAY\")\n",
    "\n",
    "myFunc()"
   ]
  },
  {
   "cell_type": "markdown",
   "id": "sealed-snowboard",
   "metadata": {},
   "source": [
    "## - 사용자 정의 에러 처리"
   ]
  },
  {
   "cell_type": "code",
   "execution_count": 150,
   "id": "thermal-housing",
   "metadata": {},
   "outputs": [
    {
     "name": "stdout",
     "output_type": "stream",
     "text": [
      "B\n",
      "C\n",
      "D\n"
     ]
    }
   ],
   "source": [
    "class B(Exception):\n",
    "    pass\n",
    "\n",
    "class C(B):\n",
    "    pass\n",
    "\n",
    "class D(C):\n",
    "    pass\n",
    "\n",
    "for cls in [B, C, D]:\n",
    "    try:\n",
    "        raise cls()\n",
    "    except D:\n",
    "        print(\"D\")\n",
    "    except C:\n",
    "        print(\"C\")\n",
    "    except B:\n",
    "        print(\"B\")"
   ]
  },
  {
   "cell_type": "markdown",
   "id": "classical-bennett",
   "metadata": {},
   "source": [
    "## - assert"
   ]
  },
  {
   "cell_type": "markdown",
   "id": "hollywood-shooting",
   "metadata": {},
   "source": [
    "조건이 false면 AssertionError를 발생시킨다"
   ]
  },
  {
   "cell_type": "code",
   "execution_count": 26,
   "id": "rising-organ",
   "metadata": {},
   "outputs": [],
   "source": [
    "assert 2 == 2"
   ]
  },
  {
   "cell_type": "code",
   "execution_count": 28,
   "id": "rising-somalia",
   "metadata": {},
   "outputs": [
    {
     "ename": "AssertionError",
     "evalue": "",
     "output_type": "error",
     "traceback": [
      "\u001b[1;31m---------------------------------------------------------------------------\u001b[0m",
      "\u001b[1;31mAssertionError\u001b[0m                            Traceback (most recent call last)",
      "\u001b[1;32m<ipython-input-28-ce781a32d075>\u001b[0m in \u001b[0;36m<module>\u001b[1;34m\u001b[0m\n\u001b[1;32m----> 1\u001b[1;33m \u001b[1;32massert\u001b[0m \u001b[1;36m1\u001b[0m \u001b[1;33m==\u001b[0m \u001b[1;36m2\u001b[0m\u001b[1;33m\u001b[0m\u001b[1;33m\u001b[0m\u001b[0m\n\u001b[0m",
      "\u001b[1;31mAssertionError\u001b[0m: "
     ]
    }
   ],
   "source": [
    "assert 1 == 2"
   ]
  },
  {
   "cell_type": "code",
   "execution_count": 31,
   "id": "distributed-decade",
   "metadata": {},
   "outputs": [
    {
     "ename": "AssertionError",
     "evalue": "AssertionError 메시지 설정",
     "output_type": "error",
     "traceback": [
      "\u001b[1;31m---------------------------------------------------------------------------\u001b[0m",
      "\u001b[1;31mAssertionError\u001b[0m                            Traceback (most recent call last)",
      "\u001b[1;32m<ipython-input-31-d5c01840543a>\u001b[0m in \u001b[0;36m<module>\u001b[1;34m\u001b[0m\n\u001b[1;32m----> 1\u001b[1;33m \u001b[1;32massert\u001b[0m  \u001b[1;36m2\u001b[0m \u001b[1;33m!=\u001b[0m \u001b[1;36m2\u001b[0m \u001b[1;33m,\u001b[0m\u001b[1;34m\"AssertionError 메시지 설정\"\u001b[0m\u001b[1;33m\u001b[0m\u001b[1;33m\u001b[0m\u001b[0m\n\u001b[0m",
      "\u001b[1;31mAssertionError\u001b[0m: AssertionError 메시지 설정"
     ]
    }
   ],
   "source": [
    "assert  2 != 2 ,\"AssertionError 메시지 설정\""
   ]
  },
  {
   "cell_type": "markdown",
   "id": "bronze-walker",
   "metadata": {},
   "source": [
    "<br>\n",
    "<br>\n",
    "<br>\n",
    "<br>\n",
    "<br>\n",
    "<br>\n",
    "<hr>\n",
    "<br>\n",
    "<br>\n",
    "<br>\n",
    "<br>\n",
    "<br>\n",
    "<br>"
   ]
  },
  {
   "cell_type": "markdown",
   "id": "advisory-metallic",
   "metadata": {},
   "source": [
    "# 14. 더 나은 파이썬 활용"
   ]
  },
  {
   "cell_type": "code",
   "execution_count": null,
   "id": "approximate-scanner",
   "metadata": {},
   "outputs": [],
   "source": []
  },
  {
   "cell_type": "code",
   "execution_count": null,
   "id": "configured-chuck",
   "metadata": {},
   "outputs": [],
   "source": []
  },
  {
   "cell_type": "code",
   "execution_count": null,
   "id": "african-curtis",
   "metadata": {},
   "outputs": [],
   "source": []
  },
  {
   "cell_type": "code",
   "execution_count": null,
   "id": "handmade-specialist",
   "metadata": {},
   "outputs": [],
   "source": []
  },
  {
   "cell_type": "code",
   "execution_count": null,
   "id": "operating-finger",
   "metadata": {},
   "outputs": [],
   "source": []
  },
  {
   "cell_type": "code",
   "execution_count": null,
   "id": "north-antenna",
   "metadata": {},
   "outputs": [],
   "source": []
  },
  {
   "cell_type": "code",
   "execution_count": null,
   "id": "broadband-sunrise",
   "metadata": {},
   "outputs": [],
   "source": []
  },
  {
   "cell_type": "markdown",
   "id": "comparative-november",
   "metadata": {},
   "source": [
    "<br>\n",
    "<br>\n",
    "<br>\n",
    "<br>\n",
    "<br>\n",
    "<br>\n",
    "<hr>\n",
    "<br>\n",
    "<br>\n",
    "<br>\n",
    "<br>\n",
    "<br>\n",
    "<br>"
   ]
  },
  {
   "cell_type": "markdown",
   "id": "incident-flush",
   "metadata": {},
   "source": [
    "# Built-in 함수\n",
    "\n",
    "https://docs.python.org/3/library/functions.html"
   ]
  },
  {
   "cell_type": "markdown",
   "id": "outer-hammer",
   "metadata": {},
   "source": [
    "### * sum"
   ]
  },
  {
   "cell_type": "code",
   "execution_count": 22,
   "id": "nominated-modern",
   "metadata": {},
   "outputs": [
    {
     "data": {
      "text/plain": [
       "145"
      ]
     },
     "execution_count": 22,
     "metadata": {},
     "output_type": "execute_result"
    }
   ],
   "source": [
    "sum(range(10,20))"
   ]
  },
  {
   "cell_type": "code",
   "execution_count": 20,
   "id": "innovative-university",
   "metadata": {},
   "outputs": [
    {
     "data": {
      "text/plain": [
       "100"
      ]
     },
     "execution_count": 20,
     "metadata": {},
     "output_type": "execute_result"
    }
   ],
   "source": [
    "sum([10, 20, 30, 40])"
   ]
  },
  {
   "cell_type": "markdown",
   "id": "handmade-history",
   "metadata": {},
   "source": [
    "### * max"
   ]
  },
  {
   "cell_type": "markdown",
   "id": "military-excess",
   "metadata": {},
   "source": []
  },
  {
   "cell_type": "markdown",
   "id": "distant-grain",
   "metadata": {},
   "source": [
    "### * min"
   ]
  },
  {
   "cell_type": "markdown",
   "id": "laden-perception",
   "metadata": {},
   "source": []
  },
  {
   "cell_type": "markdown",
   "id": "familiar-needle",
   "metadata": {},
   "source": [
    "### * abs"
   ]
  },
  {
   "cell_type": "markdown",
   "id": "massive-genetics",
   "metadata": {},
   "source": []
  },
  {
   "cell_type": "markdown",
   "id": "electronic-projection",
   "metadata": {},
   "source": [
    "### * pow"
   ]
  },
  {
   "cell_type": "markdown",
   "id": "french-california",
   "metadata": {},
   "source": []
  },
  {
   "cell_type": "markdown",
   "id": "everyday-conference",
   "metadata": {},
   "source": [
    "### * divmod"
   ]
  },
  {
   "cell_type": "code",
   "execution_count": 11,
   "id": "noticed-jacksonville",
   "metadata": {},
   "outputs": [
    {
     "data": {
      "text/plain": [
       "(3, 1)"
      ]
     },
     "execution_count": 11,
     "metadata": {},
     "output_type": "execute_result"
    }
   ],
   "source": [
    "divmod(10, 3)"
   ]
  },
  {
   "cell_type": "code",
   "execution_count": 13,
   "id": "resistant-robinson",
   "metadata": {},
   "outputs": [
    {
     "data": {
      "text/plain": [
       "(3, 1)"
      ]
     },
     "execution_count": 13,
     "metadata": {},
     "output_type": "execute_result"
    }
   ],
   "source": [
    "10 // 3, 10 % 3"
   ]
  },
  {
   "cell_type": "markdown",
   "id": "everyday-luther",
   "metadata": {},
   "source": [
    "### * round"
   ]
  },
  {
   "cell_type": "code",
   "execution_count": 15,
   "id": "sexual-companion",
   "metadata": {},
   "outputs": [
    {
     "data": {
      "text/plain": [
       "6"
      ]
     },
     "execution_count": 15,
     "metadata": {},
     "output_type": "execute_result"
    }
   ],
   "source": [
    "round(5.5)"
   ]
  },
  {
   "cell_type": "code",
   "execution_count": 17,
   "id": "consistent-tattoo",
   "metadata": {},
   "outputs": [
    {
     "data": {
      "text/plain": [
       "6"
      ]
     },
     "execution_count": 17,
     "metadata": {},
     "output_type": "execute_result"
    }
   ],
   "source": [
    "round(6.5)"
   ]
  },
  {
   "cell_type": "markdown",
   "id": "radical-funeral",
   "metadata": {},
   "source": [
    "짝수일 경우 내리고 홀수일 경우 올린다"
   ]
  },
  {
   "cell_type": "markdown",
   "id": "biological-begin",
   "metadata": {},
   "source": [
    "<br>\n",
    "<br>\n",
    "<br>\n",
    "<br>\n",
    "<br>\n",
    "<br>\n",
    "<hr>\n",
    "<br>\n",
    "<br>\n",
    "<br>\n",
    "<br>\n",
    "<br>\n",
    "<br>"
   ]
  },
  {
   "cell_type": "markdown",
   "id": "immediate-violin",
   "metadata": {},
   "source": [
    "클래스\n",
    " - `...`\n",
    " - 메타클래스\n",
    " - 연산자 오버로딩\n",
    " - 데코레이터\n",
    "\n",
    "더 나은 파이썬 활용\n",
    " - 파일 입출력\n",
    "    - with ~ as\n",
    "    - json\n",
    " - 이터레이터\n",
    " - 제너레이터\n",
    " - 비동기 async\n",
    " - 가상환경\n",
    " - 빌트인 함수와 표준 라이브러리\n",
    " - 날짜 다루기"
   ]
  },
  {
   "cell_type": "code",
   "execution_count": null,
   "id": "aquatic-luxembourg",
   "metadata": {},
   "outputs": [],
   "source": []
  },
  {
   "cell_type": "markdown",
   "id": "twenty-authorization",
   "metadata": {},
   "source": [
    "### 정규표현식\n",
    "### 크롤링"
   ]
  },
  {
   "cell_type": "code",
   "execution_count": null,
   "id": "trying-malawi",
   "metadata": {},
   "outputs": [],
   "source": []
  },
  {
   "cell_type": "markdown",
   "id": "declared-cause",
   "metadata": {},
   "source": [
    "### Numpy\n",
    "### Pandas\n",
    "### Matplotlib"
   ]
  },
  {
   "cell_type": "code",
   "execution_count": null,
   "id": "laughing-express",
   "metadata": {},
   "outputs": [],
   "source": []
  }
 ],
 "metadata": {
  "kernelspec": {
   "display_name": "Python 3",
   "language": "python",
   "name": "python3"
  },
  "language_info": {
   "codemirror_mode": {
    "name": "ipython",
    "version": 3
   },
   "file_extension": ".py",
   "mimetype": "text/x-python",
   "name": "python",
   "nbconvert_exporter": "python",
   "pygments_lexer": "ipython3",
   "version": "3.9.2"
  }
 },
 "nbformat": 4,
 "nbformat_minor": 5
}
