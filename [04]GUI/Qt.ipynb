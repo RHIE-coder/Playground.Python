{
 "cells": [
  {
   "cell_type": "markdown",
   "id": "9106d61f-e35a-4239-9bfd-a0c2d2a52b82",
   "metadata": {
    "tags": []
   },
   "source": [
    "# [Python GUI Tools]\n",
    "\n",
    "## _파이썬 GUI 프로그래밍의 대표 툴킷_\n",
    " - [PyQT](https://riverbankcomputing.com/software/pyqt/intro/)\n",
    " - [PySide](https://doc.qt.io/qtforpython/)\n",
    "\n",
    "## _About Qt : PyQT vs. PySide_\n",
    "\n",
    "Qt is a cross-platform application and graphical user interface (GUI) framework, a toolkit, that is used for developing software that can be run on different hardware platforms and operating systems. Qt makes it easy to develop software with native-looking (to the OS it is running on) GUIs using standard C++, which is why it is also classified as a widget toolkit.\n",
    "\n",
    "**Qt**는 노르웨이 회사 트톨텍(```Trolltech```)에 의해 개발된 GUI 프로그램 개발에 널리 쓰이는 C++ 기반의 크로스 플랫폼 프레임워크이다.\n",
    "\n",
    "(크로스 플랫폼이란 Windows, MacOS, Linux 등 OS 플랫폼 환경과 상관없이 동일한 코드로 사용할 수 있는 플랫폼을 말한다. Qt는 심지어 안드로이드, iOS들도 지원한다고 한다)\n",
    "\n",
    "**Qt**는 C++을 사용하지만 Python, Ruby, C, Perl, Pascal과도 연동(Binding)된다.\n",
    "\n",
    "**PyQT**는 영국의 Riverbank Computing Limited에서 개발되었고 꽤 오랫동안 사용되어져 왔다.\n",
    "\n",
    "**Qt**는 2008년 1월 노키아(Nokia)에 인수되었다. 즉, 이 때 노키아로 Qt 저작권이 넘어간 것이다. \n",
    "\n",
    "**PySide**는 Nokia가 핀란드 소프트웨어 회사 Qt를 소유할 때 개발한 툴킷이다. \n",
    "\n",
    "PyQt와 PySide의 큰 차이점은 라이센스이다. PyQT는 GPL와 상용 라이선스로 제공되고 PySide는 LGPL 라이선스로 제공된다.\n",
    "\n",
    "LGPL은 상용으로 사용 가능하면서 소스공개를 하지 않아도 된다. GPL은 오픈소스 프로그램을 위한 라이센스이며 상업적으로 배포된 프로그램의 소스코드를 변경할 수 있고, 개발한 소스코드를 공개할 의무가 있으며 GPL의 범위를 벗어나서 사용을 하려면 라이센스를 구매해야한다. 따라서 상업적인 목적으로 개발할 경우 PySide를 이용하는 것이 유리하다.\n",
    "\n",
    " - Riverbank Computing에서 발췌한 내용\n",
    "\n",
    "```\n",
    "PyQt is dual licensed on all supported platforms under the GNU GPL v3 and the Riverbank Commercial License. Unlike Qt, PyQt is not available under the LGPL. You can purchase the commercial version\n",
    "```\n",
    "\n",
    "Qt for Python. 즉, Qt의 Python 바인딩을 중요하게 생각했던 노키아가 이미 Qt를 기반으로 PyQt를 개발한 Riverbank 회사와 컨택하여 LGPL라이센스 도입을 요구했지만 이를 받아들이지 않자 LGPL 라이센스 기반 PySide라는 Qt의 Python 바인딩 프로젝트를 개발하였다. (side는 필란드어로 binding을 뜻한다)\n",
    "\n",
    "노키아가 Qt를 포기하면서 2012년 8월 Qt를 핀란드 회사 Digia가 인수함에 따라 PySide 프로젝트의 생태계의 소유권이 바뀌게 되었다.\n",
    "\n",
    "현재(2021년)는 각각 PyQt6, PySide6의 버전으로 제공되고 있으며 특히 인상적인 점은 PySide2에서 PySide6로 버전 숫자가 크게 뛰었는데 Qt의 버전 넘버링을 따라가겠다는 의지로 보인다."
   ]
  },
  {
   "cell_type": "markdown",
   "id": "711e9fd5-ff00-482b-9e6b-fffb2a86eb01",
   "metadata": {},
   "source": [
    "<br><br><br><br><br>\n",
    "<hr>\n",
    "<br><br><br><br><br>"
   ]
  },
  {
   "cell_type": "markdown",
   "id": "c5914d32-ffaf-46e3-af45-368fbe8d3959",
   "metadata": {},
   "source": [
    "# [PySide6 : Getting Started]\n",
    "\n",
    "## _install_\n",
    "\n",
    "```cmd\n",
    "pip install PySide6\n",
    "```\n",
    "\n",
    "- optional\n",
    "```cmd\n",
    "python -m venv gui-tutorial\n",
    "gui-tutorial/Scripts/activate.bat\n",
    "pip install ipykernel\n",
    "python -m ipykernel install --user --name [virtualEnv] --display-name \"[displayKenrelName]\"\n",
    "```"
   ]
  },
  {
   "cell_type": "markdown",
   "id": "a625fb42-0d53-42e7-8476-d680b08a0a8a",
   "metadata": {},
   "source": [
    "```cmd\n",
    "python -m ipykernel install --user --name gui-tutorial --display-name \"Qt\"\n",
    "\n",
    "    Installed kernelspec gui-tutorial in C:\\Users\\quoti\\AppData\\Roaming\\jupyter\\kernels\\gui-tutorial\n",
    "    \n",
    "주피터 새로고침 후 Select Kernel\n",
    "```"
   ]
  },
  {
   "cell_type": "markdown",
   "id": "df33347c-d363-4ecd-9de7-a79a131a3ee9",
   "metadata": {
    "tags": []
   },
   "source": [
    "## _Getting Started : Simple App_"
   ]
  },
  {
   "cell_type": "markdown",
   "id": "33a617ff-1922-4825-b945-d35a48a0978d",
   "metadata": {},
   "source": [
    "PySide6가 잘 설치되었는지 확인해보자"
   ]
  },
  {
   "cell_type": "code",
   "execution_count": 1,
   "id": "59d3e6c5-2f64-475c-a83b-f8426d633bb3",
   "metadata": {},
   "outputs": [
    {
     "name": "stdout",
     "output_type": "stream",
     "text": [
      "6.1.3\n",
      "6.1.3\n"
     ]
    }
   ],
   "source": [
    "import PySide6.QtCore\n",
    "\n",
    "# Prints PySide6 version\n",
    "print(PySide6.__version__)\n",
    "\n",
    "# Prints the Qt version used to compile PySide6\n",
    "print(PySide6.QtCore.__version__)"
   ]
  },
  {
   "cell_type": "markdown",
   "id": "2311f9b8-0ed9-4fca-8ab0-c3506f955497",
   "metadata": {},
   "source": [
    "```python\n",
    "import sys\n",
    "import random\n",
    "from PySide6 import QtCore, QtWidgets, QtGui\n",
    "\n",
    "class MyWidget(QtWidgets.QWidget):\n",
    "    def __init__(self):\n",
    "        super().__init__()\n",
    "\n",
    "        self.hello = [\"Hallo Welt\", \"Hei maailma\", \"Hola Mundo\", \"Привет мир\"]\n",
    "\n",
    "        self.button = QtWidgets.QPushButton(\"Click me!\")\n",
    "        self.text = QtWidgets.QLabel(\"Hello World\",\n",
    "                                     alignment=QtCore.Qt.AlignCenter)\n",
    "\n",
    "        self.layout = QtWidgets.QVBoxLayout(self)\n",
    "        self.layout.addWidget(self.text)\n",
    "        self.layout.addWidget(self.button)\n",
    "\n",
    "        self.button.clicked.connect(self.magic)\n",
    "\n",
    "    @QtCore.Slot()\n",
    "    def magic(self):\n",
    "        self.text.setText(random.choice(self.hello))\n",
    "        \n",
    "if __name__ == \"__main__\":\n",
    "    app = QtWidgets.QApplication([])\n",
    "\n",
    "    widget = MyWidget()\n",
    "    widget.resize(800, 600)\n",
    "    widget.show()\n",
    "\n",
    "    sys.exit(app.exec())\n",
    "```"
   ]
  },
  {
   "cell_type": "code",
   "execution_count": null,
   "id": "2a88f937-634b-4155-9556-f09bf3eea34b",
   "metadata": {},
   "outputs": [],
   "source": []
  }
 ],
 "metadata": {
  "kernelspec": {
   "display_name": "Qt",
   "language": "python",
   "name": "gui-tutorial"
  },
  "language_info": {
   "codemirror_mode": {
    "name": "ipython",
    "version": 3
   },
   "file_extension": ".py",
   "mimetype": "text/x-python",
   "name": "python",
   "nbconvert_exporter": "python",
   "pygments_lexer": "ipython3",
   "version": "3.9.7"
  }
 },
 "nbformat": 4,
 "nbformat_minor": 5
}
